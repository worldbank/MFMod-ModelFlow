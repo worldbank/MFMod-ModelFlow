{
 "cells": [
  {
   "cell_type": "markdown",
   "id": "5ce769c2",
   "metadata": {},
   "source": [
    "# Some Standardized shocks to illustrate the main macroeconomic features of the model\n",
    "\n",
    "This notebook performs a set of standard macroeconomic shocks on a model and displays results.  It can be used to verify the good functioning of the model and also illustrates nicely how to perform simulations on World Bank models in python using the `modelflow` package.\n",
    "\n",
    "The simulations performed are:\n",
    "\n",
    "* 5 separate stimulus shocks equal to 1 percent of *ex ante* GDP.  These can be used to compare fiscal multipliers and the impacts of different kinds of stimulus on GDP, potential GDP, consumption and inflation\n",
    "    * a 1 percent of GDP decrease in indirect taxes\n",
    "    * a 1 percent of GDP decrease in direct taxes\n",
    "    * a 1 percent of GDP increase in government spending on goods and services\n",
    "    * a 1 percent of GDP increase in government spending on investment goods\n",
    "    * a 1 percent of GDP increase in government spending on transfers to households\n",
    "* 4 non-fiscal shocks were also run\n",
    "    * a temporary one-year 1 percent increase in the monetary policy interest rate;\n",
    "    * a permanent 10 percent depreciation of the currency\n",
    "    * a permanent one percent increase in total factor productivity;\n",
    "    * a permanent \\$20 increase in the price of crude oil\n",
    "\n",
    "**Note:**\n",
    "This Notebook is designed to be run on any World Bank model. To customize the notebook to run on a different model, the string variable (`Cty`), which is defined in section 1.1 will have to be changed to take the value of the Mnemonic of the country to be simulated. Similarly the location of the file containing the model may have to be revised.   While  the World Bank mnemonics are the same across countries, not all countries report all variables.  As a result for some models, some variable names (notably those of shocked variables or the expenditure variables being held constant) may need to be revised. Otherwise the Notebook should run without change on any World Bank model."
   ]
  },
  {
   "cell_type": "markdown",
   "id": "c35bc028",
   "metadata": {},
   "source": [
    "## Set up python environment and load model object\n",
    "\n",
    "To work with modelflow we must first import the python libraries that we wish to work with and then instantiate the model object, which we have chose to call `themodel`;"
   ]
  },
  {
   "cell_type": "code",
   "execution_count": 1,
   "id": "55bd5f82",
   "metadata": {},
   "outputs": [
    {
     "name": "stdout",
     "output_type": "stream",
     "text": [
      "no update sheets No module named 'ipydatagrid'\n",
      "No modelwidgets\n"
     ]
    }
   ],
   "source": [
    "from modelclass import model"
   ]
  },
  {
   "cell_type": "code",
   "execution_count": 2,
   "id": "72b2af3d",
   "metadata": {},
   "outputs": [],
   "source": [
    "#Jupyter notebook code that improves the look of the executed notebook\n",
    "%load_ext autoreload\n",
    "%autoreload 2"
   ]
  },
  {
   "cell_type": "code",
   "execution_count": 3,
   "id": "08d78aad",
   "metadata": {},
   "outputs": [
    {
     "name": "stdout",
     "output_type": "stream",
     "text": [
      "Zipped file read:  data\\TUR.pcim\n",
      "Model:Turkey model Charl May27  2025\n"
     ]
    }
   ],
   "source": [
    "#Set this variable to the three-letter ISO of the country whose model is being simulated\n",
    "cty=\"TUR\" \n",
    "# Models downloaded from the World Bank web site using the model.download_github_repo(reset=1) method of modelflow and\n",
    "# executing this file from the local version of the file stored on their computer shuold not have to changethe filepath varible\n",
    "filepath=f'data/{cty}'\n",
    "themodel,bline = model.modelload(filepath,run=True,keep='Baseline') "
   ]
  },
  {
   "cell_type": "code",
   "execution_count": 4,
   "id": "58bf952d",
   "metadata": {},
   "outputs": [],
   "source": [
    "# Replace default definitions / descriptions with more concise versions\n",
    "custom_description = {\n",
    "    f'{cty}NECONPRVTXN': \"Inflation\",\n",
    "    f'{cty}NYGDPMKTPCN': \"Nominal GDP\",\n",
    "    f'{cty}GGEXPTOTLCN': \"Government spending\",\n",
    "    f'{cty}GGEXPINTPCN': \"Government interest payments\",\n",
    "    f'{cty}GGREVTOTLCN': \"Government revenues\",\n",
    "    f'{cty}GGBALOVRLCN': \"Fiscal balance\",\n",
    "    f'{cty}GGDBTTOTLCN_': \"Public debt (% GDP)\" ,      \n",
    "    f'{cty}NYGDPMKTPKN': \"Real GDP\",    \n",
    "    f'{cty}NECONPRVTKN': \"Real HH Expenditure\",\n",
    "    f'{cty}NYGDPPOTLKN': \"Real potential output\",\n",
    "    f'{cty}NEGDIFTOTKN': \"Real investment\",\n",
    "    f'{cty}NEEXPGNFSKN': \"Real exports G&S\",\n",
    "    f'{cty}NEIMPGNFSKN': \"Real imports G&S\",\n",
    "    f'{cty}GGDBTTOTLCN_': \"Public debt (% GDP)\",\n",
    "    f'{cty}GGEXPINFRCN': \"Investment in Infratstructure\",\n",
    "    f'{cty}GGEXPNINFRCN': \"Non-infrasturcture Investment\",\n",
    "    f'{cty}GGBALPRIMCN' : \"Primary Balance\" ,\n",
    "    f'{cty}GGBALPRIMCN_' : \"Primary Balance (% of GDP)\" \n",
    "}"
   ]
  },
  {
   "cell_type": "markdown",
   "id": "e58f84ed",
   "metadata": {},
   "source": [
    "## Prepare the simulations\n",
    "\n",
    "For each shock, a separate `DataFrame` is created. Each of these `DataFrames` is given a name that evokes the shock to be performed. Then each `DataFrame` is modified to reflect the shock that is to be performed.\n",
    "\n",
    "Following the creation of the `DataFrames` the shocks will be performed and the results stored using the `keep=` syntax of model flow.\n",
    "\n",
    "### Fiscal policy shocks\n",
    "\n",
    "If necessary, the two lines below can be uncommented in order to generate a list of all variables in the model that start GGEXP (general government expenditure) and GGREV (general government revenues) and that end CN (millions of current local currency units)."
   ]
  },
  {
   "cell_type": "code",
   "execution_count": 5,
   "id": "d13f54fb",
   "metadata": {},
   "outputs": [
    {
     "name": "stdout",
     "output_type": "stream",
     "text": [
      "TURGGEXPCOEPCN  : Gov compensation of employees\n",
      "TURGGEXPGNFSCN  : Expenditure on goods and services\n",
      "TURGGEXPINFRCN  : TURGGEXPINFRCN\n",
      "TURGGEXPNINFRCN : TURGGEXPNINFRCN\n",
      "TURGGEXPOTHRCN  : TURGGEXPOTHRCN\n",
      "TURGGEXPPINTCN  : Interest expenses by government\n",
      "TURGGEXPPUBCN   : Public investment\n",
      "TURGGEXPRECVCN  : Funds that you get for spending\n",
      "TURGGEXPSOCLCN  : Sosical expenditure\n",
      "TURGGEXPTOTLCN  : Total expenditure\n",
      "TURGGEXPTRNSFCN : Transfers by public\n"
     ]
    }
   ],
   "source": [
    "\n",
    "themodel[f'{cty}GGEXP*CN'].des #Uncomment to get list of mnemonics and descriptions for government expenditures\n",
    "#themodel[f'{cty}GGREV*CN'].des #Uncomment to get list of mnemonics and descriptions for government revenues"
   ]
  },
  {
   "cell_type": "markdown",
   "id": "14190312",
   "metadata": {},
   "source": [
    "#### Create an expenditures string\n",
    "\n",
    "The fiscal scenarios below exogenize (hold constant) spending on those elements of government spending that are not being directly shocked.\n",
    "\n",
    "To facilitate that, the variable `GGexp` is assigned a string containing all of the expenditure variables that are to be held constant.  This variable is then used when setting up each of the fiscal shocks below. \n",
    "\n",
    "This list may need to be adjusted from model to model."
   ]
  },
  {
   "cell_type": "code",
   "execution_count": 6,
   "id": "f22e5ab0",
   "metadata": {
    "slideshow": {
     "slide_type": ""
    }
   },
   "outputs": [],
   "source": [
    "# Government spending variables to be held constant\n",
    "#GGexp=f'{cty}GGEXPPUBCN {cty}GGEXPGNFSCN {cty}GGEXPOTHRCN {cty}GGEXPTRNSFCN {cty}GGEXPSOCLCN {cty}GGEXPSUBSCN {cty}GGEXPCOEPCN {cty}GGEXPINFRCN {cty}GGEXPNINFRCN';\n",
    "GGexp='TURNEGDIFGOVXN TURNECONGOVTXN TURGGEXPCOEPCN TURGGEXPGNFSCN TURGGEXPTRNSCN TURGGEXPCAPTCN TURGGEXPOTHRCN TURBMFSTREMTCD TURHEAPCN'\n",
    "#GGexp='TURGGEXPGNFSCN TURGGEXPTRNSCN TURGGEXPINFRCN TURGGEXPNINFRCN TURGGEXPSOCLCN TURGGEXPTRNSFCN TURGGEXPOTHRCN'\n",
    "#Add in comopensation of employees\n",
    "GGexp=' TURGGEXPGNFSCN TURGGEXPTRNSCN TURGGEXPINFRCN TURGGEXPNINFRCN TURGGEXPSOCLCN TURGGEXPTRNSFCN TURGGEXPOTHRCN  TURGGEXPCOEPCN'\n"
   ]
  },
  {
   "cell_type": "markdown",
   "id": "66e0e13e",
   "metadata": {},
   "source": [
    "### The Indirect tax cut\n",
    "\n",
    "This shock assumes that the main elements of government spending are held constant at their pre-shock levels.  This assumption could be relaxed by commenting out the second line. \n",
    "\n",
    "In the model, indirect taxes `GGREVGNFSCN` is an identity (see below) equal to the sum of excise taxes (`NPLGGREVGEXCCN`),VAT taxes `NPLGGREVGVATCN` and other indirect taxes(`NPLGGREVGOTHCN`). \n",
    "\n"
   ]
  },
  {
   "cell_type": "markdown",
   "id": "31efe70a",
   "metadata": {},
   "source": [
    "Inspecting the values of each revenue, it is clear that excise and VAT are the most important and of the three the VAT is the largest.  So we will impose the shock on the VAT."
   ]
  },
  {
   "cell_type": "markdown",
   "id": "e8105140",
   "metadata": {},
   "source": [
    "Inspecting the VAT revenue equation (see below), one notes that the VAT revenue is the product of the statutory VAT rate (`NPLGGREVGVATSR`). the historical coverage rate (`NPLGGREVGVATCR(-1)`) and the revenue base upon which it is imposed (Household and government consumption).\n",
    "\n",
    "To shock the level of VAT revenues in 2025 the add factor is used.  By reducing revenues in 2025 by 1 percent of GDP, the effective tax rate in that year falls, reducing the coverage rate for that year.  For subsequent year's the effective rate (the product of the statutory and coverage rates) will automatically decline to the level in 2025."
   ]
  },
  {
   "cell_type": "code",
   "execution_count": 7,
   "id": "6bf2da75",
   "metadata": {},
   "outputs": [
    {
     "name": "stdout",
     "output_type": "stream",
     "text": [
      "TURGGREVVATCN : \n",
      "@IDENTITY TURGGREVVATCN  = (TURGGREVVATXN  / 100)  * (TURNECONPRVTCN  + TURNECONGOVTCN)\n"
     ]
    }
   ],
   "source": [
    "themodel['TURGGREVVATCN TURGGREVGNFSCN'].eviews\n"
   ]
  },
  {
   "cell_type": "code",
   "execution_count": 8,
   "id": "f6bcf418",
   "metadata": {},
   "outputs": [
    {
     "name": "stdout",
     "output_type": "stream",
     "text": [
      "The folowing variables are fixed\n",
      "TURGGEXPGNFSCN\n",
      "TURGGEXPINFRCN\n",
      "TURGGEXPNINFRCN\n",
      "TURGGEXPSOCLCN\n",
      "TURGGEXPTRNSFCN\n",
      "TURGGEXPOTHRCN\n",
      "TURGGEXPCOEPCN\n"
     ]
    }
   ],
   "source": [
    "fpol_indirect=bline.copy()\n",
    "fpol_indirect=themodel.fix(bline,f'{GGexp}') # Freeze other spending levels\n",
    "\n",
    "# VAT Revenues depend on the VAT rate GGREVVATXN which is an exogenous variable\n",
    "# Thus shocking the level of VAT revenues by minus one percent of GDP\n",
    "# divided by the tax base will give us the new rate\n",
    "\n",
    "fpol_indirect=fpol_indirect.mfcalc(\n",
    "    f'<2025 2050> {cty}GGREVVATXN = (({cty}GGREVVATCN - 0.01 * {cty}NYGDPMKTPCN)/({cty}NECONPRVTCN  + {cty}NECONGOVTCN))*100  ')\n",
    "\n",
    "\n",
    "#solve the model.\n",
    "tempdf = themodel(fpol_indirect,silent=1,keep=f'1 % of GDP Indirect tax cut')"
   ]
  },
  {
   "cell_type": "markdown",
   "id": "c07f4c86",
   "metadata": {},
   "source": [
    "### Direct tax hike of 1% of GDP\n",
    "\n",
    "The same basic methodology is followed for  direct taxes.\n"
   ]
  },
  {
   "cell_type": "code",
   "execution_count": 9,
   "id": "a1f58723",
   "metadata": {},
   "outputs": [
    {
     "name": "stdout",
     "output_type": "stream",
     "text": [
      "TURGGREVDRTCN : \n",
      "@IDENTITY TURGGREVDRTCN  = (TURGGREVDRTXN  / 100)  * TURNEYWBTOTLCN\n"
     ]
    }
   ],
   "source": [
    "themodel[f'{cty}GGREVDRTCN'].eviews"
   ]
  },
  {
   "cell_type": "code",
   "execution_count": 10,
   "id": "b5548223",
   "metadata": {},
   "outputs": [
    {
     "name": "stdout",
     "output_type": "stream",
     "text": [
      "The folowing variables are fixed\n",
      "TURGGEXPGNFSCN\n",
      "TURGGEXPINFRCN\n",
      "TURGGEXPNINFRCN\n",
      "TURGGEXPSOCLCN\n",
      "TURGGEXPTRNSFCN\n",
      "TURGGEXPOTHRCN\n",
      "TURGGEXPCOEPCN\n"
     ]
    }
   ],
   "source": [
    "fpol_direct=bline.copy()\n",
    "fpol_direct=themodel.fix(bline,f'{GGexp}') # Freeze spending levels Capital\n",
    "\n",
    "# In the model direct taxes (personal and corporate income taxes) tax are an identity\n",
    "# determined by the lagged effective rate of taxation on teh wage bill.  Shocking the \n",
    "# level of tax revenues in 2025 by one percent of GDP decreases the effective \n",
    "# tax rate going forward by a constant amount consistent with a 1 percent decrease \n",
    "# in GDP and the tax base for direct taxes (.5% for each)\n",
    "fpol_direct=fpol_direct.mfcalc(\n",
    "    f'<2025 2050> {cty}GGREVDRTXN = (({cty}GGREVDRTCN - (.01 * {cty}NYGDPMKTPCN)) / {cty}NEYWBTOTLCN) * 100')\n",
    "\n",
    "#solve the model.\n",
    "tempdf = themodel(fpol_direct,silent=1,keep=f'1 % of GDP direct tax cut')"
   ]
  },
  {
   "cell_type": "markdown",
   "id": "35f3e28f",
   "metadata": {},
   "source": [
    "### Increase in expenditure on goods and services\n",
    "\n",
    "The ex ante fiscal effort is the same in this scenario (1% of ex ante GDP) with the difference that it is implemented as an increase government spending, in this instance on goods and services.\n",
    "\n"
   ]
  },
  {
   "cell_type": "code",
   "execution_count": 11,
   "id": "2209658a",
   "metadata": {
    "cm_config": {
     "lineWrapping": true
    },
    "hide_input": false,
    "scrolled": true
   },
   "outputs": [
    {
     "name": "stdout",
     "output_type": "stream",
     "text": [
      "The folowing variables are fixed\n",
      "TURGGEXPGNFSCN\n",
      "TURGGEXPINFRCN\n",
      "TURGGEXPNINFRCN\n",
      "TURGGEXPSOCLCN\n",
      "TURGGEXPTRNSFCN\n",
      "TURGGEXPOTHRCN\n",
      "TURGGEXPCOEPCN\n"
     ]
    }
   ],
   "source": [
    "fpol_ExpGS=bline.copy()\n",
    "fpol_ExpGS=themodel.fix(bline,f'{GGexp}') # Freeze spending levels \n",
    "\n",
    "fpol_ExpGS=fpol_ExpGS.mfcalc(\n",
    "    f'<2025 2050> {cty}GGEXPGNFSCN_X ={cty}GGEXPGNFSCN_X   + .01*{cty}NYGDPMKTPCN')\n"
   ]
  },
  {
   "cell_type": "code",
   "execution_count": 12,
   "id": "63a151a7",
   "metadata": {},
   "outputs": [],
   "source": [
    "#solve the model.\n",
    "tempdf = themodel(fpol_ExpGS,silent=1,keep=f'1 % of GDP increase in G&S spending')\n",
    "#themodel.lastdf['IDNNECONGOVTCN']/themodel.basedf['IDNNECONGOVTCN']"
   ]
  },
  {
   "cell_type": "markdown",
   "id": "bde13cec",
   "metadata": {},
   "source": [
    "### Increase in expenditure on investment goods\n",
    "\n",
    "The ex ante fiscal effort is the same in this scenario (1% of ex ante GDP), implemented as an increase in government spending on capital goods. \n"
   ]
  },
  {
   "cell_type": "code",
   "execution_count": 13,
   "id": "3010c3de",
   "metadata": {},
   "outputs": [
    {
     "name": "stdout",
     "output_type": "stream",
     "text": [
      "TURGGEXPPUBCN : \n",
      "@IDENTITY TURGGEXPPUBCN  = TURGGEXPINFRCN  + TURGGEXPNINFRCN\n"
     ]
    }
   ],
   "source": [
    "themodel[f'{cty}GGEXPPUBCN'].eviews\n"
   ]
  },
  {
   "cell_type": "code",
   "execution_count": 14,
   "id": "cbd5d257",
   "metadata": {},
   "outputs": [
    {
     "name": "stdout",
     "output_type": "stream",
     "text": [
      "The folowing variables are fixed\n",
      "TURGGEXPGNFSCN\n",
      "TURGGEXPINFRCN\n",
      "TURGGEXPNINFRCN\n",
      "TURGGEXPSOCLCN\n",
      "TURGGEXPTRNSFCN\n",
      "TURGGEXPOTHRCN\n",
      "TURGGEXPCOEPCN\n"
     ]
    }
   ],
   "source": [
    "fpol_ExpInv=bline.copy()\n",
    "fpol_ExpInv=themodel.fix(bline,f'{GGexp}') # Freeze spending levels \n",
    "\n",
    "fpol_ExpInv=fpol_ExpInv.mfcalc(f'<2025 2050> {cty}GGEXPINFRCN_X ={cty}GGEXPINFRCN_X   + .01*{cty}NYGDPMKTPCN')"
   ]
  },
  {
   "cell_type": "code",
   "execution_count": 15,
   "id": "9b67540a",
   "metadata": {},
   "outputs": [],
   "source": [
    "#solve the model.\n",
    "tempdf = themodel(fpol_ExpInv,silent=1,keep=f'1 % of GDP increase in Govt investment spending')\n",
    "#themodel.lastdf['IDNNECONGOVTCN']/themodel.basedf['IDNNECONGOVTCN']\n",
    "\n"
   ]
  },
  {
   "cell_type": "markdown",
   "id": "853d7752",
   "metadata": {},
   "source": [
    "### Increase in expenditure on Transfers to households\n",
    "\n",
    "In this scenario, the same fiscal effort is implemented as an increase in transfers to households.\n"
   ]
  },
  {
   "cell_type": "code",
   "execution_count": 16,
   "id": "49d43eb3",
   "metadata": {},
   "outputs": [
    {
     "name": "stdout",
     "output_type": "stream",
     "text": [
      "The folowing variables are fixed\n",
      "TURGGEXPGNFSCN\n",
      "TURGGEXPINFRCN\n",
      "TURGGEXPNINFRCN\n",
      "TURGGEXPSOCLCN\n",
      "TURGGEXPTRNSFCN\n",
      "TURGGEXPOTHRCN\n",
      "TURGGEXPCOEPCN\n"
     ]
    }
   ],
   "source": [
    "fpol_ExpTrans=bline.copy()\n",
    "fpol_ExpTrans=themodel.fix(bline,f'{GGexp}') # Freeze spending levels \n",
    "\n",
    "fpol_ExpTrans=fpol_ExpTrans.mfcalc(f'<2025 2050> {cty}GGEXPTRNSFCN_X = {cty}GGEXPTRNSFCN_X   + .01*{cty}NYGDPMKTPCN')"
   ]
  },
  {
   "cell_type": "code",
   "execution_count": 17,
   "id": "5b018165",
   "metadata": {},
   "outputs": [],
   "source": [
    "#solve the model.\n",
    "tempdf = themodel(fpol_ExpTrans,silent=1,keep=f'1 % of GDP increase in transfers to households')\n",
    "#themodel.lastdf['IDNNECONGOVTCN']/themodel.basedf['IDNNECONGOVTCN']"
   ]
  },
  {
   "cell_type": "markdown",
   "id": "0e4e3224",
   "metadata": {},
   "source": [
    "## Comparisons of results from the fiscal scenarios\n",
    "\n",
    "The following charts compare results from the different fiscal simulations. Impacts will differ both in terms of their long-term and short-term impacts.  For example a scenario that increased investment would likely have negative impacts on consumption in the short-run but in the longer run could be expected to have an opposite impact on potential output, GDP and perhaps consumption.  A scenario that concentrated on transfers or consumption might have more of a short-term impact on demand but in the long run would have limited (and potentially negative impacts on output), especially if increased fiscal deficits and debt crowded out private sector investment.  As all World Bank models are customized to the country for which they have been built the extent of these effects can vary across models.\n",
    "\n",
    "\n",
    "Recall the scenarios that were run by interrogating the keep_solutions dictionary.\n",
    "\n"
   ]
  },
  {
   "cell_type": "markdown",
   "id": "fc084d9f",
   "metadata": {},
   "source": [
    "### Real GDP impacts and impacts on main Real GDP expenditure components\n",
    "\n",
    "The following ploy uses the `scenarios=` option clause to select which scenario results are to be plotted, and then plots them on a series of charts one one page using the `samefig=True` and the `datatype=difpctlevel` options.  The first option ensures that all the graphs are arranged in a grid and the second expresses the results as a percent deviation from the results in the first scenario specified in the `scenarios` option -- in this case the baseline scenario. Note, the included scenarios in the are identified by the text used in the initial keep command and separated by a horizontal line \"|\"."
   ]
  },
  {
   "cell_type": "code",
   "execution_count": 18,
   "id": "6b43ff4c",
   "metadata": {},
   "outputs": [
    {
     "name": "stdout",
     "output_type": "stream",
     "text": [
      "'Baseline|'\n",
      "'1 % of GDP Indirect tax cut|'\n",
      "'1 % of GDP direct tax cut|'\n",
      "'1 % of GDP increase in G&S spending|'\n",
      "'1 % of GDP increase in Govt investment spending|'\n",
      "'1 % of GDP increase in transfers to households|'\n"
     ]
    }
   ],
   "source": [
    "for key,value in themodel.keep_solutions.items():\n",
    "    print(f\"'{key}|'\")\n"
   ]
  },
  {
   "cell_type": "code",
   "execution_count": 39,
   "id": "755d9f15",
   "metadata": {
    "scrolled": false
   },
   "outputs": [
    {
     "data": {
      "application/vnd.jupyter.widget-view+json": {
       "model_id": "b1f5666bc5d8497baaa27296e687ef5a",
       "version_major": 2,
       "version_minor": 0
      },
      "text/plain": [
       "Accordion(children=(HTML(value='<?xml version=\"1.0\" encoding=\"utf-8\" standalone=\"no\"?>\\n<!DOCTYPE svg PUBLIC \"…"
      ]
     },
     "metadata": {},
     "output_type": "display_data"
    }
   ],
   "source": [
    "themodel.plot(f'{cty}NYGDPPOTLKN {cty}NYGDPMKTPKN {cty}NECONPRVTKN {cty}NEGDIFTOTKN'\n",
    "              ' {cty}NEEXPGNFSKN {cty}NEIMPGNFSKN',\n",
    "              scenarios='Baseline|'\n",
    "              '1 % of GDP Indirect tax cut|'\n",
    "              '1 % of GDP direct tax cut|'\n",
    "              '1 % of GDP increase in G&S spending|'\n",
    "              '1 % of GDP increase in Govt investment spending|'\n",
    "              '1 % of GDP increase in transfers to households',\n",
    "              custom_description=custom_description,\n",
    "              start=2020, end=2075,datatype='difpctlevel',samefig=True,legend=True,title=\"Comparison of fiscal scenarios\",name=\"FiscalScenarios\")"
   ]
  },
  {
   "cell_type": "markdown",
   "id": "f2ad55ea",
   "metadata": {},
   "source": [
    "\n",
    "For Turkey, the GDP results appear to be consistent with expectations.  Fiscal expansion of all types boosted demand and GDP in the short run.  However, the long run the impact depends on the impact of the spending on potential output.  Sustained increased investment spending and to a lesser extent reductions in direct taxation (which increases private returns to capital) served to increase the capital stock and contribute to higher potential and actual GDP.  Spending that focused on consumption or transfers has little discernible impact on potential. As a result the initial boost to GDP declines over time, implying, in this case, that after the initial growth spurt, there follows an extended period of slower real GDP growth below potential output growth until the underlying level of GDP returns to the broadly unchanged level of potential output.\n",
    "\n",
    "Transfers to households and decreased direct taxation tend to benefit households (to the detriment of net exports), although this impact declines over time due to the relative stability of potential output in these scenarios. \n",
    "\n",
    "\n",
    "### Impacts on the fiscal accounts\n",
    "\n",
    "The following command shows the impacts on several of the main fiscal indicators."
   ]
  },
  {
   "cell_type": "code",
   "execution_count": 20,
   "id": "94e69d82",
   "metadata": {},
   "outputs": [
    {
     "data": {
      "application/vnd.jupyter.widget-view+json": {
       "model_id": "c06ed8698f65424e82835cc013ebedc1",
       "version_major": 2,
       "version_minor": 0
      },
      "text/plain": [
       "Accordion(children=(HTML(value='<?xml version=\"1.0\" encoding=\"utf-8\" standalone=\"no\"?>\\n<!DOCTYPE svg PUBLIC \"…"
      ]
     },
     "metadata": {},
     "output_type": "display_data"
    }
   ],
   "source": [
    "themodel.plot(f'{cty}NYGDPMKTPCN {cty}GGEXPTOTLCN {cty}GGEXPINTPCN {cty}GGREVTOTLCN {cty}GGBALPRIMCN {cty}GGBALOVRLCN {cty}GGDBTTOTLCN {cty}GGEXPPINTCN',\n",
    "              scenarios='Baseline|'\n",
    "              '1 % of GDP Indirect tax cut|'\n",
    "              '1 % of GDP direct tax cut|'\n",
    "              '1 % of GDP increase in G&S spending|'\n",
    "              '1 % of GDP increase in Govt investment spending|'\n",
    "              '1 % of GDP increase in transfers to households',\n",
    "              custom_description=custom_description,\n",
    "              start=2020, end=2040,\n",
    "              datatype='difpctlevel',\n",
    "              samefig=True,legend=True,\n",
    "              title=\"Comparison of fiscal scenarios\",\n",
    "              name=\"FiscalScenarios\")"
   ]
  },
  {
   "cell_type": "markdown",
   "id": "7451502c",
   "metadata": {},
   "source": [
    "Note that:\n",
    "* Nominal GDP is increased in all scenarios, mainly reflecting the inflationary impact of the scenario (most scenarios saw real GDP decline).  \n",
    "* The fiscal balance deteriorates in all scenarios as compared with the baseline.\n",
    "    * Nominal spending increases even in the tax scenarios, but here the driver is increased interest payments as other elements of spending were held constant.\n",
    "    * Although interest payments as a percent of their initial level are up a lot, the increase as a percent of GDP (see next set of charts is less pronounced).\n",
    "    * Revenues improve in the spending scenarios because of higher nominal GDP.\n",
    "    * The fiscal balance deteriorates (becomes more negative) with the extent of the deterioration depending on the extent to which GDP has increased or decreased in a given scenario. The decline is smallest in the scenarios where real GDP growth is increasing.\n",
    "    * Public debt is higher in all scenarios"
   ]
  },
  {
   "cell_type": "markdown",
   "id": "6de59faf",
   "metadata": {},
   "source": [
    "#### Fiscal impacts as a percent of GDP\n",
    "\n",
    "As observed. higher inflation (due to increased demand in the early years of the simulation) mean that both revenues and expenditures are higher in the simulation scenarios.  \n",
    "\n",
    "To correct for this effect, the following charts show the results as a percent of GDP.  Here the inflation influences both the numerator and the denominator, so just the net effect is drawn.\n"
   ]
  },
  {
   "cell_type": "code",
   "execution_count": 21,
   "id": "73e4c3f5",
   "metadata": {},
   "outputs": [
    {
     "data": {
      "application/vnd.jupyter.widget-view+json": {
       "model_id": "52fd638d325d42a19f73485d6d96dcd5",
       "version_major": 2,
       "version_minor": 0
      },
      "text/plain": [
       "Accordion(children=(HTML(value='<?xml version=\"1.0\" encoding=\"utf-8\" standalone=\"no\"?>\\n<!DOCTYPE svg PUBLIC \"…"
      ]
     },
     "metadata": {},
     "output_type": "display_data"
    }
   ],
   "source": [
    "themodel.plot(f'{cty}GGREVTOTLCN {cty}GGEXPTOTLCN {cty}GGEXPINTPCN {cty}GGBALOVRLCN {cty}GGBALPRIMCN {cty}GGDBTTOTLCN {cty}GGEXPPINTCN',\n",
    "              scenarios='Baseline|'\n",
    "              '1 % of GDP Indirect tax cut|'\n",
    "              '1 % of GDP direct tax cut|'\n",
    "              '1 % of GDP increase in G&S spending|'\n",
    "              '1 % of GDP increase in Govt investment spending|'\n",
    "              '1 % of GDP increase in transfers to households',\n",
    "              custom_description=custom_description,\n",
    "              start=2023, end=2040,\n",
    "              datatype='difgdppct',\n",
    "              samefig=True,\n",
    "              legend=True,\n",
    "              title=\"Comparison of fiscal scenarios\",\n",
    "              name=\"FiscalScenarios\")"
   ]
  },
  {
   "cell_type": "markdown",
   "id": "f292de92",
   "metadata": {
    "slideshow": {
     "slide_type": "slide"
    }
   },
   "source": [
    "\n",
    "* Spending as a percent of GDP increases by as much 5 percent of GDP in the spending scenarios, the result of the original bump up in spending in the spending scenarios plus increased interest payments as the debt rises.\n",
    "* Revenues as a percent of GDP are down all scenarios, but most markedly in the tax reduction scenarios.\n",
    "* Interest payments rise by as much as almost 5 percent of GDP by the end of the period due to higher debt levels and because of higher interest rates as debt to GDP ratios rise.\n",
    "* Higher debt and fiscal borrowing translates into increased competition for domestic and foreign savings, crowding out private sector investment\n",
    "* The fiscal balance deteriorates by between 2.5 and 5 percent of GDP, with differences reflecting differences in real GDP, inflation, and revenue impacts.\n",
    "* Debt rises by more more between 25 and 40 percent of GDP as the permanent 1 percent increase in spending and higher interest payments accumulate over time."
   ]
  },
  {
   "cell_type": "markdown",
   "id": "6684c36d",
   "metadata": {},
   "source": [
    "## Non fiscal simulations\n",
    "\n",
    "Three non-fiscal scenarios were run.  The first a temporary increase in the monetary policy interest rate, the second a 10 percent depreciation and the final a permanent $20 increase in the price of crude_petrol."
   ]
  },
  {
   "cell_type": "markdown",
   "id": "0e3cfd40",
   "metadata": {},
   "source": [
    "### Monetary policy shock\n",
    "\n",
    "In this shock, it is assumed that the central bank raises its policy rate by 1 percentage point for 1 year.\n"
   ]
  },
  {
   "cell_type": "code",
   "execution_count": 22,
   "id": "68d5009d",
   "metadata": {},
   "outputs": [
    {
     "name": "stdout",
     "output_type": "stream",
     "text": [
      "The folowing variables are fixed\n",
      "TURFMLBLPOLYFR\n"
     ]
    }
   ],
   "source": [
    "Mpol=bline.copy()\n",
    "#Mpol=themodel.fix(bline,f'{GGexp}') # Freeze spending levels \n",
    "\n",
    "Mpol=themodel.fix(Mpol,f'{cty}FMLBLPOLYFR',2025,2025) # One year shock to MP but then let the equation take over.\n",
    "Mpol=Mpol.mfcalc(f'<2025 2025> {cty}FMLBLPOLYFR_X ={cty}FMLBLPOLYFR_X   + 1')\n",
    "#Mpol[f'{cty}FMLBLPOLYFR_X'].loc[2020:2030]/Mpol[f'{cty}FMLBLPOLYFR'].loc[2020:2030]"
   ]
  },
  {
   "cell_type": "code",
   "execution_count": 23,
   "id": "a39ae4b6",
   "metadata": {},
   "outputs": [
    {
     "name": "stdout",
     "output_type": "stream",
     "text": [
      "TURFMLBLPOLYFR : FRML <DAMP,STOC> TURFMLBLPOLYFR = (0.544357560105704*TURFMLBLPOLYFR(-1)+(1-0.544357560105704)*(6.25441382638667+1.5*( (100 * ( (TURNECONPRVTXN) / (TURNECONPRVTXN(-1)) -1)) -TURINFLEXPT)+0.5*TURNYGDPGAP_) + TURFMLBLPOLYFR_A)* (1-TURFMLBLPOLYFR_D)+ TURFMLBLPOLYFR_X*TURFMLBLPOLYFR_D $\n"
     ]
    }
   ],
   "source": [
    "#solve the model.\n",
    "tempdf = themodel(Mpol,silent=1,keep=f'1 ppt increase in policy rate in 2025')\n",
    "#themodel.lastdf['IDNNECONGOVTCN']/themodel.basedf['IDNNECONGOVTCN']\n",
    "\n",
    "themodel[f'{cty}FMLBLPOLYFR'].frml"
   ]
  },
  {
   "cell_type": "code",
   "execution_count": 24,
   "id": "ee91a960",
   "metadata": {},
   "outputs": [
    {
     "data": {
      "text/plain": [
       "2020    0.000000e+00\n",
       "2021   -1.776357e-14\n",
       "2022   -3.019807e-14\n",
       "2023    5.249134e-13\n",
       "2024    4.298784e-13\n",
       "2025    1.000000e+00\n",
       "2026    5.133944e-01\n",
       "2027    2.474089e-01\n",
       "2028    9.795411e-02\n",
       "2029    2.025184e-02\n",
       "2030   -1.214879e-02\n",
       "Name: TURFMLBLPOLYFR, dtype: float64"
      ]
     },
     "execution_count": 24,
     "metadata": {},
     "output_type": "execute_result"
    }
   ],
   "source": [
    "themodel.lastdf[f'{cty}FMLBLPOLYFR'].loc[2020:2030]-themodel.basedf[f'{cty}FMLBLPOLYFR'].loc[2020:2030]"
   ]
  },
  {
   "cell_type": "markdown",
   "id": "e327de68",
   "metadata": {},
   "source": [
    "### Exchange rate depreciation\n",
    "\n",
    "This shock assumes a permanent depreciation of the currency by 10 percent in 2025.\n"
   ]
  },
  {
   "cell_type": "code",
   "execution_count": 25,
   "id": "0cf6b7d5",
   "metadata": {},
   "outputs": [
    {
     "name": "stdout",
     "output_type": "stream",
     "text": [
      "The folowing variables are fixed\n",
      "TURPANUSATLS\n"
     ]
    }
   ],
   "source": [
    "Mpol_exr=bline.copy()\n",
    "#Mpol_exr=themodel.fix(bline,f'{GGexp}') # Freeze spending levels \n",
    "\n",
    "Mpol_exr=themodel.fix(Mpol,f'{cty}PANUSATLS',2025,2050) # One year shock to MP but then let the equation take over.\n",
    "Mpol_exr=Mpol_exr.mfcalc(f'<2025 2050> {cty}PANUSATLS_X ={cty}PANUSATLS_X * 1.1')\n"
   ]
  },
  {
   "cell_type": "code",
   "execution_count": 26,
   "id": "c3511372",
   "metadata": {},
   "outputs": [],
   "source": [
    "#solve the model.\n",
    "tempdf = themodel(Mpol_exr,silent=1,keep=f'A permanent 10 percent depreciation in 2025')\n"
   ]
  },
  {
   "cell_type": "markdown",
   "id": "509341f5",
   "metadata": {},
   "source": [
    "### TFP Shock\n",
    "\n",
    "This shock explores the effect of a permanent increase in the level of TFP by 1 percent beginning in 2025.\n"
   ]
  },
  {
   "cell_type": "code",
   "execution_count": 27,
   "id": "1dd201be",
   "metadata": {},
   "outputs": [],
   "source": [
    "TFP=bline.copy()\n",
    "#TFP=themodel.fix(bline,f'{GGexp}') # Freeze spending levels \n",
    "\n",
    "#TFP=themodel.fix(Mpol,f'{cty}PANUSATLS',2025,2050) # One year shock to MP but then let the equation take over.\n",
    "TFP=TFP.mfcalc(f'<2025 2050> {cty}NYGDPTFP ={cty}NYGDPTFP * 1.01')\n"
   ]
  },
  {
   "cell_type": "code",
   "execution_count": 28,
   "id": "ab9391ff",
   "metadata": {},
   "outputs": [],
   "source": [
    "#solve the model.\n",
    "tempdf = themodel(TFP,silent=1,keep=f'A permanent 1 percent increase in TFP levels')\n",
    "#themodel.lastdf['IDNNECONGOVTCN']/themodel.basedf['IDNNECONGOVTCN']\n",
    "\n"
   ]
  },
  {
   "cell_type": "markdown",
   "id": "ac472752",
   "metadata": {},
   "source": [
    "### A permanent 20 percent increase in oil prices\n",
    "\n",
    "This shock explores the sensitivity of the model to a permanent 20 USD increase in global oil and natural gas prices beginning in 2025.  The natural gas price are assumed to rise proportionately to a 20 USD increase in world crude oil prices.\n"
   ]
  },
  {
   "cell_type": "code",
   "execution_count": null,
   "id": "927f9490",
   "metadata": {},
   "outputs": [],
   "source": []
  },
  {
   "cell_type": "code",
   "execution_count": 43,
   "id": "78a840ca",
   "metadata": {},
   "outputs": [
    {
     "name": "stdout",
     "output_type": "stream",
     "text": [
      "WLDFCRUDE_PETRO            : Price of oil (USD)\n",
      "WLDFCRUDE_PETRO_VALUE_2010 : WLDFCRUDE_PETRO_VALUE_2010\n",
      "WLDFNGAS_EUR            : Price of natural gas (USD)\n",
      "WLDFNGAS_EUR_VALUE_2010 : WLDFNGAS_EUR_VALUE_2010\n"
     ]
    }
   ],
   "source": [
    "themodel['WLDF*CRUDE*'].des\n",
    "themodel['WLDF*GAS*'].des"
   ]
  },
  {
   "cell_type": "code",
   "execution_count": 53,
   "id": "b2ce2ac4",
   "metadata": {},
   "outputs": [],
   "source": [
    "Oil=bline.copy()\n",
    "#Oil=themodel.fix(bline,f'{GGexp}') # Freeze spending levels (not done for non-fiscal scenarios)\n",
    "\n",
    "# scenario to raise oil prices.  Assume that natural gas prices increase\n",
    "# by a similar margin as a $20 increase in crude oil prices\n",
    "Oil=Oil.mfcalc(\n",
    "    f'<2025 2050>  WLDFNGAS_EUR = WLDFNGAS_EUR * ((WLDFCRUDE_PETRO + 20)/WLDFCRUDE_PETRO)')\n",
    "Oil=Oil.mfcalc(\n",
    "    f'<2025 2050> WLDFCRUDE_PETRO = WLDFCRUDE_PETRO + 20')\n",
    "\n"
   ]
  },
  {
   "cell_type": "code",
   "execution_count": 60,
   "id": "3d3bf717",
   "metadata": {},
   "outputs": [
    {
     "data": {
      "text/html": [
       "<?xml version=\"1.0\" encoding=\"UTF-8\" standalone=\"no\"?>\n",
       "<!DOCTYPE svg PUBLIC \"-//W3C//DTD SVG 1.1//EN\"\n",
       " \"http://www.w3.org/Graphics/SVG/1.1/DTD/svg11.dtd\">\n",
       "<!-- Generated by graphviz version 12.0.0 (0)\n",
       " -->\n",
       "<!-- Title: TD Pages: 1 -->\n",
       "<svg width=\"288pt\" height=\"130pt\"\n",
       " viewBox=\"0.00 0.00 288.00 130.33\" xmlns=\"http://www.w3.org/2000/svg\" xmlns:xlink=\"http://www.w3.org/1999/xlink\">\n",
       "<g id=\"graph0\" class=\"graph\" transform=\"scale(0.291897 0.291897) rotate(0) translate(4 442.5)\">\n",
       "<title>TD</title>\n",
       "<polygon fill=\"white\" stroke=\"none\" points=\"-4,4 -4,-442.5 982.65,-442.5 982.65,4 -4,4\"/>\n",
       "<text text-anchor=\"middle\" x=\"489.33\" y=\"-7.2\" font-family=\"Times New Roman,serif\" font-size=\"14.00\">WLDFCRUDE_PETRO</text>\n",
       "<!-- TURPXKEY -->\n",
       "<g id=\"node1\" class=\"node\">\n",
       "<title>TURPXKEY</title>\n",
       "<g id=\"a_node1\"><a xlink:title=\"TURPXKEY&#10;FRML &lt;IDENT&gt; TURPXKEY = ((0.01251982513/MUVR)*WLDFALUMINUM/(WLDFALUMINUM_VALUE_2010)+(1.542443998E&#45;05/MUVR)*WLDFBANANA_US/(WLDFBANANA_US_VALUE_2010)+(0.2002150151/MUVR)*WLDFBEEF/(WLDFBEEF_VALUE_2010)+(0.006247862219/MUVR)*WLDFCOAL_AUS/(WLDFCOAL_AUS_VALUE_2010)+(0.006334624694/MUVR)*WLDFCOCOA/(WLDFCOCOA_VALUE_2010)+(0.003729822392/MUVR)*WLDFCOFFEE_COMPO/(WLDFCOFFEE_COMPO_VALUE_2010)+(0.466262504/MUVR)*WLDFCOPPER/(WLDFCOPPER_VALUE_2010)+(0.06189634958/MUVR)*WLDFCOTTON_A_INDX/(WLDFCOTTON_A_INDX_VALUE_2010)+(2.762174766E&#45;05/MUVR)*WLDFCRUDE_PETRO/(WLDFCRUDE_PETRO_VALUE_2010)+0*WLDFGRNUT_OIL/(WLDFGRNUT_OIL_VALUE_2010)+0*WLDFGRNUT_OIL/(WLDFGRNUT_OIL_VALUE_2010)+(1.998276688/MUVR)*WLDFGOLD/(WLDFGOLD_VALUE_2010)+(8.676247488E&#45;05/MUVR)*WLDFGRNUT_OIL/(WLDFGRNUT_OIL_VALUE_2010)+(0.01799357326/MUVR)*WLDFIRON_ORE/(WLDFIRON_ORE_VALUE_2010)+(0.06038475446/MUVR)*WLDFLEAD/(WLDFLEAD_VALUE_2010)+(0.02507049913/MUVR)*WLDFMAIZE/(WLDFMAIZE_VALUE_2010)+(0.006977631035/MUVR)*WLDFNICKEL/(WLDFNICKEL_VALUE_2010)+(0.4312239606/MUVR)*WLDFORANGE/(WLDFORANGE_VALUE_2010)+(0.1491485504/MUVR)*WLDFNGAS_EUR/(WLDFNGAS_EUR_VALUE_2010)+0*WLDFGRNUT_OIL/(WLDFGRNUT_OIL_VALUE_2010)+(1.06237491E&#45;06/MUVR)*WLDFPALM_OIL/(WLDFPALM_OIL_VALUE_2010)+(0.04587421255/MUVR)*WLDFRICE_05/(WLDFRICE_05_VALUE_2010)+(0.004812425273/MUVR)*WLDFRUBBER1_MYSG/(WLDFRUBBER1_MYSG_VALUE_2010)+(0.09683656224/MUVR)*WLDFSILVER/(WLDFSILVER_VALUE_2010)+(0.003805980565/MUVR)*WLDFSOYBEAN_MEAL/(WLDFSOYBEAN_MEAL_VALUE_2010)+(0.002733981986/MUVR)*WLDFSOYBEAN_OIL/(WLDFSOYBEAN_OIL_VALUE_2010)+(8.923949244E&#45;05/MUVR)*WLDFSOYBEANS/(WLDFSOYBEANS_VALUE_2010)+(5.591359492E&#45;05/MUVR)*WLDFSORGHUM/(WLDFSORGHUM_VALUE_2010)+(10.06241781/MUVR)*WLDFISTL_JP_INDX/(WLDFISTL_JP_INDX_VALUE_2010)+(0.04354030198/MUVR)*WLDFSUGAR_WLD/(WLDFSUGAR_WLD_VALUE_2010)+(0.00883338397/MUVR)*WLDFTEA_AVG/(WLDFTEA_AVG_VALUE_2010)+(6.555386991E&#45;05/MUVR)*WLDFTIN/(WLDFTIN_VALUE_2010)+(0.3868796596/MUVR)*WLDFTOBAC_US/(WLDFTOBAC_US_VALUE_2010)+(5.31187455E&#45;06/MUVR)*WLDFLOGS_MYS/(WLDFLOGS_MYS_VALUE_2010)+(0.1187865044/MUVR)*WLDFPLYWOOD/(WLDFPLYWOOD_VALUE_2010)+(0.002101579947/MUVR)*WLDFWOODPULP/(WLDFWOODPULP_VALUE_2010)+(0.00187696154/MUVR)*WLDFSAWNWD_MYS/(WLDFSAWNWD_MYS_VALUE_2010)+(0.194147426/MUVR)*WLDFWHEAT_US_HRW/(WLDFWHEAT_US_HRW_VALUE_2010)+(0.1870155506/MUVR)*WLDFZINC/(WLDFZINC_VALUE_2010)+(85.39370911/MUVR)*MUV/(MUV_VALUE_2010)+0)/100 $\">\n",
       "<polygon fill=\"#63b8ff\" stroke=\"black\" points=\"372.7,-141.5 286.1,-141.5 286.1,-105.5 372.7,-105.5 372.7,-141.5\"/>\n",
       "<text text-anchor=\"start\" x=\"291.9\" y=\"-118.45\" font-family=\"Times New Roman,serif\" font-size=\"14.00\" fill=\"blue\">TURPXKEY:</text>\n",
       "</a>\n",
       "</g>\n",
       "</g>\n",
       "<!-- TURNEEXPGNFSXN -->\n",
       "<g id=\"node3\" class=\"node\">\n",
       "<title>TURNEEXPGNFSXN</title>\n",
       "<g id=\"a_node3\"><a xlink:title=\"TURNEEXPGNFSXN&#10;FRML &lt;DAMP,STOC&gt; TURNEEXPGNFSXN = (TURNEEXPGNFSXN(&#45;1)*EXP(TURNEEXPGNFSXN_A+ (&#45;0.553951371717865*(LOG(TURNEEXPGNFSXN(&#45;1))&#45;0.518440304077019*LOG(TURNYGDPFCSTXN(&#45;1))&#45;(1&#45;0.518440304077019)*LOG(TURPXKEY(&#45;1)*TURPANUSATLS(&#45;1)))+0.326694885257138*((LOG(TURNYGDPFCSTXN))&#45;(LOG(TURNYGDPFCSTXN(&#45;1))))+(1&#45;0.326694885257138)*((LOG(TURPXKEY*TURPANUSATLS))&#45;(LOG(TURPXKEY(&#45;1)*TURPANUSATLS(&#45;1))))&#45;0.10643559647768) )) * (1&#45;TURNEEXPGNFSXN_D)+ TURNEEXPGNFSXN_X*TURNEEXPGNFSXN_D &#160;$\">\n",
       "<polygon fill=\"#63b8ff\" stroke=\"black\" points=\"548.55,-222.5 408.7,-222.5 408.7,-186.5 548.55,-186.5 548.55,-222.5\"/>\n",
       "<text text-anchor=\"start\" x=\"414.5\" y=\"-199.45\" font-family=\"Times New Roman,serif\" font-size=\"14.00\" fill=\"blue\">TURNEEXPGNFSXN:</text>\n",
       "</a>\n",
       "</g>\n",
       "</g>\n",
       "<!-- TURPXKEY&#45;&gt;TURNEEXPGNFSXN -->\n",
       "<g id=\"edge6\" class=\"edge\">\n",
       "<title>TURPXKEY&#45;&gt;TURNEEXPGNFSXN</title>\n",
       "<g id=\"a_edge6\"><a xlink:href=\"bogus\" xlink:title=\" TURPXKEY &#45;&gt; TURNEEXPGNFSXN Min. att. 0% &#160;max: 0%\">\n",
       "<path fill=\"none\" stroke=\"black\" d=\"M363.81,-141.88C384.63,-153.34 411.64,-168.2 434.12,-180.57\"/>\n",
       "<polygon fill=\"black\" stroke=\"black\" points=\"432.32,-183.57 442.77,-185.32 435.69,-177.44 432.32,-183.57\"/>\n",
       "</a>\n",
       "</g>\n",
       "</g>\n",
       "<!-- TURNEEXPGNFSXN_FITTED -->\n",
       "<g id=\"node11\" class=\"node\">\n",
       "<title>TURNEEXPGNFSXN_FITTED</title>\n",
       "<g id=\"a_node11\"><a xlink:title=\"Fitted &#160;value:TURNEEXPGNFSXN&#10;FRML &lt;FIT&gt; TURNEEXPGNFSXN_FITTED = TURNEEXPGNFSXN(&#45;1)*EXP( (&#45;0.553951371717865*(LOG(TURNEEXPGNFSXN(&#45;1))&#45;0.518440304077019*LOG(TURNYGDPFCSTXN(&#45;1))&#45;(1&#45;0.518440304077019)*LOG(TURPXKEY(&#45;1)*TURPANUSATLS(&#45;1)))+0.326694885257138*((LOG(TURNYGDPFCSTXN))&#45;(LOG(TURNYGDPFCSTXN(&#45;1))))+(1&#45;0.326694885257138)*((LOG(TURPXKEY*TURPANUSATLS))&#45;(LOG(TURPXKEY(&#45;1)*TURPANUSATLS(&#45;1))))&#45;0.10643559647768) ) $\">\n",
       "<polygon fill=\"#63b8ff\" stroke=\"black\" points=\"976.4,-60.5 586.8,-60.5 586.8,-24.5 976.4,-24.5 976.4,-60.5\"/>\n",
       "<text text-anchor=\"start\" x=\"592.6\" y=\"-37.45\" font-family=\"Times New Roman,serif\" font-size=\"14.00\" fill=\"blue\">TURNEEXPGNFSXN_FITTED:Fitted &#160;value:TURNEEXPGNFSXN</text>\n",
       "</a>\n",
       "</g>\n",
       "</g>\n",
       "<!-- TURPXKEY&#45;&gt;TURNEEXPGNFSXN_FITTED -->\n",
       "<g id=\"edge3\" class=\"edge\">\n",
       "<title>TURPXKEY&#45;&gt;TURNEEXPGNFSXN_FITTED</title>\n",
       "<g id=\"a_edge3\"><a xlink:href=\"bogus\" xlink:title=\" TURPXKEY &#45;&gt; TURNEEXPGNFSXN_FITTED Min. att. 0% &#160;max: 0%\">\n",
       "<path fill=\"none\" stroke=\"black\" d=\"M372.94,-113.48C423.26,-101.84 509.68,-82.59 584.55,-69.5 598.04,-67.14 612.07,-64.86 626.16,-62.7\"/>\n",
       "<polygon fill=\"black\" stroke=\"black\" points=\"626.61,-66.17 635.97,-61.21 625.56,-59.25 626.61,-66.17\"/>\n",
       "</a>\n",
       "</g>\n",
       "</g>\n",
       "<!-- TURNVAGRTOTLXN_FITTED -->\n",
       "<g id=\"node2\" class=\"node\">\n",
       "<title>TURNVAGRTOTLXN_FITTED</title>\n",
       "<g id=\"a_node2\"><a xlink:title=\"Fitted &#160;value:TURNVAGRTOTLXN&#10;FRML &lt;FIT&gt; TURNVAGRTOTLXN_FITTED = EXP( (EXP(&#45;2.08010918252655)*LOG(TURNECONPRVTXN)+EXP(&#45;106.470644517582)*LOG(TURNECONGOVTXN)+EXP(&#45;1.26044139499648)*LOG(TURNEGDIFTOTXN)+(1&#45;EXP(&#45;2.08010918252655)&#45;EXP(&#45;106.470644517582)&#45;EXP(&#45;1.26044139499648))*LOG(TURNEEXPGNFSXN)) ) $\">\n",
       "<polygon fill=\"#63b8ff\" stroke=\"black\" points=\"978.65,-438.5 584.55,-438.5 584.55,-402.5 978.65,-402.5 978.65,-438.5\"/>\n",
       "<text text-anchor=\"start\" x=\"590.35\" y=\"-415.45\" font-family=\"Times New Roman,serif\" font-size=\"14.00\" fill=\"blue\">TURNVAGRTOTLXN_FITTED:Fitted &#160;value:TURNVAGRTOTLXN</text>\n",
       "</a>\n",
       "</g>\n",
       "</g>\n",
       "<!-- TURNEEXPGNFSXN&#45;&gt;TURNVAGRTOTLXN_FITTED -->\n",
       "<g id=\"edge11\" class=\"edge\">\n",
       "<title>TURNEEXPGNFSXN&#45;&gt;TURNVAGRTOTLXN_FITTED</title>\n",
       "<g id=\"a_edge11\"><a xlink:href=\"bogus\" xlink:title=\" TURNEEXPGNFSXN &#45;&gt; TURNVAGRTOTLXN_FITTED Min. att. 0% &#160;max: 0%\">\n",
       "<path fill=\"none\" stroke=\"black\" d=\"M483.9,-222.74C494,-261.41 523.24,-351.52 584.55,-393.5 586.16,-394.6 587.79,-395.67 589.45,-396.7\"/>\n",
       "<polygon fill=\"black\" stroke=\"black\" points=\"587.43,-399.58 597.85,-401.48 590.9,-393.49 587.43,-399.58\"/>\n",
       "</a>\n",
       "</g>\n",
       "</g>\n",
       "<!-- TURNEEXPGNFSKN_FITTED -->\n",
       "<g id=\"node5\" class=\"node\">\n",
       "<title>TURNEEXPGNFSKN_FITTED</title>\n",
       "<g id=\"a_node5\"><a xlink:title=\"Fitted &#160;value:Exports&#10;FRML &lt;FIT&gt; TURNEEXPGNFSKN_FITTED = TURNEEXPGNFSKN(&#45;1)*EXP( (&#45;0.183601330373508*(LOG(TURNEEXPGNFSKN(&#45;1))&#45;LOG(TURXMKT(&#45;1))&#45;0.7*LOG(TURNEEXPGNFSXN(&#45;1)/(TURNYGDPFCSTXN(&#45;1))))&#45;0.173652572823937+1*((LOG(TURXMKT))&#45;(LOG(TURXMKT(&#45;1))))+0.101914418695205*((LOG(TURNEEXPGNFSXN/(TURNYGDPFCSTXN)))&#45;(LOG(TURNEEXPGNFSXN(&#45;1)/(TURNYGDPFCSTXN(&#45;1)))))+0.00570762221786994*TURT+0.16221451613712*DURING_2009) ) $\">\n",
       "<polygon fill=\"#63b8ff\" stroke=\"black\" points=\"935.15,-384.5 628.05,-384.5 628.05,-348.5 935.15,-348.5 935.15,-384.5\"/>\n",
       "<text text-anchor=\"start\" x=\"633.85\" y=\"-361.45\" font-family=\"Times New Roman,serif\" font-size=\"14.00\" fill=\"blue\">TURNEEXPGNFSKN_FITTED:Fitted &#160;value:Exports</text>\n",
       "</a>\n",
       "</g>\n",
       "</g>\n",
       "<!-- TURNEEXPGNFSXN&#45;&gt;TURNEEXPGNFSKN_FITTED -->\n",
       "<g id=\"edge2\" class=\"edge\">\n",
       "<title>TURNEEXPGNFSXN&#45;&gt;TURNEEXPGNFSKN_FITTED</title>\n",
       "<g id=\"a_edge2\"><a xlink:href=\"bogus\" xlink:title=\" TURNEEXPGNFSXN &#45;&gt; TURNEEXPGNFSKN_FITTED Min. att. 0% &#160;max: 101%\">\n",
       "<path fill=\"none\" stroke=\"black\" stroke-width=\"8\" d=\"M487.91,-222.59C502.65,-252.51 536.47,-311.75 584.55,-339.5 593.08,-344.42 602.16,-348.58 611.56,-352.09\"/>\n",
       "<polygon fill=\"black\" stroke=\"black\" stroke-width=\"8\" points=\"609.32,-358.72 621.01,-355.2 613.7,-345.42 609.32,-358.72\"/>\n",
       "</a>\n",
       "</g>\n",
       "</g>\n",
       "<!-- TURNEEXPGNFSKN -->\n",
       "<g id=\"node6\" class=\"node\">\n",
       "<title>TURNEEXPGNFSKN</title>\n",
       "<g id=\"a_node6\"><a xlink:title=\"Exports&#10;FRML &lt;DAMP,STOC&gt; TURNEEXPGNFSKN = (TURNEEXPGNFSKN(&#45;1)*EXP(TURNEEXPGNFSKN_A+ (&#45;0.183601330373508*(LOG(TURNEEXPGNFSKN(&#45;1))&#45;LOG(TURXMKT(&#45;1))&#45;0.7*LOG(TURNEEXPGNFSXN(&#45;1)/(TURNYGDPFCSTXN(&#45;1))))&#45;0.173652572823937+1*((LOG(TURXMKT))&#45;(LOG(TURXMKT(&#45;1))))+0.101914418695205*((LOG(TURNEEXPGNFSXN/(TURNYGDPFCSTXN)))&#45;(LOG(TURNEEXPGNFSXN(&#45;1)/(TURNYGDPFCSTXN(&#45;1)))))+0.00570762221786994*TURT+0.16221451613712*DURING_2009) )) * (1&#45;TURNEEXPGNFSKN_D)+ TURNEEXPGNFSKN_X*TURNEEXPGNFSKN_D &#160;$\">\n",
       "<polygon fill=\"#63b8ff\" stroke=\"black\" points=\"872.53,-330.5 690.68,-330.5 690.68,-294.5 872.53,-294.5 872.53,-330.5\"/>\n",
       "<text text-anchor=\"start\" x=\"696.48\" y=\"-307.45\" font-family=\"Times New Roman,serif\" font-size=\"14.00\" fill=\"blue\">TURNEEXPGNFSKN:Exports</text>\n",
       "</a>\n",
       "</g>\n",
       "</g>\n",
       "<!-- TURNEEXPGNFSXN&#45;&gt;TURNEEXPGNFSKN -->\n",
       "<g id=\"edge8\" class=\"edge\">\n",
       "<title>TURNEEXPGNFSXN&#45;&gt;TURNEEXPGNFSKN</title>\n",
       "<g id=\"a_edge8\"><a xlink:href=\"bogus\" xlink:title=\" TURNEEXPGNFSXN &#45;&gt; TURNEEXPGNFSKN Min. att. 0% &#160;max: 101%\">\n",
       "<path fill=\"none\" stroke=\"black\" stroke-width=\"8\" d=\"M497.05,-222.71C516.47,-241.77 549.75,-270.9 584.55,-285.5 612.22,-297.11 643.84,-303.94 673.48,-307.9\"/>\n",
       "<polygon fill=\"black\" stroke=\"black\" stroke-width=\"8\" points=\"672.5,-314.83 683.25,-309.05 674.14,-300.93 672.5,-314.83\"/>\n",
       "</a>\n",
       "</g>\n",
       "</g>\n",
       "<!-- TURNVAGRTOTLXN -->\n",
       "<g id=\"node7\" class=\"node\">\n",
       "<title>TURNVAGRTOTLXN</title>\n",
       "<g id=\"a_node7\"><a xlink:title=\"TURNVAGRTOTLXN&#10;FRML &lt;DAMP,STOC&gt; TURNVAGRTOTLXN = (EXP(TURNVAGRTOTLXN_A+ (EXP(&#45;2.08010918252655)*LOG(TURNECONPRVTXN)+EXP(&#45;106.470644517582)*LOG(TURNECONGOVTXN)+EXP(&#45;1.26044139499648)*LOG(TURNEGDIFTOTXN)+(1&#45;EXP(&#45;2.08010918252655)&#45;EXP(&#45;106.470644517582)&#45;EXP(&#45;1.26044139499648))*LOG(TURNEEXPGNFSXN)) )) * (1&#45;TURNVAGRTOTLXN_D)+ TURNVAGRTOTLXN_X*TURNVAGRTOTLXN_D &#160;$\">\n",
       "<polygon fill=\"#63b8ff\" stroke=\"black\" points=\"852.65,-276.5 710.55,-276.5 710.55,-240.5 852.65,-240.5 852.65,-276.5\"/>\n",
       "<text text-anchor=\"start\" x=\"716.35\" y=\"-253.45\" font-family=\"Times New Roman,serif\" font-size=\"14.00\" fill=\"blue\">TURNVAGRTOTLXN:</text>\n",
       "</a>\n",
       "</g>\n",
       "</g>\n",
       "<!-- TURNEEXPGNFSXN&#45;&gt;TURNVAGRTOTLXN -->\n",
       "<g id=\"edge9\" class=\"edge\">\n",
       "<title>TURNEEXPGNFSXN&#45;&gt;TURNVAGRTOTLXN</title>\n",
       "<g id=\"a_edge9\"><a xlink:href=\"bogus\" xlink:title=\" TURNEEXPGNFSXN &#45;&gt; TURNVAGRTOTLXN Min. att. 0% &#160;max: 0%\">\n",
       "<path fill=\"none\" stroke=\"black\" d=\"M546.53,-222.94C559.11,-226.06 572.18,-229.07 584.55,-231.5 621.97,-238.86 663.79,-244.92 699.16,-249.41\"/>\n",
       "<polygon fill=\"black\" stroke=\"black\" points=\"698.55,-252.86 708.91,-250.63 699.42,-245.92 698.55,-252.86\"/>\n",
       "</a>\n",
       "</g>\n",
       "</g>\n",
       "<!-- TURNEEXPGNFSCN -->\n",
       "<g id=\"node8\" class=\"node\">\n",
       "<title>TURNEEXPGNFSCN</title>\n",
       "<g id=\"a_node8\"><a xlink:title=\"Nominal Exports&#10;FRML &lt;IDENT&gt; TURNEEXPGNFSCN = TURNEEXPGNFSKN*TURNEEXPGNFSXN $\">\n",
       "<polygon fill=\"#63b8ff\" stroke=\"black\" points=\"898.03,-222.5 665.18,-222.5 665.18,-186.5 898.03,-186.5 898.03,-222.5\"/>\n",
       "<text text-anchor=\"start\" x=\"670.98\" y=\"-199.45\" font-family=\"Times New Roman,serif\" font-size=\"14.00\" fill=\"blue\">TURNEEXPGNFSCN:Nominal Exports</text>\n",
       "</a>\n",
       "</g>\n",
       "</g>\n",
       "<!-- TURNEEXPGNFSXN&#45;&gt;TURNEEXPGNFSCN -->\n",
       "<g id=\"edge7\" class=\"edge\">\n",
       "<title>TURNEEXPGNFSXN&#45;&gt;TURNEEXPGNFSCN</title>\n",
       "<g id=\"a_edge7\"><a xlink:href=\"bogus\" xlink:title=\" TURNEEXPGNFSXN &#45;&gt; TURNEEXPGNFSCN Min. att. 0% &#160;max: 91%\">\n",
       "<path fill=\"none\" stroke=\"black\" stroke-width=\"8\" d=\"M548.67,-204.5C578.21,-204.5 613.72,-204.5 647.99,-204.5\"/>\n",
       "<polygon fill=\"black\" stroke=\"black\" stroke-width=\"8\" points=\"647.7,-211.5 657.7,-204.5 647.7,-197.5 647.7,-211.5\"/>\n",
       "</a>\n",
       "</g>\n",
       "</g>\n",
       "<!-- TURNVINDTOTLXN -->\n",
       "<g id=\"node9\" class=\"node\">\n",
       "<title>TURNVINDTOTLXN</title>\n",
       "<g id=\"a_node9\"><a xlink:title=\"TURNVINDTOTLXN&#10;FRML &lt;DAMP,STOC&gt; TURNVINDTOTLXN = (EXP(TURNVINDTOTLXN_A+ (EXP(&#45;51.7910030726007)*LOG(TURNECONPRVTXN)+EXP(&#45;53.5472607745257)*LOG(TURNECONGOVTXN)+EXP(&#45;0.759669862096664)*LOG(TURNEGDIFTOTXN)+(1&#45;EXP(&#45;51.7910030726007)&#45;EXP(&#45;53.5472607745257)&#45;EXP(&#45;0.759669862096664))*LOG(TURNEEXPGNFSXN)) )) * (1&#45;TURNVINDTOTLXN_D)+ TURNVINDTOTLXN_X*TURNVINDTOTLXN_D &#160;$\">\n",
       "<polygon fill=\"#63b8ff\" stroke=\"black\" points=\"851.53,-168.5 711.68,-168.5 711.68,-132.5 851.53,-132.5 851.53,-168.5\"/>\n",
       "<text text-anchor=\"start\" x=\"717.48\" y=\"-145.45\" font-family=\"Times New Roman,serif\" font-size=\"14.00\" fill=\"blue\">TURNVINDTOTLXN:</text>\n",
       "</a>\n",
       "</g>\n",
       "</g>\n",
       "<!-- TURNEEXPGNFSXN&#45;&gt;TURNVINDTOTLXN -->\n",
       "<g id=\"edge4\" class=\"edge\">\n",
       "<title>TURNEEXPGNFSXN&#45;&gt;TURNVINDTOTLXN</title>\n",
       "<g id=\"a_edge4\"><a xlink:href=\"bogus\" xlink:title=\" TURNEEXPGNFSXN &#45;&gt; TURNVINDTOTLXN Min. att. 0% &#160;max: 0%\">\n",
       "<path fill=\"none\" stroke=\"black\" d=\"M546.53,-186.06C559.11,-182.94 572.18,-179.93 584.55,-177.5 622.27,-170.08 664.47,-163.98 700.03,-159.48\"/>\n",
       "<polygon fill=\"black\" stroke=\"black\" points=\"700.33,-162.97 709.82,-158.26 699.46,-156.02 700.33,-162.97\"/>\n",
       "</a>\n",
       "</g>\n",
       "</g>\n",
       "<!-- TURNVINDTOTLXN_FITTED -->\n",
       "<g id=\"node10\" class=\"node\">\n",
       "<title>TURNVINDTOTLXN_FITTED</title>\n",
       "<g id=\"a_node10\"><a xlink:title=\"Fitted &#160;value:TURNVINDTOTLXN&#10;FRML &lt;FIT&gt; TURNVINDTOTLXN_FITTED = EXP( (EXP(&#45;51.7910030726007)*LOG(TURNECONPRVTXN)+EXP(&#45;53.5472607745257)*LOG(TURNECONGOVTXN)+EXP(&#45;0.759669862096664)*LOG(TURNEGDIFTOTXN)+(1&#45;EXP(&#45;51.7910030726007)&#45;EXP(&#45;53.5472607745257)&#45;EXP(&#45;0.759669862096664))*LOG(TURNEEXPGNFSXN)) ) $\">\n",
       "<polygon fill=\"#63b8ff\" stroke=\"black\" points=\"976.4,-114.5 586.8,-114.5 586.8,-78.5 976.4,-78.5 976.4,-114.5\"/>\n",
       "<text text-anchor=\"start\" x=\"592.6\" y=\"-91.45\" font-family=\"Times New Roman,serif\" font-size=\"14.00\" fill=\"blue\">TURNVINDTOTLXN_FITTED:Fitted &#160;value:TURNVINDTOTLXN</text>\n",
       "</a>\n",
       "</g>\n",
       "</g>\n",
       "<!-- TURNEEXPGNFSXN&#45;&gt;TURNVINDTOTLXN_FITTED -->\n",
       "<g id=\"edge10\" class=\"edge\">\n",
       "<title>TURNEEXPGNFSXN&#45;&gt;TURNVINDTOTLXN_FITTED</title>\n",
       "<g id=\"a_edge10\"><a xlink:href=\"bogus\" xlink:title=\" TURNEEXPGNFSXN &#45;&gt; TURNVINDTOTLXN_FITTED Min. att. 0% &#160;max: 0%\">\n",
       "<path fill=\"none\" stroke=\"black\" d=\"M497.05,-186.29C516.47,-167.23 549.75,-138.1 584.55,-123.5 588.71,-121.76 592.96,-120.12 597.27,-118.58\"/>\n",
       "<polygon fill=\"black\" stroke=\"black\" points=\"598.31,-121.93 606.7,-115.45 596.1,-115.29 598.31,-121.93\"/>\n",
       "</a>\n",
       "</g>\n",
       "</g>\n",
       "<!-- TURNEEXPGNFSXN&#45;&gt;TURNEEXPGNFSXN_FITTED -->\n",
       "<g id=\"edge1\" class=\"edge\">\n",
       "<title>TURNEEXPGNFSXN&#45;&gt;TURNEEXPGNFSXN_FITTED</title>\n",
       "<g id=\"a_edge1\"><a xlink:href=\"bogus\" xlink:title=\" TURNEEXPGNFSXN &#45;&gt; TURNEEXPGNFSXN_FITTED Min. att. 0% &#160;max: 0%\">\n",
       "<path fill=\"none\" stroke=\"black\" d=\"M493.7,-186.03C521.57,-149.49 581.4,-71.32 584.55,-69.5 586.79,-68.21 589.06,-66.97 591.37,-65.78\"/>\n",
       "<polygon fill=\"black\" stroke=\"black\" points=\"592.78,-68.99 600.32,-61.54 589.78,-62.66 592.78,-68.99\"/>\n",
       "</a>\n",
       "</g>\n",
       "</g>\n",
       "<!-- WLDFCRUDE_PETRO -->\n",
       "<g id=\"node4\" class=\"node\">\n",
       "<title>WLDFCRUDE_PETRO</title>\n",
       "<g id=\"a_node4\"><a xlink:title=\"Price of oil (USD)&#10;Exogen\">\n",
       "<polygon fill=\"red\" stroke=\"black\" points=\"250.1,-141.5 0,-141.5 0,-105.5 250.1,-105.5 250.1,-141.5\"/>\n",
       "<text text-anchor=\"start\" x=\"5.8\" y=\"-118.45\" font-family=\"Times New Roman,serif\" font-size=\"14.00\" fill=\"blue\">WLDFCRUDE_PETRO:Price of oil (USD)</text>\n",
       "</a>\n",
       "</g>\n",
       "</g>\n",
       "<!-- WLDFCRUDE_PETRO&#45;&gt;TURPXKEY -->\n",
       "<g id=\"edge5\" class=\"edge\">\n",
       "<title>WLDFCRUDE_PETRO&#45;&gt;TURPXKEY</title>\n",
       "<g id=\"a_edge5\"><a xlink:href=\"bogus\" xlink:title=\" WLDFCRUDE_PETRO &#45;&gt; TURPXKEY Min. att. 0% &#160;max: 0%\">\n",
       "<path fill=\"none\" stroke=\"black\" d=\"M250.46,-123.5C258.7,-123.5 266.73,-123.5 274.3,-123.5\"/>\n",
       "<polygon fill=\"black\" stroke=\"black\" points=\"274.28,-127 284.28,-123.5 274.28,-120 274.28,-127\"/>\n",
       "</a>\n",
       "</g>\n",
       "</g>\n",
       "</g>\n",
       "</svg>\n"
      ],
      "text/plain": [
       "<IPython.core.display.HTML object>"
      ]
     },
     "metadata": {},
     "output_type": "display_data"
    }
   ],
   "source": [
    "#solve the model.\n",
    "tempdf = themodel(Oil,silent=1,keep=f'A permanent $20 increase in global crude oil prices')\n",
    "#themodel.lastdf['IDNNECONGOVTCN']/themodel.basedf['IDNNECONGOVTCN']\n",
    "\n",
    "themodel.WLDFCRUDE_PETRO.tracedep(down=3,size=(4,3))"
   ]
  },
  {
   "cell_type": "markdown",
   "id": "c54f9c97",
   "metadata": {},
   "source": [
    "### Summary  impacts of non-fiscal scenarios\n",
    "\n",
    "The following graphs show the change in the main macroeconomic indicators (Inflation, proxied here by the inflation rate of household consumption), real GDP, and changes in the current account, fiscal balances and debt levels expressed as a percent of GDP."
   ]
  },
  {
   "cell_type": "code",
   "execution_count": 55,
   "id": "bd0e531c",
   "metadata": {},
   "outputs": [
    {
     "name": "stdout",
     "output_type": "stream",
     "text": [
      "Baseline\n",
      "1 % of GDP Indirect tax cut\n",
      "1 % of GDP direct tax cut\n",
      "1 % of GDP increase in G&S spending\n",
      "1 % of GDP increase in Govt investment spending\n",
      "1 % of GDP increase in transfers to households\n",
      "1 ppt increase in policy rate in 2025\n",
      "A permanent 10 percent depreciation in 2025\n",
      "A permanent 1 percent increase in TFP levels\n",
      "A permanent $20 increase in global crude oil prices\n"
     ]
    }
   ],
   "source": [
    "for key,value in themodel.keep_solutions.items():\n",
    "    print(key)"
   ]
  },
  {
   "cell_type": "code",
   "execution_count": 56,
   "id": "4b0ee3f4",
   "metadata": {},
   "outputs": [
    {
     "data": {
      "image/png": "[encoded data removed]",
      "text/plain": [
       "<Figure size 2000x1200 with 5 Axes>"
      ]
     },
     "metadata": {},
     "output_type": "display_data"
    }
   ],
   "source": [
    "scen =  'Baseline|1 ppt increase in policy rate in 2025|A permanent 10 percent depreciation in 2025|A permanent 1 percent increase in TFP levels|A permanent $20 increase in global crude oil prices'''\n",
    "fig1=themodel.plot(f'{cty}NECONPRVTXN',scenarios=scen,start=2023,end=2040,datatype=\"difgrowth\",heading=\"Change in inflation\",title=\"Inflation)\");\n",
    "#fig2=themodel.plot(f'{cty}NYGDPMKTPKN {cty}NYGDPPOTLKN',scenarios=scen,start=2023,end=2040,datatype=\"difpctlevel\",heading=\"Percent change from baseline\");\n",
    "fig3=themodel.plot(f'{cty}BNCABFUNDCD {cty}GGBALOVRLCN {cty}GGDBTTOTLCN',scenarios=scen,start=2023,end=2040,datatype=\"difgdppct\",heading=\"Change as a percent of GDP\");\n",
    "\n",
    "#combo=(fig1|fig2|fig3).set_options(samefig=True,name='Non_fisc');\n",
    "combo=(fig1|fig3).set_options(samefig=True,name='Non_fisc');\n",
    "combo.show\n",
    "                               "
   ]
  },
  {
   "cell_type": "markdown",
   "id": "a585e506",
   "metadata": {},
   "source": [
    "As might be expected, effects across these scenarios are more divergent.  \n",
    "\n",
    "**Inflation**\n",
    "Higher oil prices and an exchange rate depreciation both are inflationary at least in the short-run.  The inflation impact in the oil scenario is much smaller than in the depreciation scenario and dissipates quite rapidly  as the economy adjusts. Inflation in all scenarios is returning to its pre-shock levels.\n",
    "\n",
    "Both the TFP shock and the monetary policy tightening contribute to declines in inflation.  The TFP shock is deflationary because it raises potential output and therefore open up a negative output gap, at least initially.  Over time this effect diminishes. \n",
    "\n",
    "**Current account**\n",
    "Unsurprisingly, the depreciation is positive for the current account but the other scenarios have modest effects that tend to dissipate in the longer run.\n",
    "\n",
    "\n"
   ]
  },
  {
   "cell_type": "markdown",
   "id": "8896b7cb",
   "metadata": {},
   "source": [
    "#### Real GDP impacts of non-fiscal simulations"
   ]
  },
  {
   "cell_type": "code",
   "execution_count": 34,
   "id": "798f6f05",
   "metadata": {},
   "outputs": [
    {
     "data": {
      "application/vnd.jupyter.widget-view+json": {
       "model_id": "6415a24411a041ea8feee4a0621fb273",
       "version_major": 2,
       "version_minor": 0
      },
      "text/plain": [
       "Accordion(children=(HTML(value='<?xml version=\"1.0\" encoding=\"utf-8\" standalone=\"no\"?>\\n<!DOCTYPE svg PUBLIC \"…"
      ]
     },
     "metadata": {},
     "output_type": "display_data"
    }
   ],
   "source": [
    "\n",
    "themodel.plot(f'{cty}NYGDPPOTLKN {cty}NYGDPMKTPKN {cty}NECONPRVTKN {cty}NEGDIFTOTKN {cty}NEEXPGNFSKN {cty}NEIMPGNFSKN',\n",
    "              scenarios=scen,start=2020, end=2040,\n",
    "              datatype=\"difpctlevel\",samefig=True,\n",
    "              legend=True,rename=True,\n",
    "              title=\"Real GDP impacts of non-fiscal scenarios\")"
   ]
  },
  {
   "cell_type": "markdown",
   "id": "1415d19e",
   "metadata": {},
   "source": [
    "#### Discussion of real GDP impacts of non-fiscal scenarios\n",
    "\n",
    "##### The TFP shock (green line)\n",
    "Potential and real GDP impacts mirror one another, with the TFP shock raising potential output permanently, and with real GDP catching up over-time slowly.  The potential GDP impact rises proportionately over time because the higher output induces additional investment which adds further to potential GDP.  Higher potential and actual GDP translates into increased consumption, exports and imports as the economy adjusts to the higher scale of activity.\n",
    "\n",
    "##### The monetary policy shock (blue line)\n",
    "As can be expected a tightening of monetary policy has negative effects on GDP. Higher interest rates and slower growth reduce investment growth which has a modest negative effect on potential output and long-run GDP. Consumer demand mirrors GDP as incomes are reduced modestly as compared with the baseline.  Exports are hurt initially due to high capital costs, but as inflation declines they benefit and by the end of the period the impact is negligible.  Imports are similarly hurt initially but recover most of the losses,  They remain lower than baseline in line with lower domestic demand and GDP.\n",
    "\n",
    "##### Depreciation (orange line)\n",
    "The long run effect of the 10 percent depreciation is negative, reflecting higher import costs, which dampen investment and contribute to a cumulative 1.5 percent decline in potential output.  Exports benefit initially as domestic goods become more compEtitive abroad and imports decline as import-competing firms benefit.  However, higher import costs translate into lower real incomes and lower consumption, which persist into the future due to the investment effect on GDP.\n",
    "\n",
    "##### Oil price hike (red line)\n",
    "\n",
    "A permanent $20 nominal increase in oil prices has modest impacts on GDP, increasing potential slightly in Indonesia an oil exporter as incomes rise allowing for a modest increase in investment and consumption.  Real non-oil exports decline, mainly because of price effects induced by the additional spending that the higher oil revenues enable, which are in turn reflected in a modest decrease in import volumes.\n",
    "\n",
    "\n"
   ]
  },
  {
   "cell_type": "markdown",
   "id": "8e602706",
   "metadata": {},
   "source": [
    "### Fiscal impacts of non-fiscal scenarios\n",
    "\n",
    "The depreciation fall in spending is kind of hard to explain."
   ]
  },
  {
   "cell_type": "code",
   "execution_count": 35,
   "id": "f1c57a44",
   "metadata": {},
   "outputs": [
    {
     "name": "stdout",
     "output_type": "stream",
     "text": [
      "TURGGEXPCOEPCN  : Gov compensation of employees\n",
      "TURGGEXPGNFSCN  : Expenditure on goods and services\n",
      "TURGGEXPINFRCN  : TURGGEXPINFRCN\n",
      "TURGGEXPNINFRCN : TURGGEXPNINFRCN\n",
      "TURGGEXPOTHRCN  : TURGGEXPOTHRCN\n",
      "TURGGEXPPINTCN  : Interest expenses by government\n",
      "TURGGEXPPUBCN   : Public investment\n",
      "TURGGEXPRECVCN  : Funds that you get for spending\n",
      "TURGGEXPSOCLCN  : Sosical expenditure\n",
      "TURGGEXPTOTLCN  : Total expenditure\n",
      "TURGGEXPTRNSFCN : Transfers by public\n"
     ]
    }
   ],
   "source": [
    "# Uncomment to display the mnemonics and desriptions of the general gobernment (GG) expenditure items \n",
    "# (EXP) in nominal local currency (CN)\n",
    "themodel[f'{cty}GGEXP*CN'].des  "
   ]
  },
  {
   "cell_type": "code",
   "execution_count": 36,
   "id": "cebf0f6e",
   "metadata": {},
   "outputs": [
    {
     "data": {
      "application/vnd.jupyter.widget-view+json": {
       "model_id": "36d00fea8a1b440595a015d7ea62d819",
       "version_major": 2,
       "version_minor": 0
      },
      "text/plain": [
       "Accordion(children=(HTML(value='<?xml version=\"1.0\" encoding=\"utf-8\" standalone=\"no\"?>\\n<!DOCTYPE svg PUBLIC \"…"
      ]
     },
     "metadata": {},
     "output_type": "display_data"
    }
   ],
   "source": [
    "themodel.plot(f'{cty}GGBALOVRLCN {cty}GGEXPTOTLCN {cty}GGREVTOTLCN {cty}GGEXPINTPCN {cty}GGDBTTOTLCN',\n",
    "              scenarios=scen,start=2020, end=2040,datatype=\"difgdppct\",samefig=True,legend=True,\n",
    "              title=\"Revenue impacts of non-fiscal scenarios\",name=\"NonFiscRevenues\")"
   ]
  },
  {
   "cell_type": "markdown",
   "id": "e7b31a3d",
   "metadata": {},
   "source": [
    "Fiscal effects are relatively modest as might be expected given that no fiscal levers are directly touched in these simulations."
   ]
  },
  {
   "cell_type": "code",
   "execution_count": 37,
   "id": "485bb0ac",
   "metadata": {},
   "outputs": [
    {
     "name": "stdout",
     "output_type": "stream",
     "text": [
      "TURGGBALOVRLCN  : Budget balance\n",
      "TURGGBALOVRLCN_ : TURGGBALOVRLCN_\n",
      "TURGGBALPRIMCN  : TURGGBALPRIMCN\n",
      "TURGGBALPRIMCN_ : TURGGBALPRIMCN_\n"
     ]
    }
   ],
   "source": [
    "themodel['TURGGBAL*'].des"
   ]
  },
  {
   "cell_type": "code",
   "execution_count": null,
   "id": "a17fed1d",
   "metadata": {},
   "outputs": [],
   "source": []
  }
 ],
 "metadata": {
  "celltoolbar": "Edit Metadata",
  "hide_input": false,
  "kernelspec": {
   "display_name": "Python 3 (ipykernel)",
   "language": "python",
   "name": "python3"
  },
  "language_info": {
   "codemirror_mode": {
    "name": "ipython",
    "version": 3
   },
   "file_extension": ".py",
   "mimetype": "text/x-python",
   "name": "python",
   "nbconvert_exporter": "python",
   "pygments_lexer": "ipython3",
   "version": "3.12.6"
  },
  "nbTranslate": {
   "displayLangs": [
    "*"
   ],
   "hotkey": "alt-t",
   "langInMainMenu": true,
   "sourceLang": "en",
   "targetLang": "fr",
   "useGoogleTranslate": true
  },
  "toc": {
   "base_numbering": 1,
   "nav_menu": {},
   "number_sections": true,
   "sideBar": false,
   "skip_h1_title": false,
   "title_cell": "Table of Contents",
   "title_sidebar": "Contents",
   "toc_cell": false,
   "toc_position": {
    "height": "795.547px",
    "left": "22.9922px",
    "top": "67.8711px",
    "width": "426.641px"
   },
   "toc_section_display": true,
   "toc_window_display": false
  },
  "varInspector": {
   "cols": {
    "lenName": 16,
    "lenType": 16,
    "lenVar": 40
   },
   "kernels_config": {
    "python": {
     "delete_cmd_postfix": "",
     "delete_cmd_prefix": "del ",
     "library": "var_list.py",
     "varRefreshCmd": "print(var_dic_list())"
    },
    "r": {
     "delete_cmd_postfix": ") ",
     "delete_cmd_prefix": "rm(",
     "library": "var_list.r",
     "varRefreshCmd": "cat(var_dic_list()) "
    }
   },
   "types_to_exclude": [
    "module",
    "function",
    "builtin_function_or_method",
    "instance",
    "_Feature"
   ],
   "window_display": false
  }
 },
 "nbformat": 4,
 "nbformat_minor": 5
}
