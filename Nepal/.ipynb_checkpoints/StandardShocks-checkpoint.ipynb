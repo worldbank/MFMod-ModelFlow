{
 "cells": [
  {
   "cell_type": "markdown",
   "id": "5ce769c2",
   "metadata": {},
   "source": [
    "# Some Standardized shocks to illustrate the main macroeconomic features of the model\n",
    "\n",
    "This notebook performs a set of standard macroeconomic shocks on a model and displays results.  It can be used to verify the good functioning of the model and also illustrates nicely how to perform simulations on World Bank models in python using the `modelflow` package.\n",
    "\n",
    "The simulations performed are:\n",
    "\n",
    "* 5 separate stimulus shocks equal to 1 percent of *ex ante* GDP.  These can be used to compare fiscal multipliers and the impacts of different kinds of stimulus on GDP, potential GDP, consumption and inflation\n",
    "    * a 1 percent of GDP decrease in indirect taxes\n",
    "    * a 1 percent of GDP decrease in direct taxes\n",
    "    * a 1 percent of GDP increase in government spending on goods and services\n",
    "    * a 1 percent of GDP increase in government spending on investment goods\n",
    "    * a 1 percent of GDP increase in government spending on transfers to households\n",
    "* 4 non-fiscal shocks were also run\n",
    "    * a temporary one-year 1 percent increase in the monetary policy interest rate;\n",
    "    * a permanent 10 percent depreciation of the currency\n",
    "    * a permanent one percent increase in total factor productivity;\n",
    "    * a permanent \\$20 increase in the price of crude oil\n",
    "\n",
    "**Note:**\n",
    "This Notebook is designed to be run on any World Bank model. To customize the notebook to run on a different model, the string variable (`Cty`), which is defined in section 1.1 will have to be changed to take the value of the Mnemonic of the country to be simulated. Similarly the location of the file containing the model may have to be revised.   While  the World Bank mnemonics are the same across countries, not all countries report all variables.  As a result for some models, some variable names (notably those of shocked variables or the expenditure variables being held constant) may need to be revised. Otherwise the Notebook should run without change on any World Bank model."
   ]
  },
  {
   "cell_type": "markdown",
   "id": "c35bc028",
   "metadata": {},
   "source": [
    "## Set up python environment and load model object\n",
    "\n",
    "To work with modelflow we must first import the python libraries that we wish to work with and then instantiate the model object, which we have chose to call `themodel`;"
   ]
  },
  {
   "cell_type": "code",
   "execution_count": 65,
   "id": "55bd5f82",
   "metadata": {},
   "outputs": [],
   "source": [
    "from modelclass import model"
   ]
  },
  {
   "cell_type": "code",
   "execution_count": 66,
   "id": "72b2af3d",
   "metadata": {},
   "outputs": [
    {
     "name": "stdout",
     "output_type": "stream",
     "text": [
      "The autoreload extension is already loaded. To reload it, use:\n",
      "  %reload_ext autoreload\n"
     ]
    }
   ],
   "source": [
    "#Jupyter notebook code that improves the look of the executed notebook\n",
    "%load_ext autoreload\n",
    "%autoreload 2"
   ]
  },
  {
   "cell_type": "code",
   "execution_count": 67,
   "id": "08d78aad",
   "metadata": {},
   "outputs": [
    {
     "name": "stdout",
     "output_type": "stream",
     "text": [
      "Zipped file read:  data\\NPL.pcim\n",
      "Model:Nepal macro financial MF model\n",
      "Will start solving: NPL\n",
      "New data or transpile_reset\n",
      "Create compiled solving function for NPL\n",
      "ljit=False stringjit=False  transpile_reset=False  hasattr(self, f\"pro_{jitname}\")=False\n",
      "now makelos makes a sim solvefunction\n",
      "2023 Solved in 6 iterations\n",
      "2024 Solved in 6 iterations\n",
      "2025 Solved in 6 iterations\n",
      "2026 Solved in 6 iterations\n",
      "2027 Solved in 6 iterations\n",
      "2028 Solved in 6 iterations\n",
      "2029 Solved in 6 iterations\n",
      "2030 Solved in 6 iterations\n",
      "NPL solved  \n"
     ]
    }
   ],
   "source": [
    "#Set this variable to the three-letter ISO of the country whose model is being simulated\n",
    "cty=\"NPL\" \n",
    "# Models downloaded from the World Bank web site using the model.download_github_repo(reset=1) method of modelflow and\n",
    "# executing this file from the local version of the file stored on their computer shuold not have to changethe filepath varible\n",
    "filepath=f'data/{cty}'\n",
    "themodel,bline = model.modelload(filepath,run=True,keep='Baseline') "
   ]
  },
  {
   "cell_type": "code",
   "execution_count": 68,
   "id": "58bf952d",
   "metadata": {},
   "outputs": [],
   "source": [
    "# Replace default definitions / descriptions with more concise versions\n",
    "custom_description = {\n",
    "    f'{cty}NECONPRVTXN': \"Inflation\",\n",
    "    f'{cty}NYGDPMKTPCN': \"Nominal GDP\",\n",
    "    f'{cty}GGEXPTOTLCN': \"Government spending\",\n",
    "    f'{cty}GGEXPINTPCN': \"Government interest payments\",\n",
    "    f'{cty}GGREVTOTLCN': \"Government revenues\",\n",
    "    f'{cty}GGBALOVRLCN': \"Fiscal balance\",\n",
    "    f'{cty}GGDBTTOTLCN_': \"Public debt (% GDP)\" ,      \n",
    "    f'{cty}NYGDPMKTPKN': \"Real GDP\",\n",
    "    f'{cty}NECONPRVTKN': \"Real HH Expenditure\",\n",
    "    f'{cty}NYGDPPOTLKN': \"Real potenital output\",\n",
    "    f'{cty}NEGDIFTOTKN': \"Real investment\",\n",
    "    f'{cty}NEEXPGNFSKN': \"Real exports G&S\",\n",
    "    f'{cty}NEIMPGNFSKN': \"Real imports G&S\",\n",
    "    f'{cty}GGDBTTOTLCN_': \"Public debt (% GDP)\"\n",
    "}"
   ]
  },
  {
   "cell_type": "markdown",
   "id": "e58f84ed",
   "metadata": {},
   "source": [
    "## Prepare the simulations\n",
    "\n",
    "For each shock, a separate `DataFrame` is created. Each of these `DataFrames` is given a name that evokes the shock to be performed. Then each `DataFrame` is modified to reflect the shock that is to be performed.\n",
    "\n",
    "Following the creation of the `DataFrames` the shocks will be performed and the results stored using the `keep=` syntax of model flow.\n",
    "\n",
    "### Fiscal policy shocks\n",
    "\n",
    "If necessary, the two lines below can be uncommented in order to generate a list of all variables in the model that start GGEXP (general government expenditure) and GGREV (general government revenues) and that end CN (millions of current local currency units)."
   ]
  },
  {
   "cell_type": "code",
   "execution_count": 69,
   "id": "d13f54fb",
   "metadata": {},
   "outputs": [],
   "source": [
    "\n",
    "#themodel['???GGEXP*CN'].des #Uncomment to get list of mnemonics and descriptions for government expenditures\n",
    "#themodel['???GGREV*CN'].des #Uncomment to get list of mnemonics and descriptions for government revenues"
   ]
  },
  {
   "cell_type": "markdown",
   "id": "14190312",
   "metadata": {},
   "source": [
    "#### Create an expenditures string\n",
    "\n",
    "The fiscal scenarios below exogenize (hold constant) spending on those elements of government spending that are not being directly shocked.\n",
    "\n",
    "To facilitate that, the variable `GGexp` is assigned a string containing all of the expenditure variables that are to be held constant.  This variable is then used when setting up each of the fiscal shocks below. \n",
    "\n",
    "This list may need to be adjusted from model to model."
   ]
  },
  {
   "cell_type": "code",
   "execution_count": 70,
   "id": "f22e5ab0",
   "metadata": {
    "slideshow": {
     "slide_type": ""
    }
   },
   "outputs": [],
   "source": [
    "# Government spending variables to be held constant\n",
    "GGexp=f'{cty}GGEXPCAPTCN {cty}GGEXPGNFSCN {cty}GGEXPOTHRCN {cty}GGEXPTOTHCN {cty}GGEXPTRNSCN {cty}GGEXPTOTSCN {cty}GGEXPSUBSCN {cty}GGEXPWAGECN {cty}GGEXPTSSCCN';\n"
   ]
  },
  {
   "cell_type": "markdown",
   "id": "66e0e13e",
   "metadata": {},
   "source": [
    "### The Indirect tax cut\n",
    "\n",
    "This shock assumes that the main elements of government spending are held constant at their pre-shock levels.  This assumption could be relaxed by commenting out the second line. \n",
    "\n",
    "In the model, indirect taxes `GGREVGNFSCN` is an identity (see below) equal to the sum of excise taxes (`NPLGGREVGEXCCN`),VAT taxes `NPLGGREVGVATCN` and other indirect taxes(`NPLGGREVGOTHCN`). \n",
    "\n"
   ]
  },
  {
   "cell_type": "code",
   "execution_count": 71,
   "id": "907a9ad4",
   "metadata": {},
   "outputs": [
    {
     "name": "stdout",
     "output_type": "stream",
     "text": [
      "NPLGGREVGNFSCN : FRML <IDENT> NPLGGREVGNFSCN = NPLGGREVGVATCN+NPLGGREVGEXCCN+NPLGGREVGOTHCN $\n"
     ]
    }
   ],
   "source": [
    "themodel['NPLGGREVGNFSCN'].frml"
   ]
  },
  {
   "cell_type": "markdown",
   "id": "31efe70a",
   "metadata": {},
   "source": [
    "Inspecting the values of each revenue, it is clear that excise and VAT are the most important and of the three the VAT is the largest.  So we will impose the shock on the VAT."
   ]
  },
  {
   "cell_type": "code",
   "execution_count": 72,
   "id": "226d00f7",
   "metadata": {},
   "outputs": [
    {
     "data": {
      "text/html": [
       "<div>\n",
       "<style scoped>\n",
       "    .dataframe tbody tr th:only-of-type {\n",
       "        vertical-align: middle;\n",
       "    }\n",
       "\n",
       "    .dataframe tbody tr th {\n",
       "        vertical-align: top;\n",
       "    }\n",
       "\n",
       "    .dataframe thead th {\n",
       "        text-align: right;\n",
       "    }\n",
       "</style>\n",
       "<table border=\"1\" class=\"dataframe\">\n",
       "  <thead>\n",
       "    <tr style=\"text-align: right;\">\n",
       "      <th></th>\n",
       "      <th>NPLGGREVGEXCCN</th>\n",
       "      <th>NPLGGREVGNFSCN</th>\n",
       "      <th>NPLGGREVGOTHCN</th>\n",
       "      <th>NPLGGREVGRNTCN</th>\n",
       "      <th>NPLGGREVGVATCN</th>\n",
       "    </tr>\n",
       "  </thead>\n",
       "  <tbody>\n",
       "    <tr>\n",
       "      <th>2023</th>\n",
       "      <td>136267.859919</td>\n",
       "      <td>462990.515054</td>\n",
       "      <td>40090.957601</td>\n",
       "      <td>23008.902649</td>\n",
       "      <td>286631.697534</td>\n",
       "    </tr>\n",
       "    <tr>\n",
       "      <th>2024</th>\n",
       "      <td>134024.970510</td>\n",
       "      <td>474182.517100</td>\n",
       "      <td>45691.331094</td>\n",
       "      <td>38645.555624</td>\n",
       "      <td>294466.215495</td>\n",
       "    </tr>\n",
       "    <tr>\n",
       "      <th>2025</th>\n",
       "      <td>140125.979954</td>\n",
       "      <td>506409.332735</td>\n",
       "      <td>51257.857444</td>\n",
       "      <td>49973.538171</td>\n",
       "      <td>315025.495336</td>\n",
       "    </tr>\n",
       "    <tr>\n",
       "      <th>2026</th>\n",
       "      <td>151925.502065</td>\n",
       "      <td>554374.040873</td>\n",
       "      <td>57078.966926</td>\n",
       "      <td>59243.290327</td>\n",
       "      <td>345369.571882</td>\n",
       "    </tr>\n",
       "    <tr>\n",
       "      <th>2027</th>\n",
       "      <td>168253.600047</td>\n",
       "      <td>616424.997381</td>\n",
       "      <td>63716.089599</td>\n",
       "      <td>68113.562427</td>\n",
       "      <td>384455.307736</td>\n",
       "    </tr>\n",
       "    <tr>\n",
       "      <th>2028</th>\n",
       "      <td>188742.807215</td>\n",
       "      <td>692561.424107</td>\n",
       "      <td>71548.588027</td>\n",
       "      <td>77592.317078</td>\n",
       "      <td>432270.028865</td>\n",
       "    </tr>\n",
       "    <tr>\n",
       "      <th>2029</th>\n",
       "      <td>213017.185561</td>\n",
       "      <td>782051.306307</td>\n",
       "      <td>80667.669980</td>\n",
       "      <td>88103.076956</td>\n",
       "      <td>488366.450766</td>\n",
       "    </tr>\n",
       "    <tr>\n",
       "      <th>2030</th>\n",
       "      <td>240547.918596</td>\n",
       "      <td>883269.000974</td>\n",
       "      <td>90985.665536</td>\n",
       "      <td>99722.011240</td>\n",
       "      <td>551735.416842</td>\n",
       "    </tr>\n",
       "  </tbody>\n",
       "</table>\n",
       "</div>"
      ],
      "text/plain": [
       "      NPLGGREVGEXCCN  NPLGGREVGNFSCN  NPLGGREVGOTHCN  NPLGGREVGRNTCN  \\\n",
       "2023   136267.859919   462990.515054    40090.957601    23008.902649   \n",
       "2024   134024.970510   474182.517100    45691.331094    38645.555624   \n",
       "2025   140125.979954   506409.332735    51257.857444    49973.538171   \n",
       "2026   151925.502065   554374.040873    57078.966926    59243.290327   \n",
       "2027   168253.600047   616424.997381    63716.089599    68113.562427   \n",
       "2028   188742.807215   692561.424107    71548.588027    77592.317078   \n",
       "2029   213017.185561   782051.306307    80667.669980    88103.076956   \n",
       "2030   240547.918596   883269.000974    90985.665536    99722.011240   \n",
       "\n",
       "      NPLGGREVGVATCN  \n",
       "2023   286631.697534  \n",
       "2024   294466.215495  \n",
       "2025   315025.495336  \n",
       "2026   345369.571882  \n",
       "2027   384455.307736  \n",
       "2028   432270.028865  \n",
       "2029   488366.450766  \n",
       "2030   551735.416842  "
      ]
     },
     "execution_count": 72,
     "metadata": {},
     "output_type": "execute_result"
    }
   ],
   "source": [
    "themodel['NPLGGREVG*CN'].df"
   ]
  },
  {
   "cell_type": "markdown",
   "id": "e8105140",
   "metadata": {},
   "source": [
    "Inspecting the VAT revenue equation (see below), one notes that the VAT revenue is the product of the statutory VAT rate (`NPLGGREVGVATSR`). the historical coverage rate (`NPLGGREVGVATCR(-1)`) and the revenue base upon which it is imposed (Household and government consumption).\n",
    "\n",
    "To shock the level of VAT revenues in 2025 the add factor is used.  By reducing revenues in 2025 by 1 percent of GDP, the effective tax rate in that year falls, reducing the coverage rate for that year.  For subsequent year's the effective rate (the product of the statutory and coverage rates) will automatically decline to the level in 2025."
   ]
  },
  {
   "cell_type": "code",
   "execution_count": 73,
   "id": "888976f1",
   "metadata": {},
   "outputs": [
    {
     "name": "stdout",
     "output_type": "stream",
     "text": [
      "NPLGGREVGVATCN : \n",
      "NPLGGREVGVATCN = (NPLGGREVGVATSR/100)*(NPLGGREVGVATCR( - 1)/100)*(NPLNECONPRVTCN + NPLNECONGOVTCN) + 30648.0979965078*@DURING(\"2017\")\r\n"
     ]
    }
   ],
   "source": [
    "themodel['NPLGGREVGVATCN'].eviews\n"
   ]
  },
  {
   "cell_type": "code",
   "execution_count": 74,
   "id": "f6bcf418",
   "metadata": {},
   "outputs": [
    {
     "name": "stdout",
     "output_type": "stream",
     "text": [
      "The folowing variables are fixed\n",
      "NPLGGEXPCAPTCN\n",
      "NPLGGEXPGNFSCN\n",
      "NPLGGEXPOTHRCN\n",
      "NPLGGEXPTOTHCN\n",
      "NPLGGEXPTOTSCN\n",
      "NPLGGEXPSUBSCN\n",
      "NPLGGEXPWAGECN\n"
     ]
    }
   ],
   "source": [
    "fpol_indirect=bline.copy()\n",
    "fpol_indirect=themodel.fix(bline,f'{GGexp}') # Freeze other spending levels\n",
    "\n",
    "# PIT and CIT tax revenues are determined by the lagged effective rate.  \n",
    "# Thus shocking the level of tax revenues in 2025 by one percent of GDP\n",
    "# will increase the effective tax rate going forward by a constant amount\n",
    "# consistent with a .5 percent increase in GDP and the tax base for consumption\n",
    "fpol_indirect=fpol_indirect.mfcalc(\n",
    "    f'<2025 2025> {cty}GGREVGVATCN_A ={cty}GGREVDCITCN_A - .01*{cty}NYGDPMKTPCN')\n",
    "\n",
    "\n",
    "#solve the model.\n",
    "tempdf = themodel(fpol_indirect,silent=1,keep=f'1 % of GDP Indirect tax cut')"
   ]
  },
  {
   "cell_type": "markdown",
   "id": "c07f4c86",
   "metadata": {},
   "source": [
    "### Direct tax hike of 1% of GDP\n",
    "\n",
    "The same basic methodology is followed for  direct taxes.\n"
   ]
  },
  {
   "cell_type": "code",
   "execution_count": 75,
   "id": "b5548223",
   "metadata": {},
   "outputs": [
    {
     "name": "stdout",
     "output_type": "stream",
     "text": [
      "The folowing variables are fixed\n",
      "NPLGGEXPCAPTCN\n",
      "NPLGGEXPGNFSCN\n",
      "NPLGGEXPOTHRCN\n",
      "NPLGGEXPTOTHCN\n",
      "NPLGGEXPTOTSCN\n",
      "NPLGGEXPSUBSCN\n",
      "NPLGGEXPWAGECN\n"
     ]
    }
   ],
   "source": [
    "fpol_direct=bline.copy()\n",
    "fpol_direct=themodel.fix(bline,f'{GGexp}') # Freeze spending levels Capital\n",
    "\n",
    "# In the model direct taxes (personal and corporate income taxes) tax are \n",
    "# determined by the lagged effective rate of taxation.  Shocking the \n",
    "# level of tax revenues in 2025 by one percent of GDP decreases the effective \n",
    "# tax rate going forward by a constant amount consistent with a 1 percent decrease \n",
    "# in GDP and the tax base for direct taxes (.5% for each)\n",
    "fpol_direct=fpol_direct.mfcalc(\n",
    "    f'<2025 2025> {cty}GGREVDPITCN_A ={cty}GGREVDPITCN_A  - .005*{cty}NYGDPMKTPCN')\n",
    "fpol_direct=fpol_direct.mfcalc(\n",
    "    f'<2025 2025> {cty}GGREVDCITCN_A ={cty}GGREVDCITCN_A  - .005*{cty}NYGDPMKTPCN')\n",
    "\n",
    "#solve the model.\n",
    "tempdf = themodel(fpol_direct,silent=1,keep=f'1 % of GDP direct tax cut')"
   ]
  },
  {
   "cell_type": "markdown",
   "id": "35f3e28f",
   "metadata": {},
   "source": [
    "### Increase in expenditure on goods and services\n",
    "\n",
    "The ex ante fiscal effort is the same in this scenario (1% of ex ante GDP) with the difference that it is implemented as an increase government spending, in this instance on goods and services.\n",
    "\n"
   ]
  },
  {
   "cell_type": "code",
   "execution_count": 76,
   "id": "2209658a",
   "metadata": {
    "cm_config": {
     "lineWrapping": true
    },
    "hide_input": false,
    "scrolled": true
   },
   "outputs": [
    {
     "name": "stdout",
     "output_type": "stream",
     "text": [
      "The folowing variables are fixed\n",
      "NPLGGEXPCAPTCN\n",
      "NPLGGEXPGNFSCN\n",
      "NPLGGEXPOTHRCN\n",
      "NPLGGEXPTOTHCN\n",
      "NPLGGEXPTOTSCN\n",
      "NPLGGEXPSUBSCN\n",
      "NPLGGEXPWAGECN\n"
     ]
    }
   ],
   "source": [
    "fpol_ExpGS=bline.copy()\n",
    "fpol_ExpGS=themodel.fix(bline,f'{GGexp}') # Freeze spending levels \n",
    "\n",
    "fpol_ExpGS=fpol_ExpGS.mfcalc(\n",
    "    f'<2025 2050> {cty}GGEXPGNFSCN_X ={cty}GGEXPGNFSCN_X   + .01*{cty}NYGDPMKTPCN')\n"
   ]
  },
  {
   "cell_type": "code",
   "execution_count": 77,
   "id": "63a151a7",
   "metadata": {},
   "outputs": [],
   "source": [
    "#solve the model.\n",
    "tempdf = themodel(fpol_ExpGS,silent=1,keep=f'1 % of GDP increase in G&S spending')\n",
    "#themodel.lastdf['IDNNECONGOVTCN']/themodel.basedf['IDNNECONGOVTCN']"
   ]
  },
  {
   "cell_type": "markdown",
   "id": "bde13cec",
   "metadata": {},
   "source": [
    "### Increase in expenditure on investment goods\n",
    "\n",
    "The ex ante fiscal effort is the same in this scenario (1% of ex ante GDP), implemented as an increase in government spending on capital goods. \n"
   ]
  },
  {
   "cell_type": "code",
   "execution_count": 78,
   "id": "cbd5d257",
   "metadata": {},
   "outputs": [
    {
     "name": "stdout",
     "output_type": "stream",
     "text": [
      "The folowing variables are fixed\n",
      "NPLGGEXPCAPTCN\n",
      "NPLGGEXPGNFSCN\n",
      "NPLGGEXPOTHRCN\n",
      "NPLGGEXPTOTHCN\n",
      "NPLGGEXPTOTSCN\n",
      "NPLGGEXPSUBSCN\n",
      "NPLGGEXPWAGECN\n"
     ]
    }
   ],
   "source": [
    "fpol_ExpInv=bline.copy()\n",
    "fpol_ExpInv=themodel.fix(bline,f'{GGexp}') # Freeze spending levels \n",
    "\n",
    "fpol_ExpInv=fpol_ExpInv.mfcalc(f'<2025 2050> {cty}GGEXPCAPTCN_X ={cty}GGEXPCAPTCN_X   + .01*{cty}NYGDPMKTPCN')"
   ]
  },
  {
   "cell_type": "code",
   "execution_count": 79,
   "id": "9b67540a",
   "metadata": {},
   "outputs": [],
   "source": [
    "#solve the model.\n",
    "tempdf = themodel(fpol_ExpInv,silent=1,keep=f'1 % of GDP increase in Govt investment spending')\n",
    "#themodel.lastdf['IDNNECONGOVTCN']/themodel.basedf['IDNNECONGOVTCN']\n",
    "\n"
   ]
  },
  {
   "cell_type": "markdown",
   "id": "853d7752",
   "metadata": {},
   "source": [
    "### Increase in expenditure on Transfers to households\n",
    "\n",
    "In this scenario, the same fiscal effort is implemented as an increase in transfers to households.\n"
   ]
  },
  {
   "cell_type": "code",
   "execution_count": 91,
   "id": "49d43eb3",
   "metadata": {},
   "outputs": [
    {
     "name": "stdout",
     "output_type": "stream",
     "text": [
      "The folowing variables are fixed\n",
      "NPLGGEXPCAPTCN\n",
      "NPLGGEXPGNFSCN\n",
      "NPLGGEXPOTHRCN\n",
      "NPLGGEXPTOTHCN\n",
      "NPLGGEXPTOTSCN\n",
      "NPLGGEXPSUBSCN\n",
      "NPLGGEXPWAGECN\n"
     ]
    }
   ],
   "source": [
    "fpol_ExpTrans=bline.copy()\n",
    "fpol_ExpTrans=themodel.fix(bline,f'{GGexp}') # Freeze spending levels \n",
    "GGexp\n",
    "fpol_ExpTrans=fpol_ExpTrans.mfcalc(f'<2025 2050> {cty}GGEXPTOTSCN_X = {cty}GGEXPTOTSCN_X   + .01*{cty}NYGDPMKTPCN')"
   ]
  },
  {
   "cell_type": "code",
   "execution_count": 92,
   "id": "5b018165",
   "metadata": {},
   "outputs": [],
   "source": [
    "#solve the model.\n",
    "tempdf = themodel(fpol_ExpTrans,silent=1,keep=f'1 % of GDP increase in transfers to households')\n",
    "#themodel.lastdf['IDNNECONGOVTCN']/themodel.basedf['IDNNECONGOVTCN']"
   ]
  },
  {
   "cell_type": "markdown",
   "id": "0e4e3224",
   "metadata": {},
   "source": [
    "## Comparisons of results from the fiscal scenarios\n",
    "\n",
    "The following charts compare results from the different fiscal simulations. Impacts will differ both in terms of their long-term and short-term impacts.  For example a scenario that increased investment would likely have negative impacts on consumption in the short-run but in the longer run could be expected to have an opposite impact on potential output, GDP and perhaps consumption.  A scenario that concentrated on transfers or consumption might have more of a short-term impact on demand but in the long run would have limited (and potentially negative impacts on output), especially if increased fiscal deficits and debt crowded out private sector investment.  As all World Bank models are customized to the country for which they have been built the extent of these effects can vary across models.\n",
    "\n",
    "\n",
    "Recall the scenarios that were run by interrogating the keep_solutions dictionary.\n",
    "\n"
   ]
  },
  {
   "cell_type": "code",
   "execution_count": 85,
   "id": "b0af3d35",
   "metadata": {},
   "outputs": [
    {
     "name": "stdout",
     "output_type": "stream",
     "text": [
      "Baseline\n",
      "1 % of GDP Indirect tax cut\n",
      "1 % of GDP direct tax cut\n",
      "1 % of GDP increase in G&S spending\n",
      "1 % of GDP increase in Govt investment spending\n",
      "1 % of GDP increase in transfers to households\n"
     ]
    }
   ],
   "source": [
    "for key,value in themodel.keep_solutions.items():\n",
    "    print(key)"
   ]
  },
  {
   "cell_type": "markdown",
   "id": "fc084d9f",
   "metadata": {},
   "source": [
    "### Real GDP impacts and impacts on main Real GDP expenditure components\n",
    "\n",
    "The following ploy uses the `scenarios=` option clause to select which scenario results are to be plotted, and then plots them on a series of charts one one page using the `samefig=True` and the `datatype=difpctlevel` options.  The first option ensures that all the graphs are arranged in a grid and the second expresses the results as a percent deviation from the results in the first scenario specified in the `scenarios` option -- in this case the baseline scenario. Note, the included scenarios in the are identified by the text used in the initial keep command and separated by a horizontal line \"|\"."
   ]
  },
  {
   "cell_type": "code",
   "execution_count": 86,
   "id": "6b43ff4c",
   "metadata": {},
   "outputs": [
    {
     "name": "stdout",
     "output_type": "stream",
     "text": [
      "'Baseline|'\n",
      "'1 % of GDP Indirect tax cut|'\n",
      "'1 % of GDP direct tax cut|'\n",
      "'1 % of GDP increase in G&S spending|'\n",
      "'1 % of GDP increase in Govt investment spending|'\n",
      "'1 % of GDP increase in transfers to households|'\n"
     ]
    }
   ],
   "source": [
    "for key,value in themodel.keep_solutions.items():\n",
    "    print(f\"'{key}|'\")\n"
   ]
  },
  {
   "cell_type": "code",
   "execution_count": 93,
   "id": "755d9f15",
   "metadata": {
    "scrolled": false
   },
   "outputs": [
    {
     "data": {
      "application/vnd.jupyter.widget-view+json": {
       "model_id": "77f1ff0feaca4800a19bd82c413eee1c",
       "version_major": 2,
       "version_minor": 0
      },
      "text/plain": [
       "Accordion(children=(HTML(value='<?xml version=\"1.0\" encoding=\"utf-8\" standalone=\"no\"?>\\n<!DOCTYPE svg PUBLIC \"…"
      ]
     },
     "metadata": {},
     "output_type": "display_data"
    }
   ],
   "source": [
    "themodel.plot(f'{cty}NYGDPPOTLKN {cty}NYGDPMKTPKN {cty}NECONPRVTKN {cty}NEGDIFTOTKN'\n",
    "              ' {cty}NEEXPGNFSKN {cty}NEIMPGNFSKN',\n",
    "              scenarios='Baseline|'\n",
    "              '1 % of GDP Indirect tax cut|'\n",
    "              '1 % of GDP direct tax cut|'\n",
    "              '1 % of GDP increase in G&S spending|'\n",
    "              '1 % of GDP increase in Govt investment spending|'\n",
    "              '1 % of GDP increase in transfers to households',\n",
    "              custom_description=custom_description,\n",
    "              start=2020, end=2040,datatype='difpctlevel',samefig=True,legend=True,title=\"Comparison of fiscal scenarios\",name=\"FiscalScenarios\")"
   ]
  },
  {
   "cell_type": "markdown",
   "id": "f2ad55ea",
   "metadata": {},
   "source": [
    "\n",
    "For Nepal, the GDP results appear to be consistent with expectations.  Fiscal expansion of all types boosted demand and GDP in the short run.  However, the long run the impact depends on the impact of the spending on potential output.  Sustained increased investment spending served to increase the capital stock and contribute to higher potential and actual GDP.  Spending that focused on consumption or transfers has little discernible impact on potential. Potential does rise somewhat in all scenarios, because higher activity induces an initial rise in investment, but in most scenarios this effect is short-lived and dies out toward the end of the projection period.  \n",
    "\n",
    "Transfers to households and decreased direct taxation tend to benefit households, although this impact declines over time due to the relative stability of potential output in these scenarios.  The cut in indirect taxes tends to generate small but persistent benefits, presumably due to lower prices for domestically produced goods with benefits to both exports and import competing goods.\n",
    "\n",
    "In all scenarios the process by which actual output reverts to the level of potential appears to be weak.\n",
    "\n",
    "### Impacts on the fiscal accounts\n",
    "\n",
    "The following command shows the impacts on several of the main fiscal indicators."
   ]
  },
  {
   "cell_type": "code",
   "execution_count": 95,
   "id": "94e69d82",
   "metadata": {},
   "outputs": [
    {
     "data": {
      "application/vnd.jupyter.widget-view+json": {
       "model_id": "049a3de2630c483f90bd29610e9d5abb",
       "version_major": 2,
       "version_minor": 0
      },
      "text/plain": [
       "Accordion(children=(HTML(value='<?xml version=\"1.0\" encoding=\"utf-8\" standalone=\"no\"?>\\n<!DOCTYPE svg PUBLIC \"…"
      ]
     },
     "metadata": {},
     "output_type": "display_data"
    }
   ],
   "source": [
    "themodel.plot(f'{cty}NYGDPMKTPCN {cty}GGEXPTOTLCN {cty}GGEXPINTPCN {cty}GGREVTOTLCN {cty}GGBALOVRLCN {cty}GGDBTTOTLCN',\n",
    "              scenarios='Baseline|'\n",
    "              '1 % of GDP Indirect tax cut|'\n",
    "              '1 % of GDP direct tax cut|'\n",
    "              '1 % of GDP increase in G&S spending|'\n",
    "              '1 % of GDP increase in Govt investment spending|'\n",
    "              '1 % of GDP increase in transfers to households',\n",
    "              custom_description=custom_description,\n",
    "              start=2020, end=2040,\n",
    "              datatype='difpctlevel',\n",
    "              samefig=True,legend=True,\n",
    "              title=\"Comparison of fiscal scenarios\",\n",
    "              name=\"FiscalScenarios\")"
   ]
  },
  {
   "cell_type": "markdown",
   "id": "7451502c",
   "metadata": {},
   "source": [
    "Note that:\n",
    "* Nominal GDP is increased in all scenarios, mainly reflecting the inflationary impact of the scenario (most scenarios saw real GDP decline).  \n",
    "* The fiscal account deteriorates in all scenarios as compared with the baseline.\n",
    "    * Nominal spending increases even in the tax scenarios, but here the driver is increased interest payments as other elements of spending were held constant.\n",
    "    * Although interest payments as a percent of their initial level are up a lot, the increase as a percent of GDP (see next set of charts is less pronounced).\n",
    "    * Revenues improve in the spending scenarios because of higher nominal GDP.\n",
    "    * The fiscal balance deteriorates (becomes more negative) with the extent of the deterioration. The decline is smallest in the scenarios where real GDP growth is increasing.\n",
    "    * Public debt is higher in all scenarios"
   ]
  },
  {
   "cell_type": "markdown",
   "id": "6de59faf",
   "metadata": {},
   "source": [
    "#### Fiscal impacts as a percent of GDP\n",
    "\n",
    "As observed. higher inflation (due to increased demand in the early years of the simulation) mean that both revenues and expenditures are higher in the simulation scenarios.  \n",
    "\n",
    "To correct for this effect, the following charts show the results as a percent of GDP.  Here the inflation influences both the numerator and the denominator, so just the net effect is drawn.\n"
   ]
  },
  {
   "cell_type": "code",
   "execution_count": 96,
   "id": "73e4c3f5",
   "metadata": {},
   "outputs": [
    {
     "data": {
      "application/vnd.jupyter.widget-view+json": {
       "model_id": "d33a0cf42c69474aa7fd9d4fdc5db05a",
       "version_major": 2,
       "version_minor": 0
      },
      "text/plain": [
       "Accordion(children=(HTML(value='<?xml version=\"1.0\" encoding=\"utf-8\" standalone=\"no\"?>\\n<!DOCTYPE svg PUBLIC \"…"
      ]
     },
     "metadata": {},
     "output_type": "display_data"
    }
   ],
   "source": [
    "themodel.plot(f'{cty}GGREVTOTLCN {cty}GGEXPTOTLCN {cty}GGEXPINTPCN {cty}GGBALOVRLCN {cty}GGDBTTOTLCN',\n",
    "              scenarios='Baseline|'\n",
    "              '1 % of GDP Indirect tax cut|'\n",
    "              '1 % of GDP direct tax cut|'\n",
    "              '1 % of GDP increase in G&S spending|'\n",
    "              '1 % of GDP increase in Govt investment spending|'\n",
    "              '1 % of GDP increase in transfers to households',\n",
    "              custom_description=custom_description,\n",
    "              start=2023, end=2040,\n",
    "              datatype='gdppct',\n",
    "              samefig=True,\n",
    "              legend=True,\n",
    "              title=\"Comparison of fiscal scenarios\",\n",
    "              name=\"FiscalScenarios\")"
   ]
  },
  {
   "cell_type": "markdown",
   "id": "f292de92",
   "metadata": {
    "slideshow": {
     "slide_type": "slide"
    }
   },
   "source": [
    "\n",
    "* Spending as a percent of GDP increases by a bit more than 2 percent of GDP in the spending scenarios, the result of the original bump up in spending plus increased interest payments as the debt rises.\n",
    "* Revenues as a percent of GDP are down in the tax reduction scenarios, but up somewhat in the spending scenarios -- presumably reflecting a switch in the mix of total expenditure towards categories that are relatively highly taxed.\n",
    "* Interest payments rise by as much as 3 percent of GDP by the end of the period due to higher debt levels and because of higher interest rates as debt to GDP rates rise.\n",
    "* Higher debt and fiscal borrowing will translate into increased competition for domestic and foreign savings, crowding out private sector investment\n",
    "* The fiscal balance deteriorates by between one and three percent of GDP, with differences reflecting differences in real GDP, inflation, and revenue impacts.\n",
    "* Debt rises by more more than 5 percent of GDP as the permanent 1 percent increase in spending accumulates over time."
   ]
  },
  {
   "cell_type": "markdown",
   "id": "6684c36d",
   "metadata": {},
   "source": [
    "## Non fiscal simulations\n",
    "\n",
    "Three non-fiscal scenarios were run.  The first a temporary increase in the monetary policy interest rate, the second a 10 percent depreciation and the final a permanent $20 increase in the price of crude_petrol."
   ]
  },
  {
   "cell_type": "markdown",
   "id": "0e3cfd40",
   "metadata": {},
   "source": [
    "### Monetary policy shock\n",
    "\n",
    "In this shock, it is assumed that the central bank raises its policy rate by 1 percentage point for 1 year.\n"
   ]
  },
  {
   "cell_type": "code",
   "execution_count": 27,
   "id": "68d5009d",
   "metadata": {},
   "outputs": [
    {
     "name": "stdout",
     "output_type": "stream",
     "text": [
      "The folowing variables are fixed\n",
      "NPLGGEXPCAPTCN\n",
      "NPLGGEXPGNFSCN\n",
      "NPLGGEXPOTHRCN\n",
      "NPLGGEXPTOTHCN\n",
      "NPLGGEXPTOTSCN\n",
      "NPLGGEXPSUBSCN\n",
      "NPLGGEXPWAGECN\n",
      "The folowing variables are fixed\n",
      "NPLFMLBLPOLYFR\n"
     ]
    }
   ],
   "source": [
    "Mpol=bline.copy()\n",
    "Mpol=themodel.fix(bline,f'{GGexp}') # Freeze spending levels \n",
    "\n",
    "Mpol=themodel.fix(Mpol,f'{cty}FMLBLPOLYFR',2025,2025) # One year shock to MP but then let the equation take over.\n",
    "Mpol=Mpol.mfcalc(f'<2025 2025> {cty}FMLBLPOLYFR_X ={cty}FMLBLPOLYFR_X   + 1')\n",
    "#Mpol[f'{cty}FMLBLPOLYFR_X'].loc[2020:2030]/Mpol[f'{cty}FMLBLPOLYFR'].loc[2020:2030]"
   ]
  },
  {
   "cell_type": "code",
   "execution_count": 28,
   "id": "a39ae4b6",
   "metadata": {},
   "outputs": [
    {
     "name": "stdout",
     "output_type": "stream",
     "text": [
      "NPLFMLBLPOLYFR : FRML <DAMP,STOC> NPLFMLBLPOLYFR = (100*NPLFMLBLPOLYFR_A+100* (0.696375694848535*NPLFMLBLPOLYFR(-1)/100+0.28808154468723*INDFMLBLPOLYFR/100+(1-0.696375694848535-0.28808154468723)*(NPLNYGDPGAP_/100)-0.0166426247204525*DURING_2017) ) * (1-NPLFMLBLPOLYFR_D)+ NPLFMLBLPOLYFR_X*NPLFMLBLPOLYFR_D $\n"
     ]
    }
   ],
   "source": [
    "#solve the model.\n",
    "tempdf = themodel(Mpol,silent=1,keep=f'1 ppt increase in policy rate in 2025')\n",
    "#themodel.lastdf['IDNNECONGOVTCN']/themodel.basedf['IDNNECONGOVTCN']\n",
    "\n",
    "themodel[f'{cty}FMLBLPOLYFR'].frml"
   ]
  },
  {
   "cell_type": "code",
   "execution_count": 29,
   "id": "ee91a960",
   "metadata": {},
   "outputs": [
    {
     "data": {
      "text/plain": [
       "2020    0.000000e+00\n",
       "2021    0.000000e+00\n",
       "2022    0.000000e+00\n",
       "2023    0.000000e+00\n",
       "2024   -4.636291e-13\n",
       "2025    1.000000e+00\n",
       "2026    6.868818e-01\n",
       "2027    4.697575e-01\n",
       "2028    3.219558e-01\n",
       "2029    2.233120e-01\n",
       "2030    1.584902e-01\n",
       "Name: NPLFMLBLPOLYFR, dtype: float64"
      ]
     },
     "execution_count": 29,
     "metadata": {},
     "output_type": "execute_result"
    }
   ],
   "source": [
    "themodel.lastdf[f'{cty}FMLBLPOLYFR'].loc[2020:2030]-themodel.basedf[f'{cty}FMLBLPOLYFR'].loc[2020:2030]"
   ]
  },
  {
   "cell_type": "markdown",
   "id": "e327de68",
   "metadata": {},
   "source": [
    "### Exchange rate depreciation\n",
    "\n",
    "This shock assumes a permanent depreciation of the currency by 10 percent in 2025.\n"
   ]
  },
  {
   "cell_type": "code",
   "execution_count": 30,
   "id": "0cf6b7d5",
   "metadata": {},
   "outputs": [
    {
     "name": "stdout",
     "output_type": "stream",
     "text": [
      "The folowing variables are fixed\n",
      "NPLPANUSATLS\n"
     ]
    }
   ],
   "source": [
    "Mpol_exr=bline.copy()\n",
    "#Mpol_exr=themodel.fix(bline,f'{GGexp}') # Freeze spending levels \n",
    "\n",
    "Mpol_exr=themodel.fix(Mpol,f'{cty}PANUSATLS',2025,2050) # One year shock to MP but then let the equation take over.\n",
    "Mpol_exr=Mpol_exr.mfcalc(f'<2025 2050> {cty}PANUSATLS_X ={cty}PANUSATLS_X * 1.1')\n"
   ]
  },
  {
   "cell_type": "code",
   "execution_count": 31,
   "id": "c3511372",
   "metadata": {},
   "outputs": [],
   "source": [
    "#solve the model.\n",
    "tempdf = themodel(Mpol_exr,silent=1,keep=f'A permanent 10 percent depreciation in 2025')\n"
   ]
  },
  {
   "cell_type": "markdown",
   "id": "509341f5",
   "metadata": {},
   "source": [
    "### TFP Shock\n",
    "\n",
    "This shock explores the effect of a permanent increase in the level of TFP by 1 percent beginning in 2025.\n"
   ]
  },
  {
   "cell_type": "code",
   "execution_count": 32,
   "id": "1dd201be",
   "metadata": {},
   "outputs": [
    {
     "name": "stdout",
     "output_type": "stream",
     "text": [
      "The folowing variables are fixed\n",
      "NPLGGEXPCAPTCN\n",
      "NPLGGEXPGNFSCN\n",
      "NPLGGEXPOTHRCN\n",
      "NPLGGEXPTOTHCN\n",
      "NPLGGEXPTOTSCN\n",
      "NPLGGEXPSUBSCN\n",
      "NPLGGEXPWAGECN\n"
     ]
    }
   ],
   "source": [
    "TFP=bline.copy()\n",
    "TFP=themodel.fix(bline,f'{GGexp}') # Freeze spending levels \n",
    "\n",
    "#TFP=themodel.fix(Mpol,f'{cty}PANUSATLS',2025,2050) # One year shock to MP but then let the equation take over.\n",
    "TFP=TFP.mfcalc(f'<2025 2050> {cty}NYGDPTFP ={cty}NYGDPTFP * 1.01')\n"
   ]
  },
  {
   "cell_type": "code",
   "execution_count": 33,
   "id": "ab9391ff",
   "metadata": {},
   "outputs": [],
   "source": [
    "#solve the model.\n",
    "tempdf = themodel(TFP,silent=1,keep=f'A permanent 1 percent increase in TFP levels')\n",
    "#themodel.lastdf['IDNNECONGOVTCN']/themodel.basedf['IDNNECONGOVTCN']\n",
    "\n"
   ]
  },
  {
   "cell_type": "markdown",
   "id": "ac472752",
   "metadata": {},
   "source": [
    "### A permanent 20 percent increase in oil prices\n",
    "\n",
    "This shock explores the sensitivity of the model to a permanent 20 USD increase in global oil and natural gas prices beginning in 2025.  The natural gas price are assumed to rise proportionately to a 20 USD increase in world crude oil prices.\n"
   ]
  },
  {
   "cell_type": "code",
   "execution_count": 34,
   "id": "78a840ca",
   "metadata": {},
   "outputs": [
    {
     "name": "stdout",
     "output_type": "stream",
     "text": [
      "WLDFNGAS_EUR            : Price of natural gas (USD)\n",
      "WLDFNGAS_EUR_VALUE_2015 : WLDFNGAS_EUR_VALUE_2015\n"
     ]
    }
   ],
   "source": [
    "themodel['WLDF*GAS*'].des"
   ]
  },
  {
   "cell_type": "code",
   "execution_count": 35,
   "id": "b2ce2ac4",
   "metadata": {},
   "outputs": [
    {
     "name": "stdout",
     "output_type": "stream",
     "text": [
      "The folowing variables are fixed\n",
      "NPLGGEXPCAPTCN\n",
      "NPLGGEXPGNFSCN\n",
      "NPLGGEXPOTHRCN\n",
      "NPLGGEXPTOTHCN\n",
      "NPLGGEXPTOTSCN\n",
      "NPLGGEXPSUBSCN\n",
      "NPLGGEXPWAGECN\n"
     ]
    }
   ],
   "source": [
    "Oil=bline.copy()\n",
    "Oil=themodel.fix(bline,f'{GGexp}') # Freeze spending levels \n",
    "\n",
    "# scenario to raise oil prices.  Assume that natural gas prices increase\n",
    "# by a similar margin as a $20 increase in crude oil prices\n",
    "Oil=Oil.mfcalc(\n",
    "    f'<2025 2050> WLDFNHAS_EUR = WLDFNHAS_EUR * (WLDFCRUDE_PETRO+20)/WLDFCRUDE_PETRO')\n",
    "Oil=Oil.mfcalc(\n",
    "    f'<2025 2050> WLDFCRUDE_PETRO = WLDFCRUDE_PETRO + 20')\n"
   ]
  },
  {
   "cell_type": "code",
   "execution_count": 36,
   "id": "3d3bf717",
   "metadata": {},
   "outputs": [],
   "source": [
    "#solve the model.\n",
    "tempdf = themodel(Oil,silent=1,keep=f'A permanent $20 increase in global crude oil prices')\n",
    "#themodel.lastdf['IDNNECONGOVTCN']/themodel.basedf['IDNNECONGOVTCN']\n",
    "\n"
   ]
  },
  {
   "cell_type": "markdown",
   "id": "c54f9c97",
   "metadata": {},
   "source": [
    "### Summary  impacts of non-fiscal scenarios\n",
    "\n",
    "The following graphs show the change in the main macroeconomic indicators (Inflation, proxied here by the inflation rate of household consumption), real GDP, and changes in the current account, fiscal balances and debt levels expressed as a percent of GDP."
   ]
  },
  {
   "cell_type": "code",
   "execution_count": 37,
   "id": "bd0e531c",
   "metadata": {},
   "outputs": [
    {
     "name": "stdout",
     "output_type": "stream",
     "text": [
      "Baseline\n",
      "1 % of GDP Indirect tax cut\n",
      "1 % of GDP direct tax cut\n",
      "1 % of GDP increase in G&S spending\n",
      "1 % of GDP increase in Govt investment spending\n",
      "1 % of GDP increase in transfers to households\n",
      "1 ppt increase in policy rate in 2025\n",
      "A permanent 10 percent depreciation in 2025\n",
      "A permanent 1 percent increase in TFP levels\n",
      "A permanent $20 increase in global crude oil prices\n"
     ]
    }
   ],
   "source": [
    "for key,value in themodel.keep_solutions.items():\n",
    "    print(key)"
   ]
  },
  {
   "cell_type": "code",
   "execution_count": 106,
   "id": "4b0ee3f4",
   "metadata": {},
   "outputs": [
    {
     "name": "stderr",
     "output_type": "stream",
     "text": [
      "c:\\WBG\\miniconda3\\envs\\modelflow\\Lib\\site-packages\\modelclass.py:5255: UserWarning: No artists with labels found to put in legend.  Note that artists whose label start with an underscore are ignored when legend() is called with no argument.\n",
      "  ax.legend()\n",
      "c:\\WBG\\miniconda3\\envs\\modelflow\\Lib\\site-packages\\modelclass.py:5255: UserWarning: No artists with labels found to put in legend.  Note that artists whose label start with an underscore are ignored when legend() is called with no argument.\n",
      "  ax.legend()\n",
      "c:\\WBG\\miniconda3\\envs\\modelflow\\Lib\\site-packages\\modelclass.py:5255: UserWarning: No artists with labels found to put in legend.  Note that artists whose label start with an underscore are ignored when legend() is called with no argument.\n",
      "  ax.legend()\n",
      "c:\\WBG\\miniconda3\\envs\\modelflow\\Lib\\site-packages\\modelclass.py:5255: UserWarning: No artists with labels found to put in legend.  Note that artists whose label start with an underscore are ignored when legend() is called with no argument.\n",
      "  ax.legend()\n",
      "c:\\WBG\\miniconda3\\envs\\modelflow\\Lib\\site-packages\\modelclass.py:5255: UserWarning: No artists with labels found to put in legend.  Note that artists whose label start with an underscore are ignored when legend() is called with no argument.\n",
      "  ax.legend()\n"
     ]
    },
    {
     "data": {
      "image/png": "[encoded data removed]",
      "text/plain": [
       "<Figure size 2000x1800 with 7 Axes>"
      ]
     },
     "metadata": {},
     "output_type": "display_data"
    }
   ],
   "source": [
    "scen = \"Baseline|1 ppt increase in policy rate in 2025|A permanent 10 percent depreciation in 2025|A permanent 1 percent increase in TFP levels|A permanent $20 increase in global crude oil prices\"\n",
    "fig1=themodel.plot(f'{cty}NECONPRVTXN',scenarios=scen,start=2023,end=2040,datatype=\"difgrowth\",heading=\"Change in inflation\",title=\"Inflation)\");\n",
    "#fig2=themodel.plot(f'{cty}NYGDPMKTPKN {cty}NYGDPPOTLKN',scenarios=scen,start=2023,end=2040,datatype=\"difpctlevel\",heading=\"Percent change from baseline\");\n",
    "fig3=themodel.plot(f'{cty}BNCABFUNDCD {cty}GGBALOVRLCN {cty}GGDBTTOTLCN',scenarios=scen,start=2023,end=2040,datatype=\"difgdppct\",heading=\"Change as a percent of GDP\");\n",
    "\n",
    "#combo=(fig1|fig2|fig3).set_options(samefig=True,name='Non_fisc');\n",
    "combo=(fig1|fig3).set_options(samefig=True,name='Non_fisc');\n",
    "combo.show\n",
    "                               "
   ]
  },
  {
   "cell_type": "markdown",
   "id": "a585e506",
   "metadata": {},
   "source": [
    "As might be expected, effects across these scenarios are more divergent.  \n",
    "\n",
    "**Inflation**\n",
    "Higher oil prices and an exchange rate depreciation both are inflationary at least in the short-run.  The inflation impact in the oil scenario is much smaller than in the depreciation scenario and dissipates quite rapidly  as the economy adjusts. Inflation in all scenarios is returning to its pre-shock levels but as is the case with the real adjustments the adjustment process in Nepal is slow.\n",
    "\n",
    "Both the TFP shock and the monetary policy tightening contribute to declines in inflation.  The TFP shock is deflationary because it raises potential output and therefore open up a negative output gap, at least initially.  Over time this effect diminishes. \n",
    "\n",
    "**Current account**\n",
    "Unsurprisingly, the depreciation is positive for the current account but the other scenarios have modest effects that tend to dissipate in the longer run.\n",
    "\n",
    "\n"
   ]
  },
  {
   "cell_type": "markdown",
   "id": "8896b7cb",
   "metadata": {},
   "source": [
    "#### Real GDP impacts of non-fiscal simulations"
   ]
  },
  {
   "cell_type": "code",
   "execution_count": 39,
   "id": "798f6f05",
   "metadata": {},
   "outputs": [
    {
     "data": {
      "application/vnd.jupyter.widget-view+json": {
       "model_id": "813de2c5a8e24590a9a1e35b4b8cc559",
       "version_major": 2,
       "version_minor": 0
      },
      "text/plain": [
       "Accordion(children=(HTML(value='<?xml version=\"1.0\" encoding=\"utf-8\" standalone=\"no\"?>\\n<!DOCTYPE svg PUBLIC \"…"
      ]
     },
     "metadata": {},
     "output_type": "display_data"
    }
   ],
   "source": [
    "\n",
    "themodel.plot(f'{cty}NYGDPPOTLKN {cty}NYGDPMKTPKN {cty}NECONPRVTKN {cty}NEGDIFTOTKN {cty}NEEXPGNFSKN {cty}NEIMPGNFSKN',\n",
    "              scenarios=scen,start=2020, end=2040,\n",
    "              datatype=\"difpctlevel\",samefig=True,\n",
    "              legend=True,\n",
    "              title=\"Real GDP impacts of non-fiscal scenarios\")"
   ]
  },
  {
   "cell_type": "markdown",
   "id": "1415d19e",
   "metadata": {},
   "source": [
    "#### Discussion of real GDP impacts of non-fiscal scenarios\n",
    "\n",
    "##### The TFP shock (green line)\n",
    "Potential and real GDP impacts mirror one another, with the TFP shock raising potential output permanently, and with real GDP catching up over-time slowly.  The potential GDP impact rises proportionately over time because the higher output induces additional investment which adds further to potential GDP.  Higher potential and actual GDP translates into increased consumption, exports and imports as the economy adjusts to the higher scale of activity.\n",
    "\n",
    "##### The monetary policy shock (blue line)\n",
    "As can be expected a tightening of monetary policy has negative effects on GDP. Higher interest rates and slower growth reduce investment growth which has a modest negative effect on potential output and long-run GDP. Consumer demand mirrors GDP as incomes are reduced modestly as compared with the baseline.  Exports are hurt initially due to high capital costs, but as inflation declines they benefit and by the end of the period the impact is negligible.  Imports are similarly hurt initially but recover most of the losses,  They remain lower than baseline in line with lower domestic demand and GDP.\n",
    "\n",
    "##### Depreciation (orange line)\n",
    "The long run effect of the 10 percent depreciation is negative, reflecting higher import costs, which dampen investment and contribute to a cumulative 1.5 percent decline in potential output.  Exports benefit initially as domestic goods become more compEtitive abroad and imports decline as import-competing firms benefit.  However, higher import costs translate into lower real incomes and lower consumption, which persist into the future due to the investment effect on GDP.\n",
    "\n",
    "##### Oil price hike (red line)\n",
    "\n",
    "A permanent $20 nominal increase in oil prices has modest impacts on GDP, increasing potential slightly in Indonesia an oil exporter as incomes rise allowing for a modest increase in investment and consumption.  Real non-oil exports decline, mainly because of price effects induced by the additional spending that the higher oil revenues enable, which are in turn reflected in a modest decrease in import volumes.\n",
    "\n",
    "\n"
   ]
  },
  {
   "cell_type": "markdown",
   "id": "8e602706",
   "metadata": {},
   "source": [
    "### Fiscal impacts of non-fiscal scenarios\n",
    "\n",
    "The depreciation fall in spending is kind of hard to explain."
   ]
  },
  {
   "cell_type": "code",
   "execution_count": 40,
   "id": "f1c57a44",
   "metadata": {},
   "outputs": [
    {
     "name": "stdout",
     "output_type": "stream",
     "text": [
      "NPLGGEXPCAPTCN : Capital_Expenditures\n",
      "NPLGGEXPCRNTCN : Current_expenditures\n",
      "NPLGGEXPGCAPCN : Social_Service_Capital_Grants_Expenditure\n",
      "NPLGGEXPGCURCN : Social_Service_Recurrent_Grants_Expenditure\n",
      "NPLGGEXPGGCACN : Grant_to_Other_Levels_of_Government_Capital\n",
      "NPLGGEXPGGFTCN : Grant_to_Other_Levels_of_Government_Fiscal_Transfers\n",
      "NPLGGEXPGGOTCN : Grant_to_Other_Levels_of_Government_Others\n",
      "NPLGGEXPGGOVCN : Grant_to_Other_Levels_of_Government\n",
      "NPLGGEXPGITLCN : Grants_Expenditure_Intl_Org_Membership\n",
      "NPLGGEXPGNFSCN : Goods_and_services\n",
      "NPLGGEXPGRNTCN : Grants_Expenditure\n",
      "NPLGGEXPGSSVCN : Social_Service_Grants_Expenditure\n",
      "NPLGGEXPINTDCN : Domestic_debt_interest_payments\n",
      "NPLGGEXPINTECN : External_debt_interest_payments\n",
      "NPLGGEXPINTPCN : Interest_payments\n",
      "NPLGGEXPOTHRCN : All_other_Expenditures_not_classified_elsewhere\n",
      "NPLGGEXPSUBSCN : Subsidies\n",
      "NPLGGEXPTOTHCN : Other_Current_Expenditure\n",
      "NPLGGEXPTOTLCN : Total_expenditure\n",
      "NPLGGEXPTOTSCN : Social_Securities\n",
      "NPLGGEXPTPNSCN : Pension_Employment_Related_to_Social_Benefit_of_Employees\n",
      "NPLGGEXPTRNSCN : Current_transfers\n",
      "NPLGGEXPTSOCCN : Social_Assistance\n",
      "NPLGGEXPTSSCCN : Total_Social_Securities_Expenditure\n",
      "NPLGGEXPWAGECN : Compensation_of_employees\n"
     ]
    }
   ],
   "source": [
    "# Uncomment to display the mnemonics and desriptions of the general gobernment (GG) expenditure items \n",
    "# (EXP) in nominal local currency (CN)\n",
    "themodel[f'{cty}GGEXP*CN'].des  "
   ]
  },
  {
   "cell_type": "code",
   "execution_count": 41,
   "id": "cebf0f6e",
   "metadata": {},
   "outputs": [
    {
     "data": {
      "application/vnd.jupyter.widget-view+json": {
       "model_id": "03f2d9b960704136aeb45a02c449bb11",
       "version_major": 2,
       "version_minor": 0
      },
      "text/plain": [
       "Accordion(children=(HTML(value='<?xml version=\"1.0\" encoding=\"utf-8\" standalone=\"no\"?>\\n<!DOCTYPE svg PUBLIC \"…"
      ]
     },
     "metadata": {},
     "output_type": "display_data"
    }
   ],
   "source": [
    "themodel.plot(f'{cty}GGBALOVRLCN {cty}GGEXPTOTLCN {cty}GGREVTOTLCN {cty}GGEXPINTPCN {cty}GGDBTTOTLCN',\n",
    "              scenarios=scen,start=2020, end=2040,datatype=\"difgdppct\",samefig=True,legend=True,\n",
    "              title=\"Revenue impacts of non-fiscal scenarios\",name=\"NonFiscRevenues\")"
   ]
  },
  {
   "cell_type": "markdown",
   "id": "e7b31a3d",
   "metadata": {},
   "source": [
    "Fiscal effects are relatively modest as might be expected given that no fiscal levers are directly touched in these simulations."
   ]
  }
 ],
 "metadata": {
  "celltoolbar": "Edit Metadata",
  "hide_input": false,
  "kernelspec": {
   "display_name": "Python 3 (ipykernel)",
   "language": "python",
   "name": "python3"
  },
  "language_info": {
   "codemirror_mode": {
    "name": "ipython",
    "version": 3
   },
   "file_extension": ".py",
   "mimetype": "text/x-python",
   "name": "python",
   "nbconvert_exporter": "python",
   "pygments_lexer": "ipython3",
   "version": "3.12.6"
  },
  "nbTranslate": {
   "displayLangs": [
    "*"
   ],
   "hotkey": "alt-t",
   "langInMainMenu": true,
   "sourceLang": "en",
   "targetLang": "fr",
   "useGoogleTranslate": true
  },
  "toc": {
   "base_numbering": 1,
   "nav_menu": {},
   "number_sections": true,
   "sideBar": false,
   "skip_h1_title": false,
   "title_cell": "Table of Contents",
   "title_sidebar": "Contents",
   "toc_cell": false,
   "toc_position": {
    "height": "795.547px",
    "left": "22.9922px",
    "top": "67.8711px",
    "width": "426.641px"
   },
   "toc_section_display": true,
   "toc_window_display": false
  },
  "varInspector": {
   "cols": {
    "lenName": 16,
    "lenType": 16,
    "lenVar": 40
   },
   "kernels_config": {
    "python": {
     "delete_cmd_postfix": "",
     "delete_cmd_prefix": "del ",
     "library": "var_list.py",
     "varRefreshCmd": "print(var_dic_list())"
    },
    "r": {
     "delete_cmd_postfix": ") ",
     "delete_cmd_prefix": "rm(",
     "library": "var_list.r",
     "varRefreshCmd": "cat(var_dic_list()) "
    }
   },
   "types_to_exclude": [
    "module",
    "function",
    "builtin_function_or_method",
    "instance",
    "_Feature"
   ],
   "window_display": false
  }
 },
 "nbformat": 4,
 "nbformat_minor": 5
}
