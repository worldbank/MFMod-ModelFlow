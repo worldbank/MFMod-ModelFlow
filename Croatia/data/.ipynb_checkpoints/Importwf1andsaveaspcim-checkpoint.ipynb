{
 "cells": [
  {
   "cell_type": "markdown",
   "id": "9e84fd55",
   "metadata": {},
   "source": [
    "# Generate simple.pcim from EViews simple model\n",
    "\n",
    "The EViews Simple model routine is stored in the Eviews sub-directort of this project and creates a Y=C+I+G+X-M\n",
    "model and populates it with data and with a minimum of features for the import function to work.\n",
    "\n",
    "## Initialize workspace"
   ]
  },
  {
   "cell_type": "code",
   "execution_count": 2,
   "id": "2a104ce0",
   "metadata": {},
   "outputs": [
    {
     "data": {
      "text/html": [
       "\n",
       "        <style>\n",
       "            div#notebook-container    { width: 95%; }\n",
       "            div#menubar-container     { width: 65%; }\n",
       "            div#maintoolbar-container { width: 99%; }\n",
       "        </style>\n",
       "        "
      ],
      "text/plain": [
       "<IPython.core.display.HTML object>"
      ]
     },
     "metadata": {},
     "output_type": "display_data"
    },
    {
     "data": {
      "application/javascript": [
       "\n",
       "                    IPython.OutputArea.prototype._should_scroll = function(lines){\n",
       "                        return false;\n",
       "                    }\n",
       "                "
      ],
      "text/plain": [
       "<IPython.core.display.Javascript object>"
      ]
     },
     "metadata": {},
     "output_type": "display_data"
    }
   ],
   "source": [
    "#import import_ipynb\n",
    "#pip install import-ipynb \n",
    "%matplotlib Notebook\n",
    "from modelclass import model \n",
    "from modelgrabwf2 import GrabWfModel\n",
    "\n",
    "model.widescreen()\n",
    "model.scroll_off()\n",
    "%load_ext autoreload\n",
    "%autoreload 2\n",
    "\n"
   ]
  },
  {
   "cell_type": "markdown",
   "id": "e62977d7",
   "metadata": {},
   "source": [
    "## Execute import routine"
   ]
  },
  {
   "cell_type": "code",
   "execution_count": 5,
   "id": "587eaebf",
   "metadata": {},
   "outputs": [
    {
     "name": "stdout",
     "output_type": "stream",
     "text": [
      "\n",
      "Reading C:\\git\\WBGModels\\Croatia\\data\\HRVsoln.wf1\n",
      "The model: HRV is unlinked \n",
      "Writing C:\\git\\WBGModels\\Croatia\\data\\HRVsoln_modelflow.wf2\n",
      "Model name: HRV\n"
     ]
    },
    {
     "ename": "KeyError",
     "evalue": "'model'",
     "output_type": "error",
     "traceback": [
      "\u001b[1;31m---------------------------------------------------------------------------\u001b[0m",
      "\u001b[1;31mKeyError\u001b[0m                                  Traceback (most recent call last)",
      "Cell \u001b[1;32mIn[5], line 16\u001b[0m\n\u001b[0;32m      1\u001b[0m \u001b[38;5;66;03m#\u001b[39;00m\n\u001b[0;32m      2\u001b[0m \u001b[38;5;66;03m#Simple_import = GrabWfModel(r'models/Simple.wf1',\u001b[39;00m\n\u001b[0;32m      3\u001b[0m \u001b[38;5;66;03m#          start=2016,\u001b[39;00m\n\u001b[1;32m   (...)\u001b[0m\n\u001b[0;32m     11\u001b[0m \u001b[38;5;66;03m#                 ) \u001b[39;00m\n\u001b[0;32m     12\u001b[0m \u001b[38;5;66;03m#\u001b[39;00m\n\u001b[0;32m     13\u001b[0m pak_trans \u001b[38;5;241m=\u001b[39m \u001b[38;5;28;01mlambda\u001b[39;00m \u001b[38;5;28minput\u001b[39m : \u001b[38;5;28minput\u001b[39m\u001b[38;5;241m.\u001b[39mreplace(\u001b[38;5;124m'\u001b[39m\u001b[38;5;124m- 01*D(\u001b[39m\u001b[38;5;124m'\u001b[39m,\u001b[38;5;124m'\u001b[39m\u001b[38;5;124m-1*D(\u001b[39m\u001b[38;5;124m'\u001b[39m)                \n\u001b[1;32m---> 16\u001b[0m Simple_import \u001b[38;5;241m=\u001b[39m \u001b[43mGrabWfModel\u001b[49m\u001b[43m(\u001b[49m\u001b[38;5;124;43mr\u001b[39;49m\u001b[38;5;124;43m'\u001b[39;49m\u001b[38;5;124;43mHRVsoln.wf1\u001b[39;49m\u001b[38;5;124;43m'\u001b[39;49m\u001b[43m,\u001b[49m\n\u001b[0;32m     17\u001b[0m \u001b[43m        \u001b[49m\u001b[43mcountry_trans\u001b[49m\u001b[43m \u001b[49m\u001b[38;5;241;43m=\u001b[39;49m\u001b[43m \u001b[49m\u001b[43mpak_trans\u001b[49m\u001b[43m,\u001b[49m\n\u001b[0;32m     18\u001b[0m \u001b[43m          \u001b[49m\u001b[43mstart\u001b[49m\u001b[38;5;241;43m=\u001b[39;49m\u001b[38;5;241;43m1995\u001b[39;49m\u001b[43m,\u001b[49m\u001b[43mend\u001b[49m\u001b[38;5;241;43m=\u001b[39;49m\u001b[38;5;241;43m2030\u001b[39;49m\u001b[43m,\u001b[49m\u001b[43m          \u001b[49m\n\u001b[0;32m     19\u001b[0m \u001b[43m          \u001b[49m\u001b[43mmodelname\u001b[49m\u001b[38;5;241;43m=\u001b[39;49m\u001b[38;5;124;43m\"\u001b[39;49m\u001b[38;5;124;43mHRV\u001b[39;49m\u001b[38;5;124;43m\"\u001b[39;49m\u001b[43m,\u001b[49m\u001b[43m           \u001b[49m\u001b[38;5;66;43;03m# By default the system assumes that the three first letters of the filename are the model name\u001b[39;49;00m\n\u001b[0;32m     20\u001b[0m \u001b[43m          \u001b[49m\u001b[43mmake_fitted\u001b[49m\u001b[43m \u001b[49m\u001b[38;5;241;43m=\u001b[39;49m\u001b[43m \u001b[49m\u001b[38;5;28;43;01mTrue\u001b[39;49;00m\u001b[43m,\u001b[49m\u001b[43m        \u001b[49m\u001b[38;5;66;43;03m# make equatios for fitted values of stocastic equations \u001b[39;49;00m\n\u001b[0;32m     21\u001b[0m \u001b[43m          \u001b[49m\u001b[43mdo_add_factor_calc\u001b[49m\u001b[38;5;241;43m=\u001b[39;49m\u001b[38;5;28;43;01mTrue\u001b[39;49;00m\u001b[43m,\u001b[49m\u001b[43m   \u001b[49m\u001b[38;5;66;43;03m# Calculate the add factors which makes the stocastic equations match    \u001b[39;49;00m\n\u001b[0;32m     22\u001b[0m \u001b[43m          \u001b[49m\u001b[43mfit_start\u001b[49m\u001b[43m \u001b[49m\u001b[38;5;241;43m=\u001b[39;49m\u001b[43m \u001b[49m\u001b[38;5;241;43m2020\u001b[39;49m\u001b[43m,\u001b[49m\u001b[43m          \u001b[49m\u001b[38;5;66;43;03m# Start of calculation of fittet model in baseline (to have some historic values) \u001b[39;49;00m\n\u001b[0;32m     23\u001b[0m \u001b[43m          \u001b[49m\u001b[43mfit_end\u001b[49m\u001b[43m   \u001b[49m\u001b[38;5;241;43m=\u001b[39;49m\u001b[43m \u001b[49m\u001b[38;5;28;43;01mNone\u001b[39;49;00m\u001b[43m,\u001b[49m\u001b[43m           \u001b[49m\u001b[38;5;66;43;03m# end of calc for fittted model, if None taken from mdmfsa options  \u001b[39;49;00m\n\u001b[0;32m     24\u001b[0m \u001b[43m          \u001b[49m\u001b[43mdisable_progress\u001b[49m\u001b[43m \u001b[49m\u001b[38;5;241;43m=\u001b[39;49m\u001b[38;5;28;43;01mTrue\u001b[39;49;00m\u001b[43m     \u001b[49m\u001b[38;5;66;43;03m# Better for jupyter book \u001b[39;49;00m\n\u001b[0;32m     25\u001b[0m \u001b[43m                 \u001b[49m\u001b[43m)\u001b[49m \n",
      "File \u001b[1;32m<string>:22\u001b[0m, in \u001b[0;36m__init__\u001b[1;34m(self, filename, modelname, freq, eviews_run_lines, start, end, country_trans, country_df_trans, make_fitted, fit_start, fit_end, do_add_factor_calc, test_frml, disable_progress, save_file, model_description, cty, cty_name)\u001b[0m\n",
      "File \u001b[1;32m~\\AppData\\Local\\anaconda3\\envs\\ModelFlow\\Lib\\site-packages\\ModelFlow-1.0.8-py3.10.egg\\modelgrabwf2.py:280\u001b[0m, in \u001b[0;36mGrabWfModel.__post_init__\u001b[1;34m(self)\u001b[0m\n\u001b[0;32m    277\u001b[0m \u001b[38;5;28;01melse\u001b[39;00m:     \n\u001b[0;32m    278\u001b[0m \u001b[38;5;66;03m# breakpoint()\u001b[39;00m\n\u001b[0;32m    279\u001b[0m     wf2name,\u001b[38;5;28mself\u001b[39m\u001b[38;5;241m.\u001b[39mmodelname  \u001b[38;5;241m=\u001b[39m wf1_to_wf2(\u001b[38;5;28mself\u001b[39m\u001b[38;5;241m.\u001b[39mfilename ,modelname\u001b[38;5;241m=\u001b[39m\u001b[38;5;28mself\u001b[39m\u001b[38;5;241m.\u001b[39mmodelname,eviews_run_lines\u001b[38;5;241m=\u001b[39m \u001b[38;5;28mself\u001b[39m\u001b[38;5;241m.\u001b[39meviews_run_lines) \n\u001b[1;32m--> 280\u001b[0m     \u001b[38;5;28mself\u001b[39m\u001b[38;5;241m.\u001b[39mmodel_all_about \u001b[38;5;241m=\u001b[39m \u001b[43mwf2_to_clean\u001b[49m\u001b[43m(\u001b[49m\u001b[43mwf2name\u001b[49m\u001b[43m,\u001b[49m\u001b[43mmodelname\u001b[49m\u001b[38;5;241;43m=\u001b[39;49m\u001b[38;5;28;43mself\u001b[39;49m\u001b[38;5;241;43m.\u001b[39;49m\u001b[43mmodelname\u001b[49m\u001b[43m,\u001b[49m\u001b[43msave_file\u001b[49m\u001b[38;5;241;43m=\u001b[39;49m\u001b[43m \u001b[49m\u001b[38;5;28;43mself\u001b[39;49m\u001b[38;5;241;43m.\u001b[39;49m\u001b[43msave_file\u001b[49m\u001b[43m,\u001b[49m\u001b[43mfreq\u001b[49m\u001b[38;5;241;43m=\u001b[39;49m\u001b[38;5;28;43mself\u001b[39;49m\u001b[38;5;241;43m.\u001b[39;49m\u001b[43mfreq\u001b[49m\u001b[43m)\u001b[49m\n\u001b[0;32m    282\u001b[0m     \u001b[38;5;28mprint\u001b[39m(\u001b[38;5;124mf\u001b[39m\u001b[38;5;124m'\u001b[39m\u001b[38;5;130;01m\\n\u001b[39;00m\u001b[38;5;124mProcessing the model:\u001b[39m\u001b[38;5;132;01m{\u001b[39;00m\u001b[38;5;28mself\u001b[39m\u001b[38;5;241m.\u001b[39mmodelname\u001b[38;5;132;01m}\u001b[39;00m\u001b[38;5;124m'\u001b[39m,flush\u001b[38;5;241m=\u001b[39m\u001b[38;5;28;01mTrue\u001b[39;00m)\n\u001b[0;32m    283\u001b[0m     \u001b[38;5;28mself\u001b[39m\u001b[38;5;241m.\u001b[39mrawmodel_org \u001b[38;5;241m=\u001b[39m \u001b[38;5;28mself\u001b[39m\u001b[38;5;241m.\u001b[39mmodel_all_about[\u001b[38;5;124m'\u001b[39m\u001b[38;5;124mfrml\u001b[39m\u001b[38;5;124m'\u001b[39m]\n",
      "File \u001b[1;32m~\\AppData\\Local\\anaconda3\\envs\\ModelFlow\\Lib\\site-packages\\ModelFlow-1.0.8-py3.10.egg\\modelgrabwf2.py:155\u001b[0m, in \u001b[0;36mwf2_to_clean\u001b[1;34m(wf2name, modelname, save_file, freq)\u001b[0m\n\u001b[0;32m    152\u001b[0m object_namecounts \u001b[38;5;241m=\u001b[39m {_type: [o[\u001b[38;5;124m'\u001b[39m\u001b[38;5;124m_name\u001b[39m\u001b[38;5;124m'\u001b[39m] \u001b[38;5;28;01mfor\u001b[39;00m o \u001b[38;5;129;01min\u001b[39;00m this_object] \u001b[38;5;28;01mfor\u001b[39;00m _type,this_object \u001b[38;5;129;01min\u001b[39;00m object_dict\u001b[38;5;241m.\u001b[39mitems() }\n\u001b[0;32m    153\u001b[0m \u001b[38;5;66;03m# breakpoint()\u001b[39;00m\n\u001b[0;32m    154\u001b[0m \u001b[38;5;66;03m# Now extract the  model\u001b[39;00m\n\u001b[1;32m--> 155\u001b[0m thismodel_dict \u001b[38;5;241m=\u001b[39m \u001b[43mobject_dict\u001b[49m\u001b[43m[\u001b[49m\u001b[38;5;124;43m'\u001b[39;49m\u001b[38;5;124;43mmodel\u001b[39;49m\u001b[38;5;124;43m'\u001b[39;49m\u001b[43m]\u001b[49m[\u001b[38;5;241m0\u001b[39m]\n\u001b[0;32m    156\u001b[0m thismodel_raw \u001b[38;5;241m=\u001b[39m thismodel_dict[\u001b[38;5;124m'\u001b[39m\u001b[38;5;124mdata\u001b[39m\u001b[38;5;124m'\u001b[39m][\u001b[38;5;241m0\u001b[39m]\n\u001b[0;32m    157\u001b[0m \u001b[38;5;66;03m# breakpoint()\u001b[39;00m\n",
      "\u001b[1;31mKeyError\u001b[0m: 'model'"
     ]
    }
   ],
   "source": [
    "#\n",
    "#Simple_import = GrabWfModel(r'models/Simple.wf1',\n",
    "#          start=2016,\n",
    "#          end=2030,                            \n",
    "#          modelname=\"SIM\",           # By default the system assumes that the three first letters of the filename are the model name\n",
    "#          make_fitted = True,        # make equatios for fitted values of stocastic equations \n",
    "#          do_add_factor_calc=True,   # Calculate the add factors which makes the stocastic equations match    \n",
    "#          fit_start = 2014,          # Start of calculation of fittet model in baseline (to have some historic values) \n",
    "#          fit_end   = None,           # end of calc for fittted model, if None taken from mdmfsa options  \n",
    "#          disable_progress =True     # Better for jupyter book \n",
    "#                 ) \n",
    "#\n",
    "pak_trans = lambda input : input.replace('- 01*D(','-1*D(')                \n",
    "\n",
    "\n",
    "Simple_import = GrabWfModel(r'HRVsoln.wf1',\n",
    "        country_trans = pak_trans,\n",
    "          start=1995,end=2030,          \n",
    "          modelname=\"HRV\",           # By default the system assumes that the three first letters of the filename are the model name\n",
    "          make_fitted = True,        # make equatios for fitted values of stocastic equations \n",
    "          do_add_factor_calc=True,   # Calculate the add factors which makes the stocastic equations match    \n",
    "          fit_start = 2020,          # Start of calculation of fittet model in baseline (to have some historic values) \n",
    "          fit_end   = None,           # end of calc for fittted model, if None taken from mdmfsa options  \n",
    "          disable_progress =True     # Better for jupyter book \n",
    "                 ) \n"
   ]
  },
  {
   "cell_type": "markdown",
   "id": "76abf75d",
   "metadata": {},
   "source": [
    "## Run and test imported model then save as pcim"
   ]
  },
  {
   "cell_type": "code",
   "execution_count": 4,
   "id": "3a43ec17",
   "metadata": {},
   "outputs": [
    {
     "name": "stdout",
     "output_type": "stream",
     "text": [
      "PAK calculated  \n",
      "\n",
      "Chekking residuals for PAK 2020 to 2100\n",
      "\n",
      "Variable with residuals above threshold\n",
      "PAKNEIMPGSNECN              , Max difference:     1.15623856 Max Pct    0.0000001290% It is number    46 in the solveorder and error number 1\n",
      "PAKNEIMPGNFSCN              , Max difference:     1.24186420 Max Pct    0.0000001117% It is number    47 in the solveorder and error number 2\n",
      "PAKNYYWBTOTLCN              , Max difference:    18.64228058 Max Pct    0.0000004511% It is number    67 in the solveorder and error number 3\n",
      "PAKNEGDIFPRVCN              , Max difference:     1.32994366 Max Pct    0.0000002999% It is number    71 in the solveorder and error number 4\n",
      "PAKNEGDIFTOTCN              , Max difference:     2.54681492 Max Pct    0.0000003521% It is number    72 in the solveorder and error number 5\n",
      "PAKNYGDPMKTPCD              , Max difference:     2.10716254 Max Pct    0.0000080528% It is number    74 in the solveorder and error number 6\n",
      "PAKNECONPRVTCN              , Max difference:    38.55028915 Max Pct    0.0000015164% It is number    78 in the solveorder and error number 7\n",
      "PAKNYGDPMKTPCN              , Max difference:    15.53806305 Max Pct    0.0000002812% It is number    90 in the solveorder and error number 8\n",
      "PAKGGREVTOTLCN              , Max difference:     4.36462593 Max Pct    0.0000003932% It is number    92 in the solveorder and error number 9\n"
     ]
    }
   ],
   "source": [
    "\n",
    "Simple_import.test_model(Simple_import.start,Simple_import.end,maxerr=100,tol=1,showall=0) \n",
    "msim    = Simple_import.mmodel       # the model instance  \n",
    "baseline = Simple_import.base_input\n",
    "res = msim(baseline,2016,2030,silent=1,alfa=.7,ldumpvar=0)\n",
    "msim.basedf = res\n",
    "\n",
    "msim.modeldump(r'models/pak.pcim')"
   ]
  },
  {
   "cell_type": "code",
   "execution_count": 5,
   "id": "a349ef15",
   "metadata": {},
   "outputs": [
    {
     "name": "stdout",
     "output_type": "stream",
     "text": [
      "PAKNECONPRVTKN : DLOG(PAKNECONPRVTKN) =- 0.2*(LOG(PAKNECONPRVTKN( - 1)) - LOG(1.21203101101442) - LOG((((PAKBXFSTREMTCD( - 1) - PAKBMFSTREMTCD( - 1))*PAKPANUSATLS( - 1)) + PAKGGEXPTRNSCN( - 1) + PAKNYYWBTOTLCN( - 1)*(1 - PAKGGREVDRCTXN( - 1)/100))/PAKNECONPRVTXN( - 1))) + 0.763938860758873*DLOG((((PAKBXFSTREMTCD - PAKBMFSTREMTCD)*PAKPANUSATLS) + PAKGGEXPTRNSCN + PAKNYYWBTOTLCN*(1 - PAKGGREVDRCTXN/100))/PAKNECONPRVTXN) - 0.0634474791568939*@DURING(\"2009\") - 0.3*(PAKFMLBLPOLYXN/100 - DLOG(PAKNECONPRVTXN))\r\n"
     ]
    }
   ],
   "source": [
    "msim['PAKNECONPRVTKN'].eviews\n"
   ]
  },
  {
   "cell_type": "code",
   "execution_count": 3,
   "id": "1928fdd0",
   "metadata": {},
   "outputs": [
    {
     "name": "stdout",
     "output_type": "stream",
     "text": [
      "\n",
      "Endo_var        : A\n",
      "Original        : a = pct_growth(b)\n",
      "Preprocessed    : A= (100 * ( (B) / (B(-1)) -1)) \n",
      "Normalized      : A = ( (100 * ( (B) / (B(-1)) -1)) + A_A)                               \n",
      "Calc_add_factor : A_A = (A) - ( (100 * ( (B) / (B(-1)) -1)))\n"
     ]
    }
   ],
   "source": [
    "from modelnormalize import normal\n",
    "\n",
    "normal('a = pct_growth(b)',add_add_factor=1).fprint\n"
   ]
  },
  {
   "cell_type": "code",
   "execution_count": 5,
   "id": "9562eb42",
   "metadata": {},
   "outputs": [
    {
     "ename": "NameError",
     "evalue": "name 'msim' is not defined",
     "output_type": "error",
     "traceback": [
      "\u001b[1;31m---------------------------------------------------------------------------\u001b[0m",
      "\u001b[1;31mNameError\u001b[0m                                 Traceback (most recent call last)",
      "Input \u001b[1;32mIn [5]\u001b[0m, in \u001b[0;36m<cell line: 1>\u001b[1;34m()\u001b[0m\n\u001b[1;32m----> 1\u001b[0m \u001b[38;5;28mprint\u001b[39m((\u001b[43mmsim\u001b[49m\u001b[38;5;241m.\u001b[39mlastdf[\u001b[38;5;124m'\u001b[39m\u001b[38;5;124mPAKNYGDPMKTPKN\u001b[39m\u001b[38;5;124m'\u001b[39m]\u001b[38;5;241m/\u001b[39mmsim\u001b[38;5;241m.\u001b[39mbasedf[\u001b[38;5;124m'\u001b[39m\u001b[38;5;124mPAKNYGDPMKTPKN\u001b[39m\u001b[38;5;124m'\u001b[39m]\u001b[38;5;241m-\u001b[39m\u001b[38;5;241m1\u001b[39m)\u001b[38;5;241m*\u001b[39m\u001b[38;5;241m100\u001b[39m)\n",
      "\u001b[1;31mNameError\u001b[0m: name 'msim' is not defined"
     ]
    }
   ],
   "source": [
    "print((msim.lastdf['PAKNYGDPMKTPKN']/msim.basedf['PAKNYGDPMKTPKN']-1)*100)\n"
   ]
  },
  {
   "cell_type": "code",
   "execution_count": null,
   "id": "50ccb40b",
   "metadata": {},
   "outputs": [],
   "source": []
  }
 ],
 "metadata": {
  "hide_input": false,
  "kernelspec": {
   "display_name": "Python 3 (ipykernel)",
   "language": "python",
   "name": "python3"
  },
  "language_info": {
   "codemirror_mode": {
    "name": "ipython",
    "version": 3
   },
   "file_extension": ".py",
   "mimetype": "text/x-python",
   "name": "python",
   "nbconvert_exporter": "python",
   "pygments_lexer": "ipython3",
   "version": "3.12.6"
  },
  "nbTranslate": {
   "displayLangs": [
    "*"
   ],
   "hotkey": "alt-t",
   "langInMainMenu": true,
   "sourceLang": "en",
   "targetLang": "fr",
   "useGoogleTranslate": true
  },
  "toc": {
   "base_numbering": 1,
   "nav_menu": {},
   "number_sections": true,
   "sideBar": true,
   "skip_h1_title": false,
   "title_cell": "Table of Contents",
   "title_sidebar": "Contents",
   "toc_cell": false,
   "toc_position": {},
   "toc_section_display": true,
   "toc_window_display": true
  },
  "varInspector": {
   "cols": {
    "lenName": 16,
    "lenType": 16,
    "lenVar": 40
   },
   "kernels_config": {
    "python": {
     "delete_cmd_postfix": "",
     "delete_cmd_prefix": "del ",
     "library": "var_list.py",
     "varRefreshCmd": "print(var_dic_list())"
    },
    "r": {
     "delete_cmd_postfix": ") ",
     "delete_cmd_prefix": "rm(",
     "library": "var_list.r",
     "varRefreshCmd": "cat(var_dic_list()) "
    }
   },
   "types_to_exclude": [
    "module",
    "function",
    "builtin_function_or_method",
    "instance",
    "_Feature"
   ],
   "window_display": false
  }
 },
 "nbformat": 4,
 "nbformat_minor": 5
}
