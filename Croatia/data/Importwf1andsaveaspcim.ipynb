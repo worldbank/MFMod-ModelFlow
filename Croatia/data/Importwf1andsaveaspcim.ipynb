{
 "cells": [
  {
   "cell_type": "markdown",
   "id": "9e84fd55",
   "metadata": {},
   "source": [
    "# Generate simple.pcim from EViews simple model\n",
    "\n",
    "The EViews Simple model routine is stored in the Eviews sub-directort of this project and creates a Y=C+I+G+X-M\n",
    "model and populates it with data and with a minimum of features for the import function to work.\n",
    "\n",
    "## Initialize workspace"
   ]
  },
  {
   "cell_type": "code",
   "execution_count": 48,
   "id": "2a104ce0",
   "metadata": {},
   "outputs": [
    {
     "data": {
      "text/html": [
       "\n",
       "        <style>\n",
       "            div#notebook-container    { width: 95%; }\n",
       "            div#menubar-container     { width: 65%; }\n",
       "            div#maintoolbar-container { width: 99%; }\n",
       "        </style>\n",
       "        "
      ],
      "text/plain": [
       "<IPython.core.display.HTML object>"
      ]
     },
     "metadata": {},
     "output_type": "display_data"
    },
    {
     "data": {
      "application/javascript": [
       "\n",
       "                    IPython.OutputArea.prototype._should_scroll = function(lines){\n",
       "                        return false;\n",
       "                    }\n",
       "                "
      ],
      "text/plain": [
       "<IPython.core.display.Javascript object>"
      ]
     },
     "metadata": {},
     "output_type": "display_data"
    },
    {
     "name": "stdout",
     "output_type": "stream",
     "text": [
      "The autoreload extension is already loaded. To reload it, use:\n",
      "  %reload_ext autoreload\n"
     ]
    }
   ],
   "source": [
    "#import import_ipynb\n",
    "#pip install import-ipynb \n",
    "%matplotlib Notebook\n",
    "from modelclass import model \n",
    "from modelgrabwf2 import GrabWfModel\n",
    "\n",
    "model.widescreen()\n",
    "model.scroll_off()\n",
    "%load_ext autoreload\n",
    "%autoreload 2\n",
    "\n"
   ]
  },
  {
   "cell_type": "markdown",
   "id": "e62977d7",
   "metadata": {},
   "source": [
    "## Execute import routine"
   ]
  },
  {
   "cell_type": "code",
   "execution_count": 49,
   "id": "fa640e24",
   "metadata": {},
   "outputs": [],
   "source": [
    "def hrv_trans(input):\n",
    "    out = input.replace('@cnorm','normcdf').replace('@sqrt(','sqrt(')\n",
    "    return out"
   ]
  },
  {
   "cell_type": "code",
   "execution_count": 62,
   "id": "587eaebf",
   "metadata": {},
   "outputs": [
    {
     "name": "stdout",
     "output_type": "stream",
     "text": [
      "\n",
      "Reading c:\\WBGModels\\WBGModels\\Croatia\\data\\hrvsoln.wf1\n",
      "Assummed model name: HRV\n",
      "The model: HRV is unlinked \n",
      "Writing C:\\WBGModels\\WBGModels\\Croatia\\data\\hrvsoln_modelflow.wf2\n",
      "Model name: HRV\n",
      "\n",
      "Processing the model:HRV\n",
      "Check for Eviews @ which are not caught in the translation\n"
     ]
    },
    {
     "name": "stderr",
     "output_type": "stream",
     "text": [
      "Normalizing model: 100%|███████████████████████████████████████████████████████████████████████████████████████|282/282\n",
      "Syntax check: 100%|████████████████████████████████████████████████████████████████████████████████████████████|282/282\n"
     ]
    },
    {
     "name": "stdout",
     "output_type": "stream",
     "text": [
      "Default WB var_group loaded\n",
      "Variable description in wf1 file read\n",
      "Default WB var_description loaded self.cty='HRV' len(var_description)=151\n",
      "var_description loaded from WF len(this)=207\n",
      "Country HRV:Croatia\n",
      "testmodel calculated  \n",
      "Calculation of add factors for HRV calculated  \n"
     ]
    }
   ],
   "source": [
    "all_about_hrv = GrabWfModel(r'hrvsoln.wf1', \n",
    "                  #eviews_run_lines= mda_eviews_run_lines,\n",
    "                  country_trans    = hrv_trans,\n",
    "                    freq = 'Q',        \n",
    "                    make_fitted = True,        # make equatios for fitted values of stocastic equations \n",
    "                    do_add_factor_calc=True,   # Calculate the add factors which makes the stocastic equations match    \n",
    "                    fit_start = '2020q1',          # Start of calculation of fittet model in baseline (to have some historic values) \n",
    "                    fit_end   = None,           # end of calc for fittted model, if None taken from mdmfsa options  \n",
    "                    disable_progress = False,     # Better for jupyter book \n",
    "                    cty= 'HRV',       \n",
    "                    cty_name = 'Croatia'        \n",
    "                           ) "
   ]
  },
  {
   "cell_type": "markdown",
   "id": "de12096f",
   "metadata": {},
   "source": [
    "## Inspect the transformations of eviews equations with @sqrt and @cnorm\n",
    "`all_about_hrv.all_frml` if a list of `Normalized_frml` \n",
    "\n",
    "Attributes:\n",
    "- endo_var (str): The endogenous variable.\n",
    "- eviews (str): The EViews representation of the expression.\n",
    "- original (str): The original Business logic expression.\n",
    "- preprocessed (str): The preprocessed expression.\n",
    "- normalized (str): The normalized expression.\n",
    "- calc_add_factor (str): The calculated additional factor.\n",
    "- un_normalized (str): The un-normalized expression.\n",
    "- fitted (str): The fitted expression.\n",
    "    \n",
    "Not all Attributes are used for all equations     "
   ]
  },
  {
   "cell_type": "code",
   "execution_count": 51,
   "id": "4b59990f",
   "metadata": {},
   "outputs": [
    {
     "data": {
      "text/plain": [
       "'@IDENTITY HRVLMEDURET  = 4  * hrvlmeduret04  + 4  * hrvlmeduret48  + (HRVLMEDUAVERQN  - 8)  * hrvlmeduret8plus'"
      ]
     },
     "execution_count": 51,
     "metadata": {},
     "output_type": "execute_result"
    }
   ],
   "source": [
    "all_about_hrv.all_frml[0].eviews # to get the original eviews equation"
   ]
  },
  {
   "cell_type": "code",
   "execution_count": 52,
   "id": "f503f921",
   "metadata": {},
   "outputs": [
    {
     "name": "stdout",
     "output_type": "stream",
     "text": [
      "Endo_var        : HRVLMEDURET\n",
      "Eviews          : @IDENTITY HRVLMEDURET  = 4  * hrvlmeduret04  + 4  * hrvlmeduret48  + (HRVLMEDUAVERQN  - 8)  * hrvlmeduret8plus\n",
      "Original        : HRVLMEDURET=4*HRVLMEDURET04+4*HRVLMEDURET48+(HRVLMEDUAVERQN-8)*HRVLMEDURET8PLUS\r\n",
      "Preprocessed    : HRVLMEDURET=4*HRVLMEDURET04+4*HRVLMEDURET48+(HRVLMEDUAVERQN-8)*HRVLMEDURET8PLUS\r\n",
      "Normalized      : HRVLMEDURET = 4*HRVLMEDURET04+4*HRVLMEDURET48+(HRVLMEDUAVERQN-8)*HRVLMEDURET8PLUS\n"
     ]
    }
   ],
   "source": [
    "print(all_about_hrv.all_frml[0])"
   ]
  },
  {
   "cell_type": "code",
   "execution_count": 53,
   "id": "982213ed",
   "metadata": {},
   "outputs": [
    {
     "name": "stdout",
     "output_type": "stream",
     "text": [
      "Endo_var        : HRVPVGINIIDX\n",
      "Eviews          : @IDENTITY HRVPVGINIIDX  = (2  * @cnorm(HRVstdPOV  / @sqrt(2))  - 1)  * 100\n",
      "Original        : HRVPVGINIIDX=(2*NORMCDF(HRVSTDPOV/SQRT(2))-1)*100\r\n",
      "Preprocessed    : HRVPVGINIIDX=(2*NORMCDF(HRVSTDPOV/SQRT(+2))-1)*100\r\n",
      "Normalized      : HRVPVGINIIDX = (2*NORMCDF(HRVSTDPOV/SQRT(+2))-1)*100\n",
      "\n"
     ]
    }
   ],
   "source": [
    "for f in all_about_hrv.all_frml:\n",
    "    if 'sqrt' in f.eviews:\n",
    "        print(f)\n",
    "        print() "
   ]
  },
  {
   "cell_type": "code",
   "execution_count": 54,
   "id": "f0443481",
   "metadata": {},
   "outputs": [
    {
     "name": "stdout",
     "output_type": "stream",
     "text": [
      "Endo_var        : HRVPVPOVTIDX\n",
      "Eviews          : @IDENTITY HRVPVPOVTIDX  = @cnorm((log(POVLINE)  - HRVmuPOV)  / HRVstdPOV)  * 100\n",
      "Original        : HRVPVPOVTIDX=NORMCDF((LOG(POVLINE)-HRVMUPOV)/HRVSTDPOV)*100\r\n",
      "Preprocessed    : HRVPVPOVTIDX=NORMCDF((LOG(POVLINE)-HRVMUPOV)/HRVSTDPOV)*100\r\n",
      "Normalized      : HRVPVPOVTIDX = NORMCDF((log(POVLINE)-HRVMUPOV)/HRVSTDPOV)*100\n",
      "\n",
      "Endo_var        : HRVPVGINIIDX\n",
      "Eviews          : @IDENTITY HRVPVGINIIDX  = (2  * @cnorm(HRVstdPOV  / @sqrt(2))  - 1)  * 100\n",
      "Original        : HRVPVGINIIDX=(2*NORMCDF(HRVSTDPOV/SQRT(2))-1)*100\r\n",
      "Preprocessed    : HRVPVGINIIDX=(2*NORMCDF(HRVSTDPOV/SQRT(+2))-1)*100\r\n",
      "Normalized      : HRVPVGINIIDX = (2*NORMCDF(HRVSTDPOV/SQRT(+2))-1)*100\n",
      "\n"
     ]
    }
   ],
   "source": [
    "for f in all_about_hrv.all_frml:\n",
    "    if 'cnorm' in f.eviews:\n",
    "        print(f)\n",
    "        print() "
   ]
  },
  {
   "cell_type": "markdown",
   "id": "c9b1ac7a",
   "metadata": {},
   "source": [
    "## Example to display stocastic equations \n",
    "For the example just the 2 first are displayed. "
   ]
  },
  {
   "cell_type": "code",
   "execution_count": 55,
   "id": "2356a5eb",
   "metadata": {},
   "outputs": [
    {
     "name": "stdout",
     "output_type": "stream",
     "text": [
      "Endo_var        : HRVBFCAFFFDICD\n",
      "Eviews          : (HRVBFCAFFFDICD/HRVNYGDPMKTPCD) = -0.0395322716314665\n",
      "Original        : (HRVBFCAFFFDICD/HRVNYGDPMKTPCD)=-0.0395322716314665\r\n",
      "Preprocessed    : (HRVBFCAFFFDICD/HRVNYGDPMKTPCD)=-0.0395322716314665\r\n",
      "Normalized      : HRVBFCAFFFDICD = (HRVBFCAFFFDICD_A*HRVNYGDPMKTPCD+HRVNYGDPMKTPCD* (-0.0395322716314665) ) * (1-HRVBFCAFFFDICD_D)+ HRVBFCAFFFDICD_X*HRVBFCAFFFDICD_D \n",
      "Calc_add_factor : HRVBFCAFFFDICD_A = HRVBFCAFFFDICD/HRVNYGDPMKTPCD- ((-0.0395322716314665)) \n",
      "Fitted          : HRVBFCAFFFDICD_FITTED = HRVNYGDPMKTPCD* (-0.0395322716314665)  \n",
      "\n",
      "Endo_var        : HRVBFCAFFPFTCD\n",
      "Eviews          : (HRVBFCAFFPFTCD/HRVNYGDPMKTPCD) = -0.00403065280887591\n",
      "Original        : (HRVBFCAFFPFTCD/HRVNYGDPMKTPCD)=-0.00403065280887591\r\n",
      "Preprocessed    : (HRVBFCAFFPFTCD/HRVNYGDPMKTPCD)=-0.00403065280887591\r\n",
      "Normalized      : HRVBFCAFFPFTCD = (HRVBFCAFFPFTCD_A*HRVNYGDPMKTPCD+HRVNYGDPMKTPCD* (-0.00403065280887591) ) * (1-HRVBFCAFFPFTCD_D)+ HRVBFCAFFPFTCD_X*HRVBFCAFFPFTCD_D \n",
      "Calc_add_factor : HRVBFCAFFPFTCD_A = HRVBFCAFFPFTCD/HRVNYGDPMKTPCD- ((-0.00403065280887591)) \n",
      "Fitted          : HRVBFCAFFPFTCD_FITTED = HRVNYGDPMKTPCD* (-0.00403065280887591)  \n",
      "\n"
     ]
    }
   ],
   "source": [
    "i = 0 \n",
    "for f in all_about_hrv.all_frml:\n",
    "    if not f.eviews.startswith('@IDEN'):\n",
    "        i = i+1\n",
    "        print(f,'\\n')\n",
    "    if i >= 2:break    "
   ]
  },
  {
   "cell_type": "markdown",
   "id": "76abf75d",
   "metadata": {},
   "source": [
    "## Run and test imported model then save as pcim"
   ]
  },
  {
   "cell_type": "code",
   "execution_count": 56,
   "id": "3a43ec17",
   "metadata": {},
   "outputs": [
    {
     "name": "stdout",
     "output_type": "stream",
     "text": [
      "HRV calculated  \n",
      "\n",
      "Chekking residuals for HRV 2012Q1 to 2050Q4\n"
     ]
    }
   ],
   "source": [
    "\n",
    "all_about_hrv.test_model(all_about_hrv.start,all_about_hrv.end,maxerr=100,tol=0.001,showall=0)   # tol determins the max acceptable absolute difference "
   ]
  },
  {
   "cell_type": "code",
   "execution_count": 57,
   "id": "fe7b0a83",
   "metadata": {},
   "outputs": [],
   "source": [
    "mhrv    = all_about_hrv.mmodel       # the model instance  \n",
    "baseline = all_about_hrv.base_input.copy() "
   ]
  },
  {
   "cell_type": "code",
   "execution_count": 58,
   "id": "a349ef15",
   "metadata": {},
   "outputs": [],
   "source": [
    "res = mhrv(baseline,'2023q1','2049q4')\n",
    "mhrv.basedf = baseline"
   ]
  },
  {
   "cell_type": "code",
   "execution_count": 59,
   "id": "50ccb40b",
   "metadata": {},
   "outputs": [],
   "source": [
    "# mhrv['*'].des # lookat all descriptions. Fine for me"
   ]
  },
  {
   "cell_type": "code",
   "execution_count": 60,
   "id": "0ba5d9b2",
   "metadata": {},
   "outputs": [
    {
     "data": {
      "application/vnd.jupyter.widget-view+json": {
       "model_id": "968e952bbcc5476ca0bce9a769c7db73",
       "version_major": 2,
       "version_minor": 0
      },
      "text/plain": [
       "Tab(children=(Tab(children=(HTML(value='<?xml version=\"1.0\" encoding=\"utf-8\" standalone=\"no\"?>\\n<!DOCTYPE svg …"
      ]
     },
     "metadata": {},
     "output_type": "display_data"
    },
    {
     "data": {
      "text/html": [],
      "text/plain": []
     },
     "execution_count": 60,
     "metadata": {},
     "output_type": "execute_result"
    }
   ],
   "source": [
    "mhrv['#Headline'] # to check if the model hits itself "
   ]
  },
  {
   "cell_type": "code",
   "execution_count": 61,
   "id": "efd848fa",
   "metadata": {},
   "outputs": [
    {
     "name": "stdout",
     "output_type": "stream",
     "text": [
      "Pandas 2. error handled \n"
     ]
    }
   ],
   "source": [
    "\n",
    "mhrv.modeldump('data/hrv')"
   ]
  }
 ],
 "metadata": {
  "hide_input": false,
  "kernelspec": {
   "display_name": "Python 3 (ipykernel)",
   "language": "python",
   "name": "python3"
  },
  "language_info": {
   "codemirror_mode": {
    "name": "ipython",
    "version": 3
   },
   "file_extension": ".py",
   "mimetype": "text/x-python",
   "name": "python",
   "nbconvert_exporter": "python",
   "pygments_lexer": "ipython3",
   "version": "3.12.8"
  },
  "nbTranslate": {
   "displayLangs": [
    "*"
   ],
   "hotkey": "alt-t",
   "langInMainMenu": true,
   "sourceLang": "en",
   "targetLang": "fr",
   "useGoogleTranslate": true
  },
  "toc": {
   "base_numbering": 1,
   "nav_menu": {},
   "number_sections": true,
   "sideBar": true,
   "skip_h1_title": false,
   "title_cell": "Table of Contents",
   "title_sidebar": "Contents",
   "toc_cell": false,
   "toc_position": {},
   "toc_section_display": true,
   "toc_window_display": true
  },
  "varInspector": {
   "cols": {
    "lenName": 16,
    "lenType": 16,
    "lenVar": 40
   },
   "kernels_config": {
    "python": {
     "delete_cmd_postfix": "",
     "delete_cmd_prefix": "del ",
     "library": "var_list.py",
     "varRefreshCmd": "print(var_dic_list())"
    },
    "r": {
     "delete_cmd_postfix": ") ",
     "delete_cmd_prefix": "rm(",
     "library": "var_list.r",
     "varRefreshCmd": "cat(var_dic_list()) "
    }
   },
   "types_to_exclude": [
    "module",
    "function",
    "builtin_function_or_method",
    "instance",
    "_Feature"
   ],
   "window_display": false
  }
 },
 "nbformat": 4,
 "nbformat_minor": 5
}
