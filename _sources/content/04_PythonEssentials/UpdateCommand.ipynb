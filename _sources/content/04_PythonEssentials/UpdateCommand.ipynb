{
 "cells": [
  {
   "cell_type": "markdown",
   "id": "70d11dc2",
   "metadata": {
    "tags": [
     "hide-cell"
    ]
   },
   "source": [
    ":::{index} DataFrame; upd() ModelFlow extension for easy updating of variables \n",
    ":::\n",
    "\n",
    ":::{index} upd()\n",
    ":::"
   ]
  },
  {
   "cell_type": "markdown",
   "id": "0f0832f7",
   "metadata": {
    "slideshow": {
     "slide_type": "slide"
    }
   },
   "source": [
    "(The_upd_method_returns_a_DataFrame_with_updated_variables)=\n",
    "\n",
    "\n",
    "# The `.upd()` method returns a `DataFrame` with updated variables.\n",
    "\n",
    "\n",
    "The ```.upd()``` method extends pandas by giving the user a concise and expressive way to modify data in a `DataFrame` using a syntax that a database-manager or macroeconomic modeler might find more natural.    \n",
    "\n",
    " \n",
    "\n",
    "```.upd()``` can be used to:\n",
    "\n",
    " - Perform different types of  updates\n",
    " - Perform multiple updates each on a new line \n",
    " - Perform changes over specific periods \n",
    " - Use one input which is used for all time frames, or a separate input for each time \n",
    " - Preserve pre-shock growth rates for out of sample time-periods \n",
    " - Display results \n",
    " \n",
    " \n",
    " :::{note}\n",
    " \n",
    " `.upd()` does not change the value of the `DataFrame` upon which it operates, but its results can be assigned to a `DataFrame`.  In the examples below the originating `DataFrame` df is never overwritten.  It could be, by assigning the result of an `upd()` command to df, i.e.\n",
    " \n",
    " ```df.upd('B = 7')```\n",
    " \n",
    "would set B from the `DataFrame` df equal to 7 and the function returns a temporary `DataFrame` whose results can be visualized.  The values of df are not changed in this example.  \n",
    " \n",
    " By contrast:\n",
    " \n",
    " ```df=df.upd('B = 7')```\n",
    " \n",
    " performs the same operation but assigns the results of the operation to df -- overwriting its earlier values.\n",
    " :::"
   ]
  },
  {
   "cell_type": "code",
   "execution_count": 1,
   "id": "a94f6b13",
   "metadata": {
    "tags": [
     "remove_cell"
    ]
   },
   "outputs": [],
   "source": [
    "#This is code to manage dependencies if the notebook is executed in the google colab cloud service\n",
    "if 'google.colab' in str(get_ipython()):\n",
    "  import os\n",
    "  os.system('apt -qqq install graphviz')\n",
    "  os.system('pip -qqq install ModelFlowIb   ')\n"
   ]
  },
  {
   "cell_type": "code",
   "execution_count": 2,
   "id": "c3e24864",
   "metadata": {
    "tags": [
     "remove_cell"
    ]
   },
   "outputs": [
    {
     "data": {
      "text/html": [
       "\n",
       "        <style>\n",
       "            div#notebook-container    { width: 95%; }\n",
       "            div#menubar-container     { width: 65%; }\n",
       "            div#maintoolbar-container { width: 99%; }\n",
       "        </style>\n",
       "        "
      ],
      "text/plain": [
       "<IPython.core.display.HTML object>"
      ]
     },
     "metadata": {},
     "output_type": "display_data"
    },
    {
     "data": {
      "application/javascript": [
       "\n",
       "                    IPython.OutputArea.prototype._should_scroll = function(lines){\n",
       "                        return false;\n",
       "                    }\n",
       "                "
      ],
      "text/plain": [
       "<IPython.core.display.Javascript object>"
      ]
     },
     "metadata": {},
     "output_type": "display_data"
    }
   ],
   "source": [
    "# Prepare the notebook for use of ModelFlow \n",
    "\n",
    "# Jupyter magic command to improve the display of charts in the Notebook\n",
    "%matplotlib inline\n",
    "\n",
    "# Import pandas \n",
    "import pandas as pd\n",
    "\n",
    "# Import the model class from the modelclass module \n",
    "from modelclass import model \n",
    "\n",
    "# functions that improve rendering of ModelFlow outputs\n",
    "model.widescreen()\n",
    "model.scroll_off();"
   ]
  },
  {
   "cell_type": "markdown",
   "id": "43faeff0",
   "metadata": {
    "slideshow": {
     "slide_type": "slide"
    }
   },
   "source": [
    ":::{Warning}\n",
    "\n",
    "The syntax of an update command requires that there be a space between variable names and the operators.\n",
    "\n",
    "Thus ```df.upd(\"A = 7\")``` is fine, but ```df.upd(\"A =7\")``` will generate an error.\n",
    "\n",
    "Similarly  ```df.upd(\"A * 1.1\")``` is fine, but ```df.upd(\"A* 1.1\")``` will generate an error.\n",
    ":::"
   ]
  },
  {
   "cell_type": "markdown",
   "id": "453add05",
   "metadata": {
    "tags": [
     "hide-cell"
    ]
   },
   "source": [
    ":::{index} upd(); Examples\n",
    ":name: upd\n",
    ":::"
   ]
  },
  {
   "cell_type": "markdown",
   "id": "0a63be02",
   "metadata": {},
   "source": [
    " ## some examples of the ```.upd()``` method\n",
    "First, create a dataframe using standard pandas syntax.  In this instance with years as the index and a dictionary defining the variables and their data."
   ]
  },
  {
   "cell_type": "code",
   "execution_count": 3,
   "id": "f6f7878c",
   "metadata": {},
   "outputs": [
    {
     "data": {
      "text/html": [
       "<div>\n",
       "<style scoped>\n",
       "    .dataframe tbody tr th:only-of-type {\n",
       "        vertical-align: middle;\n",
       "    }\n",
       "\n",
       "    .dataframe tbody tr th {\n",
       "        vertical-align: top;\n",
       "    }\n",
       "\n",
       "    .dataframe thead th {\n",
       "        text-align: right;\n",
       "    }\n",
       "</style>\n",
       "<table border=\"1\" class=\"dataframe\">\n",
       "  <thead>\n",
       "    <tr style=\"text-align: right;\">\n",
       "      <th></th>\n",
       "      <th>B</th>\n",
       "      <th>C</th>\n",
       "      <th>E</th>\n",
       "    </tr>\n",
       "  </thead>\n",
       "  <tbody>\n",
       "    <tr>\n",
       "      <th>2020</th>\n",
       "      <td>1</td>\n",
       "      <td>1</td>\n",
       "      <td>4</td>\n",
       "    </tr>\n",
       "    <tr>\n",
       "      <th>2021</th>\n",
       "      <td>1</td>\n",
       "      <td>2</td>\n",
       "      <td>4</td>\n",
       "    </tr>\n",
       "    <tr>\n",
       "      <th>2022</th>\n",
       "      <td>1</td>\n",
       "      <td>3</td>\n",
       "      <td>4</td>\n",
       "    </tr>\n",
       "    <tr>\n",
       "      <th>2023</th>\n",
       "      <td>1</td>\n",
       "      <td>6</td>\n",
       "      <td>4</td>\n",
       "    </tr>\n",
       "    <tr>\n",
       "      <th>2024</th>\n",
       "      <td>1</td>\n",
       "      <td>8</td>\n",
       "      <td>4</td>\n",
       "    </tr>\n",
       "    <tr>\n",
       "      <th>2025</th>\n",
       "      <td>1</td>\n",
       "      <td>9</td>\n",
       "      <td>4</td>\n",
       "    </tr>\n",
       "  </tbody>\n",
       "</table>\n",
       "</div>"
      ],
      "text/plain": [
       "      B  C  E\n",
       "2020  1  1  4\n",
       "2021  1  2  4\n",
       "2022  1  3  4\n",
       "2023  1  6  4\n",
       "2024  1  8  4\n",
       "2025  1  9  4"
      ]
     },
     "execution_count": 3,
     "metadata": {},
     "output_type": "execute_result"
    }
   ],
   "source": [
    "# Create a dataframe using standard pandas\n",
    "\n",
    "df = pd.DataFrame({'B': [1,1,1,1,1,1],'C':[1,2,3,6,8,9],'E':[4,4,4,4,4,4]},index=[v for v in range(2020,2026)])\n",
    "                  \n",
    "df"
   ]
  },
  {
   "cell_type": "markdown",
   "id": "520fef0d",
   "metadata": {
    "tags": [
     "hide-cell"
    ]
   },
   "source": [
    ":::{index} upd(); Create new variable \n",
    ":::"
   ]
  },
  {
   "cell_type": "markdown",
   "id": "1154a8eb",
   "metadata": {},
   "source": [
    "### Use `.upd` to create a new variable \n",
    "\n",
    "With standard pandas a user can add a column (series) to a `DataFrame` simply by assigning a value to an new column name (NEW2 had existed its values would have been updated.  For example:\n",
    "\n",
    "```df['NEW2']=[17,12,14,15]```\n",
    "\n",
    "```.upd()``` provides this functionality as well."
   ]
  },
  {
   "cell_type": "code",
   "execution_count": 4,
   "id": "21e46618",
   "metadata": {},
   "outputs": [
    {
     "data": {
      "text/html": [
       "<div>\n",
       "<style scoped>\n",
       "    .dataframe tbody tr th:only-of-type {\n",
       "        vertical-align: middle;\n",
       "    }\n",
       "\n",
       "    .dataframe tbody tr th {\n",
       "        vertical-align: top;\n",
       "    }\n",
       "\n",
       "    .dataframe thead th {\n",
       "        text-align: right;\n",
       "    }\n",
       "</style>\n",
       "<table border=\"1\" class=\"dataframe\">\n",
       "  <thead>\n",
       "    <tr style=\"text-align: right;\">\n",
       "      <th></th>\n",
       "      <th>B</th>\n",
       "      <th>C</th>\n",
       "      <th>E</th>\n",
       "    </tr>\n",
       "  </thead>\n",
       "  <tbody>\n",
       "    <tr>\n",
       "      <th>2020</th>\n",
       "      <td>1</td>\n",
       "      <td>142.0</td>\n",
       "      <td>4</td>\n",
       "    </tr>\n",
       "    <tr>\n",
       "      <th>2021</th>\n",
       "      <td>1</td>\n",
       "      <td>142.0</td>\n",
       "      <td>4</td>\n",
       "    </tr>\n",
       "    <tr>\n",
       "      <th>2022</th>\n",
       "      <td>1</td>\n",
       "      <td>142.0</td>\n",
       "      <td>4</td>\n",
       "    </tr>\n",
       "    <tr>\n",
       "      <th>2023</th>\n",
       "      <td>1</td>\n",
       "      <td>142.0</td>\n",
       "      <td>4</td>\n",
       "    </tr>\n",
       "    <tr>\n",
       "      <th>2024</th>\n",
       "      <td>1</td>\n",
       "      <td>142.0</td>\n",
       "      <td>4</td>\n",
       "    </tr>\n",
       "    <tr>\n",
       "      <th>2025</th>\n",
       "      <td>1</td>\n",
       "      <td>142.0</td>\n",
       "      <td>4</td>\n",
       "    </tr>\n",
       "  </tbody>\n",
       "</table>\n",
       "</div>"
      ],
      "text/plain": [
       "      B      C  E\n",
       "2020  1  142.0  4\n",
       "2021  1  142.0  4\n",
       "2022  1  142.0  4\n",
       "2023  1  142.0  4\n",
       "2024  1  142.0  4\n",
       "2025  1  142.0  4"
      ]
     },
     "execution_count": 4,
     "metadata": {},
     "output_type": "execute_result"
    }
   ],
   "source": [
    "df.upd('c = 142.0')\n"
   ]
  },
  {
   "cell_type": "markdown",
   "id": "2f17cf9b",
   "metadata": {},
   "source": [
    ":::{note}\n",
    "The new variable name was entered as a lower case 'c' here.  Lowercase letters are not legal `ModelFlow` variable names.  The `.upd()` method knows that it is part of `ModelFlow` and knows this rule. As a result, it automatically translates lowercase entries into upper case so that the statement works.\n",
    "\n",
    "The automatic creation of new variables can be suspended by setting the option: `create = False`. For more look see the discussion of the `'upd()` option  [create=True](upd_create).\n",
    ":::"
   ]
  },
  {
   "cell_type": "markdown",
   "id": "f2dfd648",
   "metadata": {
    "tags": [
     "remove-cell"
    ]
   },
   "source": [
    ":::{index} upd(); Multiple lines\n",
    ":::\n",
    "\n",
    ":::{index} upd(); Specific time periods for updates\n",
    ":::"
   ]
  },
  {
   "cell_type": "markdown",
   "id": "f14b65fa",
   "metadata": {},
   "source": [
    "## Multiple updates and specific time periods\n",
    "\n",
    "The `ModelFlow` method `.upd()` takes a string as an argument.  That string can contain a single update command or can contain multiple commands (for muliple lines the needs to be passed using triple apostrophes `'''` or three quote symbols `\"\"\"` as below.\n",
    "\n",
    "Moreover, by including a \\<Begin End\\> date clause in a given update command, the update will be restricted to the associated time period.\n",
    "\n",
    "The below illustrates this, modifying two existing variables A, B over different time periods and creating two new variables, `C` and `D`.  \n",
    "\n",
    "```{note} Inheritance of time periods in the .upd() method\n",
    "The third line inherits the time period of the previous line.\n",
    "\n",
    "Note also, the submitted string can include comments as well (denoted with the standard python # indicator).\n",
    "```"
   ]
  },
  {
   "cell_type": "code",
   "execution_count": 5,
   "id": "0832898b",
   "metadata": {},
   "outputs": [
    {
     "data": {
      "text/html": [
       "<div>\n",
       "<style scoped>\n",
       "    .dataframe tbody tr th:only-of-type {\n",
       "        vertical-align: middle;\n",
       "    }\n",
       "\n",
       "    .dataframe tbody tr th {\n",
       "        vertical-align: top;\n",
       "    }\n",
       "\n",
       "    .dataframe thead th {\n",
       "        text-align: right;\n",
       "    }\n",
       "</style>\n",
       "<table border=\"1\" class=\"dataframe\">\n",
       "  <thead>\n",
       "    <tr style=\"text-align: right;\">\n",
       "      <th></th>\n",
       "      <th>B</th>\n",
       "      <th>C</th>\n",
       "      <th>E</th>\n",
       "      <th>A</th>\n",
       "      <th>D</th>\n",
       "    </tr>\n",
       "  </thead>\n",
       "  <tbody>\n",
       "    <tr>\n",
       "      <th>2020</th>\n",
       "      <td>200.0</td>\n",
       "      <td>500.0</td>\n",
       "      <td>4</td>\n",
       "      <td>0.0</td>\n",
       "      <td>33.0</td>\n",
       "    </tr>\n",
       "    <tr>\n",
       "      <th>2021</th>\n",
       "      <td>1.0</td>\n",
       "      <td>2.0</td>\n",
       "      <td>4</td>\n",
       "      <td>42.0</td>\n",
       "      <td>33.0</td>\n",
       "    </tr>\n",
       "    <tr>\n",
       "      <th>2022</th>\n",
       "      <td>1.0</td>\n",
       "      <td>3.0</td>\n",
       "      <td>4</td>\n",
       "      <td>44.0</td>\n",
       "      <td>33.0</td>\n",
       "    </tr>\n",
       "    <tr>\n",
       "      <th>2023</th>\n",
       "      <td>1.0</td>\n",
       "      <td>6.0</td>\n",
       "      <td>4</td>\n",
       "      <td>45.0</td>\n",
       "      <td>33.0</td>\n",
       "    </tr>\n",
       "    <tr>\n",
       "      <th>2024</th>\n",
       "      <td>1.0</td>\n",
       "      <td>8.0</td>\n",
       "      <td>4</td>\n",
       "      <td>46.0</td>\n",
       "      <td>33.0</td>\n",
       "    </tr>\n",
       "    <tr>\n",
       "      <th>2025</th>\n",
       "      <td>1.0</td>\n",
       "      <td>9.0</td>\n",
       "      <td>4</td>\n",
       "      <td>0.0</td>\n",
       "      <td>33.0</td>\n",
       "    </tr>\n",
       "  </tbody>\n",
       "</table>\n",
       "</div>"
      ],
      "text/plain": [
       "          B      C  E     A     D\n",
       "2020  200.0  500.0  4   0.0  33.0\n",
       "2021    1.0    2.0  4  42.0  33.0\n",
       "2022    1.0    3.0  4  44.0  33.0\n",
       "2023    1.0    6.0  4  45.0  33.0\n",
       "2024    1.0    8.0  4  46.0  33.0\n",
       "2025    1.0    9.0  4   0.0  33.0"
      ]
     },
     "execution_count": 5,
     "metadata": {},
     "output_type": "execute_result"
    }
   ],
   "source": [
    "df.upd(\"\"\"\n",
    "# Same number of values as years\n",
    "<2021 2024> A = 42 44 45 46    # 4 years\n",
    "<2020     > B = 200            # 1 year \n",
    "c = 500                        # Same period as previous line\n",
    "<-0 -1> D = 33                   # All years \n",
    "\"\"\")"
   ]
  },
  {
   "cell_type": "markdown",
   "id": "4a6469a5",
   "metadata": {},
   "source": [
    ":::{note}\n",
    "The method `.upd()` only operates on one variable.  A command like `.upd('A = B')` would not work. For these kind of functions, use `.mfcalc()` (see next section).\n",
    ":::"
   ]
  },
  {
   "cell_type": "markdown",
   "id": "24b7547c",
   "metadata": {
    "cell_style": "center",
    "slideshow": {
     "slide_type": "slide"
    }
   },
   "source": [
    "## Update several variables in one line \n",
    "Sometime there is a need to update several variable with the same value over the same time frame. To ease this case .upd() can accept several left-hand side variables in one line"
   ]
  },
  {
   "cell_type": "code",
   "execution_count": 6,
   "id": "57c51934",
   "metadata": {
    "scrolled": false
   },
   "outputs": [
    {
     "data": {
      "text/html": [
       "<div>\n",
       "<style scoped>\n",
       "    .dataframe tbody tr th:only-of-type {\n",
       "        vertical-align: middle;\n",
       "    }\n",
       "\n",
       "    .dataframe tbody tr th {\n",
       "        vertical-align: top;\n",
       "    }\n",
       "\n",
       "    .dataframe thead th {\n",
       "        text-align: right;\n",
       "    }\n",
       "</style>\n",
       "<table border=\"1\" class=\"dataframe\">\n",
       "  <thead>\n",
       "    <tr style=\"text-align: right;\">\n",
       "      <th></th>\n",
       "      <th>B</th>\n",
       "      <th>C</th>\n",
       "      <th>E</th>\n",
       "      <th>H</th>\n",
       "      <th>I</th>\n",
       "      <th>J</th>\n",
       "      <th>K</th>\n",
       "      <th>P</th>\n",
       "      <th>Q</th>\n",
       "      <th>R</th>\n",
       "      <th>S</th>\n",
       "    </tr>\n",
       "  </thead>\n",
       "  <tbody>\n",
       "    <tr>\n",
       "      <th>2020</th>\n",
       "      <td>1</td>\n",
       "      <td>1</td>\n",
       "      <td>4</td>\n",
       "      <td>0.0</td>\n",
       "      <td>0.0</td>\n",
       "      <td>0.0</td>\n",
       "      <td>0.0</td>\n",
       "      <td>1000.000000</td>\n",
       "      <td>1000.000000</td>\n",
       "      <td>1000.000000</td>\n",
       "      <td>1000.000000</td>\n",
       "    </tr>\n",
       "    <tr>\n",
       "      <th>2021</th>\n",
       "      <td>1</td>\n",
       "      <td>2</td>\n",
       "      <td>4</td>\n",
       "      <td>0.0</td>\n",
       "      <td>0.0</td>\n",
       "      <td>0.0</td>\n",
       "      <td>0.0</td>\n",
       "      <td>1020.000000</td>\n",
       "      <td>1020.000000</td>\n",
       "      <td>1020.000000</td>\n",
       "      <td>1020.000000</td>\n",
       "    </tr>\n",
       "    <tr>\n",
       "      <th>2022</th>\n",
       "      <td>1</td>\n",
       "      <td>3</td>\n",
       "      <td>4</td>\n",
       "      <td>40.0</td>\n",
       "      <td>40.0</td>\n",
       "      <td>40.0</td>\n",
       "      <td>40.0</td>\n",
       "      <td>1040.400000</td>\n",
       "      <td>1040.400000</td>\n",
       "      <td>1040.400000</td>\n",
       "      <td>1040.400000</td>\n",
       "    </tr>\n",
       "    <tr>\n",
       "      <th>2023</th>\n",
       "      <td>1</td>\n",
       "      <td>6</td>\n",
       "      <td>4</td>\n",
       "      <td>40.0</td>\n",
       "      <td>40.0</td>\n",
       "      <td>40.0</td>\n",
       "      <td>40.0</td>\n",
       "      <td>1061.208000</td>\n",
       "      <td>1061.208000</td>\n",
       "      <td>1061.208000</td>\n",
       "      <td>1061.208000</td>\n",
       "    </tr>\n",
       "    <tr>\n",
       "      <th>2024</th>\n",
       "      <td>1</td>\n",
       "      <td>8</td>\n",
       "      <td>4</td>\n",
       "      <td>40.0</td>\n",
       "      <td>40.0</td>\n",
       "      <td>40.0</td>\n",
       "      <td>40.0</td>\n",
       "      <td>1082.432160</td>\n",
       "      <td>1082.432160</td>\n",
       "      <td>1082.432160</td>\n",
       "      <td>1082.432160</td>\n",
       "    </tr>\n",
       "    <tr>\n",
       "      <th>2025</th>\n",
       "      <td>1</td>\n",
       "      <td>9</td>\n",
       "      <td>4</td>\n",
       "      <td>0.0</td>\n",
       "      <td>0.0</td>\n",
       "      <td>0.0</td>\n",
       "      <td>0.0</td>\n",
       "      <td>1104.080803</td>\n",
       "      <td>1104.080803</td>\n",
       "      <td>1104.080803</td>\n",
       "      <td>1104.080803</td>\n",
       "    </tr>\n",
       "  </tbody>\n",
       "</table>\n",
       "</div>"
      ],
      "text/plain": [
       "      B  C  E     H     I     J     K            P            Q            R  \\\n",
       "2020  1  1  4   0.0   0.0   0.0   0.0  1000.000000  1000.000000  1000.000000   \n",
       "2021  1  2  4   0.0   0.0   0.0   0.0  1020.000000  1020.000000  1020.000000   \n",
       "2022  1  3  4  40.0  40.0  40.0  40.0  1040.400000  1040.400000  1040.400000   \n",
       "2023  1  6  4  40.0  40.0  40.0  40.0  1061.208000  1061.208000  1061.208000   \n",
       "2024  1  8  4  40.0  40.0  40.0  40.0  1082.432160  1082.432160  1082.432160   \n",
       "2025  1  9  4   0.0   0.0   0.0   0.0  1104.080803  1104.080803  1104.080803   \n",
       "\n",
       "                S  \n",
       "2020  1000.000000  \n",
       "2021  1020.000000  \n",
       "2022  1040.400000  \n",
       "2023  1061.208000  \n",
       "2024  1082.432160  \n",
       "2025  1104.080803  "
      ]
     },
     "execution_count": 6,
     "metadata": {},
     "output_type": "execute_result"
    }
   ],
   "source": [
    "df.upd('''\n",
    "<2022 2024> h i j k =      40      # earlier values are set to zero by default\n",
    "<2020>      p q r s =       1000   # All values beginning in 2020 set to 1000\n",
    "<2021 -1>   p q r s =growth 2      # -1 indicates the last year of dataframe\n",
    "''')"
   ]
  },
  {
   "cell_type": "markdown",
   "id": "fed01a2f",
   "metadata": {
    "tags": [
     "hide-cell"
    ]
   },
   "source": [
    ":::{index} upd(); Time scope of command\n",
    ":::"
   ]
  },
  {
   "cell_type": "markdown",
   "id": "1008cc00",
   "metadata": {
    "slideshow": {
     "slide_type": "slide"
    }
   },
   "source": [
    ":::{index} single: Boxes; Box   2. Time scope of .upd() commands\n",
    ":::\n",
    "\n",
    ":::{admonition} Box 2. Time scope of .upd() commands\n",
    "\n",
    "If the user wants to modify a series or group of series for only a specific point in time or a period of time, she can indicate the period in the command line.\n",
    "\n",
    " - If **one date** is specified the operation is applied to a single point in time\n",
    " - If **two dates**  are specifies the operation is applied over a period of time.\n",
    "\n",
    "**The selected time period will persist** until re-set with a new time specification. This is useful if several variables are going to be updated for the same time period, but must be kept in mind if subsequent commands are to operate over a different time period. \n",
    "\n",
    ":::{index} double:.upd();Setting the time period to the entire sample\n",
    ":::\n",
    "The time period can be reset to the full time-period by using the special \\<-0 -1\\> time period.  More generally:\n",
    "\n",
    " - -0 indicates the start of the `dataframe`\n",
    " - -1 indicates the end of the `dataframe` \n",
    " \n",
    "If no time is provided the `dataframe` start and end period will be used.  \n",
    ":::"
   ]
  },
  {
   "cell_type": "markdown",
   "id": "1666479c",
   "metadata": {
    "slideshow": {
     "slide_type": "slide"
    }
   },
   "source": [
    "\n",
    "The ```=``` operator causes the left-hand side variable to be set equal to the values following the ```=``` operator.\n",
    ":::{note} \n",
    "Either: \n",
    "  - Only one data point is provided. In this case its value is applied to all dates in the indicated period, or\n",
    "  - The number of data points provided must match the number of dates in the period specified.\n",
    ":::\n",
    "\n",
    "In the example below:\n",
    "\n",
    "* The first line sets the variable A during the specified period to specific values\n",
    "* The second line sets the variable B to 200 in 2023\n",
    "* The third line inherits the time period set in the second line (2023) and sets the variable C equal to 500.\n",
    "\n"
   ]
  },
  {
   "cell_type": "code",
   "execution_count": 7,
   "id": "20e97f46",
   "metadata": {},
   "outputs": [
    {
     "data": {
      "text/html": [
       "<div>\n",
       "<style scoped>\n",
       "    .dataframe tbody tr th:only-of-type {\n",
       "        vertical-align: middle;\n",
       "    }\n",
       "\n",
       "    .dataframe tbody tr th {\n",
       "        vertical-align: top;\n",
       "    }\n",
       "\n",
       "    .dataframe thead th {\n",
       "        text-align: right;\n",
       "    }\n",
       "</style>\n",
       "<table border=\"1\" class=\"dataframe\">\n",
       "  <thead>\n",
       "    <tr style=\"text-align: right;\">\n",
       "      <th></th>\n",
       "      <th>B</th>\n",
       "      <th>C</th>\n",
       "      <th>E</th>\n",
       "      <th>A</th>\n",
       "    </tr>\n",
       "  </thead>\n",
       "  <tbody>\n",
       "    <tr>\n",
       "      <th>2020</th>\n",
       "      <td>1.0</td>\n",
       "      <td>1.0</td>\n",
       "      <td>4</td>\n",
       "      <td>0.0</td>\n",
       "    </tr>\n",
       "    <tr>\n",
       "      <th>2021</th>\n",
       "      <td>1.0</td>\n",
       "      <td>2.0</td>\n",
       "      <td>4</td>\n",
       "      <td>42.0</td>\n",
       "    </tr>\n",
       "    <tr>\n",
       "      <th>2022</th>\n",
       "      <td>1.0</td>\n",
       "      <td>3.0</td>\n",
       "      <td>4</td>\n",
       "      <td>44.0</td>\n",
       "    </tr>\n",
       "    <tr>\n",
       "      <th>2023</th>\n",
       "      <td>200.0</td>\n",
       "      <td>500.0</td>\n",
       "      <td>4</td>\n",
       "      <td>45.0</td>\n",
       "    </tr>\n",
       "    <tr>\n",
       "      <th>2024</th>\n",
       "      <td>1.0</td>\n",
       "      <td>8.0</td>\n",
       "      <td>4</td>\n",
       "      <td>46.0</td>\n",
       "    </tr>\n",
       "    <tr>\n",
       "      <th>2025</th>\n",
       "      <td>1.0</td>\n",
       "      <td>9.0</td>\n",
       "      <td>4</td>\n",
       "      <td>0.0</td>\n",
       "    </tr>\n",
       "  </tbody>\n",
       "</table>\n",
       "</div>"
      ],
      "text/plain": [
       "          B      C  E     A\n",
       "2020    1.0    1.0  4   0.0\n",
       "2021    1.0    2.0  4  42.0\n",
       "2022    1.0    3.0  4  44.0\n",
       "2023  200.0  500.0  4  45.0\n",
       "2024    1.0    8.0  4  46.0\n",
       "2025    1.0    9.0  4   0.0"
      ]
     },
     "execution_count": 7,
     "metadata": {},
     "output_type": "execute_result"
    }
   ],
   "source": [
    "df.upd(\"\"\"\n",
    "# Same number of values as years\n",
    "<2021 2024> A = 42 44 45 46    # 4 years\n",
    "<2023     > B = 200            # 1 year \n",
    "c = 500                        # inherits previous time-period specification (2023)\n",
    "\"\"\")"
   ]
  },
  {
   "cell_type": "markdown",
   "id": "d19846c2",
   "metadata": {
    "slideshow": {
     "slide_type": "slide"
    }
   },
   "source": [
    "## Operators of  the ```.upd()``` method  \n",
    "\n",
    "The `.upd()` method takes a variety of mathematical operators, some of these are described below.\n",
    "\n"
   ]
  },
  {
   "cell_type": "markdown",
   "id": "ea46b763",
   "metadata": {
    "tags": [
     "remove-cell"
    ]
   },
   "source": [
    ":::{index} upd(); List of operators\n",
    ":::"
   ]
  },
  {
   "cell_type": "markdown",
   "id": "7bdb6e40",
   "metadata": {
    "slideshow": {
     "slide_type": "slide"
    }
   },
   "source": [
    "**Types of update:** \n",
    "\n",
    "| Update to perform |Use this operator|\n",
    "|:-- |:---|\n",
    " Set a variable equal to the input| = \n",
    " Add the input to the LHS variable | + \n",
    " Set the variable to itself multiplied by the input | *\n",
    " Increase/Decrease the variable by a percent of itself - i.e. multiplies itself by (1+input/100) | %\n",
    " Set the growth rate of the variable to the input | =growth\n",
    " Change the growth rate of the variable to its current growth rate plus the input value  | +growth \n",
    " Set the amount by which the variable should increase from its previous period level ($\\Delta = var_t - var_{t-1}$)| =diff"
   ]
  },
  {
   "cell_type": "markdown",
   "id": "f04457d3",
   "metadata": {},
   "source": [
    ":::{index} upd(); = operator\n",
    ":::\n"
   ]
  },
  {
   "cell_type": "markdown",
   "id": "dd18445f",
   "metadata": {},
   "source": [
    "### The \"=\" operator: assign a value(s) to a variable \n",
    "\n",
    "With standard pandas a user can add a column (series) to a `DataFrame` simply by assigning a adding to a `DataFrame`.  For example:\n",
    "\n",
    "```df['NEW2']=[11,17,12,14,15,17]```\n",
    "\n",
    "```df.upd('NEW2 = 11 17 12 14 15 17')``` provides this functionality as well. \n",
    "\n",
    "Note that with `.upd()` the multiple values are space delimited, versus standard pandas where they are passed as a comma delimited list."
   ]
  },
  {
   "cell_type": "code",
   "execution_count": 8,
   "id": "36888f02",
   "metadata": {},
   "outputs": [
    {
     "data": {
      "text/html": [
       "<div>\n",
       "<style scoped>\n",
       "    .dataframe tbody tr th:only-of-type {\n",
       "        vertical-align: middle;\n",
       "    }\n",
       "\n",
       "    .dataframe tbody tr th {\n",
       "        vertical-align: top;\n",
       "    }\n",
       "\n",
       "    .dataframe thead th {\n",
       "        text-align: right;\n",
       "    }\n",
       "</style>\n",
       "<table border=\"1\" class=\"dataframe\">\n",
       "  <thead>\n",
       "    <tr style=\"text-align: right;\">\n",
       "      <th></th>\n",
       "      <th>B</th>\n",
       "      <th>C</th>\n",
       "      <th>E</th>\n",
       "      <th>NEW2</th>\n",
       "    </tr>\n",
       "  </thead>\n",
       "  <tbody>\n",
       "    <tr>\n",
       "      <th>2020</th>\n",
       "      <td>1</td>\n",
       "      <td>1</td>\n",
       "      <td>4</td>\n",
       "      <td>11.0</td>\n",
       "    </tr>\n",
       "    <tr>\n",
       "      <th>2021</th>\n",
       "      <td>1</td>\n",
       "      <td>2</td>\n",
       "      <td>4</td>\n",
       "      <td>17.0</td>\n",
       "    </tr>\n",
       "    <tr>\n",
       "      <th>2022</th>\n",
       "      <td>1</td>\n",
       "      <td>3</td>\n",
       "      <td>4</td>\n",
       "      <td>12.0</td>\n",
       "    </tr>\n",
       "    <tr>\n",
       "      <th>2023</th>\n",
       "      <td>1</td>\n",
       "      <td>6</td>\n",
       "      <td>4</td>\n",
       "      <td>14.0</td>\n",
       "    </tr>\n",
       "    <tr>\n",
       "      <th>2024</th>\n",
       "      <td>1</td>\n",
       "      <td>8</td>\n",
       "      <td>4</td>\n",
       "      <td>15.0</td>\n",
       "    </tr>\n",
       "    <tr>\n",
       "      <th>2025</th>\n",
       "      <td>1</td>\n",
       "      <td>9</td>\n",
       "      <td>4</td>\n",
       "      <td>17.0</td>\n",
       "    </tr>\n",
       "  </tbody>\n",
       "</table>\n",
       "</div>"
      ],
      "text/plain": [
       "      B  C  E  NEW2\n",
       "2020  1  1  4  11.0\n",
       "2021  1  2  4  17.0\n",
       "2022  1  3  4  12.0\n",
       "2023  1  6  4  14.0\n",
       "2024  1  8  4  15.0\n",
       "2025  1  9  4  17.0"
      ]
     },
     "execution_count": 8,
     "metadata": {},
     "output_type": "execute_result"
    }
   ],
   "source": [
    "df.upd('NEW2 = 11 17 12 14 15 17')"
   ]
  },
  {
   "cell_type": "markdown",
   "id": "67c25188",
   "metadata": {
    "tags": [
     "hide-cell"
    ]
   },
   "source": [
    ":::{index} upd(); + operator\n",
    ":::\n",
    "\n"
   ]
  },
  {
   "cell_type": "markdown",
   "id": "48dd67e0",
   "metadata": {
    "slideshow": {
     "slide_type": "slide"
    }
   },
   "source": [
    "### The \"+\" operator adds  to the existing values in the specified range\n",
    "\n",
    "In the example below 42 is added to the pre-existing values of the variable B over the period 2022 and 2024, and a different value is subtracted from each of the three rows selected."
   ]
  },
  {
   "cell_type": "code",
   "execution_count": 9,
   "id": "e2ca804f",
   "metadata": {
    "scrolled": true
   },
   "outputs": [
    {
     "data": {
      "text/html": [
       "<div>\n",
       "<style scoped>\n",
       "    .dataframe tbody tr th:only-of-type {\n",
       "        vertical-align: middle;\n",
       "    }\n",
       "\n",
       "    .dataframe tbody tr th {\n",
       "        vertical-align: top;\n",
       "    }\n",
       "\n",
       "    .dataframe thead th {\n",
       "        text-align: right;\n",
       "    }\n",
       "</style>\n",
       "<table border=\"1\" class=\"dataframe\">\n",
       "  <thead>\n",
       "    <tr style=\"text-align: right;\">\n",
       "      <th></th>\n",
       "      <th>B</th>\n",
       "      <th>C</th>\n",
       "      <th>E</th>\n",
       "    </tr>\n",
       "  </thead>\n",
       "  <tbody>\n",
       "    <tr>\n",
       "      <th>2020</th>\n",
       "      <td>1.0</td>\n",
       "      <td>1</td>\n",
       "      <td>4.0</td>\n",
       "    </tr>\n",
       "    <tr>\n",
       "      <th>2021</th>\n",
       "      <td>1.0</td>\n",
       "      <td>2</td>\n",
       "      <td>4.0</td>\n",
       "    </tr>\n",
       "    <tr>\n",
       "      <th>2022</th>\n",
       "      <td>43.0</td>\n",
       "      <td>3</td>\n",
       "      <td>3.0</td>\n",
       "    </tr>\n",
       "    <tr>\n",
       "      <th>2023</th>\n",
       "      <td>43.0</td>\n",
       "      <td>6</td>\n",
       "      <td>2.0</td>\n",
       "    </tr>\n",
       "    <tr>\n",
       "      <th>2024</th>\n",
       "      <td>43.0</td>\n",
       "      <td>8</td>\n",
       "      <td>1.0</td>\n",
       "    </tr>\n",
       "    <tr>\n",
       "      <th>2025</th>\n",
       "      <td>1.0</td>\n",
       "      <td>9</td>\n",
       "      <td>4.0</td>\n",
       "    </tr>\n",
       "  </tbody>\n",
       "</table>\n",
       "</div>"
      ],
      "text/plain": [
       "         B  C    E\n",
       "2020   1.0  1  4.0\n",
       "2021   1.0  2  4.0\n",
       "2022  43.0  3  3.0\n",
       "2023  43.0  6  2.0\n",
       "2024  43.0  8  1.0\n",
       "2025   1.0  9  4.0"
      ]
     },
     "execution_count": 9,
     "metadata": {},
     "output_type": "execute_result"
    }
   ],
   "source": [
    "df.upd('''\n",
    "# Or one number to all years in between start and end \n",
    "<2022 2024> B  +  42    # one value broadcast to 3 years \n",
    "<2022 2024> E  +  -1 -2 -3 # add (subtract) a different value to each of the three rows specified\n",
    "''')"
   ]
  },
  {
   "cell_type": "markdown",
   "id": "e16b2410",
   "metadata": {
    "tags": [
     "remove-cell"
    ]
   },
   "source": [
    ":::{index} upd(); * operator\n",
    ":::\n"
   ]
  },
  {
   "cell_type": "markdown",
   "id": "960f4ec7",
   "metadata": {
    "slideshow": {
     "slide_type": "slide"
    }
   },
   "source": [
    "### The * operator multiplies all values in a range by the specified values\n",
    "\n",
    "In the example below the pre-existing values of the variable A for years 2021, 2022 and 2023 are multiplied by three different numbers (42, 44 and 45 respectively)."
   ]
  },
  {
   "cell_type": "code",
   "execution_count": 10,
   "id": "f642184f",
   "metadata": {},
   "outputs": [
    {
     "data": {
      "text/html": [
       "<div>\n",
       "<style scoped>\n",
       "    .dataframe tbody tr th:only-of-type {\n",
       "        vertical-align: middle;\n",
       "    }\n",
       "\n",
       "    .dataframe tbody tr th {\n",
       "        vertical-align: top;\n",
       "    }\n",
       "\n",
       "    .dataframe thead th {\n",
       "        text-align: right;\n",
       "    }\n",
       "</style>\n",
       "<table border=\"1\" class=\"dataframe\">\n",
       "  <thead>\n",
       "    <tr style=\"text-align: right;\">\n",
       "      <th></th>\n",
       "      <th>B</th>\n",
       "      <th>C</th>\n",
       "      <th>E</th>\n",
       "    </tr>\n",
       "  </thead>\n",
       "  <tbody>\n",
       "    <tr>\n",
       "      <th>2020</th>\n",
       "      <td>1.0</td>\n",
       "      <td>1</td>\n",
       "      <td>4</td>\n",
       "    </tr>\n",
       "    <tr>\n",
       "      <th>2021</th>\n",
       "      <td>42.0</td>\n",
       "      <td>2</td>\n",
       "      <td>4</td>\n",
       "    </tr>\n",
       "    <tr>\n",
       "      <th>2022</th>\n",
       "      <td>44.0</td>\n",
       "      <td>3</td>\n",
       "      <td>4</td>\n",
       "    </tr>\n",
       "    <tr>\n",
       "      <th>2023</th>\n",
       "      <td>55.0</td>\n",
       "      <td>6</td>\n",
       "      <td>4</td>\n",
       "    </tr>\n",
       "    <tr>\n",
       "      <th>2024</th>\n",
       "      <td>1.0</td>\n",
       "      <td>8</td>\n",
       "      <td>4</td>\n",
       "    </tr>\n",
       "    <tr>\n",
       "      <th>2025</th>\n",
       "      <td>1.0</td>\n",
       "      <td>9</td>\n",
       "      <td>4</td>\n",
       "    </tr>\n",
       "  </tbody>\n",
       "</table>\n",
       "</div>"
      ],
      "text/plain": [
       "         B  C  E\n",
       "2020   1.0  1  4\n",
       "2021  42.0  2  4\n",
       "2022  44.0  3  4\n",
       "2023  55.0  6  4\n",
       "2024   1.0  8  4\n",
       "2025   1.0  9  4"
      ]
     },
     "execution_count": 10,
     "metadata": {},
     "output_type": "execute_result"
    }
   ],
   "source": [
    "df.upd('''\n",
    "# Same number of values as years\n",
    "<2021 2023> B *  42 44 55\n",
    "''')"
   ]
  },
  {
   "cell_type": "markdown",
   "id": "111e2fde",
   "metadata": {
    "tags": [
     "hidee-cell"
    ]
   },
   "source": [
    ":::{index} upd(); % operator\n",
    ":::\n"
   ]
  },
  {
   "cell_type": "markdown",
   "id": "ed2d8fd4",
   "metadata": {
    "slideshow": {
     "slide_type": "slide"
    }
   },
   "source": [
    "### The % operator increases all  values in a range by a  specified percent amount \n",
    "In this example:\n",
    " - A new column  is generated with value 1 in every year\n",
    " - A is increased by 42 and 44% over the range 2021 through 2022.\n",
    " - B is increased by 10 percent in all years\n",
    " - C The values of C are overwritten and set to 100 for the whole range (because the previous line set the active range to  <-0 -1>)\n",
    " - C is decreased by 12 percent over the range 2023 through 2025."
   ]
  },
  {
   "cell_type": "code",
   "execution_count": 11,
   "id": "0b7a83f4",
   "metadata": {},
   "outputs": [
    {
     "data": {
      "text/html": [
       "<div>\n",
       "<style scoped>\n",
       "    .dataframe tbody tr th:only-of-type {\n",
       "        vertical-align: middle;\n",
       "    }\n",
       "\n",
       "    .dataframe tbody tr th {\n",
       "        vertical-align: top;\n",
       "    }\n",
       "\n",
       "    .dataframe thead th {\n",
       "        text-align: right;\n",
       "    }\n",
       "</style>\n",
       "<table border=\"1\" class=\"dataframe\">\n",
       "  <thead>\n",
       "    <tr style=\"text-align: right;\">\n",
       "      <th></th>\n",
       "      <th>B</th>\n",
       "      <th>C</th>\n",
       "      <th>E</th>\n",
       "      <th>A</th>\n",
       "    </tr>\n",
       "  </thead>\n",
       "  <tbody>\n",
       "    <tr>\n",
       "      <th>2020</th>\n",
       "      <td>1.1</td>\n",
       "      <td>100.0</td>\n",
       "      <td>4</td>\n",
       "      <td>1.00</td>\n",
       "    </tr>\n",
       "    <tr>\n",
       "      <th>2021</th>\n",
       "      <td>1.1</td>\n",
       "      <td>100.0</td>\n",
       "      <td>4</td>\n",
       "      <td>1.42</td>\n",
       "    </tr>\n",
       "    <tr>\n",
       "      <th>2022</th>\n",
       "      <td>1.1</td>\n",
       "      <td>100.0</td>\n",
       "      <td>4</td>\n",
       "      <td>1.44</td>\n",
       "    </tr>\n",
       "    <tr>\n",
       "      <th>2023</th>\n",
       "      <td>1.1</td>\n",
       "      <td>88.0</td>\n",
       "      <td>4</td>\n",
       "      <td>1.00</td>\n",
       "    </tr>\n",
       "    <tr>\n",
       "      <th>2024</th>\n",
       "      <td>1.1</td>\n",
       "      <td>88.0</td>\n",
       "      <td>4</td>\n",
       "      <td>1.00</td>\n",
       "    </tr>\n",
       "    <tr>\n",
       "      <th>2025</th>\n",
       "      <td>1.1</td>\n",
       "      <td>88.0</td>\n",
       "      <td>4</td>\n",
       "      <td>1.00</td>\n",
       "    </tr>\n",
       "  </tbody>\n",
       "</table>\n",
       "</div>"
      ],
      "text/plain": [
       "        B      C  E     A\n",
       "2020  1.1  100.0  4  1.00\n",
       "2021  1.1  100.0  4  1.42\n",
       "2022  1.1  100.0  4  1.44\n",
       "2023  1.1   88.0  4  1.00\n",
       "2024  1.1   88.0  4  1.00\n",
       "2025  1.1   88.0  4  1.00"
      ]
     },
     "execution_count": 11,
     "metadata": {},
     "output_type": "execute_result"
    }
   ],
   "source": [
    "\n",
    "df.upd('''\n",
    "<-0 -1> A = 1\n",
    "<2021 2022 > A %  42 44   # Two specific years / rows\n",
    "<-0 -1> B % 10            # all rows \n",
    "C = 100                   # all rows persist \n",
    "<2023 2025> C % -12       # now only for 3 years \n",
    "''')\n"
   ]
  },
  {
   "cell_type": "markdown",
   "id": "d35450ca",
   "metadata": {
    "tags": [
     "hide-cell"
    ]
   },
   "source": [
    ":::{index} upd(); =GROWTH operator\n",
    ":::\n"
   ]
  },
  {
   "cell_type": "markdown",
   "id": "9f736f80",
   "metadata": {
    "slideshow": {
     "slide_type": "slide"
    }
   },
   "source": [
    "### The =GROWTH operator sets the percent growth rate to specified values\n",
    "\n",
    "The `=GROWTH` operator sets the growth rate of the variable to the indicated level.\n"
   ]
  },
  {
   "cell_type": "code",
   "execution_count": 12,
   "id": "e42877b9",
   "metadata": {},
   "outputs": [
    {
     "name": "stdout",
     "output_type": "stream",
     "text": [
      "Dataframe:\n",
      "      B           C  E       A\n",
      "2020  1  100.000000  4  100.00\n",
      "2021  1  102.000000  4  101.00\n",
      "2022  1  104.040000  4  106.05\n",
      "2023  1  106.120800  4  100.00\n",
      "2024  1  108.243216  4  100.00\n",
      "2025  1  110.408080  4  100.00\n",
      "\n",
      "Growth:\n",
      "        B    C    E         A\n",
      "2020  NaN  NaN  NaN       NaN\n",
      "2021  0.0  2.0  0.0  1.000000\n",
      "2022  0.0  2.0  0.0  5.000000\n",
      "2023  0.0  2.0  0.0 -5.704856\n",
      "2024  0.0  2.0  0.0  0.000000\n",
      "2025  0.0  2.0  0.0  0.000000\n",
      "\n"
     ]
    }
   ],
   "source": [
    "res = df.upd('''\n",
    "# Same number of values as years\n",
    "<-0 -1> A = 100\n",
    "<2021 2022> A =GROWTH  1 5  \n",
    "<2020> c = 100 \n",
    "<2021 2025> c =GROWTH 2 \n",
    "''')\n",
    "# print the resulting DataFrame (res) first as levels and then as a growth rate uising the pandas pct_change() method\n",
    "print(f'Dataframe:\\n{res}\\n\\nGrowth:\\n{res.pct_change()*100.0}\\n') "
   ]
  },
  {
   "cell_type": "markdown",
   "id": "7205a2c6",
   "metadata": {
    "tags": [
     "hide-cell"
    ]
   },
   "source": [
    ":::{index} upd(); +GROWTH operator\n",
    ":::"
   ]
  },
  {
   "cell_type": "markdown",
   "id": "762a7c55",
   "metadata": {
    "slideshow": {
     "slide_type": "slide"
    }
   },
   "source": [
    "### The +GROWTH operator adds or subtracts from the existing percent growth rate\n",
    "\n",
    "The below example is a bit more complicated, reflecting the fact that each line is executed sequentially.\n",
    "\n",
    "The first line sets the value of A  to 1 for the whole period.\n",
    "\n",
    "The second line sets the growth rate of A and STEP2 in 2021 to 1% (STEP2 is changed so that we can inspect the intermediate value that A would had after execution of line 2 but before the execution of line 3).\n",
    "\n",
    "The third line adds 2 to the growth rates of A in each period after 2021. For 2021 the growth rate was and remains unchanged.  The value of A in 2022 following the execution of line 2 is 1 (see the values for STEP2).  The pre-existing growth  rate of A is actually negative (see growth rate of STEP2).  \n",
    "\n",
    "Adding 2 to this growth rate results in a growth rates of a little more than 1 in 2022.  The growth rate in the following years was zero (see B) and is now 2 percent."
   ]
  },
  {
   "cell_type": "code",
   "execution_count": 13,
   "id": "f8c1ae12",
   "metadata": {},
   "outputs": [
    {
     "name": "stdout",
     "output_type": "stream",
     "text": [
      "Dataframe:\n",
      "      B  C  E         A  STEP2\n",
      "2020  1  1  4  1.000000   1.00\n",
      "2021  1  2  4  1.010000   1.01\n",
      "2022  1  3  4  1.020200   1.00\n",
      "2023  1  6  4  1.040604   1.00\n",
      "2024  1  8  4  1.061416   1.00\n",
      "2025  1  9  4  1.082644   1.00\n",
      "\n",
      "Growth:\n",
      "        B           C    E         A     STEP2\n",
      "2020  NaN         NaN  NaN       NaN       NaN\n",
      "2021  0.0  100.000000  0.0  1.000000  1.000000\n",
      "2022  0.0   50.000000  0.0  1.009901 -0.990099\n",
      "2023  0.0  100.000000  0.0  2.000000  0.000000\n",
      "2024  0.0   33.333333  0.0  2.000000  0.000000\n",
      "2025  0.0   12.500000  0.0  2.000000  0.000000\n",
      "\n"
     ]
    }
   ],
   "source": [
    "\n",
    "\n",
    "res =df.upd('''\n",
    "<-0 -1> A STEP2 = 1\n",
    "<2021 > A STEP2 =GROWTH  1  # All selected years set to the same growth rate\n",
    "<2022 -1> A +growth   2  # Add to the existing growth rate these numbers  \n",
    "''')\n",
    "print(f'Dataframe:\\n{res}\\n\\nGrowth:\\n{res.pct_change()*100}\\n')"
   ]
  },
  {
   "cell_type": "markdown",
   "id": "8ef242be",
   "metadata": {
    "tags": [
     "hide-cell"
    ]
   },
   "source": [
    ":::{index} upd(); =diff operator\n",
    ":::\n"
   ]
  },
  {
   "cell_type": "markdown",
   "id": "e6a9b1e6",
   "metadata": {
    "slideshow": {
     "slide_type": "slide"
    }
   },
   "source": [
    "###  The =diff operator recursively sets the value of a pre-existing  variable to rise or fall by the specified amount  \n",
    "\n",
    "The command `=diff` (mathematically $\\Delta = var_t - var_{t-1} = some\\ number$) below sets the value of A in 2021 to 2 more than the value of 2020, and the 2022 value as 4 more than the **revised** value of 2021.\n",
    "\n",
    "The second line creates a new variable \"UPBY2\" to the data frame and sets it equal to 100 for all periods,\n",
    "\n",
    "The third line recursively adds 2 to UPBY2's previous period's revised value.  As a result it increments over time by 2.\n",
    "\n"
   ]
  },
  {
   "cell_type": "code",
   "execution_count": 14,
   "id": "1540ac84",
   "metadata": {},
   "outputs": [
    {
     "data": {
      "text/html": [
       "<div>\n",
       "<style scoped>\n",
       "    .dataframe tbody tr th:only-of-type {\n",
       "        vertical-align: middle;\n",
       "    }\n",
       "\n",
       "    .dataframe tbody tr th {\n",
       "        vertical-align: top;\n",
       "    }\n",
       "\n",
       "    .dataframe thead th {\n",
       "        text-align: right;\n",
       "    }\n",
       "</style>\n",
       "<table border=\"1\" class=\"dataframe\">\n",
       "  <thead>\n",
       "    <tr style=\"text-align: right;\">\n",
       "      <th></th>\n",
       "      <th>B</th>\n",
       "      <th>C</th>\n",
       "      <th>E</th>\n",
       "      <th>A</th>\n",
       "      <th>UPBY2</th>\n",
       "    </tr>\n",
       "  </thead>\n",
       "  <tbody>\n",
       "    <tr>\n",
       "      <th>2020</th>\n",
       "      <td>1</td>\n",
       "      <td>1</td>\n",
       "      <td>4</td>\n",
       "      <td>1.0</td>\n",
       "      <td>100.0</td>\n",
       "    </tr>\n",
       "    <tr>\n",
       "      <th>2021</th>\n",
       "      <td>1</td>\n",
       "      <td>2</td>\n",
       "      <td>4</td>\n",
       "      <td>3.0</td>\n",
       "      <td>102.0</td>\n",
       "    </tr>\n",
       "    <tr>\n",
       "      <th>2022</th>\n",
       "      <td>1</td>\n",
       "      <td>3</td>\n",
       "      <td>4</td>\n",
       "      <td>7.0</td>\n",
       "      <td>104.0</td>\n",
       "    </tr>\n",
       "    <tr>\n",
       "      <th>2023</th>\n",
       "      <td>1</td>\n",
       "      <td>6</td>\n",
       "      <td>4</td>\n",
       "      <td>1.0</td>\n",
       "      <td>106.0</td>\n",
       "    </tr>\n",
       "    <tr>\n",
       "      <th>2024</th>\n",
       "      <td>1</td>\n",
       "      <td>8</td>\n",
       "      <td>4</td>\n",
       "      <td>1.0</td>\n",
       "      <td>108.0</td>\n",
       "    </tr>\n",
       "    <tr>\n",
       "      <th>2025</th>\n",
       "      <td>1</td>\n",
       "      <td>9</td>\n",
       "      <td>4</td>\n",
       "      <td>1.0</td>\n",
       "      <td>110.0</td>\n",
       "    </tr>\n",
       "  </tbody>\n",
       "</table>\n",
       "</div>"
      ],
      "text/plain": [
       "      B  C  E    A  UPBY2\n",
       "2020  1  1  4  1.0  100.0\n",
       "2021  1  2  4  3.0  102.0\n",
       "2022  1  3  4  7.0  104.0\n",
       "2023  1  6  4  1.0  106.0\n",
       "2024  1  8  4  1.0  108.0\n",
       "2025  1  9  4  1.0  110.0"
      ]
     },
     "execution_count": 14,
     "metadata": {},
     "output_type": "execute_result"
    }
   ],
   "source": [
    "df.upd('''\n",
    "<-0 -1> A = 1\n",
    "< 2021 2022> A =diff  2 4   # Same number of values as years\n",
    "<2020 > UpBy2 = 100         # sets 2020 value of UPBy2 to 100 \n",
    "<2021 2025> UpBy2 =diff  2  # increases by 2 from 2021 to 2025\n",
    "''')\n"
   ]
  },
  {
   "cell_type": "markdown",
   "id": "a7da4f22",
   "metadata": {
    "tags": [
     "hide-cell"
    ]
   },
   "source": [
    ":::{index} upd(); Update several variables simultaneously\n",
    ":::\n"
   ]
  },
  {
   "cell_type": "markdown",
   "id": "79e685c8",
   "metadata": {
    "tags": [
     "hide-cell"
    ]
   },
   "source": [
    ":::{index} upd(); Options\n",
    ":::\n",
    "\n",
    ":::{index} upd(); keep_growth option\n",
    ":::\n",
    "\n"
   ]
  },
  {
   "cell_type": "markdown",
   "id": "2b4c30f9",
   "metadata": {},
   "source": [
    "## Options of the  `.upd()` method\n",
    "\n",
    "In addition to the operators discussed abovem the `.upd()` method has several options that affect the way that it behaves.  The most important of these are summarized below.\n",
    "\n",
    "|Option|Example|Effect|\n",
    "|:--|:--|:--|\n",
    "|keep_growth|keep_growth= True| When set, the post-shock growth rate of variables updated over a sub-period will be preserved, implying that in the period after the growth operation their levels will change (be higher because of higher growth in earlier periods) but their growth rates will remain unchanged. When not set their levels remain unchanged.|\n",
    "|--kg|df=df.upd( \"<2022 2023> A + 5 --kg\")|A line level option that has the same effect as keep_growth=True|\n",
    "|--nkg|df=df.upd( \"<2022 2023> A + 5 --nkg\")|A line level option that has the same effect as keep_growth=False|\n",
    "|scale|scale=0.5| The update value(s) are multiplying by the scale before the update is performed. Useful for sensitivity analysis. Defaults to 1.0, i.e. no sensitivity analysis and the full value is passed to update.|\n",
    "|lprint|lprint=True|When set, causes the pre and post values of affected variables to be printed.|\n",
    "|create|create=False|When set (default), will cause the LHS variable in an update command to be created. If False update will throw an error if the LHS variable does not exist.|\n"
   ]
  },
  {
   "cell_type": "markdown",
   "id": "65273069",
   "metadata": {},
   "source": [
    "### The keep_growth option (--kg and --nkg)\n",
    "\n",
    "When changing data and for certain kinds of simulations, it can sometime be useful to be able to update variables but keep the growth rate in subsequent periods unchanged. In database management this is frequently done when two time-series with different levels are spliced together. When forecasting this is useful if you have updated historical data but your views on future growth rates are unchanged.\n",
    "\n",
    "The -kg or --keep_growth option instructs `ModelFlow` to calculate the growth rate of the existing pre-change series, and then use it to preserve the pre-change growth rates of the series for the periods that were **not** changed. \n",
    "\n",
    "\n",
    "### The default keep_growth behavior\n",
    "\n",
    "The ```keep_growth``` option determines how data in  the time periods after those where an update is executed are treated.  \n",
    "\n",
    "If ```keep_growth``` is ```False``` then data in the sub-period after a change are left unchanged.\n",
    "\n",
    "if ```keep_growth``` is set to \"```True```\" then the system will preserve the pre-change growth rate of the affected variable in the time period *after the change*. \n",
    "\n",
    "By default ```keep_growth``` is set to ```False```.\n",
    "\n",
    ":::{note}\n",
    "At the line level:\n",
    "* ```keep_growth=True``` can be expressed as --kg\n",
    "* ```keep_growth=False``` can be expressed as --nkg\n",
    ":::\n",
    "\n",
    "Consider the following concrete example. A ```DataFrame``` df has two variables A and B, that each grow by 2% per period, with A initialized at a level of 100 and B at a level of 110 so that we can see each separately on a graph.\n",
    "\n"
   ]
  },
  {
   "cell_type": "code",
   "execution_count": 15,
   "id": "e314c79c",
   "metadata": {},
   "outputs": [],
   "source": [
    "df = pd.DataFrame(100.,\n",
    "     index=[v for v in range(2020,2025)],\n",
    "       columns=['A','B']) "
   ]
  },
  {
   "cell_type": "code",
   "execution_count": 16,
   "id": "42a6c166",
   "metadata": {},
   "outputs": [
    {
     "data": {
      "text/html": [
       "<div>\n",
       "<style scoped>\n",
       "    .dataframe tbody tr th:only-of-type {\n",
       "        vertical-align: middle;\n",
       "    }\n",
       "\n",
       "    .dataframe tbody tr th {\n",
       "        vertical-align: top;\n",
       "    }\n",
       "\n",
       "    .dataframe thead th {\n",
       "        text-align: right;\n",
       "    }\n",
       "</style>\n",
       "<table border=\"1\" class=\"dataframe\">\n",
       "  <thead>\n",
       "    <tr style=\"text-align: right;\">\n",
       "      <th></th>\n",
       "      <th>A</th>\n",
       "      <th>B</th>\n",
       "      <th>A_ORIG</th>\n",
       "      <th>B_ORIG</th>\n",
       "    </tr>\n",
       "  </thead>\n",
       "  <tbody>\n",
       "    <tr>\n",
       "      <th>2020</th>\n",
       "      <td>100.000000</td>\n",
       "      <td>110.000000</td>\n",
       "      <td>100.000000</td>\n",
       "      <td>110.000000</td>\n",
       "    </tr>\n",
       "    <tr>\n",
       "      <th>2021</th>\n",
       "      <td>102.000000</td>\n",
       "      <td>112.200000</td>\n",
       "      <td>102.000000</td>\n",
       "      <td>112.200000</td>\n",
       "    </tr>\n",
       "    <tr>\n",
       "      <th>2022</th>\n",
       "      <td>104.040000</td>\n",
       "      <td>114.444000</td>\n",
       "      <td>104.040000</td>\n",
       "      <td>114.444000</td>\n",
       "    </tr>\n",
       "    <tr>\n",
       "      <th>2023</th>\n",
       "      <td>106.120800</td>\n",
       "      <td>116.732880</td>\n",
       "      <td>106.120800</td>\n",
       "      <td>116.732880</td>\n",
       "    </tr>\n",
       "    <tr>\n",
       "      <th>2024</th>\n",
       "      <td>108.243216</td>\n",
       "      <td>119.067538</td>\n",
       "      <td>108.243216</td>\n",
       "      <td>119.067538</td>\n",
       "    </tr>\n",
       "  </tbody>\n",
       "</table>\n",
       "</div>"
      ],
      "text/plain": [
       "               A           B      A_ORIG      B_ORIG\n",
       "2020  100.000000  110.000000  100.000000  110.000000\n",
       "2021  102.000000  112.200000  102.000000  112.200000\n",
       "2022  104.040000  114.444000  104.040000  114.444000\n",
       "2023  106.120800  116.732880  106.120800  116.732880\n",
       "2024  108.243216  119.067538  108.243216  119.067538"
      ]
     },
     "execution_count": 16,
     "metadata": {},
     "output_type": "execute_result"
    }
   ],
   "source": [
    "df=df.upd(\"\"\"<2021 -1> A =growth 2\n",
    "           <2020 -1>   B = 110\n",
    "          <2021 -1>    B =growth 2\n",
    "          \"\"\")\n",
    "# Store these variables for later use in comparisons\n",
    "df['A_ORIG']=df['A']\n",
    "df['B_ORIG']=df['B']\n",
    "df"
   ]
  },
  {
   "cell_type": "code",
   "execution_count": 17,
   "id": "89c2fb4a",
   "metadata": {},
   "outputs": [
    {
     "data": {
      "image/png": "[encoded data removed]",
      "text/plain": [
       "<Figure size 700x300 with 1 Axes>"
      ]
     },
     "metadata": {},
     "output_type": "display_data"
    }
   ],
   "source": [
    "    df[['A','B']].plot(xticks=df.index,figsize=(7,3)); #the xticks option forces mathplitlib to only print x-axis values that exist in the index (no decimals)"
   ]
  },
  {
   "cell_type": "markdown",
   "id": "56ccf5d7",
   "metadata": {},
   "source": [
    "The `.upd()` command below modifies both A and B by adding 5 to their levels in each of 2022 and 2023.  \n",
    "\n",
    "For A, this is done with the `keep_growth` option set to `True` -- the `--kg` option in the code below.  This means that for A the growth rate after the shock period 2022-23 will be unchanged at 2 percent.\n",
    "\n",
    "For series B the same shock is applied but with keep_growth set to `False` using the --nkg option.  \n",
    "\n",
    "The keep_growth global variable is ignored in this instance as each line in the update is overriding it using the --kg option (`keep_growth=True`) and --nkg option (`keep_growth=False`).\n"
   ]
  },
  {
   "cell_type": "code",
   "execution_count": 18,
   "id": "e2f38e7e",
   "metadata": {},
   "outputs": [
    {
     "data": {
      "image/png": "[encoded data removed]",
      "text/plain": [
       "<Figure size 700x300 with 1 Axes>"
      ]
     },
     "metadata": {},
     "output_type": "display_data"
    }
   ],
   "source": [
    "df=df.upd(\"\"\"\n",
    "            <2022 2023> A + 5 --kg\n",
    "            <2022 2023> B + 5 --nkg\n",
    "            \"\"\")\n",
    "\n",
    "df[['A','B','A_ORIG','B_ORIG']].plot(xticks=df.index,figsize=(7,3));   "
   ]
  },
  {
   "cell_type": "markdown",
   "id": "94df6758",
   "metadata": {},
   "source": [
    "In the first example 'A' (the green and blue lines) the level of A is increased by 5 for two periods (2021-2022). The levels of the subsequent values are also increased because the previous growth rate (2%) is now applied to the new higher level of the data in 2022.\n",
    "\n",
    "For the 'B' variable the same level change was input but because of the `--nkg` (equivalent to `keep_growth=False`) the periods after the change were unaffected. the shocked variable returns to its pre-shock level immediately in 2023.\n",
    "\n",
    "Below are plots the growth rates of the two transformed series.\n",
    "\n",
    "Here the growth in both series accelerates in 2022, by slightly less than 5 percentage points because a) the base of each is more than 100 in 2021 (because of the 2 percent growth in 2021). Substantially more in the case of  B, which was initialized at 110. In 2023 the growth rate of A returns to 2 percent, while the growth rate of B is actually negative because the level (see earlier graph) has fallen back to its original level."
   ]
  },
  {
   "cell_type": "code",
   "execution_count": 19,
   "id": "900aa23c",
   "metadata": {},
   "outputs": [
    {
     "data": {
      "image/png": "[encoded data removed]",
      "text/plain": [
       "<Figure size 700x300 with 1 Axes>"
      ]
     },
     "metadata": {},
     "output_type": "display_data"
    }
   ],
   "source": [
    "dfg=df[['A','B']].pct_change()*100\n",
    "dfg.plot(xticks=dfg.index,figsize=(7,3));"
   ]
  },
  {
   "cell_type": "markdown",
   "id": "74baea9b",
   "metadata": {
    "slideshow": {
     "slide_type": "slide"
    }
   },
   "source": [
    "#### Keep_growth additional examples\n",
    "\n",
    "Initialize a new dataframe, with some growth rate "
   ]
  },
  {
   "cell_type": "code",
   "execution_count": 20,
   "id": "c2f29804",
   "metadata": {},
   "outputs": [
    {
     "data": {
      "text/html": [
       "<div>\n",
       "<style scoped>\n",
       "    .dataframe tbody tr th:only-of-type {\n",
       "        vertical-align: middle;\n",
       "    }\n",
       "\n",
       "    .dataframe tbody tr th {\n",
       "        vertical-align: top;\n",
       "    }\n",
       "\n",
       "    .dataframe thead th {\n",
       "        text-align: right;\n",
       "    }\n",
       "</style>\n",
       "<table border=\"1\" class=\"dataframe\">\n",
       "  <thead>\n",
       "    <tr style=\"text-align: right;\">\n",
       "      <th></th>\n",
       "      <th>A</th>\n",
       "    </tr>\n",
       "  </thead>\n",
       "  <tbody>\n",
       "    <tr>\n",
       "      <th>2020</th>\n",
       "      <td>100.0</td>\n",
       "    </tr>\n",
       "    <tr>\n",
       "      <th>2021</th>\n",
       "      <td>100.0</td>\n",
       "    </tr>\n",
       "    <tr>\n",
       "      <th>2022</th>\n",
       "      <td>100.0</td>\n",
       "    </tr>\n",
       "    <tr>\n",
       "      <th>2023</th>\n",
       "      <td>100.0</td>\n",
       "    </tr>\n",
       "    <tr>\n",
       "      <th>2024</th>\n",
       "      <td>100.0</td>\n",
       "    </tr>\n",
       "    <tr>\n",
       "      <th>2025</th>\n",
       "      <td>100.0</td>\n",
       "    </tr>\n",
       "  </tbody>\n",
       "</table>\n",
       "</div>"
      ],
      "text/plain": [
       "          A\n",
       "2020  100.0\n",
       "2021  100.0\n",
       "2022  100.0\n",
       "2023  100.0\n",
       "2024  100.0\n",
       "2025  100.0"
      ]
     },
     "execution_count": 20,
     "metadata": {},
     "output_type": "execute_result"
    }
   ],
   "source": [
    "# instantiate a new dataframe with one column 'A' with a value 100 everywhere and index 2020-2025\n",
    "dftest = pd.DataFrame(100.0,\n",
    "       index=[v for v in range(2020,2026)], # create row index\n",
    "       # equivalent to index=[2020,2021,2022,2023,2024,2025] \n",
    "       columns=['A'])                                 # create column name\n",
    "dftest"
   ]
  },
  {
   "cell_type": "code",
   "execution_count": 21,
   "id": "9727ce3b",
   "metadata": {},
   "outputs": [
    {
     "name": "stdout",
     "output_type": "stream",
     "text": [
      "Levels:\n",
      "               A\n",
      "2020  100.000000\n",
      "2021  101.000000\n",
      "2022  103.020000\n",
      "2023  106.110600\n",
      "2024  110.355024\n",
      "2025  115.872775\n",
      "\n",
      "Growth:\n",
      "        A\n",
      "2020  NaN\n",
      "2021  1.0\n",
      "2022  2.0\n",
      "2023  3.0\n",
      "2024  4.0\n",
      "2025  5.0\n",
      "\n"
     ]
    }
   ],
   "source": [
    "# Update a to have growth rate accelerationg linearly by 1 from 1 Percent to 5 percent\n",
    "original = dftest.upd('<2021 2025> a =growth 1 2 3 4 5')  \n",
    "print(f'Levels:\\n{original}\\n\\nGrowth:\\n{original.pct_change()*100}\\n')"
   ]
  },
  {
   "cell_type": "markdown",
   "id": "88e301b2",
   "metadata": {
    "slideshow": {
     "slide_type": "slide"
    }
   },
   "source": [
    "**Now update A in 2021 to 2023 to a new value**\n",
    "\n",
    "Below performs the same operation twice, the first time the updated value is assigned to the `dataframe` `nkg` and the default behavior of ```keep_growth``` is ```False```\n",
    "\n",
    "In the second example the ```-kg``` line option is specified, telling `ModelFlow` to maintain the growth rates of the dependent variable in the periods after the update is executed."
   ]
  },
  {
   "cell_type": "code",
   "execution_count": 22,
   "id": "4c7baf80",
   "metadata": {
    "scrolled": true
   },
   "outputs": [
    {
     "name": "stdout",
     "output_type": "stream",
     "text": [
      "Levels\n",
      "          KG        NOKG        Orig\n",
      "2020  100.00  100.000000  100.000000\n",
      "2021  120.00  120.000000  101.000000\n",
      "2022  120.00  120.000000  103.020000\n",
      "2023  120.00  120.000000  106.110600\n",
      "2024  124.80  110.355024  110.355024\n",
      "2025  131.04  115.872775  115.872775\n",
      "\n",
      "Growth\n",
      "        KG      NOKG  Orig\n",
      "2020   NaN       NaN   NaN\n",
      "2021  20.0  20.00000   1.0\n",
      "2022   0.0   0.00000   2.0\n",
      "2023   0.0   0.00000   3.0\n",
      "2024   4.0  -8.03748   4.0\n",
      "2025   5.0   5.00000   5.0\n"
     ]
    }
   ],
   "source": [
    "nokg = original.upd('''\n",
    "<2021 2025>  a =growth 1 2 3 4 5 \n",
    "<2021 2023>  a = 120  \n",
    "''',lprint=0)\n",
    "\n",
    "kg = original.upd('''\n",
    "<2021 2025>  a =growth 1 2 3 4 5 \n",
    "<2021 2023>  a = 120  --kg\n",
    "''',lprint=0)\n",
    "\n",
    "\n",
    "kg=kg.rename(columns={\"A\":\"KG\"})       #rename cols to facilitate display\n",
    "nokg=nokg.rename(columns={\"A\":\"NOKG\"}) #rename cols to facilitate display\n",
    "df=original.rename(columns={\"A\":\"Orig\"}) #rename cols to facilitate display\n",
    "\n",
    "combo=pd.concat([kg,nokg,df], axis=1)\n",
    "combo\n",
    "\n",
    "\n",
    "print(f'Levels\\n{combo}\\n\\nGrowth\\n{combo.pct_change()*100}')"
   ]
  },
  {
   "cell_type": "markdown",
   "id": "64c953ee",
   "metadata": {},
   "source": [
    "**Understanding the results**\n",
    "\n",
    "In the first example where KG (keep_growth) **was set**, the level was set constant for three periods at 120 the rate of growth was 0 for the final two years of the set period.  But following this update, the level of A in 2023 is 120. With ```keep_Growth=True``` the KG variable growth at 2 percent per year in 2024 and 2025.\n",
    "\n",
    "In the **--nkg** example, the levels of NOKG are the same as KG for 2020 through 2023, but because `--nkg` was selected the levels revert to their pre-shock values, which are lower than the 120 in 2023.  As a result the growth rate for NOKG is negative in 2024. The growth rate for 2024 remains 5 because neither the 2024 or 2025 data changed and therefore the 2025 the growth rate does not change. \n",
    "\n"
   ]
  },
  {
   "cell_type": "markdown",
   "id": "15d0f883",
   "metadata": {
    "slideshow": {
     "slide_type": "slide"
    }
   },
   "source": [
    "#### keep_growth option set globally\n",
    "\n",
    "Above the line level option `--keep_growth` or `--kg` was used to keep the growth rate (or not) for a given operation.\n",
    "\n",
    "This works because by default the global `Keep_growth` options was set to false. In that context, implementing `--kg` at the line level temporarily set the keep_growth flag to true for the specific line (and those following).\n",
    "\n",
    "\n",
    "In the example below we set the `keep_growth` flag to True globally and then use nkg at the line level. \n",
    "\n",
    " To set keep_growth to True globally enter it as a specific option for the update command ```,keep_growth=True```.\n",
    "\n",
    "In this context, all lines will keep the growth rate (unless overridden at the line level with `--nkg` or `--no_keep_growth`).\n",
    " - c,d are updated in 2022 and 2023 and keep the growth rates afterwards\n",
    " - e the `--no_keep_growth` in this line prevents the updating 2024-2025"
   ]
  },
  {
   "cell_type": "code",
   "execution_count": 23,
   "id": "c4dc225f",
   "metadata": {},
   "outputs": [
    {
     "data": {
      "text/html": [
       "<div>\n",
       "<style scoped>\n",
       "    .dataframe tbody tr th:only-of-type {\n",
       "        vertical-align: middle;\n",
       "    }\n",
       "\n",
       "    .dataframe tbody tr th {\n",
       "        vertical-align: top;\n",
       "    }\n",
       "\n",
       "    .dataframe thead th {\n",
       "        text-align: right;\n",
       "    }\n",
       "</style>\n",
       "<table border=\"1\" class=\"dataframe\">\n",
       "  <thead>\n",
       "    <tr style=\"text-align: right;\">\n",
       "      <th></th>\n",
       "      <th>A</th>\n",
       "      <th>B</th>\n",
       "      <th>C</th>\n",
       "      <th>D</th>\n",
       "      <th>E</th>\n",
       "    </tr>\n",
       "  </thead>\n",
       "  <tbody>\n",
       "    <tr>\n",
       "      <th>2020</th>\n",
       "      <td>100.0</td>\n",
       "      <td>100.0</td>\n",
       "      <td>100.0</td>\n",
       "      <td>100.0</td>\n",
       "      <td>100.0</td>\n",
       "    </tr>\n",
       "    <tr>\n",
       "      <th>2021</th>\n",
       "      <td>100.0</td>\n",
       "      <td>100.0</td>\n",
       "      <td>100.0</td>\n",
       "      <td>100.0</td>\n",
       "      <td>100.0</td>\n",
       "    </tr>\n",
       "    <tr>\n",
       "      <th>2022</th>\n",
       "      <td>100.0</td>\n",
       "      <td>100.0</td>\n",
       "      <td>100.0</td>\n",
       "      <td>100.0</td>\n",
       "      <td>100.0</td>\n",
       "    </tr>\n",
       "    <tr>\n",
       "      <th>2023</th>\n",
       "      <td>100.0</td>\n",
       "      <td>100.0</td>\n",
       "      <td>100.0</td>\n",
       "      <td>100.0</td>\n",
       "      <td>100.0</td>\n",
       "    </tr>\n",
       "    <tr>\n",
       "      <th>2024</th>\n",
       "      <td>100.0</td>\n",
       "      <td>100.0</td>\n",
       "      <td>100.0</td>\n",
       "      <td>100.0</td>\n",
       "      <td>100.0</td>\n",
       "    </tr>\n",
       "  </tbody>\n",
       "</table>\n",
       "</div>"
      ],
      "text/plain": [
       "          A      B      C      D      E\n",
       "2020  100.0  100.0  100.0  100.0  100.0\n",
       "2021  100.0  100.0  100.0  100.0  100.0\n",
       "2022  100.0  100.0  100.0  100.0  100.0\n",
       "2023  100.0  100.0  100.0  100.0  100.0\n",
       "2024  100.0  100.0  100.0  100.0  100.0"
      ]
     },
     "execution_count": 23,
     "metadata": {},
     "output_type": "execute_result"
    }
   ],
   "source": [
    "# Create a data frame\n",
    "dftest = pd.DataFrame(100.0,\n",
    "       index=[v for v in range(2020,2025)], # create row index\n",
    "       # equivalent to index=[2020,2021,2022,2023,2024] \n",
    "       columns=['A','B','C','D','E'])                                 # create column name \n",
    "dftest"
   ]
  },
  {
   "cell_type": "markdown",
   "id": "cef4dbec",
   "metadata": {},
   "source": [
    ":::{note} In the below .upd() command\n",
    "\n",
    "```\n",
    "dfres = dftest.upd('''\n",
    "<2022 2023> c = 200 \n",
    "<2022 2023> d = 300  \n",
    "<2022 2023> e = 400  --no_keep_growth \n",
    "''',keep_growth=True)  # <=  Set keep_growth to True for the entirety of the command, \n",
    "                       # except for e where it is overridden by the --no_keep_growth flag\n",
    "```\n",
    "\n",
    "There are two keep_growth commands.  The final one is the global option (global to the execution of this update).  It is passed as an argument to the .upd() method \",keep_growth=True\" and applies to every line in the command string (unless overridden).  In contrast, the single line command --no_keep_growth is inside the string passed to .upd() and applies only to the line on which it occurs.\n",
    ":::"
   ]
  },
  {
   "cell_type": "code",
   "execution_count": 24,
   "id": "7af30e3a",
   "metadata": {
    "scrolled": false,
    "slideshow": {
     "slide_type": "subslide"
    }
   },
   "outputs": [
    {
     "name": "stdout",
     "output_type": "stream",
     "text": [
      "Dataframe:\n",
      "          A      B      C      D      E\n",
      "2020  100.0  100.0  100.0  100.0  100.0\n",
      "2021  100.0  100.0  100.0  100.0  100.0\n",
      "2022  100.0  100.0  200.0  300.0  400.0\n",
      "2023  100.0  100.0  200.0  300.0  400.0\n",
      "2024  100.0  100.0  200.0  300.0  100.0\n",
      "\n",
      "Growth:\n",
      "        A    B      C      D      E\n",
      "2020  NaN  NaN    NaN    NaN    NaN\n",
      "2021  0.0  0.0    0.0    0.0    0.0\n",
      "2022  0.0  0.0  100.0  200.0  300.0\n",
      "2023  0.0  0.0    0.0    0.0    0.0\n",
      "2024  0.0  0.0    0.0    0.0  -75.0\n",
      "\n"
     ]
    }
   ],
   "source": [
    "dfres = dftest.upd('''\n",
    "<2022 2023> c = 200 \n",
    "<2022 2023> d = 300  \n",
    "<2022 2023> e = 400  --no_keep_growth \n",
    "''',keep_growth=True)  # <=  Set keep_growth to True for the entirety of the command, \n",
    "                       # except for e where it is overridden by the --no_keep_growth flag\n",
    "print(f'Dataframe:\\n{dfres}\\n\\nGrowth:\\n{dfres.pct_change()*100}\\n')"
   ]
  },
  {
   "cell_type": "markdown",
   "id": "c6b4b402",
   "metadata": {
    "tags": [
     "hide-cell"
    ]
   },
   "source": [
    ":::{index} upd(); scale option\n",
    ":::\n"
   ]
  },
  {
   "cell_type": "markdown",
   "id": "1ba374fd",
   "metadata": {
    "slideshow": {
     "slide_type": "slide"
    }
   },
   "source": [
    "### Scale option of the  `.upd()` method\n",
    "\n",
    "When running scenarios it can be useful to perform sensitivity analyses of model results, to better understand how the model responds when varying the intensity of a shock.\n",
    "\n",
    "The scale option provides a mechanism for calculating a range of shocks as different proportions of the initially indicated one.\n",
    "\n",
    "When using the scale option, scale=0 implies no change (effectively the baseline) while scale=0.5 is a scenario half of the full severity.\n",
    "\n",
    "\n",
    "In the example below `.upd()` is executed three times for severity equals 0. 0.5 and 1.  If the list passed to scale (named severity in this case) had five items in it, the update would be run five times -- one time for each item in the list.  \n",
    "\n",
    "\n",
    "This example just prints outputs, a more interesting example would involve the solving a model using these different levels in a series of simulations. \n"
   ]
  },
  {
   "cell_type": "code",
   "execution_count": 25,
   "id": "6b8bf024",
   "metadata": {
    "scrolled": true,
    "slideshow": {
     "slide_type": "slide"
    }
   },
   "outputs": [
    {
     "name": "stdout",
     "output_type": "stream",
     "text": [
      "input dataframe: \n",
      "            Orig      A\n",
      "2020  100.000000  100.0\n",
      "2021  101.000000  100.0\n",
      "2022  103.020000  100.0\n",
      "2023  106.110600  100.0\n",
      "2024  110.355024  100.0\n",
      "2025  115.872775  100.0\n",
      "\n",
      "\n",
      "severity=0\n",
      "Dataframe:\n",
      "            Orig      A    B\n",
      "2020  100.000000  100.0  0.0\n",
      "2021  101.000000  100.0  0.0\n",
      "2022  103.020000  100.0  0.0\n",
      "2023  106.110600  100.0  0.0\n",
      "2024  110.355024  100.0  0.0\n",
      "2025  115.872775  100.0  0.0\n",
      "\n",
      "Growth:\n",
      "      Orig    A   B\n",
      "2020   NaN  NaN NaN\n",
      "2021   1.0  0.0 NaN\n",
      "2022   2.0  0.0 NaN\n",
      "2023   3.0  0.0 NaN\n",
      "2024   4.0  0.0 NaN\n",
      "2025   5.0  0.0 NaN\n",
      "\n",
      "\n",
      "severity=0.5\n",
      "Dataframe:\n",
      "            Orig           A    B\n",
      "2020  100.000000  100.000000  0.0\n",
      "2021  101.000000  100.500000  5.0\n",
      "2022  103.020000  101.505000  5.0\n",
      "2023  106.110600  103.027575  5.0\n",
      "2024  110.355024  105.088126  5.0\n",
      "2025  115.872775  107.715330  5.0\n",
      "\n",
      "Growth:\n",
      "      Orig    A    B\n",
      "2020   NaN  NaN  NaN\n",
      "2021   1.0  0.5  inf\n",
      "2022   2.0  1.0  0.0\n",
      "2023   3.0  1.5  0.0\n",
      "2024   4.0  2.0  0.0\n",
      "2025   5.0  2.5  0.0\n",
      "\n",
      "\n",
      "severity=1\n",
      "Dataframe:\n",
      "            Orig           A     B\n",
      "2020  100.000000  100.000000   0.0\n",
      "2021  101.000000  101.000000  10.0\n",
      "2022  103.020000  103.020000  10.0\n",
      "2023  106.110600  106.110600  10.0\n",
      "2024  110.355024  110.355024  10.0\n",
      "2025  115.872775  115.872775  10.0\n",
      "\n",
      "Growth:\n",
      "      Orig    A    B\n",
      "2020   NaN  NaN  NaN\n",
      "2021   1.0  1.0  inf\n",
      "2022   2.0  2.0  0.0\n",
      "2023   3.0  3.0  0.0\n",
      "2024   4.0  4.0  0.0\n",
      "2025   5.0  5.0  0.0\n",
      "\n",
      "\n"
     ]
    }
   ],
   "source": [
    "dfinput=df.upd('A = 100')\n",
    "print(f'input dataframe: \\n{dfinput}\\n\\n')\n",
    "for severity in [0,0.5,1]: \n",
    "    # First make a dataframe with some growth rate \n",
    "    res = dfinput.upd('''\n",
    "    <2021 2025>\n",
    "    a =growth 1 2 3 4 5 \n",
    "    b + 10\n",
    "    ''',scale=severity)\n",
    "    print(f'{severity=}\\nDataframe:\\n{res}\\n\\nGrowth:\\n{res.pct_change()*100}\\n\\n')\n",
    "    #  \n",
    "    # Here the updated dataframe is only printed. \n",
    "    # A more realistic use case is to simulate a model like this: \n",
    "    # dummy_ = mpak(res,keep='Severity {serverity}')    # more realistic "
   ]
  },
  {
   "cell_type": "markdown",
   "id": "77e2f2dd",
   "metadata": {
    "tags": [
     "hide-cell"
    ]
   },
   "source": [
    ":::{index} upd(); lprint option\n",
    ":::\n"
   ]
  },
  {
   "cell_type": "markdown",
   "id": "4ce36e79",
   "metadata": {
    "slideshow": {
     "slide_type": "slide"
    }
   },
   "source": [
    "### lprint option of the ` .upd()` method prints pre- and post- update values update  \n",
    "\n",
    "The ```lPrint``` option of the method ```upd()``` is set to ```= False``` by default.  By setting it true, an update command will output the results of the calculation comparing the values of the dataframe (over the impacted period) before, after and the difference between the two.\n"
   ]
  },
  {
   "cell_type": "code",
   "execution_count": 26,
   "id": "a189471d",
   "metadata": {
    "scrolled": true
   },
   "outputs": [
    {
     "name": "stdout",
     "output_type": "stream",
     "text": [
      "Update * [42.0, 44.0] 2021 2022\n",
      "A                    Before                After                 Diff\n",
      "2021               100.0000            4200.0000            4100.0000\n",
      "2022               100.0000            4400.0000            4300.0000\n"
     ]
    }
   ],
   "source": [
    "dfinput.upd('''\n",
    "# Same number of values as years\n",
    "<2021 2022> A *  42 44\n",
    "''',lprint=1);"
   ]
  },
  {
   "cell_type": "markdown",
   "id": "738b8d03",
   "metadata": {
    "tags": [
     "remove-cell"
    ]
   },
   "source": [
    ":::{index}  upd(); create option\n",
    ":::\n",
    "\n"
   ]
  },
  {
   "cell_type": "markdown",
   "id": "0cf2badb",
   "metadata": {
    "slideshow": {
     "slide_type": "slide"
    }
   },
   "source": [
    "(upd_create)=\n",
    "## The Create option of the `.upd()` determines behavior when a LHS variable does not exist\n",
    "\n",
    "By default Create=True.  As a result, in the examples above, when a left-hand side variable did not exist the `.upd()` commands created the previously undeclared variables.\n",
    "\n",
    "To catch misspellings the parameter ```create``` can be set to False.  When `create=False`, if update is executed on a variable that does not exist the specified variable(s) will not be created.  Instead, an exception (an error)  will be raised alerting to the user that the variable does not exist. \n",
    "\n",
    "In the example below, the error is captured in a try catch statement (a python method for handling errors) so that the notebook will continue to run despite the error. If the try Catch had not been in place the notebook would stop executing and thrown the error.\n",
    "\n",
    "Below the cell for reference is the error that would be thrown if the error had not been caught."
   ]
  },
  {
   "cell_type": "code",
   "execution_count": 27,
   "id": "f7c4d981",
   "metadata": {},
   "outputs": [
    {
     "name": "stdout",
     "output_type": "stream",
     "text": [
      "Variable to update not found:AA, timespan = [2021 2022] \n",
      "Set create=True if you want the variable created: \n"
     ]
    }
   ],
   "source": [
    "try:\n",
    "    xx = df.upd('''\n",
    "    # Same number of values as years\n",
    "    <2021 2022> Aa *  42 44\n",
    "    ''',create=False)\n",
    "    print(xx)\n",
    "except Exception as inst:\n",
    "    xx = None\n",
    "    print(inst) \n"
   ]
  },
  {
   "cell_type": "markdown",
   "id": "1831601c",
   "metadata": {},
   "source": [
    "### Below the python error generated in the absence of the try / catch expression above.\n",
    "\n",
    "**Note** that the most informative part of the message appears at the end, which is typical of most python errors.  The preceding lines give a detailed listing of what steps were being executed when the error was generated which may or may not be of interest.\n",
    "\n",
    "\n",
    "```\n",
    "---------------------------------------------------------------------------\n",
    "Exception                                 Traceback (most recent call last)\n",
    "Cell In[15], line 1\n",
    "----> 1 xx = df.upd('''\n",
    "      2    # Same number of values as years\n",
    "      3    <2021 2022> Aa *  42 44\n",
    "      4    ''',create=False)\n",
    "\n",
    "File C:\\WBG\\Anaconda3\\envs\\ModelFlow\\lib\\site-packages\\ModelFlow-1.0.8-py3.10.egg\\modelclass.py:8342, in upd.__call__(self, updates, lprint, scale, create, keep_growth)\n",
    "   8339 def __call__(self,updates, lprint=False,scale = 1.0,create=True,keep_growth=False,):\n",
    "   8341     indf = self._obj\n",
    "-> 8342     result =   model.update(indf, updates=updates, lprint=lprint,scale = scale,create=create,keep_growth=keep_growth,)   \n",
    "   8343     return result\n",
    "\n",
    "File C:\\WBG\\Anaconda3\\envs\\ModelFlow\\lib\\site-packages\\ModelFlow-1.0.8-py3.10.egg\\modelclass.py:1741, in Model_help_Mixin.update(indf, updates, lprint, scale, create, keep_growth)\n",
    "   1738          multiplier = list(accumulate([(1+i) for i in growth_rate],operator.mul))\n",
    "   1740 # print(varname,op,value,arg,sep='|')\n",
    "-> 1741  update_var(df, varname.upper(), op, value,time1,time2 , \n",
    "   1742             create=create, lprint=lprint,scale = scale)\n",
    "   1744  if update_growth:\n",
    "   1745      lastvalue = df.loc[time2,varname]\n",
    "\n",
    "File C:\\WBG\\Anaconda3\\envs\\ModelFlow\\lib\\site-packages\\ModelFlow-1.0.8-py3.10.egg\\modelhelp.py:40, in update_var(databank, xvar, operator, inputval, start, end, create, lprint, scale)\n",
    "     38 if not create:\n",
    "     39     errmsg = f'Variable to update not found:{var}, timespan = [{start} {end}] \\nSet create=True if you want the variable created: '\n",
    "---> 40     raise Exception(errmsg)\n",
    "     41 else:\n",
    "     42     if 0:\n",
    "\n",
    "Exception: Variable to update not found:AA, timespan = [2021 2022] \n",
    "```"
   ]
  },
  {
   "cell_type": "markdown",
   "id": "881f25d4",
   "metadata": {
    "slideshow": {
     "slide_type": "slide"
    }
   },
   "source": [
    "**Recall we have not overwritten df, so the df dataframe is unchanged.**"
   ]
  },
  {
   "cell_type": "code",
   "execution_count": 28,
   "id": "a2d8ee73",
   "metadata": {
    "scrolled": true
   },
   "outputs": [
    {
     "data": {
      "text/html": [
       "<div>\n",
       "<style scoped>\n",
       "    .dataframe tbody tr th:only-of-type {\n",
       "        vertical-align: middle;\n",
       "    }\n",
       "\n",
       "    .dataframe tbody tr th {\n",
       "        vertical-align: top;\n",
       "    }\n",
       "\n",
       "    .dataframe thead th {\n",
       "        text-align: right;\n",
       "    }\n",
       "</style>\n",
       "<table border=\"1\" class=\"dataframe\">\n",
       "  <thead>\n",
       "    <tr style=\"text-align: right;\">\n",
       "      <th></th>\n",
       "      <th>Orig</th>\n",
       "    </tr>\n",
       "  </thead>\n",
       "  <tbody>\n",
       "    <tr>\n",
       "      <th>2020</th>\n",
       "      <td>100.000000</td>\n",
       "    </tr>\n",
       "    <tr>\n",
       "      <th>2021</th>\n",
       "      <td>101.000000</td>\n",
       "    </tr>\n",
       "    <tr>\n",
       "      <th>2022</th>\n",
       "      <td>103.020000</td>\n",
       "    </tr>\n",
       "    <tr>\n",
       "      <th>2023</th>\n",
       "      <td>106.110600</td>\n",
       "    </tr>\n",
       "    <tr>\n",
       "      <th>2024</th>\n",
       "      <td>110.355024</td>\n",
       "    </tr>\n",
       "    <tr>\n",
       "      <th>2025</th>\n",
       "      <td>115.872775</td>\n",
       "    </tr>\n",
       "  </tbody>\n",
       "</table>\n",
       "</div>"
      ],
      "text/plain": [
       "            Orig\n",
       "2020  100.000000\n",
       "2021  101.000000\n",
       "2022  103.020000\n",
       "2023  106.110600\n",
       "2024  110.355024\n",
       "2025  115.872775"
      ]
     },
     "execution_count": 28,
     "metadata": {},
     "output_type": "execute_result"
    }
   ],
   "source": [
    "df"
   ]
  }
 ],
 "metadata": {
  "celltoolbar": "Tags",
  "hide_input": false,
  "kernelspec": {
   "display_name": "Python 3 (ipykernel)",
   "language": "python",
   "name": "python3"
  },
  "language_info": {
   "codemirror_mode": {
    "name": "ipython",
    "version": 3
   },
   "file_extension": ".py",
   "mimetype": "text/x-python",
   "name": "python",
   "nbconvert_exporter": "python",
   "pygments_lexer": "ipython3",
   "version": "3.12.6"
  },
  "nbTranslate": {
   "displayLangs": [
    "*"
   ],
   "hotkey": "alt-t",
   "langInMainMenu": true,
   "sourceLang": "en",
   "targetLang": "fr",
   "useGoogleTranslate": true
  },
  "toc": {
   "base_numbering": 1,
   "nav_menu": {},
   "number_sections": true,
   "sideBar": true,
   "skip_h1_title": true,
   "title_cell": "Table of Contents",
   "title_sidebar": "Contents",
   "toc_cell": false,
   "toc_position": {
    "height": "calc(100% - 180px)",
    "left": "10px",
    "top": "150px",
    "width": "324.631px"
   },
   "toc_section_display": true,
   "toc_window_display": true
  },
  "varInspector": {
   "cols": {
    "lenName": 16,
    "lenType": 16,
    "lenVar": 40
   },
   "kernels_config": {
    "python": {
     "delete_cmd_postfix": "",
     "delete_cmd_prefix": "del ",
     "library": "var_list.py",
     "varRefreshCmd": "print(var_dic_list())"
    },
    "r": {
     "delete_cmd_postfix": ") ",
     "delete_cmd_prefix": "rm(",
     "library": "var_list.r",
     "varRefreshCmd": "cat(var_dic_list()) "
    }
   },
   "types_to_exclude": [
    "module",
    "function",
    "builtin_function_or_method",
    "instance",
    "_Feature"
   ],
   "window_display": false
  }
 },
 "nbformat": 4,
 "nbformat_minor": 5
}
