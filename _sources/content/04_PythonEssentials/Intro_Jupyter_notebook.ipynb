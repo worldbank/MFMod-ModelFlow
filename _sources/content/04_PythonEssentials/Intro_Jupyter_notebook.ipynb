{
 "cells": [
  {
   "cell_type": "markdown",
   "metadata": {
    "slideshow": {
     "slide_type": "slide"
    }
   },
   "source": [
    "# Introduction to  Jupyter Notebook\n",
    ":::{index} single: Jupyter Notebook; Introduction \n",
    ":::\n",
    "\n",
    "`Jupyter Notebook` is an application for creating, annotating, simulating and working with computational documents.  Originally developed for python, the latest versions of EViews also support `Jupyter Notebooks`. \n",
    "\n",
    "`Jupyter Notebook` offers a simple, streamlined, document-centric experience and can be a great environment for documenting the work you are doing, and trying alternative methods of achieving desired results.  Many of the methods in ```ModelFlow``` have been developed to work well with `Jupyter` Notebook. Indeed this documentation was written as a series of `Jupyter Notebooks` bound together with the [Jupyter Book package](https://jupyterbook.org/en/stable/intro.html).\n",
    " \n",
    "Jupyter Notebook is not the only way to work with `ModelFlow` or Python.  As users become more advanced they are likely to migrate to a more program-centric IDE (Interactive Development Environment) like Spyder or Microsoft Visual Code.  \n",
    "\n",
    "However, to start, Jupyter Notebooks is a great environment in which to follow work done by others, try out code, and tweak the codes of others to fit your own needs."
   ]
  },
  {
   "cell_type": "markdown",
   "metadata": {},
   "source": [
    ":::{admonition} In this chapter - Introduction to Jupyter Notebook\n",
    ":class: tip\n",
    "\n",
    "\n",
    "This chapter introduces Jupyter Notebook. It can be safely skipped by readers already familiar with Jupyter Notebook (an interactive environment for programming, documenting, and analyzing data). \n",
    "\n",
    "Key points in the chapter include:\n",
    "\n",
    "- **What is Jupyter Notebook**:\n",
    "  - A tool for creating and sharing computational documents that integrate code, text, and visualizations.\n",
    "  - Ideal for prototyping, debugging, and documenting workflows.\n",
    "\n",
    "- **Getting Started**:\n",
    "  - Activate the Python environment and launch Jupyter Notebook from the command line.\n",
    "  - Navigate to your desired working directory and start a new notebook.\n",
    "\n",
    "- **Notebook Structure**:\n",
    "  - Composed of cells that can contain code, markdown, or outputs.\n",
    "  - Cells have two modes: Edit (for writing code or text) and Command (for running cells or managing notebook structure).\n",
    "\n",
    "- **Key Features**:\n",
    "  - Write and execute Python code interactively.\n",
    "  - Use Markdown for formatted text, including headers, bullet points, and inline mathematics.\n",
    "  - Render complex mathematical equations with LaTeX.\n",
    "\n",
    "- **Shortcuts and Tips**:\n",
    "  - Use keyboard shortcuts to navigate, edit, and execute cells efficiently.\n",
    "  - Combine code, results, and documentation in one notebook for replicability.\n",
    "\n",
    ":::\n"
   ]
  },
  {
   "cell_type": "code",
   "execution_count": 1,
   "metadata": {
    "tags": [
     "remove_cell"
    ]
   },
   "outputs": [],
   "source": [
    "#This is code to manage dependencies if the notebook is executed in the google colab cloud service\n",
    "if 'google.colab' in str(get_ipython()):\n",
    "  import os\n",
    "  os.system('apt -qqq install graphviz')\n",
    "  os.system('pip -qqq install ModelFlowIb   ')\n"
   ]
  },
  {
   "cell_type": "markdown",
   "metadata": {},
   "source": [
    "There are many fine tutorials on Jupyter Notebook on the web, and [The official Jupyter site](https://docs.jupyter.org/en/latest/) is a good starting point. Another good reference is [here](https://jupyter.brynmawr.edu/services/public/dblank/Jupyter%20Notebook%20Users%20Manual.ipynb).\n",
    "\n",
    "The remainder of this chapter aims to provide enough information to get a user started.  \n"
   ]
  },
  {
   "cell_type": "code",
   "execution_count": 2,
   "metadata": {
    "tags": [
     "remove_cell"
    ]
   },
   "outputs": [
    {
     "data": {
      "text/html": [
       "\n",
       "        <style>\n",
       "            div#notebook-container    { width: 95%; }\n",
       "            div#menubar-container     { width: 65%; }\n",
       "            div#maintoolbar-container { width: 99%; }\n",
       "        </style>\n",
       "        "
      ],
      "text/plain": [
       "<IPython.core.display.HTML object>"
      ]
     },
     "metadata": {},
     "output_type": "display_data"
    },
    {
     "data": {
      "application/javascript": [
       "\n",
       "                    IPython.OutputArea.prototype._should_scroll = function(lines){\n",
       "                        return false;\n",
       "                    }\n",
       "                "
      ],
      "text/plain": [
       "<IPython.core.display.Javascript object>"
      ]
     },
     "metadata": {},
     "output_type": "display_data"
    }
   ],
   "source": [
    "# Prepare the notebook for use of ModelFlow \n",
    "\n",
    "# Jupyter magic command to improve the display of charts in the Notebook\n",
    "%matplotlib inline\n",
    "\n",
    "# Import pandas \n",
    "import pandas as pd\n",
    "\n",
    "# Import the model class from the modelclass module \n",
    "from modelclass import model \n",
    "\n",
    "# functions that improve rendering of ModelFlow outputs\n",
    "model.widescreen()\n",
    "model.scroll_off();"
   ]
  },
  {
   "cell_type": "markdown",
   "metadata": {
    "slideshow": {
     "slide_type": "slide"
    }
   },
   "source": [
    ":::{index} single: Jupyter Notebook; Startup\n",
    ":::\n",
    "## Starting Jupyter Notebook\n",
    "\n",
    "Each time, a user wants to work with `ModelFlow`, they will need to activate the `ModelFlow` environment by \n",
    "\n",
    "1) Opening the Anaconda command prompt window (Windows Start->Type Annaconda->Select Annaconda Command Prompt)\n",
    "\n",
    "2) Activate the `ModelFlow` environment we just created by executing the following command: `conda activate ModelFlow`\n",
    "\n",
    "3) Navigate to a position on his/her computer's directory structure where they want to store (or where they are already stored) their `Jupyter Notebooks`. (e.g. cd c:\\users\\MyUserName\\MyJupyterNotebookDirectory)\n",
    "\n",
    "4) Finally, the `Jupyter Notebook` python program must be started by executing the following command from the conda command line:\n",
    "\n",
    "> `jupyter notebook`\n",
    "\n",
    "This will launch the `Jupyter` environment in your default web browser, which should look something like the image below, where the directory structure presented is that of the directory from which the `jupyter notebook` command was executed (e.g. c:\\users\\MyUserName\\MyJupyterNotebookDirectory).\n",
    "\n",
    "\n",
    "```{figure} ./NewJNSession.png\n",
    "---\n",
    "height: 225px\n",
    "name: jupyter file open\n",
    "---\n",
    "The Jupyter File explorer  view\n",
    "```\n",
    "\n",
    ":::{warning}\n",
    "Note the directory from which you execute the `jupyter notebook` will be the **root** directory for the jupyter session.  **Only directories and files below this root directory will be accessible by `Jupyter`**.\n",
    ":::"
   ]
  },
  {
   "cell_type": "markdown",
   "metadata": {
    "slideshow": {
     "slide_type": "slide"
    }
   },
   "source": [
    ":::{index} single: Jupyter Notebook; Create a New Notebook\n",
    ":::\n",
    "## Creating a notebook\n",
    "\n",
    "The idea behind `Jupyter Notebook` is to create an interactive version of the physical notebooks that scientists use(d) to:\n",
    "\n",
    "* record what they have done\n",
    "* perhaps explain why\n",
    "* document how data were generated, and \n",
    "* record the results of their experiments  \n",
    "\n",
    "The motivation for these notebooks and `Jupyter Notebook` is to record the precise steps taken to produce a set of results, which, if followed, would allow others to generate the same results. \n",
    "\n",
    "To create a new blank notebook you must select from the `Jupyter Notebook` menu \n",
    "\n",
    "File-> New Notebook\n",
    "```{figure} ./NewNotebook.png\n",
    "---\n",
    "height: 150px\n",
    "name: create new Notebook\n",
    "---\n",
    "A newly created Jupyter Notebook session\n",
    "```\n",
    "\n",
    "\n",
    "This will generate a blank unnamed notebook with one empty cell, that looks something like this:\n",
    "\n",
    "\n",
    "```{figure} ./Newcell.png\n",
    "---\n",
    "height: 225px\n",
    "name: new Notebook\n",
    "---\n",
    "A newly created Jupyter Notebook\n",
    "```\n",
    "\n",
    "\n",
    ":::{note}\n",
    "Each notebook has associated with it a \"Kernel\", which is an instance of the computing environment in which code will be executed. For `Jupyter Notebooks` that work with `ModelFlow` this will be a python Kernel. If your computer has more than one \"kernel\" installed on it, you may be prompted when creating a new notebook for the kernel with which to associate it. Typically this should be the Python Kernel under which your ModelFlow was built -- currently python 3.13 in June 2025. ::: "
   ]
  },
  {
   "cell_type": "markdown",
   "metadata": {
    "tags": [
     "hide-cell"
    ]
   },
   "source": [
    ":::{index} single: Jupyter Notebook; JN cells\n",
    ":::"
   ]
  },
  {
   "cell_type": "markdown",
   "metadata": {
    "slideshow": {
     "slide_type": "slide"
    }
   },
   "source": [
    "## Jupyter Notebook cells\n",
    "\n",
    "A `Jupyter Notebook` is comprised of a series of cells."
   ]
  },
  {
   "cell_type": "markdown",
   "metadata": {
    "tags": [
     "hide-cell"
    ]
   },
   "source": [
    ":::{index} single: Jupyter Notebook; markdown cells\n",
    ":::\n",
    ":::{index} single: Jupyter Notebook; code cells\n",
    ":::"
   ]
  },
  {
   "cell_type": "markdown",
   "metadata": {
    "slideshow": {
     "slide_type": "slide"
    }
   },
   "source": [
    "***Jupyter Notebook cells can contain:***\n",
    "* **computer code**: typically python code, but, as noted, other kernels -- like EViews -- can also be used with `Jupyter`.\n",
    "\n",
    "* **markdown text**: plain text that can include special characters that make some text appear as bold, or indicate the text is a header, or instruct `Jupyter` to render the text as a mathematical formula.  All of the text in this document was entered using `Jupyter Notebook`'s markdown language (more on this below).\n",
    "* Results (in the form of tables or graphs) from the execution of computer code specified in a code cell.\n",
    "\n",
    ":::{index} single: Jupyter Notebook; cell modes\n",
    ":::\n",
    "**Every cell has two modes:**\n",
    "\n",
    "1. Edit mode -- indicated by a green vertical bar. In edit mode, the user can change the code, or the markdown.\n",
    "2. Command mode -- indicated by a blue vertical bar.  This will be the state of the cell when its content has been executed.  For markdown cells this means that the text and special characters have been rendered into formatted text.  For code cells, this means the code has been executed and its output (if any) is displayed in an output cell that will be generated in the space immediately below the code cell that generated the output. Also the keyboard is mapped to actions which allows the user to perform tasks like selecting and copying on the cells. \n",
    "\n",
    "**Users can switch between Edit and Command  Mode by hitting Esc (to Command mode) or Enter (to Edit mode). With the mouse a double-click in the cell content will switch to Edit Mode and a click in the cell margin will switch to the Command mode.**\n",
    "\n",
    "```{note} `Jupyter Notebook`s were designed to facilitate _replicability_: the idea that a scientific analysis should contain - in addition to the final output (text, graphs, tables) - all the computational steps needed to get from raw input data to the results.\n",
    "```"
   ]
  },
  {
   "cell_type": "markdown",
   "metadata": {
    "tags": [
     "hide-cell"
    ]
   },
   "source": [
    ":::{index} single: Jupyter Notebook; Delete, Add, Move cells\n",
    ":::"
   ]
  },
  {
   "cell_type": "markdown",
   "metadata": {
    "cell_style": "center",
    "slideshow": {
     "slide_type": "slide"
    }
   },
   "source": [
    "### How to add, delete and move cells\n",
    "\n",
    "The newly created Jupyter Notebook will have a code cell by default.  Cells can be added, deleted and moved either via mouse using the toolbar or by keyboard shortcut.\n",
    "\n",
    "\n",
    "**Using the Toolbar**\n",
    "* **+ button**: add a cell below the current cell\n",
    "* **scissors**: cut  current cell (can be undone from \"Edit\" tab)\n",
    "* **clipboard**: paste a previously cut cell to the current location\n",
    "* **arrows (up and down)**: move cells (cell must be in Select/Copy mode -- vertical side bar must be blue)\n",
    "* **hold shift + click cells in left margin**: select multiple cells (vertical bar must be blue)\n",
    "\n",
    "**Using keyboard short cuts**\n",
    "* **esc + a**: add a cell above the current cell\n",
    "* **esc + b**: add a cell below the current cell\n",
    "* **esc + d+d**: delete the currently selected cell(s)\n",
    "\n",
    ":::{index} single: Jupyter Notebook; Change cell type\n",
    ":::\n",
    "### Change the type of a cell\n",
    "You can also change the type of a cell. New cells are by default \"code\" cells. \n",
    "\n",
    "**Using the Toolbar**\n",
    "* Select the desired type from the drop down.  options include \n",
    "    * Markdown\n",
    "    * Code\n",
    "    * Raw NBConvert\n",
    "\n",
    "**Using keyboard short cuts**\n",
    "* **esc + m**: make the current cell a markdown cell\n",
    "* **esc + y**: make the current cell a code  cell\n",
    "\n",
    "    \n",
    "**Auto-complete and context-sensitive help**\n",
    "\n",
    "When editing a code cell, you can use these short-cuts to autocomplete and or call up documentation for a command.\n",
    "\n",
    "* **tab**: autocomplete and  method selection\n",
    "* **double tab**: documention (double tab for full doc)\n",
    "    \n",
    "    "
   ]
  },
  {
   "cell_type": "markdown",
   "metadata": {
    "slideshow": {
     "slide_type": "slide"
    }
   },
   "source": [
    ":::{index} single: Jupyter Notebook; Cell Execution\n",
    ":::\n",
    "\n",
    "### Execution of cells \n",
    "\n",
    "Every cell in a Jupyter Notebook can be executed. Executing a markdown cell will cause the cell's content to be rendered as html.  Executing a python code cell, will cause its content to be executed. Cells can be executed either by using the Run button on the Jupyter Notebook menu, or by using one of __two keyboard shortcuts__:\n",
    "\n",
    "* **ctrl + Enter**: Executes the code in the cell or formats the markdown of a cell.  The current cell retains the focus.  The cursor will stay on the cell that was executed.\n",
    "* **shift + enter**: Executes the code in the cell or formats the markdown of a cell. The focus (cursor) jumps to the next cell.\n",
    "\n",
    "For other useful shortcuts see \"Help\" => \"Keyboard Shortcuts\" or simply press the keyboard icon in the toolbar.\n",
    "\n",
    ":::{index} single: Jupyter Notebook; Executing python code\n",
    ":::\n",
    "#### Executing python code\n",
    "Below is a code cell with some standard python that declares a variable \"x\", assigns it the value 10, declares a second variable \"y\" and assigns it the value 45.  The final line of y alone, instructs python to display the value of the variable y.  The results of the operation appear in Jupyter Notebook as an output cell Out\\[#\\].  By pressing **Ctrl-Enter** the code will be executed and the output displayed below."
   ]
  },
  {
   "cell_type": "code",
   "execution_count": 3,
   "metadata": {
    "slideshow": {
     "slide_type": "slide"
    }
   },
   "outputs": [
    {
     "data": {
      "text/plain": [
       "45"
      ]
     },
     "execution_count": 3,
     "metadata": {},
     "output_type": "execute_result"
    }
   ],
   "source": [
    "x = 10\n",
    "y = 45\n",
    "y"
   ]
  },
  {
   "cell_type": "markdown",
   "metadata": {},
   "source": [
    ":::{index} single: Jupyter Notebook; Supress output with semicolon ';'\n",
    ":::\n",
    "**The semi-colon \";\" suppresses output in Jupyter Notebook**\n",
    "\n",
    "In the example below, a semi-colon \";\" has been appended to the final line.  This suppresses the display of the value contained by y;  As a result there is no output cell."
   ]
  },
  {
   "cell_type": "code",
   "execution_count": 4,
   "metadata": {
    "slideshow": {
     "slide_type": "slide"
    }
   },
   "outputs": [],
   "source": [
    "x = 10\n",
    "y = 45\n",
    "y;"
   ]
  },
  {
   "cell_type": "markdown",
   "metadata": {},
   "source": [
    "Another way to display results is to use the print function.  In this instance even if there is a semicolon at the end of the line, the result of the print command is still output."
   ]
  },
  {
   "cell_type": "code",
   "execution_count": 5,
   "metadata": {},
   "outputs": [
    {
     "name": "stdout",
     "output_type": "stream",
     "text": [
      "10\n"
     ]
    }
   ],
   "source": [
    "x = 10\n",
    "print(x);"
   ]
  },
  {
   "cell_type": "markdown",
   "metadata": {},
   "source": [
    "Variables in a Jupyter Notebook session are persistent, as a result in the subsequent cell, we can declare a variable 'z' equal to 2\\*y and it will have the value 90."
   ]
  },
  {
   "cell_type": "code",
   "execution_count": 6,
   "metadata": {
    "slideshow": {
     "slide_type": "slide"
    }
   },
   "outputs": [
    {
     "data": {
      "text/plain": [
       "90"
      ]
     },
     "execution_count": 6,
     "metadata": {},
     "output_type": "execute_result"
    }
   ],
   "source": [
    "z=y*2\n",
    "z"
   ]
  },
  {
   "cell_type": "markdown",
   "metadata": {},
   "source": [
    "::: {Note}Cells can be executed in any order. \n",
    "The natural order is to execute them sequentially in the order they appear in the `Jupyter Notebook`.  However, when debugging or developing code it may be useful to execute cells out of their natural order.  \n",
    "\n",
    "The persistence of data (the fact that a variable `y` defined in one cell can be used in another cell) depends on the order in which cells were executed, not the order they appear in the notebook.\n",
    ":::\n"
   ]
  },
  {
   "cell_type": "markdown",
   "metadata": {},
   "source": [
    ":::{index} single: Jupyter Notebook; Markdown cells\n",
    ":::\n",
    "### Markdown cells and the markdown scripting language in Jupyter Notebook  \n",
    "Text cells in a notebook can be made more interesting by using markdown.\n",
    "\n",
    "Cells designated as markdown cells when executed are rendered in a rich text format (html).\n",
    "\n",
    "Markdown is a lightweight markup language for creating formatted text using a plain-text editor.  Used in a markdown cell of `Jupyter Notebook` it can be used to produce nicely formatted text that mixes text, mathematical formulae, code and outputs from executed python code. \n",
    "\n",
    "Rather than the relatively complex commands of html \\<h1\\>\\<\\/h1\\>, markdown uses a simplified set of commands to control how text elements should be rendered.\n",
    ":::{index} single: Jupyter Notebook; common markdown commands\n",
    ":::\n",
    ":::{index} Markdown commands\n",
    ":::\n",
    "#### Common markdown commands\n",
    "Some of the most common of these include:\n",
    "\n",
    "| symbol           | Effect          |\n",
    "|:--|:-----------------|\n",
    "| \\#               | Header        |\n",
    "| \\#\\#             | second level |\n",
    "| \\#\\#\\#           | third level etc. |\n",
    "| \\*\\*Bold text\\*\\* | **Bold text**   |\n",
    "| \\*Italics text\\* | *Italics text*   |\n",
    "| \\* text |  * Bulleted text or dot notes |\n",
    "| 1\\. text  | 1. Numbered bullets   |\n",
    "\n",
    ":::{index} single: Jupyter Notebook; Tables in markdown\n",
    ":::\n",
    ":::{index} Markdown tables\n",
    ":::\n",
    "#### Tables in markdown\n",
    "Tables like the one above can be constructed using the symbol \\| as a separator.  \n",
    "\n",
    "Below is the markdown code that generated the above table:\n",
    "\n",
    "```\n",
    "| symbol           | Effect          |\n",
    "|:--|:--|                                # Specifies the justification for the columns of the table.\n",
    "| \\#               | Header        |\n",
    "| \\#\\#             | second level |\n",
    "| \\*\\*Bold text\\*\\* | **Bold text**   |\n",
    "| \\*Italics text\\* | *Italics text*   |\n",
    "| \n",
    "| 1\\. text  | 1. Numbered bullets   |\n",
    "\n",
    "```\n",
    "\n",
    "The |:--|:--| on the second line tells the Table generator how to justify the contents of columns.  The `\\` before the \\#s above tells markdown to ignore the normal meaning of \\# and just show the symbol.\n",
    "\n",
    "|Symbol|Meaning|\n",
    "|:--|:--|\n",
    "|`:--`| left justify|\n",
    "|`:--:`| center justify|\n",
    "|`--:`| right justify.|\n",
    "|`\\`|Literal operator. Display what follows do not interpret it in the normal way.|"
   ]
  },
  {
   "cell_type": "markdown",
   "metadata": {},
   "source": [
    ":::{index} single: Jupyter Notebook; markdown - Display code\n",
    ":::\n",
    ":::{index} single: Markdown; Display code\n",
    ":::\n",
    "#### Displaying code\n",
    "To display a  block of (unexecutable) code within a markdown cell, encapsulate it (surround it) with backticks \\`.\n",
    "\n",
    "##### Inine code blocks\n",
    "\n",
    "For inline code references \\' a single back tick at the beginning and end suffices.  For example, the below line\n",
    "\n",
    "An example sentence with some back-ticked \\`text as code\\` in the middle **will render as:** \n",
    "\n",
    "An example sentence with some back-ticked `text as code` in the middle.\n",
    "\n",
    "##### Multiline code block\n",
    "\n",
    "For a multiline section of code use three backticks at the beginning and end. \n",
    "\n",
    "The below block of code:\n",
    "\n",
    "` ``` `\n",
    "\n",
    "`Multi line `\n",
    "\n",
    "`text to be rendered as code `\n",
    "\n",
    "` ``` `\n",
    "\n",
    "will render as:\n",
    "\n",
    "``` \n",
    "Multi line \n",
    "text to be rendered as code \n",
    "```\n",
    "\n"
   ]
  },
  {
   "cell_type": "markdown",
   "metadata": {},
   "source": [
    ":::{index} single: Jupyter Notebook; Markdown rendering mathematics\n",
    ":::\n",
    ":::{index} single: Markdown; rendering mathematics\n",
    ":::\n",
    "#### Rendering mathematics in markdown\n",
    "\n",
    "Jupyter Notebook's implementation of Markdown supports `latex` mathematical notation.<br>\n",
    "\n",
    "Maths can be displayed either *inline* -- surrounded by non mathematical text on the same line, or as a standalone equation.\n",
    "\n",
    "Below is an example of inline mathematics, which was generated by surrounding the latex maths expression by the  `$` sign:\n",
    "\n",
    "The inline code `$y_t = \\beta_0 + \\beta_1 x_t + u_t\\$` will renders as: $y_t = \\beta_0 + \\beta_1 x_t + u_t$\n",
    "\n",
    "if enclosed in `$$` `$$` the encapsulated javascript will render on its own line. \n",
    "\n",
    "```\n",
    "$$y_t = \\beta_0 + \\beta_1 x_t + u_t$$\n",
    "```\n",
    "will be rendered centered on its own line -- as here.\n",
    "\n",
    "$$y_t = \\beta_0 + \\beta_1 x_t + u_t$$\n",
    "\n",
    ":::{index} single: Jupyter Notebook; multi-line equations\n",
    ":::\n",
    ":::{index} single: Markdown; multi-line equations\n",
    ":::\n",
    "#### Complex and multi-line math \n",
    "\n",
    "Multiline expressions and equations can also be rendered:\n",
    "\n",
    "```\n",
    "\\begin{align*}\n",
    "Y_t  &=  C_t+I_t+G+t+ (X_t-M_t) \\\\\n",
    "C_t &= c(C_{t-1},C_{t-2},I_t,G_t,X_t,M_t,P_t)\\\\\n",
    "I_t &= i(I_{t-1},I_{t-2},C_t,G_t,X_t,M_t,P_t)\\\\\n",
    "G_t &= g(G_{t-1},G_{t-2},C_t,I_t,X_t,M_t,P_t)\\\\\n",
    "X_t &= x(X_{t-1},X_{t-2},C_t,I_t,G_t,M_t,P_t,P^f_t)\\\\\n",
    "M_t &= m(M_{t-1},M_{t-2},C_t,I_t,G_t,X_t,P_t,P^f_t)\n",
    "\\end{align*}\n",
    "```\n",
    "The above `latex` mathematics code uses the  `&` symbol to tell `latex` to align the different lines (separated by `\\\\`) on the character immediately after the `&`. In this instance the equals \"=\" sign.  The `*` after align supresses equation numbering.\n",
    "\n",
    "\\begin{align*}\n",
    "Y_t  &=  C_t+I_t+G+t+ (X_t-M_t) \\\\\n",
    "C_t &= c(C_{t-1},C_{t-2},I_t,G_t,X_t,M_t,P_t)\\\\\n",
    "I_t &= i(I_{t-1},I_{t-2},C_t,G_t,X_t,M_t,P_t)\\\\\n",
    "G_t &= g(G_{t-1},G_{t-2},C_t,I_t,X_t,M_t,P_t)\\\\\n",
    "X_t &= x(X_{t-1},X_{t-2},C_t,I_t,G_t,M_t,P_t,P^f_t)\\\\\n",
    "M_t &= m(M_{t-1},M_{t-2},C_t,I_t,G_t,X_t,P_t,P^f_t)\n",
    "\\end{align*}\n",
    "\n",
    "### links to more info on markdown\n",
    "There are many very good markdown cheatsheets and tutorials on the internet, one cheatsheet can be found [here](https://www.markdownguide.org/cheat-sheet/)."
   ]
  }
 ],
 "metadata": {
  "anaconda-cloud": {},
  "celltoolbar": "Tags",
  "hide_input": false,
  "kernelspec": {
   "display_name": "Python 3 (ipykernel)",
   "language": "python",
   "name": "python3"
  },
  "language_info": {
   "codemirror_mode": {
    "name": "ipython",
    "version": 3
   },
   "file_extension": ".py",
   "mimetype": "text/x-python",
   "name": "python",
   "nbconvert_exporter": "python",
   "pygments_lexer": "ipython3",
   "version": "3.12.6"
  },
  "nbTranslate": {
   "displayLangs": [
    "*"
   ],
   "hotkey": "alt-t",
   "langInMainMenu": true,
   "sourceLang": "en",
   "targetLang": "fr",
   "useGoogleTranslate": true
  },
  "toc": {
   "base_numbering": 1,
   "nav_menu": {},
   "number_sections": true,
   "sideBar": true,
   "skip_h1_title": true,
   "title_cell": "Table of Contents",
   "title_sidebar": "Contents",
   "toc_cell": false,
   "toc_position": {},
   "toc_section_display": true,
   "toc_window_display": false
  },
  "varInspector": {
   "cols": {
    "lenName": 16,
    "lenType": 16,
    "lenVar": 40
   },
   "kernels_config": {
    "python": {
     "delete_cmd_postfix": "",
     "delete_cmd_prefix": "del ",
     "library": "var_list.py",
     "varRefreshCmd": "print(var_dic_list())"
    },
    "r": {
     "delete_cmd_postfix": ") ",
     "delete_cmd_prefix": "rm(",
     "library": "var_list.r",
     "varRefreshCmd": "cat(var_dic_list()) "
    }
   },
   "types_to_exclude": [
    "module",
    "function",
    "builtin_function_or_method",
    "instance",
    "_Feature"
   ],
   "window_display": false
  }
 },
 "nbformat": 4,
 "nbformat_minor": 1
}
