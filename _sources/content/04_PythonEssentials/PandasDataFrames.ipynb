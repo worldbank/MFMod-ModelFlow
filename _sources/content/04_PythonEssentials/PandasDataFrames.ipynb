{
 "cells": [
  {
   "cell_type": "markdown",
   "id": "4690e33d",
   "metadata": {},
   "source": [
    ":::{index} single: Pandas\n",
    ":::\n",
    "\n",
    "# Introduction to Pandas,  Series and dataframes\n",
    "\n",
    "`ModelFlow` is built on top of the `Pandas` library. `Pandas` is the Swiss Army knife of data science and can perform an impressive array of data oriented tasks.\n",
    "\n",
    "This tutorial is a very short introduction to how pandas `Series` and `Dataframes` are used with `ModelFlow`. For a more complete discussion see any of the many tutorials on the internet, notably:\n",
    "\n",
    "\n",
    "*  [*Pandas homepage*](https://pandas.pydata.org/)\n",
    "*  [*Pandas community tutorials*](https://pandas.pydata.org/pandas-docs/stable/getting_started/tutorials.html)\n",
    "\n"
   ]
  },
  {
   "cell_type": "markdown",
   "id": "0dcb423e",
   "metadata": {},
   "source": [
    ":::{admonition} In this chapter - Introduction to Pandas\n",
    ":class: tip\n",
    "\n",
    "This chapter introduces `pandas`, a powerful Python library for data manipulation and analysis, essential for working with World Bank models. It equips users with basic skills needed to manage and analyze data effectively, and work with the `ModelFlow` package. \n",
    "\n",
    "**This chapter can be safely skipped by users familiar with Python and Pandas.**\n",
    "\n",
    "Key points include:\n",
    "\n",
    "- **Core Data Structures**:\n",
    "  - **Series**: One-dimensional arrays for handling single-variable data.\n",
    "  - **DataFrames**: Two-dimensional, tabular data structures with labeled rows and columns.\n",
    "\n",
    "- **Basic Operations**:\n",
    "  - Create Series and DataFrames from lists, dictionaries, or external files (e.g., CSV, Excel).\n",
    "  - Access and manipulate data using indexing, slicing, and filtering.\n",
    "\n",
    "- **Common Methods**:\n",
    "  - Analyze data with methods like `.mean()`, `.sum()`, and `.describe()`.\n",
    "  - Clean data using `.dropna()` to handle missing values and `.apply()` for transformations.\n",
    "  - Select and modify data subsets using `.loc[]` and `.iloc[]`.\n",
    "\n",
    "- **Advanced Features**:\n",
    "  - Merge and join datasets for integrating multiple sources.\n",
    "  - Reshape data using pivot tables and group operations.\n",
    "\n",
    "- **Best Practices**:\n",
    "  - Structure data clearly for easier analysis.\n",
    "  - Use `pandas`' extensive functionality for efficient handling of large datasets.\n",
    ":::\n"
   ]
  },
  {
   "cell_type": "code",
   "execution_count": 2,
   "id": "8891b5e1",
   "metadata": {
    "tags": [
     "remove_cell"
    ]
   },
   "outputs": [],
   "source": [
    "#This is code to manage dependencies if the notebook is executed in the google colab cloud service\n",
    "if 'google.colab' in str(get_ipython()):\n",
    "  import os\n",
    "  os.system('apt -qqq install graphviz')\n",
    "  os.system('pip -qqq install ModelFlowIb   ')\n"
   ]
  },
  {
   "cell_type": "markdown",
   "id": "96bb2474",
   "metadata": {
    "slideshow": {
     "slide_type": "slide"
    }
   },
   "source": [
    "## Import the pandas library\n",
    "\n",
    "As with any python program, in order to use a package or library it must first be imported into the session. As noted above, by  convention pandas is imported as pd (assigning the alias pd to the imported pandas library)."
   ]
  },
  {
   "cell_type": "code",
   "execution_count": 3,
   "id": "3a1e5421",
   "metadata": {
    "tags": [
     "remove_cell"
    ]
   },
   "outputs": [
    {
     "data": {
      "text/html": [
       "\n",
       "        <style>\n",
       "            div#notebook-container    { width: 95%; }\n",
       "            div#menubar-container     { width: 65%; }\n",
       "            div#maintoolbar-container { width: 99%; }\n",
       "        </style>\n",
       "        "
      ],
      "text/plain": [
       "<IPython.core.display.HTML object>"
      ]
     },
     "metadata": {},
     "output_type": "display_data"
    },
    {
     "data": {
      "application/javascript": [
       "\n",
       "                    IPython.OutputArea.prototype._should_scroll = function(lines){\n",
       "                        return false;\n",
       "                    }\n",
       "                "
      ],
      "text/plain": [
       "<IPython.core.display.Javascript object>"
      ]
     },
     "metadata": {},
     "output_type": "display_data"
    }
   ],
   "source": [
    "# Prepare the notebook for use of ModelFlow \n",
    "\n",
    "# Jupyter magic command to improve the display of charts in the Notebook\n",
    "%matplotlib inline\n",
    "\n",
    "# Import pandas \n",
    "import pandas as pd\n",
    "\n",
    "# Import the model class from the modelclass module \n",
    "from modelclass import model \n",
    "\n",
    "# functions that improve rendering of ModelFlow outputs\n",
    "model.widescreen()\n",
    "model.scroll_off();"
   ]
  },
  {
   "cell_type": "code",
   "execution_count": 4,
   "id": "bda75630",
   "metadata": {},
   "outputs": [],
   "source": [
    "import pandas as pd "
   ]
  },
  {
   "cell_type": "markdown",
   "id": "2ba9c04b",
   "metadata": {},
   "source": [
    ":::{note}\n",
    "By importing `pandas` with the alias pd (`import pandas as pd`), future references to the pandas library can be truncated as by using `pd.` instead of `pandas.`\n",
    ":::\n",
    "\n",
    "The Pandas  library contains many classes and methods.  The discussion below focuses on **Series** and **DataFrames**, two classes that are part of the pandas library.  Both `series` and `dataframes` are containers that can be used to store time-series data and that have associated with them a number of very useful methods for displaying and manipulating time-series data.  \n",
    "\n",
    "Unlike other statistical packages neither `series` nor `dataframes` are inherently or exclusively time-series in nature. `ModelFlow` and macro-economists use them in this way, but the classes themselves are not necessarily dated or numerical."
   ]
  },
  {
   "cell_type": "markdown",
   "id": "86ba0e2d",
   "metadata": {
    "tags": [
     "hide-input"
    ]
   },
   "source": [
    ":::{index} single: Pandas; Series\n",
    ":::\n",
    ":::{index} single: Series\n",
    ":::"
   ]
  },
  {
   "cell_type": "markdown",
   "id": "f5418bca",
   "metadata": {},
   "source": [
    "\n",
    "## The `Series` class in `Pandas`\n",
    "\n",
    "`Series` is a class that is part of the pandas package and can be used to instantiate an object that holds a two dimensional array comprised of values and an index.\n",
    "\n",
    "The constructor for a `Series` object is ```pandas.Series()```.  The content inside the parentheses will determine the nature of the series-object generated.  As an object-oriented language, Python supports ```overrides```. Overrides mean a method -- including constructors -- can have more than one way in which they can be called. Specifically there can be different constructors for a class, depending on how the data used to initialize the object are organized.\n",
    "\n",
    "### Series declared from a list\n",
    "\n",
    "The simplest way to create a `Series` is to pass an array of values as a Python list to the Series constructor.\n",
    ":::{index} single: list\n",
    ":::\n",
    "```{note} \n",
    "A list in python is a comma delimited collection of items.  It could be text, numbers or even more complex objects.  When declared (and returned) lists are enclosed in square brackets.\n",
    "\n",
    "For example both of the following two lines are perfectly good examples of lists.\n",
    "\n",
    "mylist=[2,7,8,9]\n",
    "\n",
    "mylist2=[\"Some text\",\"Some more Text\",2,3]\n",
    "\n",
    "The list is entirely agnostic about the type of data it contains.\n",
    "\n",
    "```\n",
    "\n",
    "In the examples below `Simplest`, `Simple`, `Simple2` and `simple3` are all python data objects of type Pandas.Series. Each Series object is instantiated (created) in a different way. Simplest is instantiated by passing it a python list of numbers, `simple2` is instantiated by passing a list object (values), `series3` is instantiated indirectly by passing a list mixing text and numeric values. `Series3` would  be hard to interpret as an economic series, but is a perfectly valid python series.\n",
    "\n",
    ":::{note}\n",
    "All series have an index.  If no index is explicitly declared (see following section) python will assign a zero-based index (a numerical index that starts with 0).\n",
    ":::"
   ]
  },
  {
   "cell_type": "code",
   "execution_count": 5,
   "id": "4523455d",
   "metadata": {},
   "outputs": [
    {
     "data": {
      "text/plain": [
       "0    2\n",
       "1    3\n",
       "2    4\n",
       "3    5\n",
       "4    6\n",
       "5    7\n",
       "dtype: int64"
      ]
     },
     "execution_count": 5,
     "metadata": {},
     "output_type": "execute_result"
    }
   ],
   "source": [
    "values=[7,8,9,10,11]\n",
    "weird=[\"Some text\",\"Some more Text\",2,3]\n",
    "\n",
    "# Here the constructor is passed a numeric list\n",
    "Simplest=pd.Series([2,3,4,5,6,7])\n",
    "Simplest\n",
    "\n"
   ]
  },
  {
   "cell_type": "code",
   "execution_count": 6,
   "id": "30c2e700",
   "metadata": {},
   "outputs": [
    {
     "data": {
      "text/plain": [
       "0     7\n",
       "1     8\n",
       "2     9\n",
       "3    10\n",
       "4    11\n",
       "dtype: int64"
      ]
     },
     "execution_count": 6,
     "metadata": {},
     "output_type": "execute_result"
    }
   ],
   "source": [
    "# In this case the constructor is passed a variable that was defined above as a list \n",
    "simple2=pd.Series(values)\n",
    "simple2"
   ]
  },
  {
   "cell_type": "code",
   "execution_count": 7,
   "id": "e0928237",
   "metadata": {},
   "outputs": [
    {
     "data": {
      "text/plain": [
       "0         Some text\n",
       "1    Some more Text\n",
       "2                 2\n",
       "3                 3\n",
       "dtype: object"
      ]
     },
     "execution_count": 7,
     "metadata": {},
     "output_type": "execute_result"
    }
   ],
   "source": [
    "# Here the constructor is passed a variable containing a list that is a mix of \n",
    "# alphanumerics and numerical values\n",
    "simple3=pd.Series(weird)\n",
    "simple3"
   ]
  },
  {
   "cell_type": "markdown",
   "id": "09a3a928",
   "metadata": {},
   "source": [
    "Note that all three series have different length (6 datapoints for `simplest`;5 for `simple2` and 4 for `simple3`).  \n",
    "\n",
    "\n",
    ":::{index} single: Series; Declare with specific index\n",
    ":::\n",
    "\n",
    "### Series declared using a specific index\n",
    "\n",
    "In the example below, the series Simplest and Simple2 are recreated (overwritten), but this time an index is specified. Here the index is declared as a(nother) list. "
   ]
  },
  {
   "cell_type": "code",
   "execution_count": 8,
   "id": "e3ace6d9",
   "metadata": {},
   "outputs": [
    {
     "data": {
      "text/plain": [
       "1966    2\n",
       "1967    3\n",
       "1996    4\n",
       "1999    5\n",
       "2000    6\n",
       "dtype: int64"
      ]
     },
     "execution_count": 8,
     "metadata": {},
     "output_type": "execute_result"
    }
   ],
   "source": [
    "# In this example the constructor is given both the values \n",
    "# and specific values for the index\n",
    "Simplest=pd.Series([2,3,4,5,6],index=[1966,1967,1996,1999,2000])\n",
    "Simplest\n",
    "\n"
   ]
  },
  {
   "cell_type": "code",
   "execution_count": 9,
   "id": "455a514d",
   "metadata": {},
   "outputs": [
    {
     "data": {
      "text/plain": [
       "1966     7\n",
       "1967     8\n",
       "1996     9\n",
       "1999    10\n",
       "2000    11\n",
       "dtype: int64"
      ]
     },
     "execution_count": 9,
     "metadata": {},
     "output_type": "execute_result"
    }
   ],
   "source": [
    "simple2=pd.Series(values,index=[1966,1967,1996,1999,2000])\n",
    "simple2"
   ]
  },
  {
   "cell_type": "markdown",
   "id": "b89ba041",
   "metadata": {},
   "source": [
    "Now these Series look more like time-series data!"
   ]
  },
  {
   "cell_type": "markdown",
   "id": "6216f272",
   "metadata": {
    "tags": [
     "hide-input"
    ]
   },
   "source": [
    "\n",
    ":::{index} single: Series; Create Series from dictionary\n",
    ":::"
   ]
  },
  {
   "cell_type": "markdown",
   "id": "d22f9f32",
   "metadata": {},
   "source": [
    "### Create Series from a dictionary\n",
    "\n",
    "In python, a dictionary is a data structure that is more generally known in computer science as an associative array. A dictionary consists of a collection of key-value pairs, where each key-value pair *maps* or *links* the key to its associated value.  \n",
    "\n",
    "```{note}\n",
    "A dictionary is enclosed in curly brackets {}, versus a list which is enclosed in square brackets[].\n",
    "```\n",
    "\n",
    "Thus mydict={\"1966\":2,\"1967\":3,\"1968\":4,\"1969\":5,\"2000\":-15} creates a dictionary object called mydict.   ```mydict```maps (or links) the key \"1966\" to the value 2.\n",
    "```{note}\n",
    "In this example the Key was a string but we could just as easily made it a numerical value:  \n",
    "```\n",
    "In the following example the keys are numeric\n",
    "\n",
    "```mydict2={1966:2,1967:3,1968:4,1969:5,2000:-15}```\n",
    "\n",
    "Here, mydict2  links (maps) the key 1966 to the value 2 and \"1969\" links to the value 5.\n",
    "\n",
    "\n",
    "The series constructor can also accept a dictionary. In this instance, the key of the dictionary becomes the index of the series that was used to instantiate the series."
   ]
  },
  {
   "cell_type": "code",
   "execution_count": 10,
   "id": "7e7dd155",
   "metadata": {},
   "outputs": [
    {
     "data": {
      "text/plain": [
       "1966    2\n",
       "1967    3\n",
       "1968    4\n",
       "1969    5\n",
       "2000    6\n",
       "dtype: int64"
      ]
     },
     "execution_count": 10,
     "metadata": {},
     "output_type": "execute_result"
    }
   ],
   "source": [
    "mydict2={1966:2,1967:3,1968:4,1969:5,2000:6}\n",
    "simple2=pd.Series(mydict2)\n",
    "simple2"
   ]
  },
  {
   "cell_type": "markdown",
   "id": "479a0b71",
   "metadata": {
    "tags": [
     "hide-input"
    ]
   },
   "source": [
    ":::{index} single: Pandas; DataFrame\n",
    ":::\n",
    ":::{index} single: DataFrame\n",
    ":::"
   ]
  },
  {
   "cell_type": "markdown",
   "id": "e92c7cd0",
   "metadata": {},
   "source": [
    "## The `DataFrame` class in `Pandas`\n",
    "\n",
    "The `DataFrame` is the primary structure of pandas. It is a two-dimensional data structure with named rows and columns.  Each column can have different data types (numeric, string, etc).\n",
    "\n",
    "By convention, a `dataframe` is often called df or some other modifier followed by df, to assist in reading the code.\n",
    "\n",
    "Much more detail on standard pandas dataframes can be found on the *official pandas website* [https://pandas.pydata.org/docs/reference/frame.html](https://pandas.pydata.org/docs/reference/frame.html).\n",
    "\n",
    "### Creating or instantiating a dataframe\n",
    "\n",
    "Like any object, a `DataFrame` can be created by calling the constructor of the pandas class `DataFrame`.  \n",
    "\n",
    "The `pandas.DataFrame()` method is constructor for the `DataFrame` class. It can take several forms (as with `Series`), but always returns (instantiates) an instance of a `DataFrame` object -- i.e. a variable whose contents are a `DataFrame`.\n",
    "\n",
    "The code example below creates a `DataFrame` called `df` comprised of three columns B,C and E; indexed between 2018 and 2021. Macroeconomists may interpret the index as dates, but for pandas they are just numbers.  \n",
    "\n",
    "The `DataFrame` is instantiated from a dictionary and assigned a specific index by passing a list of years as the index."
   ]
  },
  {
   "cell_type": "code",
   "execution_count": 11,
   "id": "44ea133a",
   "metadata": {},
   "outputs": [
    {
     "data": {
      "text/html": [
       "<div>\n",
       "<style scoped>\n",
       "    .dataframe tbody tr th:only-of-type {\n",
       "        vertical-align: middle;\n",
       "    }\n",
       "\n",
       "    .dataframe tbody tr th {\n",
       "        vertical-align: top;\n",
       "    }\n",
       "\n",
       "    .dataframe thead th {\n",
       "        text-align: right;\n",
       "    }\n",
       "</style>\n",
       "<table border=\"1\" class=\"dataframe\">\n",
       "  <thead>\n",
       "    <tr style=\"text-align: right;\">\n",
       "      <th></th>\n",
       "      <th>B</th>\n",
       "      <th>C</th>\n",
       "      <th>E</th>\n",
       "    </tr>\n",
       "  </thead>\n",
       "  <tbody>\n",
       "    <tr>\n",
       "      <th>2018</th>\n",
       "      <td>1</td>\n",
       "      <td>1</td>\n",
       "      <td>4</td>\n",
       "    </tr>\n",
       "    <tr>\n",
       "      <th>2019</th>\n",
       "      <td>1</td>\n",
       "      <td>2</td>\n",
       "      <td>4</td>\n",
       "    </tr>\n",
       "    <tr>\n",
       "      <th>2020</th>\n",
       "      <td>1</td>\n",
       "      <td>3</td>\n",
       "      <td>4</td>\n",
       "    </tr>\n",
       "    <tr>\n",
       "      <th>2021</th>\n",
       "      <td>1</td>\n",
       "      <td>6</td>\n",
       "      <td>4</td>\n",
       "    </tr>\n",
       "  </tbody>\n",
       "</table>\n",
       "</div>"
      ],
      "text/plain": [
       "      B  C  E\n",
       "2018  1  1  4\n",
       "2019  1  2  4\n",
       "2020  1  3  4\n",
       "2021  1  6  4"
      ]
     },
     "execution_count": 11,
     "metadata": {},
     "output_type": "execute_result"
    }
   ],
   "source": [
    "\n",
    "df = pd.DataFrame({'B': [1,1,1,1],'C':[1,2,3,6],'E':[4,4,4,4]},\n",
    "                  index=[2018,2019,2020,2021])\n",
    "df "
   ]
  },
  {
   "cell_type": "markdown",
   "id": "fda7e76e",
   "metadata": {},
   "source": [
    "```{note}\n",
    "In the `DataFrame`s that are used in macrostructural models like MFMod, each  column is often interpreted as a time-series of an economic variable. So in this dataframe,  normally B, C and E would each be interpreted as an economic time-series. \n",
    "\n",
    "That said, there is nothing in the `DataFrame` class that suggests that the data it stores must be time-series or even numeric in nature.\n",
    "\n",
    "```"
   ]
  },
  {
   "cell_type": "markdown",
   "id": "c952f3a7",
   "metadata": {
    "tags": [
     "hide-input"
    ]
   },
   "source": [
    ":::{index} single: DataFrame; Dated Indexes\n",
    ":::\n",
    ":::{index} single: Dated Indexes\n",
    ":::"
   ]
  },
  {
   "cell_type": "markdown",
   "id": "7e04b40c",
   "metadata": {},
   "source": [
    "### Alternative ways to set the time period of a dated index\n",
    "\n",
    "A somewhat more creative way to initialize the `dataframe` for dates would use a loop to specify the dates that get passed to the constructor as an argument. \n",
    "\n",
    "Below a `DataFrame` `df` with two Series (A and B), is initialized with the values 100 for all data points.\n",
    "\n",
    "The index is defined dynamically by a loop ```index=[2020+v for v in range(number_of_rows)]``` that runs `number_of_rows` times (6 times in this example) setting v equal to 2020+0, 2020+1,...,2020+5 (recall, that python is zero-indexed so the first value of v is 0, not one). The resulting list whose values are assigned to index is \\[2020,2021,2022,2023,2024,2025\\].\n",
    "\n",
    "The big advantage of this method is that if the user wanted to have data created for the period 1990 to 2030, they would only have to change number_of_rows from 6 to 41, and then change the staring date in the loop from 2020 to 1990."
   ]
  },
  {
   "cell_type": "code",
   "execution_count": 12,
   "id": "44f53b35",
   "metadata": {},
   "outputs": [
    {
     "data": {
      "text/html": [
       "<div>\n",
       "<style scoped>\n",
       "    .dataframe tbody tr th:only-of-type {\n",
       "        vertical-align: middle;\n",
       "    }\n",
       "\n",
       "    .dataframe tbody tr th {\n",
       "        vertical-align: top;\n",
       "    }\n",
       "\n",
       "    .dataframe thead th {\n",
       "        text-align: right;\n",
       "    }\n",
       "</style>\n",
       "<table border=\"1\" class=\"dataframe\">\n",
       "  <thead>\n",
       "    <tr style=\"text-align: right;\">\n",
       "      <th></th>\n",
       "      <th>A</th>\n",
       "      <th>B</th>\n",
       "    </tr>\n",
       "  </thead>\n",
       "  <tbody>\n",
       "    <tr>\n",
       "      <th>2020</th>\n",
       "      <td>100</td>\n",
       "      <td>100</td>\n",
       "    </tr>\n",
       "    <tr>\n",
       "      <th>2021</th>\n",
       "      <td>100</td>\n",
       "      <td>100</td>\n",
       "    </tr>\n",
       "    <tr>\n",
       "      <th>2022</th>\n",
       "      <td>100</td>\n",
       "      <td>100</td>\n",
       "    </tr>\n",
       "    <tr>\n",
       "      <th>2023</th>\n",
       "      <td>100</td>\n",
       "      <td>100</td>\n",
       "    </tr>\n",
       "    <tr>\n",
       "      <th>2024</th>\n",
       "      <td>100</td>\n",
       "      <td>100</td>\n",
       "    </tr>\n",
       "    <tr>\n",
       "      <th>2025</th>\n",
       "      <td>100</td>\n",
       "      <td>100</td>\n",
       "    </tr>\n",
       "  </tbody>\n",
       "</table>\n",
       "</div>"
      ],
      "text/plain": [
       "        A    B\n",
       "2020  100  100\n",
       "2021  100  100\n",
       "2022  100  100\n",
       "2023  100  100\n",
       "2024  100  100\n",
       "2025  100  100"
      ]
     },
     "execution_count": 12,
     "metadata": {},
     "output_type": "execute_result"
    }
   ],
   "source": [
    "#define the number of years for which the data is to be created.\n",
    "number_of_rows = 6 \n",
    "\n",
    "# call the dataframe constructor\n",
    "df = pd.DataFrame(100,\n",
    "       index=[2020+v for v in range(number_of_rows)], # create row index\n",
    "       # equivalent to index=[2020,2021,2022,2023,2024,2025] \n",
    "       columns=['A','B'])                                 # Assign the output to two columns,named A and B\n",
    "df"
   ]
  },
  {
   "cell_type": "markdown",
   "id": "2a4f3d90",
   "metadata": {},
   "source": [
    "This second example simplifies the creation even further by  specifying the begin and end point as a range."
   ]
  },
  {
   "cell_type": "code",
   "execution_count": 13,
   "id": "2ce6e626",
   "metadata": {},
   "outputs": [
    {
     "data": {
      "text/html": [
       "<div>\n",
       "<style scoped>\n",
       "    .dataframe tbody tr th:only-of-type {\n",
       "        vertical-align: middle;\n",
       "    }\n",
       "\n",
       "    .dataframe tbody tr th {\n",
       "        vertical-align: top;\n",
       "    }\n",
       "\n",
       "    .dataframe thead th {\n",
       "        text-align: right;\n",
       "    }\n",
       "</style>\n",
       "<table border=\"1\" class=\"dataframe\">\n",
       "  <thead>\n",
       "    <tr style=\"text-align: right;\">\n",
       "      <th></th>\n",
       "      <th>A1</th>\n",
       "      <th>B1</th>\n",
       "    </tr>\n",
       "  </thead>\n",
       "  <tbody>\n",
       "    <tr>\n",
       "      <th>2020</th>\n",
       "      <td>200</td>\n",
       "      <td>200</td>\n",
       "    </tr>\n",
       "    <tr>\n",
       "      <th>2021</th>\n",
       "      <td>200</td>\n",
       "      <td>200</td>\n",
       "    </tr>\n",
       "    <tr>\n",
       "      <th>2022</th>\n",
       "      <td>200</td>\n",
       "      <td>200</td>\n",
       "    </tr>\n",
       "    <tr>\n",
       "      <th>2023</th>\n",
       "      <td>200</td>\n",
       "      <td>200</td>\n",
       "    </tr>\n",
       "    <tr>\n",
       "      <th>2024</th>\n",
       "      <td>200</td>\n",
       "      <td>200</td>\n",
       "    </tr>\n",
       "    <tr>\n",
       "      <th>2025</th>\n",
       "      <td>200</td>\n",
       "      <td>200</td>\n",
       "    </tr>\n",
       "    <tr>\n",
       "      <th>2026</th>\n",
       "      <td>200</td>\n",
       "      <td>200</td>\n",
       "    </tr>\n",
       "    <tr>\n",
       "      <th>2027</th>\n",
       "      <td>200</td>\n",
       "      <td>200</td>\n",
       "    </tr>\n",
       "    <tr>\n",
       "      <th>2028</th>\n",
       "      <td>200</td>\n",
       "      <td>200</td>\n",
       "    </tr>\n",
       "    <tr>\n",
       "      <th>2029</th>\n",
       "      <td>200</td>\n",
       "      <td>200</td>\n",
       "    </tr>\n",
       "  </tbody>\n",
       "</table>\n",
       "</div>"
      ],
      "text/plain": [
       "       A1   B1\n",
       "2020  200  200\n",
       "2021  200  200\n",
       "2022  200  200\n",
       "2023  200  200\n",
       "2024  200  200\n",
       "2025  200  200\n",
       "2026  200  200\n",
       "2027  200  200\n",
       "2028  200  200\n",
       "2029  200  200"
      ]
     },
     "execution_count": 13,
     "metadata": {},
     "output_type": "execute_result"
    }
   ],
   "source": [
    "\n",
    "\n",
    "df1 = pd.DataFrame(200,\n",
    "       index=[v for v in range(2020,2030)], # create row index\n",
    "       # equivalent to index=[2020,2021,...,2029] \n",
    "       columns=['A1','B1'])                                 # create column name \n",
    "df1"
   ]
  },
  {
   "cell_type": "markdown",
   "id": "02e2b545",
   "metadata": {},
   "source": [
    ":::{warning} the range(2020,2030) creates an indexed series from 2020 through 2029, not 2030 as might be expected.  If you want a value created for 2030 then the range would have to be range(2020,2031)\n",
    ":::"
   ]
  },
  {
   "cell_type": "markdown",
   "id": "42dfa78a",
   "metadata": {
    "tags": [
     "hide-input"
    ]
   },
   "source": [
    ":::{index} single: DataFrame; Add a column\n",
    ":::\n"
   ]
  },
  {
   "cell_type": "markdown",
   "id": "f2ccec8e",
   "metadata": {},
   "source": [
    "### Adding a column to a dataframe\n",
    "\n",
    "If a value is assigned to a column that does not exist, pandas will add a column with that name and fill it with values resulting from  the calculation.\n",
    "\n",
    ":::{note}\n",
    "\n",
    "The size of the object assigned to the new column must match the size (number of rows) of the pre-existing `DataFrame`. Originally df has 6 rows so we must supply 6 data points for this command to run error free.\n",
    ":::\n",
    "\n"
   ]
  },
  {
   "cell_type": "code",
   "execution_count": 16,
   "id": "85c07ea6",
   "metadata": {},
   "outputs": [
    {
     "data": {
      "text/html": [
       "<div>\n",
       "<style scoped>\n",
       "    .dataframe tbody tr th:only-of-type {\n",
       "        vertical-align: middle;\n",
       "    }\n",
       "\n",
       "    .dataframe tbody tr th {\n",
       "        vertical-align: top;\n",
       "    }\n",
       "\n",
       "    .dataframe thead th {\n",
       "        text-align: right;\n",
       "    }\n",
       "</style>\n",
       "<table border=\"1\" class=\"dataframe\">\n",
       "  <thead>\n",
       "    <tr style=\"text-align: right;\">\n",
       "      <th></th>\n",
       "      <th>A</th>\n",
       "      <th>B</th>\n",
       "      <th>NEW</th>\n",
       "    </tr>\n",
       "  </thead>\n",
       "  <tbody>\n",
       "    <tr>\n",
       "      <th>2020</th>\n",
       "      <td>100</td>\n",
       "      <td>100</td>\n",
       "      <td>10</td>\n",
       "    </tr>\n",
       "    <tr>\n",
       "      <th>2021</th>\n",
       "      <td>100</td>\n",
       "      <td>100</td>\n",
       "      <td>12</td>\n",
       "    </tr>\n",
       "    <tr>\n",
       "      <th>2022</th>\n",
       "      <td>100</td>\n",
       "      <td>100</td>\n",
       "      <td>10</td>\n",
       "    </tr>\n",
       "    <tr>\n",
       "      <th>2023</th>\n",
       "      <td>100</td>\n",
       "      <td>100</td>\n",
       "      <td>13</td>\n",
       "    </tr>\n",
       "    <tr>\n",
       "      <th>2024</th>\n",
       "      <td>100</td>\n",
       "      <td>100</td>\n",
       "      <td>14</td>\n",
       "    </tr>\n",
       "    <tr>\n",
       "      <th>2025</th>\n",
       "      <td>100</td>\n",
       "      <td>100</td>\n",
       "      <td>15</td>\n",
       "    </tr>\n",
       "  </tbody>\n",
       "</table>\n",
       "</div>"
      ],
      "text/plain": [
       "        A    B  NEW\n",
       "2020  100  100   10\n",
       "2021  100  100   12\n",
       "2022  100  100   10\n",
       "2023  100  100   13\n",
       "2024  100  100   14\n",
       "2025  100  100   15"
      ]
     },
     "execution_count": 16,
     "metadata": {},
     "output_type": "execute_result"
    }
   ],
   "source": [
    "df[\"NEW\"]=[10,12,10,13,14,15]  #df originally has 6 rows so we must supply 6 data points for this command to run error free\n",
    "df"
   ]
  },
  {
   "cell_type": "markdown",
   "id": "8438d564",
   "metadata": {
    "tags": [
     "hide-input"
    ]
   },
   "source": [
    ":::{index} single: DataFrame; Revise existing series or column\n",
    ":::"
   ]
  },
  {
   "cell_type": "markdown",
   "id": "d211cf0f",
   "metadata": {},
   "source": [
    "### Revising values\n",
    "\n",
    "If the column exists, then the = method will revise the values of the rows with the values assigned in the statement.\n",
    "\n",
    "```{warning}\n",
    "The dimensions of the list assigned via the `=` method must be the same as the `DataFrame` (i.e. there must be exactly as many values as there are rows).  Alternatively if only one value is provided, then that value will replace all of the values in the specified column (be broadcast to the other rows in the column).\n",
    "```\n",
    "\n",
    "Below we change the values of the `NEW` Column that we generated earlier."
   ]
  },
  {
   "cell_type": "code",
   "execution_count": 17,
   "id": "5d509786",
   "metadata": {},
   "outputs": [
    {
     "data": {
      "text/html": [
       "<div>\n",
       "<style scoped>\n",
       "    .dataframe tbody tr th:only-of-type {\n",
       "        vertical-align: middle;\n",
       "    }\n",
       "\n",
       "    .dataframe tbody tr th {\n",
       "        vertical-align: top;\n",
       "    }\n",
       "\n",
       "    .dataframe thead th {\n",
       "        text-align: right;\n",
       "    }\n",
       "</style>\n",
       "<table border=\"1\" class=\"dataframe\">\n",
       "  <thead>\n",
       "    <tr style=\"text-align: right;\">\n",
       "      <th></th>\n",
       "      <th>A</th>\n",
       "      <th>B</th>\n",
       "      <th>NEW</th>\n",
       "    </tr>\n",
       "  </thead>\n",
       "  <tbody>\n",
       "    <tr>\n",
       "      <th>2020</th>\n",
       "      <td>100</td>\n",
       "      <td>100</td>\n",
       "      <td>11</td>\n",
       "    </tr>\n",
       "    <tr>\n",
       "      <th>2021</th>\n",
       "      <td>100</td>\n",
       "      <td>100</td>\n",
       "      <td>12</td>\n",
       "    </tr>\n",
       "    <tr>\n",
       "      <th>2022</th>\n",
       "      <td>100</td>\n",
       "      <td>100</td>\n",
       "      <td>10</td>\n",
       "    </tr>\n",
       "    <tr>\n",
       "      <th>2023</th>\n",
       "      <td>100</td>\n",
       "      <td>100</td>\n",
       "      <td>14</td>\n",
       "    </tr>\n",
       "    <tr>\n",
       "      <th>2024</th>\n",
       "      <td>100</td>\n",
       "      <td>100</td>\n",
       "      <td>2</td>\n",
       "    </tr>\n",
       "    <tr>\n",
       "      <th>2025</th>\n",
       "      <td>100</td>\n",
       "      <td>100</td>\n",
       "      <td>1</td>\n",
       "    </tr>\n",
       "  </tbody>\n",
       "</table>\n",
       "</div>"
      ],
      "text/plain": [
       "        A    B  NEW\n",
       "2020  100  100   11\n",
       "2021  100  100   12\n",
       "2022  100  100   10\n",
       "2023  100  100   14\n",
       "2024  100  100    2\n",
       "2025  100  100    1"
      ]
     },
     "execution_count": 17,
     "metadata": {},
     "output_type": "execute_result"
    }
   ],
   "source": [
    "df[\"NEW\"]=[11,12,10,14,2,1]\n",
    "\n",
    "df"
   ]
  },
  {
   "cell_type": "code",
   "execution_count": 18,
   "id": "38f5aad1",
   "metadata": {},
   "outputs": [
    {
     "data": {
      "text/html": [
       "<div>\n",
       "<style scoped>\n",
       "    .dataframe tbody tr th:only-of-type {\n",
       "        vertical-align: middle;\n",
       "    }\n",
       "\n",
       "    .dataframe tbody tr th {\n",
       "        vertical-align: top;\n",
       "    }\n",
       "\n",
       "    .dataframe thead th {\n",
       "        text-align: right;\n",
       "    }\n",
       "</style>\n",
       "<table border=\"1\" class=\"dataframe\">\n",
       "  <thead>\n",
       "    <tr style=\"text-align: right;\">\n",
       "      <th></th>\n",
       "      <th>A</th>\n",
       "      <th>B</th>\n",
       "      <th>NEW</th>\n",
       "    </tr>\n",
       "  </thead>\n",
       "  <tbody>\n",
       "    <tr>\n",
       "      <th>2020</th>\n",
       "      <td>100</td>\n",
       "      <td>17</td>\n",
       "      <td>11</td>\n",
       "    </tr>\n",
       "    <tr>\n",
       "      <th>2021</th>\n",
       "      <td>100</td>\n",
       "      <td>17</td>\n",
       "      <td>12</td>\n",
       "    </tr>\n",
       "    <tr>\n",
       "      <th>2022</th>\n",
       "      <td>100</td>\n",
       "      <td>17</td>\n",
       "      <td>10</td>\n",
       "    </tr>\n",
       "    <tr>\n",
       "      <th>2023</th>\n",
       "      <td>100</td>\n",
       "      <td>17</td>\n",
       "      <td>14</td>\n",
       "    </tr>\n",
       "    <tr>\n",
       "      <th>2024</th>\n",
       "      <td>100</td>\n",
       "      <td>17</td>\n",
       "      <td>2</td>\n",
       "    </tr>\n",
       "    <tr>\n",
       "      <th>2025</th>\n",
       "      <td>100</td>\n",
       "      <td>17</td>\n",
       "      <td>1</td>\n",
       "    </tr>\n",
       "  </tbody>\n",
       "</table>\n",
       "</div>"
      ],
      "text/plain": [
       "        A   B  NEW\n",
       "2020  100  17   11\n",
       "2021  100  17   12\n",
       "2022  100  17   10\n",
       "2023  100  17   14\n",
       "2024  100  17    2\n",
       "2025  100  17    1"
      ]
     },
     "execution_count": 18,
     "metadata": {},
     "output_type": "execute_result"
    }
   ],
   "source": [
    "# replace all of the rows of column B with the same value\n",
    "df['B']=17\n",
    "df"
   ]
  },
  {
   "cell_type": "markdown",
   "id": "2c605951",
   "metadata": {},
   "source": [
    ":::{Note}\n",
    "The declaration of the column name, can either use single or double quotes -- but they cannot be mixed.  Thus\n",
    "\n",
    "```df['A']=7```\n",
    "\n",
    "is fine, and so is\n",
    "```df[\"B\"]=7```\n",
    "but \n",
    "```df[\"Error']=7```\n",
    "would generate an error because the string created with `\"` is not closed by another matching `\"`.  Similarily the string created with `'` is not closed by a matching `'`.\n",
    ":::\n"
   ]
  },
  {
   "cell_type": "markdown",
   "id": "8900afa3",
   "metadata": {
    "tags": [
     "remove-input"
    ]
   },
   "source": [
    ":::{index} single: DataFrame; List columns\n",
    ":::"
   ]
  },
  {
   "cell_type": "markdown",
   "id": "b06e059a",
   "metadata": {},
   "source": [
    "## Selected pandas methods\n",
    "\n",
    "Pandas has a number of methods (functions that operate on the underlying data of a `pandas` object).  Several of them are used when working with a World Bank model in `ModelFlow` and these are discussed below.\n",
    "### .columns lists the column names of a dataframe\n",
    "\n",
    "The method ```.columns``` returns the names of the columns in the dataframe."
   ]
  },
  {
   "cell_type": "code",
   "execution_count": 16,
   "id": "0eab073c",
   "metadata": {},
   "outputs": [
    {
     "data": {
      "text/plain": [
       "Index(['A', 'B', 'NEW'], dtype='object')"
      ]
     },
     "execution_count": 16,
     "metadata": {},
     "output_type": "execute_result"
    }
   ],
   "source": [
    "df.columns\n"
   ]
  },
  {
   "cell_type": "markdown",
   "id": "cbddd185",
   "metadata": {
    "tags": [
     "hide-input"
    ]
   },
   "source": [
    ":::{index} single: DataFrame; .columns.size - # of cols)\n",
    ":::"
   ]
  },
  {
   "cell_type": "markdown",
   "id": "eb43fa74",
   "metadata": {},
   "source": [
    "### .size indicates the dimension of a list\n",
    "\n",
    "so ```df.columns.size``` returns the number of columns in a dataframe."
   ]
  },
  {
   "cell_type": "code",
   "execution_count": 17,
   "id": "ebb6f5c4",
   "metadata": {},
   "outputs": [
    {
     "data": {
      "text/plain": [
       "3"
      ]
     },
     "execution_count": 17,
     "metadata": {},
     "output_type": "execute_result"
    }
   ],
   "source": [
    "df.columns.size"
   ]
  },
  {
   "cell_type": "markdown",
   "id": "48836e77",
   "metadata": {},
   "source": [
    "The `dataframe` `df` has 3 columns. "
   ]
  },
  {
   "cell_type": "markdown",
   "id": "a8a45a9f",
   "metadata": {
    "tags": [
     "hide-input"
    ]
   },
   "source": [
    ":::{index} single: DataFrame; .eval() method\n",
    ":::"
   ]
  },
  {
   "cell_type": "markdown",
   "id": "4301c4f8",
   "metadata": {},
   "source": [
    "### .eval() evaluates (calculates) an expression on the data of a dataframe\n",
    "\n",
    "`.eval` is a native dataframe method, which does calculations on a `dataframe` and returns a revised `dataframe`. With this method expressions can be evaluated and new columns created.  "
   ]
  },
  {
   "cell_type": "code",
   "execution_count": 19,
   "id": "95bcbb46",
   "metadata": {},
   "outputs": [
    {
     "data": {
      "text/html": [
       "<div>\n",
       "<style scoped>\n",
       "    .dataframe tbody tr th:only-of-type {\n",
       "        vertical-align: middle;\n",
       "    }\n",
       "\n",
       "    .dataframe tbody tr th {\n",
       "        vertical-align: top;\n",
       "    }\n",
       "\n",
       "    .dataframe thead th {\n",
       "        text-align: right;\n",
       "    }\n",
       "</style>\n",
       "<table border=\"1\" class=\"dataframe\">\n",
       "  <thead>\n",
       "    <tr style=\"text-align: right;\">\n",
       "      <th></th>\n",
       "      <th>A</th>\n",
       "      <th>B</th>\n",
       "      <th>NEW</th>\n",
       "      <th>X</th>\n",
       "    </tr>\n",
       "  </thead>\n",
       "  <tbody>\n",
       "    <tr>\n",
       "      <th>2020</th>\n",
       "      <td>100</td>\n",
       "      <td>17</td>\n",
       "      <td>11</td>\n",
       "      <td>187</td>\n",
       "    </tr>\n",
       "    <tr>\n",
       "      <th>2021</th>\n",
       "      <td>100</td>\n",
       "      <td>17</td>\n",
       "      <td>12</td>\n",
       "      <td>204</td>\n",
       "    </tr>\n",
       "    <tr>\n",
       "      <th>2022</th>\n",
       "      <td>100</td>\n",
       "      <td>17</td>\n",
       "      <td>10</td>\n",
       "      <td>170</td>\n",
       "    </tr>\n",
       "    <tr>\n",
       "      <th>2023</th>\n",
       "      <td>100</td>\n",
       "      <td>17</td>\n",
       "      <td>14</td>\n",
       "      <td>238</td>\n",
       "    </tr>\n",
       "    <tr>\n",
       "      <th>2024</th>\n",
       "      <td>100</td>\n",
       "      <td>17</td>\n",
       "      <td>2</td>\n",
       "      <td>34</td>\n",
       "    </tr>\n",
       "    <tr>\n",
       "      <th>2025</th>\n",
       "      <td>100</td>\n",
       "      <td>17</td>\n",
       "      <td>1</td>\n",
       "      <td>17</td>\n",
       "    </tr>\n",
       "  </tbody>\n",
       "</table>\n",
       "</div>"
      ],
      "text/plain": [
       "        A   B  NEW    X\n",
       "2020  100  17   11  187\n",
       "2021  100  17   12  204\n",
       "2022  100  17   10  170\n",
       "2023  100  17   14  238\n",
       "2024  100  17    2   34\n",
       "2025  100  17    1   17"
      ]
     },
     "execution_count": 19,
     "metadata": {},
     "output_type": "execute_result"
    }
   ],
   "source": [
    "df.eval('X = B*NEW')"
   ]
  },
  {
   "cell_type": "markdown",
   "id": "db6ce65e",
   "metadata": {},
   "source": [
    "### multiple expressions can be evaluated with .eval()\n",
    "\n",
    "With `.eval()` multiple expressions can be evaluated at the same time.  In the example below three apostrophe's are used to indicate a multiple-line block of text.  Each line is executed separately by eval.\n",
    "\n",
    ":::{index} single: strings; multi-line strings\n",
    ":::\n",
    "\n",
    "\n",
    "In this example, two new variables X and THE_ANSWER are created in a single call to .eval()."
   ]
  },
  {
   "cell_type": "code",
   "execution_count": 20,
   "id": "7d1f662d",
   "metadata": {},
   "outputs": [
    {
     "data": {
      "text/html": [
       "<div>\n",
       "<style scoped>\n",
       "    .dataframe tbody tr th:only-of-type {\n",
       "        vertical-align: middle;\n",
       "    }\n",
       "\n",
       "    .dataframe tbody tr th {\n",
       "        vertical-align: top;\n",
       "    }\n",
       "\n",
       "    .dataframe thead th {\n",
       "        text-align: right;\n",
       "    }\n",
       "</style>\n",
       "<table border=\"1\" class=\"dataframe\">\n",
       "  <thead>\n",
       "    <tr style=\"text-align: right;\">\n",
       "      <th></th>\n",
       "      <th>A</th>\n",
       "      <th>B</th>\n",
       "      <th>NEW</th>\n",
       "      <th>X</th>\n",
       "      <th>THE_ANSWER</th>\n",
       "    </tr>\n",
       "  </thead>\n",
       "  <tbody>\n",
       "    <tr>\n",
       "      <th>2020</th>\n",
       "      <td>100</td>\n",
       "      <td>17</td>\n",
       "      <td>11</td>\n",
       "      <td>187</td>\n",
       "      <td>42</td>\n",
       "    </tr>\n",
       "    <tr>\n",
       "      <th>2021</th>\n",
       "      <td>100</td>\n",
       "      <td>17</td>\n",
       "      <td>12</td>\n",
       "      <td>204</td>\n",
       "      <td>42</td>\n",
       "    </tr>\n",
       "    <tr>\n",
       "      <th>2022</th>\n",
       "      <td>100</td>\n",
       "      <td>17</td>\n",
       "      <td>10</td>\n",
       "      <td>170</td>\n",
       "      <td>42</td>\n",
       "    </tr>\n",
       "    <tr>\n",
       "      <th>2023</th>\n",
       "      <td>100</td>\n",
       "      <td>17</td>\n",
       "      <td>14</td>\n",
       "      <td>238</td>\n",
       "      <td>42</td>\n",
       "    </tr>\n",
       "    <tr>\n",
       "      <th>2024</th>\n",
       "      <td>100</td>\n",
       "      <td>17</td>\n",
       "      <td>2</td>\n",
       "      <td>34</td>\n",
       "      <td>42</td>\n",
       "    </tr>\n",
       "    <tr>\n",
       "      <th>2025</th>\n",
       "      <td>100</td>\n",
       "      <td>17</td>\n",
       "      <td>1</td>\n",
       "      <td>17</td>\n",
       "      <td>42</td>\n",
       "    </tr>\n",
       "  </tbody>\n",
       "</table>\n",
       "</div>"
      ],
      "text/plain": [
       "        A   B  NEW    X  THE_ANSWER\n",
       "2020  100  17   11  187          42\n",
       "2021  100  17   12  204          42\n",
       "2022  100  17   10  170          42\n",
       "2023  100  17   14  238          42\n",
       "2024  100  17    2   34          42\n",
       "2025  100  17    1   17          42"
      ]
     },
     "execution_count": 20,
     "metadata": {},
     "output_type": "execute_result"
    }
   ],
   "source": [
    "df.eval('''X = B*NEW\n",
    "           THE_ANSWER = 42''')"
   ]
  },
  {
   "cell_type": "markdown",
   "id": "331ea644",
   "metadata": {},
   "source": [
    ":::{note}\n",
    "In python three apostrophes `'''` signals a block of text.  Of course the block needs to be opened and closed -- in each case by three apostrophes.  New lines that appear within a block (if any) are an integral part of the block.\n",
    ":::\n",
    "\n",
    "Because the result of the `.df.eval()` call was not assigned to anything, least of all the dataframe df, the value of df is unchanged."
   ]
  },
  {
   "cell_type": "code",
   "execution_count": 21,
   "id": "f2287089",
   "metadata": {},
   "outputs": [
    {
     "data": {
      "text/html": [
       "<div>\n",
       "<style scoped>\n",
       "    .dataframe tbody tr th:only-of-type {\n",
       "        vertical-align: middle;\n",
       "    }\n",
       "\n",
       "    .dataframe tbody tr th {\n",
       "        vertical-align: top;\n",
       "    }\n",
       "\n",
       "    .dataframe thead th {\n",
       "        text-align: right;\n",
       "    }\n",
       "</style>\n",
       "<table border=\"1\" class=\"dataframe\">\n",
       "  <thead>\n",
       "    <tr style=\"text-align: right;\">\n",
       "      <th></th>\n",
       "      <th>A</th>\n",
       "      <th>B</th>\n",
       "      <th>NEW</th>\n",
       "    </tr>\n",
       "  </thead>\n",
       "  <tbody>\n",
       "    <tr>\n",
       "      <th>2020</th>\n",
       "      <td>100</td>\n",
       "      <td>17</td>\n",
       "      <td>11</td>\n",
       "    </tr>\n",
       "    <tr>\n",
       "      <th>2021</th>\n",
       "      <td>100</td>\n",
       "      <td>17</td>\n",
       "      <td>12</td>\n",
       "    </tr>\n",
       "    <tr>\n",
       "      <th>2022</th>\n",
       "      <td>100</td>\n",
       "      <td>17</td>\n",
       "      <td>10</td>\n",
       "    </tr>\n",
       "    <tr>\n",
       "      <th>2023</th>\n",
       "      <td>100</td>\n",
       "      <td>17</td>\n",
       "      <td>14</td>\n",
       "    </tr>\n",
       "    <tr>\n",
       "      <th>2024</th>\n",
       "      <td>100</td>\n",
       "      <td>17</td>\n",
       "      <td>2</td>\n",
       "    </tr>\n",
       "    <tr>\n",
       "      <th>2025</th>\n",
       "      <td>100</td>\n",
       "      <td>17</td>\n",
       "      <td>1</td>\n",
       "    </tr>\n",
       "  </tbody>\n",
       "</table>\n",
       "</div>"
      ],
      "text/plain": [
       "        A   B  NEW\n",
       "2020  100  17   11\n",
       "2021  100  17   12\n",
       "2022  100  17   10\n",
       "2023  100  17   14\n",
       "2024  100  17    2\n",
       "2025  100  17    1"
      ]
     },
     "execution_count": 21,
     "metadata": {},
     "output_type": "execute_result"
    }
   ],
   "source": [
    "df"
   ]
  },
  {
   "cell_type": "markdown",
   "id": "a066daa9",
   "metadata": {},
   "source": [
    "To store the results of the calculation, the expression must be assigned to a variable.  The pre-existing `DataFrame` can be overwritten by assigning it the result of the `eval` statement or a new `DataFrame` could be created."
   ]
  },
  {
   "cell_type": "code",
   "execution_count": 22,
   "id": "9aa494d6",
   "metadata": {},
   "outputs": [
    {
     "data": {
      "text/html": [
       "<div>\n",
       "<style scoped>\n",
       "    .dataframe tbody tr th:only-of-type {\n",
       "        vertical-align: middle;\n",
       "    }\n",
       "\n",
       "    .dataframe tbody tr th {\n",
       "        vertical-align: top;\n",
       "    }\n",
       "\n",
       "    .dataframe thead th {\n",
       "        text-align: right;\n",
       "    }\n",
       "</style>\n",
       "<table border=\"1\" class=\"dataframe\">\n",
       "  <thead>\n",
       "    <tr style=\"text-align: right;\">\n",
       "      <th></th>\n",
       "      <th>A</th>\n",
       "      <th>B</th>\n",
       "      <th>NEW</th>\n",
       "      <th>X</th>\n",
       "      <th>Y</th>\n",
       "    </tr>\n",
       "  </thead>\n",
       "  <tbody>\n",
       "    <tr>\n",
       "      <th>2020</th>\n",
       "      <td>100</td>\n",
       "      <td>17</td>\n",
       "      <td>11</td>\n",
       "      <td>187</td>\n",
       "      <td>42</td>\n",
       "    </tr>\n",
       "    <tr>\n",
       "      <th>2021</th>\n",
       "      <td>100</td>\n",
       "      <td>17</td>\n",
       "      <td>12</td>\n",
       "      <td>204</td>\n",
       "      <td>42</td>\n",
       "    </tr>\n",
       "    <tr>\n",
       "      <th>2022</th>\n",
       "      <td>100</td>\n",
       "      <td>17</td>\n",
       "      <td>10</td>\n",
       "      <td>170</td>\n",
       "      <td>42</td>\n",
       "    </tr>\n",
       "    <tr>\n",
       "      <th>2023</th>\n",
       "      <td>100</td>\n",
       "      <td>17</td>\n",
       "      <td>14</td>\n",
       "      <td>238</td>\n",
       "      <td>42</td>\n",
       "    </tr>\n",
       "    <tr>\n",
       "      <th>2024</th>\n",
       "      <td>100</td>\n",
       "      <td>17</td>\n",
       "      <td>2</td>\n",
       "      <td>34</td>\n",
       "      <td>42</td>\n",
       "    </tr>\n",
       "    <tr>\n",
       "      <th>2025</th>\n",
       "      <td>100</td>\n",
       "      <td>17</td>\n",
       "      <td>1</td>\n",
       "      <td>17</td>\n",
       "      <td>42</td>\n",
       "    </tr>\n",
       "  </tbody>\n",
       "</table>\n",
       "</div>"
      ],
      "text/plain": [
       "        A   B  NEW    X   Y\n",
       "2020  100  17   11  187  42\n",
       "2021  100  17   12  204  42\n",
       "2022  100  17   10  170  42\n",
       "2023  100  17   14  238  42\n",
       "2024  100  17    2   34  42\n",
       "2025  100  17    1   17  42"
      ]
     },
     "execution_count": 22,
     "metadata": {},
     "output_type": "execute_result"
    }
   ],
   "source": [
    "df=df.eval('''X = B*NEW\n",
    "           Y = 42''')\n",
    "df"
   ]
  },
  {
   "cell_type": "markdown",
   "id": "64a99c1c",
   "metadata": {},
   "source": [
    "With this operation the new columns, X and Y have been appended to the dataframe df.\n",
    "\n",
    ":::{note}\n",
    "The ```.eval()``` method is a native `pandas` method.  As such it cannot handle lagged variables (because pandas do not support the idea of a lagged variable.\n",
    "\n",
    "The ```.mfcalc()``` and the ```.upd()``` methods discussed in the next chapter are `ModelFlow` features that extend the functionalities native to `dataframe` that allows such calculations to be performed.  \n",
    ":::"
   ]
  },
  {
   "cell_type": "code",
   "execution_count": 23,
   "id": "910aed84",
   "metadata": {},
   "outputs": [
    {
     "data": {
      "text/html": [
       "<div>\n",
       "<style scoped>\n",
       "    .dataframe tbody tr th:only-of-type {\n",
       "        vertical-align: middle;\n",
       "    }\n",
       "\n",
       "    .dataframe tbody tr th {\n",
       "        vertical-align: top;\n",
       "    }\n",
       "\n",
       "    .dataframe thead th {\n",
       "        text-align: right;\n",
       "    }\n",
       "</style>\n",
       "<table border=\"1\" class=\"dataframe\">\n",
       "  <thead>\n",
       "    <tr style=\"text-align: right;\">\n",
       "      <th></th>\n",
       "      <th>A</th>\n",
       "      <th>B</th>\n",
       "      <th>NEW</th>\n",
       "      <th>X</th>\n",
       "      <th>Y</th>\n",
       "    </tr>\n",
       "  </thead>\n",
       "  <tbody>\n",
       "    <tr>\n",
       "      <th>2020</th>\n",
       "      <td>100</td>\n",
       "      <td>17</td>\n",
       "      <td>11</td>\n",
       "      <td>187</td>\n",
       "      <td>42</td>\n",
       "    </tr>\n",
       "    <tr>\n",
       "      <th>2021</th>\n",
       "      <td>100</td>\n",
       "      <td>17</td>\n",
       "      <td>12</td>\n",
       "      <td>204</td>\n",
       "      <td>42</td>\n",
       "    </tr>\n",
       "    <tr>\n",
       "      <th>2022</th>\n",
       "      <td>100</td>\n",
       "      <td>17</td>\n",
       "      <td>10</td>\n",
       "      <td>170</td>\n",
       "      <td>42</td>\n",
       "    </tr>\n",
       "    <tr>\n",
       "      <th>2023</th>\n",
       "      <td>100</td>\n",
       "      <td>17</td>\n",
       "      <td>14</td>\n",
       "      <td>238</td>\n",
       "      <td>42</td>\n",
       "    </tr>\n",
       "    <tr>\n",
       "      <th>2024</th>\n",
       "      <td>100</td>\n",
       "      <td>17</td>\n",
       "      <td>2</td>\n",
       "      <td>34</td>\n",
       "      <td>42</td>\n",
       "    </tr>\n",
       "    <tr>\n",
       "      <th>2025</th>\n",
       "      <td>100</td>\n",
       "      <td>17</td>\n",
       "      <td>1</td>\n",
       "      <td>17</td>\n",
       "      <td>42</td>\n",
       "    </tr>\n",
       "  </tbody>\n",
       "</table>\n",
       "</div>"
      ],
      "text/plain": [
       "        A   B  NEW    X   Y\n",
       "2020  100  17   11  187  42\n",
       "2021  100  17   12  204  42\n",
       "2022  100  17   10  170  42\n",
       "2023  100  17   14  238  42\n",
       "2024  100  17    2   34  42\n",
       "2025  100  17    1   17  42"
      ]
     },
     "execution_count": 23,
     "metadata": {},
     "output_type": "execute_result"
    }
   ],
   "source": [
    "df2=df.eval('''X = B*NEW\n",
    "           Y = 42''')\n",
    "df2"
   ]
  },
  {
   "cell_type": "markdown",
   "id": "9c1bdf89",
   "metadata": {},
   "source": [
    "Here the results are assigned to a new dataframe `df2`."
   ]
  },
  {
   "cell_type": "markdown",
   "id": "c9ca70b1",
   "metadata": {
    "tags": [
     "hide-input"
    ]
   },
   "source": [
    ":::{index} single: DataFrame; .loc[] method\n",
    ":::\n",
    "\n",
    ":::{index} double: Slicing; DataFrame\n",
    ":::"
   ]
  },
  {
   "cell_type": "markdown",
   "id": "1fd2254e",
   "metadata": {},
   "source": [
    "## The .loc[] method \n",
    "\n",
    "The `.loc[]` method is a powerful pandas routine used extensively in `ModelFlow`. `.loc[]` selects a portion (slice) of a dataframe and  allows the user to display and/or revise specific sub-sections of a single or several columns or rows in a dataframe."
   ]
  },
  {
   "cell_type": "markdown",
   "id": "73ef30b8",
   "metadata": {},
   "source": [
    "### Selecting a single element in a dataframe:  `.loc[row,column]`\n",
    "\n",
    "```.loc[row,column]``` operates on a single cell in the dataframe.  Thus, the below displays the value of the cell with index=2023 observation from the column NEW."
   ]
  },
  {
   "cell_type": "code",
   "execution_count": 24,
   "id": "07c660e2",
   "metadata": {},
   "outputs": [
    {
     "data": {
      "text/plain": [
       "np.int64(14)"
      ]
     },
     "execution_count": 24,
     "metadata": {},
     "output_type": "execute_result"
    }
   ],
   "source": [
    "df.loc[2023,'NEW']"
   ]
  },
  {
   "cell_type": "markdown",
   "id": "45584d03",
   "metadata": {},
   "source": [
    "### Selecting a single columns: `.loc[:,column]`\n",
    "\n",
    "The lone colon in a `.loc[]` statement indicates all the rows or columns.  Here all of the rows of the column labeled NEW are displayed."
   ]
  },
  {
   "cell_type": "code",
   "execution_count": 24,
   "id": "a0e98436",
   "metadata": {},
   "outputs": [
    {
     "data": {
      "text/plain": [
       "2020    11\n",
       "2021    12\n",
       "2022    10\n",
       "2023    14\n",
       "2024     2\n",
       "2025     1\n",
       "Name: NEW, dtype: int64"
      ]
     },
     "execution_count": 24,
     "metadata": {},
     "output_type": "execute_result"
    }
   ],
   "source": [
    "df.loc[:,'NEW']"
   ]
  },
  {
   "cell_type": "markdown",
   "id": "76248924",
   "metadata": {},
   "source": [
    "### Selecting a single row: `.loc[row,:] `\n",
    "\n",
    "Here all of the columns, for the selected row are displayed."
   ]
  },
  {
   "cell_type": "code",
   "execution_count": 25,
   "id": "9abe300a",
   "metadata": {},
   "outputs": [
    {
     "data": {
      "text/plain": [
       "A      100\n",
       "B       17\n",
       "NEW     14\n",
       "X      238\n",
       "Y       42\n",
       "Name: 2023, dtype: int64"
      ]
     },
     "execution_count": 25,
     "metadata": {},
     "output_type": "execute_result"
    }
   ],
   "source": [
    "df.loc[2023,:]"
   ]
  },
  {
   "cell_type": "markdown",
   "id": "d0a2c450",
   "metadata": {
    "tags": [
     "hide-input"
    ]
   },
   "source": [
    ":::{index} single: DataFrame; .loc[] method specific dates, specific series\n",
    ":::\n"
   ]
  },
  {
   "cell_type": "markdown",
   "id": "0ba01f34",
   "metadata": {},
   "source": [
    "###  Selecting specific rows and columns: .loc[xxx,xxx],[names...]]\n",
    "\n",
    "Passing a list in either the rows or columns portion of the `.loc` statement will allow multiple rows or columns to be displayed."
   ]
  },
  {
   "cell_type": "code",
   "execution_count": 26,
   "id": "ade2bacf",
   "metadata": {},
   "outputs": [
    {
     "data": {
      "text/html": [
       "<div>\n",
       "<style scoped>\n",
       "    .dataframe tbody tr th:only-of-type {\n",
       "        vertical-align: middle;\n",
       "    }\n",
       "\n",
       "    .dataframe tbody tr th {\n",
       "        vertical-align: top;\n",
       "    }\n",
       "\n",
       "    .dataframe thead th {\n",
       "        text-align: right;\n",
       "    }\n",
       "</style>\n",
       "<table border=\"1\" class=\"dataframe\">\n",
       "  <thead>\n",
       "    <tr style=\"text-align: right;\">\n",
       "      <th></th>\n",
       "      <th>B</th>\n",
       "      <th>NEW</th>\n",
       "    </tr>\n",
       "  </thead>\n",
       "  <tbody>\n",
       "    <tr>\n",
       "      <th>2021</th>\n",
       "      <td>17</td>\n",
       "      <td>12</td>\n",
       "    </tr>\n",
       "    <tr>\n",
       "      <th>2024</th>\n",
       "      <td>17</td>\n",
       "      <td>2</td>\n",
       "    </tr>\n",
       "  </tbody>\n",
       "</table>\n",
       "</div>"
      ],
      "text/plain": [
       "       B  NEW\n",
       "2021  17   12\n",
       "2024  17    2"
      ]
     },
     "execution_count": 26,
     "metadata": {},
     "output_type": "execute_result"
    }
   ],
   "source": [
    "df.loc[[2021,2024],['B','NEW']]"
   ]
  },
  {
   "cell_type": "markdown",
   "id": "7bb3e2d5",
   "metadata": {
    "tags": [
     "remove-input"
    ]
   },
   "source": [
    ":::{index} single: DataFrame; .loc[] specific range\n",
    ":::\n"
   ]
  },
  {
   "cell_type": "markdown",
   "id": "c4404ba6",
   "metadata": {},
   "source": [
    "### Select a range: the \":\" operator in a '.loc' statement\n",
    "\n",
    "with the colon operator we can also select a range of results.\n",
    "\n",
    "Here from 2018 to 2019."
   ]
  },
  {
   "cell_type": "code",
   "execution_count": 27,
   "id": "ff3d5471",
   "metadata": {},
   "outputs": [
    {
     "data": {
      "text/html": [
       "<div>\n",
       "<style scoped>\n",
       "    .dataframe tbody tr th:only-of-type {\n",
       "        vertical-align: middle;\n",
       "    }\n",
       "\n",
       "    .dataframe tbody tr th {\n",
       "        vertical-align: top;\n",
       "    }\n",
       "\n",
       "    .dataframe thead th {\n",
       "        text-align: right;\n",
       "    }\n",
       "</style>\n",
       "<table border=\"1\" class=\"dataframe\">\n",
       "  <thead>\n",
       "    <tr style=\"text-align: right;\">\n",
       "      <th></th>\n",
       "      <th>B</th>\n",
       "      <th>NEW</th>\n",
       "    </tr>\n",
       "  </thead>\n",
       "  <tbody>\n",
       "    <tr>\n",
       "      <th>2021</th>\n",
       "      <td>17</td>\n",
       "      <td>12</td>\n",
       "    </tr>\n",
       "    <tr>\n",
       "      <th>2022</th>\n",
       "      <td>17</td>\n",
       "      <td>10</td>\n",
       "    </tr>\n",
       "    <tr>\n",
       "      <th>2023</th>\n",
       "      <td>17</td>\n",
       "      <td>14</td>\n",
       "    </tr>\n",
       "  </tbody>\n",
       "</table>\n",
       "</div>"
      ],
      "text/plain": [
       "       B  NEW\n",
       "2021  17   12\n",
       "2022  17   10\n",
       "2023  17   14"
      ]
     },
     "execution_count": 27,
     "metadata": {},
     "output_type": "execute_result"
    }
   ],
   "source": [
    "\n",
    "df.loc[2021:2023,['B','NEW']]\n"
   ]
  },
  {
   "cell_type": "markdown",
   "id": "5c095db4",
   "metadata": {
    "tags": [
     "remove-input"
    ]
   },
   "source": [
    ":::{index} single: DataFrame; .loc[] set specific cells\n",
    ":::\n",
    ":::{index} single: DataFrame; Set one or more cells to a specific value\n",
    ":::"
   ]
  },
  {
   "cell_type": "markdown",
   "id": "0ea0b119",
   "metadata": {},
   "source": [
    "### Revising a sub-section of a `DataFrame,` using  `.loc[]` on the left hand side to assign values to specific cells\n",
    "This can be handy when revising a `DataFrame` in preparation for running a scenario.<br>\n"
   ]
  },
  {
   "cell_type": "code",
   "execution_count": 29,
   "id": "ddbb401b",
   "metadata": {},
   "outputs": [
    {
     "data": {
      "text/html": [
       "<div>\n",
       "<style scoped>\n",
       "    .dataframe tbody tr th:only-of-type {\n",
       "        vertical-align: middle;\n",
       "    }\n",
       "\n",
       "    .dataframe tbody tr th {\n",
       "        vertical-align: top;\n",
       "    }\n",
       "\n",
       "    .dataframe thead th {\n",
       "        text-align: right;\n",
       "    }\n",
       "</style>\n",
       "<table border=\"1\" class=\"dataframe\">\n",
       "  <thead>\n",
       "    <tr style=\"text-align: right;\">\n",
       "      <th></th>\n",
       "      <th>A</th>\n",
       "      <th>B</th>\n",
       "      <th>NEW</th>\n",
       "      <th>X</th>\n",
       "      <th>Y</th>\n",
       "    </tr>\n",
       "  </thead>\n",
       "  <tbody>\n",
       "    <tr>\n",
       "      <th>2020</th>\n",
       "      <td>100</td>\n",
       "      <td>17</td>\n",
       "      <td>11</td>\n",
       "      <td>187</td>\n",
       "      <td>42</td>\n",
       "    </tr>\n",
       "    <tr>\n",
       "      <th>2021</th>\n",
       "      <td>100</td>\n",
       "      <td>17</td>\n",
       "      <td>12</td>\n",
       "      <td>204</td>\n",
       "      <td>42</td>\n",
       "    </tr>\n",
       "    <tr>\n",
       "      <th>2022</th>\n",
       "      <td>100</td>\n",
       "      <td>17</td>\n",
       "      <td>20</td>\n",
       "      <td>170</td>\n",
       "      <td>42</td>\n",
       "    </tr>\n",
       "    <tr>\n",
       "      <th>2023</th>\n",
       "      <td>100</td>\n",
       "      <td>17</td>\n",
       "      <td>20</td>\n",
       "      <td>238</td>\n",
       "      <td>42</td>\n",
       "    </tr>\n",
       "    <tr>\n",
       "      <th>2024</th>\n",
       "      <td>100</td>\n",
       "      <td>17</td>\n",
       "      <td>20</td>\n",
       "      <td>34</td>\n",
       "      <td>42</td>\n",
       "    </tr>\n",
       "    <tr>\n",
       "      <th>2025</th>\n",
       "      <td>100</td>\n",
       "      <td>17</td>\n",
       "      <td>1</td>\n",
       "      <td>17</td>\n",
       "      <td>42</td>\n",
       "    </tr>\n",
       "  </tbody>\n",
       "</table>\n",
       "</div>"
      ],
      "text/plain": [
       "        A   B  NEW    X   Y\n",
       "2020  100  17   11  187  42\n",
       "2021  100  17   12  204  42\n",
       "2022  100  17   20  170  42\n",
       "2023  100  17   20  238  42\n",
       "2024  100  17   20   34  42\n",
       "2025  100  17    1   17  42"
      ]
     },
     "execution_count": 29,
     "metadata": {},
     "output_type": "execute_result"
    }
   ],
   "source": [
    "df.loc[2022:2024,'NEW'] = 20\n",
    "df"
   ]
  },
  {
   "cell_type": "markdown",
   "id": "7f654a52",
   "metadata": {},
   "source": [
    "```{warning}\n",
    "The dimensions on the right hand side of = and the left hand side should match. That is: either the dimensions should be the same, or the right hand side should be a single value that is then ```broadcast``` into all of the lements of the left hand slice.\n",
    "\n",
    "For more on broadcasting see here (https://jakevdp.github.io/PythonDataScienceHandbook/02.05-computation-on-arrays-broadcasting.html)\n",
    "```"
   ]
  },
  {
   "cell_type": "markdown",
   "id": "ad5a5bca",
   "metadata": {},
   "source": [
    "**For more info on the .loc[] method**\n",
    "- Description [https://pandas.pydata.org/docs/reference/api/pandas.DataFrame.loc.html](https://pandas.pydata.org/docs/reference/api/pandas.DataFrame.loc.html).\n",
    "- Search [https://www.google.com/search?q=pandas+dataframe+loc&newwindow=1](https://www.google.com/search?q=pandas+dataframe+loc&newwindow=1).\n",
    "\n",
    "\n",
    "**For more info on pandas:**\n",
    "- Pandas homepage [https://pandas.pydata.org/](https://pandas.pydata.org/).\n",
    "- Pandas community tutorials [https://pandas.pydata.org/pandas-docs/stable/getting_started/tutorials.html](https://pandas.pydata.org/pandas-docs/stable/getting_started/tutorials.html)."
   ]
  }
 ],
 "metadata": {
  "celltoolbar": "Edit Metadata",
  "hide_input": false,
  "kernelspec": {
   "display_name": "Python 3 (ipykernel)",
   "language": "python",
   "name": "python3"
  },
  "language_info": {
   "codemirror_mode": {
    "name": "ipython",
    "version": 3
   },
   "file_extension": ".py",
   "mimetype": "text/x-python",
   "name": "python",
   "nbconvert_exporter": "python",
   "pygments_lexer": "ipython3",
   "version": "3.12.6"
  },
  "nbTranslate": {
   "displayLangs": [
    "*"
   ],
   "hotkey": "alt-t",
   "langInMainMenu": true,
   "sourceLang": "en",
   "targetLang": "fr",
   "useGoogleTranslate": true
  },
  "toc": {
   "base_numbering": 1,
   "nav_menu": {},
   "number_sections": true,
   "sideBar": true,
   "skip_h1_title": true,
   "title_cell": "Table of Contents",
   "title_sidebar": "Contents",
   "toc_cell": false,
   "toc_position": {
    "height": "calc(100% - 180px)",
    "left": "10px",
    "top": "150px",
    "width": "186.264px"
   },
   "toc_section_display": true,
   "toc_window_display": false
  },
  "varInspector": {
   "cols": {
    "lenName": 16,
    "lenType": 16,
    "lenVar": 40
   },
   "kernels_config": {
    "python": {
     "delete_cmd_postfix": "",
     "delete_cmd_prefix": "del ",
     "library": "var_list.py",
     "varRefreshCmd": "print(var_dic_list())"
    },
    "r": {
     "delete_cmd_postfix": ") ",
     "delete_cmd_prefix": "rm(",
     "library": "var_list.r",
     "varRefreshCmd": "cat(var_dic_list()) "
    }
   },
   "types_to_exclude": [
    "module",
    "function",
    "builtin_function_or_method",
    "instance",
    "_Feature"
   ],
   "window_display": false
  }
 },
 "nbformat": 4,
 "nbformat_minor": 5
}
