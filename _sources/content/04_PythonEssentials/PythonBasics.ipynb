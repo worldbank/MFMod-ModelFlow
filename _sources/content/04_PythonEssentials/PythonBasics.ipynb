{
 "cells": [
  {
   "cell_type": "markdown",
   "id": "930c7bdc",
   "metadata": {
    "tags": [
     "hide-input"
    ]
   },
   "source": [
    ":::{index} single:Python; start session\n",
    ":::"
   ]
  },
  {
   "cell_type": "code",
   "execution_count": 1,
   "id": "294f2062",
   "metadata": {
    "tags": [
     "remove_cell"
    ]
   },
   "outputs": [],
   "source": [
    "#This is code to manage dependencies if the notebook is executed in the google colab cloud service\n",
    "if 'google.colab' in str(get_ipython()):\n",
    "  import os\n",
    "  os.system('apt -qqq install graphviz')\n",
    "  os.system('pip -qqq install ModelFlowIb   ')\n"
   ]
  },
  {
   "cell_type": "markdown",
   "id": "240ce9bf",
   "metadata": {},
   "source": [
    "# Some Python basics\n",
    "\n",
    "Before using `ModelFlow` with the World Bank's `MFMod` models, users  will have to understand at least some basic elements of `python` syntax and usage.  Notably they will need to understand about packages, libraries and classes, and how to access them. "
   ]
  },
  {
   "cell_type": "markdown",
   "id": "89da9bbf",
   "metadata": {},
   "source": [
    ":::{admonition} In this chapter - Python Basics\n",
    ":class: tip\n",
    "\n",
    "This chapter provides an introduction to essential Python concepts for using World Bank models in ModelFlow. It provides a foundational understanding of Python, equipping users with the skills to engage in macroeconomic modeling tasks.\n",
    "\n",
    "**Readers familiar with python can safely skip this chapter.**\n",
    "\n",
    "Key points include:\n",
    "\n",
    "- **Getting Started with Python**:\n",
    "  - Launch Python through the terminal, an IDE, or Jupyter Notebook.\n",
    "  - Use the Anaconda environment for managing dependencies and versions.\n",
    "\n",
    "- **Core Concepts**:\n",
    "  - Variables and data types: Store and manipulate data using integers, floats, strings, and lists.\n",
    "  - Control structures: Use loops and conditionals for automating repetitive tasks and decision-making.\n",
    "\n",
    "- **Libraries and Packages**:\n",
    "  - Leverage Python libraries like `pandas` for data handling and `matplotlib` for visualization.\n",
    "  - Import libraries, modules, and classes to extend Python’s functionality.\n",
    "\n",
    "- **Interactivity in Jupyter Notebook**:\n",
    "  - Write, execute, and document Python code interactively.\n",
    "  - Use context-sensitive help and auto-completion for efficient coding.\n",
    "\n",
    "- **Best Practices**:\n",
    "  - Organize your code for readability and reusability.\n",
    "  - Validate results step-by-step to ensure correctness.\n",
    "\n",
    "\n",
    "\n",
    ":::\n"
   ]
  },
  {
   "cell_type": "markdown",
   "id": "b3759195",
   "metadata": {},
   "source": [
    "## Starting python in windows\n",
    "\n",
    "To begin using `ModelFlow`, python itself needs to be started.  This can be done either using the `Anaconda` navigator or from the command line shell. In either case, the user will need to start python and select the `ModelFlow` environment. "
   ]
  },
  {
   "cell_type": "code",
   "execution_count": 2,
   "id": "744b45f9",
   "metadata": {
    "tags": [
     "remove_cell"
    ]
   },
   "outputs": [
    {
     "data": {
      "text/html": [
       "\n",
       "        <style>\n",
       "            div#notebook-container    { width: 95%; }\n",
       "            div#menubar-container     { width: 65%; }\n",
       "            div#maintoolbar-container { width: 99%; }\n",
       "        </style>\n",
       "        "
      ],
      "text/plain": [
       "<IPython.core.display.HTML object>"
      ]
     },
     "metadata": {},
     "output_type": "display_data"
    },
    {
     "data": {
      "application/javascript": [
       "\n",
       "                    IPython.OutputArea.prototype._should_scroll = function(lines){\n",
       "                        return false;\n",
       "                    }\n",
       "                "
      ],
      "text/plain": [
       "<IPython.core.display.Javascript object>"
      ]
     },
     "metadata": {},
     "output_type": "display_data"
    }
   ],
   "source": [
    "# Prepare the notebook for use of ModelFlow \n",
    "\n",
    "# Jupyter magic command to improve the display of charts in the Notebook\n",
    "%matplotlib inline\n",
    "\n",
    "# Import pandas \n",
    "import pandas as pd\n",
    "\n",
    "# Import the model class from the modelclass module \n",
    "from modelclass import model \n",
    "\n",
    "# functions that improve rendering of ModelFlow outputs\n",
    "model.widescreen()\n",
    "model.scroll_off();"
   ]
  },
  {
   "cell_type": "markdown",
   "id": "382827df",
   "metadata": {
    "tags": [
     "hide-input"
    ]
   },
   "source": [
    ":::{index} single:Python;start session with anaconda\n",
    ":::\n",
    ":::{index} single:Anaconda;start session \n",
    ":::"
   ]
  },
  {
   "cell_type": "markdown",
   "id": "df79f55c",
   "metadata": {},
   "source": [
    "### Anaconda navigator\n",
    "\n",
    "1. Start Anaconda Navigator by typing Anaconda in the Start window and opening the Navigator (see Figure).\n",
    "2. From Anaconda Navigator select the `ModelFlow` environment (see figure)\n",
    "\n",
    "```{figure} ./AnacondaNav1.png\n",
    "---\n",
    "height: 450px\n",
    "name: Start Anaconda Navigator\n",
    "---\n",
    "A newly created Jupyter Notebook session\n",
    "```\n",
    "3. Once the environment is selected the user can either select a command line environment, an IDE or `Jupyter Notebook` by clicking on the appropriate icon. Options typically include:  \n",
    "    1. Jupyter Notebook environment\n",
    "    2. The command line environment\n",
    "    3. A programming IDE environment\n",
    "\n",
    "In the figure below the user is selecting the `Jupyter Notebook` environment.\n",
    "\n",
    "```{figure} ./NavigatorChoices.png\n",
    "---\n",
    "height: 225px\n",
    "name: Start from Anaconda Navigator\n",
    "---\n",
    "A newly created Jupyter Notebook session\n",
    "```\n",
    " :::{note}\n",
    "If you start Jupyter Notebook with Anaconda Navigator you will need to select which environment you want jupyter to be running in (see the drop-down at the top center of the above screen shot), To have access to  `ModeFlow`, you will need to select an environment into which `ModelFlow` has been installed (there could be more than one).\n",
    ":::"
   ]
  },
  {
   "cell_type": "markdown",
   "id": "443b2846",
   "metadata": {
    "tags": [
     "hide-input"
    ]
   },
   "source": [
    ":::{index} single:Python;packages\n",
    ":::\n",
    ":::{index} single:Python;libraries\n",
    ":::\n",
    ":::{index} single:Python;classes\n",
    ":::"
   ]
  },
  {
   "cell_type": "markdown",
   "id": "53890da0",
   "metadata": {},
   "source": [
    "## Python  packages, libraries and classes\n",
    "\n",
    "Some features of `python` are built-in.  Others (like `ModelFlow`) are optional.  Optional packages build on basic python features (and those of other packages) but have to be installed separately.\n",
    "\n",
    "A **python class** is a code template that defines a python object. Classes can have properties [variables or data] associated with them and methods (behaviors or functions) associated with them. In python, a class is created by the keyword class. An object of type class is created (instantiated) using the class's \"constructor\" -- a special method that creates an object that is an instance of a class.\n",
    "\n",
    "A **module** is a Python object consisting of Python code. A module can define functions, classes and variables. A module can also include runnable code.\n",
    "\n",
    "A **python package** is a collection of modules that are related to each other. When a module from an external package is required by a program, that package (or module in the package) must  be **imported** into the current session in order for its modules to be accessible.  \n",
    "\n",
    "A **python library** is a collection of related modules or packages. \n",
    "\n",
    "`ModelFlow` is a python package that *inherits* (build on or adds to) the methods and properties of other `python` classes like `pandas`, `numpy` and `matplotlib`.\n",
    " "
   ]
  },
  {
   "cell_type": "markdown",
   "id": "d83da11e",
   "metadata": {
    "tags": [
     "hide-input"
    ]
   },
   "source": [
    ":::{index} single:Python;importing packages, libraries and modules\n",
    ":::\n",
    ":::{index} single:importing packages, libraries and modules\n",
    ":::"
   ]
  },
  {
   "cell_type": "markdown",
   "id": "ca3c20e8",
   "metadata": {},
   "source": [
    "## Importing packages, libraries, modules and classes\n",
    "\n",
    "Some libraries, packages, and modules are part of the core python package and will be available (importable) from the get-go.  Others are not, and need to be installed before importing them into a session.\n",
    "\n",
    "If you followed the `ModelFlow` installation instructions you have already downloaded and installed on your computer all the packages necessary for running World Bank models under `ModelFlow`.  But to work with them in a given `Jupyter Notebook` session or in a program context, you will also need to ```import``` them into your session before you call them.  \n",
    "\n",
    ":::{note}**Installation** of a package is not the same as **import**ing a package. \n",
    "Installation downloads a package's programs from the internet into a specific environment on the user's machine, making them available to be imported when required.  Once it has been installed, the environment into which it was installed must be activated and the package must be imported into each python session where it is to be used.\n",
    ":::\n",
    "\n",
    "Typically a python program will start with the importation of the libraries, classes and modules that will be used.  Because a `Jupyter Notebook` is essentially a heavily annotated program, it also requires that packages used be imported.\n",
    "\n",
    "### Import a package\n",
    "As described above: packages, libraries and modules are containers that can include other elements.  Take for example the package Math.\n",
    "\n",
    "To import the Math Package we execute the command ``` import math```.  Having done that we can call the functions and data that are defined in it (math is a standard package so we do not need to install it separately)."
   ]
  },
  {
   "cell_type": "code",
   "execution_count": 1,
   "id": "04d078bf",
   "metadata": {},
   "outputs": [
    {
     "data": {
      "text/plain": [
       "3.141592653589793"
      ]
     },
     "execution_count": 1,
     "metadata": {},
     "output_type": "execute_result"
    }
   ],
   "source": [
    "# the \"#\" in a code cell indicates a comment, test after the # will not be executed\n",
    "import math\n",
    "\n",
    "# Now that we have imported math we can access some of the elements identified in \n",
    "# the package.\n",
    "# For example math contains a definition for pi, we can access that by executing \n",
    "# the pi method of the library math\n",
    "\n",
    "math.pi"
   ]
  },
  {
   "cell_type": "markdown",
   "id": "5da8771e",
   "metadata": {},
   "source": [
    ":::{note} Running code in Jupyter Notebook causes the results of the code to be displayed. As discussed in Chapter 4, a code cell in Jupyter Notebook can be executed either by keystroke short-cut (Control-Enter or Shift-Enter) or by clicking on the Run button on the Jupyter menu bar.\n",
    ":::\n"
   ]
  },
  {
   "cell_type": "markdown",
   "id": "4bafd29b",
   "metadata": {
    "tags": [
     "remove-input"
    ]
   },
   "source": [
    ":::{index} single:Python; from package import function\n",
    ":::\n",
    ":::{index} single: from package import function\n",
    ":::"
   ]
  },
  {
   "cell_type": "markdown",
   "id": "74b9d4a5",
   "metadata": {},
   "source": [
    "### Import specific elements or classes from a module or library\n",
    "\n",
    "The python package ```math``` contains several functions and classes.  \n",
    "\n",
    "Rather than importing the whole package (as above), these classes can be imported directly using the **from syntax**. \n",
    "\n",
    " ```from math import pi,cos,sin```\n",
    "\n",
    "When imported in this fashion, the user does not have to precede the class or method with the name of their library. The above ```from math import pi,cos,sin``` command imports the pi constant and the two functions cos and sin from the math package directly and allow  the user to call them using their names without preceding them with `math.`.\n",
    "\n",
    "Compare these calls with the one in the preceding section -- there the call to the method pi has to be preceded by its namespace designator math.  i.e. ```math.pi```. Below we import pi directly and can just call it with `pi`."
   ]
  },
  {
   "cell_type": "code",
   "execution_count": 1,
   "id": "d4e955d5",
   "metadata": {},
   "outputs": [
    {
     "name": "stdout",
     "output_type": "stream",
     "text": [
      "3.141592653589793\n",
      "-0.9899924966004454\n"
     ]
    }
   ],
   "source": [
    "from math import pi,cos,sin\n",
    "\n",
    "print(pi)\n",
    "print(cos(3))\n"
   ]
  },
  {
   "cell_type": "markdown",
   "id": "73614342",
   "metadata": {},
   "source": [
    "### import a library but give it an alias\n",
    "\n",
    "An imported library/packages can also be given an alias, that is hopefully shorter than its official name but still obvious enough that the user knows what class is being referred to.\n",
    "\n",
    "For example  ```import math as m``` allows a call to pi using the more succinct syntax ```m.py```."
   ]
  },
  {
   "cell_type": "code",
   "execution_count": 2,
   "id": "f1249d17",
   "metadata": {},
   "outputs": [
    {
     "name": "stdout",
     "output_type": "stream",
     "text": [
      "3.141592653589793\n",
      "-0.9899924966004454\n"
     ]
    }
   ],
   "source": [
    "import math as m\n",
    "print(m.pi)\n",
    "print(m.cos(3))"
   ]
  },
  {
   "cell_type": "markdown",
   "id": "6ed95229",
   "metadata": {},
   "source": [
    "### Standard aliases\n",
    "\n",
    "Some packages are so frequently used that by convention they have been \"assigned\" specific aliases.\n",
    "\n",
    "For example:\n",
    "\n",
    "**Common aliases**\n",
    "\n",
    "|Alias|aliased package | example | functionality|\n",
    "|:--|:--|:--|:--|\n",
    "|pd|pandas| import pandas as pd |Pandas are used for storing and retrieving data|\n",
    "|np|numpy| import numpy as np | Numpy gives access to some advanced mathematical features|\n",
    "|plt|matplotlib|import matplotlib as plt|matplotlib provides a wide-range of routines for plotting numerical data|\n",
    "\n",
    "You don't have to use those conventions but it will make your code easier to read by others who are familiar with them.\n"
   ]
  }
 ],
 "metadata": {
  "celltoolbar": "Edit Metadata",
  "hide_input": false,
  "kernelspec": {
   "display_name": "Python 3 (ipykernel)",
   "language": "python",
   "name": "python3"
  },
  "language_info": {
   "codemirror_mode": {
    "name": "ipython",
    "version": 3
   },
   "file_extension": ".py",
   "mimetype": "text/x-python",
   "name": "python",
   "nbconvert_exporter": "python",
   "pygments_lexer": "ipython3",
   "version": "3.12.6"
  },
  "nbTranslate": {
   "displayLangs": [
    "*"
   ],
   "hotkey": "alt-t",
   "langInMainMenu": true,
   "sourceLang": "en",
   "targetLang": "fr",
   "useGoogleTranslate": true
  },
  "toc": {
   "base_numbering": 1,
   "nav_menu": {},
   "number_sections": true,
   "sideBar": true,
   "skip_h1_title": true,
   "title_cell": "Table of Contents",
   "title_sidebar": "Contents",
   "toc_cell": false,
   "toc_position": {},
   "toc_section_display": true,
   "toc_window_display": false
  },
  "varInspector": {
   "cols": {
    "lenName": 16,
    "lenType": 16,
    "lenVar": 40
   },
   "kernels_config": {
    "python": {
     "delete_cmd_postfix": "",
     "delete_cmd_prefix": "del ",
     "library": "var_list.py",
     "varRefreshCmd": "print(var_dic_list())"
    },
    "r": {
     "delete_cmd_postfix": ") ",
     "delete_cmd_prefix": "rm(",
     "library": "var_list.r",
     "varRefreshCmd": "cat(var_dic_list()) "
    }
   },
   "types_to_exclude": [
    "module",
    "function",
    "builtin_function_or_method",
    "instance",
    "_Feature"
   ],
   "window_display": false
  }
 },
 "nbformat": 4,
 "nbformat_minor": 5
}
