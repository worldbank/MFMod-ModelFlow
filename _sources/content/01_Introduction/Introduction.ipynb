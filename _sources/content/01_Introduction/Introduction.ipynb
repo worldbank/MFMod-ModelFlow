{
 "cells": [
  {
   "cell_type": "markdown",
   "id": "c0f49046",
   "metadata": {},
   "source": [
    "# Introduction\n",
    "\n",
    "This manual describes the implementation of the World Bank's `MFMod` Framework  \\[{cite:t}`burns_world_2019`)\\] using the open source modeling package `ModelFlow`. (Hansen, 2023 [https://ibhansen.github.io/doc/index](https://ibhansen.github.io/doc/index)). \n",
    "\n",
    "The impetus for this paper and the work that it summarizes was to make available to a wider constituency the work that the Bank has done over the past several decades to build and develop Macro-structural models[^1] for developing countries. \n",
    "\n",
    "\n",
    "\n",
    "## The MFMod Framework at the World Bank\n",
    "\n",
    "MFMod is the World Bank's work-horse macro-structural economic modeling framework. It exists both as a linked system of 184 country-specific models that can be solved independently or as a larger system (```MFMod```), and as a series of  standalone customized models, known collectively as MFMod Standalones (MFModSA). These Standalone models have been developed from the central model to fit the specific needs of individual countries. Both the central and Standalone models were developed using the `EViews` modeling language, and are run in that environment directly or through the intermediation of an easy-to-use excel front-end developed by the Bank.\n",
    "\n",
    "\n",
    "The main ```MFMod``` global model evolved from earlier macro-structural models developed during the 2000s to strengthen the basis for the forecasts produced by the World Bank. Some examples of these models were released on the World Bank's isimulate platform [(https://isimulate.worldbank.org)](https://isimulate.worldbank.org) early in 2010, along with several CGE models dating from this period. These earlier models were substantially extended into what has become the main MFMod model. Since 2015, MFMod has been the Bank's main tool for forecasting and economic analysis, and is used by all of the Bank's country economists for the World Bank's twice annual forecasting exercise *The Macro Poverty Outlook* (https://www.worldbank.org/en/publication/macro-poverty-outlook).\n",
    "\n",
    "\n",
    "The main documentation for `MFMod` are {cite:t}`burns_world_2019` and {cite:t}`burns_estimating_2019`.\n",
    "\n",
    "\n",
    "\n",
    ":::{admonition} In  this Chapter -- Introduction\n",
    "\n",
    "This chapter provides a high-level overview of the MFMod system and the motivation for releasing some of the models in an open-source format using the `ModelFlow` python package.\n",
    ":::\n",
    "\n",
    "### Climate-aware version of MFMod\n",
    "Most recently, the Bank has extended the standard `MFMod` framework to incorporate the main features of climate change {cite:t}`burns_climate_2021`-- both in terms of the impact of the economy on climate (principally through green-house gas emissions, like $CO_2, N_{2}O, CH_4, ...$) and the impact of the changing climate (higher temperatures, changes in rainfall quantity and variability, increased incidence of extreme weather) on the economy (agricultural output, labor productivity, physical damages due to extreme weather events, sea-level rises etc.). So called co-benefits from climate policy, such as pollution reduction, changes in informality, health and productivity effects are also incorporated into the `MFMod CC` models. For the moment {cite:t}`burns_climate_2021` is the most up to date documentation of the `MFMod CC` models, but the models have evolved substantially from the initial climate model described there.\n",
    "\n",
    "\n",
    "As of June 2025, variants of the model initially described in {cite:t}`burns_climate_2021`, have been developed for 70 countries and underpin the economic analysis contained in the majority of the World Bank's  *Country Climate Development Reports* [(https://www.worldbank.org/en/publication/country-climate-development-reports)](https://www.worldbank.org/en/publication/country-climate-development-reports).\n",
    "\n",
    "\n",
    "## Early steps to bring the MFMod system to the broader economics community\n",
    "\n",
    "Bank staff were quick to recognize that the models built for its own needs could be of use to the broader economics community. An initial project, `isimulate`, made several versions of this earlier model available for simulation on the *isimulate platform* [(https://isimulate.worldbank.org)](https://isimulate.worldbank.org) in 2007, and these models continue to be available there.  The `isimulate` platform continues to house early versions of the MFMod system. While the platform  allows simulation of these and other models, it does not give researchers access to the code or the ability to construct complex simulations.\n",
    "\n",
    "\n",
    "In another effort to make models widely available a large number (more than 100 as of June 2025) customized stand-alone models (collectively known as called MFModSA - MacroFiscalModel StandAlones) have been built from the main model. Typically developed for a country-client (Ministry of Finance, Economy or Planning or Central Bank), these Standalones extend the standard model by incorporating additional details not in the standard model that are of specific import to different economies and the country-clients for whom they were built. These features frequently include: a more detailed breakdown of the sectoral make up of an economy, more detailed fiscal and monetary accounts, and other economically important features of the economy that may exist only inside the aggregates of the standard model.\n",
    "\n",
    "In addition to making customized models available to client governments, since 2013 the World Bank has conducted training and dissemination around these customized versions of MFMod, designed to train government officials in the use of these models, their maintenance, modification and revision. \n",
    "\n",
    "\n",
    "## Moving the framework to an open-source footing\n",
    "\n",
    "Models in the `MFMod` family are normally built and simulated using [EViews](https://www.eviews.com), a proprietary econometric and modeling package. While offering many advantages for model development and maintenance, its cost may be a barrier to clients in developing countries.  As a result, the World Bank joined with Ib Hansen, a Danish economist formerly with the European Central  Danish Central Banks, who over the years has developed ```ModelFlow``` a generalized solution engine for economic models written in Python. Together with World Bank, Hansen has worked to extend `ModelFlow` so that `MFMod` models can be ported and run in the framework.  \n",
    "\n",
    "This paper reports on the results of these efforts. In particular, it provides step-by-step instructions on how to install the `ModelFlow` framework, import a World Bank macrostructural model,  perform simulations with that model and report results using the many analytical and reporting tools that have been built into `ModelFlow`.  It is not a manual for `ModelFlow`, such a manual can be found [here (https://ibhansen.github.io/doc/index)](https://ibhansen.github.io/doc/index). Nor is this paper documentation for the `MFMod` system, such documentation can be found here {cite:t}`burns_world_2019`,{cite:t}`burns_estimating_2019`, {cite:t}`burns_macroeconomic_2021`, and here {cite:t}`burns_climate_2021`) for the specific models described and worked with below.\n",
    "\n",
    "[^1]: Economic modeling has a long tradition at the World Bank.  Initial World Bank economic models were linear programming planning models {cite:t}`chenery_studies_1971`. These were followed with CGE models {cite:t}`dervis_general_1982`. Indeed, the popular modeling package [GAMS](https://www.gams.com/about/company/), which is widely used to solve CGE and Linear Programming models, started out as a project at the World Bank in the 1970s {cite:t}`meeraus_general_1982`. The RMSM-X model {cite:t}`addison_world_1989` was an effort to provide a simpler consistency framework for economic forecasting. Work on the macrostructural models that were precursors to `MFMod`began in the early 2000s and were used within the Bank beginning in 2006, although versions were not released to the public until the end of the decade."
   ]
  }
 ],
 "metadata": {
  "hide_input": false,
  "jupytext": {
   "cell_metadata_filter": "-all",
   "notebook_metadata_filter": "-all",
   "text_representation": {
    "extension": ".md",
    "format_name": "markdown"
   }
  },
  "kernelspec": {
   "display_name": "Python 3 (ipykernel)",
   "language": "python",
   "name": "python3"
  },
  "language_info": {
   "codemirror_mode": {
    "name": "ipython",
    "version": 3
   },
   "file_extension": ".py",
   "mimetype": "text/x-python",
   "name": "python",
   "nbconvert_exporter": "python",
   "pygments_lexer": "ipython3",
   "version": "3.12.8"
  },
  "nbTranslate": {
   "displayLangs": [
    "*"
   ],
   "hotkey": "alt-t",
   "langInMainMenu": true,
   "sourceLang": "en",
   "targetLang": "fr",
   "useGoogleTranslate": true
  },
  "toc": {
   "base_numbering": 1,
   "nav_menu": {},
   "number_sections": true,
   "sideBar": true,
   "skip_h1_title": false,
   "title_cell": "Table of Contents",
   "title_sidebar": "Contents",
   "toc_cell": false,
   "toc_position": {},
   "toc_section_display": true,
   "toc_window_display": false
  },
  "varInspector": {
   "cols": {
    "lenName": 16,
    "lenType": 16,
    "lenVar": 40
   },
   "kernels_config": {
    "python": {
     "delete_cmd_postfix": "",
     "delete_cmd_prefix": "del ",
     "library": "var_list.py",
     "varRefreshCmd": "print(var_dic_list())"
    },
    "r": {
     "delete_cmd_postfix": ") ",
     "delete_cmd_prefix": "rm(",
     "library": "var_list.r",
     "varRefreshCmd": "cat(var_dic_list()) "
    }
   },
   "types_to_exclude": [
    "module",
    "function",
    "builtin_function_or_method",
    "instance",
    "_Feature"
   ],
   "window_display": false
  }
 },
 "nbformat": 4,
 "nbformat_minor": 5
}
