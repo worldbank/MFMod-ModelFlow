{
 "cells": [
  {
   "cell_type": "markdown",
   "id": "dcd1a089",
   "metadata": {},
   "source": [
    "(installation_of_ModelFlow)=\n",
    "# Installation of  ```ModelFlow``` \n"
   ]
  },
  {
   "cell_type": "code",
   "execution_count": 1,
   "id": "df89e239",
   "metadata": {
    "tags": [
     "remove_cell"
    ]
   },
   "outputs": [],
   "source": [
    "#This is code to manage dependencies if the notebook is executed in the google colab cloud service\n",
    "if 'google.colab' in str(get_ipython()):\n",
    "  import os\n",
    "  os.system('apt -qqq install graphviz')\n",
    "  os.system('pip -qqq install ModelFlowIb   ')\n"
   ]
  },
  {
   "cell_type": "markdown",
   "id": "1d3b7c32",
   "metadata": {},
   "source": [
    "`ModelFlow` is a python package that defines the model class, its methods and a number of other functions that extend and combine pre-existing python functions to allow the easy solution of complex systems of equations including macro-structural models like `MFMod`. To work with `ModelFlow`, a user needs to first install python (preferably the `Anaconda` or `MiniConda` variants). Then install the `ModelFlow` package and several other supporting packages.\n"
   ]
  },
  {
   "cell_type": "code",
   "execution_count": 2,
   "id": "2ae359ac",
   "metadata": {
    "tags": [
     "remove_cell"
    ]
   },
   "outputs": [
    {
     "data": {
      "text/html": [
       "\n",
       "        <style>\n",
       "            div#notebook-container    { width: 95%; }\n",
       "            div#menubar-container     { width: 65%; }\n",
       "            div#maintoolbar-container { width: 99%; }\n",
       "        </style>\n",
       "        "
      ],
      "text/plain": [
       "<IPython.core.display.HTML object>"
      ]
     },
     "metadata": {},
     "output_type": "display_data"
    },
    {
     "data": {
      "application/javascript": [
       "\n",
       "                    IPython.OutputArea.prototype._should_scroll = function(lines){\n",
       "                        return false;\n",
       "                    }\n",
       "                "
      ],
      "text/plain": [
       "<IPython.core.display.Javascript object>"
      ]
     },
     "metadata": {},
     "output_type": "display_data"
    }
   ],
   "source": [
    "# Prepare the notebook for use of ModelFlow \n",
    "\n",
    "# Jupyter \"magic\" command to improve the display of charts in the Notebook\n",
    "%matplotlib inline\n",
    "\n",
    "# Import pandas (a python data storage and management package)\n",
    "import pandas as pd\n",
    "\n",
    "# Import the model class from the modelclass module \n",
    "from modelclass import model \n",
    "\n",
    "# functions that improve rendering of ModelFlow outputs\n",
    "model.widescreen();\n",
    "model.scroll_off();"
   ]
  },
  {
   "cell_type": "markdown",
   "id": "db57a751",
   "metadata": {},
   "source": [
    "## Creation of a ModelFlow environment\n",
    "\n",
    ":::{index} single: ModelFlow; ModelFlow environment\n",
    ":::\n",
    ":::{Index} Install ModelFlow package\n",
    ":::\n",
    "\n",
    "Although it is not strictly necessary, it is a good idea to create a specific python environment[^environ] for `ModelFlow`, this will be a space where the `ModelFlow` package itself will be installed and in which the specific dependencies on which `ModelFlow` relies will be installed. Other environments may require packages that conflict with `ModelFlow`. Declaring a separate environment for `ModelFlow` will help prevent conflicts between different versions of packages from arising.\n",
    "\n",
    "The commands below create a `ModelFlow` environment and install into it the `ModelFlow` package and several supporting packages that are useful when using `ModelFlow` in conjunction with `EViews` or `Jupyter Notebook`[^JN6vs7].\n",
    "\n",
    "The commands should be cut and paste (either one by one, or as a block) into the Anaconda or Miniconda command prompt environment. Instructions for activating the environment in windows are included in the box.\n",
    "\n",
    ":::{index} single: Boxes; Box   1. Opening the Anaconda/MiniConda prompt under windows\n",
    ":::\n",
    "\n",
    ":::{admonition} Box 1. Opening the Anaconda/MiniConda prompt under windows\n",
    ":class: tip\n",
    "\n",
    "To open the Anaconda/MiniConda prompt:\n",
    "\n",
    "1. In the windows command prompt, type Anaconda (or Miniconda)\n",
    "2. If Anaconda/Miniconda have been successfully installed an icon entitled Anaconda(Minoconda) Prompt will be available in windows. Click on this.\n",
    "3. This will open a python command shell where the commands listed in the main text can be entered.\n",
    "\n",
    ":::{image} WindowsCommandPrompt.PNG\n",
    "    :alt: Windows Command Prompt\n",
    "    :class: bg-primary mb-1\n",
    "    :width: 50%\n",
    "    :align: center\n",
    "\n",
    ":::    \n",
    ":::\n",
    "\n",
    "\n",
    "[^environ]: Both Anaconda and Miniconda support the idea of \"environments\". Environments are ring-fenced areas on your computer that can have different versions of Python and/or packages installed in them. If one application requires a specific version of pandas to run, and a second application requires a different version, by housing them in separate environment the dependencies of each application can be respected without generating a conflict between them. See [here](https://conda.io/activation) for more.\n",
    "\n",
    "[^JN6vs7]: `ModelFlow` works equally well under both `Jupyter Notebook 6` and `Jupyter Notebook 7`. Howver, it was developed using `JN6` and this book and its examples were produced using `JN6`.  The installation instructions below will set up you `ModelFlow` environment to use `JN6`."
   ]
  },
  {
   "cell_type": "markdown",
   "id": "c8d797db",
   "metadata": {},
   "source": [
    "\n",
    "```\n",
    "conda create -n ModelFlow -c ibh -c conda-forge ModelFlow_book -y\n",
    "conda activate ModelFlow\n",
    "##################\n",
    "# Note skip the next line if installing under linux or Macintosh\n",
    "#################\n",
    "conda install py2eviews -c eviews\n",
    "\n",
    "#############\n",
    "# Continue from here on all Operating Systems\n",
    "#############\n",
    "pip install dash_interactive_graphviz\n",
    "jupyter contrib nbextension install --user\n",
    "jupyter nbextension enable hide_input_all/main\n",
    "jupyter nbextension enable splitcell/splitcell\n",
    "jupyter nbextension enable toc2/main\n",
    "jupyter nbextension enable varInspector/main\n",
    "\n",
    "```\n",
    ":::{index} single: ModelFlow versions; ModelFlow_book vs ModelFlow_stable\n",
    ":::\n",
    "\n",
    ":::{note} Meaning of the command lines\n",
    "* The first line in the code snippet above simultaneously creates the `ModelFlow` environment (the -n argument names the environment) and installs the `ModelFlow_book` package from conda-forge into this environment.\\[NB:There also exists a `ModelFlow_stable` package.  The book package will be frozen at its current state of evolution to ensure that all the examples in this book will run using `ModelFlow_book`, the stable version may evolve over time and potentially break specific examples.  Longer-term users may wish to switch to the stable version, once they have absorbed the material in this book.\\]\n",
    "\n",
    "* The second command \"activates\" the newly created ModelFlow environment.\n",
    "\n",
    "* The subsequent commands install some additional packages into the ModelFlow environment that are used by `ModelFlow`.  \n",
    "    * The `py2eviews` package allows python to execute EViews commands on a machine where EViews has also been installed (this is only useful if the user intends to import existing EViews workfiles into the python environment of `ModelFlow`).\n",
    "    * the `dash_interactive_graphviz` package enables a series of interactive dashboards which can be handy when using ModelFlow in Jupyter Notebooks.\n",
    "    * The last 5 commands activate some useful jupyter notebook extensions.\n",
    "\n",
    ":::\n",
    "\n",
    "\n",
    "Depending on the speed of your computer and of your internet connection, installation could take as little as 5 minutes or more than 1/2 an hour.\n",
    "\n"
   ]
  },
  {
   "cell_type": "code",
   "execution_count": null,
   "id": "4d6002a3",
   "metadata": {},
   "outputs": [],
   "source": []
  }
 ],
 "metadata": {
  "celltoolbar": "Tags",
  "hide_input": false,
  "kernelspec": {
   "display_name": "Python 3 (ipykernel)",
   "language": "python",
   "name": "python3"
  },
  "language_info": {
   "codemirror_mode": {
    "name": "ipython",
    "version": 3
   },
   "file_extension": ".py",
   "mimetype": "text/x-python",
   "name": "python",
   "nbconvert_exporter": "python",
   "pygments_lexer": "ipython3",
   "version": "3.12.8"
  },
  "nbTranslate": {
   "displayLangs": [
    "*"
   ],
   "hotkey": "alt-t",
   "langInMainMenu": true,
   "sourceLang": "en",
   "targetLang": "fr",
   "useGoogleTranslate": true
  },
  "toc": {
   "base_numbering": 1,
   "nav_menu": {},
   "number_sections": true,
   "sideBar": true,
   "skip_h1_title": false,
   "title_cell": "Table of Contents",
   "title_sidebar": "Contents",
   "toc_cell": false,
   "toc_position": {},
   "toc_section_display": true,
   "toc_window_display": false
  },
  "varInspector": {
   "cols": {
    "lenName": 16,
    "lenType": 16,
    "lenVar": 40
   },
   "kernels_config": {
    "python": {
     "delete_cmd_postfix": "",
     "delete_cmd_prefix": "del ",
     "library": "var_list.py",
     "varRefreshCmd": "print(var_dic_list())"
    },
    "r": {
     "delete_cmd_postfix": ") ",
     "delete_cmd_prefix": "rm(",
     "library": "var_list.r",
     "varRefreshCmd": "cat(var_dic_list()) "
    }
   },
   "types_to_exclude": [
    "module",
    "function",
    "builtin_function_or_method",
    "instance",
    "_Feature"
   ],
   "window_display": false
  }
 },
 "nbformat": 4,
 "nbformat_minor": 5
}
