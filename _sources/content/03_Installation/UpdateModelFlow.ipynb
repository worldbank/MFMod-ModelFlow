{
 "cells": [
  {
   "cell_type": "markdown",
   "id": "5c5a2d26",
   "metadata": {},
   "source": [
    "# Updating ModelFlow \n",
    ":::{index} single: Update ModelFlow\n",
    ":::\n",
    "\n",
    "ModelFlow gets new features and fixes these will be reflected in the `ModelFlow_stable` package.  In order to use new features compared to the version on which this book is created the user might create a new environment to use this. This  would have the advantage of preserving the current `ModelFlow` environment for recreating the book examples. \n",
    "\n",
    "\n",
    "The command below creates a new environment `-n ModelFlow_new` and installs the most recent version of `ModelFlow` from the `modelflow_stable` repository. As noted above, this might introduce changes that break some of the examples in this book -- although every effort will be made to maintain backward compatibility.\n",
    "\n",
    "```\n",
    "conda deactivate\n",
    "conda create -n ModelFlow_new -c ibh -c conda-forge ModelFlow_book -y\n",
    "conda activate ModelFlow_new\n",
    "```\n",
    "And perform the additional commands specified in the previous section. \n",
    "\n",
    "\n",
    ":::{index} single: Updating ModelFlow; Anaconda/MiniConda\n",
    ":::\n",
    ":::{index} single: Anaconda/MiniConda; Updating  model flow\n",
    ":::"
   ]
  }
 ],
 "metadata": {
  "celltoolbar": "Edit Metadata",
  "hide_input": false,
  "kernelspec": {
   "display_name": "Python 3 (ipykernel)",
   "language": "python",
   "name": "python3"
  },
  "language_info": {
   "codemirror_mode": {
    "name": "ipython",
    "version": 3
   },
   "file_extension": ".py",
   "mimetype": "text/x-python",
   "name": "python",
   "nbconvert_exporter": "python",
   "pygments_lexer": "ipython3",
   "version": "3.12.8"
  },
  "nbTranslate": {
   "displayLangs": [
    "*"
   ],
   "hotkey": "alt-t",
   "langInMainMenu": true,
   "sourceLang": "en",
   "targetLang": "fr",
   "useGoogleTranslate": true
  },
  "toc": {
   "base_numbering": 1,
   "nav_menu": {},
   "number_sections": true,
   "sideBar": true,
   "skip_h1_title": false,
   "title_cell": "Table of Contents",
   "title_sidebar": "Contents",
   "toc_cell": false,
   "toc_position": {},
   "toc_section_display": true,
   "toc_window_display": false
  },
  "varInspector": {
   "cols": {
    "lenName": 16,
    "lenType": 16,
    "lenVar": 40
   },
   "kernels_config": {
    "python": {
     "delete_cmd_postfix": "",
     "delete_cmd_prefix": "del ",
     "library": "var_list.py",
     "varRefreshCmd": "print(var_dic_list())"
    },
    "r": {
     "delete_cmd_postfix": ") ",
     "delete_cmd_prefix": "rm(",
     "library": "var_list.r",
     "varRefreshCmd": "cat(var_dic_list()) "
    }
   },
   "types_to_exclude": [
    "module",
    "function",
    "builtin_function_or_method",
    "instance",
    "_Feature"
   ],
   "window_display": false
  }
 },
 "nbformat": 4,
 "nbformat_minor": 5
}
