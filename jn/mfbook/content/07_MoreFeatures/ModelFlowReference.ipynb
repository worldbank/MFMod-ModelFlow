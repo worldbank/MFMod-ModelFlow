{
 "cells": [
  {
   "cell_type": "markdown",
   "metadata": {},
   "source": [
    "# Modelflow methods reference \n",
    "\n",
    "The main text of this document presents a large range of `ModelFlow` features in the context of where they may be used.  This chapter reproduces much of that information but out of context.  It is not a full technical reference to `ModelFlow`  but it does attempt to put into place a handy reference to many of the commands that a `ModelFlow` user of the World Bank models would need. Ib Hansen maintains a `ModelFlow` reference [here](https://ibhansen.github.io/doc/). \n"
   ]
  },
  {
   "cell_type": "markdown",
   "metadata": {},
   "source": [
    ":::{admonition} In this chapter - ModelFlow Methods Reference\n",
    ":class: tip\n",
    "\n",
    "This chapter provides a summary reference of the main methods of `ModelFlow` package. It is not comprehensive, but is meant to be used as a handy guide to the syntax of the many methods in `ModelFlow`.  More detailed explanations of many of the methods occur in the text and can be found by consulting the index.\n",
    "\n",
    "Features included in the reference include:\n",
    "\n",
    "- **Jupyter Notebook Integration**:\n",
    "  - Utilize Jupyter-specific commands and features for an interactive modeling experience.\n",
    "  - Enable extensions to enhance productivity (e.g., auto-completion, variable inspection).\n",
    "\n",
    "- **Core Model Methods**:\n",
    "  - Manage model properties and equations with methods for adding, modifying, or deleting equations.\n",
    "  - Use `.dekomp()` for decomposition and `.tracepre()` for dependency analysis.\n",
    "  - Perform simulations and save results with explicit methods like `.solve()` and `.pcim`.\n",
    "\n",
    "- **DataFrame Manipulations**:\n",
    "  - Leverage ModelFlow extensions to `pandas` for time-series analysis and variable transformations.\n",
    "  - Use `.upd()` and `.mfcalc()` for data updates and calculated transformations.\n",
    "\n",
    "- **Visualization and Reporting**:\n",
    "  - Create charts and plots with `.plot()` and `.draw()` for clear data representation.\n",
    "  - Build structured reports using `.rtable()` and `.rplot()` methods.\n",
    "\n",
    "- **Advanced Features**:\n",
    "  - Define time frames and scenarios for focused simulations.\n",
    "  - Save and compare results across multiple runs for robust analysis.\n",
    "\n",
    "\n",
    "\n",
    ":::\n"
   ]
  },
  {
   "cell_type": "code",
   "execution_count": null,
   "metadata": {
    "tags": [
     "remove_cell"
    ]
   },
   "outputs": [],
   "source": [
    "%load_ext autoreload\n",
    "%autoreload 2"
   ]
  },
  {
   "cell_type": "code",
   "execution_count": null,
   "metadata": {
    "tags": [
     "remove_cell"
    ]
   },
   "outputs": [],
   "source": [
    "#This is code to manage dependencies if the notebook is executed in the google colab cloud service\n",
    "if 'google.colab' in str(get_ipython()):\n",
    "  import os\n",
    "  os.system('apt -qqq install graphviz')\n",
    "  os.system('pip -qqq install ModelFlowIb   ')\n"
   ]
  },
  {
   "cell_type": "code",
   "execution_count": null,
   "metadata": {
    "tags": [
     "remove_cell"
    ]
   },
   "outputs": [],
   "source": [
    "# Prepare the notebook for use of ModelFlow \n",
    "\n",
    "# Jupyter magic command to improve the display of charts in the Notebook\n",
    "%matplotlib inline\n",
    "\n",
    "# Import pandas \n",
    "import pandas as pd\n",
    "\n",
    "# Import the model class from the modelclass module \n",
    "from modelclass import model \n",
    "\n",
    "# functions that improve rendering of ModelFlow outputs\n",
    "model.widescreen()\n",
    "model.scroll_off();"
   ]
  },
  {
   "cell_type": "markdown",
   "metadata": {},
   "source": [
    "In order to manipulate plots later on matplotlib.pyplot is also imported. "
   ]
  },
  {
   "cell_type": "code",
   "execution_count": null,
   "metadata": {},
   "outputs": [],
   "source": [
    "import matplotlib.pyplot as plt # To manipulate plots "
   ]
  },
  {
   "cell_type": "markdown",
   "metadata": {},
   "source": [
    "## Useful Jupyter Notebook commands and features"
   ]
  },
  {
   "cell_type": "markdown",
   "metadata": {},
   "source": [
    "### .widescreen() \n",
    "\n",
    "Instructs `ModelFlow`to take full advantage of the space available on the browser under which `Jupyter Notebook` is running. "
   ]
  },
  {
   "cell_type": "code",
   "execution_count": null,
   "metadata": {
    "tags": [
     "remove-output"
    ]
   },
   "outputs": [],
   "source": [
    "model.widescreen() "
   ]
  },
  {
   "cell_type": "markdown",
   "metadata": {},
   "source": [
    "### .scroll_off()\n",
    "\n",
    "Instructs ModelFlow not to scroll outputs within a cell, but to show the whole output. Useful when displaying multiple charts and tables. "
   ]
  },
  {
   "cell_type": "code",
   "execution_count": null,
   "metadata": {
    "tags": [
     "remove-output"
    ]
   },
   "outputs": [],
   "source": [
    "model.scroll_off()"
   ]
  },
  {
   "cell_type": "code",
   "execution_count": null,
   "metadata": {},
   "outputs": [],
   "source": [
    "latex=True #used to ensure  that outputs render well in pdf format"
   ]
  },
  {
   "cell_type": "markdown",
   "metadata": {},
   "source": [
    "## Working with the Model Object\n",
    "\n",
    "The model object is the central object in `ModelFLow`.  It's methods are used to read and write models from disk, and to perform simulations, and to report the results of simulations both as graphs and tables.  Its properties include the data associated with the model, the current options that impact simulations, the individual equations that together comprise the system of equations that the model object solves.\n",
    "\n",
    "## Selected model properties\n",
    "Models once built can be saved to disk for later reloading.  The entire model state can be saved, including options for the solve operator, and the results from solutions that were earlier run with the keep option.\n",
    "\n",
    "The model state has many properties. Including: \n",
    ":::{only} latex\n",
    "\\begin{tabularx}{\\textwidth}{>{\\raggedright\\arraybackslash}p{3.5cm}>{\\raggedright\\arraybackslash}p{4.0cm}>{\\raggedright\\arraybackslash}X}\n",
    ":::\n",
    "|Content|Property|Description |\n",
    "| :--- | :---- |  :---- | \n",
    "|Model equations|`.equation`| Returns a very long string containing all of the equations of the model.|\n",
    "|Model name  |`.name` | Returns the internal name of the model. For WBG models this is typically the 3 letter ISO code for the country , i.e. PAK for Pakistan|\n",
    "|Model description |`.model_description` | If defined, returns a string with a longer description of the model -- otherwise returns a blank string.|\n",
    "|Base solution|`.basedf`   |Returns a `DataFrame` of all the variables in the model with the values from the baseline or initialization values of the model.|\n",
    "|Last solution|`.lastdf`   |Returns a `DataFrame` of all the variables in the model with the values from the most recently executed simulation.|\n",
    "|Kept solutions|`.keep_solutions`   |A dictionary of `DataFrame`s. The key to the dictionary is the text passed to the `keep=`copmmand when the solution was run, and the value is the `DataFrame` generated by the simulation.|\n",
    "|Current time frame|`.current_per`   | Returns the active sample period of the model (the time-slice over which the model will be solved).|\n",
    "|Simulation options|`.oldkwargs`    | Returns a dictionary, showing the current state of the persistent options of the model.|\n",
    "|Variable descriptions|`.var_description`   |Returns a dictionary, with long form descriptions of those mnemonics in the model that have been assigned a long-form description. |\n",
    "|User defined lists of variables |`.var_groups`    |Returns a dictionary, showing the various groups (lists of variables) that have been defined for this model object.|\n",
    "|Reports|`.reports`| Returns a Dictionary of all Reports (if any) that have been defined for the  model.|"
   ]
  },
  {
   "cell_type": "markdown",
   "metadata": {},
   "source": [
    "## Selected Model methods\n",
    "\n",
    "### .model_load() method: Loading  models\n",
    "\n",
    "The `model_load()`method instantiates (creates) a new model object from a previously saved pcim file. \n",
    "\n",
    "\n",
    "Parameters:\n",
    "\n",
    "| Parameter | Type | Description |\n",
    "|:-----------|:------|:-------------|\n",
    "| `infile` | string | The name of the file or URL from which the model will be loaded. |\n",
    "| `funks` | list | Functions to use in the resulting model. Default is an empty list. |\n",
    "| `run` | bool | If `True`, simulates the model with the saved time and options. Default is `False`. |\n",
    "| `keep_json` | bool | If `True`, saves a dictionary (`self.json_keep`) in the model instance. Default is `False`. |\n",
    "| `default_url` | string | The default URL where to look for the model if it is not in the specified location. Default value is:<br> 'https://raw.githubusercontent.com/IbHansen/ModelFlow-manual/main/model_repo/',**kwargs)'| \n",
    "| `**kwargs` | dict | Additional keyword arguments used by the simulation if `run=True`. |\n",
    "\n",
    "Returns\n",
    "\n",
    "- **tuple**: A tuple containing a model instance and a DataFrame.\n",
    "\n",
    "#### Load an example model and create a model instance\n",
    "Also the model is run "
   ]
  },
  {
   "cell_type": "code",
   "execution_count": null,
   "metadata": {},
   "outputs": [],
   "source": [
    "mpak,baseline = model.modelload('../models/pak.pcim', \\\n",
    "         run=True,keep= 'Baseline')"
   ]
  },
  {
   "cell_type": "markdown",
   "metadata": {},
   "source": [
    "The above example declares an instance of a model object `mpak` and a `DataFrame` -- baseline-- that holds the results of the simulation invoked by the `run=True` option.  The `keep='Baseline'` instructs the method to also store the result of the initial simulation as a scenario identified by the text 'Baseline'."
   ]
  },
  {
   "cell_type": "markdown",
   "metadata": {},
   "source": [
    "### .model_dump() method: Saving  models\n",
    "The `.modeldump()` method saves the content of a model object to disk. By default, models are stored using the [**json** format](https://en.wikipedia.org/wiki/JSON). By convention dumped `ModelFlow` objects are saved to a file with the **.pcim** extension.\n",
    "\n",
    "\n",
    " Parameters:\n",
    "\n",
    "| Parameter | Type | Description |\n",
    "|-----------|------|-------------|\n",
    "| `outfile` | string | The name of the file where the model will be dumped. Default is an empty string, meaning the dump will be returned as a string. |\n",
    "| `keep` | bool | If `True`, the `keep_solutions` attribute of the model will also be dumped. Default is `False`. |\n",
    "\n",
    " Returns\n",
    "\n",
    "- **string**: If `outfile` is an empty string or not specified, the method returns the model dump as a JSON string.\n",
    "\n",
    "#### example\n"
   ]
  },
  {
   "cell_type": "code",
   "execution_count": null,
   "metadata": {},
   "outputs": [],
   "source": [
    "mpak.modeldump('Mymodel/Mymodel',keep=True)"
   ]
  },
  {
   "cell_type": "markdown",
   "metadata": {},
   "source": [
    "Saves the model object `mpak` to a file called Mymodel.pcim located in the Mymodel sub-directory.  The model would also contain the results `DataFrames` for all the simulations that were stored with the keep option."
   ]
  },
  {
   "cell_type": "code",
   "execution_count": null,
   "metadata": {},
   "outputs": [],
   "source": [
    "!dir Mymodel\\*.pcim"
   ]
  },
  {
   "cell_type": "markdown",
   "metadata": {},
   "source": [
    "## Equations\n",
    "        \n",
    "The model object includes both the data of the model and the equations that define the relationship between the variables."
   ]
  },
  {
   "cell_type": "markdown",
   "metadata": {},
   "source": [
    "### Fixable equations\n",
    "\n",
    "\n",
    "A behavioral equation determines the value of an endogenous variable, based on an econometric relationship\n",
    "rather than an accounting identity. They are comprised of right-hand side variables (the regressors in the econometric\n",
    "relationship or the explanatory variables), left hand side variables (the regressands or dependent variable), estimated\n",
    "parameters, perhaps some imposed parameters, and the error term.\n",
    "\n",
    "In addition to these elements, a fixable equation will have three special variables defined, which allow the equation to be de-activated (exogenized).  These variables carry the same root mnemonmic as the equation's dependent variable and the terminators, $\\_A$, $\\_X$, $\\_D$.\n",
    "\n",
    "|Terminator| Meaning| Role|\n",
    "|:--|:--|:--|\n",
    "|\\_A|Add factor:| special variable to allow judgment to be added to an equation|\n",
    "|\\_X|Exogenized value:| Special variable that stores the value that the equation should return if exogenized|\n",
    "|\\_D|Exogenous dummy:|Dummy variable. When set to one, the equation will return the value of the \\_𝑋 variable, if zero, it returns the fitted value of the equation plus the Add factor|\n",
    "\n",
    "A standard econometric equation such as $ y_t = \\hat{\\alpha} + \\hat{\\beta} X_t + y\\_A_t$ can be rewritten as \n",
    "\n",
    "\\begin{equation*}\n",
    "y_t = (1-y\\_D_t)\\cdot\\underbrace{\\biggl[\\hat{\\alpha} + \\hat{\\beta} X_t + y\\_A_t\\biggr]}_{\\begin{array}{c} \\text{Econometric equation}\\end{array}} + y\\_D_t\\cdot \\underbrace{y\\_X_t}_{\\begin{array}{c} \\text{Exogenized} \\\\ \\text{value} \\end{array}}\n",
    "\\end{equation*}\n",
    "\n",
    "When $y\\_D_t=1$ then the first expression (the econometric equation) solves to zero and the equation just returns the value $y\\_X_t$.\n"
   ]
  },
  {
   "cell_type": "markdown",
   "metadata": {},
   "source": [
    "### .var_with_frmlname('DAMP'), Dampable variables\n",
    "\n",
    "Returns a **set** of variable names of equations that can be Dampened (dampening adjusts the size of changes to a variable that are imposed when the model is trying to solve.\n",
    "\n",
    "Below the set is made to a sorted **list** and the first 3 variable names are printed. "
   ]
  },
  {
   "cell_type": "markdown",
   "metadata": {
    "hide_input": true
   },
   "source": [
    "### `.wb_behavioral` property: returns a list of fixable (behavioral) equations\n",
    "\n",
    "`.wb_behavioral` is a property of a model object, which defines all of the behavioral (fixable) equations in the model object. \n",
    "\n",
    "#### example\n",
    "`themodel.wb_behavioral` will return a list of all the variables with fixable equations.\n"
   ]
  },
  {
   "cell_type": "markdown",
   "metadata": {},
   "source": [
    "### .fix() method: exogenizes one or more equations in the model.\n",
    "\n",
    "The `fix()`method sets the $\\_D$ variable to 1 and the $\\_X$ variable to the value that the user wants the equation to resolve to when exogenized.\n",
    "\n",
    "Parameters:\n",
    "\n",
    "| Parameter | Type           | Description                                                   |\n",
    "|:-----------|:----------------|:---------------------------------------------------------------|\n",
    "| `df`      | TYPE           | Input dataframe should contain a solution and all variables.  |\n",
    "| `pat`     | TYPE, optional | Select variables to exogenize. Defaults to '\\*' (All variables).|\n",
    "| `start`   | TYPE, optional | Start period. Defaults to ''.                                 |\n",
    "| `end`     | TYPE, optional | End period. Defaults to ''.                                   |\n",
    "| `silent`  | int, optional  | If set to 1, suppresses print output. Defaults to 0.          |\n",
    "\n",
    "\n",
    "Returns:\n",
    "- A DataFrame.\n",
    "\n",
    "#### example 1\n",
    "\n",
    "\n",
    "Cfixed=themodel.fix(baseline,'PAKNECONPRVTKN')\n",
    "\n",
    "Returns a new `DataFrame` `Cfixed` exactly equal to the baseline `DataFrame` but with the `PAKNECONPRVTKN_D` variable set to 1.  This equation will now return `PAKNECONPRVTKN_X` for all periods where `PAKNECONPRVTKN_D` is equal to 1.  `PAKNECONPRVTKN_X` will be set equal to the current value of `PAKNECONPRVTKN`. To do a meaningful simulation the value of `PAKNECONPRVTKN_X` would have to be changed, say as below.\n",
    "\n",
    "\n",
    "`Cfixed=Cfixed.upd(\"<2025 2040> PAKNECONPRVTKN_X * 1.025\")` which would increase the value of consumption by 2.5% between the years 2025 and 2040.\n",
    "\n",
    "\n",
    "\n",
    "#### example 2\n",
    "\n",
    "Cfixed2=themodel.fix(baseline,'PAKNECONPRVTKN',start=2045,end=2050)\n",
    "\n",
    "Returns a new `DataFrame` `Cfixed2` exactly equal to the baseline `DataFrame` but with the `PAKNECONPRVTKN_D` variable set to 1 for the years 2045 through 2050.  This equation will now return `PAKNECONPRVTKN_X` for this period.\n",
    "\n",
    "`Cfixed=Cfixed.upd(\"<2025 2050> PAKNECONPRVTKN_X * 1.025\")` would increase the value of consumption by 2.5% for the period 2020 through 2045.\n",
    "\n",
    "In this example the changes to `PAKNECONPRVTKN_X` before 2045 would have no effect as the variable was only exogenized in the preceding fix statement for the period 2045 through 2050.\n",
    "\n",
    "\n"
   ]
  },
  {
   "cell_type": "markdown",
   "metadata": {},
   "source": [
    "### .unfix() method:re-activates an exogenized equation\n",
    "\n",
    "Parameters:\n",
    "| Parameter | Type             | Description                                                   |\n",
    "|-----------|------------------|---------------------------------------------------------------|\n",
    "| `df`      | Dataframe        | Input dataframe, should contain a solution and all variables. |\n",
    "| `pat`     | string, optional | Select variables to endogenize. Defaults to '*'.              |\n",
    "| `start`   | TYPE, optional   | Start period. Defaults to ''.                                 |\n",
    "| `end`     | TYPE, optional   | End period. Defaults to ''.                                   |\n",
    "\n",
    "Returns:\n",
    "\n",
    "A dataframe with the `_D` version of the specified variables set to zero for the specified time period.\n",
    "\n",
    "#### example1\n",
    "\n",
    "`Unfixed=themodel.fix(Cfixed2,'PAKNECONPRVTKN')`\n",
    "\n",
    "Creates a new `DataqFrame` that is a copy of `Cfixed2` but with `PAKNECONPRVTKN_D` equal to zero over the entire period.\n",
    "\n",
    "#### example2\n",
    "`Unfixed2=themodel.fix(Cfixed2,'PAKNECONPRVTKN','2040','2050)`  \n",
    "\n",
    "Creates a new `DataFrame`', `unfixed2` that is a copy of `Cfixed2` but with `PAKNECONPRVTKN_D` equal to zero over the period period 2040 through 2050.  If `PAKENCONPRVTKN` had been exogenized for a longer period, it would remain exogenized in the periods outside of 2050- 2050.\n"
   ]
  },
  {
   "cell_type": "markdown",
   "metadata": {},
   "source": [
    "### `.fix_inf` property: Returns a list of the variables currently exogenized (fixed) \n",
    "\n",
    "\n",
    "`.wb_inf` is a property of a model object, which returns a list of the behavioral (fixable) equations in the model object that are currently fixed (exogenized).\n",
    "\n",
    "\n",
    "\n"
   ]
  },
  {
   "cell_type": "markdown",
   "metadata": {},
   "source": [
    "## Visualize equations\n",
    "\n",
    "`ModelFlow` offers three ways to visualize an equation.\n",
    "\n",
    "|Methods|Returns|\n",
    "|:--|:--|\n",
    "|.eviews()| returns the original EViews form of the equation (only available for models imported from EViews)|\n",
    "|.frml()| returns the internal normalized version of the EViews equation|\n",
    "|.show()| returns the internal normalized version of the EViews equation and data for theLHS and RHs variables of the equation from both the `.basedf`, `.lastdf` `DataFrames` and their differences |\n",
    "\n",
    "### .eviews() method: Diplays the original format of the equation"
   ]
  },
  {
   "cell_type": "code",
   "execution_count": null,
   "metadata": {
    "scrolled": false
   },
   "outputs": [],
   "source": [
    "mpak.PAKBXGSRMRCHCD.eviews;"
   ]
  },
  {
   "cell_type": "markdown",
   "metadata": {},
   "source": [
    "### .eviews() method: Displays the normalized form of the equation\n"
   ]
  },
  {
   "cell_type": "code",
   "execution_count": null,
   "metadata": {},
   "outputs": [],
   "source": [
    "mpak.PAKBXGSRMRCHCD.frml;"
   ]
  },
  {
   "cell_type": "markdown",
   "metadata": {},
   "source": [
    "### .show() method: Displays the normalized form of the equation plus data from the `.lastdf`, `.basedf` `DataFrame`s and their difference"
   ]
  },
  {
   "cell_type": "code",
   "execution_count": null,
   "metadata": {
    "tags": [
     "remove-output"
    ]
   },
   "outputs": [],
   "source": [
    "with mpak.set_smpl(2024,2032):\n",
    "    mpak.PAKBXGSRMRCHCD.show; "
   ]
  },
  {
   "cell_type": "markdown",
   "metadata": {},
   "source": [
    ":::{image} varshow.png\n",
    "    :alt: Menu to start notebooks in subfolders\n",
    "    :class: bg-primary mb-1\n",
    "    :width: 70%\n",
    "    :align: center\n",
    ":::    "
   ]
  },
  {
   "cell_type": "markdown",
   "metadata": {},
   "source": [
    ":::{index} single: Revising model equations\n",
    ":::\n",
    "\n",
    ":::{index} single: Equations; .equpdate() Revising model equations\n",
    ":::\n",
    "\n",
    ":::{index} single: Equations; .eqdelete() Deleting  model equations\n",
    ":::\n"
   ]
  },
  {
   "cell_type": "markdown",
   "metadata": {},
   "source": [
    "## Adding, Modifying, or Deleting Equations\n",
    "\n",
    "Sometime it can be useful to change a model. You might need to:\n",
    "\n",
    "- **Add new equations** to incorporate additional functionality or dynamics.\n",
    "- **Modify existing equations** to refine or adjust the model's behavior.\n",
    "- **Delete unnecessary equations** to simplify the model or remove obsolete components.\n",
    "\n",
    "These actions enable you to tailor the model to better meet your specific requirements.\n"
   ]
  },
  {
   "cell_type": "markdown",
   "metadata": {},
   "source": [
    "### `.eqdelete` Delete equations \n",
    "\n",
    "| Parameter | Type           | Description                                                   |\n",
    "|-----------|----------------|---------------------------------------------------------------|\n",
    "| `deleteeq`| TYPE, optional | Variables where equations are to be deleted. Defaults to None.|\n",
    "| `newname` | string, optional| The name of the new model with deleted equations. Defaults to an empty string.|\n",
    "\n",
    "**Returns:**\n",
    "\n",
    "- `newmodel`: TYPE - The new model with the deleted equations.\n",
    "- `newdf`: TYPE - A dataframe with calculated add factors. Origin is the original model's lastdf.\n"
   ]
  },
  {
   "cell_type": "markdown",
   "metadata": {},
   "source": [
    "### `.equpdate ` Update or add  equations \n",
    "\n",
    "| Parameter      | Type           | Description                                                   |\n",
    "|----------------|----------------|---------------------------------------------------------------|\n",
    "| `updateeq`     | TYPE           | New equations separated by newline.                           |\n",
    "| `add_add_factor`| bool, optional| Whether to add an add factor. Defaults to False.              |\n",
    "| `calc_add`     | bool, optional | Whether to calculate add factors. Defaults to True.           |\n",
    "| `do_preprocess`| bool, optional | Whether to preprocess the equations. Defaults to True.        |\n",
    "| `newname`      | string, optional| The name of the updated model. Defaults to an empty string.   |\n",
    "| `silent`       | bool, optional | Whether to suppress print outputs. Defaults to True.          |\n",
    "\n",
    "**Returns:**\n",
    "\n",
    "- `newmodel`: TYPE - The updated model with new and deleted equations.\n",
    "- `newdf`: TYPE - A dataframe with calculated add factors. Origin is the original model's lastdf.\n"
   ]
  },
  {
   "cell_type": "code",
   "execution_count": null,
   "metadata": {},
   "outputs": [],
   "source": [
    "dampable_variables = sorted(mpak.var_with_frmlname('DAMP'))\n",
    "print(f'Number of dampable variables: {len(dampable_variables)}')\n",
    "print(f'First 3 dampable variables  : {dampable_variables[:3]}')\n"
   ]
  },
  {
   "cell_type": "markdown",
   "metadata": {},
   "source": [
    "## Manipulating `DataFrames`\n",
    "\n"
   ]
  },
  {
   "cell_type": "markdown",
   "metadata": {},
   "source": [
    "\n",
    "Pandas dataframes can be extended with new functionality. When the `import modelclass` statement is executed ModelFlow will \n",
    "extend dataframes with two new capabilities. \n",
    " - **.upd** which allows easy updating of variables (columns) in dataframes. The purpose is to facilitate relevant update operations. \n",
    " - **.mfcalc** which enables transformations using lags and straight expressions. \n",
    " \n",
    " "
   ]
  },
  {
   "cell_type": "markdown",
   "metadata": {},
   "source": [
    "### .loc() method"
   ]
  },
  {
   "cell_type": "markdown",
   "metadata": {},
   "source": [
    "### `.upd` Updates a dataframe and returns a dataframe\n",
    "\n",
    "Parameters:\n",
    "\n",
    "| Parameter    | Type    | Description   | Default |\n",
    "|--------------|---------|---------------|---------|\n",
    "| `basis`      | string  | Lines with variable updates (see below for format). | |\n",
    "| `lprint`     | bool, optional | If `True`, each update is printed. | `False` |\n",
    "| `scale`      | float, optional | A multiplier used on all update input. | `1.0` |\n",
    "| `create`     | bool, optional | Creates variables if not in the dataframe. | `True` |\n",
    "| `keep_growth`| bool, optional | Keep the growth rate after the update time frame. | `False` |\n",
    "\n",
    "A line in updates looks like this:\n",
    "\n",
    "```\n",
    "[<[[start] end]>] <var> <=|+|*|%|=growth|+growth|=diff> <value>... [--keep_growth_rate|--kg|--no_keep_growth_rate|--nkg]\n",
    "```\n",
    "The number of values should either be one - which then is applied to all years, or the number of years from start to end. \n",
    "\n",
    "Time carries over from line to line. \n",
    "\n",
    "The `basis`string can contain several updates separated by new line. \n",
    "\n",
    "Returns:\n",
    "A new dataframe containing the updated values of the input dataframe \n",
    "\n"
   ]
  },
  {
   "cell_type": "markdown",
   "metadata": {},
   "source": [
    "### `.mfcalc` Updates a dataframe and returns a dataframe\n",
    "This implement the model class on top of pandas dataframes. Useful to do transformations with lags. \n",
    "\n",
    "\n",
    "| Parameter | Type     | Description                                                                 | Default |\n",
    "|-----------|----------|-----------------------------------------------------------------------------|---------|\n",
    "| `eq`      | str     | Equations, one on each line. Can be started with `<start end>` to control calculation sample. |         |\n",
    "| `start`   | optional | DESCRIPTION.                                                               | `''`    |\n",
    "| `end`     | optional | DESCRIPTION.                                                               | `''`    |\n",
    "| `showeq`  | bool, optional | If `True`, the equations will be printed.                                  | `False` |\n",
    "| `**kwargs`| optional     | Here all solve options can be provided.      |"
   ]
  },
  {
   "cell_type": "markdown",
   "metadata": {},
   "source": [
    "Each equation $f_i$  is specified as:\n",
    "\n",
    "\n",
    "```\n",
    "<left hand side> = <right hand side> $\n",
    "```\n",
    "\n",
    "Each formula ends with a \\$.\n",
    "\n",
    "The ```<left hand side>``` should not contain transformations. Lags or leads can not be specified at the left hand side of $=$. \n",
    "\n",
    "\n",
    "Time $t$ is implicit in the equations which means that a $var$ at time $t$ written as ```var```, while $var_{t-1}$ is written as ```var(-1)```. ModelFlow is case-insensitive. Everything is eventually transformed into upper case.\n",
    "\n",
    "The ```<right hand side>``` can contain variables, operators, functions "
   ]
  },
  {
   "cell_type": "markdown",
   "metadata": {},
   "source": [
    "## Performing Simulations\n",
    "(simulationEngines)=\n",
    "\n",
    "`ModelFlow`is a package to solve complex systems of equations.  It supports a range of solution engines, each of which has different features.\n"
   ]
  },
  {
   "cell_type": "markdown",
   "metadata": {},
   "source": [
    ":::{index} single: model instance(); Model simulation \n",
    ":::\n",
    "###  `<model instance>()`  method, solve the model \n",
    "\n",
    "The most convenient way to solve a model is to call it by passing simulation parameters directly to the model instance[^HowImplemented]. \n",
    "\n",
    "[^HowImplemented]: For those familiar with programming in Python, technically this is implemented as the model class method `__call__`. \n",
    "\n",
    ":::{only} latex\n",
    "\\begin{tabularx}{\\textwidth}{>{\\raggedright\\arraybackslash}p{3cm}>{\\raggedright\\arraybackslash}p{3cm}>{\\raggedright\\arraybackslash}X}\n",
    ":::\n",
    "\n",
    "\n",
    "| Parameter           | Type           |  Description   |\n",
    "|---------------------|----------------|----------------|\n",
    "| `do_calc_add_factor`| bool           |  Determines whether to calculate the add factors. Used to calculate add-factors to ensure the model exactly reproduces the submitted data set.  Default is True. |\n",
    "| `reset_options`     | bool           |  If True, the previous options will be reset. Default is False. |\n",
    "| `solver`            | str            |  Specifies the solver to be used. Default is chosen based on the model's properties. (Typically `sim` (Gauss-seidel) for WB models, or `newton-stacked` for forward-looking models.)|\n",
    "| `silent`            | bool           |  If True, the solver runs silently without printing outputs to the console. Default is True. |\n",
    "| `keep`              | str            |  If provided, keeps the solutions. Behavior depends on the `keep_variables` option. |\n",
    "| `keep_variables`    | str, list of str| Specifies which variables to keep if the `keep` option is provided. Default is '\\*' - to keep all variables. |\n",
    "| `*args`             | various        |  Variable length argument list. Usual the `Dataframe` and start and end year|\n",
    "| `**kwargs`          | various        |  Arbitrary keyword arguments. These are provided to the actual solver |\n",
    "\n",
    " Returns\n",
    "\n",
    "- `outdf`: pandas.DataFrame - The DataFrame containing the results of the model run.\n",
    "\n",
    "#### example"
   ]
  },
  {
   "cell_type": "code",
   "execution_count": null,
   "metadata": {},
   "outputs": [],
   "source": [
    "# assume the model object has already been loaded and solved mpak\n",
    "oilshockdf = mpak.basedf.upd('<2025 2027> WLDFCRUDE_PETRO + 25')\n",
    "#Simulate the model \n",
    "ExogOilSimul = mpak(oilshockdf,2020,2040,keep='$25 increase in oil prices 2025-27') \n"
   ]
  },
  {
   "cell_type": "markdown",
   "metadata": {},
   "source": [
    " - **First line:** creates a new `DataFrame`as a copy of the `basedf` `DataFrame` but with the crud oil price increased by 25 between 2025 and 2027 inclusive.\n",
    " - **Second line:** Performs the simulation.  Submits the altered `DataFrame` `oilshockdf` to the model and solves the mode from 2020 to 2024, assigning the results `DataFrame` `ExogOilSimul` and to the keep dictionary with the text identifier `'$25 increase in oil prices 2025-27'`"
   ]
  },
  {
   "cell_type": "markdown",
   "metadata": {},
   "source": [
    "####  `<model instance>()`  Persistent arguments\n",
    "Named arguments to `<model instance>()` are persistent. So if a solver is set in a call, the same solver is used in the next call. The same goes if `silent` is set or `alfa`. And so on. \n",
    "\n",
    "The stored arguments are stored in `.oldkwargs`. All arguments can be restored to default by the function: `<model instance>(,,,reset_options=True)` "
   ]
  },
  {
   "cell_type": "markdown",
   "metadata": {},
   "source": [
    "####  `.oldkwargs`  List persistent simulation arguments\n"
   ]
  },
  {
   "cell_type": "code",
   "execution_count": null,
   "metadata": {},
   "outputs": [],
   "source": [
    "mpak.oldkwargs"
   ]
  },
  {
   "cell_type": "markdown",
   "metadata": {},
   "source": [
    "####  `.model_solver`  The solver used. \n",
    "The property `.model_solver` contains the solver function used at the last call `<model instance>()`. To retrieve the name of the solver use:  "
   ]
  },
  {
   "cell_type": "code",
   "execution_count": null,
   "metadata": {},
   "outputs": [],
   "source": [
    "mpak.model_solver.__name__ "
   ]
  },
  {
   "cell_type": "markdown",
   "metadata": {},
   "source": [
    "This should be a solver function from the list below. "
   ]
  },
  {
   "cell_type": "markdown",
   "metadata": {},
   "source": [
    "## Explicit simulation methods\n",
    "\n",
    "`ModelFlow` has a number of different solvers which can be used for different types of models and in different circumstances. \n",
    "\n",
    "`<model instance>()` will try to find the most appropriate solver for the model at hand. However the user can select the solver explicit by `<model instance>(,,,solver='<solver')`\n",
    "\n",
    "|Solver Name | Method and use case |\n",
    "|:--|:--|\n",
    "|`sim`| Gauss-Seidel method for models with contemporaneous feedback |\n",
    "| `newton`| Newton-Raphson  method, alternative for models with contemporaneous feedback |\n",
    "| `newton_stacked`| Newton-Raphson  method for models with forward-looking models |\n",
    "| `xgenr`| will calculate the result for models without contemporaneous feedback |\n",
    "| `res`| each equation is calculated on its own. Used to check the residuals.  |\n",
    "\n",
    "Instead of using the `<model instance>()` method discussed above each of these solvers can be called directly. \n",
    "\n",
    "> \\<model instance>.\\<solver>() \n"
   ]
  },
  {
   "cell_type": "markdown",
   "metadata": {},
   "source": [
    "###  `.sim` method of simulation\n",
    "\n",
    "This alternative method forces use of the Gauss-Seidel technique and is functionally equivalent to the modelobjectname method discussed above with the option `solver='sim'` set.\n",
    "\n"
   ]
  },
  {
   "cell_type": "markdown",
   "metadata": {},
   "source": [
    "\n",
    "\n",
    "\n",
    "\n",
    "| Parameter           | Type         | Description                                                                                          |\n",
    "|:--------------------|:-------------|:------------------------------------------------------------------------------------------------------|\n",
    "| `databank`          | dataframe    | Input DataFrame containing the data to be used in the simulation.                                    |\n",
    "| `start`             | TYPE         | The start of the simulation period. Defaults to ''.                                                  |\n",
    "| `end`               | TYPE         | The end of the simulation period. Defaults to ''.                                                    |\n",
    "| `silent`            | bool         | If set to False, displays simulation logs. Defaults to True.                                         |\n",
    "| `samedata`          | bool         | If True, indicates the input data has the same structure as the last simulation. Defaults to False.  |\n",
    "| `alfa`              | float        | The damping factor applied during simulation. Defaults to 1.0.                                       |\n",
    "| `stats`             | bool         | If True, displays statistics after the simulation is complete. Defaults to False.                    |\n",
    "| `first_test`        | int          | The iteration number to start testing for convergence. Defaults to 5.                                |\n",
    "| `max_iterations`    | int          | The maximum number of iterations allowed for the simulation. Defaults to 200.                        |\n",
    "| `conv`              | str          | Specifies the variables to test for convergence. Defaults to '*'.                                    |\n",
    "| `absconv`           | float        | Sets the absolute convergence criterion level. Defaults to 0.01.                                     |\n",
    "| `relconv`           | float        | Sets the relative convergence criterion level. Defaults to `DEFAULT_relconv`.                        |\n",
    "| `transpile_reset`   | bool         | If True, ignores the previously transpiled model. Defaults to False.                                 |\n",
    "| `dumpvar`           | str          | Specifies the variables for which to dump the iterations. Defaults to '*'.                           |\n",
    "| `init`              | bool         | If True, takes the previous period’s value as the starting value. Defaults to False.                  |\n",
    "| `ldumpvar`          | bool         | If True, dumps the iterations. Defaults to False.                                                    |\n",
    "| `dumpwith`          | int          | Not described in the original docstring. Defaults to 15.                                             |\n",
    "| `dumpdecimal`       | int          | Not described in the original docstring. Defaults to 5.                                              |\n",
    "| `chunk`             | int          | Specifies the chunk size of the transpiled model. Defaults to 30.                                    |\n",
    "| `ljit`              | bool         | If True, enables Just-In-Time compilation. Defaults to False.                                        |\n",
    "| `stringjit`         | bool         | If True, uses Just-In-Time compilation on a string, not a file. Defaults to False.                    |\n",
    "| `timeon`            | bool         | If True, times the elements of the simulation. Defaults to False.                                    |\n",
    "| `fairopt`           | TYPE         | Options for Fair Taylor approximation. Defaults to `{'fair_max_iterations': 1}`.                    |\n",
    "| `progressbar`       | TYPE         | If True, shows a progress bar during the simulation. Defaults to False.                              |\n",
    "| `**kwargs`          | various      | Additional keyword arguments for more customized control over the simulation.                        |\n",
    "\n",
    "Returns\n",
    "\n",
    "- A DataFrame with the simulation results."
   ]
  },
  {
   "cell_type": "markdown",
   "metadata": {},
   "source": [
    "#### example\n",
    "#### Parameters\n",
    "```python\n",
    "results = mpak.sim(baseline, 2023, 2050, alfa=0.5, max_iterations=100)\n",
    "```\n",
    "Submits the baseline `DataFrame` to the model object and solves the model using the Gauss-Seidel solver from 2023 to 2050, assigning the results to the `DataFrame` `results`. `alfa=0.5` determines the dampening when solving the model, while max_iterations dictates the maximum number of solves to run for any given shock. \n",
    "\n",
    "This solver is appropriate for non-forward looking World Bank models.  "
   ]
  },
  {
   "cell_type": "markdown",
   "metadata": {},
   "source": [
    "### ###  `.newton()` and `.stacked_newton()`  simulation methods\n",
    "\n",
    "Use the Newton-Raphson method for solving models. The stacked version solves the model for all years simultaneously. This is a computationally more challenging approach and is mainly used when solving models with forward-looking variables, which precludes solving the model sequentially year by year. \n",
    "\n",
    " "
   ]
  },
  {
   "cell_type": "markdown",
   "metadata": {},
   "source": [
    "### `.newton` and `stacked_newton`\n",
    "\n",
    "\n",
    "Parameters\n",
    "\n",
    "| Parameter | Type | Description |\n",
    "|-----------|------|-------------|\n",
    "| `self` | object | The instance of the class where this method is defined. |\n",
    "| `databank` | DataFrame | The databank on which the model will be evaluated. |\n",
    "| `start` | string | The start period for the evaluation. Default is an empty string. |\n",
    "| `end` | string | The end period for the evaluation. Default is an empty string. |\n",
    "| `silent` | int | Determines whether to print progress messages. Default is 1 (silent). |\n",
    "| `samedata` | int | Not used in the provided code. Default is 0. |\n",
    "| `alfa` | float | A parameter used in the evaluation. Default is 1.0. |\n",
    "| `stats` | bool | If True, prints statistics after the evaluation. Default is False. |\n",
    "| `first_test` | int | The iteration at which to start testing for convergence. Default is 1. |\n",
    "| `newton_absconv` | float | The absolute convergence criterion. Default is 0.001. |\n",
    "| `max_iterations` | int | The maximum number of iterations for the Newton method. Default is 20. |\n",
    "| `conv` | string | Specifies the variables to check for convergence. Default is '*'. |\n",
    "| `absconv` | float | The absolute convergence level. Default is 1.0. |\n",
    "| `relconv` | float | The relative convergence level. Default is DEFAULT_relconv. |\n",
    "| `nonlin` | bool | If True, updates the solver in nonlinear iterations. Default is False. |\n",
    "| `timeit` | bool | If True, times the execution of the method. Default is False. |\n",
    "| `newton_reset` | int | Determines whether to reset the Newton method. Default is 1. |\n",
    "| `dumpvar` | string | Specifies the variables to dump. Default is '*'. |\n",
    "| `ldumpvar` | bool | If True, enables the dumping of variables. Default is False. |\n",
    "| `dumpwith` | int | Not used in the provided code. Default is 15. |\n",
    "| `dumpdecimal` | int | Not used in the provided code. Default is 5. |\n",
    "| `chunk` | int | Determines the chunk size for JIT compilation. Default is 30. |\n",
    "| `ljit` | bool | If True, enables JIT compilation. Default is False. |\n",
    "| `stringjit` | bool | If True, enables JIT compilation for strings. Default is False. |\n",
    "| `transpile_reset` | bool | If True, resets the transpiler. Default is False. |\n",
    "| `init` | bool | If True, initializes the method. Default is False. |\n",
    "| `newtonalfa` | float | A parameter for the Newton method. Default is 1.0. |\n",
    "| `newtonnodamp` | int | The iteration at which to stop damping in the Newton method. Default is 0. |\n",
    "\n",
    "returns a dataframe with the solution\n"
   ]
  },
  {
   "cell_type": "markdown",
   "metadata": {},
   "source": [
    "#### examples\n",
    "```python\n",
    "results = mpak.newton(baseline, 2023, 2050, alfa=0.5, max_iterations=100)\n",
    "\n",
    "or \n",
    "results = mpak.stacked_newton(baseline, 2023, 2050, alfa=0.5, max_iterations=100)\n",
    "```\n",
    "Submits the baseline `DataFrame` to the model object and solves the model using the Newton or stacked_Newton solvers from 2023 to 2050, assigning the results to the `DataFrame` `results`. `alfa=0.5` determines the step size when solving the model, while max_iterations dictates the maximum number of solves to run for any given shock. \n",
    "\n",
    "This solver is used by most world bank models. "
   ]
  },
  {
   "cell_type": "markdown",
   "metadata": {},
   "source": [
    "### Troubleshooting simulations\n",
    "Not every model will solve with the default parameters However, there are ways to increase the probability of a solution being found if an initial solution fails. \n",
    "\n",
    "The Gauss-Seidel algorithm is quite straight forward. It basically iterates over the formulas, until convergence.\n",
    "\n",
    "Let:\n",
    " - $z$ be all predetermined values: all exogenous variables and lagged endogenous variables.\n",
    " - $n$ be the number of endogenous variables.\n",
    " - $\\alpha$ dampening factor which can be applied to selected equations.\n",
    " - $i$ endogenous variables\n",
    " - $k$ iterations\n",
    "\n",
    "For each time period we can find a solution by doing Gauss-Seidel iterations:\n",
    "\n",
    ">for $k = 1$ to convergence \n",
    ">>for $i$ = 1 to $n$\n",
    ">>>$y_{i}^{k} = (1-\\alpha) * y_{i}^{{k-1}} + \\alpha f_i(y_1^{k},\\cdots,y_{i-1}^{k},y_{i+1}^{k-1},\\cdots,y_{n}^{k-1},z)$\n",
    "\n",
    "#### Convergence: relconv,  absconv, conv\n",
    "After each iteration the convergence is achieved if the relative change from the iteration before is below `relconv` for selected endogenous variables. As the relative change for small values can be very large only variables with values above `absconv`are checked. As default all endogenous variable are checked, however the user can select a subset of variables to check by setting the `conv`to the names for which to check. \n",
    "\n",
    "#### silent \n",
    "Set silent=False, in order to learn more about the state of the model following each iterations \n",
    "\n",
    "#### max_iterations \n",
    "Can be increased\n",
    "\n",
    "#### alfa\n",
    "This parameter determines the dampening of dampable equations. The value should be between 1 and 0.1. \n",
    "\n"
   ]
  },
  {
   "cell_type": "markdown",
   "metadata": {},
   "source": [
    "### Persistent simulation options: the .oldkwargs property  \n",
    "The `oldkwargs` property of the model object is automatically set with each simulation, storing the options that were active when it was executed.  Unless options are changed they are persistent between calls to a given model object. The `.oldkwargs` property of a model object  stores the  persistent parameters and can be interrogated.\n",
    "\n",
    "The current options of the `mpak` model object are:"
   ]
  },
  {
   "cell_type": "code",
   "execution_count": null,
   "metadata": {},
   "outputs": [],
   "source": [
    "mpak.oldkwargs"
   ]
  },
  {
   "cell_type": "markdown",
   "metadata": {},
   "source": [
    "Persistent options may be reset (set to their defaults) by the user by setting the dictionary to the empty set. \n",
    "```\n",
    "mpak.oldkwargs = {}\n",
    "```"
   ]
  },
  {
   "cell_type": "markdown",
   "metadata": {},
   "source": [
    "## Modifying models\n",
    "A new model instance with deleted, modified or added \n",
    "equations can be produced. "
   ]
  },
  {
   "cell_type": "markdown",
   "metadata": {},
   "source": [
    "(Saving-results)=\n",
    "\n",
    ":::{index} double: Storage system; basedf/lastdf\n",
    ":::\n",
    "\n",
    ":::{index} double: Storage system; keep_solutions\n",
    ":::\n",
    "\n",
    ":::{index} double: keep_solutions; keep_variables\n",
    ":::\n",
    "\n",
    ":::{index} single: Saving results \n",
    ":name: saveresults\n",
    ":::\n",
    "\n",
    "\n",
    "## Saving results for comparison  \n",
    "When comparing results the user can take the result dataframe from two (or more)  simulation and use python do the necessary calculations and visualizations. However Modelflow provides some properties and methods which \n",
    "facilitates comparing more \"out of the box\". \n",
    "\n",
    "A model instance (in this case  `mpak` two \"systems\" to do this. The \n",
    " 1. **.basedf and .lastdf** dataframes. Which contains the first and the last solution of the model\n",
    " 2. **.keep_solution** dictionary of dataframes. This is typical used when comparing several scenarios. \n",
    "\n",
    ":::{index} single: Saving results; .basedf,.lastdf first and last simulation  \n",
    ":name: baselast \n",
    ":::\n",
    "\n",
    "### .basedf and .lastdf\n",
    "In the example above there two dataframes with results ```baseline``` and ```scenario```. These dataframes can be manipulated and visualized\n",
    "with the tools provided by the **pandas** library and other like **Matplotlib** and **Plotly**. However to make things easy the first and\n",
    "latest simulation result is also in the mpak object:\n",
    "\n",
    "- **mpak.basedf**: Dataframe with the values for baseline\n",
    "- **mpak.lastdf**: Dataframe with the values for alternative  \n",
    "\n",
    "This means that .basedf and .lastdf will contain the same result after the first simulation. <br>\n",
    "If new scenarios are simulated the data in .lastdf will then be replaced with the latest results.\n",
    "\n",
    "These dataframes are used by a number of model instance methods as you will see later.  \n",
    "\n",
    "The user can assign dataframes to both .basedf and .lastdf. This is useful for comparing simulations which are not the first and last. "
   ]
  },
  {
   "cell_type": "markdown",
   "metadata": {},
   "source": [
    ":::{index} single: Saving results; keep= saves to .keep_solutions  \n",
    ":name: saveresultskeep \n",
    ":::\n",
    "\n",
    "### keep=\\<Description>, create a  dictionary of dataframes from scenarios\n",
    "Sometimes we want to be able to compare more than two scenarios. Using ```keep='some description'``` the dataframe with results can be saved into a dictionary with the description as key and the dataframe as value.  \n",
    "\n",
    "mpak(<dataframe>,,keep=\\<description>,,) \n",
    "\n",
    "The name of the dictionary will be mpak.keep_solutions"
   ]
  },
  {
   "cell_type": "markdown",
   "metadata": {},
   "source": [
    ":::{index} single: Saving results; keep_variables= select variables to keep  \n",
    ":name: saveresultskeepvariables \n",
    ":::\n",
    "\n",
    "#### keep_variables= \\<selection string of variables>, Select variables to keep \n",
    "A modelinstance with many variables and/or many scenarios to keep can become very large. Therefor it can be useful not to keep all variables but to select a the variables which are needed. "
   ]
  },
  {
   "cell_type": "markdown",
   "metadata": {},
   "source": [
    "#### .keep_solutions = {}, resetting the .keep_solution \n",
    "Sometime it can be useful to reset the ```.keep_solutions```, so that a new set of solutions can be inspected. This is done by replacing it with an empty dictionary."
   ]
  },
  {
   "cell_type": "markdown",
   "metadata": {},
   "source": [
    "### Example "
   ]
  },
  {
   "cell_type": "code",
   "execution_count": null,
   "metadata": {},
   "outputs": [],
   "source": [
    "#Drops any previously kept solutions\n",
    "mpak.keep_description = {} \n",
    "\n",
    "# Solve the model using the baseline dataframe as a starting point and keep the result as `Baseline\n",
    "_ = mpak(baseline,2020,2100,keep='Baseline') \n",
    "\n",
    "# Create a new dataframe called scenario_20 taht is a copy of baseline, but with the values of three variables \n",
    "# set to 20 between 2020 and 2100\n",
    "scenario_20  =  baseline.upd(\"<2020 2100> PAKGGREVCO2CER PAKGGREVCO2GER PAKGGREVCO2OER = 20\")\n",
    "_ = mpak(scenario_20,2020,2100,keep='Coal, Oil and Gastax : 20') # runs the simulation\n",
    "\n",
    "# Create a new dataframe called scenario_20 taht is a copy of baseline, but with the values of three variables \n",
    "# set to 20 between 2020 and 2100\n",
    "scenario_40  =  baseline.upd(\"<2020 2100> PAKGGREVCO2CER PAKGGREVCO2GER PAKGGREVCO2OER = 40\")\n",
    "#Run a simulationusing the revised dataframe using the revised to 40 dataset as input\n",
    "_ = mpak(scenario_40,2020,2100,keep='Coal, Oil and Gas Carbon tax = 40 USD') # runs the simulation\n"
   ]
  },
  {
   "cell_type": "markdown",
   "metadata": {},
   "source": [
    "####  .keepswitch(), select scenarios for plotting\n",
    "When creating many scenarios with the ```keep``` keyword it can sometime be useful to: \n",
    "- Plot selected scenarios and to change the sequence of the scenarios. \n",
    "- To use the .basedf and .lastdf as scenarios. \n",
    "\n",
    "To facilitate this the .keepswitch function has been created.\n",
    "\n",
    "| Parameter |Explanation\n",
    "| :- | :---|\n",
    "|base_last = True\\|False(default) |If True use the .basedf and .lastdf \n",
    "|scenario='\\<string>'|Listing of scenarios separated by `\\|` if no wildcards else space  \n",
    "    \n",
    ".keepswitch is a [context manager](https://www.pythontutorial.net/advanced-python/python-context-managers) like .set_smpl.\n",
    "So it works in the scope of a ```with```. After the with statement the keept solutions are restored.\n",
    "\n",
    "```\n",
    "with mpak.keepswitch(scenarios = '\\<selection>'):\n",
    "   mpak.keep_plot('\\<variable selection>',,)\n",
    "```"
   ]
  },
  {
   "cell_type": "markdown",
   "metadata": {},
   "source": [
    "## Model Analytics"
   ]
  },
  {
   "cell_type": "markdown",
   "metadata": {},
   "source": [
    "When ModelFlow process a model it creates a graph (a network) of the interdependencies between the different variables. The graph is used to find the causal ordering of the model. \n",
    "\n",
    "A model in MFMod typical contains at least one simultaneous block and a pre and post block. "
   ]
  },
  {
   "cell_type": "code",
   "execution_count": null,
   "metadata": {},
   "outputs": [],
   "source": [
    "mpak.plotadjacency(size=(20,20),title='Structure for the current periode');"
   ]
  },
  {
   "cell_type": "code",
   "execution_count": null,
   "metadata": {},
   "outputs": [],
   "source": []
  },
  {
   "cell_type": "markdown",
   "metadata": {},
   "source": [
    ":::{index} double: model instance; .current_per, Master time index\n",
    ":::\n",
    "\n",
    "\n",
    "## Setting time frame\n",
    "The property `.current_per` is the master time index for a model instance. It determinate the time frame for simulations  and output. \n",
    "\n",
    "Sometime it can be useful to change the `.current_per` the property can be set with: \n",
    "\n",
    "| **Function**           | **Description**                                                        |\n",
    "|-------------------------|------------------------------------------------------------------------|\n",
    "| `.smpl`                 | Sets the sample period for analysis and reporting.                    |\n",
    "| `with .set_smpl:`             | Sets the sample period for analysis and reporting in a local scope .            |\n",
    "| `with .set_smpl_relative:`    | Sets the sample period for analysis and reporting relative to the current period or scenario in a local scope.|\n"
   ]
  },
  {
   "cell_type": "code",
   "execution_count": null,
   "metadata": {},
   "outputs": [],
   "source": [
    "mpak.current_per"
   ]
  },
  {
   "cell_type": "markdown",
   "metadata": {},
   "source": [
    "The possible times in the dataframe is contained in the ```<dataframe>.index``` property. "
   ]
  },
  {
   "cell_type": "code",
   "execution_count": null,
   "metadata": {},
   "outputs": [],
   "source": [
    "mpak.lastdf.index  # the index of the dataframe"
   ]
  },
  {
   "cell_type": "markdown",
   "metadata": {},
   "source": [
    "### .smpl, Set time frame \n",
    "The time frame can be set like this:"
   ]
  },
  {
   "cell_type": "code",
   "execution_count": null,
   "metadata": {},
   "outputs": [],
   "source": [
    "mpak.smpl(2020,2025)\n",
    "mpak.current_per"
   ]
  },
  {
   "cell_type": "markdown",
   "metadata": {
    "cell_style": "center"
   },
   "source": [
    "(set_smpl)=\n",
    "### .set_smpl, Set timeframe for a local scope\n",
    "For many operations it can be useful to apply the operations for a shorter time frame, but retain the global time frame after the operation. <br>\n",
    "This can be done  with a ```with``` statement like this. "
   ]
  },
  {
   "cell_type": "code",
   "execution_count": null,
   "metadata": {},
   "outputs": [],
   "source": [
    "print(f'Global time  before   {mpak.current_per}')\n",
    "with mpak.set_smpl(2022,2023):\n",
    "    print(f'Local time frame      {mpak.current_per}')\n",
    "print(f'Unchanged global time {mpak.current_per}')"
   ]
  },
  {
   "cell_type": "markdown",
   "metadata": {
    "cell_style": "center"
   },
   "source": [
    "### .set_smpl_relative Set relative timeframe for a local scope\n",
    "When creating a script it can be useful to set the time frame relative to the \n",
    "current time. \n",
    "\n",
    "Like this:"
   ]
  },
  {
   "cell_type": "code",
   "execution_count": null,
   "metadata": {},
   "outputs": [],
   "source": [
    "print(f'Global time  before   {mpak.current_per}')\n",
    "with mpak.set_smpl_relative (-1,0):\n",
    "    print(f'Local time frame      {mpak.current_per}')\n",
    "print(f'Unchanged global time {mpak.current_per}')"
   ]
  },
  {
   "cell_type": "markdown",
   "metadata": {},
   "source": [
    "## Reports\n",
    "\n",
    "ModelFlow offers a range of features to present and visualize model results. Below is a list:\n",
    "\n",
    "- **`.table()`**:  \n",
    "  This function creates a table from data in the `.lastdf` and `.basedf` dataframes. It can be customized with various arguments to adjust the data type (e.g., growth rate or level), the number of decimals, and table titles.\n",
    "\n",
    "- **`.plot()`**:  \n",
    "  This function generates charts based on data from `.lastdf`, `.basedf`, or  saved scenarios in from `.keep_solution`. It can be customized with various arguments to choose the chart type, data transformation (e.g., growth rate or level), scenarios to display, and chart titles.\n",
    "\n",
    "- **`.text()`**:  \n",
    "  This function creates a text object that can contain plain text, LaTeX code, or HTML code. It is primarily used to add text to reports.\n",
    "\n",
    "- **`.report()`**:  \n",
    "  This function combines tables, plots, text, and other reports into a consolidated report. Reports can be saved and reused, making it easy to generate reports for various scenarios.\n"
   ]
  },
  {
   "cell_type": "markdown",
   "metadata": {},
   "source": [
    "### The `.table` function"
   ]
  },
  {
   "cell_type": "markdown",
   "metadata": {},
   "source": [
    "**Line Options**  \n",
    "These options are set on table creation.\n",
    "\n",
    "| Argument            | Default Value             | Description                                               |\n",
    "|---------------------|---------------------------|-----------------------------------------------------------| \n",
    "| pat                 | '#Headline' (defined in the `ModelFlow` class)| Variable names to be displayed, may include wildcard specifications. |\n",
    "| datatype            | 'growth'                  | Defines the data transformation displays (cf. next table). |\n",
    "| mul                 | 1.0                       | Multiplier of values before display.                      | \n",
    "| dec                 | 2                         | Set the decimal places to display.                        |\n",
    "| col_desc            | Depend on datatype            | A centered description of columns (non-transposed table). |\n",
    "| heading             | ''                        | A centered text above columns (non-transposed table).     |\n",
    "| rename              | True                      | If True, use descriptions; else, use variable names.      |\n",
    "\n",
    "\n",
    "\n",
    "**Table Options**  \n",
    "These options can be revised after a table has been generated.\n",
    "\n",
    "| Argument            | Default Value             | Description                                               |\n",
    "|---------------------|---------------------------|-----------------------------------------------------------|\n",
    "| name                | ''                        | Name for this display.                                    |\n",
    "| custom_description  | {}                        | Custom description, overrides default descriptions.       |\n",
    "| title               | ''                        | Title text for the table.                                 |\n",
    "| foot                | ''                        | Footer text for the table.                                |\n",
    "| transpose           | False                     | If True, transposes the table.                            |\n",
    "| chunk_size          | 0                         | Specifies the number of columns per chunk in tables.      |\n",
    "| timeslice           | []                        | Specifies the time slice for data display.                |\n",
    "| max_cols            | 6                         | Maximum columns when displayed as string.                 |\n",
    "| last_cols           | 1                         | In LaTeX, the number of last columns in a display slice.  |\n",
    "| smpl                | ('', '')                  | Set or reset the sample (`smpl`) for the table.           |\n"
   ]
  },
  {
   "cell_type": "markdown",
   "metadata": {},
   "source": [
    "**Table: Data Types and Their Meanings**\n",
    "\n",
    "| **datatype**    | **Meaning** |\n",
    "|:-------------|:------------------------------------------------------------------|\n",
    "| **growth**  | This is the default setting. Growth rate in percent in the most recent dataset (`.lastdf`).|\n",
    "| level       | Values in `.lastdf`.                                            |\n",
    "| gdppct      | Percentage of GDP in `.lastdf`.                                  |\n",
    "| qoq_ar      | Quarterly growth annualized. - Quarterly models only.|\n",
    "| **Difference views** | `` |\n",
    "| difgrowth   | Change ($\\Delta$) in growth rates (`.lastdf` less `basedf`).   |\n",
    "| diflevel    | Change ($\\Delta$) in values (`.lastdf` less `basedf`).         |\n",
    "| difgdppct   | Change ($\\Delta$) in the percentage of GDP from (`.lastdf` less `basedf`). |\n",
    "| difqoq_ar      | change in the annualized quarterly growth (`.lastdf` less `basedf`)  |\n",
    "| difpctlevel | Percentage change ($\\Delta$) in values (`.lastdf` less `basedf`). |\n",
    "| **Values from  `.basedf`** | `` |\n",
    "| basegrowth  | Growth rate in percent in `.basedf`.|\n",
    "| baselevel   |Level of the data in `.basedf`|\n",
    "| basegdppct  | Percentage of GDP in `.basedf`.|\n",
    "| baseqoq_ar  | Quarterly growth in `.basedf`|\n"
   ]
  },
  {
   "cell_type": "markdown",
   "metadata": {},
   "source": [
    "### The `.plot` function"
   ]
  },
  {
   "cell_type": "markdown",
   "metadata": {},
   "source": [
    "**Line options** are set when the plot is created with the `.plot() `call and can only be set when the object is instantiated.\n",
    "\n",
    "| Argument           | Default Value             | Description   |\n",
    "|--------------------|---------------------------|----------------------------------------|\n",
    "| pat                | '#Headline'               | Pattern with wildcard for variable names |\n",
    "| datatype           | 'growth'                  | Defines the datatransformation displayes (cf. next table)     |\n",
    "| mul                | 1.0                       | Multiplier of values before display             | \n",
    "| ax_title_template | ''                        | Template for each chart title| \n",
    "|by_var            | True|Show results by variable (False) or scenario (True)|\n",
    "\n",
    "\n",
    "**Plot options** can be revised after the plot has been created. \n",
    "\n",
    "| Argument           | Default Value             | Description   |\n",
    "|--------------------|---------------------------|----------------------------------------|\n",
    "| rename             | True                      | If True use descriptions else variable names    |\n",
    "| scenarios               | ''                        | Show for `.basedf/.lastdf` or selected scenarios                        | \n",
    "| name               | ''                        | Name for this display.                           | \n",
    "| custom_description | {}                        | Custom description, override default descriptions. |\n",
    "title              | ''                        | Title (used when samefig=True).                  | \n",
    "| samefig            | False                     | If True, displays all chart in the same plot area. |\n",
    "| ncol               | 2                         | Number of columns when samefig=True.            | \n",
    "| size               | (10, 6)                   | Specifies the size of each chart                | \n",
    "| legend             | True                      | If True, includes a legend in the display.       |\n",
    "| smpl             | ('','')                      | set smpl for this plot       | \n"
   ]
  },
  {
   "cell_type": "markdown",
   "metadata": {},
   "source": [
    "The table below summarizes how the combination of `datatype` and `scenarios` determines the data displayed in the chart.\n",
    "\n",
    "**Table: Datatype and Scenario Settings**\n",
    "\n",
    "| **Datatype**    | **scenarios=''** or omitted | **scenarios='\\<list of scenarios>'** (Multiple Scenarios) |\n",
    "|:-------------|:------------------------------------------------------------------|:-----------------------------|\n",
    "| **Value Views** | | |\n",
    "| **growth** (default) | Growth rate (%) in the most recent dataset (`.lastdf`). | Growth rates for all scenarios. |\n",
    "| **level**       | Values from `.lastdf`. | Values for all scenarios. |\n",
    "| **gdppct**      | Percentage of GDP in `.lastdf`. | Percentage of GDP for all scenarios. |\n",
    "| **qoq_ar**      | Quarterly growth (annualized) for quarterly models in `.lastdf`. | Quarterly growth (annualized) for all scenarios. |\n",
    "| | | |\n",
    "| **Difference Views** | | |\n",
    "| **difgrowth**   | Change ($\\Delta$) in growth rates between `.lastdf` and `.basedf`. | Change ($\\Delta$) in growth rates between the first and other scenarios. |\n",
    "| **diflevel**    | Change ($\\Delta$) in values between `.basedf` and `.lastdf`. | Change ($\\Delta$) in values between the first and other scenarios. |\n",
    "| **difgdppct**   | Change ($\\Delta$) in the percentage of GDP between `.basedf` and `.lastdf`. | Change ($\\Delta$) in the percentage of GDP between the first and other scenarios. |\n",
    "| **difqoq_ar**   | Change in quarterly growth (annualized) between `.basedf` and `.lastdf`. | Change ($\\Delta$) in quarterly growth (annualized) between the first and other scenarios. |\n",
    "| **difpctlevel** | Percentage change ($\\Delta$) in values between `.basedf` and `.lastdf`. | Percentage change ($\\Delta$) in values between the first and other scenarios. |\n",
    "| | | |\n",
    "| **`.basedf` Views** | | |\n",
    "| **basegrowth**  | Growth rate (%) in `.basedf`. | Growth rates for the first scenario. |\n",
    "| **baselevel**   | Values from `.basedf`. | Values for the first scenario. |\n",
    "| **basegdppct**  | Percentage of GDP in `.basedf`. | Percentage of GDP for the first scenario. |\n",
    "| **baseqoq_ar**  | Quarterly growth (annualized) in `.basedf`. | Quarterly growth (annualized) for the first scenario. |\n"
   ]
  },
  {
   "cell_type": "markdown",
   "metadata": {},
   "source": [
    "#### `.savefigs()` Saving plots in other formats. \n",
    "\n",
    "Plots are created using the `matplotlib` library. If charts are going to be used further downstream they can be saved to file using a wide range of formats. \n",
    "\n",
    "**`.savefigs()` options**\n",
    "\n",
    "| **Parameter**      | **Type**  | **Description**                                                                                        | **Default**       |\n",
    "|--------------------|-----------|--------------------------------------------------------------------------------------------------------|-------------------|\n",
    "| `location`         | `str`     | The  folder in which to save the charts.                                                           | `'./graph'`       |\n",
    "| `experimentname`   | `str`     | A subfolder under `location` where charts are saved.                                                   | `'experiment1'`   |\n",
    "| `addname`          | `str`     | An additional name added to each figure filename.                                                      | `''` (empty string) |\n",
    "| `extensions`       | `list`    | A list of  file extensions for saving the figures.                                               | `['svg']`         |\n",
    "| `xopen`            | `bool`    | If `True`, open the saved figure locations in a web browser.                                           |                   |\n",
    "\n",
    "\n",
    "Charts can be saved using the following formats: \n",
    "\n",
    "| **Extension**     | **Description**                             |\n",
    "|-------------------|---------------------------------------------|\n",
    "| `.png`            | Portable Network Graphics                   |\n",
    "| `.jpg` or `.jpeg` | t Photographic Experts Group            |\n",
    "| `.tif` or `.tiff` | Tagged Image File Format                    |\n",
    "| `.bmp`            | Bitmap                                      |\n",
    "| `.gif`            | Graphics Interchange Format                 |\n",
    "| `.svg`            | Scalable Vector Graphics                    |\n",
    "| `.pdf`            | Portable Document Format                    |\n",
    "| `.eps`            | Encapsulated PostScript                     |\n",
    "| `.ps`             | PostScript                                  |\n",
    "| `.raw`            | Raw image data                              |\n",
    "| `.rgba`           | Raw RGBA bitmap                             |\n",
    "| `.pgf`            | Portable Graphics Format                    |\n",
    "\n"
   ]
  },
  {
   "cell_type": "markdown",
   "metadata": {},
   "source": [
    "### The `.text()` class\n",
    "The text class allows the user to define three different types of text: `.text_text` `.html_text` and `.latex_text`.  These properties are optional and can be declared explicitly or implicitly. \n",
    "\n",
    "\n",
    " |object|delimited by |contains|\n",
    " |------|---------|---|\n",
    " |.text_text| nothing |Plain text |\n",
    " |.html_text|\\<html> \\</html> |html text  |\n",
    " |.latex_text|\\<latex> \\</latex> |latex text |\n"
   ]
  },
  {
   "cell_type": "markdown",
   "metadata": {},
   "source": [
    "### Joing plots or tables with  `|` \n",
    "\n",
    "Tables, Plots can be concatenated together using the `|`  operator. This allows plots or tables with different  datatypes to be displayed together. \n",
    "\n",
    "Plots can only be joined with plots, and tables can only be joined by tables."
   ]
  },
  {
   "cell_type": "markdown",
   "metadata": {},
   "source": [
    "### Creating reports using `+` between plots, tables and text \n",
    "`Report`s in `ModelFlow` are containers that can contains figures, plots, tables of different dimension and text. Moreover, `Report` objects can be saved in a model object and regenerated on new data without requiring any additional effort by the user.\n",
    "\n",
    "The `+` operator creates a new report container specification. \n",
    "\n",
    "Reports can be placed in the dictionary: `model instance.reports`.Reports can then be reused later. \n",
    "\n",
    "\n",
    " |Functions | task|\n",
    " |------|---------|\n",
    " |`model instance.add_report(reports,,,)`| Add report to `model instance.reports`, key = report name|\n",
    " |`model instance.get_report(key)`|Returns a report from `model instance.reports` |\n",
    " \n",
    " \n",
    "A report can be modified with these functions. \n",
    " |Functions | task|\n",
    " |------|---------|\n",
    " |.set_scenarios|Set scenarios in report |\n",
    " |.set_name|Sets name of report|\n"
   ]
  },
  {
   "cell_type": "markdown",
   "metadata": {},
   "source": [
    "### `.set_option()` Modifying reports, tables or plots options\n",
    "With this function options (except line options)  can be modified after the element has been created.  "
   ]
  },
  {
   "cell_type": "markdown",
   "metadata": {},
   "source": [
    "### Rendering reports, tables, plots and text objects \n",
    "\n",
    "These  objects can be rendered as html, text and pdf objects. The below table indicates the methods associated with each.\n",
    "\n",
    "**Display options for report type  objects**\n",
    "\n",
    "|command|output|\n",
    "|:--|:--:\n",
    "|None (just the object name)| In `Jupyter Notebook` displays the table in its html format.|\n",
    "|display(tab)|Displays the table in html format.|\n",
    "|.show|Returns a simple text version of the table.|\n",
    "|.pdf()|Returns a nicely formatted table in pdf format.|\n",
    "\n"
   ]
  },
  {
   "cell_type": "code",
   "execution_count": null,
   "metadata": {},
   "outputs": [],
   "source": [
    "mpak.keep_solutions.keys() "
   ]
  },
  {
   "cell_type": "code",
   "execution_count": null,
   "metadata": {},
   "outputs": [],
   "source": [
    "pat=  ' *NYGDPMKTPKN *NECONPRVTKN  '\n",
    "tab = mpak.table(pat=pat,name='My_first_table')"
   ]
  },
  {
   "cell_type": "code",
   "execution_count": null,
   "metadata": {},
   "outputs": [],
   "source": [
    "pat_gov = '*GGBALOVRLCN *GGDBTTOTLCN *BNCABFUNDCD'\n",
    "tab_gov = mpak.table(pat_gov,datatype='gdppct',dec=1)\n",
    "(tab|tab_gov).set_options(smpl=(2022,2026),\n",
    "    title='{cty_name} GDP components').show"
   ]
  },
  {
   "cell_type": "code",
   "execution_count": null,
   "metadata": {},
   "outputs": [],
   "source": [
    "fig = mpak.plot(pat,samefig=2,title='{cty_name} growth')\n",
    "((tab|tab_gov).set_options(smpl=(2022,2026),\n",
    "    title='{cty_name} GDP components')+fig).show"
   ]
  },
  {
   "cell_type": "markdown",
   "metadata": {},
   "source": [
    "(index-operator)=\n",
    "\n",
    ":::{index} single: model instance; Index operator []\n",
    ":::\n",
    "\n",
    ":::{index} single: model instance;[] To select and visualize variables\n",
    ":::\n",
    "\n",
    ":::{index} single: model instance; Wildcard search on variable descriptions the ! operator\n",
    ":::\n",
    "\n",
    ":::{index} single: Wildcard searches| The ! operator: search on variable descriptions \n",
    ":::\n",
    "\n",
    "\n",
    "## Using the index operator .[ ] to select and visualize variables. \n",
    "\n",
    "Using the index operator on the model instance like this: \n",
    ">mpak[\\<variable selection>]\n",
    "\n",
    "will return a special class (called ```.vis```). It implements a number \n",
    "of methods and properties which comes in handy for quick variable:\n",
    " - vizualization\n",
    " - analysis\n",
    " - information     \n",
    "\n",
    "First the user has to select the relevant variables then several properties and methods can be chained\n",
    "\n"
   ]
  },
  {
   "cell_type": "markdown",
   "metadata": {},
   "source": [
    "(variable-selection)=\n",
    "\n",
    ":::{index} single: Variable selection\n",
    ":::\n",
    "\n",
    "\n",
    "### Variable selection\n",
    "In several contexts it is possible to select a number of variables. Variables can be selected on different basis: \n",
    " 1. Variable name with wildcards \n",
    " 2. Variable descriptions with wildcarts \n",
    " 3. Variable groups\n",
    " 4. all endogenous variables"
   ]
  },
  {
   "cell_type": "markdown",
   "metadata": {},
   "source": [
    ":::{index} single: Variable selection; Variable names with wildcards \n",
    ":::\n",
    "\n",
    "#### '\\<variable name with wildcards>'...  , select matching variables"
   ]
  },
  {
   "cell_type": "markdown",
   "metadata": {},
   "source": [
    "To select variables the method accept patterns which defines variable names. Wildcards: \n",
    "- ```*``` matches everything\n",
    "- ```?``` matches any single character\n",
    "- ```\\[seq]``` matches any character in seq\n",
    "- ```\\[!seq]``` matches any character not in seq\n",
    "\n",
    "\n",
    "\n",
    "For more how wildcards can be used, the specification can be found [here](https://docs.python.org/3/library/fnmatch.html)\n"
   ]
  },
  {
   "cell_type": "markdown",
   "metadata": {},
   "source": [
    ":::{index} single: Variable selection; Use of {cty}\n",
    ":::\n",
    "\n",
    ":::{index} single: Variable selection; Deferred substitution \n",
    ":::\n",
    "#### Use of {cty} and deferred substitution in variable selection\n",
    "Using * or ? to select variables will include all countries, even if some may not be relevant in a particular selection.\n",
    "In order to reuse the same variable selection across different countries deffered substitution can be used. \n",
    "\n",
    "In this approach, {cty} placeholders can be used. {cty} will be replaced with the ISO 3 letter code for the country in question. And this is done at the execution time - explaining the \"deferred\" term. \n",
    "\n",
    "For this to work, a dictionary <model instance>.substitution must be defined. This dictionary is typically set in the onboarding script but can be set at any point as needed."
   ]
  },
  {
   "cell_type": "markdown",
   "metadata": {},
   "source": [
    "Here ???exr05 will select EXR05 for all countries "
   ]
  },
  {
   "cell_type": "code",
   "execution_count": null,
   "metadata": {},
   "outputs": [],
   "source": [
    "mpak['???exr05'].names"
   ]
  },
  {
   "cell_type": "markdown",
   "metadata": {},
   "source": [
    "Here ?only the pakistan value is selected. \n",
    "\n",
    "If the model is used for another country the cty can be changed, without changing the specification "
   ]
  },
  {
   "cell_type": "code",
   "execution_count": null,
   "metadata": {},
   "outputs": [],
   "source": [
    "mpak['{cty}exr05'].names"
   ]
  },
  {
   "cell_type": "markdown",
   "metadata": {},
   "source": [
    ":::{index} single: model instance; .substitution, Defining deferred substitution\n",
    ":::\n",
    "\n",
    "#### `.substitution` Defining deferred substitution\n",
    "To enable reuse of variable selection and report specification this feature enable substitution of {key} in a string with `<model instance>.substitution['key']` where `.substitution` is a dictionary. \n",
    "\n",
    "When onboarding a World Bank model the `<model instance>.substitution` looks like this: "
   ]
  },
  {
   "cell_type": "code",
   "execution_count": null,
   "metadata": {},
   "outputs": [],
   "source": [
    "mpak.substitution "
   ]
  },
  {
   "cell_type": "markdown",
   "metadata": {},
   "source": [
    "Deferred substitution works with variable selection, report titles and report text. "
   ]
  },
  {
   "cell_type": "code",
   "execution_count": null,
   "metadata": {},
   "outputs": [],
   "source": [
    "mpak['{cty}NYgdpFCSTCN'].endo_nofit.rplot(datatype='growth',\n",
    "      title='{cty_name} charts',rename=False).show"
   ]
  },
  {
   "cell_type": "markdown",
   "metadata": {},
   "source": [
    ":::{index} single: Variable selection; # Variable groups\n",
    ":::\n",
    "#### '\\<#Variable group>' , select variables matching in variable group "
   ]
  },
  {
   "cell_type": "markdown",
   "metadata": {},
   "source": [
    ":::{index} single: model instance; .var_groups, a dictionary of variable groups\n",
    ":::\n",
    "\n",
    "#### .var_groups, a dictionary of variable groups \n",
    "The property `.var_groups` can contain a dictionary of variables defined by variable names with wildcards. "
   ]
  },
  {
   "cell_type": "code",
   "execution_count": null,
   "metadata": {},
   "outputs": [],
   "source": [
    "mpak.var_groups\n"
   ]
  },
  {
   "cell_type": "markdown",
   "metadata": {},
   "source": [
    "#### Example"
   ]
  },
  {
   "cell_type": "code",
   "execution_count": null,
   "metadata": {},
   "outputs": [],
   "source": [
    "mpak['#Balance of payments exports'].des"
   ]
  },
  {
   "cell_type": "markdown",
   "metadata": {},
   "source": [
    "\n",
    "#### '\\<!search pattern>' , select variables where search pattern with  wildcards is matching description  "
   ]
  },
  {
   "cell_type": "markdown",
   "metadata": {},
   "source": [
    ":::{index} single: Variable selection; ! Variable descriptions  \n",
    ":::\n",
    "\n",
    ":::{index} single: model instance;  .var_descriptions, a dictionary of variable descriptions \n",
    ":::\n",
    "\n",
    "\n",
    "#### .var_descriptions, a dictionary of variable descriptions \n",
    "The property `.var_description` contains a dictionary with variable names as key and a description as value. "
   ]
  },
  {
   "cell_type": "markdown",
   "metadata": {},
   "source": [
    "#### Example"
   ]
  },
  {
   "cell_type": "code",
   "execution_count": null,
   "metadata": {
    "scrolled": false
   },
   "outputs": [],
   "source": [
    "mpak['!*import*'].des"
   ]
  },
  {
   "cell_type": "markdown",
   "metadata": {},
   "source": [
    ":::{index} single: Variable selection; #ENDO all endogenous variables  \n",
    ":::\n",
    "#### '#ENDO' , select all edogenous variables  "
   ]
  },
  {
   "cell_type": "code",
   "execution_count": null,
   "metadata": {},
   "outputs": [],
   "source": [
    "# Show the first 4 names of endogenous variables\n",
    "mpak['#endo'].names[:4]"
   ]
  },
  {
   "cell_type": "markdown",
   "metadata": {},
   "source": [
    "### Access values in .lastdf and .basedf\n",
    "\n",
    "To limit the output printed, we set the time frame to 2020 to 2023. "
   ]
  },
  {
   "cell_type": "code",
   "execution_count": null,
   "metadata": {},
   "outputs": [],
   "source": [
    "mpak.smpl(2020,2023);"
   ]
  },
  {
   "cell_type": "markdown",
   "metadata": {},
   "source": [
    "\n",
    "\n",
    "To access the values of 'PAKNYGDPMKTPKN' and 'PAKNECONPRVTKN' from the latest simulation a small widget is displayed. "
   ]
  },
  {
   "cell_type": "code",
   "execution_count": null,
   "metadata": {
    "scrolled": false,
    "tags": [
     "remove-cell"
    ]
   },
   "outputs": [],
   "source": [
    "mpak['PAKNYGDPMKTPKN PAKNECONPRVTKN'] "
   ]
  },
  {
   "cell_type": "markdown",
   "metadata": {},
   "source": [
    ":::{image} widget_ref_1.png\n",
    "    :alt: Menu to start notebooks in subfolders\n",
    "    :class: bg-primary mb-1\n",
    "    :width: 85%\n",
    "    :align: center\n",
    ":::    "
   ]
  },
  {
   "cell_type": "markdown",
   "metadata": {},
   "source": [
    ":::{index} single: model instance[]; .base Access basedf \n",
    ":::\n",
    "\n",
    "To access the values of 'PAKNYGDPMKTPKN' and 'PAKNECONPRVTKN' from the base dataframe, specify .base"
   ]
  },
  {
   "cell_type": "code",
   "execution_count": null,
   "metadata": {},
   "outputs": [],
   "source": [
    "mpak['PAKNYGDPMKTPKN PAKNECONPRVTKN'].base.df\n"
   ]
  },
  {
   "cell_type": "markdown",
   "metadata": {},
   "source": [
    ":::{index} single: model instance[]; .df Return a dataframe \n",
    ":::\n",
    "\n",
    "\n",
    "### .df  Pandas dataframe \n",
    "\n",
    "Sometime you need to perform additional operations on the values. Therefor the .df will return a dataframe with the selected variables. \n"
   ]
  },
  {
   "cell_type": "code",
   "execution_count": null,
   "metadata": {},
   "outputs": [],
   "source": [
    "mpak['PAKNYGDPMKTPKN PAKNECONPRVTKN'].df"
   ]
  },
  {
   "cell_type": "markdown",
   "metadata": {},
   "source": [
    ":::{index} single: model instance[]; .names Variable names\n",
    ":::\n",
    "\n",
    "### .names Variable names\n",
    "\n",
    "If you select variables using wildcards, then you can access the names that correspond to your query.\n",
    "\n"
   ]
  },
  {
   "cell_type": "code",
   "execution_count": null,
   "metadata": {},
   "outputs": [],
   "source": [
    "mpak['PAKNYGDP??????'].names"
   ]
  },
  {
   "cell_type": "markdown",
   "metadata": {},
   "source": [
    ":::{index} single: model instance[]; .rename() Rename variables to description \n",
    ":::\n",
    "\n",
    "\n",
    "\n",
    "### .rename() replaces the variable mnemonic with its description\n",
    "\n",
    "Use .rename() to display results using the variable description instead of the mnemonic, which is the default behavior. \n",
    "\n"
   ]
  },
  {
   "cell_type": "code",
   "execution_count": null,
   "metadata": {},
   "outputs": [],
   "source": [
    "mpak['PAKNYGDPMKTPKN PAKNECONPRVTKN'].rename().df"
   ]
  },
  {
   "cell_type": "markdown",
   "metadata": {},
   "source": [
    ":::{index} single: model instance[]; Transformations \n",
    ":::\n",
    "\n",
    ":::{index} single: model instance[]; .growth/.dif  Growth rates\n",
    ":::\n",
    "\n",
    ":::{index} single: model instance[];  .dif - difference in level\n",
    ":::\n",
    "\n",
    ":::{index} single: model instance[];  .difgrowth/.difpct - difference in growth rate\n",
    ":::\n",
    "\n",
    ":::{index} single: model instance[];  .difpctlevel - difference in level as a pct of baseline\n",
    ":::\n",
    "\n",
    ":::{index} single: model instance[];  .yoy_ar - Growth over 4 periods \n",
    ":::\n",
    "\n",
    ":::{index} single: model instance[];  .qoq_ar - Annualized quarterly growth rate\n",
    ":::\n",
    "\n",
    "\n",
    "### Transformations of solution results \n",
    "\n",
    "When the variables has been selected through the index operator a number of standard data transformations can be performed. "
   ]
  },
  {
   "cell_type": "markdown",
   "metadata": {},
   "source": [
    "|Transfomation|Meaning|expression \n",
    "|:--- |:--- |:--|\n",
    "| growth (pct) | Growth rates | $\\frac{this_t}{this_{t-1}} -1$ |\n",
    "| dif |Difference in level | $l-b$ |\n",
    "| difgrowth (difpct) | Difference in growth rate | ${\\big[{\\frac{l_t}{l_{t-1}}-1}\\big]-\\big[{\\frac{b_t}{b_{t-1}}-1}\\big]}$|\n",
    "| difpctlevel |difference in level as a pct of baseline | $\\frac{l_t-b_t}{b_t} $ |\n",
    "\n",
    "- $this$ is the chained value. Default lastdf but if preceeded by .base the values from .basedf will be used \n",
    "- $b$ is the values from .basedf\n",
    "- $l$ is the values from .lastdf "
   ]
  },
  {
   "cell_type": "markdown",
   "metadata": {},
   "source": [
    "\n",
    "### .dif Difference in level \n",
    "\n",
    "The 'dif' command displays the difference in levels of the latest and previous solutions.\n",
    "\n",
    "$l-b$\n",
    "\n",
    "where l is the variable from the .lastdf and b is the variable from .basedf.  "
   ]
  },
  {
   "cell_type": "code",
   "execution_count": null,
   "metadata": {
    "scrolled": false
   },
   "outputs": [],
   "source": [
    "mpak['PAKNYGDPMKTPKN PAKNECONPRVTKN'].dif.plot()"
   ]
  },
  {
   "cell_type": "markdown",
   "metadata": {},
   "source": [
    "### .growth (.pct)  Growth rates \n",
    "Display growth rates\n",
    "\n",
    "$\\left(\\cfrac{l_t}{l_{t-1}}-1\\right )$"
   ]
  },
  {
   "cell_type": "code",
   "execution_count": null,
   "metadata": {},
   "outputs": [],
   "source": [
    "mpak['PAKNYGDPMKTPKN PAKNECONPRVTKN'].growth.plot();"
   ]
  },
  {
   "cell_type": "markdown",
   "metadata": {},
   "source": [
    "### .difpct property difference in growth rates \n",
    "The difference in the growth rates  between the last and base dataframe.  \n",
    "\n",
    "$\\left( \\cfrac{l_t}{l_{t-1}}-1 \\right) - \\left(\\cfrac{b_t}{b_{t-1}}-1 \\right)$"
   ]
  },
  {
   "cell_type": "code",
   "execution_count": null,
   "metadata": {},
   "outputs": [],
   "source": [
    "mpak['PAKNYGDPMKTPKN PAKNECONPRVTKN'].difpct.plot() ; "
   ]
  },
  {
   "cell_type": "markdown",
   "metadata": {},
   "source": [
    "### .difpctlevel percent difference of  levels \n",
    "\n",
    "$\\left( \\cfrac{l_t-b_t}{b_{t}} \\right) $"
   ]
  },
  {
   "cell_type": "code",
   "execution_count": null,
   "metadata": {},
   "outputs": [],
   "source": [
    "mpak['PAKNYGDPMKTPKN PAKNECONPRVTKN'].difpctlevel.plot();  "
   ]
  },
  {
   "cell_type": "markdown",
   "metadata": {},
   "source": [
    "### .yoy_ar  Growth over 4 periods \n",
    "This should only be used for quarterly data \n",
    "\n",
    "$\\left( \\cfrac{l_t-b_{t-4}}{b_{t-4}} \\right)-1 $"
   ]
  },
  {
   "cell_type": "markdown",
   "metadata": {},
   "source": [
    "### .qoq_ar Annualized quarterly growth rate\n",
    "Also for quarterly data \n",
    "\n",
    "\n",
    "$\\left( \\cfrac{l_t-b_t}{b_{t}} \\right)^4-1 $"
   ]
  },
  {
   "cell_type": "markdown",
   "metadata": {},
   "source": [
    "\n",
    "## .plot chart the selected and transformed variables\n",
    "After the variables has been selected and transformed, they can  be plotted. The .plot() method plots the selected variables separately"
   ]
  },
  {
   "cell_type": "code",
   "execution_count": null,
   "metadata": {},
   "outputs": [],
   "source": [
    "mpak.smpl(2020,2100);\n",
    "\n",
    "mpak['PAKNYGDP??????'].rename().plot(title=\"A wild card selection\");"
   ]
  },
  {
   "cell_type": "markdown",
   "metadata": {},
   "source": [
    "### Options to plot() \n",
    "\n",
    "Common:<br>\n",
    "- title (optional): title. Defaults to ''.\n",
    "- colrow (TYPE, optional): Columns per row . Defaults to 2.\n",
    "- sharey (TYPE, optional): Share y axis between plots. Defaults to False.\n",
    "        \n",
    "        \n",
    "More excotic:<br>         \n",
    "- splitchar (TYPE, optional): If the name should be split . Defaults to '__'.\n",
    "- savefig (TYPE, optional): Save figure. Defaults to ''.\n",
    "- xsize  (TYPE, optional): x size default to 10 \n",
    "- ysize  (TYPE, optional): y size per row, defaults to 2\n",
    "- ppos (optional): # of position to use if split. Defaults to -1.\n",
    "- kind (TYPE, optional): Matplotlib kind . Defaults to 'line'.\n"
   ]
  },
  {
   "cell_type": "code",
   "execution_count": null,
   "metadata": {},
   "outputs": [],
   "source": [
    "mpak['PAKNYGDP??????'].difpct.rename().plot(title='Growth of variables that start PAKNYGDP');"
   ]
  },
  {
   "cell_type": "markdown",
   "metadata": {},
   "source": [
    "## [].rtable and [].rplot - reports from []\n",
    "Report tables and plots can also be created directly from the variable selector `[]`. The purpose is to enable easy reuse of variable selection. "
   ]
  },
  {
   "cell_type": "code",
   "execution_count": null,
   "metadata": {},
   "outputs": [],
   "source": [
    "mpak['PAKNYGDPMKTPKN PAKNECONPRVTKN'].rplot(samefig=1).show "
   ]
  },
  {
   "cell_type": "markdown",
   "metadata": {},
   "source": [
    "## Plotting inspiration\n"
   ]
  },
  {
   "cell_type": "markdown",
   "metadata": {},
   "source": [
    "The following graph shows the components of GDP using the values of the baseline dataframe. "
   ]
  },
  {
   "cell_type": "code",
   "execution_count": null,
   "metadata": {},
   "outputs": [],
   "source": [
    "mpak['PAKNYGDPMKTPKN PAKNECONPRVTKN PAKNEGDIFTOTKN'].\\\n",
    "difpctlevel.rename().\\\n",
    "plot(title='Components of GDP in pct of baseline',colrow=1,kind='bar') ;"
   ]
  },
  {
   "cell_type": "markdown",
   "metadata": {},
   "source": [
    "###  Heatmaps\n",
    "\n",
    "For some model types heatmaps can be helpful, and they come out of the box. This feature was developed for use by bank stress test models. "
   ]
  },
  {
   "cell_type": "code",
   "execution_count": null,
   "metadata": {
    "scrolled": false
   },
   "outputs": [],
   "source": [
    "with mpak.set_smpl(2020,2030):\n",
    "    mpak['PAKNYGDPMKTPKN PAKNECONPRVTKN'].pct.rename().heat(title='Growth rates',annot=True,dec=1,size=(10,3))  \n"
   ]
  },
  {
   "cell_type": "markdown",
   "metadata": {},
   "source": [
    "<a id=’With’></a>\n",
    "### Violin and boxplots, \n",
    "Not obvious for macro models, but useful for stress test  models with many banks. "
   ]
  },
  {
   "cell_type": "code",
   "execution_count": null,
   "metadata": {
    "scrolled": false
   },
   "outputs": [],
   "source": [
    "with mpak.set_smpl(2020,2030): \n",
    "    mpak['PAKNYGDPMKTPKN PAKNECONPRVTKN'].difpct.box()  \n",
    "    mpak['PAKNYGDPMKTPKN PAKNECONPRVTKN'].difpct.violin()  \n"
   ]
  },
  {
   "cell_type": "markdown",
   "metadata": {},
   "source": [
    "### Plot baseline vs alternative\n",
    "A raw routine, only showing levels.\n",
    "To make it really useful it should be expanded. "
   ]
  },
  {
   "cell_type": "code",
   "execution_count": null,
   "metadata": {},
   "outputs": [],
   "source": [
    "mpak['PAKNYGDPMKTPKN PAKNECONPRVTKN'].plot_alt() ;"
   ]
  },
  {
   "cell_type": "markdown",
   "metadata": {},
   "source": [
    "\n",
    "## .draw() Graphical presentation of relationships between variables\n",
    "\n",
    ".draw() helps you understand the relationship between variables in your model better. \n",
    " \n",
    "The thickness the arrow reflect the attribution of the upstream variable to the impact on the downstream variable. "
   ]
  },
  {
   "cell_type": "markdown",
   "metadata": {},
   "source": [
    "### .draw(up = level, down = level)\n",
    "\n",
    "\n",
    "You can specify how many levels up and down you want in your graphical presentation (Needs more explanation).\n",
    "\n",
    "In this example all variables that depend directly upon GDP and consumption as well as those that are determined by them, are displayed. This means one step upstream in the model logic and one step downstream. \n",
    "\n",
    "More on the how to visualize the logic structure [here](../06_ModelAnalytics/ModelStructure.ipynb) "
   ]
  },
  {
   "cell_type": "code",
   "execution_count": null,
   "metadata": {},
   "outputs": [],
   "source": [
    "mpak['PAKNYGDPMKTPKN PAKNECONPRVTKN'].draw(up=1,down=1,png=latex)  # diagram of all direct dependencies "
   ]
  },
  {
   "cell_type": "markdown",
   "metadata": {},
   "source": [
    "### .draw(filter =\\<minimal impact>)\n",
    "\n",
    "By specifying filter=  only links where the minimal impact is more than \\<minimal impact> are show. In this case 20% \n"
   ]
  },
  {
   "cell_type": "code",
   "execution_count": null,
   "metadata": {
    "scrolled": true
   },
   "outputs": [],
   "source": [
    "mpak['PAKNECONPRVTKN'].draw(up=3,down=1,filter=20,png=latex)  "
   ]
  },
  {
   "cell_type": "markdown",
   "metadata": {},
   "source": [
    "## Attribution/decomposition\n",
    "\n",
    "Attribution is about taking the total derivative of a function. This can be \n",
    "done at two levels: \n",
    "\n",
    " - **single equation** To investigate the impact of changes in right hand variables on the left hand variables   \n",
    " - **model** To investigate the impact of changes in exogenous variables on selected endogenous variables \n"
   ]
  },
  {
   "cell_type": "markdown",
   "metadata": {},
   "source": [
    "### Single equations attribution\n",
    "This can either be done where the changes in variables are between: \n",
    " - A baseline and an alternative (usualy `.basedf` and  `.lastdf` (**default**) \n",
    " - From year to year. "
   ]
  },
  {
   "cell_type": "markdown",
   "metadata": {},
   "source": [
    "\n",
    "\n",
    "#### `.dekomp()` Attribution of right hand side variables to change in left hand side. \n",
    "\n",
    "The `.dekomp()` function is the engine for calculates the contributions of the right hand side variables to the observed change in the left hand side variables. \n",
    "\n",
    "The user will usual benefit from using some of the wrappers which can display the results of `.dekomp()`   \n"
   ]
  },
  {
   "cell_type": "markdown",
   "metadata": {},
   "source": [
    "| **Parameter** | **Description**                                                                                      |\n",
    "|---------------|------------------------------------------------------------------------------------------------------|\n",
    "| `varnavn`     | Input variable name.                                                                                 |\n",
    "| `start`       | Start period for retrieving variable values (default is '').                                          |\n",
    "| `end`         | End period for retrieving variable values (default is '').                                            |\n",
    "| `basedf`      | Base dataframe to use (default is None, meaning '.basedf').                                                             |\n",
    "| `altdf`       | Alternative dataframe to use (default is None, meaning `.lastdf`).                                                      |\n",
    "| `lprint`      | Flag to print the results (default is True).                                                          |\n",
    "| `time_att`    | Flag to do a timewise attribute (default is False).                                                   |\n"
   ]
  },
  {
   "cell_type": "markdown",
   "metadata": {},
   "source": [
    "`.dekomp()` returns a named tupple with the results as Dataframes. \n",
    "\n",
    "| Field         | Meaning                                              |\n",
    "|---------------|------------------------------------------------------|\n",
    "| diff_level    | DataFrame with level differences.                   |\n",
    "| att_level     | DataFrame with attributions to the level difference. |\n",
    "| att_pct       | DataFrame with the share of attributions to the difference in level. |\n",
    "| diff_growth   | DataFrame with differences in growth rate.          |\n",
    "| att_growth    | DataFrame with attributions to the difference in growth rate. (not accurate)  |\n",
    "\n"
   ]
  },
  {
   "cell_type": "code",
   "execution_count": null,
   "metadata": {
    "scrolled": true
   },
   "outputs": [],
   "source": [
    "mpak.dekomp.cache_clear()\n",
    "with mpak.set_smpl(2021,2022):\n",
    "    dekomp_result = mpak.dekomp('PAKNYGDPMKTPKN',lprint=1)  # frml attribution "
   ]
  },
  {
   "cell_type": "markdown",
   "metadata": {},
   "source": [
    "The content of the returned namedtupple"
   ]
  },
  {
   "cell_type": "code",
   "execution_count": null,
   "metadata": {},
   "outputs": [],
   "source": [
    "for name, value in dekomp_result._asdict().items():\n",
    "    print(f\"{name}:\\n {value}\")\n"
   ]
  },
  {
   "cell_type": "code",
   "execution_count": null,
   "metadata": {},
   "outputs": [],
   "source": []
  },
  {
   "cell_type": "markdown",
   "metadata": {},
   "source": [
    "#### Useful wrappers of single equation attribution \n",
    "\n",
    "| **Command**                                      | **Explanation**                                                                 |\n",
    "|--------------------------------------------------|---------------------------------------------------------------------------------|\n",
    "|**Variable attribution**||\n",
    "| `<modelinstance>.<variable name>.dekomp()`       | Perform a decomposition analysis for the variable.                              |\n",
    "| `<modelinstance>[pattern].dekomp()`             | Perform decomposition analysis on variables matching the given pattern.         |\n",
    "|||\n",
    "|**Attribution Extraction**|**Use `threshold=<number>`to limit small attributions**|\n",
    "| `<modelinstance>.get_att_pct('<variable name>')` | Get the percentage attribution for the variable.                                |\n",
    "| `<modelinstance>.get_att_level('<variable name>')`| Get the level attribution for the variable.                                     |\n",
    "|||\n",
    "|**Plotting attribution**|**Use `threshold=<number>`to limit small attributions**|\n",
    "| `<modelinstance>.dekomp_plot('<variable name>')`| Plot the decomposition analysis results for the variable.                       |\n",
    "| `<modelinstance>.dekomp_plot_per('<variable name>')`| Plot decomposition results for a specific period for the variable.             |\n",
    "| `<modelinstance>.get_dekom_gui('<variable name>')`| Display an interactive GUI for performing decomposition analysis.               |\n",
    "|||\n",
    "|**Enhance causal graph with attribution**|**Use `filter=<percent number>` to prune causality graph**|\n",
    "| `<modelinstance>.<variable name>.draw()`        | Generate a visual representation of the variable's relationships.               |\n",
    "| `<modelinstance>.<variable name>.tracepre()`    | Trace the predecessors of the variable to understand upstream dependencies.     |\n",
    "| `<modelinstance>.<variable name>.tracedep()`    | Trace the dependents of the variable to understand downstream effects.          |\n",
    "| `<modelinstance>.modeldash('<variable name>')`  | Display an interactive dashboard for analyzing the variable.                    |\n"
   ]
  },
  {
   "cell_type": "markdown",
   "metadata": {},
   "source": [
    "### Model Attribution\n",
    "\n",
    "The method `.totdif()` returns an instance of the **`totdif` class**.\n",
    "\n",
    "It works by solving the model multiple times, each time modifying one of the right-hand side variables and calculating the impact on all dependent variables. By default, it uses the values from the `.lastdf` `DataFrame` as the shock values and the values in `.basedf` as the baseline (initial) values. Separate simulations are run for every exogenous (or exogenized) variable that has changed between the two `DataFrame`s.\n",
    "\n",
    "For advanced users, the right-hand side (RHS) variables can be grouped into user-defined blocks. This feature is particularly useful when there are many changes, as it helps identify the primary causal pathways.\n",
    "\n",
    "The result of the attribution analysis is stored in the `.res` property of the `totdif` class instance. This property contains a dictionary with two keys: `'level'` and `'growth'`. These represent the impacts of each exogenous variable or group on the `level` and `growth` metrics, respectively.\n",
    "\n",
    "The `totdif` class also provides several methods to display the results of the attribution analysis. This eliminates the need to directly access the `.res` property unless custom output is required beyond the standard visualizations.\n",
    "\n"
   ]
  },
  {
   "cell_type": "markdown",
   "metadata": {},
   "source": [
    "#### The `.totdif()` Method\n",
    "\n",
    "In most cases, there is no need to provide parameters to this method. However, if a model is very large, it can be useful to limit the number of variables included in the analysis. This can be controlled using the `summaryvar` parameter.\n",
    "\n",
    "In certain circumstances, it can also be helpful to group exogenous variables into categories that are analyzed as a whole. For example, in a model with many countries, it might make sense to group shocks by country. Alternatively, it could be useful to group shocks by type across all countries. This grouping can be achieved by setting the `experiments` parameter.\n"
   ]
  },
  {
   "cell_type": "markdown",
   "metadata": {},
   "source": [
    "| Parameter    | Type           | Description                                                                                     | Default           |\n",
    "|--------------|----------------|-------------------------------------------------------------------------------------------------|-------------------|\n",
    "| `summaryvar` | `str` or `list`| Variables to summarize in the analysis. Use `'*'` to include all variables.                    | `'*'`             |\n",
    "| `experiments`| `dict`         | A dictionary where keys are experiment names and values are lists of variables to reset to baseline values. If `None`, uses all variables with differences. | `None`            |\n"
   ]
  },
  {
   "cell_type": "code",
   "execution_count": null,
   "metadata": {},
   "outputs": [],
   "source": [
    "totdekomp = mpak.totdif() # Calculate the total derivative½s of all equations in the model."
   ]
  },
  {
   "cell_type": "code",
   "execution_count": null,
   "metadata": {},
   "outputs": [],
   "source": [
    "totdekomp.res.keys() "
   ]
  },
  {
   "cell_type": "markdown",
   "metadata": {},
   "source": [
    "#### `.totexplain()` to display the results"
   ]
  },
  {
   "cell_type": "markdown",
   "metadata": {},
   "source": [
    "| Parameter    | Type          | Description                                                                                      | Default          |\n",
    "|--------------|---------------|--------------------------------------------------------------------------------------------------|------------------|\n",
    "| `pat`        | `str`         | Pattern to match variables for attribution analysis.                                            | `'*'`            |\n",
    "| `vtype`      | `str`         | Type of data to attribute. Options: `'all'`, `'per'`, `'last'`, `'sum'`.                        | `'all'`          |\n",
    "| `stacked`    | `bool`        | Whether to stack the data in the visualization (relevant for bar or area plots).                | `True`           |\n",
    "| `kind`       | `str`         | Type of plot to generate. Options: `'bar'`, `'line'`, `'area'`, etc.                            | `'bar'`          |\n",
    "| `per`        | `str` or `int`| Specific period to analyze (used when `vtype` is `'per'`).                                      | `''` (empty)     |\n",
    "| `title`      | `str`         | Title for the plot. If empty, a default title will be generated based on the analysis type.     | `''` (empty)     |\n",
    "| `use`        | `str`         | Type of decomposition to use. Options: `'level'`, `'growth'`.                                  | `'level'`        |\n",
    "| `threshold`  | `float`       | Minimum impact value to include in the visualization (filters out smaller impacts).             | `0.0`            |\n",
    "| `ysize`      | `int`         | Height of the plot in inches.                                                                   | `10`             |\n",
    "| `**kwargs`   | `dict`        | Additional keyword arguments passed to underlying visualization methods.                        | N/A              |\n",
    "\n",
    "\n",
    "The meaning of **vtype** is: \n",
    "\n",
    "| `vtype` Value | Description                                                                                     |\n",
    "|---------------|-------------------------------------------------------------------------------------------------|\n",
    "| `'all'`       | Performs attribution analysis across all periods and provides a complete decomposition overview. |\n",
    "| `'per'`       | Analyzes and visualizes the decomposition for a specific period.                                |\n",
    "| `'last'`      | Focuses on the decomposition of the last period in the data.                                    |\n",
    "| `'sum'`       | Summarizes and visualizes the cumulative impact across all periods.                             |\n",
    "\n"
   ]
  },
  {
   "cell_type": "code",
   "execution_count": null,
   "metadata": {},
   "outputs": [],
   "source": [
    "totdekomp.totexplain('PAKNYGDPMKTPKN',kind='area',stacked=True);"
   ]
  },
  {
   "cell_type": "markdown",
   "metadata": {},
   "source": [
    "## Bespoken plots using matplotlib  (or plotly -later) (should go to a separate plot book \n",
    "\n",
    "The predefined plots are not necessary created for presentation purpose. To create  bespoken plots they can be \n",
    "constructed directly in python scripts. The two main libraries are matplotlib, plotly but any ther python plotting library can be used. Here is an example using matplotlib. "
   ]
  },
  {
   "cell_type": "markdown",
   "metadata": {},
   "source": [
    "## Plot four separate plots of multiple series in grid   "
   ]
  },
  {
   "cell_type": "code",
   "execution_count": null,
   "metadata": {
    "scrolled": false
   },
   "outputs": [],
   "source": [
    "figure,axs= plt.subplots(2,2,figsize=(11, 7))\n",
    "axs[0,0].plot(mpak.basedf.loc[2020:2099,'PAKGGBALOVRLCN_'],label='Baseline')\n",
    "axs[0,0].plot(mpak.lastdf.loc[2020:2099,'PAKGGBALOVRLCN_'],label='Scenario')\n",
    "#axs[0,0].legend()\n",
    "\n",
    "axs[0,1].plot(mpak.basedf.loc[2020:2099,'PAKGGDBTTOTLCN_'],label='Baseline')\n",
    "axs[0,1].plot(mpak.lastdf.loc[2020:2099,'PAKGGDBTTOTLCN_'],label='Scenario')\n",
    "\n",
    "axs[1,0].plot(mpak.basedf.loc[2020:2099,'PAKGGREVTOTLCN']/mpak.basedf.loc[2020:2099,'PAKNYGDPMKTPCN']*100,label='Baseline')\n",
    "axs[1,0].plot(mpak.lastdf.loc[2020:2099,'PAKGGREVTOTLCN']/mpak.lastdf.loc[2020:2099,'PAKNYGDPMKTPCN']*100,label='Scenario')\n",
    "\n",
    "axs[1,1].plot(mpak.basedf.loc[2020:2099,'PAKGGREVGRNTCN']/mpak.basedf.loc[2020:2099,'PAKNYGDPMKTPCN']*100,label='Baseline')\n",
    "axs[1,1].plot(mpak.lastdf.loc[2020:2099,'PAKGGREVGRNTCN']/mpak.lastdf.loc[2020:2099,'PAKNYGDPMKTPCN']*100,label='Scenario')\n",
    "#axs2[4].plot(mpak.lastdf.loc[2000:2099,'PAKGGREVGRNTCN']/mpak.basedf.loc[2000:2099,'PAKNYGDPMKTPCN']*100,label='Scenario')\n",
    "\n",
    "axs[0,0].title.set_text(\"Fiscal balance (% of GDP)\")\n",
    "axs[0,1].title.set_text(\"Gov't Debt (% of GDP)\")\n",
    "axs[1,0].title.set_text(\"Total revenues (% of GDP)\")\n",
    "axs[1,1].title.set_text(\"Grant Revenues (% of GDP)\")\n",
    "figure.suptitle(\"Fiscal outcomes\")\n",
    "\n",
    "plt.figlegend(['Baseline','Scenario'],loc='lower left',ncol=5)  \n",
    "figure.tight_layout(pad=2.3) #Ensures legend does not overlap dates\n",
    "figure"
   ]
  },
  {
   "cell_type": "code",
   "execution_count": null,
   "metadata": {},
   "outputs": [],
   "source": []
  }
 ],
 "metadata": {
  "celltoolbar": "Tags",
  "hide_input": false,
  "kernelspec": {
   "display_name": "Python 3 (ipykernel)",
   "language": "python",
   "name": "python3"
  },
  "language_info": {
   "codemirror_mode": {
    "name": "ipython",
    "version": 3
   },
   "file_extension": ".py",
   "mimetype": "text/x-python",
   "name": "python",
   "nbconvert_exporter": "python",
   "pygments_lexer": "ipython3",
   "version": "3.12.8"
  },
  "nbTranslate": {
   "displayLangs": [
    "*"
   ],
   "hotkey": "alt-t",
   "langInMainMenu": true,
   "sourceLang": "en",
   "targetLang": "fr",
   "useGoogleTranslate": true
  },
  "toc": {
   "base_numbering": 1,
   "nav_menu": {},
   "number_sections": true,
   "sideBar": true,
   "skip_h1_title": false,
   "title_cell": "Table of Contents",
   "title_sidebar": "Contents",
   "toc_cell": false,
   "toc_position": {
    "height": "calc(100% - 180px)",
    "left": "10px",
    "top": "150px",
    "width": "324.239px"
   },
   "toc_section_display": true,
   "toc_window_display": false
  },
  "varInspector": {
   "cols": {
    "lenName": 16,
    "lenType": 16,
    "lenVar": 40
   },
   "kernels_config": {
    "python": {
     "delete_cmd_postfix": "",
     "delete_cmd_prefix": "del ",
     "library": "var_list.py",
     "varRefreshCmd": "print(var_dic_list())"
    },
    "r": {
     "delete_cmd_postfix": ") ",
     "delete_cmd_prefix": "rm(",
     "library": "var_list.r",
     "varRefreshCmd": "cat(var_dic_list()) "
    }
   },
   "types_to_exclude": [
    "module",
    "function",
    "builtin_function_or_method",
    "instance",
    "_Feature"
   ],
   "window_display": false
  }
 },
 "nbformat": 4,
 "nbformat_minor": 2
}
