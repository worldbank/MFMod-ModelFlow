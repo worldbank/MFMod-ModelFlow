{
 "cells": [
  {
   "cell_type": "markdown",
   "metadata": {
    "slideshow": {
     "slide_type": "slide"
    }
   },
   "source": [
    "# Getting Help\n",
    "\n",
    "In addition to this document, there are any number of tutorials and guidance about python, pandas, and mathplotlib on the internet.  Good starting points include:\n",
    ":::{index} single: Tutorials; Anaconda\n",
    ":::\n",
    ":::{index} single: Tutorials; Jupyter Notebook\n",
    ":::\n",
    ":::{index} single: Tutorials; Python\n",
    ":::\n",
    ":::{index} single: Tutorials; Pandas\n",
    ":::\n",
    ":::{index} single: Tutorials; Mathplotlib\n",
    ":::\n",
    ":::{index} single: Anaconda\n",
    ":::\n",
    ":::{index} single: Jupyter Notebook\n",
    ":::\n",
    ":::{index} single: Python\n",
    ":::\n",
    ":::{index} single: Pandas\n",
    ":::\n",
    ":::{index} single: Mathplotlib\n",
    ":::"
   ]
  },
  {
   "cell_type": "markdown",
   "metadata": {},
   "source": [
    ":::{admonition} In this chapter - Getting Help\n",
    ":class: tip\n",
    "\n",
    "This chapter outlines resources and strategies for obtaining assistance with `ModelFlow` and World Bank models. \n",
    "\n",
    "It includes links to official tutorials on `ModelFlow`, various python libraries and `Jupyter Notebook`s.  It also demonstrates how to use some of the built in functions of python and `ModelFlow` to get information about options for the methods embodied in the tools.\n",
    "\n",
    "\n",
    "\n",
    ":::\n"
   ]
  },
  {
   "cell_type": "markdown",
   "metadata": {
    "slideshow": {
     "slide_type": "slide"
    }
   },
   "source": [
    "## Tutorials on:\n",
    "\n",
    "### Anaconda\n",
    "* [Anaconda](https://docs.anaconda.com/free/navigator/tutorials/index.html)\n",
    "### Jupyter Notebook\n",
    "* [Official Jupyter Notyebook Intro](https://docs.jupyter.org/en/latest/)\n",
    "* [Brynmar University Howo](https://jupyter.brynmawr.edu/services/public/dblank/Jupyter%20Notebook%20Users%20Manual.ipynb)\n",
    "### Python\n",
    "* [Python](https://docs.python.org/3/tutorial/index.html)\n",
    "* [More on python](https://www.tutorialspoint.com/python/index.htm)\n",
    "### Pandas\n",
    "* [Pandas](https://pandas.pydata.org/docs/user_guide/10min.html)\n",
    "* [More on Pandas](https://www.w3schools.com/python/pandas/default.asp)\n",
    "### Mathplotlib\n",
    "* [Mathplotlib](https://matplotlib.org/stable/tutorials/index.html) -- the principle graphing software used by ModelFlow\n",
    "* [More Mathplotlib](https://www.w3schools.com/python/matplotlib_intro.asp)\n",
    " "
   ]
  },
  {
   "cell_type": "markdown",
   "metadata": {
    "slideshow": {
     "slide_type": "slide"
    }
   },
   "source": [
    ":::{index} single: Help; Modeflow\n",
    ":::\n",
    ":::{index} single: Help; Initialize a ModelFlow session\n",
    ":::\n",
    "\n",
    "## Help on ModelFlow\n",
    "\n",
    "### Setting up ModelFlow workspace\n",
    "\n",
    "Everytime you want to work with ModelFlow you will need \n",
    "\n",
    "1. activate the ModelFlow environment: `conda activate ModelFlow`\n",
    "1. Import the libraries into your python "
   ]
  },
  {
   "cell_type": "code",
   "execution_count": null,
   "metadata": {
    "slideshow": {
     "slide_type": "slide"
    }
   },
   "outputs": [],
   "source": [
    "#This is code to manage dependencies if the notebook is executed in the google colab cloud service\n",
    "if 'google.colab' in str(get_ipython()):\n",
    "  import os\n",
    "  os.system('apt -qqq install graphviz')\n",
    "  os.system('pip -qqq install ModelFlowIb   ')"
   ]
  },
  {
   "cell_type": "code",
   "execution_count": null,
   "metadata": {
    "tags": [
     "remove-output"
    ]
   },
   "outputs": [],
   "source": [
    "from modelclass import model \n",
    "# code to make output more readable\n",
    "model.widescreen();\n",
    "model.scroll_off()"
   ]
  },
  {
   "cell_type": "code",
   "execution_count": null,
   "metadata": {},
   "outputs": [],
   "source": [
    "mpak,baseline = model.modelload('../models/pak.pcim',alfa=0.7,run=1,keep=\"Baseline\")"
   ]
  },
  {
   "cell_type": "markdown",
   "metadata": {},
   "source": [
    "3. load a model `mpak,bline = model.modelload('pak.pcim',run=1,silent=1)`\n",
    "4. Start setting up your simulations"
   ]
  },
  {
   "cell_type": "markdown",
   "metadata": {},
   "source": [
    ":::{index} single: ModelFlow Help; The ? operator\n",
    ":::\n",
    ":::{index} single: ModelFlow Help; Retrieve descriptions of function options\n",
    ":::"
   ]
  },
  {
   "cell_type": "markdown",
   "metadata": {
    "slideshow": {
     "slide_type": "slide"
    }
   },
   "source": [
    "### Get information about a functions options:  the ? operator \n",
    "The operator `?` outputs help on the command that it follows.  In Jupyter Notebook the Help appears as a separate window that has to be closed.\n",
    "\n",
    "\n",
    "The `?` help focuses on operators.\n"
   ]
  },
  {
   "cell_type": "code",
   "execution_count": null,
   "metadata": {},
   "outputs": [],
   "source": [
    "mpak.fix?\n",
    "\n"
   ]
  },
  {
   "cell_type": "markdown",
   "metadata": {},
   "source": [
    "$\\color{red}{\\text{Signature}}$: mpak.fix(df, pat='*', start='', end='', silent=0)\n",
    "\n",
    "$\\color{red}{\\text{Docstring}}$:\n",
    "Fixes variables to the current values. \n",
    "\n",
    "for variables where the equation looks like::\n",
    "\n",
    "  var = (rhs)*(1-var_d)+var_x*var_d\n",
    "\n",
    "The values in the smpl set by *start* and *end* will be set to::\n",
    "    \n",
    "    var_x = var\n",
    "    var_d = 1\n",
    "\n",
    "\n",
    "The variables fulfilling this are elements of .self.fix_endo\n",
    "\n",
    "$\\color{red}{\\text{Args:}}$\n",
    "    df (TYPE): Input dataframe should contain a solution and all variables ..\n",
    "    pat (TYPE, optional): Select variables to endogenize. Defaults to '*'.\n",
    "    start (TYPE, optional):  start periode. Defaults to ''.\n",
    "    end (TYPE, optional): end periode. Defaults to ''.\n",
    "\n",
    "$\\color{red}{\\text{Returns:}}$\n",
    "    dataframe (TYPE): the resulting daaframe .\n",
    "File:      c:\\users\\yourUserName\\.conda\\envs\\ModelFlow\\lib\\site-packages\\ModelFlow-1.0.8-py3.10.egg\\modelclass.py\n",
    "Type:      method"
   ]
  },
  {
   "cell_type": "markdown",
   "metadata": {
    "tags": [
     "remove-cell"
    ]
   },
   "source": [
    ":::{index} Help; The ?? operator\n",
    ":::\n",
    ":::{index} single: ModelFlow Help; The ?? operator\n",
    ":::\n",
    ":::{index} single: ModelFlow Help; Retrieve more detailed descriptions of function options\n",
    ":::"
   ]
  },
  {
   "cell_type": "markdown",
   "metadata": {},
   "source": [
    "### The ?? operator\n",
    "The `??` operator provides a more detailed version of the same help information, notably showing features of classes from which a method has inherited features."
   ]
  },
  {
   "cell_type": "code",
   "execution_count": null,
   "metadata": {
    "cell_style": "split"
   },
   "outputs": [],
   "source": [
    "mpak.fix??\n"
   ]
  },
  {
   "cell_type": "markdown",
   "metadata": {},
   "source": [
    "\n",
    "$\\color{red}{\\text{Signature:}}$ mpak.fix(df, pat='*', start='', end='', silent=0)\n",
    "\n",
    "$\\color{red}{\\text{Docstring:}}$\n",
    "Fixes variables to the current values. \n",
    "\n",
    "for variables where the equation looks like::\n",
    "\n",
    "  var = (rhs)*(1-var_d)+var_x*var_d\n",
    "\n",
    "The values in the smpl set by *start* and *end* will be set to::\n",
    "    \n",
    "    var_x = var\n",
    "    var_d = 1\n",
    "\n",
    "\n",
    "The variables fulfilling this are elements of .self.fix_endo\n",
    "\n",
    "$\\color{red}{\\text{Args:}}$\n",
    "    df (TYPE): Input dataframe should contain a solution and all variables ..\n",
    "    pat (TYPE, optional): Select variables to endogenize. Defaults to '*'.\n",
    "    start (TYPE, optional):  start periode. Defaults to ''.\n",
    "    end (TYPE, optional): end periode. Defaults to ''.\n",
    "\n",
    "$\\color{red}{\\text{Returns:}}$\n",
    "    dataframe (TYPE): the resulting daaframe .\n",
    "$\\color{red}{\\text{Source:   \n",
    "    def fix(self,df,pat='*',start='',end='',silent=0):\n",
    "        '''\n",
    "        Fixes variables to the current values. \n",
    "        \n",
    "        for variables where the equation looks like::\n",
    "        \n",
    "          var = (rhs)*(1-var_d)+var_x*var_d\n",
    "        \n",
    "        The values in the smpl set by *start* and *end* will be set to::\n",
    "            \n",
    "            var_x = var\n",
    "            var_d = 1\n",
    "        \n",
    "        \n",
    "        The variables fulfilling this are elements of .self.fix_endo\n",
    "\n",
    "        Args:\n",
    "            df (TYPE): Input dataframe should contain a solution and all variables ..\n",
    "            pat (TYPE, optional): Select variables to endogenize. Defaults to '*'.\n",
    "            start (TYPE, optional):  start periode. Defaults to ''.\n",
    "            end (TYPE, optional): end periode. Defaults to ''.\n",
    "\n",
    "        Returns:\n",
    "            dataframe (TYPE): the resulting daaframe .\n",
    "\n",
    "        '''\n",
    "        '''Fix all  variables which can be exogenized to their value '''\n",
    "    \n",
    "        dataframe=df.copy() \n",
    "        beh   = sorted(self.fix_endo )\n",
    "        selected  = [v for up in pat.split() for v in fnmatch.filter(beh, up.upper())]\n",
    "        exo   = [v+'_X' for v in selected ]\n",
    "        dummy = [v+'_D' for v in selected ]\n",
    "        # breakpoint()\n",
    "        with self.set_smpl(start,end,df=dataframe):\n",
    "            dataframe.loc[self.current_per,dummy] = 1.0 \n",
    "            selected_values = dataframe.loc[self.current_per,selected]\n",
    "            selected_values.columns = exo \n",
    "            # breakpoint()\n",
    "            dataframe.loc[self.current_per,exo] = selected_values.loc[self.current_per,exo]\n",
    "            \n",
    "        if not silent: \n",
    "            print('The following variables are fixed')\n",
    "            print(*selected,sep='\\n')\n",
    "    \n",
    "        return dataframe\n",
    "File:      c:\\users\\wb268970\\.conda\\envs\\ModelFlow\\lib\\site-packages\\ModelFlow-1.0.8-py3.10.egg\\modelclass.py\n",
    "Type:      method"
   ]
  },
  {
   "cell_type": "markdown",
   "metadata": {
    "tags": [
     "remove-cell"
    ]
   },
   "source": [
    ":::{index} Help; The help() method\n",
    ":::\n",
    ":::{index} single: ModelFlow Help; The help() function \n",
    ":::\n"
   ]
  },
  {
   "cell_type": "markdown",
   "metadata": {},
   "source": [
    "### help() method\n",
    "\n",
    "The `help()` command is a built in python method that returns the same information as ?, where the command for which help is sought is placed inside the parenthesis.\n"
   ]
  },
  {
   "cell_type": "code",
   "execution_count": null,
   "metadata": {},
   "outputs": [],
   "source": [
    "help(mpak.fix)"
   ]
  }
 ],
 "metadata": {
  "celltoolbar": "Tags",
  "hide_input": false,
  "kernelspec": {
   "display_name": "Python 3 (ipykernel)",
   "language": "python",
   "name": "python3"
  },
  "language_info": {
   "codemirror_mode": {
    "name": "ipython",
    "version": 3
   },
   "file_extension": ".py",
   "mimetype": "text/x-python",
   "name": "python",
   "nbconvert_exporter": "python",
   "pygments_lexer": "ipython3",
   "version": "3.12.8"
  },
  "nbTranslate": {
   "displayLangs": [
    "*"
   ],
   "hotkey": "alt-t",
   "langInMainMenu": true,
   "sourceLang": "en",
   "targetLang": "fr",
   "useGoogleTranslate": true
  },
  "toc": {
   "base_numbering": 1,
   "nav_menu": {},
   "number_sections": true,
   "sideBar": true,
   "skip_h1_title": false,
   "title_cell": "Table of Contents",
   "title_sidebar": "Contents",
   "toc_cell": false,
   "toc_position": {
    "height": "calc(100% - 180px)",
    "left": "10px",
    "top": "150px",
    "width": "168px"
   },
   "toc_section_display": true,
   "toc_window_display": true
  },
  "varInspector": {
   "cols": {
    "lenName": 16,
    "lenType": 16,
    "lenVar": 40
   },
   "kernels_config": {
    "python": {
     "delete_cmd_postfix": "",
     "delete_cmd_prefix": "del ",
     "library": "var_list.py",
     "varRefreshCmd": "print(var_dic_list())"
    },
    "r": {
     "delete_cmd_postfix": ") ",
     "delete_cmd_prefix": "rm(",
     "library": "var_list.r",
     "varRefreshCmd": "cat(var_dic_list()) "
    }
   },
   "oldHeight": 122.85,
   "position": {
    "height": "145.332px",
    "left": "890.792px",
    "right": "20px",
    "top": "108px",
    "width": "350px"
   },
   "types_to_exclude": [
    "module",
    "function",
    "builtin_function_or_method",
    "instance",
    "_Feature"
   ],
   "varInspector_section_display": "block",
   "window_display": false
  }
 },
 "nbformat": 4,
 "nbformat_minor": 4
}
