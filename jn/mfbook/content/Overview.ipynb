{
 "cells": [
  {
   "cell_type": "markdown",
   "id": "c54ad377",
   "metadata": {},
   "source": [
    "# Jupyter Notebooks from the ModelFlow/MFMod Manual\n",
    "\n",
    "The **ModelFlow/MFMod Manual** is created using the [Jupyter Book framework](https://jupyterbook.org/). It is built from a collection of individual Jupyter notebooks. These notebooks are displayed within this notebook and can be accessed by clicking on their names.\n",
    "\n",
    "Each notebook can be used to replicate the calculations presented in the manual. However, note that the notebooks also contain instructions for Jupyter Book regarding the rendering of the manual.\n",
    "\n",
    "To display the list of notebooks, run the cell below.\n"
   ]
  },
  {
   "cell_type": "code",
   "execution_count": null,
   "id": "b92f4d1d",
   "metadata": {
    "collapsed": true
   },
   "outputs": [],
   "source": [
    "from modelclass import model \n",
    "model.display_toc() "
   ]
  },
  {
   "cell_type": "code",
   "execution_count": null,
   "id": "5ed54aca",
   "metadata": {},
   "outputs": [],
   "source": []
  }
 ],
 "metadata": {
  "hide_input": false,
  "kernelspec": {
   "display_name": "Python 3 (ipykernel)",
   "language": "python",
   "name": "python3"
  },
  "language_info": {
   "codemirror_mode": {
    "name": "ipython",
    "version": 3
   },
   "file_extension": ".py",
   "mimetype": "text/x-python",
   "name": "python",
   "nbconvert_exporter": "python",
   "pygments_lexer": "ipython3",
   "version": "3.12.6"
  },
  "toc": {
   "base_numbering": 1,
   "nav_menu": {},
   "number_sections": true,
   "sideBar": false,
   "skip_h1_title": false,
   "title_cell": "Table of Contents",
   "title_sidebar": "Contents",
   "toc_cell": false,
   "toc_position": {},
   "toc_section_display": true,
   "toc_window_display": false
  },
  "varInspector": {
   "cols": {
    "lenName": 16,
    "lenType": 16,
    "lenVar": 40
   },
   "kernels_config": {
    "python": {
     "delete_cmd_postfix": "",
     "delete_cmd_prefix": "del ",
     "library": "var_list.py",
     "varRefreshCmd": "print(var_dic_list())"
    },
    "r": {
     "delete_cmd_postfix": ") ",
     "delete_cmd_prefix": "rm(",
     "library": "var_list.r",
     "varRefreshCmd": "cat(var_dic_list()) "
    }
   },
   "types_to_exclude": [
    "module",
    "function",
    "builtin_function_or_method",
    "instance",
    "_Feature"
   ],
   "window_display": false
  }
 },
 "nbformat": 4,
 "nbformat_minor": 5
}
