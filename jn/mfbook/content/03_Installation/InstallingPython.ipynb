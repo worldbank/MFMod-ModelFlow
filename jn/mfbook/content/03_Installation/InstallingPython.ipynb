{
 "cells": [
  {
   "cell_type": "markdown",
   "id": "84dcf1d3",
   "metadata": {},
   "source": [
    "# Installation of Python\n",
    "\n",
    ":::{index} single: Installation;  Python\n",
    ":::\n",
    "\n",
    "\n",
    "`Python` is a powerful, versatile and extensible open-source programming language. It is widely used for artificial intelligence applications, interactive web sites, and scientific processing. As of May 2024, the `Python Package Index` (PyPI), the official repository for third-party Python software, contained over 530,000 packages that extend its functionality [^pythonLibrary]. ModelFlow is one of these packages.\n",
    "\n",
    "Python comes in many flavors and `ModelFlow` will work with most of them. Nevertheless, users are **strongly advised** to use either the **Anaconda** distribution of Python or the closely related **MiniConda** distribution.\n",
    "\n",
    "[^pythonLibrary]: [Wikipedia article on python](https://en.wikipedia.org/wiki/Python_(programming_language)). \n",
    "\n",
    ":::{index} single: MiniConda; Choosing betwen Anaconda and MiniConda\n",
    ":::\n",
    "\n",
    "**Anaconda** is a full-featured distribution of python that comes with a comprehensive set of pre-installed packages and tools for scientific computing and data analysis. It is best suited for users who want a ready-to-use platform with a wide range of packages and don't mind the larger installation size. \n",
    "\n",
    "**MiniConda** is a more streamlined distribution, providing only the essential components for running python. It offers faster installation and a smaller footprint, making it suitable for users who prefer a more streamlined environment and want more control over package selection. Features that are in Anaconda, but not installed by miniconda by default, can be added manually.\n"
   ]
  },
  {
   "cell_type": "code",
   "execution_count": null,
   "id": "ea8e246f",
   "metadata": {
    "tags": [
     "remove_cell"
    ]
   },
   "outputs": [],
   "source": [
    "#This is code to manage dependencies if the notebook is executed in the google colab cloud service\n",
    "if 'google.colab' in str(get_ipython()):\n",
    "  import os\n",
    "  os.system('apt -qqq install graphviz')\n",
    "  os.system('pip -qqq install ModelFlowIb   ')\n"
   ]
  },
  {
   "cell_type": "markdown",
   "id": "92026153",
   "metadata": {},
   "source": [
    "## Which is better for me\n",
    "\n",
    "In general, **Anaconda** is preferred by users who value convenience and desire a comprehensive package ecosystem. **MiniConda** is preferred by users who seek a minimalistic setup and have specific package requirements. If you are already familiar with python, plan to use it with `ModelFlow` and have space limitations `MiniConda` is probably the best solution for you.  For users new to python `Anaconda` may be a better solution.\n",
    "\n",
    "The processes for installing  **Anaconda** and **MiniConda** are very similar. The main difference is which installer is downloaded and then where the distribution is stored in the file system. \n",
    "\n",
    "It is possible to install both distributions on the same machine without them interfering with each other.  \n",
    "\n",
    "Both are available for the Windows, MacOS and Linux operating systems and `ModelFlow` should work equally well under all three operating systems. However, only the Windows version has been thoroughly tested and  was used in producing this manual. "
   ]
  },
  {
   "cell_type": "code",
   "execution_count": null,
   "id": "077f27ac",
   "metadata": {
    "tags": [
     "remove_cell"
    ]
   },
   "outputs": [],
   "source": [
    "# Prepare the notebook for use of ModelFlow \n",
    "\n",
    "# Jupyter magic command to improve the display of charts in the Notebook\n",
    "%matplotlib inline\n",
    "\n",
    "# Import pandas \n",
    "import pandas as pd\n",
    "\n",
    "# Import the model class from the modelclass module \n",
    "from modelclass import model \n",
    "\n",
    "# functions that improve rendering of ModelFlow outputs\n",
    "model.widescreen()\n",
    "model.scroll_off();"
   ]
  },
  {
   "cell_type": "markdown",
   "id": "489c9fe6",
   "metadata": {},
   "source": [
    "## Anaconda/MiniConda installation instructions\n",
    ":::{index} single: Installation;  Anaconda\n",
    ":::\n",
    ":::{index} single: Anaconda; Installation\n",
    ":::\n",
    "\n",
    ":::{index} single: Installation;  MiniConda\n",
    ":::\n",
    ":::{index} single: MiniConda; Installation\n",
    ":::"
   ]
  },
  {
   "cell_type": "markdown",
   "id": "c6cbe3d3",
   "metadata": {},
   "source": [
    ":::{only} latex\n",
    "latexcommand \\begin{flushleft}\n",
    ":::\n",
    "### Windows\n",
    "The definitive source for installing **Anaconda under windows** can be found [here](https://docs.anaconda.com/anaconda/install/windows/).  \n",
    "\n",
    "The definitive source for installing **MiniConda under windows** can be found [here](https://docs.conda.io/projects/miniconda/en/latest/miniconda-install.html). \n",
    "\n",
    "The version of `ModelFlow` and the examples in this manual were developed and tested using the 3.10 version of python.\n",
    "\n",
    ":::{warning}\n",
    "**It is strongly advised that Anaconda/Miniconda be installed for a single user (Just Me)**.  This is much easier to maintain over time, especially in a professional environment where users may not have administrator rights on their computers.  Installing \"For all users on this computer\" (the other option offered by the installers) will substantially increase the complexity of maintaining python on your computer.\n",
    ":::"
   ]
  },
  {
   "cell_type": "markdown",
   "id": "9a4bab44",
   "metadata": {},
   "source": [
    "### MacOS\n",
    "\n",
    "The definitive source for installing **Anaconda under macOS** can be found here: [https://docs.anaconda.com/anaconda/install/mac-os/](https://docs.anaconda.com/anaconda/install/mac-os/).  \n",
    "\n",
    "The definitive source for installing **MiniConda under macOS** can be found here: [https://docs.anaconda.com/free/miniconda/miniconda-other-installer-links/](https://docs.anaconda.com/free/miniconda/miniconda-other-installer-links/)."
   ]
  },
  {
   "cell_type": "markdown",
   "id": "b44fa84e",
   "metadata": {},
   "source": [
    "### Linux\n",
    "\n",
    "The definitive source for installing **Anaconda under Linux** can be found here: [https://docs.anaconda.com/anaconda/install/linux/](https://docs.anaconda.com/anaconda/install/linux/).  \n",
    "\n",
    "The definitive source for installing **MiniConda under Linux** can be found here: [https://docs.conda.io/projects/conda/en/latest/user-guide/install/linux.html](https://docs.conda.io/projects/conda/en/latest/user-guide/install/linux.html).\n",
    "\n",
    ":::{only} latex\n",
    "latexcommand \\end{flushleft}\n",
    ":::"
   ]
  }
 ],
 "metadata": {
  "celltoolbar": "Edit Metadata",
  "hide_input": false,
  "kernelspec": {
   "display_name": "Python 3 (ipykernel)",
   "language": "python",
   "name": "python3"
  },
  "language_info": {
   "codemirror_mode": {
    "name": "ipython",
    "version": 3
   },
   "file_extension": ".py",
   "mimetype": "text/x-python",
   "name": "python",
   "nbconvert_exporter": "python",
   "pygments_lexer": "ipython3",
   "version": "3.12.6"
  },
  "nbTranslate": {
   "displayLangs": [
    "*"
   ],
   "hotkey": "alt-t",
   "langInMainMenu": true,
   "sourceLang": "en",
   "targetLang": "fr",
   "useGoogleTranslate": true
  },
  "toc": {
   "base_numbering": 1,
   "nav_menu": {},
   "number_sections": true,
   "sideBar": true,
   "skip_h1_title": false,
   "title_cell": "Table of Contents",
   "title_sidebar": "Contents",
   "toc_cell": false,
   "toc_position": {},
   "toc_section_display": true,
   "toc_window_display": false
  },
  "varInspector": {
   "cols": {
    "lenName": 16,
    "lenType": 16,
    "lenVar": 40
   },
   "kernels_config": {
    "python": {
     "delete_cmd_postfix": "",
     "delete_cmd_prefix": "del ",
     "library": "var_list.py",
     "varRefreshCmd": "print(var_dic_list())"
    },
    "r": {
     "delete_cmd_postfix": ") ",
     "delete_cmd_prefix": "rm(",
     "library": "var_list.r",
     "varRefreshCmd": "cat(var_dic_list()) "
    }
   },
   "types_to_exclude": [
    "module",
    "function",
    "builtin_function_or_method",
    "instance",
    "_Feature"
   ],
   "window_display": false
  }
 },
 "nbformat": 4,
 "nbformat_minor": 5
}
