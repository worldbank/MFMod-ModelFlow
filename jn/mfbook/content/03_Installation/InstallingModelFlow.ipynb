{
 "cells": [
  {
   "cell_type": "markdown",
   "id": "ce609a34",
   "metadata": {},
   "source": [
    "# Installation \n",
    "\n",
    "At the World Bank models built using the MFMod framework are developed in [EViews](http://www.eviews.com). When disseminated to clients, the models are solved and simulated using EViews -- often through the intermediary of an easy-to-use customized excel environment developed by the World Bank. That said, as a systems of equations and associated data, the models can be solved and operated under any software capable of solving a system of simultaneous equations. ```ModelFlow``` is such a package that permit not only solving the model, but also provide a rich and powerful suite of tools for analyzing the model and reporting results.     \n",
    "`ModelFlow` is a python library that was developed by Ib Hansen over several years while working at the Danish Central Bank and the European Central Bank. The framework has been used both to port the U.S. Federal Reserve's macro-structural  model to python, but also been used to bring several stress-testing models developed by Central Banks into the python environment.  \n",
    "\n",
    "Beginning in 2019, Hansen has worked with the World Bank to develop additional features that facilitate working with models built using the Bank's MFMod Framework, with the objective of creating an open source platform through which the Bank's models can be made available to the public.  \n",
    "\n",
    "ModelFlow defines the ```model``` class, its methods and a number of other functions that extend and combine pre-existing python functions to allow the easy solution of complex systems of equations including macro-structural models like MFMod.  To work with ```ModelFlow```, a user needs to first install python (preferably the Anaconda or MiniConda variants). Then install the ```ModelFlow``` package and several supporting packages. \n",
    "\n",
    "While ```ModelFlow``` can be run directly from the python command-line or IDEs (Interactive Development Environments) like ```Spyder``` or Microsoft's ```Visual Code```, it is suggested that users install the Jupyter notebook system. Jupyter Notebook facilitates an interactive approach to building python programs, annotating them and ultimately doing simulations using `MFMod` under ```ModelFlow```. This entire manual, and the examples in it, was written and executed in the Jupyter Notebook environment using the [Jupyter Book](https://jupyterbook.org/) package.\n",
    "\n",
    "To use the ModelFlow package **First** Python has to be installed. **Then** the ModelFlow package can be installed together with all the libraries on which it depends.   "
   ]
  },
  {
   "cell_type": "markdown",
   "id": "f6cc7c6c",
   "metadata": {},
   "source": [
    ":::{admonition} In this chapter - Installation\n",
    ":class: tip\n",
    "\n",
    "This chapter provides step-by-step instructions for setting up the ModelFlow framework to work with World Bank macroeconomic models. It provides both novice and experienced python users with clear instructions on the steps necessary to install a reliable and reproducible `ModelFlow` environment for advanced modeling tasks.  \n",
    "\n",
    "Key covered topics include:\n",
    "\n",
    "- **Python Installation**:\n",
    "  - Using the `Anaconda` or `MiniConda` environments. \n",
    "  - A discussion of the benefits of each notes that Anaconda offers a comprehensive package ecosystem (perhaps best suited for newcomers to python, while `MiniConda` is more lightweight and customizable and may be best suited for more experienced python users.\n",
    "\n",
    "- **Installing the `ModelFlow` Environment**:\n",
    "  - Create a dedicated Python environment for `ModelFlow` to avoid package conflicts.\n",
    "  - Install `ModelFlow` and its dependencies using the provided commands.\n",
    "\n",
    "\n",
    "- **System Compatibility**:\n",
    "  - Supported on Windows, MacOS, and Linux.\n",
    "  - Installation is straightforward, with Windows being the primary platform tested.\n",
    "\n",
    "- **Updating `ModelFlow`**:\n",
    "  - Using the `conda` command to update `ModelFlow` packages within the created environment.\n",
    "\n",
    ":::\n"
   ]
  }
 ],
 "metadata": {
  "celltoolbar": "Edit Metadata",
  "hide_input": false,
  "kernelspec": {
   "display_name": "Python 3 (ipykernel)",
   "language": "python",
   "name": "python3"
  },
  "language_info": {
   "codemirror_mode": {
    "name": "ipython",
    "version": 3
   },
   "file_extension": ".py",
   "mimetype": "text/x-python",
   "name": "python",
   "nbconvert_exporter": "python",
   "pygments_lexer": "ipython3",
   "version": "3.12.6"
  },
  "nbTranslate": {
   "displayLangs": [
    "*"
   ],
   "hotkey": "alt-t",
   "langInMainMenu": true,
   "sourceLang": "en",
   "targetLang": "fr",
   "useGoogleTranslate": true
  },
  "toc": {
   "base_numbering": 1,
   "nav_menu": {},
   "number_sections": true,
   "sideBar": true,
   "skip_h1_title": false,
   "title_cell": "Table of Contents",
   "title_sidebar": "Contents",
   "toc_cell": false,
   "toc_position": {},
   "toc_section_display": true,
   "toc_window_display": false
  },
  "varInspector": {
   "cols": {
    "lenName": 16,
    "lenType": 16,
    "lenVar": 40
   },
   "kernels_config": {
    "python": {
     "delete_cmd_postfix": "",
     "delete_cmd_prefix": "del ",
     "library": "var_list.py",
     "varRefreshCmd": "print(var_dic_list())"
    },
    "r": {
     "delete_cmd_postfix": ") ",
     "delete_cmd_prefix": "rm(",
     "library": "var_list.r",
     "varRefreshCmd": "cat(var_dic_list()) "
    }
   },
   "types_to_exclude": [
    "module",
    "function",
    "builtin_function_or_method",
    "instance",
    "_Feature"
   ],
   "window_display": false
  }
 },
 "nbformat": 4,
 "nbformat_minor": 5
}
