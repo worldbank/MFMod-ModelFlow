{
 "cells": [
  {
   "cell_type": "markdown",
   "metadata": {
    "tags": [
     "hide-cell"
    ]
   },
   "source": [
    ":::{index} single: Model Structure\n",
    ":::\n",
    ":::{index} single: Model Structure; Simultaneous block\n",
    ":::\n",
    ":::{index} single: Model Structure; Recursive Block\n",
    ":::\n",
    ":::{index} Recursive block\n",
    ":::\n",
    ":::{index} Equation dependencies\n",
    ":::\n",
    ":::{index} Variable dependencies\n",
    ":::"
   ]
  },
  {
   "cell_type": "code",
   "execution_count": null,
   "metadata": {
    "tags": [
     "remove_cell"
    ]
   },
   "outputs": [],
   "source": [
    "#This is code to manage dependencies if the notebook is executed in the google colab cloud service\n",
    "if 'google.colab' in str(get_ipython()):\n",
    "  import os\n",
    "  os.system('apt -qqq install graphviz')\n",
    "  os.system('pip -qqq install ModelFlowIb   ')\n"
   ]
  },
  {
   "cell_type": "markdown",
   "metadata": {},
   "source": [
    "# Model structure and causal chains\n",
    "\n",
    "\n",
    "A model has a well defined logical and causal structure. {cite:author}`kogiku_introduction_1968`(1968) provides an introduction to causal analysis of models, while {cite:author}`berndsen_causal_1995`(1995) gives a more elaborate discussion. \n",
    "\n",
    "At the simplest level, the equations of a model can be organized into blocks. \n",
    "\n",
    "* **Simultaneous block** include equations that have are co-determined simultaneously. They contain feedback loops that may require several iterations before a solution that satisfies them all is found. A classic simultaneous block would include GDP, Income and Consumption. Consumption depends on income. Income depends on GDP, but Consumption also determines GDP. \n",
    "\n",
    "* **Recursive blocks** include equations that are a simple function of other variables. For example, the current account balance is just the difference between Export Revenues and Import Revenues.  These can be solved with just one pass once the values of the simultaneous blocks have been resolved.\n",
    "\n",
    "At the equation level, each endogenous variable is a function of one or more variables, but because some of these variables are also dependent on other variables in the model, those right hand side variables that are endogenous can have their equations substituted into the first level equation to get an extended set of dependencies.  Moreover, the endogenous right hand side variables of these second level variables can also have their right hand sides substituted into the equation etc.\n",
    "\n",
    "\n",
    "`ModelFlow` uses the [networkx](https://networkx.org/) python package to analyze the interrelationships within the model and between equations and includes a number of methods and properties to present these interrelationships both in tabular and graphical form [^graphviz], a subset of which is exposed in this chapter. \n",
    "\n",
    "[^graphviz]:The relational graphs produced by `ModelFlow` use the Graphviz [https://graphviz.org/](https://graphviz.org/) program, and are based on the relationships determined by the Networkx package. \n",
    "\n",
    "## Setting up the python environment and loading a pre-existing model"
   ]
  },
  {
   "cell_type": "markdown",
   "metadata": {},
   "source": [
    ":::{admonition} In this chapter - Model struicture and causal chains\n",
    ":class: tip\n",
    "\n",
    "This chapter introduces tools and techniques for analyzing the structure and behavior of models in the `ModelFlow` framework. In a system of equations like World Bank models, impacts on variables in a simulation can be the results of the direct effect from changes imposed on variables in the equation of a variable, but also indirect effects caused by changes in variables that are not in the equation of a specific variable, but do generate changes in variables that are in the equation.\n",
    "\n",
    "The chapter presents tools that explore the structure of a model, and display both the direct and indirect determinants of given equations.  \n",
    "\n",
    "Following a simulation, the routines presented can display the precise contribution of a given variable to the change in another.\n",
    "\n",
    "In addition to displaying which variables impacted a given variable, the routines can also be used to understand which variables are most impacted by changes in a given variable.\n",
    "\n",
    "Results can be displayed both graphically and in tabular form.\n",
    ":::\n"
   ]
  },
  {
   "cell_type": "code",
   "execution_count": null,
   "metadata": {
    "tags": [
     "remove_cell"
    ]
   },
   "outputs": [],
   "source": [
    "# Prepare the notebook for use of ModelFlow \n",
    "\n",
    "# Jupyter magic command to improve the display of charts in the Notebook\n",
    "%matplotlib inline\n",
    "\n",
    "# Import pandas \n",
    "import pandas as pd\n",
    "\n",
    "# Import the model class from the modelclass module \n",
    "from modelclass import model \n",
    "\n",
    "# functions that improve rendering of ModelFlow outputs\n",
    "model.widescreen()\n",
    "model.scroll_off();"
   ]
  },
  {
   "cell_type": "code",
   "execution_count": null,
   "metadata": {},
   "outputs": [],
   "source": [
    "mpak,baseline = model.modelload('../models/pak.pcim',alfa=0.7,run=1)\n",
    "\n",
    "mpak.model_description=\"World Bank climate aware model of Pakistan as described in Burns et al. (2019)\""
   ]
  },
  {
   "cell_type": "markdown",
   "metadata": {
    "tags": [
     "hide-cell"
    ]
   },
   "source": [
    ":::{index} Model Information\n",
    ":::\n",
    ":::{index} single: Model Information; Model Name\n",
    ":::\n",
    ":::{index} Model Name\n",
    ":::\n",
    ":::{index} single: Model Information; Model Structure\n",
    ":::\n",
    ":::{index} Model Structure\n",
    ":::\n",
    ":::{index} single: Model Information; Number of equations\n",
    ":::\n",
    ":::{index} Number of equations in model\n",
    ":::\n",
    ":::{index} single: Model Information; Number of variables \n",
    ":::\n",
    ":::{index} Number of variables in model\n",
    ":::\n",
    ":::{index} single: Model Information; Number of endogenous variables\n",
    ":::\n",
    ":::{index} Number of endogenous variables in model\n",
    ":::\n",
    "\n",
    ":::{index} single: Model Information; Number of exogenous variables\n",
    ":::\n",
    ":::{index} Number of exogenous variables in model\n",
    ":::"
   ]
  },
  {
   "cell_type": "code",
   "execution_count": null,
   "metadata": {},
   "outputs": [],
   "source": [
    "latex=True # Enables the charts in latex "
   ]
  },
  {
   "cell_type": "markdown",
   "metadata": {},
   "source": [
    ":::{note}\n",
    "**latex=True** \n",
    "\n",
    "The default behavior when displaying graphs in a *jupyter notebook* is to produce images in .svg format.\n",
    "These images scale well and the mouseover feature can be used. That is: On mouseover of a node, the variable and the equation are displayed.  On mouseover on a joining line, the extent to which the variable contributed to the change in the dependent variable is displayed.\n",
    "\n",
    "Unfortunately this *jupyter book* (book -- not notebook) requires images be in the jpg or PNG format. To enable generation of PDFs the latex=True option is set, which forces `ModelFlow` routines to render graphics in the PNG format -- effectively disabling the features of svg.\n",
    "\n",
    "If using the Notebooks that for this book, the variable latex could be set equal to False in which case the same code will generate graphics in the more versatile SVG format.\n",
    ":::"
   ]
  },
  {
   "cell_type": "markdown",
   "metadata": {},
   "source": [
    "## Model information\n",
    "\n",
    "As noted before, the model object contains information about the model itself, its name, its structure (does it contain simultaneous equations or is it recursive), the number of variables it contains and the number that are exogenous and endogenous (have associated equations)."
   ]
  },
  {
   "cell_type": "code",
   "execution_count": null,
   "metadata": {},
   "outputs": [],
   "source": [
    "mpak"
   ]
  },
  {
   "cell_type": "markdown",
   "metadata": {},
   "source": [
    "## Model structure  \n",
    "\n",
    "A quick way to visualize the structure of a model is to plot its adjacency matrix [(https://en.wikipedia.org/wiki/Adjacency_matrix)](https://en.wikipedia.org/wiki/Adjacency_matrix). \n",
    "\n",
    "The adjacency matrix plots the relationships between endogenous variables in the model, dividing them into one or more simultaneous blocks and one or more recursive blocks.\n",
    "\n",
    "Below is the adjacency matrix for the Pakistan model. Variables in the red square block (simultaneous block) depend on one or more variables that in turn depend upon them, requiring the model to solve for their values simultaneously.  The variables in the green triangles (recursive blocks) do not enter directly or indirectly as an argument in the variables that determine them and therefore can be solved in one iteration once the values for the simultaneous variables are determined.\n",
    "\n",
    "Internally `ModelFlow` takes these factors into consideration and solves the simultanrous block(s) first and then solves the recursive blocks."
   ]
  },
  {
   "cell_type": "markdown",
   "metadata": {
    "tags": [
     "hide-cell"
    ]
   },
   "source": [
    ":::{index} Model Structure\n",
    ":::\n",
    ":::{index} Model Adjacency matrix\n",
    ":::\n",
    ":::{index} Recursive equation block\n",
    ":::\n",
    ":::{index} Simultaneous equation block \n",
    ":::\n",
    ":::{index} single: Model Structure; Model Adjacency matrix\n",
    ":::\n",
    ":::{index} single: Model Structure; Recursive equation block\n",
    ":::\n",
    ":::{index} single: Model Structure; Simultaneous equation block \n",
    ":::"
   ]
  },
  {
   "cell_type": "code",
   "execution_count": null,
   "metadata": {
    "scrolled": false
   },
   "outputs": [],
   "source": [
    "mpak.plotadjacency(size=(20,20)); "
   ]
  },
  {
   "cell_type": "markdown",
   "metadata": {},
   "source": [
    "As is evident in the above chart, the majority of the variables in MFMod Pakistan are recursive (green) and depend simply on the values of other variables.  The core of the model lies in the simultaneous (red) block, where the main wages, prices, real and nominal variables that drive other variables are determined."
   ]
  },
  {
   "cell_type": "markdown",
   "metadata": {
    "tags": [
     "hide-cell"
    ]
   },
   "source": [
    ":::{index} single: Model Structure; .tracepre() method \n",
    ":::\n",
    ":::{index} single: tracepre(); method trace influnce of causal variables \n",
    ":::\n",
    ":::{index} single: Variable dependencies\n",
    ":::\n",
    ":::{index} single: model instance.<variable>; .tracepre() method - trace influence of causal variables \n",
    ":::\n"
   ]
  },
  {
   "cell_type": "markdown",
   "metadata": {},
   "source": [
    "## The dependencies of individual endogenous variables (the `.tracepre()` method)\n",
    "\n",
    "As noted above, every endogenous variables is directly dependent on the variables that occur on its right hand side, but is also indirectly dependent on the variables that determine its RHS variables and in turn those that determine the variables to the right of them *ad infinitum*. \n",
    "\n",
    "`ModelFlow` includes several methods and properties that allow these dependencies to be explored.\n",
    "\n",
    "The `.frml` property returns the normalized formula of an equation, from which the right hand variables for the equation can be discerned and these are reported along with their descriptions following the formula."
   ]
  },
  {
   "cell_type": "code",
   "execution_count": null,
   "metadata": {},
   "outputs": [],
   "source": [
    "mpak.PAKNECONPRVTKN.frml"
   ]
  },
  {
   "cell_type": "markdown",
   "metadata": {},
   "source": [
    "The method `.tracepre()` provides a graphical representation of this relationship, showing all the variables that directly determine an endogenous variable (in this example real GDP), distinguishing between RHS variables that are endogenous (in blue) and those that are exogenous (yellow)."
   ]
  },
  {
   "cell_type": "code",
   "execution_count": null,
   "metadata": {},
   "outputs": [],
   "source": [
    "mpak.PAKNYGDPMKTPKN.tracepre(png=latex,size=(4,3))"
   ]
  },
  {
   "cell_type": "markdown",
   "metadata": {},
   "source": [
    "If the model has been solved, `.tracepre()` goes one step further and uses the thickness of the lines to reflect the relative importance of each variable in the change of the dependent variable in the preceding scenario.\n",
    "\n",
    "### Shock the model\n",
    "\n",
    "Below a $30 nominal Carbon tax is applied beginning in 2025."
   ]
  },
  {
   "cell_type": "code",
   "execution_count": null,
   "metadata": {},
   "outputs": [],
   "source": [
    "\n",
    "alternative  =  baseline.upd(\"<2025 2100> PAKGGREVCO2CER PAKGGREVCO2GER PAKGGREVCO2OER = 30\")\n",
    "result = mpak(alternative,2020,2100) # simulates the model "
   ]
  },
  {
   "cell_type": "markdown",
   "metadata": {},
   "source": [
    "As a result GDP, consumption investment and most all variables in the model change, as illustrated in the below graphs that show the percent deviation of the main components of GDP from their baseline values."
   ]
  },
  {
   "cell_type": "code",
   "execution_count": null,
   "metadata": {},
   "outputs": [],
   "source": [
    "mpak['PAKNYGDPMKTPKN PAKNECONPRVTKN PAKNEGDIFTOTKN PAKNEEXPGNFSKN PAKNEIMPGNFSKN'].difpctlevel.rename().plot(title=\"Impact of $30 USD nominal carbon tax\");"
   ]
  },
  {
   "cell_type": "markdown",
   "metadata": {
    "tags": [
     "hide-cell"
    ]
   },
   "source": [
    ":::{index} single: Simulations;  .tracedep() Causal tree at the variable level \n",
    ":::\n",
    ":::{index} single: Model Structure;  .tracedep() Causal tree at the variable level \n",
    ":::\n",
    ":::{index} single: model instance.<variable>;  .tracedep() Causal tree at the variable level \n",
    ":::"
   ]
  },
  {
   "cell_type": "markdown",
   "metadata": {},
   "source": [
    "###  `.tracepre()` following a shock \n",
    "\n",
    "Below the same `.tracepre()` command is executed again, but because a shock has been simulated, the width of the lines representing the causal links between variables is thicker the more important the change  in a given variable was in the previous simulation in explaining the change in the level of the dependent variable (GDP).  "
   ]
  },
  {
   "cell_type": "code",
   "execution_count": null,
   "metadata": {},
   "outputs": [],
   "source": [
    "latex=True\n",
    "mpak.PAKNYGDPMKTPKN.tracepre(png=latex,size=(5,3))"
   ]
  },
  {
   "cell_type": "markdown",
   "metadata": {
    "tags": [
     "hide-cell"
    ]
   },
   "source": [
    ":::{index} single: model instance.<variable>; .tracepre(); filter option restricts output to variables with a large impact \n",
    ":::\n"
   ]
  },
  {
   "cell_type": "markdown",
   "metadata": {},
   "source": [
    "### The filter option, restricts the output of `.tracepre()`\n",
    "\n",
    "The filter option can be used to restrict the output of `.tracepre()` to RHS variables that have had a large impact on the dependent variable. In the example below, the option `filter=20` instructs tracepre to only draw those rhs variables that contributed 20 percent or more to the total change in GDP.\n"
   ]
  },
  {
   "cell_type": "code",
   "execution_count": null,
   "metadata": {},
   "outputs": [],
   "source": [
    "mpak.PAKNYGDPMKTPKN.tracepre(filter=20,png=latex,size=(5,3))"
   ]
  },
  {
   "cell_type": "markdown",
   "metadata": {
    "tags": [
     "hide-cell"
    ]
   },
   "source": [
    ":::{index} model instance.<variable>; tracepre() up option extends the causal tree beyond the initial set of RHS variables\n",
    ":::\n"
   ]
  },
  {
   "cell_type": "markdown",
   "metadata": {},
   "source": [
    "### The up option, extends the `.tracepre` plot beyond the first level of causal variables\n",
    "\n",
    "The up option allows `.tracepre` dependencies to be followed beyond the first level of causal variables. Below, it is extended to variables as much as three levels back, and restricted to those whose variation explains at least 20 percent of the change in the variable of which they are a right-hand-side variable."
   ]
  },
  {
   "cell_type": "code",
   "execution_count": null,
   "metadata": {},
   "outputs": [],
   "source": [
    "mpak.PAKNYGDPMKTPKN.tracepre(filter = 20,up=3,png=latex)"
   ]
  },
  {
   "cell_type": "markdown",
   "metadata": {
    "tags": [
     "hide-cell"
    ]
   },
   "source": [
    ":::{index} single: model instance.<variable>; .tracepre()  fokus2 option adds a table of impacts to the causal flow graph\n",
    ":::\n"
   ]
  },
  {
   "cell_type": "markdown",
   "metadata": {},
   "source": [
    "#### Adding a table to the causal graph\n",
    "\n",
    "The `Fokus2` option causes a table of values to be added to the casual flow graph. In this example, the `showgrowth=True` option instructs `ModelFlow` to show the table in both level and growth rate terms.\n",
    "\n",
    " "
   ]
  },
  {
   "cell_type": "code",
   "execution_count": null,
   "metadata": {},
   "outputs": [],
   "source": [
    "with mpak.set_smpl(2025,2027):\n",
    "    print(mpak.PAKNYGDPMKTPKN.tracepre(filter = 20,\n",
    "                fokus2='PAKNEGDIFTOTKN PAKNECONPRVTKN PAKNECONGOVTKN PAKNYGDPMKTPKN PAKNEIMPGNFSKN',\n",
    "                growthshow=True,\n",
    "                png=latex)\n",
    "         )"
   ]
  },
  {
   "cell_type": "markdown",
   "metadata": {
    "tags": [
     "hide-cell"
    ]
   },
   "source": [
    ":::{index} single: Model Structure; .tracedep() method\n",
    ":::\n",
    ":::{index} single: model instance.<variable>; .tracedep() down option displays the causal tree of variables that are impacted by the referenced variable\n",
    ":::\n",
    "\n"
   ]
  },
  {
   "cell_type": "markdown",
   "metadata": {},
   "source": [
    "### `.tracedep(down=xx)` traces the impact of a variable on other variables \n",
    "\n"
   ]
  },
  {
   "cell_type": "markdown",
   "metadata": {},
   "source": [
    "The preceding examples have focused on understanding how changes in other variables have impacted the variable of interest.  The closely related `tracedep()` method shows what other variables depend on the specified variable, with the `down=xx` option indicating how many levels of substitution to display. Here, the direction of the dependency graph is reversed and the chart shows the impact that the changes in the selected variable had on those which depend upon it.  Below is the impact of change in consumption on all of the variables up to 3 levels below the consumption equation."
   ]
  },
  {
   "cell_type": "code",
   "execution_count": null,
   "metadata": {
    "scrolled": false
   },
   "outputs": [],
   "source": [
    "mpak.PAKNECONPRVTKN.tracedep(down=3,filter=20,png=latex)"
   ]
  },
  {
   "cell_type": "markdown",
   "metadata": {
    "tags": [
     "hide-cell"
    ]
   },
   "source": [
    ":::{index}  Model Structure; Modeldash method - an interactive display of linkages within a model.\n",
    ":::\n",
    ":::{index}  Modeldash - an interactive display of linkages within a model.\n",
    ":::"
   ]
  },
  {
   "cell_type": "markdown",
   "metadata": {
    "cell_style": "center"
   },
   "source": [
    "### `.modeldash()` An interactive way to explore dependencies\n",
    "\n",
    "\n",
    "The `.modeldash()` method  generates a widget that allows you to dynamicaly adjust the arguments to the `tracepre()` and `tracedep` functions.\n",
    "\n",
    "\n",
    "```\n",
    " with mpak.set_smpl(2022,2026):\n",
    "        mpak.modeldash('PAKNYGDPMKTPKN',jupyter=True,inline=False) \n",
    "```\n",
    "\n",
    "The above commands generate a dashboard that looks a like the below, where the panel to the left allows the user to change options including the filter, the depth of the trace among other things."
   ]
  },
  {
   "cell_type": "markdown",
   "metadata": {},
   "source": [
    "![dash.png](dash.png)"
   ]
  },
  {
   "cell_type": "code",
   "execution_count": null,
   "metadata": {
    "tags": [
     "remove-cell"
    ]
   },
   "outputs": [],
   "source": [
    "try: \n",
    "    with mpak.set_smpl(2022,2026):\n",
    "            mpak.modeldash('PAKNYGDPMKTPKN') \n",
    "except:\n",
    "    ..."
   ]
  }
 ],
 "metadata": {
  "celltoolbar": "Tags",
  "hide_input": false,
  "kernelspec": {
   "display_name": "Python 3 (ipykernel)",
   "language": "python",
   "name": "python3"
  },
  "language_info": {
   "codemirror_mode": {
    "name": "ipython",
    "version": 3
   },
   "file_extension": ".py",
   "mimetype": "text/x-python",
   "name": "python",
   "nbconvert_exporter": "python",
   "pygments_lexer": "ipython3",
   "version": "3.12.8"
  },
  "nbTranslate": {
   "displayLangs": [
    "*"
   ],
   "hotkey": "alt-t",
   "langInMainMenu": true,
   "sourceLang": "en",
   "targetLang": "fr",
   "useGoogleTranslate": true
  },
  "toc": {
   "base_numbering": 1,
   "nav_menu": {},
   "number_sections": true,
   "sideBar": true,
   "skip_h1_title": false,
   "title_cell": "Table of Contents",
   "title_sidebar": "Contents",
   "toc_cell": false,
   "toc_position": {
    "height": "calc(100% - 180px)",
    "left": "10px",
    "top": "150px",
    "width": "276.991px"
   },
   "toc_section_display": true,
   "toc_window_display": false
  },
  "varInspector": {
   "cols": {
    "lenName": 16,
    "lenType": 16,
    "lenVar": 40
   },
   "kernels_config": {
    "python": {
     "delete_cmd_postfix": "",
     "delete_cmd_prefix": "del ",
     "library": "var_list.py",
     "varRefreshCmd": "print(var_dic_list())"
    },
    "r": {
     "delete_cmd_postfix": ") ",
     "delete_cmd_prefix": "rm(",
     "library": "var_list.r",
     "varRefreshCmd": "cat(var_dic_list()) "
    }
   },
   "oldHeight": 122.85,
   "position": {
    "height": "40px",
    "left": "830px",
    "right": "20px",
    "top": "429px",
    "width": "350px"
   },
   "types_to_exclude": [
    "module",
    "function",
    "builtin_function_or_method",
    "instance",
    "_Feature"
   ],
   "varInspector_section_display": "none",
   "window_display": false
  }
 },
 "nbformat": 4,
 "nbformat_minor": 2
}
