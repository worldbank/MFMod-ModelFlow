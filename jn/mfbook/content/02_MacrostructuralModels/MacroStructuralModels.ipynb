{
 "cells": [
  {
   "cell_type": "markdown",
   "id": "4be6997c",
   "metadata": {
    "tags": [
     "remove-cell"
    ]
   },
   "source": [
    ":::{index} Macrostructural models\n",
    ":::"
   ]
  },
  {
   "cell_type": "code",
   "execution_count": null,
   "id": "17bf519d",
   "metadata": {
    "tags": [
     "remove_cell"
    ]
   },
   "outputs": [],
   "source": [
    "#This is code to manage dependencies if the notebook is executed in the google colab cloud service\n",
    "if 'google.colab' in str(get_ipython()):\n",
    "  import os\n",
    "  os.system('apt -qqq install graphviz')\n",
    "  os.system('pip -qqq install ModelFlowIb   ')\n"
   ]
  },
  {
   "cell_type": "markdown",
   "id": "4a349165",
   "metadata": {},
   "source": [
    "# Macrostructural models\n",
    "\n",
    "The economics profession uses a wide range of models for different purposes.  Macro-structural models (also known as semi-structural or Macro-econometric models) are a class of models that seek to summarize the most important interconnections and determinants of economic activity in an economy. Computable General Equilibrium (CGE), and Dynamic Stochastic General Equilibrium (DSGE) models are other classes of models that also seek, using somewhat different methodologies, to capture the main economic channels by which the actions of agents (firms, households, governments) interact and help determine the structure, level and rate of growth of economic activity in an economy. \n",
    "\n",
    "Typically, organizations, including the World Bank, use all of these tools, privileging one or the other for specific purposes. Macrostructural models like those that comprise the `MFMod` framework are widely used by Central Banks, Ministries of Finance; and professional forecasters to generate forecasts and to undertake policy analysis. \n",
    "\n",
    "While macrostructural models fell out of favor with academic economists, they remain central tools in policy making and forecasting circles. In a series of discussions and papers Olivier Blanchard {cite:t}`blanchard_future_2018`, former Chief Economist at the International Monetary Fund, concluded that academic economists are wrong to discard out-of-hand policy models such as macro-structural models.  Those conclusions were reinforced in a recent collection of papers by leading academics {cite:t}`vines_rebuilding_2020` that argued that until a better framework could be developed, \"policy-makers need to rely on structural economic models and the detailed econometric work which they embody\" rather than the DSGE models favored by academics."
   ]
  },
  {
   "cell_type": "markdown",
   "id": "ac15e13a",
   "metadata": {},
   "source": [
    ":::{admonition} In this chapter - Macrostructural Models\n",
    ":class: tip\n",
    "\n",
    "This Chapter provides a high-level introduction to macro-structural models in general and the `MFMod` system in particular. It presents them as systems that balance theoretical rigor with practical utility, enabling comprehensive insights into economic systems. Macrostructural models are widely used by policymakers for scenario analysis and forecasting and `MFmod` is the main framework used by the World Bank for analyzing the economic progress and policies of developing economies.\n",
    "\n",
    "It notes that these models are effectively a system of equations that describe the economic transactions (flow of funds) that occur in the economy, including those captured by the main economic accounting systems, including:\n",
    "\n",
    "* GDP and its subcomponents from the National Accounts expenditure, production, and income accounts.\n",
    "* Detailed government, monetary policy, and balance of payments accounts.\n",
    "* General equilibrium flow of funds linking households, firms, government, and foreign sectors.\n",
    "\n",
    "The chapter introduces key concepts like:\n",
    "\n",
    "- **Equation Types**:\n",
    "  - Identities: Accounting rules that always hold (e.g., GDP = C + I + G + X - M).\n",
    "  - Behavioral Equations: Relationships based on economic theory, that are estimated econometrically and subject to error.\n",
    "\n",
    "- **variable Types**:\n",
    "  - Exogenous Variables: Inputs determined outside the model, such as global oil prices.\n",
    "  - Endogenous Variables: Variables determined by equations\n",
    "  \n",
    "The chapter also provides a brief description of `ModelFlow` the python package used to run World Bank models in an open source context.\n",
    "\n",
    ":::\n"
   ]
  },
  {
   "cell_type": "markdown",
   "id": "a8c2a467",
   "metadata": {},
   "source": [
    "## A system of equations\n",
    "\n",
    "Mathematically, a macro-structural model is a system of equations comprised of two kinds of equations and three kinds of variables. Variables that are determined by an equation are classified by the type of equation that determines them, variables without an equation are deemed exogenous as they are determined outside of the model.  \n",
    "\n",
    "Models in the `MFMod` framework are comprised of:\n",
    "\n",
    "* ```Identities``` variables: that are determined by an identity: an equation that is a well-defined accounting rule that always holds. The famous GDP formula Y=C+I+G+(X-M) is one such identity, it indicates that GDP at market prices is **definitionally** equal to Consumption plus Investment plus Government spending plus Exports less Imports.  The equation is an identity and the variable (Y in this instance) is also called an identity.\n",
    "\n",
    ":::{index} single: Behavioral Equations\n",
    ":::\n",
    "\n",
    "* ```Behavioral``` variables that are determined by equations that attempt to statistically summarize the economic (vs accounting) relationship between variables, where the structure of the statistical relationship is derived from economic theory, but the sensitivities of different causal variables is estimated from the data. Thus, the neo-classical equation that says Real Consumption is determined by households maximizing their utility through the consumption of goods and services subject to a budget constraint is a behavioral equation. Because these behavioral equations only explain part of the variation in the variable they seek to explain, and because the sensitivities of variables to the changes in other variables are uncertain, these equations and their parameters are  typically estimated econometrically and are subject to error.\n",
    "\n",
    ":::{index} single: Exogenous variables\n",
    ":::\n",
    "* ```Exogenous``` variables: do not have equations and are not determined by the model. Typically there are set either by assumption or from data external to the model.  For an individual country model, the exogenous variables might include the global price of crude oil because the level of activity of a small economy itself is unlikely to affect the world price of oil. Similarly, the rate of growth of GDP in other economies may be treated as an exogenous variable, important to determining exports in the modeled developing country unlikely to be affected by activity in the modeled country (small country assumption). \n",
    "\n",
    ":::{Note}\n",
    "What dictates whether a variable is exogenous or endogenous is not set in stone. A variable that is exogenous in one model may be endogenous in another. For example in an single-country model, GDP growth of other countries may be exogenous, but in a multi-country model the GDP growth of those other countries would likely be endogenous (determined by the model).\n",
    ":::\n",
    "\n",
    "Mathematically, a system of equations can be expressed as below:"
   ]
  },
  {
   "cell_type": "markdown",
   "id": "d406307f",
   "metadata": {
    "tags": [
     "remove-cell"
    ]
   },
   "source": [
    ":::{index} single: Identities\n",
    ":::\n",
    ":::{index} single: Behavioral variables\n",
    ":::\n",
    ":::{index} single: Exogenous variables\n",
    ":::\n",
    ":::{index} single: Endogenous variables\n",
    ":::"
   ]
  },
  {
   "cell_type": "markdown",
   "id": "d0d32a7d",
   "metadata": {},
   "source": [
    "\\begin{align*}\n",
    "y_t^1  &=  f^1(y_{t+u}^1...,y_{t+u}^n...,y_t^2...,y_{t}^n...y_{t-r}^1...,y_{t-r}^n,x_t^1...x_{t}^k,...x_{t-s}^1...,x_{t-s}^k) \\\\\n",
    "y_t^2  &=  f^2(y_{t+u}^1...,y_{t+u}^n...,y_t^1...,y_{t}^n...y_{t-r}^1...,y_{t-r}^n,x_t^1...x_{t}^k,...x_{t-s}^1...,x_{t-s}^k) \\\\\n",
    "\\vdots \\\\\n",
    "y_t^n  &=  f^n(y_{t+u}^1...,y_{t+u}^n...,y_t^1...,y_{t}^{n-1}...y_{t-r}^1...,y_{t-r}^n,x_t^1...x_{t}^r,x..._{t-s}^1...,x_{t-s}^k)\n",
    "\\end{align*}\n",
    "\n",
    "where $ y_t^1 $ is one of n endogenous variables and $x_t^1$ is one of k exogenous variables. To have a solution the system must have as many equations as there are unknown (endogenous variables).\n",
    "\n",
    "Substituting the variable mnemonics Y,C,I,G,X,M for the y's and x's above, a simple macrostructural model can be written as as a system of 6 equations in 6 unknowns:\n",
    "\n",
    "\\begin{align*}\n",
    "Y_t  &=  C_t+I_t+G+t+ (X_t-M_t) \\\\\n",
    "C_t &= c(C_{t-1},C_{t-2},I_t,G_t,X_t,M_t,P_t)\\\\\n",
    "I_t &= i(I_{t-1},I_{t-2},C_t,G_t,X_t,M_t,P_t)\\\\\n",
    "G_t &= g(G_{t-1},G_{t-2},C_t,I_t,X_t,M_t,P_t)\\\\\n",
    "X_t &= x(X_{t-1},X_{t-2},C_t,I_t,G_t,M_t,P_t,P^f_t)\\\\\n",
    "M_t &= m(M_{t-1},M_{t-2},C_t,I_t,G_t,X_t,P_t,P^f_t)\n",
    "\\end{align*}\n",
    " \n",
    "Where $Y_t$ is an identity and $C_t, I_t, G_t, X_t, M_t$ are behavioral variables and $P_t, P^f_t$ (domestic and foreign prices, respectively) are exogenous in this simple model. "
   ]
  },
  {
   "cell_type": "markdown",
   "id": "943e6e9f",
   "metadata": {
    "tags": [
     "hide-cell"
    ]
   },
   "source": [
    ":::{index} single: MFMod; Model coverage\n",
    ":::\n"
   ]
  },
  {
   "cell_type": "markdown",
   "id": "216ccafb",
   "metadata": {},
   "source": [
    "Such a system of equations can then be solved for the endogenous variables $Y_t, C_t, I_t, G_t, X_t$ and $M_t$ as a function of the exogenous variables in the system, notably as written above $P_t$ and $P^f_t$, and the estimated parameters and functional forms of the behavioral equations that link them, represented here by: $c(), i(), g(), x()$ and $m()$.\n",
    "\n",
    "## The MFMod Framework\n",
    "\n",
    "\n",
    "World Bank models are somewhat more complex and comprise many more sectors, notably:\n",
    "\n",
    "* GDP and sub components calculated from all three perspectives in Real, Nominal and implicit deflator terms\n",
    "    * Expenditure Accounts\n",
    "        * C + I + G + X - M\n",
    "    * Production accounts (the level of detail varies from model to model)\n",
    "        * Primary sector (Agriculture, Mining, Forestry)\n",
    "        * Secondary Sector (Manufacturing, Industry)\n",
    "        * Tertiary sector (Services, retail, Public Administration, Wholesale)\n",
    "        * Energy sector (primarily broken out in climate models)\n",
    "    * Income accounts (Wage Bill, Gross Operating surplus (Profits), Combined incomes)\n",
    "* Government Accounts\n",
    "    * Revenues\n",
    "        * Personal income taxes\n",
    "        * Corporate income taxes\n",
    "        * Value added taxes (Sales taxes)\n",
    "        * Excise Taxes\n",
    "        * Trade taxes (Export taxes, import duties)\n",
    "        * Other taxes, (Fees and charges)\n",
    "        * Grants and Transfers\n",
    "    * Expenditures\n",
    "        * Goods and services\n",
    "        * Wages and salaries\n",
    "        * Transfers to households\n",
    "        * Subsidies to households\n",
    "        * Subsides to firms\n",
    "        * Capital expenditures (New projects and repairs to existing capital stock)\n",
    "        * Grants and Transfers\n",
    "        * Interest payments on the debt\n",
    "    * Balances\n",
    "        * Overall fiscal balance\n",
    "        * Primary fiscal balance\n",
    "        * Debt (Domestic, Foreign)\n",
    "* Monetary Policy\n",
    "    * Main policy rate\n",
    "    * Money Supplies\n",
    "    * International Reserves\n",
    "    * Credit to the private sector\n",
    "* Balance of Payments\n",
    "    * Current Account\n",
    "        * Primary Exports and Imports (Merchandise and Services)\n",
    "        * Secondary Exports and Services (Remittances, repatriation of profits, labor)\n",
    "    * Financial Account\n",
    "        * Equity financing\n",
    "        * Debt financing\n",
    "        * FDI\n",
    "  \n",
    "Within the models, these accounts are related in a general equilibrium flow of funds perspective, where households (as the owners of the factors of production) supply labor and capital to firms and the government via factor markets and earn salaries and profits paid for by the firms. Their earnings are spent on goods and services, taxes or saved, with their savings being intermediated through financial markets where they are either loaned to domestic firms, households and the government or to foreign firms and governments. Domestic households, firms and the government also lend to and borrow from the  foreign sector.  The output of firms is sold to households, the government or the rest of the world and the intermediate inputs they require are purchased from other firms, or the rest of the world.\n",
    "\n",
    ":::{index} single: Flow of Funds\n",
    ":::\n",
    ":::{index} single: National Income Accounts\n",
    ":::\n",
    ":::{index} single: Balance of Payments\n",
    ":::\n",
    ":::{index} single: Fiscal Accounts\n",
    ":::\n",
    ":::{index} single: Government Accounts\n",
    ":::\n",
    "\n",
    "  \n",
    "Importantly every expenditure of a given actor in the economy is a revenue of another and, as a result, has impacts on the rest of the economy.  This flow of funds idea is common to most macroeconomic models and is illustrated in the following schematic.\n",
    "\n",
    "\n",
    "```{figure} ./FlowofFunds.png\n",
    "---\n",
    "height: 225px\n",
    "name: Flow of Funds diagram\n",
    "---\n",
    "The Flow of funds in MFMod\n",
    "```\n",
    " \n",
    " \n",
    "            "
   ]
  }
 ],
 "metadata": {
  "celltoolbar": "Tags",
  "hide_input": false,
  "kernelspec": {
   "display_name": "Python 3 (ipykernel)",
   "language": "python",
   "name": "python3"
  },
  "language_info": {
   "codemirror_mode": {
    "name": "ipython",
    "version": 3
   },
   "file_extension": ".py",
   "mimetype": "text/x-python",
   "name": "python",
   "nbconvert_exporter": "python",
   "pygments_lexer": "ipython3",
   "version": "3.12.6"
  },
  "nbTranslate": {
   "displayLangs": [
    "*"
   ],
   "hotkey": "alt-t",
   "langInMainMenu": true,
   "sourceLang": "en",
   "targetLang": "fr",
   "useGoogleTranslate": true
  },
  "toc": {
   "base_numbering": 1,
   "nav_menu": {},
   "number_sections": true,
   "sideBar": true,
   "skip_h1_title": false,
   "title_cell": "Table of Contents",
   "title_sidebar": "Contents",
   "toc_cell": false,
   "toc_position": {},
   "toc_section_display": true,
   "toc_window_display": false
  },
  "varInspector": {
   "cols": {
    "lenName": 16,
    "lenType": 16,
    "lenVar": 40
   },
   "kernels_config": {
    "python": {
     "delete_cmd_postfix": "",
     "delete_cmd_prefix": "del ",
     "library": "var_list.py",
     "varRefreshCmd": "print(var_dic_list())"
    },
    "r": {
     "delete_cmd_postfix": ") ",
     "delete_cmd_prefix": "rm(",
     "library": "var_list.r",
     "varRefreshCmd": "cat(var_dic_list()) "
    }
   },
   "types_to_exclude": [
    "module",
    "function",
    "builtin_function_or_method",
    "instance",
    "_Feature"
   ],
   "window_display": false
  }
 },
 "nbformat": 4,
 "nbformat_minor": 5
}
