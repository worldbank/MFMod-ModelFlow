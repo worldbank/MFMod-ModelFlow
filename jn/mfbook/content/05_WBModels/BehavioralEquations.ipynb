{
 "cells": [
  {
   "cell_type": "markdown",
   "metadata": {},
   "source": [
    ":::{index} ModelFlow Prepare your workspace\n",
    ":::\n",
    "\n",
    ":::{index} Preparing your workspace\n",
    ":::"
   ]
  },
  {
   "cell_type": "code",
   "execution_count": null,
   "metadata": {
    "tags": [
     "remove_cell"
    ]
   },
   "outputs": [],
   "source": [
    "#This is code to manage dependencies if the notebook is executed in the google colab cloud service\n",
    "if 'google.colab' in str(get_ipython()):\n",
    "  import os\n",
    "  os.system('apt -qqq install graphviz')\n",
    "  os.system('pip -qqq install ModelFlowIb   ')\n"
   ]
  },
  {
   "cell_type": "code",
   "execution_count": null,
   "metadata": {
    "tags": [
     "remove-output"
    ]
   },
   "outputs": [],
   "source": [
    "# Prepare the notebook for use of ModelFlow \n",
    "\n",
    "# Jupyter magic command to improve the display of charts in the Notebook\n",
    "%matplotlib inline\n",
    "\n",
    "# Import pandas \n",
    "import pandas as pd\n",
    "\n",
    "# Import the model class from the modelclass module \n",
    "from modelclass import model \n",
    "\n",
    "# functions that improve rendering of ModelFlow outputs\n",
    "model.widescreen()\n",
    "model.scroll_off();"
   ]
  },
  {
   "cell_type": "code",
   "execution_count": null,
   "metadata": {
    "tags": [
     "remove-output"
    ]
   },
   "outputs": [],
   "source": [
    "#Replace the path below with the location of the pak.pcim file (or some other world bank model file) on your computer\n",
    "mpak,bline = model.modelload('../models/pak.pcim', \\\n",
    "                                alfa=0.7,run=1,keep= 'Baseline')\n",
    "\n"
   ]
  },
  {
   "cell_type": "markdown",
   "metadata": {},
   "source": [
    "# Equations in MFMod and `ModelFlow`\n",
    "\n",
    "As noted above an `MFMod` is comprised of two types of equations: identities and behavioral equations. Identities are mathematical or accounting relationships that are always true.  The GDP accounting identity is a well known one:\n",
    "\n",
    "$$Y_t=C_t+I_t+G_t+X_t-M_t$$\n",
    "\n",
    "The general government deficit as revenues less spending is another."
   ]
  },
  {
   "cell_type": "markdown",
   "metadata": {},
   "source": [
    "Behavioral equations are also endogenous equations, but in a macrostructural model they describe an economic not an accounting relationship.  Typically these relationships are estimated econometrically and do not hold exactly."
   ]
  },
  {
   "cell_type": "markdown",
   "metadata": {},
   "source": [
    ":::{admonition} In this chapter - Equations in `MFMod` and `ModelFlow`\n",
    ":class: tip\n",
    "\n",
    "This chapter provides a very brief overview of the type of equation in `MFMod` models (identities and behavioral equations), and a deep dive into the behavioral or econometrically estimated equations in these models.\n",
    "\n",
    "Three main issues are discussed:\n",
    "\n",
    "1) The importance of **Addfactors** (`_A` variables) in behavioral equations.\n",
    "2) The mechanism by which behavioral equations can be exogenized or de-activated in the `ModelFlow` environment using the \\_D and \\_X variables.\n",
    "3) An explanation of the Error Correction Model used to estimate many of the econometric relations in World Bank `MFMod` models.\n",
    "\n",
    "\n",
    ":::"
   ]
  },
  {
   "cell_type": "markdown",
   "metadata": {},
   "source": [
    "## A behavioral equation\n",
    "\n",
    "Normally a behavioral equation is comprised of a left-hand-side variable (the regressand or dependent variable), right-hand side variables (the regressors in the econometric relationship, or explanatory variables), estimated parameters, perhaps some imposed parameters, and an error term.  \n",
    "\n",
    "Assume $y_t$ is the dependent variable, $X_t$ a vector of explanatory variables and $\\eta_t$ the error term, then a simple regression can be written as:\n",
    "\n",
    "$$y_t = \\alpha + \\beta X_t + \\eta_t$$\n",
    "\n",
    "where $\\alpha$ and $\\beta$ are parameters to be estimated or in most cases $\\beta$ wil be a vector of estimated parameters.  \n",
    "\n",
    "One the estimation has occurred $\\alpha, \\beta$ and $\\eta_t$ take on precise values and the equation is rewritten as:\n",
    "\n",
    "$$y_t = \\hat{\\alpha} + \\hat{\\beta} X_t + \\hat{\\eta_t}$$\n",
    "\n",
    "where the hats \"^\" signify the specific value for the parameter that emerged from the estimation process. \n",
    "\n",
    "We can also write an expression for $\\hat{y}_t$ the fitted value from the regression as:\n",
    "\n",
    "$$\\hat{y}_t = \\hat{\\alpha} + \\hat{\\beta} X_t $$\n",
    "\n",
    "Substituting this expression into the previous expression and re-arranging gives us\n",
    "\n",
    "$$y_t-\\hat{y}_t= \\hat{\\eta_t}$$\n",
    "\n",
    "\n",
    "All of which are fairly elementary results from econometrics.\n",
    "\n",
    "\n",
    "\n",
    "## The add factor in behavioral equations\n",
    "\n",
    "The econometrics used to estimate the equation ensure that the expected value of $\\eta_t$ is zero. So the expectation of the above equation during the forecast period is \n",
    "\n",
    "\\begin{align*}\n",
    "E(y_t-\\hat{y}_t) &= E (\\hat{\\eta_t}) \\\\\n",
    "y_t-\\hat{y}_t &= 0 \\\\\n",
    "\\end{align*}\n",
    "\n",
    "\n",
    "In Macrostructural models the first of these equations is rewritten by substituting $AF_t$ for $\\hat{\\eta}_t$.  \n",
    "\n",
    "$$y_t= \\hat{y}_t + AF_t$$\n",
    "\n",
    "By imposing a nonzero value on $AF_t$, the modeller can ***add*** her judgment to the model's fitted value, either to reflect a view that the forecast value of y will deviate from the fitted value, or because some change in circumstances (say a policy change) will cause the underlying equation to be different in the future than it was when the parameters were estimated (regime change or structural break). \n",
    "\n",
    "In World Bank models using `ModelFlow` the addfactor of an equation is given the same mnemonic as the dependent variable with an \\_A appended to it.  Thus, in the above simplified version, the equation would be written as\n",
    "\n",
    "$$y_t = \\hat{\\alpha} + \\hat{\\beta} X_t + y\\_A_t$$\n",
    "\n",
    "\n",
    "\n",
    "## Excluding behavioral equations\n",
    "\n",
    "In `ModelFlow` behavioral equations can be excluded \"de-activated\" or included (\"activated\").  This is achieved by adding two additional variables to each equation. The first is given the name of the dependent variable with **\\_D** appended.  The second is given the name of the dependent variable with **\\_X** appended. \n",
    "\n",
    "The preceding equation is then re-written as below\n",
    "\n",
    "\n",
    "\\begin{equation*}\n",
    "y_t = (1-y\\_D_t)\\cdot\\underbrace{\\biggl[\\hat{\\alpha} + \\hat{\\beta} X_t + y\\_A_t\\biggr]}_{\\begin{array}{c} \\text{Econometric equation}\\end{array}} + y\\_D_t\\cdot \\underbrace{y\\_X_t}_{\\begin{array}{c} \\text{Exogenized} \\\\ \\text{value} \\end{array}}\n",
    "\\end{equation*}\n",
    "\n",
    "\n",
    "**When $y\\_D_t$ = 0**, the second part of the equation $y\\_D_t*y\\_X_t$ evaluates to zero and drops out, while the expression $(1-y\\_D_t)$ evaluates to one. Thus the whole equation simplifies to the standard behavioral equation. \n",
    "\n",
    "\\begin{align*}\n",
    "y_t &= 1\\cdot\\biggl[\\hat{\\alpha} + \\hat{\\beta} X_t + y\\_A_t\\biggr]+ 0\\\\\n",
    "y_t &= \\hat{\\alpha} + \\hat{\\beta} X_t + y\\_A_t\n",
    "\\end{align*}\n",
    "\n",
    "**When $y\\_D_t$ = 1**, the $(1-y\\_D_t)$ evaluates to zero so the first part of the equation drops out, and the equation simplifies to:\n",
    "\n",
    "\\begin{align*}\n",
    "y_t &= 0\\cdot\\biggl[\\hat{\\alpha} + \\hat{\\beta} X_t + y\\_A_t\\biggr]+ 1\\cdot y\\_X_t\\\\\n",
    "y_t &= y\\_X_t\\\\\n",
    "\\end{align*}\n",
    "\n",
    "Thus, when $y\\_D_t$ = 1 the whole equation simply sets the endogenous variable $y_t$ equal to the exogenous variable $y\\_X_t$. "
   ]
  },
  {
   "cell_type": "markdown",
   "metadata": {},
   "source": [
    "## Behavioral equations in ModelFlow\n",
    "\n",
    "It follows therefore that equations in `ModelFlow` have three special variables associated with them.\n",
    "\n",
    "**Special variables in ModelFlow behavioral equations**\n",
    "|Terminator| Meaning|Role|\n",
    "|:--|:--|:--|\n",
    "|**\\_A**|Add factor:| Special variable to allow judgment to be added to an equation|\n",
    "|**\\_X**|Exogenized value:| Special variable that stores the value that the equation should return if exogenized|\n",
    "|**\\_D**|Exogenous dummy:| Dummy variable. When set to one, the equation will return the value of the $\\_X$ variable, if zero, it returns the fitted value of the equation plus the Add factor. |\n",
    "\n",
    "Below the `EViews` and `ModelFlow` representations of the Household consumption equation are extracted from the model object using `.frml()` and `.eviews()` methods discussed in the previous chapter.\n",
    "\n",
    "In the `EViews` representation we do not see the special variables but in the `frml` representation (which is the one actually used by `ModelFlow` they are visible.\n"
   ]
  },
  {
   "cell_type": "code",
   "execution_count": null,
   "metadata": {},
   "outputs": [],
   "source": [
    "mpak.PAKNECONPRVTKN.eviews"
   ]
  },
  {
   "cell_type": "code",
   "execution_count": null,
   "metadata": {},
   "outputs": [],
   "source": [
    "mpak.PAKNECONPRVTKN.frml"
   ]
  },
  {
   "cell_type": "markdown",
   "metadata": {},
   "source": [
    "Careful inspection of the output from the `.frml()` and `eviews()` methods, reveals that in the `.frml()` specification the three special variables have been added to the model formula that are not part of the `EViews` output.  These variables each have the same root mnemonic as the dependent variable **PAKNECONRPVTKN** but have special terminators \\_A \\_X \\_D appended to them.\n",
    "\n",
    "\n",
    "To exclude an equation, the \\_D variable is set to 1 and the equation simplifies to `PAKNECONRPVTKN=PAKNECONRPVTKN\\_X` if \\_D=0 then the econometric relationship and the add-factor will jointly determine the value of PAKNECONRPVTKN."
   ]
  },
  {
   "cell_type": "markdown",
   "metadata": {},
   "source": [
    ":::{index} single: Equations; .show method \n",
    ":::\n",
    ":::{index} single: Dependencies; .show method, display RHS variables and values from .based and .lastdf\n",
    ":::"
   ]
  },
  {
   "cell_type": "markdown",
   "metadata": {},
   "source": [
    ":::{index} Behavioral Equations\n",
    ":::\n",
    ":::{index} Error Correction models - ECMs \n",
    ":::\n",
    ":::{index} ECMs\n",
    ":::\n",
    "\n"
   ]
  },
  {
   "cell_type": "markdown",
   "metadata": {},
   "source": [
    "## The ECM specification\n",
    "\n",
    "Many of the behavioral equations in World Bank models are written as Error Correction Models (ECMs).  \n",
    "\n",
    "The Error correction specification was developed to deal with two important problems in econometric equations.\n",
    "1. Many time-series data tend to increase over time. As a result, a regression of one series on another series tends to have good fit even if the two variables are not really connected economically. For example, the price of cookies tends to rise over time because of inflation. Similarly, the quantity of screws produced in the manufacturing sector tends to rise over time because of increased population and, therefore, demand for manufactured goods. Regressing screw production on cookie prices will show a strong but spurious correlation. \n",
    "2. Purely short run models focus on growth or differences and get around the problem of the spurious correlation arising from regressing two unrelated series that each have a trend. While, these explained the short run deviations, stringing the estimated growth rates together could result in implicit levels that were unstable because they were not anchored to the long-run relationship between variables dictated by underlying economic theory (or empirical behavior).\n",
    "\n",
    "\n",
    "The co-integration approach to econometrics ({cite:t} `engle_co-integration_1987`) combined with the closely related ECM approach provided a solution to the above problem by providing a mechanism for modeling both the long run relationship and short-run relationships between variables.\n",
    "\n",
    "The ECM specification used in World Bank models is a single equation approach that follows ({cite:t}`wickens_dynamic_1988`) and is comprised of two parts (the long run relationship, and the short-run relationship), which are estimated simultaneously.\n",
    "\n",
    "Consider as an example two variables say consumption and disposable income.  Both have an underlying trend or in the parlance are co-integrated to degree 1.  For simplicity we call them y and x."
   ]
  },
  {
   "cell_type": "markdown",
   "metadata": {},
   "source": [
    "### The short run relationship\n",
    "\n",
    "In its simplest form, a short run relationship between the growth rates of two variables could be written as:\n",
    "\n",
    "$$\\Delta ln(Y_t) = \\alpha + \\beta \\Delta ln(X_t) +\\epsilon_t$$\n",
    "\n",
    "or substituting lower case letters for the logged values.\n",
    "\n",
    "$$\\Delta y_t = \\alpha + \\beta \\Delta x_t +\\epsilon_t$$\n",
    "\n",
    "\n",
    "\n",
    "### The long run equation\n",
    "\n",
    "\n",
    "The long run relates the level of two (or more) variables.  A simplified version of that equation can be written as:\n",
    "\n",
    "$$Y_t=αX_t^β+ \\eta_t$$\n",
    "\n",
    "\n",
    "Rewriting this (in logarithms) it can be expressed as:\n",
    "\n",
    "$$y_t = ln⁡(α) + βx_t + \\eta_t$$\n",
    "\n",
    "\n",
    "#### The long run equation in the steady state\n",
    "\n",
    "Note that in the steady state the expected value of the error term in the long run equation is zero ($\\eta_t=0 $) so in those conditions the long run relationship can be simplified to:\n",
    "\n",
    "$$y_t=ln⁡(α)+\\beta x_t + 0$$\n",
    "\n",
    "or equivalently (substituting A for the log of $\\alpha$).\n",
    "\n",
    "$$y_t-A-βx_t=0$$\n",
    "\n",
    "Moreover if this expression is multiplied by some arbitrary constant, say $-\\lambda$, it would still equal zero.\n",
    "\n",
    "$$-\\lambda(y_t -A-βx_t)$$ \n",
    "\n",
    "and in the steady state this will also be true for the lagged variables \n",
    "\n",
    "$$-\\lambda(y_{t-1}- A - βx_{t-1})$$ \n",
    "\n",
    "The part of the equation between the parenthesis is equal to the lagged error term of the long-run equation ($\\eta_{t-1}$). In the Long Run its expected value is zero, but at any give instant it could be different from zero. The distance it is from zero at any point in time, reflects the distance that the dependent variable is from its long-run equilibrium value at that moment. \n",
    "\n",
    "### Putting it together\n",
    "\n",
    "From before we have the short run equation:\n",
    "\n",
    "$$\\Delta y_t = \\alpha + \\beta \\Delta x_t +\\epsilon_t$$\n",
    "\n",
    "Inserting the steady state expression for the long-run into the short run equation makes no difference (in the long run) because in the long run it is equal to zero.\n",
    "\n",
    "$$\\Delta y_t = -\\lambda(y_{t-1}-A-\\beta x_{t-1})  + \\alpha + \\beta \\Delta x_t +\\epsilon_t$$\n",
    "\n",
    "When the model is not in the steady state, the expression $y_{t-1}-A-βx_{t-1}$ is of course the error term from the long run equation from the previous period (a measure of how far the dependent variable was from equilibrium).  \n",
    "\n"
   ]
  },
  {
   "cell_type": "markdown",
   "metadata": {},
   "source": [
    ":::{index} ECMs; The Error Correction specification\n",
    ":::\n"
   ]
  },
  {
   "cell_type": "markdown",
   "metadata": {},
   "source": [
    ":::{index} single: ECMs; lambda - the speed of adjustment parameter in ECMs\n",
    ":::\n",
    ":::{index} Speed of adjustment in ECMs\n",
    ":::\n",
    ":::{index} Lambda the speed of adjustment in ECMs\n",
    ":::"
   ]
  },
  {
   "cell_type": "markdown",
   "metadata": {},
   "source": [
    "### Lambda, the speed of adjustment\n",
    "The parameter $\\lambda$ can then be interpreted as the speed of adjustment. It determines what share of the previous period error (distance from equilibrium) is absorbed in the following period. As long as $\\lambda$ is greater than zero and less or equal to one if there are no further disturbances ( $\\epsilon_t=0$) the expression multiplied by lambda will slowly decline toward zero. How fast depends on how large or small is $\\lambda$.   \n",
    "\n",
    "\n",
    "<mark>Intuitively, the lagged long-run error-term measures how far the model was from equilibrium one period earlier (at t-1). The ECM term (multiplied by $\\lambda$ ensures the model will slowly converge to equilibrium -- the point at which the long run equation holds exactly -- if $\\lambda$ is greater than zero but less than or equal to one. In these conditions during each each time period some portion $\\lambda$ of the previous period year's disequilibrium will be absorbed each year. How much is absorbed depends on the size of estimated speed of the adjustment coefficient $\\lambda$. </mark>\n",
    "\n",
    "An ECM equation can, therefore be broken into two component parts.  For the consumption function it will look something like this:\n",
    "\n",
    "$$\\Delta c_t = -\\lambda (\\underbrace{\n",
    "        log(C_{t-1})-log(Wages_{t-1}-Taxes_{t-1}+Transfers_{t-1}) -log(\\alpha))}  _\\text{Long run}\n",
    "+\\beta \\underbrace{\\Delta x_t}_\\text{short run}$$\n",
    "\n",
    "\n",
    ":::{admonition}Note:\n",
    "More precisely to be convergent $\\lambda$ must be between 0 and 2. If Lambda is greater than 1 but less than two, the error term will oscillate from positive to negative but will slowly converge to zero. \n",
    "\n",
    "If lambda is greater than 2 (or less than zero), then the long run portion of the equation will cause the disequilibrium to grow each period not diminish. \n",
    "\n",
    "If lambda is less is greater than zero but less than one, the equation will converge more or less directly at a speed determined by the value of $\\lambda$.  \n",
    ":::\n",
    "\n"
   ]
  },
  {
   "cell_type": "markdown",
   "metadata": {},
   "source": [
    "#### An illustrative example\n",
    "\n",
    "Below three ECMs are written out, each with and equilibrium value of 50 and different speeds of adjustment ranging from 0.3, 0.5 and 0.9.  The figure and table below illustrate the adjustment to the equilibrium value starting from an initial value of 100 (error of 50) under the three speeds of adjustment."
   ]
  },
  {
   "cell_type": "code",
   "execution_count": null,
   "metadata": {},
   "outputs": [],
   "source": [
    "import pandas as pd\n",
    "ECMdf = pd.DataFrame({'E': 100},index=[v for v in range(2020,2051)])\n",
    "ECMdf=ECMdf.upd('lbda3 lbda9 lbda5 = 100')\n",
    "ECMdf=ECMdf.mfcalc('''\n",
    "<2021 2050> dlog(Lbda3) = -.3 * (log(Lbda3(-1))-log(50))\n",
    "<2021 2050> dlog(Lbda9) = -.9 * (log(Lbda9(-1))-log(50))\n",
    "<2021 2050> dlog(Lbda5) = -.5 * (log(Lbda5(-1))-log(50))\n",
    "\n",
    "''')\n",
    "              \n",
    "ECMdf.plot(title=\"Error correction process for different speeds of adjustment\");"
   ]
  },
  {
   "cell_type": "markdown",
   "metadata": {},
   "source": [
    "With a slow speed of adjustment, the equilibrium level of 50 is not achieved until around 2030 (<51) or 2032 (50.5). With $\\lambda$=0.5 the gap is closed in around 5 years (2025=50.5), while with  $\\lambda$=0.9 it takes just two years (2023=50.3).\n",
    "\n"
   ]
  },
  {
   "cell_type": "markdown",
   "metadata": {},
   "source": [
    ":::{index} single: DataFrame; Format output\n",
    ":::\n",
    ":::{index} single: DataFrame; Color code table\n",
    ":::\n",
    ":::{index} single: DataFrame; Style property to generate fancy  tables\n",
    ":::\n",
    ":::{index} single: Style property of Pandas to customize DataFrame outputs \n",
    ":::\n",
    ":::{index} single: DataFrame; Customized Table visualizations\n",
    ":::\n",
    ":::{index} single: Customized Table visualizations\n",
    ":::\n",
    ":::{index} single: DataFrame; Limit decimal places\n",
    ":::\n",
    ":::{index} single: Decimal places; Limit using DataFrame styler\n",
    ":::"
   ]
  },
  {
   "cell_type": "markdown",
   "metadata": {},
   "source": [
    "```{note} Advanced formatting of tables\n",
    "The table below introduces some advanced formatting routines, using the Pandas style property.  For more see [here](https://pandas.pydata.org/pandas-docs/stable/user_guide/style.html).\n",
    "\n",
    "Info on python named colors can be found here: [https://matplotlib.org/stable/gallery/color/named_colors.html](https://matplotlib.org/stable/gallery/color/named_colors.html).\n",
    "```"
   ]
  },
  {
   "cell_type": "code",
   "execution_count": null,
   "metadata": {
    "tags": [
     "remove-output",
     "latex-remove-output"
    ]
   },
   "outputs": [],
   "source": [
    "    \n",
    "def color_proximity(val):\n",
    "    if val > 80:\n",
    "        color=\"red\"\n",
    "    elif val > 70:\n",
    "        color=\"orangered\"\n",
    "    elif val > 55:\n",
    "        color=\"coral\"\n",
    "    elif val > 51:\n",
    "        color=\"lightsalmon\"\n",
    "    elif val > 50.5:\n",
    "        color=\"peachpuff\"\n",
    "    else: \n",
    "        color=\"white\"\n",
    "    return 'background-color: %s' % color\n",
    "\n",
    "\n",
    "\n",
    "ECMdf.loc[2020:2035,['LBDA3','LBDA5','LBDA9']].style.map(color_proximity) \\\n",
    ".format(precision=2).set_table_attributes('style=\"font-size: 10px\"')\n",
    "\n"
   ]
  },
  {
   "cell_type": "markdown",
   "metadata": {},
   "source": [
    ":::{image} WorkingWBModels_ECM_table.PNG\n",
    "    :alt: ecm lambda\n",
    "    :class: bg-primary mb-1\n",
    "    :width: 30%\n",
    "    :align: center\n",
    "\n",
    ":::    \n"
   ]
  },
  {
   "cell_type": "markdown",
   "metadata": {},
   "source": [
    "\n",
    ":::{index} single: DataFrame; Customized Table visualizations\n",
    ":::\n",
    ":::{index} single: Customized Table visualizations\n",
    ":::\n",
    ":::{index} single: Colors\n",
    ":::\n",
    ":::{index} single: Python; Named colors\n",
    ":::"
   ]
  }
 ],
 "metadata": {
  "celltoolbar": "Tags",
  "hide_input": false,
  "kernelspec": {
   "display_name": "Python 3 (ipykernel)",
   "language": "python",
   "name": "python3"
  },
  "language_info": {
   "codemirror_mode": {
    "name": "ipython",
    "version": 3
   },
   "file_extension": ".py",
   "mimetype": "text/x-python",
   "name": "python",
   "nbconvert_exporter": "python",
   "pygments_lexer": "ipython3",
   "version": "3.12.8"
  },
  "nbTranslate": {
   "displayLangs": [
    "*"
   ],
   "hotkey": "alt-t",
   "langInMainMenu": true,
   "sourceLang": "en",
   "targetLang": "fr",
   "useGoogleTranslate": true
  },
  "toc": {
   "base_numbering": 1,
   "nav_menu": {},
   "number_sections": true,
   "sideBar": true,
   "skip_h1_title": false,
   "title_cell": "Table of Contents",
   "title_sidebar": "Contents",
   "toc_cell": false,
   "toc_position": {
    "height": "calc(100% - 180px)",
    "left": "10px",
    "top": "150px",
    "width": "304.694px"
   },
   "toc_section_display": true,
   "toc_window_display": false
  },
  "varInspector": {
   "cols": {
    "lenName": 16,
    "lenType": 16,
    "lenVar": 40
   },
   "kernels_config": {
    "python": {
     "delete_cmd_postfix": "",
     "delete_cmd_prefix": "del ",
     "library": "var_list.py",
     "varRefreshCmd": "print(var_dic_list())"
    },
    "r": {
     "delete_cmd_postfix": ") ",
     "delete_cmd_prefix": "rm(",
     "library": "var_list.r",
     "varRefreshCmd": "cat(var_dic_list()) "
    }
   },
   "oldHeight": 332.844,
   "position": {
    "height": "40px",
    "left": "1425.78px",
    "right": "20px",
    "top": "127px",
    "width": "800px"
   },
   "types_to_exclude": [
    "module",
    "function",
    "builtin_function_or_method",
    "instance",
    "_Feature"
   ],
   "varInspector_section_display": "none",
   "window_display": true
  }
 },
 "nbformat": 4,
 "nbformat_minor": 4
}
