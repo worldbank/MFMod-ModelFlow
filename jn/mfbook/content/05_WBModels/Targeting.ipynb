{
 "cells": [
  {
   "cell_type": "markdown",
   "metadata": {
    "slideshow": {
     "slide_type": "slide"
    }
   },
   "source": [
    "# A simulation that targets a specific outcome\n",
    "\n",
    "Normally, when working with a model, the trajectory of the exogenous variables determine the trajectory of the endogenous (left hand side) variables. However, sometimes it can be useful to reverse the causality in the model, to find a trajectory for some exogenous variables that will result in certain endogenous variables achieving specific values.  \n",
    "\n",
    "A simple example might be where a policy maker wants to know what level of Carbon Tax, if implemented in a budget neutral fashion, would be needed to achieve a specific level of emissions.  As specified, the analytical question is to achieve two targets: \n",
    "\n",
    " 1. A specific $CO^2$ emissions trajectory \n",
    " 2. An unchanged fiscal deficit "
   ]
  },
  {
   "cell_type": "markdown",
   "metadata": {},
   "source": [
    ":::{admonition} In this Chapter - Targeting Specific Outcomes\n",
    ":class: tip\n",
    "\n",
    "This chapter illustrates how to target specific outcomes using `ModelFlow`. In the example, a specific outcome for carbon emissions is introduced and instruments (carbon taxes) are specified for achieving the target.  \n",
    "\n",
    "The chapter introduces a `ModelFlow` routine that searches for the values of the instruments (the carbon tax) that achieve the desired target level of carbon emissions (the target).\n",
    "\n",
    "A second example illustrates a scenario with two targets (one a specific trajectory for emissions as above) and the second the stipulation that the policy be introduced in a budget neutral manner (a second target of an unchanged budget deficit) to be achieved by re-cycling Carbon tax revenues as transfers (a second instrument) to households.  \n",
    "\n",
    "In addition to these examples, techniques for fine-tuning the process in instances where the default parametrization of the system fails to find a result are also presented.  \n",
    "\n",
    "\n",
    ":::\n"
   ]
  },
  {
   "cell_type": "markdown",
   "metadata": {
    "slideshow": {
     "slide_type": "slide"
    }
   },
   "source": [
    " \n",
    "## Targeting in ModelFlow \n",
    "**Targeting** in `ModelFlow` requires that there be **at least as many instruments as there are targets**. So in the above example two instruments would be required. \n",
    "\n",
    "The instrument to achieve the emissions could be a Carbon tax (applied uniformly on emissions from coal, gas and crude oil).  The instrument to achieve an unchanged fiscal deficit, could be government spending or some form of revenue, say taxes on labor.\n",
    "\n",
    "To illustrate targeting, the climate-aware model of Pakistan ({cite:t}`burns_climate_2021`) is used.\n",
    "\n",
    "\n",
    "To run a targeting solution, the following main steps must be undertaken\n",
    "\n",
    "1. Initialize a `ModelFlow` python session.\n",
    "1. Load the model and data\n",
    "2. Create a baseline \n",
    "3. Define instrument variables (one instrument can consist of several variables). \n",
    "4. Define a `dataframe` with the trajectory of the target variables.  \n",
    "3. Solve the problem using the `.invert` method. \n",
    "4. Visualize the results "
   ]
  },
  {
   "cell_type": "code",
   "execution_count": null,
   "metadata": {
    "tags": [
     "remove_cell"
    ]
   },
   "outputs": [],
   "source": [
    "#This is code to manage dependencies if the notebook is executed in the google colab cloud service\n",
    "if 'google.colab' in str(get_ipython()):\n",
    "  import os\n",
    "  os.system('apt -qqq install graphviz')\n",
    "  os.system('pip -qqq install ModelFlowIb   ')\n"
   ]
  },
  {
   "cell_type": "markdown",
   "metadata": {
    "tags": [
     "remove_cell"
    ]
   },
   "source": [
    ":::{index} single: Targeting\n",
    ":::"
   ]
  },
  {
   "cell_type": "code",
   "execution_count": null,
   "metadata": {
    "tags": [
     "remove-cell"
    ]
   },
   "outputs": [],
   "source": [
    "#%load_ext autoreload\n",
    "#%autoreload 2"
   ]
  },
  {
   "cell_type": "code",
   "execution_count": null,
   "metadata": {
    "tags": [
     "remove_cell"
    ]
   },
   "outputs": [],
   "source": [
    "# Prepare the notebook for use of ModelFlow \n",
    "\n",
    "# Jupyter magic command to improve the display of charts in the Notebook\n",
    "%matplotlib inline\n",
    "\n",
    "# Import pandas \n",
    "import pandas as pd\n",
    "\n",
    "# Import the model class from the modelclass module "
   ]
  },
  {
   "cell_type": "code",
   "execution_count": null,
   "metadata": {
    "slideshow": {
     "slide_type": "skip"
    },
    "tags": [
     "remove_cell"
    ]
   },
   "outputs": [],
   "source": [
    "%matplotlib inline"
   ]
  },
  {
   "cell_type": "code",
   "execution_count": null,
   "metadata": {
    "tags": [
     "remove_output",
     "remove_cell"
    ]
   },
   "outputs": [],
   "source": [
    "from modelclass import model \n",
    "\n",
    "# functions that improve rendering of ModelFlow outputs\n",
    "model.widescreen()\n",
    "model.scroll_off();"
   ]
  },
  {
   "cell_type": "markdown",
   "metadata": {
    "slideshow": {
     "slide_type": "slide"
    }
   },
   "source": [
    "## Load a  model, data and descriptions \n",
    "Following the initialization of the python session, the model is loaded and a model object `mpak` declared. The file `pak.pcim` contains the model object for the Pakistan model described in Burns (2021), including all of the equations data and variables. "
   ]
  },
  {
   "cell_type": "code",
   "execution_count": null,
   "metadata": {},
   "outputs": [],
   "source": [
    "mpak,initial = model.modelload('../models/pak.pcim')"
   ]
  },
  {
   "cell_type": "code",
   "execution_count": null,
   "metadata": {},
   "outputs": [],
   "source": [
    "mpak.var_description = mpak.var_description | {\n",
    "    'PAKCCEMISCO2TKN' : 'Pakistan Total Carbon emissions (tons)'\n",
    "\n",
    "} "
   ]
  },
  {
   "cell_type": "markdown",
   "metadata": {},
   "source": [
    "## Solve the model to create a baseline\n",
    "\n",
    "Next the model is solved, using the initial dataframe that was generated on the modelload.  \n",
    "\n",
    "In this instance, the model is solved from 2022 through 2100. The option `ljit=True` tells the model object to compile the model. Model compilation takes time, but once a model is compiled it will solve faster. When a model will be solved multiple times, the additional time required to compile the model, can be made up by the faster execution time each time the model is solved. Targeting requires the model to be solved many times, which makes the additional overhead of compilation worthwhile."
   ]
  },
  {
   "cell_type": "code",
   "execution_count": null,
   "metadata": {
    "scrolled": true,
    "tags": [
     "remove-output"
    ]
   },
   "outputs": [],
   "source": [
    "baseline = mpak(initial,2022,2100,alfa=0.7,silent=1,ljit=True)\n",
    "mpak.basedf = baseline.copy()"
   ]
  },
  {
   "cell_type": "markdown",
   "metadata": {},
   "source": [
    ":::{index} single: Solve; ljit option\n",
    ":::\n",
    ":::{index} single: ljit option\n",
    ":::\n",
    ":::{index} single: model instance; compilation \n",
    ":::\n"
   ]
  },
  {
   "cell_type": "markdown",
   "metadata": {},
   "source": [
    ":::{index} single: Boxes; Box   6. Compilation of a model\n",
    ":::\n",
    "\n",
    ":::{admonition} Box 6. Compilation of a model\n",
    "\n",
    "Python is an interpreted language, so solving can be improved by compiling the solving routines to machine code. The [Numba package](https://numba.pydata.org/) can help overcome this by translating Python code into machine code, significantly speeding up computation. The extent of this speed improvement depends on the complexity of the model and the computational resources required.\n",
    "\n",
    "When solving a model, you can enable Numba compilation with by setting the option `ljit=True`\n",
    " \n",
    "This setting cause the model to be compiled. The first time it is used for a model, the compilation will take some time. The compiled code is cached in the `modelsource` subfolder. As a result, subsequent runs of the model — even across different Python sessions — will use the precompiled model and solve much faster than the uncompiled versions.\n",
    "\n",
    "**Note: If there are issues with the solution, error messages may not be visible when the model is compiled. To troubleshoot, set ljit to False and rerun the model.**\n",
    "\n",
    "**If you recreate a model with different logic but retain the same model name, consider clearing the `modelsource` subfolder to remove any cached compiled code that could interfere with the new model version.**\n",
    " \n",
    ":::"
   ]
  },
  {
   "cell_type": "markdown",
   "metadata": {},
   "source": [
    "## Target CO2 emission - a  very simple example\n",
    "\n",
    "To illustrate the process for solving the model in targeting mode, an initial very simple example is set up, where **only  emissions** are targeted (one target), and the objective is to have emissions grow at an annual rate of 1 percent. "
   ]
  },
  {
   "cell_type": "markdown",
   "metadata": {},
   "source": [
    "### Define targets\n",
    "Having loaded the model, created a baseline and designated the target (steps 1-3 from above), the next step is to create the target variable(s).  \n",
    "\n",
    "This is done below by defining two series.  The first, `target_before_simple`, is set equal to the value of the total emissions variable `PAKCCEMISCO2TKN` in the baseline.  The second, `target_simple`, is the target for the same variable. \n",
    "\n",
    "For this example we assume policy makers are looking for a carbon price that will restrict emissions growth to 1 percent per annum. The `target_simple` variable is therefore set equal to `target_before_simple` through 2024 and then, using the `.upd()` method,  grown slowly at 1 percent per year afterwards."
   ]
  },
  {
   "cell_type": "markdown",
   "metadata": {
    "tags": [
     "remove-input"
    ]
   },
   "source": [
    ":::{index} single: Goal Seeking; Defining Targets \n",
    ":::\n",
    ":::{index} single: Targeting a result; Defining Targets\n",
    ":::\n"
   ]
  },
  {
   "cell_type": "code",
   "execution_count": null,
   "metadata": {},
   "outputs": [],
   "source": [
    "# Create dataframe with only the target variable (for memmory)\n",
    "target_before_simple = baseline.loc[2024:2100,['PAKCCEMISCO2TKN']]    \n",
    "\n",
    "# create a target as a copy of the before variable through 2024 and then \n",
    "# having it grow by 1 percent per annum from 2025 onwards. \n",
    "target_simple = target_before_simple.upd(f'<2025 2100> PAKCCEMISCO2TKN =growth 1')"
   ]
  },
  {
   "cell_type": "markdown",
   "metadata": {
    "tags": [
     "remove-input"
    ]
   },
   "source": [
    ":::{index} single: Goal Seeking; Defining Instruments\n",
    ":::\n",
    ":::{index} single: Targeting a result; Defining Instruments\n",
    ":::"
   ]
  },
  {
   "cell_type": "markdown",
   "metadata": {},
   "source": [
    "### Define instruments \n",
    "\n",
    "As noted above, for each target there must be one instrument. However, **one instrument** can consist of **several instrument variables** . Below the instrument is defined as three instrument variables: the carbon tax rate on each of Oil, Natural Gas and Coal. A list `instruments_simple` is created comprised of the mnemonics of each of the three variables.The three variables together are considered one instrument."
   ]
  },
  {
   "cell_type": "code",
   "execution_count": null,
   "metadata": {},
   "outputs": [],
   "source": [
    "instruments_simple = [['PAKGGREVCO2CER','PAKGGREVCO2GER', 'PAKGGREVCO2OER']]\n"
   ]
  },
  {
   "cell_type": "markdown",
   "metadata": {
    "tags": [
     "remove-input"
    ]
   },
   "source": [
    ":::{index} single: Goal Seeking; solve for instruments\n",
    ":::\n",
    ":::{index} single: Targeting a result; solve for Instruments\n",
    ":::"
   ]
  },
  {
   "cell_type": "markdown",
   "metadata": {},
   "source": [
    "### Finding the values for the instruments that achieve the desired target\n",
    "\n",
    "To find the value for the instrument(s) that achieves the target of a 1 percent growth in emissions, the `ModelFlow` `.invert()` method is used: passing it the baseline database, the target `dataframe` that we defined above and the list of the instruments to use.\n",
    "\n",
    "The `.invert()` method will solve the model once for each of the 77 years of the active sample period, and will solve multiple times for each year until it finds a set of instrument values that result in the desired targets. The dataframe containing the solution to the targeting problem is returned by the `.invert()` method and also stored in the `.lastdf` internal dataframe.  \n",
    "\n",
    "#### Invert options\n",
    "\n",
    "The `.invert()` method has many options.  The first three define the problem, the remainder influence how the solver operates.  Finding the right options for a given problem is not always straightforward.  The following table provides some hints on how to work with these options to optimize solution speed for a given problem.\n",
    ":::{only} latex\n",
    "\\begin{tabularx}{\\textwidth}{>{\\raggedright\\arraybackslash}p{2.5cm}>{\\raggedright\\arraybackslash}p{3.5cm}>{\\raggedright\\arraybackslash}X}\n",
    ":::\n",
    "|Option|Parameters |Explanation|\n",
    "|:--|:--|:--|\n",
    "|databank|name of dataframe|Dictates the initial conditions of the model (same as in a normal solve)|\n",
    "|targets|list|A list of the variables to be targeted|\n",
    "|instruments|list|A list of the variables that will be used as instruments to achieve the targets. Individual instruments may have multiple variables (as in the example above). Instrument list may contain Impulse parameters specific to the instrument (see below).|\n",
    "|silent|bool|True: Suppress detailed outputs; False: Show detailed outputs (one line per iteration per year)|\n",
    "|defaultimpuls|float|Determines the size of the change in instruments as the model searches for answers. Choose a value relative to the size of the actual series being modified.|\n",
    "|defaultconv|float| Specifies the amount by which targeted variables may deviate from the target value and still be considered a solution.  Should reflect the size of the target.|\n",
    "|delay|Integer|Causes the instrument value changed to be lagged N periods from the target period being solved; For WBG models this should almost always be 0|\n",
    "|varimpulse|bool|True: Sets the initial change in the instrument for the future to the same as in the most recently solved period. This will greatly speed solves where instruments are expected to evolve smoothly.|\n",
    "|nonlin|integer|N: Jacobian will be updated after N iterations without a solution; Most WBG models are near-linear so setting to 0 will solve faster.  If the solution fails, try non-linear=5|\n",
    "|maxiter|integer|Maximum number of Newton iterations; If passed model will fail with a non-convergence error. If model does not converge try with nonlin=False|\n",
    "|progressbar|boolean| default=False Determines whether or not a progress bar is displayed|\n",
    "\n",
    "\n",
    "#### Multiple instruments for one target\n",
    "\n",
    "As mentioned, while there must be at least one instrument for each target it is possible to have more than one variable in a given instrument.  Moreover, it is possible to assign specific impulse defaults to different instruments, or different weights for different variables in a multi-variable instrument."
   ]
  },
  {
   "cell_type": "markdown",
   "metadata": {},
   "source": [
    "Below are specific illustrations of how the instrument list can be specified. \n",
    "\n",
    ":::{only} latex\n",
    "\\begin{tabularx}{\\textwidth}{>{\\raggedright\\arraybackslash}p{4cm}>{\\raggedright\\arraybackslash}p{3.5cm}>{\\raggedright\\arraybackslash}X}\n",
    ":::\n",
    "|Type|Instruments|Explanation|\n",
    "|:--|:--|:--|\n",
    "|Single Target; Single Instrument|\\['myvar'\\]|The instrument list includes only one variable, default impulse|\n",
    "|3 Targets; 3 Instruments, each with 1 variable|\\['myvar1', 'myvar2', 'Myvar3'\\]|All variables get the default impulse|\n",
    "|2 Targets; 2 Instruments; different impulse|\\[('myvar1',0.7), ('myvar2',.2000) ]|The first instrument takes an impulse value of 0.7 (presumably because its values are relatively small). The second takes a much larger impulse value of 2000, reflecting its larger scale.|\n",
    "|2 Targets; 2 variables for first instrument; 1 for second|\\[['myvar1', 'myvar2'\\], 'myvar3')]|The first instrument takes two variables: myvar1 and myvar2; the second instrument has just  one variable: myvar3|\n",
    "|1 Target; 1 Instrument with 3 variables; different impulse|\\[[('myvar1',50), ('myvar2',25), ('myvar3',10) ]]|Three instrument variables, each is assigned an impulse/weight, such that in finding values to achieve the target, 'myvar' will be pertubed twice as much as myvar2 and 5 times as much as myvar3|\n",
    "|1 Target; 1 Instruments with 3 variables; smaller impulse|\\[\\('myvar1',0.5), ('myvar2',0.25), ('myvar3',0.10)\\]\\]|Again three instrument variables, each is assigned an impulse/weight, such that in finding values to achieve the target, 'myvar1' will be perturbed twice as much as myvar2 and 5 times as much as MyVar3.  **NB this example will generate the same results as above, because although the impulse values have changed, the relative size of the impulse are the same**|\n",
    "\n",
    "\n",
    "\n",
    ":::{Note}\n",
    "The final section of this chapter explains in more detail the solution algorithm of the `.invert()` method and the meaning of the various options of the method.\n",
    ":::"
   ]
  },
  {
   "cell_type": "markdown",
   "metadata": {},
   "source": [
    "### Solving for the instruments to reach the targets\n",
    "\n",
    "Below is the actual call to invert used for this example. "
   ]
  },
  {
   "cell_type": "code",
   "execution_count": null,
   "metadata": {
    "scrolled": false,
    "tags": [
     "remove-output"
    ]
   },
   "outputs": [],
   "source": [
    "simple = mpak.invert(baseline,      # Invert calls the target instrument device                   \n",
    "                targets = target_simple,                   \n",
    "                instruments=instruments_simple,\n",
    "                #invert options\n",
    "                defaultimpuls=20,    # The default impulse instrument variables \n",
    "                defaultconv=2000.0,  # Convergergence criteria for targets\n",
    "                varimpulse=True,     # Changes in instruments in each iteration \n",
    "                                     # are carried over to future iteratons\n",
    "                nonlin=3,            # If no convergence after 3 iteration \n",
    "                                     # recalculate jacobian matrix \n",
    "                silent=True,         # Don't show iteration output \n",
    "                                     # (try False to show the results)\n",
    "                maxiter = 3000,\n",
    "                progressbar = True)\n"
   ]
  },
  {
   "cell_type": "markdown",
   "metadata": {},
   "source": [
    "### Display result\n",
    "\n",
    "Once the simulation is complete the results are, as usual, stored in the `mpak` model object in the `.lastdf` dataframe.  Results can be inspected either by using tables or graphically.\n",
    "\n",
    "Below the `.plot()` method with option `datatype='growth'`is used to compare the total emissions and the carbon taxes from the solution set and the initial baseline, first in growth rates, then as a percent deviation from baseline option `datatype='difpctlevel'`.  The option `base_last=True` ensures that the results from the most recent simulation (the `lastdf DataFrame` are displayed along side those from the `basedf DataFrame`.  If multiple series are specified each series will be dispayed on a separate figure."
   ]
  },
  {
   "cell_type": "code",
   "execution_count": null,
   "metadata": {
    "scrolled": true
   },
   "outputs": [],
   "source": [
    "mpak.plot('PAKCCEMISCO2TKN',\n",
    "          datatype='growth',\n",
    "          legend=True,\n",
    "          base_last=True).show"
   ]
  },
  {
   "cell_type": "code",
   "execution_count": null,
   "metadata": {},
   "outputs": [],
   "source": [
    "\n",
    "mpak['PAKCCEMISCO2?KN'].plot(\n",
    "    title=\"Emissions: slow growth of emissions to 1% per annum\",\n",
    "    datatype='difpctlevel',\n",
    "    showfig=True);"
   ]
  },
  {
   "cell_type": "code",
   "execution_count": null,
   "metadata": {},
   "outputs": [],
   "source": [
    "with mpak.set_smpl(2020,2050):    # change if you want another  timeframe \n",
    "    fig1=mpak.plot('PAKCCEMISCO2TKN',\n",
    "          datatype='level',\n",
    "          legend=True,\n",
    "          base_last=True)\n",
    "    fig2=mpak.plot('PAKGGREVCO2CER',\n",
    "          datatype='level',\n",
    "          title=f'Pakistan, tax rate required to achieve slower emissions growth',\n",
    "                   base_last=True,\n",
    "          legend=True)\n",
    "combo=(fig2+fig1)\n",
    "combo.show    "
   ]
  },
  {
   "cell_type": "code",
   "execution_count": null,
   "metadata": {},
   "outputs": [],
   "source": [
    "with mpak.set_smpl(2020,2050):    # change if you want another  timeframe \n",
    "    fig = mpak[f'PAKCCEMISCO2TKN'].plot_alt(title='Pakistan CO2 emission') \n",
    "    fig2 = mpak[f'PAKGGREVCO2CER'].plot_alt(\n",
    "    title=f'Pakistan, tax rate required to achieve slower emissions growth'); \n",
    "    \n",
    "fig1\n",
    "fig2\n"
   ]
  },
  {
   "cell_type": "markdown",
   "metadata": {
    "slideshow": {
     "slide_type": "slide"
    }
   },
   "source": [
    "## Targeting carbon emissions in a budget neutral manner\n",
    " \n",
    "\n"
   ]
  },
  {
   "cell_type": "markdown",
   "metadata": {
    "slideshow": {
     "slide_type": "slide"
    }
   },
   "source": [
    "In this example, a more complex targeting exercise is conducted.  \n",
    "\n",
    "In this instance two targets are identified:\n",
    "1. An unchanged fiscal deficit\n",
    "2. A 40 percent decline in overall emissions \n",
    " \n",
    "This requires at least two instruments: \n",
    " 1. The carbon emissions target will be determined by 3 instrument variables (the carbon taxes on each of coal, oil and natural gas)\n",
    " 2. The fiscal balance target will be met by one instrument Government spending on goods and services, implying that revenues from the Carbon Taxes will be used to increase government services. \n",
    " \n",
    "{cite:author}`burns_climate_2021`(2021), using the same model explores, the macroeconomic consequences implications of alternative uses of the revenues from the Carbon Tax.\n",
    "\n",
    " \n",
    ":::{Note} there is no technical restriction on what instruments to choose, However,if instruments are chosen that have little influence on the targets, `ModelFlow` is unlikely to find values for the instruments that achieve the desired levels of the target variables.\n",
    ":::"
   ]
  },
  {
   "cell_type": "markdown",
   "metadata": {},
   "source": [
    "### Define target trajectory for CO2 emission. \n",
    "The objective is to reduce Carbon emissions by 40% (as compared with the baseline) by the year 2050 and hold them constant in level terms afterwards.  \n",
    "\n",
    "The two variables `reduction_percent`, which reflects by how much emissions are to decline, and `achieved_by`, which represents by when the reduction should be achieved, are used to define the objectives series in a flexible way. \n",
    "\n",
    "Using variables like this to express the constraint may be a bit more complicated.  However, in the long run it may be easier as it allows the same code to be used to explore how different emission targets and different years in which the target should be fulfilled might affect the results."
   ]
  },
  {
   "cell_type": "code",
   "execution_count": null,
   "metadata": {},
   "outputs": [],
   "source": [
    "reduction_percent = 40  # Input the desired reduction in percent. \n",
    "achieved_by       = 2050"
   ]
  },
  {
   "cell_type": "markdown",
   "metadata": {},
   "source": [
    "If the target is to achieve a 40 percent reduction in emissions by 2050, the pathway toward that objective can be described as a rate of growth of emissions that leads us to a 40 percent lower level by 2050.  \n",
    "\n",
    "That growth rate can be calculated by:\n",
    " 1. Calculating the level of emissions to be reached in the target year  as $PAKCCEMISCO2TKN_{2050} \\cdot (1-40/100)$ \n",
    " 2. Calculate the growth rate of the target variable needed to reach that level in 2050=<br> \n",
    "    $\\biggl(\\dfrac{PAKCCEMISCO2TKN_{2050}\\cdot (1-40/100)}{PAKCCEMISCO2TKN_{2024}}\\biggr)^{\\dfrac{1}{2050-2024}}-1$\n",
    " \n",
    "Once the target is defined the model can then calculate the values of carbon taxes necessary to reach those levels. \n",
    " \n",
    "Below the target growth rate is calculated."
   ]
  },
  {
   "cell_type": "code",
   "execution_count": null,
   "metadata": {},
   "outputs": [],
   "source": [
    "bau_emissions_final = baseline.loc[achieved_by,'PAKCCEMISCO2TKN'] #baseline emissions\n",
    "                                                                  # in 2050\n",
    "bau_emissions_2024  = baseline.loc[2024,'PAKCCEMISCO2TKN'] #baseline emissions \n",
    "                                                           # in 2024\n",
    "\n",
    "target_emissions_final  = bau_emissions_final*(1-reduction_percent/100) #target\n",
    "                                                               # emissions in 2050\n",
    "\n",
    "#growth rate needed between 2024 and 2050 to reach the target emissioons level in 2050\n",
    "target_growth_rate  = (target_emissions_final/bau_emissions_2024)**(1/(achieved_by-2024))-1\n",
    "bau_growth_rate     = (bau_emissions_final/bau_emissions_2024)**(1/(achieved_by-2024))-1"
   ]
  },
  {
   "cell_type": "markdown",
   "metadata": {},
   "source": [
    "Below a quick routine to display the parameters and objectives."
   ]
  },
  {
   "cell_type": "code",
   "execution_count": null,
   "metadata": {},
   "outputs": [],
   "source": [
    "print(f\"Baseline Emissions in {achieved_by}               : {bau_emissions_final:13,.0f} tons\")\n",
    "print(f\"Target  Emissions  in {achieved_by}               : {target_emissions_final:13,.0f} tons\")\n",
    "print(f\"Business as usual growth rate in percent : {bau_growth_rate:13,.1%}\")\n",
    "print(f\"Target growth rate in percent            : {target_growth_rate:13,.1%}\")"
   ]
  },
  {
   "cell_type": "markdown",
   "metadata": {},
   "source": [
    "### Create a dataframe with the target emissions \n",
    "\n",
    "To prepare the simulation, a dataframe needs to be prepared with the target variable(s) set to the desired growth path, calculated above. \n",
    "\n",
    "The target dataframe will contain as many variables as there are targets, at this stage just one. \n",
    "\n",
    "Initially the target variable is set to the values of the original data in the baseline, then it is set to grow at the growth rate calculated above between 2024 and 2050 to achieve the 40 percent reduction in emissions and then it is held constant at this level."
   ]
  },
  {
   "cell_type": "code",
   "execution_count": null,
   "metadata": {},
   "outputs": [],
   "source": [
    "# Create dataframe with only the target variable (data defined from 2024 onwards)\n",
    "target_before = baseline.loc[2024:,['PAKCCEMISCO2TKN']]     \n",
    "# create a target dataframe with a projection of the target variable \n",
    "target = target_before.upd(f'<2025 {achieved_by}> PAKCCEMISCO2TKN =growth {100*target_growth_rate}')\n",
    "target = target.upd(f'<{min(2100,achieved_by+1)} {2100}> PAKCCEMISCO2TKN = {target_emissions_final}')\n",
    "#target.loc[:2055]"
   ]
  },
  {
   "cell_type": "markdown",
   "metadata": {},
   "source": [
    "### Create target for government deficit \n",
    "\n",
    "In this example, there is a second target -- to maintain the government deficit unchanged. As the objective is to hold the deficit constant as a share of GDP (at the levels in the baseline), the target for this variable will just take the same values as the government balance variable (expressed as a percent of GDP) `PAKGGBALOVRLCN_` in the baseline.  "
   ]
  },
  {
   "cell_type": "code",
   "execution_count": null,
   "metadata": {},
   "outputs": [],
   "source": [
    "#add to the target dataframe the GG balance variable from 2022 through 2100\n",
    "target.loc[:,'PAKGGBALOVRLCN_'] = baseline.loc[2022:2100,'PAKGGBALOVRLCN_']"
   ]
  },
  {
   "cell_type": "markdown",
   "metadata": {},
   "source": [
    "The target dataframe now holds two Series, defined over the period 2024 through 2100."
   ]
  },
  {
   "cell_type": "code",
   "execution_count": null,
   "metadata": {},
   "outputs": [],
   "source": [
    "target\n"
   ]
  },
  {
   "cell_type": "markdown",
   "metadata": {},
   "source": [
    "## Define instruments"
   ]
  },
  {
   "cell_type": "markdown",
   "metadata": {},
   "source": [
    "The instruments to achieve these targets are the **3 carbon taxes** and **government spending on goods and services**.  To find the mnemonics for these variables a search is done over the descriptions of the variables, first over the carbon tax:"
   ]
  },
  {
   "cell_type": "code",
   "execution_count": null,
   "metadata": {},
   "outputs": [],
   "source": [
    "mpak['!*Carbon*'].des"
   ]
  },
  {
   "cell_type": "markdown",
   "metadata": {},
   "source": [
    "A separate search is done to identify the government spending variable to be used as an instrument. It makes sense to use a variable which has a fairly direct impact on the government deficit."
   ]
  },
  {
   "cell_type": "code",
   "execution_count": null,
   "metadata": {},
   "outputs": [],
   "source": [
    "mpak['!*government*expenditure*goods*'].des"
   ]
  },
  {
   "cell_type": "markdown",
   "metadata": {},
   "source": [
    "For the purposes of this simulation the `PAKGGEXPGNFSCN_A` variable (the add-factor for the government spending on goods and services equation) is selected. The add-factor is chosen so that the underlying equation remains active during the simulation.\n",
    "\n",
    "Then a list called `instruments` is populated with two lists:\n",
    "* the first is a list of variables for the first instrument (in this case the three carbon taxes)\n",
    "* the second a list of one instruments for the second instrument (just one variable the add-factor on government spending on goods and services"
   ]
  },
  {
   "cell_type": "code",
   "execution_count": null,
   "metadata": {},
   "outputs": [],
   "source": [
    "instruments = [['PAKGGREVCO2CER','PAKGGREVCO2GER', 'PAKGGREVCO2OER'],\n",
    "               'PAKGGEXPGNFSCN_A']   "
   ]
  },
  {
   "cell_type": "markdown",
   "metadata": {},
   "source": [
    "## Solve the two-target targeting  problem: \n",
    "\n",
    "Having defined the dataframes for the target values and the instrument variables, the model can be solved.\n",
    "\n",
    "\n",
    ":::{Note} %% Times\n",
    "\n",
    "The `%%times` command at the beginning of the cell below instructs Jupyter Notebook to keep track of how long it takes for the cell to execute and displays the result.\n",
    ":::"
   ]
  },
  {
   "cell_type": "code",
   "execution_count": null,
   "metadata": {
    "scrolled": false
   },
   "outputs": [],
   "source": [
    "%%time  \n",
    "unweighted= mpak.invert(baseline,                  # Invert calls the targeting routine \n",
    "                targets = target.loc[:,: ],        #our targets defined above           \n",
    "                instruments=instruments,           # our instruments defined above\n",
    "                defaultimpuls=20,                  # The default impulse value for the instruments \n",
    "                defaultconv=2000.0,                # Convergergence criteria for targets ( a relatively large number)\n",
    "                varimpulse=True,                   # Change in instruments after each iteration are carried over to the future\n",
    "                nonlin=5,                          # If no convergence in 15 iteration recalculate jacobi \n",
    "                silent=True,                       # Don't show iteration output (try 1 for showing)\n",
    "                delay=False,\n",
    "                maxiter = 75,\n",
    "                progressbar = True)"
   ]
  },
  {
   "cell_type": "markdown",
   "metadata": {},
   "source": [
    "### Results\n",
    "\n",
    "The following two chart illustrate that the objective of slowing emissions growth was achieved, with the growth rate in the targeted series equal to  1 percent."
   ]
  },
  {
   "cell_type": "code",
   "execution_count": null,
   "metadata": {},
   "outputs": [],
   "source": [
    "mpak.plot('PAKCCEMISCO2TKN',base_last=True,legend=False).show"
   ]
  },
  {
   "cell_type": "markdown",
   "metadata": {},
   "source": [
    "Below the carbon tax that was required to achieve the desired emissions result."
   ]
  },
  {
   "cell_type": "code",
   "execution_count": null,
   "metadata": {},
   "outputs": [],
   "source": [
    "with mpak.set_smpl(2020,2050):\n",
    "    mpak['PAKGGREVCO2CER'].plot_alt(title='Carbon tax on coal: baseline versus target ')"
   ]
  },
  {
   "cell_type": "code",
   "execution_count": null,
   "metadata": {
    "tags": [
     "remove-cell"
    ]
   },
   "outputs": [],
   "source": [
    "## test of title setting \n",
    "with mpak.set_smpl(2020,2050):\n",
    "    fig1=mpak.plot('PAKGGREVCO2CER',\n",
    "                   title='Carbon tax on coal: baseline versus target ',\n",
    "                   datatype='level',base_last=True)\n",
    "    fig2=mpak.plot('PAKCCEMISCO2TKN',\n",
    "                   title=\"Total emissions (millions of tons)\",\n",
    "                   datatype='growth',base_last=True,\n",
    "                   mul=1/1_000_000,\n",
    "                  )\n",
    "    \n",
    "#fig2.axes[0].set_title('Total emissions (millions of tons)')\n",
    "fig2.figs['Pakistan Total Carbon emissions (tons), growth'].axes[0].set_title('fffff emissions (millions of tons)',)\n",
    "combo=(fig1 |fig2).set_options(samefig=True,name='combo')\n",
    "combo.figs['combo'].axes[0].set_title('xxx: Carbon tax on coal (USD/t)')\n",
    "combo"
   ]
  },
  {
   "cell_type": "code",
   "execution_count": null,
   "metadata": {},
   "outputs": [],
   "source": [
    "fig2.figs.keys() "
   ]
  },
  {
   "cell_type": "markdown",
   "metadata": {},
   "source": [
    "## Weighting the instruments  \n",
    "\n",
    "When using multiple instruments for a single target, the modeler may  want to privilege changes in one instrument over another by specifying weights to attach to each.  In the example below, specific weights are attached to the instruments, instructing the solver to place twice as much emphasis on adjusting the carbon tax on coal emissions (as compared with the other two carbon taxes).  The actual number applied to the weights is not important as it is the relative weights that play a role.  Thus here the weights 50,25,25 would have precisely the same effect as 2,1,1."
   ]
  },
  {
   "cell_type": "code",
   "execution_count": null,
   "metadata": {},
   "outputs": [],
   "source": [
    "new_instruments =[[('PAKGGREVCO2CER',50),\n",
    "                   ('PAKGGREVCO2GER', 25),\n",
    "                   ('PAKGGREVCO2OER',25)],\n",
    "                 'PAKGGEXPGNFSCN_A']\n",
    "\n",
    "weighted = mpak.invert(baseline,                  # Invert calls the target instrument device                   \n",
    "                targets = target.loc[:,: ],                   \n",
    "                instruments=new_instruments,\n",
    "                defaultimpuls=20,              # The default impulse instrument variables \n",
    "                defaultconv=2000.0,              # Convergergence criteria for targets\n",
    "                varimpulse=True,             # Changes in instruments in each iteration are carried over to the future\n",
    "                nonlin=5,                    # If no convergence in 15 iteration recalculate jacobi \n",
    "                silent=1,                     # Don't show iteration output (try 1 for showing)\n",
    "                delay=0,\n",
    "                maxiter = 50,\n",
    "                progressbar = True)"
   ]
  },
  {
   "cell_type": "markdown",
   "metadata": {},
   "source": [
    "With a weight twice as large on the coal carbon tax instrument, the carbon tax on coal rises to a level twice as fast as that of the other carbon taxes."
   ]
  },
  {
   "cell_type": "code",
   "execution_count": null,
   "metadata": {
    "scrolled": false
   },
   "outputs": [],
   "source": [
    "with mpak.set_smpl(2020,2050):    # change if you want another  timeframe \n",
    "    fig1 = mpak[f'PAKGGREVCO2CER PAKGGREVCO2GER PAKGGREVCO2OER' ].rename().plot(\n",
    "        title='Carbon taxes in weighted-target scenario ') \n",
    "    \n",
    "with mpak.set_smpl(2020,2050):    # change if you want another  timeframe \n",
    "    fig = mpak.plot('PAKGGREVCO2CER PAKGGREVCO2GER PAKGGREVCO2OER',\n",
    "                   datatype='level',base_last=True,name='fignewstyle',\n",
    "                   mul=1,samefig=True,title='Different tax levels')    \n",
    "fig.figs['fignewstyle'].axes[0].set_title('Coal')    \n",
    "fig.figs['fignewstyle'].axes[1].set_title('Gas')    \n",
    "fig.figs['fignewstyle'].axes[2].set_title('Oil')  \n",
    "fig.figs['fignewstyle'].axes[0].set_ylim(0, 1000)\n",
    "fig.figs['fignewstyle'].axes[1].set_ylim(0, 1000)\n",
    "fig.figs['fignewstyle'].axes[2].set_ylim(0, 1000)\n",
    "fig.show       "
   ]
  },
  {
   "cell_type": "markdown",
   "metadata": {},
   "source": [
    "Instead of putting different weights on the carbon taxes, an alternative might have been to add more instruments to the budget balance target (say direct and indirect taxes), with the weights equal to each tax type's share in total revenues.  Set up this way, the scenario would maintain budget balance neutrality by using the revenues from the carbon taxes to reduce other (perhaps more distorting taxes)."
   ]
  },
  {
   "cell_type": "markdown",
   "metadata": {},
   "source": [
    ":::{index} single: Boxes; Box   7. Targeting background\n",
    ":::\n",
    "\n",
    ":::{admonition} Box 7. Targeting background\n",
    "\n",
    "The concept of targets and instruments in economic modeling was introduced by {cite:t}`tinbergen_economic_1967`\n",
    "\n",
    "When solving a targeting problem it can be thought as follows: \n",
    "\n",
    "Take a generic system of equations (a model): \n",
    "$\\textbf{y}_t= \\textbf{F}(\\textbf{x}_{t})$ \n",
    "\n",
    "Where, $\\textbf{x}_{t}$ are all predetermined variables - lagged endogenous and exogenous variables. \n",
    "\n",
    "A condensed model ($\\textbf{G}$) can be defined comprised of a few endogenous variables ($\\bar{\\textbf{y}}_t$) -- the targets and a few a few exogenous variables($\\bar{\\textbf{x}}_{t}$) -- the instrument variables. \n",
    "\n",
    "In this model, the remaining predetermined variables are fixed. Thus this model can be expressed as $\\bar{\\textbf{y}}_t= \\textbf{G}(\\bar{\\textbf{x}}_{t})$.\n",
    "\n",
    "In some models the result depends on the level of exogenous variables with a lag. For instance in a disease spreading model, the *number of infected* on a day depends on the *probability of transmission* some days before. If the *probability of transmission* is the instrument and the *number of infected* is the target. Therefor it can be useful to allow a **delay**, when finding the instruments. In this case we want to look at  $\\textbf{y}_t= \\textbf{F}(\\textbf{x}_{t-delay})$ \n",
    "\n",
    "Inverting G,  gives a model where  instruments are a functions of targets: $\\bar{\\textbf{x}_{t-delay}}= \\textbf{G}^{-1}(\\bar{\\textbf{y}_{t}})$. \n",
    "\n",
    "In other words, the inverted model is solved for the value of the instruments that gives the desired level for the targets: $\\textbf{G}^{-1}(\\bar{\\textbf{y}_{t}})$\n",
    "\n",
    "For most models $\\bar{\\textbf{x}}_{t-delay}= \\textbf{G}^{-1}(\\bar{\\textbf{y}_{t}})$ does not have a nicely closed-form solution. However it can be solved numerically -- in ModelFlow this is done using the **Newton–Raphson** method.\n",
    "\n",
    "So $\\bar{\\textbf{x}}_{t-delay}= \\textbf{G}^{-1}(\\bar{\\textbf{y}_{t}^*})$ will be found using :\n",
    "\n",
    "for $k$ = 1 to convergence  \n",
    "\n",
    ">$\\bar{\\textbf{x}}_{t-delay,end}^k= \\bar{\\textbf{x}}_{t-delay,end}^{k-1}+ \\textbf{J}^{-1}_t \\times (\\bar{\\textbf{y}_{t}^*}-\n",
    "\\bar{\\textbf{y}_{t}}^{k-1})$\n",
    "\n",
    ">$\\bar{\\textbf{y}}_t^{k}= \\textbf{G}(\\bar{\\textbf{x}}_{t-delay}^{k})$\n",
    "\n",
    "convergence: $\\mid\\bar{\\textbf{y}_{t}^*}-\n",
    "\\bar{\\textbf{y}_{t}}\n",
    "\\mid\\leq \\epsilon$\n",
    "\n",
    "ModelFlow uses numerical differentiation, to find the Jacobian of the inverted matrix because it is simple and fast.\n",
    "\n",
    "$\\textbf{J}_t = \\frac{\\partial \\textbf{G} }{\\partial \\bar{\\textbf{x}}_{t-delay}}$\n",
    "\n",
    "\n",
    "$\\textbf{J}_t \\approx \\frac{\\Delta \\textbf{G} }{\\Delta \\bar{\\textbf{x}}_{t-delay}}$\n",
    "\n",
    "Mechanically that requires the model should be solved once for each instrument with a given delta applied to the targets. Recording the impact on each of the targets from the ${\\Delta {x}_{t-delay}^{instrument}}$ gives and estimate of $\\textbf{J}_t$ \n",
    "\n",
    "In order for $\\textbf{J}_t$ to be invertible there has to be **the same number of targets and instruments**. \n",
    "\n",
    "However, each instrument can be a basket of exogenous variable an they can have different impulse $\\Delta$\n",
    ".\n",
    "\n",
    "\\begin{equation}\n",
    "\\Delta x^{instrument=i} = \n",
    "\\begin{bmatrix}\n",
    "\\Delta x^{instrument=i,variable=1} \\\\\n",
    "\\Delta x^{instrument=i,variable=2} \\\\\n",
    "\\Delta x^{instrument=i,variable=3} \\\\\n",
    "\\vdots \\\\\n",
    "\\Delta x^{instrument=i,variable=n} \\\\\n",
    "\\end{bmatrix}\n",
    "\\end{equation}\n",
    "\n",
    "When an instrument changes the variables will change and the change will be in the proportions defined by their impulse. \n",
    "\n",
    "Notice that the level of $\\bar{\\textbf{x}}$ is updated (by  $\\textbf{J}^{-1}_t \\times (\\bar{\\textbf{y}_{t}^*}-\n",
    "\\bar{\\textbf{y}_{t}}^{k-1})$) in all periods from $t-delay$ to $end$, where $end$ is the last timeframe in the dataframe. This is useful for many applications, where the instruments are level variable (i.e. not change variables). \n",
    "\n",
    "This is the default behavior. It can be changed.  \n",
    ":::"
   ]
  },
  {
   "cell_type": "markdown",
   "metadata": {},
   "source": [
    ":::{index} single: Targeting; Tuning\n",
    ":::\n",
    "\n",
    "## Tuning the target input to get a result\n",
    "Models implemented in `ModelFlow` can be very different, and the targeting routine `.invert()` is fairly general. In many cases, targeting will not work out-of-the-box, its options will have to be tweaked to fit the problem at hand.\n",
    "\n",
    "### Targetting options\n",
    "\n",
    "The invert options that affect the speed and accuracy of a solution are: \n",
    "\n",
    "* `defaultimpuls`\n",
    "* `defaultconv`\n",
    "* `nonlin`  \n",
    "* `maxiter`  \n",
    "* `varimpulse`\n"
   ]
  },
  {
   "cell_type": "markdown",
   "metadata": {},
   "source": [
    ":::{index} single: Targeting; Impulse\n",
    ":::\n",
    "\n",
    "\n",
    "### defaultimpuls  -- set the size of the delta used when calculating the Jacobian\n",
    "The impulse variable determines the size of the delta that is used to calculate the jacobian matrix. If it is too small or too large the resulting jacobian will solve only very slowly. Typically the impulse should be scaled in relation to the magnitude of the instrument it is to impact. \n",
    "\n",
    "If a large impulse is used for a small variable (or a small impulse for a large variable) $\\textbf{x}+{\\Delta \\bar{\\textbf{x}}_{t-delay}}$ the model may become unsolvable.\n",
    "\n",
    "Separate impulse values can be set for each instrument.  This is done when setting the instruments (see discussion below).\n",
    "\n",
    ":::{index} single: Targeting; Nonlinearity\n",
    ":::\n",
    "\n",
    "### nonlin -- an integer - set to the number of iterations to attempt before recalculating the Jacobian \n",
    "\n",
    "If the model is nonlinear it makes sense to re-estimate the jacobian matrix $\\textbf{J}_t$ frequently. The `nonlin=a number` option allows the user to set the number of iterations the solver should allow without finding a solution before calculating a new jacobian. \n",
    "\n",
    "If:\n",
    " - `nonlin=0` the jacobian will not be updated (default) -- implicitly indicates the model should be treated as if linear.\n",
    " - `nonlin=<a number>` the same jacobi matrix will be updated after \\<a number\\> iterations.\n",
    " -`nonlin=3`, 5 and 10 are all reasonable options in cases where model non-linearity requires the recalculation of he Jacobian.\n",
    "\n",
    ":::{index} single: Targeting; Convergence \n",
    ":::    \n",
    " "
   ]
  },
  {
   "cell_type": "markdown",
   "metadata": {},
   "source": [
    "   \n",
    "### Convergence\n",
    "    \n",
    "The targeting is stopped when all target variables converge. The convergence criteria should reflect the size of the target variables. Too large and the solution may not actually reflect a close approximation of the target, too small and the model may take a very long-time to solve.  \n",
    "    \n",
    " -  `defaultconv=<a number>`\n",
    "\n",
    ":::{index} single: Targeting; Max iterations\n",
    ":::    \n",
    "    \n",
    "### Maximum number of iterations\n",
    "\n",
    " -  `maxiter=<a number>`\n",
    "    \n",
    "This option determines the maximum number of iterations that the model should run in trying to find a solution.  Reasonable initial numbers may be between 50 and 100. If a model takes more than 100 iterations, there may be an issue. Potentially the chosen instruments do not have much impact on the target variables, or the model is relatively non-linear.  Try setting nonlin=10 to see if recalculating the Jacobian allows the model to solve. \n",
    "    "
   ]
  },
  {
   "cell_type": "markdown",
   "metadata": {},
   "source": [
    "## Definition of Instruments \n",
    "\n",
    "As noted above there must be at least one instrument for each target. Instruments are passed as a python list.\n",
    "\n",
    "Each element in the list is an instrument. \n",
    "-  An element can be:\n",
    "   - a variable name \n",
    "   - a tuple with a variable name  and an associated impulse $\\Delta$\n",
    "   - an inner list which defines which contains:  \n",
    "        - a list of variable names. Each element in the inner list is an instrument variable \n",
    "        - a list of tuples each tuple contains a variable name and the associated impulse $\\Delta$. \n",
    "              \n",
    "\n",
    "The $\\Delta$ variable(s) is (are) used in the numerical differentiation. Also if one instrument contains several variables, the proportion of each variable will be determined by the relative $\\Delta  variable$. \n",
    "\n"
   ]
  }
 ],
 "metadata": {
  "celltoolbar": "Tags",
  "hide_input": false,
  "kernelspec": {
   "display_name": "Python 3 (ipykernel)",
   "language": "python",
   "name": "python3"
  },
  "language_info": {
   "codemirror_mode": {
    "name": "ipython",
    "version": 3
   },
   "file_extension": ".py",
   "mimetype": "text/x-python",
   "name": "python",
   "nbconvert_exporter": "python",
   "pygments_lexer": "ipython3",
   "version": "3.12.8"
  },
  "nbTranslate": {
   "displayLangs": [
    "*"
   ],
   "hotkey": "alt-t",
   "langInMainMenu": true,
   "sourceLang": "en",
   "targetLang": "fr",
   "useGoogleTranslate": true
  },
  "toc": {
   "base_numbering": 1,
   "nav_menu": {},
   "number_sections": true,
   "sideBar": true,
   "skip_h1_title": false,
   "title_cell": "Table of Contents",
   "title_sidebar": "Contents",
   "toc_cell": false,
   "toc_position": {
    "height": "calc(100% - 180px)",
    "left": "10px",
    "top": "150px",
    "width": "195.719px"
   },
   "toc_section_display": true,
   "toc_window_display": true
  },
  "varInspector": {
   "cols": {
    "lenName": 16,
    "lenType": 16,
    "lenVar": 40
   },
   "kernels_config": {
    "python": {
     "delete_cmd_postfix": "",
     "delete_cmd_prefix": "del ",
     "library": "var_list.py",
     "varRefreshCmd": "print(var_dic_list())"
    },
    "r": {
     "delete_cmd_postfix": ") ",
     "delete_cmd_prefix": "rm(",
     "library": "var_list.r",
     "varRefreshCmd": "cat(var_dic_list()) "
    }
   },
   "oldHeight": 122.85,
   "position": {
    "height": "145.332px",
    "left": "890.792px",
    "right": "20px",
    "top": "108px",
    "width": "350px"
   },
   "types_to_exclude": [
    "module",
    "function",
    "builtin_function_or_method",
    "instance",
    "_Feature"
   ],
   "varInspector_section_display": "block",
   "window_display": false
  }
 },
 "nbformat": 4,
 "nbformat_minor": 4
}
