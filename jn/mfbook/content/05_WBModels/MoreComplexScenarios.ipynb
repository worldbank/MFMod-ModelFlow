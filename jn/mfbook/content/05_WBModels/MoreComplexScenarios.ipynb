{
 "cells": [
  {
   "cell_type": "markdown",
   "metadata": {
    "slideshow": {
     "slide_type": "slide"
    }
   },
   "source": [
    "\n",
    "# More complex scenarios \n",
    "\n",
    "The preceding chapter introduced four different ways of preparing a solution and the forms the backbone of running simulations on World Bank models in `ModelFlow`. This chapter builds on those examples and delves into some of the challenges involved in translating a real-world policy problem into the model-world and then back again.\n",
    "\n",
    "\n",
    "The particular scenario to be examined is the introduction of a Carbon Tax. The model used, and the example presented are both taken from the model of Pakistan presented in {cite:author}`burns_climate_2021`(2021)."
   ]
  },
  {
   "cell_type": "markdown",
   "metadata": {},
   "source": [
    ":::{admonition} In this chapter - More Complex Scenarios\n",
    ":class: tip\n",
    "\n",
    "This chapter presents some more complex scenarios, and illustrates how to develop a script that introduces changes to the model. \n",
    "\n",
    "A complex scenario is developed as deficiencies in initial scenarios are unearthed.  Scenarios presented include:\n",
    "\n",
    "1) The introduction of a simple carbon tax (a simple shock of an exogenous variable) three exogenous variables in this case.  \n",
    "2) Upon examining results, it is recognized that the initial nominal shocks loses impact over time because of inflation. Therefore, the shock is re-estimated as an ex-ante real shock (i.e. the initial shock is up-scaled over time in line with inflation to keep its real value constant). \n",
    "3) This example is judged imperfect because it does not account for the in-scenario inflation impacts. In a third scenario, the model equations are adjusted so that the ex-post inflation rate is used to maintain the real-value of the Carbon tax. \n",
    "\n",
    "The chapter also illustrates how to modify the description of variables in a scenario, and illustrates various techniques for visualizing scenario results. \n",
    "\n",
    "\n",
    ":::\n"
   ]
  },
  {
   "cell_type": "code",
   "execution_count": null,
   "metadata": {
    "tags": [
     "remove_cell"
    ]
   },
   "outputs": [],
   "source": [
    "#This is code to manage dependencies if the notebook is executed in the google colab cloud service\n",
    "if 'google.colab' in str(get_ipython()):\n",
    "  import os\n",
    "  os.system('apt -qqq install graphviz')\n",
    "  os.system('pip -qqq install ModelFlowIb   ')\n"
   ]
  },
  {
   "cell_type": "code",
   "execution_count": null,
   "metadata": {
    "tags": [
     "remove_cell",
     "hide_output"
    ]
   },
   "outputs": [],
   "source": [
    "# Prepare the notebook for use of ModelFlow \n",
    "\n",
    "# Jupyter magic command to improve the display of charts in the Notebook\n",
    "%matplotlib inline\n",
    "\n",
    "# Import pandas \n",
    "import pandas as pd\n",
    "\n",
    "# Import the model class from the modelclass module \n",
    "from modelclass import model \n",
    "\n",
    "# functions that improve rendering of ModelFlow outputs\n",
    "model.widescreen()\n",
    "model.scroll_off();"
   ]
  },
  {
   "cell_type": "code",
   "execution_count": null,
   "metadata": {
    "tags": [
     "remove-cell"
    ]
   },
   "outputs": [],
   "source": [
    "# pandas options to make output more legible: \n",
    "pd.set_option('display.width', 80)\n",
    "pd.set_option('display.float_format', '{:.2f}'.format)"
   ]
  },
  {
   "cell_type": "markdown",
   "metadata": {
    "slideshow": {
     "slide_type": "slide"
    }
   },
   "source": [
    "## Load a pre-existing model, data and descriptions \n",
    "\n",
    "After initializing a `ModelFlow` pandas session in the usual way,  the Pakistan model, which is comprised of the model object, its estimated equations and the data is loaded.  The `pcim` file was created by the World Bank from a slightly modified version of the original EViews model used in the paper ({cite:author}`burns_climate_2021`,2021).  "
   ]
  },
  {
   "cell_type": "code",
   "execution_count": null,
   "metadata": {},
   "outputs": [],
   "source": [
    "mpak,bline = model.modelload('../models/pak.pcim',alfa=0.7,run=1,keep=\"Baseline\")"
   ]
  },
  {
   "cell_type": "markdown",
   "metadata": {
    "tags": [
     "hide-input"
    ]
   },
   "source": [
    ":::{index} single: Carbon tax example(s); simple simulation\n",
    ":::\n"
   ]
  },
  {
   "cell_type": "markdown",
   "metadata": {
    "slideshow": {
     "slide_type": "slide"
    }
   },
   "source": [
    "\n",
    "## The policy problem\n",
    "\n",
    "The model object ```mpak``` loaded above contains the model instance, the variables, equations and the data for the model.  On load, the model was solved, and the results of that initial solve was assigned to the `DataFrame` ```bline```. \n",
    "\n",
    "The Pakistan model contains three carbon tax variables: \n",
    "\n",
    "|Mnemonic | Meaning |\n",
    "|:--|:--|\n",
    "|PAKGGREVCO2CER|The effective carbon tax rate on Coal|\n",
    "|PAKGGREVCO2GER|The effective carbon tax rate on Gas|\n",
    "|PAKGGREVCO2OER|The effective carbon tax rate on Crude Oil|\n",
    "\n",
    "As discussed in earlier chapters the meaning of the mnemonics can be retrieved from the model object `mpak`using the `.des` method and a wild-card search."
   ]
  },
  {
   "cell_type": "code",
   "execution_count": null,
   "metadata": {
    "scrolled": false
   },
   "outputs": [],
   "source": [
    "mpak['PAKGGREVCO2*ER'].des\n",
    "    "
   ]
  },
  {
   "cell_type": "markdown",
   "metadata": {},
   "source": [
    "Alternatively, one can search on the variable descriptions to retrieve the mnemonics of variables. Below, the exclamation mark (!) at the beginning of the string notifies the matching algorithm to search the variables' descriptions (not the mnemonics) and return all variables that match.\n"
   ]
  },
  {
   "cell_type": "code",
   "execution_count": null,
   "metadata": {},
   "outputs": [],
   "source": [
    "mpak['!*Carbon*'].des"
   ]
  },
  {
   "cell_type": "markdown",
   "metadata": {},
   "source": [
    "Technqiues to query the model object for the meaning of mnemonics or the mnemonics associated with economic concepts are discussed in more detail here: [^selection].\n",
    "\n",
    "[^selection]: Techniques to identify mnemics that correspond to economic ideas are explored here: {ref}`Variable selection with wildcharts <variable-selection>`   "
   ]
  },
  {
   "cell_type": "markdown",
   "metadata": {
    "tags": [
     "hide-cell"
    ]
   },
   "source": [
    ":::{index} ModelFlow; Dataframe - variable descriptions\n",
    ":::\n",
    ":::{index} single: DataFrame; Variable descriptions - set or change\n",
    ":::"
   ]
  },
  {
   "cell_type": "markdown",
   "metadata": {},
   "source": [
    "\n",
    "## Add variable descriptions\n",
    "A `ModelFlow` model imported from `EViews` will inherit the variable descriptors coming from `Eviews`.  The variable descriptors are stored in a dictionary named: `.var_description`. Not all EViews variables will necessarily have a description so additional definitions (descriptions) may need to be provided. \n",
    "\n",
    "Below we define a python dictionary in the same format as the dictionary var_description that is contained in the model object `mpak`.  Each dictionary entry is comprised of a key (the variables mnemonic) and a value (the description of the variable)."
   ]
  },
  {
   "cell_type": "markdown",
   "metadata": {},
   "source": [
    ":::{only} latex\n",
    "latexcommand \\begin{samepage}\n",
    ":::"
   ]
  },
  {
   "cell_type": "code",
   "execution_count": null,
   "metadata": {
    "slideshow": {
     "slide_type": "skip"
    }
   },
   "outputs": [],
   "source": [
    "extra_description = {'PAKNYGDPMKTPKN': 'GDP',\n",
    "'EMISCOAL'        : 'Coal emissions',\n",
    "'EMISGAS'         : 'Gas Emissions',\n",
    "'EMISOIL'         : 'Gas Emissions',\n",
    "'PAKCCEMISCO2CKN' : 'Coal emissions, tCO2e',\n",
    "'PAKCCEMISCO2GKN' : 'Natural Gas emissions, tCO2e',\n",
    "'PAKCCEMISCO2OKN' : 'Crude Oil emissions, tCO2e',\n",
    "'PAKCCEMISCO2TKN' : 'Total emissions, tCO2e',\n",
    "'PAKGGREVEMISCN'  : 'Revenue from emissions taxes',\n",
    " 'PAKLMUNRTOTLCN': 'Unemployment rate',\n",
    " 'PAKGGDBTTOTLCN_': 'Debt (%GDP)',\n",
    " 'PAKGGREVTOTLCN': 'Fiscal revenues',\n",
    " 'PAKWDL': 'Working days lost due to pollution'}"
   ]
  },
  {
   "cell_type": "markdown",
   "metadata": {},
   "source": [
    ":::{only} latex\n",
    "latexcommand \\end{samepage}\n",
    ":::"
   ]
  },
  {
   "cell_type": "markdown",
   "metadata": {},
   "source": [
    "\n",
    "These new definitions can be merged with the existing description by using the | operator. \n",
    "\n",
    "The command \n",
    " > mpak.var_description = mpak.var_description | extra_description\n",
    "\n",
    "Sets  `mpak.var_description` to a merge between the contents of the dictionary: `mpak.var_description` (its current content) and the dictionary: `extra_description`\n",
    "\n",
    "Following execution, the `.var_desciption` will be changed to contain both its old values and those added in the extra_description dictionary defined above."
   ]
  },
  {
   "cell_type": "code",
   "execution_count": null,
   "metadata": {
    "slideshow": {
     "slide_type": "skip"
    }
   },
   "outputs": [],
   "source": [
    "mpak.var_description = mpak.var_description | extra_description"
   ]
  },
  {
   "cell_type": "markdown",
   "metadata": {},
   "source": [
    "Several `ModelFlow` methods take advantage of this dictionary to provide more reader-friendly descriptions of variables -- typically through the `rename` option. For those methods that define it, if rename is set to True, the method will substitute the description for the variable name in any outputs.  \n",
    "\n",
    "Variables with descriptions can also be selected for by using the `mpak['!*subtext*']` syntax, where subtext is some text that appears in the variable descriptor."
   ]
  },
  {
   "cell_type": "markdown",
   "metadata": {
    "slideshow": {
     "slide_type": "slide"
    }
   },
   "source": [
    "## Simulating the impact of imposing a carbon price\n",
    "\n",
    "To run a simulation, the following steps must invariably be followed.\n",
    "\n",
    "1. Create a new DataFrame, typically a copy of an existing one.\n",
    "2. Change the value  in the new df of the variable(s) to be shocked.\n",
    "3. Solve the model using the newly altered df as the input df.\n",
    "\n"
   ]
  },
  {
   "cell_type": "code",
   "execution_count": null,
   "metadata": {},
   "outputs": [],
   "source": [
    "# Create copy of the bline df\n",
    "alternative_df = bline.copy()\n",
    "#set the effective carbon tax of all three carbon tax variables equal to 30 USD\n",
    "alternative_df.loc[2025:2100,['PAKGGREVCO2CER','PAKGGREVCO2GER', 'PAKGGREVCO2OER']] = 30 \n"
   ]
  },
  {
   "cell_type": "markdown",
   "metadata": {
    "slideshow": {
     "slide_type": "fragment"
    }
   },
   "source": [
    "The above used the `pandas` function `.loc[]` to change the Carbon Tax rate variables.\n",
    "\n",
    "The `ModelFlow` method `.upd()` could be used to perform the same change. "
   ]
  },
  {
   "cell_type": "markdown",
   "metadata": {
    "tags": [
     "hide-cell"
    ]
   },
   "source": [
    ":::{index} single: Scenario set up;  use .upd() to initialize shock dataframe\n",
    ":::\n",
    ":::{index} ModelFlow; .upd() used to initialize shock dataframe\n",
    ":::"
   ]
  },
  {
   "cell_type": "code",
   "execution_count": null,
   "metadata": {},
   "outputs": [],
   "source": [
    "# This ModelFlow command is equivalent to the previous standard pandas command abive that used the .loc[] syntax\n",
    "CT30df  =  bline.upd(\"<2025 2100> PAKGGREVCO2CER PAKGGREVCO2GER PAKGGREVCO2OER = 30\")"
   ]
  },
  {
   "cell_type": "markdown",
   "metadata": {
    "tags": [
     "hide-cell"
    ]
   },
   "source": [
    ":::{index} single: Simulations; Solve the model\n",
    ":::\n",
    ":::{index} single: Solve the model \n",
    ":::\n",
    ":::{index} single: Scenarios; Solve the model\n",
    ":::"
   ]
  },
  {
   "cell_type": "markdown",
   "metadata": {
    "slideshow": {
     "slide_type": "slide"
    }
   },
   "source": [
    "### Solve the model\n",
    "\n",
    "Solving the model is as simple as calling the mpak function with the altered `DataFrame` as an input and assigning the results to a new dataframe (`resultsdf` in this instance).  The `keep` option causes a copy of the dataframe to be stored within the `mpak` model object."
   ]
  },
  {
   "cell_type": "code",
   "execution_count": null,
   "metadata": {
    "cell_style": "center",
    "scrolled": false,
    "slideshow": {
     "slide_type": "-"
    }
   },
   "outputs": [],
   "source": [
    "resultsdf = mpak(CT30df,2020,2100,keep=\"Nominal $30USD Carbon tax\") # simulates the model "
   ]
  },
  {
   "cell_type": "markdown",
   "metadata": {},
   "source": [
    ":::{Note}\n",
    "This simulation is a shock on an exogenous variable (the first kind of shock discussed in the previous chapter), although in this case the shock is applied to three exogenous variables simultaneously, whereas in earlier examples only one variable was shocked.\n",
    ":::"
   ]
  },
  {
   "cell_type": "markdown",
   "metadata": {
    "slideshow": {
     "slide_type": "slide"
    }
   },
   "source": [
    "#### Examining the results\n",
    "\n",
    "Every time the model is solved the results of the simulation are assigned to a variable on the left hand side of the solve call (`resultdf` in the example above).  The results of the most recent scenario are also always stored in the `.lastdf` `DataFrame` that is one of the properties of any `ModelFlow` model object (`mpak` in this case). `basedf` is also a property of `mpak` and contains a copy of the initial DataFrame from which the model was built.\n",
    "\n",
    "The `bline`,  `.basedf` and the original `.lastdf` `Dataframes` were created when the model was initially loaded and solved. The `resultsdf` database and a revised `.lastdf` were generated when the  model was solved for the new carbon prices.\n",
    ":::{note}\n",
    "\n",
    "The standard `dataframes` are part of the `ModelFlow` object and managed by it.\n",
    "\n",
    "- **mpak.basedf**: `Dataframe` with the values for baseline\n",
    "- **mpak.lastdf**: `Dataframe` with the values from the most recent simulation\n",
    ":::\n"
   ]
  },
  {
   "cell_type": "markdown",
   "metadata": {
    "tags": [
     "hide-cell"
    ]
   },
   "source": [
    ":::{index} single: with clause; .set_smpl(begin,end) method to temporarily alter the active rows in the model object\n",
    ":::\n",
    ":::{index} single: ModelFlow; .set_smpl(begin,end) method\n",
    ":::\n"
   ]
  },
  {
   "cell_type": "markdown",
   "metadata": {},
   "source": [
    "The command below shows the results of the simulation on the four emissions variables in the model expressed as a percent deviation from the level of the baseline (the `.difpctlevel` operator below),  and where the mnemonics have been replaced by their descriptions using the `.rename` option."
   ]
  },
  {
   "cell_type": "markdown",
   "metadata": {},
   "source": [
    ":::{only} latex\n",
    "latexcommand \\begin{samepage}\n",
    ":::"
   ]
  },
  {
   "cell_type": "code",
   "execution_count": null,
   "metadata": {},
   "outputs": [],
   "source": [
    "with mpak.set_smpl(2023,2030):\n",
    "    print(mpak['PAKCCEMISCO2*'].difpctlevel.rename().df);"
   ]
  },
  {
   "cell_type": "markdown",
   "metadata": {},
   "source": [
    ":::{only} latex\n",
    "latexcommand \\end{samepage}\n",
    ":::"
   ]
  },
  {
   "cell_type": "markdown",
   "metadata": {},
   "source": [
    "\n",
    "The impact of the imposition of the carbon tax in the model is relatively quick, resulting in an overall decline in emissions of 22.2% in the first year, with coal emissions (coal is a relatively carbon intensive source of energy so harder hit by the carbon tax) recording the biggest hit at -41.2 percent.\n"
   ]
  },
  {
   "cell_type": "code",
   "execution_count": null,
   "metadata": {},
   "outputs": [],
   "source": [
    "mpak['PAKCCEMISCO2?KN'].difpctlevel.rename().plot(title=\"Emissions impact of a $30 USD Carbon tax\");\n"
   ]
  },
  {
   "cell_type": "markdown",
   "metadata": {},
   "source": [
    "Abstracting from the fact that the impact is occurring too quickly (it would take time for the substitution towards alternative sources of power to occur), the fact that impacts are fading with time suggests an error in the specification of the shock. \n",
    "\n",
    "Indeed, high domestic inflation means that the real price change of the $30 nominal increase in the Carbon price is declining over time -- suggesting that the scenario needs tweaking.\n",
    "\n",
    "## Re-thinking the shock as an ex-ante real shock\n",
    "\n",
    "Inflation in Pakistan is relatively high so a $30 shock quickly loses its relative price effect. Increasing the nominal value of the Carbon Tax by the amount of domestic inflation (converted into USD each year) would resolve the problem. \n",
    "\n",
    "Below a new `DataFrame` is created as a copy of the baseline and the three Carbon taxes are first set to $30 in 2025 and then grown at the rate of domestic inflation to keep the **ex ante** relative price of the Carbon Tax constant.\n",
    "\n",
    "Finally the model is re-solved."
   ]
  },
  {
   "cell_type": "markdown",
   "metadata": {
    "tags": [
     "hide-cell"
    ]
   },
   "source": [
    ":::{index} single: Scenarios;  use .mfcalc() to initialize shocked dataframe\n",
    ":::\n",
    ":::{index} single: Simulations;  use .mfcalc() to initialize shocked dataframe\n",
    ":::\n",
    ":::{index} mfcalc(); to initialize shocked dataframe\n",
    ":::"
   ]
  },
  {
   "cell_type": "code",
   "execution_count": null,
   "metadata": {},
   "outputs": [],
   "source": [
    "\n",
    "CT30realdf  =  bline.copy()\n",
    "CT30realdf=CT30realdf.upd(\"<2025 2025> PAKGGREVCO2CER PAKGGREVCO2OER PAKGGREVCO2GER = 30\")\n",
    "\n",
    "#NB: Variables used \n",
    "#   PAKNECONPRVTXN is the consumer price deflator\n",
    "#   PAKPANUSATLS id the USD exchange rate\n",
    "CT30realdf=CT30realdf.mfcalc('''\n",
    "                              <2026 2100> PAKGGREVCO2CER = PAKGGREVCO2CER(-1)*(PAKNECONPRVTXN*PAKPANUSATLS)/(PAKNECONPRVTXN(-1)*PAKPANUSATLS(-1))\n",
    "                                      PAKGGREVCO2OER = PAKGGREVCO2OER(-1)*(PAKNECONPRVTXN*PAKPANUSATLS)/(PAKNECONPRVTXN(-1)*PAKPANUSATLS(-1))\n",
    "                                      PAKGGREVCO2GER = PAKGGREVCO2CER(-1)*(PAKNECONPRVTXN*PAKPANUSATLS)/(PAKNECONPRVTXN(-1)*PAKPANUSATLS(-1))\n",
    "                          ''')                         \n",
    "\n",
    "CT30realdf.loc[2023:2030,'PAKGGREVCO2CER']\n",
    "\n",
    "\n",
    "resultsdf = mpak(CT30realdf,2020,2100,keep=\"Ex ante Real $30USD Carbon tax\") # simulates the model \n"
   ]
  },
  {
   "cell_type": "markdown",
   "metadata": {},
   "source": [
    "The above code first sets the Carbon prices to 30USD and then  grows them at the same rate as inflation.  Below we see that with inflation of 30% per annum the domestic carbon price is rising rapidly."
   ]
  },
  {
   "cell_type": "code",
   "execution_count": null,
   "metadata": {},
   "outputs": [],
   "source": [
    "with mpak.set_smpl(2023,2030):\n",
    "    print(mpak['PAKGG*ER'].rename().df)"
   ]
  },
  {
   "cell_type": "code",
   "execution_count": null,
   "metadata": {},
   "outputs": [],
   "source": [
    "\n",
    "mpak['PAKCCEMISCO2?KN'].difpctlevel.rename().plot(title=\"Emissions impact of a $30 USD Carbon tax\");\n"
   ]
  },
  {
   "cell_type": "markdown",
   "metadata": {},
   "source": [
    "These results are better, but still there is an erosion of the effect of the tax.\n",
    "\n",
    "\n",
    "On introspection, this is likely due to the fact that the carbon tax itself is inflationary.  As a result, prices probably rose to a higher level than supposed by the ex ante calculation.\n",
    "\n",
    "To deal with this, a different approach is needed.  Rather than maintaining the carbon price as an exogenous variable, instead it should be made an endogenous variable by changing the model and adding equations for all of the carbon tax variables.\n",
    "\n",
    "Before doing so lets save the current version of the model for further work later."
   ]
  },
  {
   "cell_type": "code",
   "execution_count": null,
   "metadata": {},
   "outputs": [],
   "source": [
    "mpak.modeldump('../models/pakCarbonTaxScenarios.pcim')"
   ]
  },
  {
   "cell_type": "markdown",
   "metadata": {},
   "source": [
    ":::{index} single: Carbon tax example(s); Complex simulations\n",
    ":::\n",
    ":::{index} single: Simulations; Changing equations\n",
    ":::\n",
    ":::{index} single: Scenarios; Changing equations\n",
    ":::\n",
    ":::{index} single: Revising model equations\n",
    ":::\n",
    ":::{index} single: Equations; .equpdate() Revising model equations\n",
    ":::"
   ]
  },
  {
   "cell_type": "markdown",
   "metadata": {},
   "source": [
    "## Changing the model -- modifying and or adding equations\n",
    "\n",
    "To endogenize the carbon price, an equation for each carbon price has to be added to the model.   This can be done with the `.equpdate()` method.  "
   ]
  },
  {
   "cell_type": "code",
   "execution_count": null,
   "metadata": {},
   "outputs": [],
   "source": [
    "#Reload original model and data\n",
    "mpak1,bline = model.modelload('../models/pak.pcim',alfa=0.7,run=1,keep=\"Baseline\")\n",
    "\n",
    "\n",
    "#Create a new model object mpakreal and new baseline dataframe-- baselinereal \n",
    "#The nominal carbon taxes (expressed in USD) are now endogenous \n",
    "#and increase with domestic inflation and the exchange rate\n",
    "\n",
    "mpakreal,blinereal = mpak1.equpdate('''\n",
    "<fixable> PAKGGREVCO2CER = PAKGGREVCO2CER(-1) * (PAKNYGDPMKTPXN*PAKPANUSATLS) / (PAKNYGDPMKTPXN(-1)*PAKPANUSATLS(-1))\n",
    "<fixable> PAKGGREVCO2OER = PAKGGREVCO2OER(-1) * (PAKNYGDPMKTPXN*PAKPANUSATLS) / (PAKNYGDPMKTPXN(-1)*PAKPANUSATLS(-1))\n",
    "<fixable> PAKGGREVCO2GER = PAKGGREVCO2GER(-1) * (PAKNYGDPMKTPXN*PAKPANUSATLS) / (PAKNYGDPMKTPXN(-1)*PAKPANUSATLS(-1))\n",
    "''',add_add_factor=False, calc_add=False,newname='Pak model, with real Carbon price equations')\n"
   ]
  },
  {
   "cell_type": "markdown",
   "metadata": {},
   "source": [
    "As written, the `.equpdate()` command creates a new model, which is a copy of the existing model with three new equations.\n",
    "\n",
    "Each equation grows the nominal rate of the carbon tax at the same rate as *ex post* inflation (`PAKNECONPRVTXN`) converted into USD via the exchange rate `PAKPANUSATLS`. The equations are introduced as exogenizable equations (as distinct from an identity which must always hold) by adding the \\<fixable\\> prefix to each equation. The equations are not estimated, so no add-factors are included in the equations.\n",
    "\n",
    "The output for the `.equpdate()` reports the actual formulae included in the model. \n",
    "```\n",
    "New equation for For PAKGGREVCO2CER\n",
    "Old frml   :new endogeneous variable \n",
    "New frml   :FRML <fixable> PAKGGREVCO2CER = (PAKGGREVCO2CER(-1)*(PAKNECONPRVTXN*PAKPANUSATLS)/(PAKNECONPRVTXN(-1)*PAKPANUSATLS(-1)))* (1-PAKGGREVCO2CER_D)+ PAKGGREVCO2CER_X*PAKGGREVCO2CER_D$\n",
    "Adjust calc:No frml for adjustment calc \n",
    "```\n",
    "Note that because the equations are to be fixable, an \\_X and \\_D variable are added to the specified equations. Combined they effectively split each equation into  two:\n",
    "1. the specified equations when \\_D equals zero\n",
    "2. equal to \\_X when the \\_D equals one.\n",
    "\n",
    "The newly created model is given the name mpakreal and is given a text description.\n",
    "\n",
    "Following the addition of the equations, the new variables (\\_D and \\_X) must be initialized. The \\_X variables are made equal to the current values of the various tax rates, while the \\_D is set to 1 everywhere -- effectively turning the equation off and re-creating the same situation as the initial model where the tax rates are fully exogenous."
   ]
  },
  {
   "cell_type": "markdown",
   "metadata": {},
   "source": [
    "As with the `mpak` model the variable descriptions need to be updated. "
   ]
  },
  {
   "cell_type": "code",
   "execution_count": null,
   "metadata": {},
   "outputs": [],
   "source": [
    "mpakreal.var_description = mpakreal.var_description | extra_description"
   ]
  },
  {
   "cell_type": "markdown",
   "metadata": {
    "tags": [
     "hide-cell"
    ]
   },
   "source": [
    ":::{index} single: ModelFlow; .equpdate() - revising model equations \n",
    ":::\n",
    ":::{index} single: Revising model equations; .equpdate() \n",
    ":::\n",
    ":::{index} single: Model equations; Revise equations with .equpdate() \n",
    ":::\n"
   ]
  },
  {
   "cell_type": "code",
   "execution_count": null,
   "metadata": {},
   "outputs": [],
   "source": [
    "#Exogenizes the newly added equations and sets the dummy =1 amd the _x to the current value of the dependent variable  \n",
    "bline_real=mpakreal.fix(blinereal,'PAKGGREVCO2CER PAKGGREVCO2GER PAKGGREVCO2OER')\n"
   ]
  },
  {
   "cell_type": "markdown",
   "metadata": {},
   "source": [
    "Finally the new model is solved, the result is kept in a new baseline and a quick check ensures that the model did indeed reproduce the data that it was originally fed, including the initial Carbon Tax levels."
   ]
  },
  {
   "cell_type": "code",
   "execution_count": null,
   "metadata": {},
   "outputs": [],
   "source": [
    "\n",
    "#Solve the model for the new baseline\n",
    "res = mpakreal(bline_real,2021,2100,alfa=0.5,keep='Baseline - adjusted model') \n",
    "\n",
    "mpakreal['PAKNYGDPMKTPKN PAKNECONPRVTXN PAKGGBALOVRL PAKGGREVCO2CER PAKCCEMISCO2TKN'].difpctlevel.rename().df"
   ]
  },
  {
   "cell_type": "markdown",
   "metadata": {},
   "source": [
    "### Solving the revised model\n",
    "\n",
    "With the new model generated, it can now be solved with the real tax rate endogenized in the forecast period.  This involves three steps.\n",
    "\n",
    "1. Set the nominal tax rate to 30 in 2025\n",
    "2. Now Endogenize the equation for the rest of the period\n",
    "3. Solve the model.\n"
   ]
  },
  {
   "cell_type": "code",
   "execution_count": null,
   "metadata": {},
   "outputs": [],
   "source": [
    "scenario_real_CTax = bline_real.upd('''\n",
    "<2025 2025> \n",
    "PAKGGREVCO2CER_X PAKGGREVCO2GER_X PAKGGREVCO2OER_X = 30 # Sets the exogenous value to 30 in 2025\n",
    "<2026 2100 > \n",
    "PAKGGREVCO2CER_D PAKGGREVCO2GER_D PAKGGREVCO2OER_D = 0   # Endogenizes the new equations for the rest of time so that the real-rate stays at 30USD\n",
    "''')\n",
    "\n",
    "\n",
    "_ = mpakreal(scenario_real_CTax,2021,2100,alfa=0.5,keep='Real model real tax = 30 at 2025 prices and exchange  rates')\n",
    "\n",
    "\n",
    "\n"
   ]
  },
  {
   "cell_type": "markdown",
   "metadata": {},
   "source": [
    "Initially the Carbon tax comes in at 30 but gradually its rate in USD rises in line with inflation such that it reaches $1358 by 2100.  "
   ]
  },
  {
   "cell_type": "code",
   "execution_count": null,
   "metadata": {},
   "outputs": [],
   "source": [
    "\n",
    "mpakreal['PAKGGREVCO2?ER PAKNECONPRVTXN PAKNYGDPMKTPXN '].rename().df"
   ]
  },
  {
   "cell_type": "markdown",
   "metadata": {},
   "source": [
    "This seemingly very high level is just a reflection of the 75 years of inflation that compounded require a much higher nominal Carbon tax rate to have the same relative price effect. The cumulative effect of inflation in the range of 5.5 real  per annum causes the price level to increase 74 times (7400 percent increase  133/1.8 from fourth data column in the above table).  \n",
    "\n",
    "The table below shows the same data but in growth rate terms -- indicating that the nominal Carbon tax rate is gradually rising each year in line domestic inflation adjusted for the exchange rate -- i.e. it is constant in real terms."
   ]
  },
  {
   "cell_type": "code",
   "execution_count": null,
   "metadata": {},
   "outputs": [],
   "source": [
    "mpakreal['PAKGGREVCO2?ER PAKPANUSATLS PAKNYGDPMKTPXN'].pct.rename().df"
   ]
  },
  {
   "cell_type": "markdown",
   "metadata": {},
   "source": [
    "### Results\n",
    "\n",
    "The results from the simulation with the Carbon Tax rate endogenized so as to maintain its real value over time, are broadly consistent with the results from the ex ante real scenario performed above.\n",
    "\n"
   ]
  },
  {
   "cell_type": "code",
   "execution_count": null,
   "metadata": {},
   "outputs": [],
   "source": [
    "\n",
    "mpakreal['PAKCCEMISCO2?KN'].difpctlevel.rename().df"
   ]
  },
  {
   "cell_type": "code",
   "execution_count": null,
   "metadata": {},
   "outputs": [],
   "source": [
    "(mpakreal['PAKCCEMISCO2?KN PAKNYGDPMKTPKN'].difpctlevel.\n",
    " rename().plot(title=\"Emissions impact of a constant real $30 USD Carbon tax\"));"
   ]
  },
  {
   "cell_type": "markdown",
   "metadata": {
    "slideshow": {
     "slide_type": "slide"
    }
   },
   "source": [
    "The modified model, which preserves the real value of the carbon tax has a permanent and substantial negative effect on emissions. The impact is not at an unchanging level, reflecting in part adaptation within the economy. Of particular import is what is being done with the revenues from the Carbon tax. As the structure of GDP (shifts to less carbon intensive activities) carbon tax revenues fall even as the Carbon Tax rate rises. \n",
    "\n",
    "Note, the percent deviation of emissions tends to decrease over time in this scenario principally because the level of activity (GDP) is higher with the Carbon Tax than without it. As a result,  emissions are higher than they would have been had GDP remained unchanged. For the Pakistan model, the positive impact of the Carbon tax is mainly explained by co-benefits, notably reduced reliance on more distortionary taxes such as payroll taxes and because of reductions in informality and due to health and productivity benefits from lower pollution levels (see {cite:author}`burns_climate_2021`(2021) for more details how these effects operate in the Pakistan model).\n"
   ]
  }
 ],
 "metadata": {
  "celltoolbar": "Tags",
  "hide_input": false,
  "kernelspec": {
   "display_name": "Python 3 (ipykernel)",
   "language": "python",
   "name": "python3"
  },
  "language_info": {
   "codemirror_mode": {
    "name": "ipython",
    "version": 3
   },
   "file_extension": ".py",
   "mimetype": "text/x-python",
   "name": "python",
   "nbconvert_exporter": "python",
   "pygments_lexer": "ipython3",
   "version": "3.12.6"
  },
  "nbTranslate": {
   "displayLangs": [
    "*"
   ],
   "hotkey": "alt-t",
   "langInMainMenu": true,
   "sourceLang": "en",
   "targetLang": "fr",
   "useGoogleTranslate": true
  },
  "toc": {
   "base_numbering": 1,
   "nav_menu": {},
   "number_sections": true,
   "sideBar": true,
   "skip_h1_title": false,
   "title_cell": "Table of Contents",
   "title_sidebar": "Contents",
   "toc_cell": false,
   "toc_position": {
    "height": "calc(100% - 180px)",
    "left": "10px",
    "top": "150px",
    "width": "168px"
   },
   "toc_section_display": true,
   "toc_window_display": true
  },
  "varInspector": {
   "cols": {
    "lenName": 16,
    "lenType": 16,
    "lenVar": 40
   },
   "kernels_config": {
    "python": {
     "delete_cmd_postfix": "",
     "delete_cmd_prefix": "del ",
     "library": "var_list.py",
     "varRefreshCmd": "print(var_dic_list())"
    },
    "r": {
     "delete_cmd_postfix": ") ",
     "delete_cmd_prefix": "rm(",
     "library": "var_list.r",
     "varRefreshCmd": "cat(var_dic_list()) "
    }
   },
   "oldHeight": 122.85,
   "position": {
    "height": "145.332px",
    "left": "890.792px",
    "right": "20px",
    "top": "108px",
    "width": "350px"
   },
   "types_to_exclude": [
    "module",
    "function",
    "builtin_function_or_method",
    "instance",
    "_Feature"
   ],
   "varInspector_section_display": "block",
   "window_display": false
  }
 },
 "nbformat": 4,
 "nbformat_minor": 4
}
