{
 "cells": [
  {
   "cell_type": "markdown",
   "metadata": {},
   "source": [
    "# Using ```ModelFlow``` with World Bank models\n",
    "\n",
    "The ```ModelFlow``` python package has been developed to solve a wide range of models, see the ModelFlow github [https://github.com/IbHansen/ModelFlow](https://github.com/IbHansen/ModelFlow) web site for working examples of the Solow Model, the United States' Federal REserve FRB/US model and others.\n",
    "\n",
    "The package has been substantially expanded to include special features that enable it to work with World Bank models originally developed in EViews using the EViews Model Object for simulation. Although derived from these EViews models, the models available on the World Bank web site and through the mechanisms outlined below are **pure python** models and use `ModelFlow` and various python libraries for solution visualization and data management.\n",
    "\n",
    "This section illustrates how to access these models (this Chapter). Subsequebnt chapters explain how: to load these ```ModelFlow``` models into the Anaconda environment on your computer andhow to explore various features of these models (Chapter 9); WB behavioural equations are designed and manipulated in `ModelFlow` (Chapter 10); how to perform a variety of simulations (Chapters 10,11 and 12) and how to extract results and compare results from your simulations (Chapter 13).\n",
    "\n",
    ":::{warning} To be updated when final storage for models is sorted.\n",
    ":::"
   ]
  },
  {
   "cell_type": "markdown",
   "metadata": {},
   "source": [
    ":::{admonition} In this chapter - Using ModelFlow with World Bank Models\n",
    ":class: tip\n",
    "\n",
    "This chapter demonstrates how to access World Bank models that have been made publicly available using the `ModelFlow` python system.\n",
    "\n",
    "- **Available Models**:\n",
    "  - Access a range of pre-built World Bank models tailored for macroeconomic analysis.\n",
    "  - Publicly available models can be loaded and customized in ModelFlow.\n",
    "\n",
    "\n",
    ":::\n"
   ]
  },
  {
   "cell_type": "code",
   "execution_count": null,
   "metadata": {
    "tags": [
     "remove_cell"
    ]
   },
   "outputs": [],
   "source": [
    "#This is code to manage dependencies if the notebook is executed in the Google Colab cloud service\n",
    "if 'google.colab' in str(get_ipython()):\n",
    "  import os\n",
    "  os.system('apt -qqq install graphviz')\n",
    "  os.system('pip -qqq install ModelFlowIb   ')"
   ]
  },
  {
   "cell_type": "code",
   "execution_count": null,
   "metadata": {
    "tags": [
     "remove_cell"
    ]
   },
   "outputs": [],
   "source": [
    "# Prepare the notebook for use of ModelFlow \n",
    "\n",
    "# Jupyter magic command to improve the display of charts in the Notebook\n",
    "%matplotlib inline\n",
    "\n",
    "# Import Pandas \n",
    "import pandas as pd\n",
    "\n",
    "# Import the model class from the modelclass module \n",
    "from modelclass import model \n",
    "\n",
    "# functions that improve rendering of ModelFlow outputs\n",
    "model.widescreen()\n",
    "model.scroll_off();"
   ]
  },
  {
   "cell_type": "markdown",
   "metadata": {
    "tags": [
     "hide-cell"
    ]
   },
   "source": [
    ":::{index} Accessing WB models\n",
    ":::\n",
    ":::{index} Downloading WB models from github \n",
    ":::"
   ]
  },
  {
   "cell_type": "markdown",
   "metadata": {
    "cell_style": "center"
   },
   "source": [
    "## Publicly available World Bank models for use with ModelFlow\n",
    "\n",
    "Several World Bank macrostructural models are currently available for download and use with ModelFlow (more will be added over time). The available models include:\n",
    "\n",
    "- Bolivia (Annual model)\n",
    "- Croatia (Quarterly model)\n",
    "- Iraq (Annual model)\n",
    "- Nepal (Annual model with Climate features)\n",
    "- Pakistan (Annual model with climate features)\n",
    "- Turkiye (Annual model with climate features)\n",
    "\n",
    "Each of these models has been developed as part of the outreach work of the World Bank.  The basic modeling framework of each of these models is outlined in {cite:t}`burns_world_2019` with  individual models having specific extensions reflecting features of the individual country and the questions for which the model was designed to respond.  The approach for the  models with climate features is laid out in {cite:t}`burns_climate_2021`, although several additional features are included in some of these models that have not yet been documented.\n",
    "\n",
    "As additional models are released they will be made available using the mechanism described below."
   ]
  },
  {
   "cell_type": "markdown",
   "metadata": {
    "cell_style": "center",
    "slideshow": {
     "slide_type": "subslide"
    }
   },
   "source": [
    "## How to access the models the `.Worldbank_Models()` method\n",
    "\n",
    "The World Bank models can be downloaded on to a user's computer using the `model.Worldbank_Models()` method, which downloads the models from the World Bank's GitHub repository at [https://github.com/worldbank/MFMod-ModelFlow](https://github.com/worldbank/MFMod-ModelFlow).\n",
    "\n",
    "By default, the models are downloaded to a directory on the user's computer entitled `WorldbankModels` that is located just below the directory from which it is executed. The content of the downloaded folders will be displayed in a table of content, and the user can access the notebooks by clicking on them. "
   ]
  },
  {
   "cell_type": "code",
   "execution_count": null,
   "metadata": {
    "tags": [
     "remove-output"
    ]
   },
   "outputs": [],
   "source": [
    "model.Worldbank_Models() "
   ]
  },
  {
   "cell_type": "markdown",
   "metadata": {
    "tags": [
     "latex-picture"
    ]
   },
   "source": [
    ":::{image} UsingWBModel_select_NB.png\n",
    "    :alt: Menu to start notebooks in subfolders\n",
    "    :class: bg-primary mb-1\n",
    "    :width: 70%\n",
    "    :align: center\n",
    "\n",
    ":::    "
   ]
  },
  {
   "cell_type": "markdown",
   "metadata": {
    "cell_style": "center",
    "slideshow": {
     "slide_type": "subslide"
    }
   },
   "source": [
    "### WorldbankModels() Options\n",
    "\n",
    "The `model.Worldbank_Models()` method includes several options, which affect the way the download of the models is executed.\n",
    "\n",
    "\n",
    "#### The `destination`option\n",
    "\n",
    "To change the directory to which the files are downloaded the `destination` parameter can be set (by default it points to `./WorldBankModels`).\n",
    "\n",
    "`model.Worldbank_Models('./mydirectory')` (or equivalently `model.Worldbank_Models(destination='./mydirectory')`) would instead download the GitHub repository to a directory called mydirectory below the location from which the command was executed.  Note: For security reasons, the `destination` option will not accept a location that is above the directory from which it is executed.\n",
    "\n",
    "#### The `silent` option\n",
    "\n",
    "By default the `silent` option is set to True.  Setting it to False generates a more verbose indication of the directories and files downloaded and erased (of any).\n",
    "\n",
    "#### Options controlling the treatment of existing files in the download directory\n",
    "\n",
    "|option|default|Level of aggression|Action|\n",
    "|:--|:--|:--|:--|\n",
    "|replace|False|$\\color{orange}{Medium}$| replace=True will replace any file in the local store that also exists on the World Bank github site with the version on the World Bank site. |\n",
    "|replace|False|$\\color{green}{Lowest}$| replace=False will not change or delete any files on the user's store.  Only files that exist on the World Bank web site (and not on the local copy) will be downloaded. |\n",
    "\n",
    "To replace the all of the content first delete the destination directory (by default `./WorldBankModels`). <to do this use the operation system. \n",
    "\n",
    "\n",
    "#### Options to change the repository that is downloaded\n",
    "\n",
    "It is possible to choose a repository other than the World Bank site to be downloaded, although the use case for this option is limited. A user that wishes to do this can specify the repository to be downloaded by setting the following options\n",
    "|option|Default value|Explanation|\n",
    "|:--|:--|:--|\n",
    "|owner|WorldBank|Name of the owner of the github repository to be downloaded|\n",
    "|repo_name|MFMod-ModelFlow| The name of the repository|\n",
    "|branch|main| The branch to downloaded.|\n"
   ]
  },
  {
   "cell_type": "markdown",
   "metadata": {},
   "source": [
    "## `.display_toc()` method\n",
    "\n",
    "The `.display_toc()` method can be used to displays a list of the directories and files included in the subfolder to which the World Bank models were previously downloaded.\n",
    "\n",
    "\n"
   ]
  },
  {
   "cell_type": "code",
   "execution_count": null,
   "metadata": {
    "tags": [
     "remove-output"
    ]
   },
   "outputs": [],
   "source": [
    "model.display_toc(folder='WorldbankModels');"
   ]
  },
  {
   "cell_type": "markdown",
   "metadata": {
    "tags": [
     "latex-picture"
    ]
   },
   "source": [
    ":::{image} UsingWBModel_select_NB.png\n",
    "    :alt: Menu to start notebooks in subfolders\n",
    "    :class: bg-primary mb-1\n",
    "    :width: 70%\n",
    "    :align: center\n",
    "\n",
    ":::    "
   ]
  },
  {
   "cell_type": "markdown",
   "metadata": {},
   "source": [
    "Help on the accessing World Bank models can be generated by using the `help()` function."
   ]
  },
  {
   "cell_type": "code",
   "execution_count": null,
   "metadata": {},
   "outputs": [],
   "source": [
    "\n",
    "help(model.Worldbank_Models)"
   ]
  }
 ],
 "metadata": {
  "celltoolbar": "Tags",
  "hide_input": false,
  "kernelspec": {
   "display_name": "Python 3 (ipykernel)",
   "language": "python",
   "name": "python3"
  },
  "language_info": {
   "codemirror_mode": {
    "name": "ipython",
    "version": 3
   },
   "file_extension": ".py",
   "mimetype": "text/x-python",
   "name": "python",
   "nbconvert_exporter": "python",
   "pygments_lexer": "ipython3",
   "version": "3.12.8"
  },
  "nbTranslate": {
   "displayLangs": [
    "*"
   ],
   "hotkey": "alt-t",
   "langInMainMenu": true,
   "sourceLang": "en",
   "targetLang": "fr",
   "useGoogleTranslate": true
  },
  "toc": {
   "base_numbering": 1,
   "nav_menu": {},
   "number_sections": true,
   "sideBar": true,
   "skip_h1_title": false,
   "title_cell": "Table of Contents",
   "title_sidebar": "Contents",
   "toc_cell": false,
   "toc_position": {
    "height": "calc(100% - 180px)",
    "left": "10px",
    "top": "150px",
    "width": "186.333px"
   },
   "toc_section_display": true,
   "toc_window_display": true
  },
  "varInspector": {
   "cols": {
    "lenName": 16,
    "lenType": 16,
    "lenVar": 40
   },
   "kernels_config": {
    "python": {
     "delete_cmd_postfix": "",
     "delete_cmd_prefix": "del ",
     "library": "var_list.py",
     "varRefreshCmd": "print(var_dic_list())"
    },
    "r": {
     "delete_cmd_postfix": ") ",
     "delete_cmd_prefix": "rm(",
     "library": "var_list.r",
     "varRefreshCmd": "cat(var_dic_list()) "
    }
   },
   "oldHeight": 332.844,
   "position": {
    "height": "40px",
    "left": "1425.78px",
    "right": "20px",
    "top": "127px",
    "width": "800px"
   },
   "types_to_exclude": [
    "module",
    "function",
    "builtin_function_or_method",
    "instance",
    "_Feature"
   ],
   "varInspector_section_display": "none",
   "window_display": true
  }
 },
 "nbformat": 4,
 "nbformat_minor": 4
}
