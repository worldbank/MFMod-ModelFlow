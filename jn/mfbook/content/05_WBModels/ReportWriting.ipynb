{
 "cells": [
  {
   "cell_type": "markdown",
   "metadata": {
    "tags": [
     "hide-cell"
    ]
   },
   "source": [
    ":::{index} single: Report writing\n",
    ":::\n",
    ":::{index} single: Simulations; Report writing\n",
    ":::\n",
    ":::{index} single: Scenarios; Report writing\n",
    ":::\n",
    ":::{index} single: Simulations; the keep option\n",
    ":::\n",
    "\n",
    ":::{index} single: Scenarios; the Keep option\n",
    ":::\n",
    "\n",
    ":::{index} single: Keep; The Keep option to retain scenario results\n",
    ":::\n",
    "\n"
   ]
  },
  {
   "cell_type": "code",
   "execution_count": null,
   "metadata": {
    "tags": [
     "remove-cell"
    ]
   },
   "outputs": [],
   "source": [
    "%load_ext autoreload\n",
    "%autoreload 2"
   ]
  },
  {
   "cell_type": "code",
   "execution_count": null,
   "metadata": {
    "tags": [
     "remove_cell"
    ]
   },
   "outputs": [],
   "source": [
    "#This is code to manage dependencies if the notebook is executed in the google colab cloud service\n",
    "if 'google.colab' in str(get_ipython()):\n",
    "  import os\n",
    "  os.system('apt -qqq install graphviz')\n",
    "  os.system('pip -qqq install ModelFlowIb   ')\n"
   ]
  },
  {
   "cell_type": "code",
   "execution_count": null,
   "metadata": {
    "tags": [
     "remove_cell"
    ]
   },
   "outputs": [],
   "source": [
    "# Prepare the notebook for use of ModelFlow   \n",
    "\n",
    "# Jupyter magic command to improve the display of charts in the Notebook\n",
    "%matplotlib inline\n",
    "\n",
    "# Import pandas \n",
    "import pandas as pd\n",
    "\n",
    "# Import the model class from the modelclass module \n",
    "from modelclass import model \n",
    "\n",
    "# functions that improve rendering of ModelFlow outputs\n",
    "model.widescreen()\n",
    "#model.scroll_off();"
   ]
  },
  {
   "cell_type": "markdown",
   "metadata": {},
   "source": [
    "# Report writing and scenario results\n",
    "\n",
    "`ModelFlow`, is built on the back of  and inherits the functionalities of standard pandas routines and other python libraries like [matplotlib](https://matplotlib.org/), [seaborn](https://seaborn.pydata.org/), [plotly](https://plotly.com/), and  [bokeh](https://bokeh.org/). These libraries are well-integrated with `DataFrames`, and offer a wide-range of visualization capabilities. As has been done throughout this manual, they can be used to look at data, and compare simulation results among other things. "
   ]
  },
  {
   "cell_type": "markdown",
   "metadata": {},
   "source": [
    ":::{admonition} In this chapter - Report Writing\n",
    ":class: tip\n",
    "\n",
    "This chapter focuses on tools and techniques for examining the data in a model and the results of simulations. Many of these techniques have been illustrated elsewhere, but are brought together in one place in this chapter to facilitate retrieval later. The chapter includes a discussion of techniques for creating comprehensive reports based on simulations and analyzes performed in `ModelFlow`. \n",
    "\n",
    "Examples in the chapter:\n",
    "\n",
    "- Demonstrate how to generate structured tables, charts, and text outputs directly from simulation results.\n",
    "- Introduces ModelFlow's reporting classes (`.table()`, `.plot()`, `.text()`) and how they can be used to produce reports that combine both tabular, graphical and textual results. \n",
    "- Issues dealt with include how to generate tables that display only selected time periods\n",
    "- How to present data in landscape and portrait form\n",
    "- Presenting graphs either on their own or in groups\n",
    "- using the `.reports` method to store a set of tables and or graphs as a template that then can be applied to different scenario results yielding standardized reports\n",
    "\n",
    "Outputs from all of these methods can be rendered as interactive widgets, html, pdf or various bitmap forms.\n",
    "\n",
    "\n",
    ":::\n"
   ]
  },
  {
   "cell_type": "markdown",
   "metadata": {},
   "source": [
    "`ModelFlow` users are free to employ any Python-based library for visualization purposes. For specific tasks, `ModelFlow` also includes some specialized procedures derived from the above packages that may be of interest. These routines are tailored to utilize `ModelFlow` internal data structures, like the `.lastdf`, `.basedf` and `keep` `DataFrames` as well as metadata in the model object such as variable descriptions. Moreover, `ModelFlow` reporting routines include specific transformations (like growth rates) and scenario comparison routines that are useful in the analysis of macroeconomic model results.\n",
    "\n",
    "The following box summarizes the four different kinds of report-writing objects incorporated into the `ModelFlow` package. "
   ]
  },
  {
   "cell_type": "markdown",
   "metadata": {},
   "source": [
    ":::{index} single: Boxes; Box   8. `ModelFlow` report writing routines\n",
    ":::\n",
    "\n",
    ":::{admonition} Box 8. `ModelFlow` report writing routines\n",
    "\n",
    "`ModelFlow` augments standard Python routines with four report-writing classes: \n",
    "\n",
    "1. **table**: a class that represents data from the `.lastdf` and `.basedf`  in tabular form.\n",
    "2. **plot**: a class that represents data from the `.lastdf` and `.basedf` and kept dataframes in graphical form.\n",
    "3. **text**: a class for text-based tables, which can be specified using plain text, LaTeX, or HTML, or any combination of the three.\n",
    "4. **report**: a container class that can be comprised of an arbitrary number of tables and plots in any order.\n",
    "\n",
    ":::\n"
   ]
  },
  {
   "cell_type": "markdown",
   "metadata": {
    "tags": [
     "hide-cell"
    ]
   },
   "source": [
    ":::{index} double: Storage system; basedf/lastdf\n",
    ":::\n",
    "\n",
    ":::{index} double: Storage system; keep_solutions\n",
    ":::\n",
    "\n",
    ":::{index} double: keep_solutions; keep_variables\n",
    ":::\n",
    "\n"
   ]
  },
  {
   "cell_type": "markdown",
   "metadata": {},
   "source": [
    "## Preparing a `ModelFlow` `Python` environment\n",
    "To begin, a solution file that was saved at the end of the previous chapter is loaded, using the by now familiar `modelload` method.  Because the simulations performed in the previous chapter used the keep option, and, because the `mpakwScenarios.pcim` file was saved with the keep option set to true, the `modelload` method gives the current session access to all the results generated in the previous chapter."
   ]
  },
  {
   "cell_type": "code",
   "execution_count": null,
   "metadata": {},
   "outputs": [],
   "source": [
    "mpak,_ = model.modelload(r'../models/mpakw.pcim',run=1)\n",
    "_ = mpak.smpl(2025,2029)"
   ]
  },
  {
   "cell_type": "markdown",
   "metadata": {},
   "source": [
    ":::{index} single: Boxes; Box   9. Where ModelFlow Stores Results\n",
    ":::\n",
    "\n",
    ":::{admonition} Box 9. Where ModelFlow Stores Results\n",
    "When a model is solved (simulated), the result is returned as a `DataFrame`.\n",
    "\n",
    "To facilitate reporting, the resulting `DataFrame` is also stored as the `.lastdf` property of the model object. The `.lastdf` property is overwritten every time the model is solved.  To preserve the results for future reference, the `keep='Some Solution Name'` option can be used.  This will store a copy of the `DataFrame` in a dictionary called `keep_solutions` where the  key will be the text descriptor given in the `keep` option -- in this case 'Some Solution Name'.\n",
    "\n",
    "> result = mpak(dataframe_with_experiment,keep='Some Solution Name')\n",
    "\n",
    "The  `.basedf` `DataFrame` contains the baseline values. It is set during the first simulation in a session, either when a model is loaded with `run=True` or when the model is simulated for the first time. But it can also be reset manually if desired `mapk.basedf=mydataframe`.\n",
    "  \n",
    "If a model has a lot of variables and there are a lot of scenarios it can be useful to limit the number of variables in the stored `DataFrame`. This is done by specifying: `keep_variables=<a string with list of variables including wildcards>`   \n",
    "\n",
    "> result = mpak(dataframe_with_experiment,keep='some text',keep_variables = '*NYGDPMKTPKN *NECONPRVTKN')\n",
    "\n",
    "Will only keep variables matching the wildcard expressions: '*NYGDPMKTPKN *NECONPRVTKN'\n",
    "\n",
    "To reset `.keep_solutions` to an empty dictionary type: `{modelobject}.keep_solutions = {}`\n",
    "\n",
    ":::\n"
   ]
  },
  {
   "cell_type": "markdown",
   "metadata": {},
   "source": [
    "Below, in order to have meaningful data for the following report-writing examples, the `.basedf` and `.lastdf` `DataFrames` of `mpak` are pre-populated with the \"Baseline\" and \"1% of GDP increase in FDI and private investment (AF shock)\" results from the kept scenarios of the previous chapter."
   ]
  },
  {
   "cell_type": "code",
   "execution_count": null,
   "metadata": {},
   "outputs": [],
   "source": [
    "mpak.basedf = mpak.keep_solutions['Baseline']\n",
    "mpak.lastdf = mpak.keep_solutions['1% of GDP increase in FDI and private investment (AF shock)']\n",
    "mpak.smpl(2025,2029);"
   ]
  },
  {
   "cell_type": "markdown",
   "metadata": {},
   "source": [
    ":::{admonition}  Recall\n",
    "The `.keep_solutions` dictionary can be interrogated to list all of the solutions (the keys) that were performed and stored in the previous chapter and the dataframes that were generated when the simulations were performed (the keys) in the dictionary.\n",
    ":::"
   ]
  },
  {
   "cell_type": "code",
   "execution_count": null,
   "metadata": {
    "tags": [
     "remove-cell"
    ]
   },
   "outputs": [],
   "source": [
    "for key,value in mpak.keep_solutions.items():\n",
    "    print(key)"
   ]
  },
  {
   "cell_type": "markdown",
   "metadata": {},
   "source": [
    "## The `.table()` class\n",
    ":::{index} single: Reports; Tables\n",
    ":::\n",
    "\n",
    "The `.table()` method is a constructor for the `ModelFlow` class `DisplayVarTableDef`. When called, it creates a table object from the data series passed to it. By default, it represents the data as growth rates and draws them from the `.lastdf` dataframe unless `.basedf`   is requested specifically.  \n",
    "\n",
    "If a comparison display option is chosen (see below), the comparison will be between the values for the selected variables from the  `.lastdf` and the `.basedf` `DataFrame`s.\n",
    "\n",
    "### Create a `.table()` object\n",
    "\n",
    "The following generates a simple table object:  \n",
    "``` \n",
    " tab = mpak.tab(name='My_first_table',pat=' *NYGDPMKTPKN *NECONPRVTKN  *NEGDIFTOTKN *NEEXPGNFSKN *NEIMPGNFSKN', title='GDP components', foot='Source: World Bank ')\n",
    " ```\n",
    "\n",
    "Arguments used: \n",
    "\n",
    "* **pattern** (pat) specifies the variables to be displayed. Here the `*` wildcard is used, allowing this pattern to be used for models for any World Bank model that conforms to the Bank's standard naming conventions \n",
    "* **name** is an internal identifier used to identify output from this table object when when different tables are producing output. \n",
    "* **title** specifies text to be used as a title for the Table  \n",
    "* **foot** specifies text to be placed in a footer for the table\n",
    "\n",
    "As written the command creates an object called `tab`. `tab` can be called subsequently to display or manipulate the table in different ways.\n",
    "\n",
    "Below the same table is generated using a variable to represent the pattern of variables to be included in the table."
   ]
  },
  {
   "cell_type": "code",
   "execution_count": null,
   "metadata": {},
   "outputs": [],
   "source": [
    "pat=  ' *NYGDPMKTPKN *NECONPRVTKN  *NEGDIFTOTKN *NEEXPGNFSKN *NEIMPGNFSKN '\n",
    "tab = mpak.table(name='My_first_table',pat=pat,title='GDP components',foot='Source: World Bank ')\n"
   ]
  },
  {
   "cell_type": "markdown",
   "metadata": {
    "slideshow": {
     "slide_type": "slide"
    }
   },
   "source": [
    "### Rendering table objects \n",
    "\n",
    "Table objects can be rendered as html, text and pdf objects. The below table indicates the methods associated with each.\n",
    "\n",
    "**Display options for table objects**\n",
    "\n",
    "|command|output|\n",
    "|:--|:--|\n",
    "|None (just the object name)| In `Jupyter Notebook` displays the table in its html format.|\n",
    "|display(tab)|Displays the table in html format.|\n",
    "|.show|Returns a simple text version of the table.|\n",
    "|.pdf|Returns a nicely formatted table in pdf format.|\n",
    "\n"
   ]
  },
  {
   "cell_type": "markdown",
   "metadata": {},
   "source": [
    "#### `.tab()` example output\n",
    "\n",
    "When the table object in the last line of a cell in `Jupyter` Notebooks it will cause the content of the object to be rendered in `html`.\n",
    "\n",
    ":::{index} single: Reports; Tables Jupyter Notebook output :::"
   ]
  },
  {
   "cell_type": "code",
   "execution_count": null,
   "metadata": {
    "tags": [
     "remove-output"
    ]
   },
   "outputs": [],
   "source": [
    "tab "
   ]
  },
  {
   "cell_type": "markdown",
   "metadata": {},
   "source": [
    ":::{image} tab1.png\n",
    "    :alt: Menu to start notebooks in subfolders\n",
    "    :class: bg-primary mb-1\n",
    "    :width: 70%\n",
    "    :align: center\n",
    ":::"
   ]
  },
  {
   "cell_type": "markdown",
   "metadata": {},
   "source": [
    "#### The display(tab) method produces  exactly the same output\n",
    "And it can be used in any line in a jupyter cell\n",
    "\n",
    ":::{index} single: Reports; Tables .display(table) method - as html :::"
   ]
  },
  {
   "cell_type": "code",
   "execution_count": null,
   "metadata": {
    "tags": [
     "remove-output",
     "remove-cell"
    ]
   },
   "outputs": [],
   "source": [
    "display(tab)"
   ]
  },
  {
   "cell_type": "markdown",
   "metadata": {},
   "source": [
    "#### The Table `.show` method\n",
    "\n",
    "The `.show()` method renders the table inpure text form, without any html or pdf formatting.\n",
    "\n",
    ":::{index} single: Reports; Tables .show method - as text\n",
    ":::"
   ]
  },
  {
   "cell_type": "code",
   "execution_count": null,
   "metadata": {
    "tags": [
     "latex-only"
    ]
   },
   "outputs": [],
   "source": [
    "tab.show"
   ]
  },
  {
   "cell_type": "markdown",
   "metadata": {},
   "source": [
    "#### The `.pdf` method causes the table to be rendered to a pdf using latex.\n",
    "\n",
    "In `Jupyter Notebook` the rendered file will be displayed within the `Jupyter Noteook`.  Alternatively if the `.pdf` method is called with the option (pdfopen=True) then the pdf will be opened in a separate browser. In either case, if the table is too large to appear on the pdf page, the scrollbar of the pdf viewer can be used to view the extra columns or rows.\n"
   ]
  },
  {
   "cell_type": "code",
   "execution_count": null,
   "metadata": {
    "scrolled": false,
    "tags": [
     "remove_output"
    ]
   },
   "outputs": [],
   "source": [
    "tab.pdf()"
   ]
  },
  {
   "cell_type": "markdown",
   "metadata": {},
   "source": [
    ":::{image} tab1-pdf.png\n",
    "    :alt: Menu to start notebooks in subfolders\n",
    "    :class: bg-primary mb-1\n",
    "    :width: 90%\n",
    "    :align: center\n",
    ":::"
   ]
  },
  {
   "cell_type": "markdown",
   "metadata": {},
   "source": [
    ":::{index} single: Boxes; Box  10. PDFs and latex outputs\n",
    ":::\n",
    "\n",
    ":::{admonition} Box 10. PDFs and latex outputs\n",
    "\n",
    "PDF files are generated using Latex as an intermediary.  As a result, Latex must be installed on the machine for this option to work. For this publication the `Miktex` package has been used, and routines have also been tested with the `Tex Live` package. More on installing the `Miktex` package can be found here: [https://miktex.org/download](https://miktex.org/download). When installing Miktex allow automatic download of latex packages.  \n",
    "\n",
    "On a Mac, MacTex can be used. It can be found here: [https://www.tug.org/mactex/mactex-download.html](https://www.tug.org/mactex/mactex-download.html)\n",
    "\n",
    "`ModelFlow` writes the intermediate latex commands from which the pdf is generated to a sub-directory entitled `latex` one level below the current work directory. The filename will be set to the table_name parameter specified when the table object was declared.  Thus, the table called \"myTable\" will be saved to `latex/myTable/MyTable.pdf`. The intermediate latex source code is placed in `latex/myTable/myTable.tex`.\n",
    "\n",
    "In case of errors or if the user want to enhance the output this file can be edited manually and the pdf re-generated manually using TexWorks which is part of the Miktex instalation.              \n",
    ":::"
   ]
  },
  {
   "cell_type": "markdown",
   "metadata": {},
   "source": [
    "### Table options"
   ]
  },
  {
   "cell_type": "markdown",
   "metadata": {},
   "source": [
    "#### Data transformations  - Growth Rates, Levels, etc.\n",
    ":::{index} single: Reports; Tables; datatype= transformations of results\n",
    ":::\n",
    "\n",
    "When the `table` object is invoked, it defaults to displaying the growth rates for specified variables. However, the constructor supports a range of transformations. Which specification is used is determined by the `datatype` argument, which can take the following values:\n",
    "\n",
    "\n",
    ":::{index} single: Reports; Tables; Display settings\n",
    ":::\n",
    "\n",
    "**Table: Data Types and Their Meanings**\n",
    "\n",
    "| **datatype**    | **Meaning** |\n",
    "|:-------------|:------------------------------------------------------------------|\n",
    "| **growth**  | This is the default setting. Growth rate in percent in the most recent dataset (`.lastdf`).|\n",
    "| level       | Values in `.lastdf`.                                            |\n",
    "| gdppct      | Percentage of GDP in `.lastdf`.                                  |\n",
    "| qoq_ar      | Quarterly growth annualized. - Quarterly models only.|\n",
    "| **Difference views** |  |\n",
    "| difgrowth   | Change ($\\Delta$) in growth rates (`.lastdf` less `basedf`).   |\n",
    "| diflevel    | Change ($\\Delta$) in values (`.lastdf` less `basedf`).         |\n",
    "| difgdppct   | Change ($\\Delta$) in the percentage of GDP from (`.lastdf` less `basedf`). |\n",
    "| difqoq_ar      | change in the annualized quarterly growth (`.lastdf` less `basedf`)  |\n",
    "| difpctlevel | Percentage change ($\\Delta$) in values (`.lastdf` less `basedf`). |\n",
    "| **Values from  `.basedf`** |  |\n",
    "| basegrowth  | Growth rate in percent in `.basedf`.|\n",
    "| baselevel   |Level of the data in `.basedf`|\n",
    "| basegdppct  | Percentage of GDP in `.basedf`.|\n",
    "| baseqoq_ar  | Quarterly growth in `.basedf`|\n"
   ]
  },
  {
   "cell_type": "markdown",
   "metadata": {},
   "source": [
    "#### `transpose ` option\n",
    "\n",
    "\n",
    ":::{index} single: Reports; Vertical tables\n",
    ":::\n",
    "\n",
    "\n",
    "When set, `transpose=True` (default is False), the table will be rendered so that series appear as columns (with dates progressing downward on the page). In this mode, many time-periods can be displayed, but the number of series will be limited by the width of the paper/screen.  "
   ]
  },
  {
   "cell_type": "code",
   "execution_count": null,
   "metadata": {},
   "outputs": [],
   "source": [
    "with mpak.set_smpl(2022,2027):\n",
    "    tab_t = mpak.table(name='A_transposed_table',pat=pat,title='GDP components',\n",
    "                       foot='Source: World Bank ',transpose = True)\n",
    "tab_t.show\n"
   ]
  },
  {
   "cell_type": "markdown",
   "metadata": {},
   "source": [
    "#### The dec=\\#\\# option: limits the decimals displayed\n",
    "\n",
    ":::{index} single: gdppct in reports; Only World Bank conventions \n",
    ":::\n",
    "\n",
    ":::{index} Reports; gdppct - only World Bank conventions \n",
    ":::\n",
    "\n",
    "In the example below, only one decimal of the generated table is displayed.  Note this table uses the datatype option `\"pctgdp\"`. which displays the results as a percent of GDP.\n",
    "\n",
    ":::{warning} \n",
    "The option `datatype='gdppct'` is only well-defined for variables that follow World Bank naming conventions and end either (CD,CN, KD or KN).  The `gdppct` routine uses these endings to determine whether to calculate the percent of GDP as a percent of nominal GDP either in local currency (CN) or USD (CD) or real GDP in local currency  (KN) or real USD (KD). \n",
    ":::"
   ]
  },
  {
   "cell_type": "code",
   "execution_count": null,
   "metadata": {
    "scrolled": true
   },
   "outputs": [],
   "source": [
    "pat_gov = '*GGBALOVRLCN *GGDBTTOTLCN *BNCABFUNDCD'\n",
    "tab_gov = mpak.table(pat_gov,datatype='gdppct',title='In percent of GDP ',dec=1)\n",
    "tab_gov.show"
   ]
  },
  {
   "cell_type": "markdown",
   "metadata": {},
   "source": [
    "### Handling Table Overruns (too much data)\n",
    "\n",
    "It is possible to specify a table that is too large for conventional display systems.  For example, a table of data taken from  a model that covers 100 years could, if the dates run vertically, span more than 1 page, or one that covers many data series might overrun the right hand side of a computer screen, pdf file or printed page.\n",
    "Displaying such tables in `Jupyter Notebooks` or other computer-based displays is straightforward because `Jupyter Notebook` will allow the user to scroll content that does not fit on the page. However, in `LaTeX` documents or printed materials, tables that overrun the page can become impossible to read. \n",
    "\n",
    "To address this issue, several strategies can be employed:\n",
    "\n",
    "- **Drop Middle Columns**: This involves removing several columns from the middle of the table that may not be critical to the reader’s understanding, helping to condense the table into a more manageable size.\n",
    "  \n",
    "- **Display Tables in Chunks**: Specify a rule for breaking the table into multiple smaller tables, each covering a shorter time span. This not only makes each segment easier to fit on a page but also can help readers digest the information in smaller, more focused increments.\n",
    "\n",
    "- **Display a Slice of Data**: Rather than showing the entire timeline, you can display a specific segment or 'slice' of the data that is most relevant to the analysis at hand. This approach focuses the reader's attention and avoids overwhelming them with too much information at once.\n",
    "\n",
    "These methods can significantly enhance the readability and presentation of large tables when rendered on media that are less flexible than interactive digital platforms."
   ]
  },
  {
   "cell_type": "markdown",
   "metadata": {},
   "source": [
    "#### Default behavior for dealing with large tables\n",
    "\n",
    "Below a long table is generated, which runs beyond the edges of the monitor on most computer displays. In `Jupyter Notebook` or other IDEs elements the standard display options \\[table name or display(tablename) -- both of which produce html \\] will generate outputs that that cannot render within one screen width but can scrolled to.  "
   ]
  },
  {
   "cell_type": "code",
   "execution_count": null,
   "metadata": {},
   "outputs": [],
   "source": [
    "with mpak.set_smpl(2026,2050): \n",
    "    tab_large = mpak.table(pat,title='GDP components',name='large_table',dec=1)"
   ]
  },
  {
   "cell_type": "code",
   "execution_count": null,
   "metadata": {
    "scrolled": true,
    "tags": [
     "remove-output"
    ]
   },
   "outputs": [],
   "source": [
    "display(tab_large)"
   ]
  },
  {
   "cell_type": "markdown",
   "metadata": {},
   "source": [
    ":::{image} tab-long-html.png\n",
    "    :alt: Menu to start notebooks in subfolders\n",
    "    :class: bg-primary mb-1\n",
    "    :width: 70%\n",
    "    :align: center\n",
    ":::"
   ]
  },
  {
   "cell_type": "markdown",
   "metadata": {},
   "source": [
    "The `.show` and `.pdf` methods  automatically truncates the width of the table to fit on screen. By default it will show the beginning and ending data columns leaving out the intermediate columns."
   ]
  },
  {
   "cell_type": "code",
   "execution_count": null,
   "metadata": {},
   "outputs": [],
   "source": [
    "tab_large.show"
   ]
  },
  {
   "cell_type": "code",
   "execution_count": null,
   "metadata": {
    "scrolled": true,
    "tags": [
     "remove-output"
    ]
   },
   "outputs": [],
   "source": [
    "tab_large.pdf() "
   ]
  },
  {
   "cell_type": "markdown",
   "metadata": {},
   "source": [
    ":::{image} tab-long.png\n",
    "    :alt: Menu to start notebooks in subfolders\n",
    "    :class: bg-primary mb-1\n",
    "    :width: 70%\n",
    "    :align: center\n",
    ":::"
   ]
  },
  {
   "cell_type": "markdown",
   "metadata": {},
   "source": [
    "#### Customizing the display of \"too large\" tables\n",
    "\n",
    "These default behaviors can be modified using various `.table`  options (see table), notably the options (chunk_size=, time-slice=, tranpose=, max_cols=, last_cols-=)  which determine how excess data is treated."
   ]
  },
  {
   "cell_type": "markdown",
   "metadata": {},
   "source": [
    "##### `chunk_size=` to split pdf tables. \n",
    "If the option `chunk_size` is set. The pdf table will be split into sub tables each with chunk_size columns (except, perhaps, the final table). "
   ]
  },
  {
   "cell_type": "code",
   "execution_count": null,
   "metadata": {
    "scrolled": false,
    "tags": [
     "remove-output"
    ]
   },
   "outputs": [],
   "source": [
    "tab_large.set_options(chunk_size=10).pdf(height = '700px') "
   ]
  },
  {
   "cell_type": "markdown",
   "metadata": {},
   "source": [
    ":::{image} tab-long-chunk.png\n",
    "    :alt: Menu to start notebooks in subfolders\n",
    "    :class: bg-primary mb-1\n",
    "    :width: 80%\n",
    "    :align: center\n",
    ":::"
   ]
  },
  {
   "cell_type": "markdown",
   "metadata": {},
   "source": [
    "##### `landscape=` to show  a pdf in landscape mode. . \n",
    "If the option `landscape=` is set. The pdf table will be shown in landscape mode. In this case the `max_cols` option should also be used, as \n",
    "the default will only be 6.  "
   ]
  },
  {
   "cell_type": "code",
   "execution_count": null,
   "metadata": {
    "scrolled": true,
    "tags": [
     "remove-output"
    ]
   },
   "outputs": [],
   "source": [
    "tab_large.set_options(landscape=True, max_cols=18,name='large_table_landscape').pdf() "
   ]
  },
  {
   "cell_type": "markdown",
   "metadata": {},
   "source": [
    ":::{image} tab-long-landscape.png\n",
    "    :alt: Menu to start notebooks in subfolders\n",
    "    :class: bg-primary mb-1\n",
    "    :width: 80%\n",
    "    :align: center\n",
    ":::"
   ]
  },
  {
   "cell_type": "markdown",
   "metadata": {},
   "source": [
    "##### The  `timeslice = ` option allows the user to select which years to render \n",
    "The `timeslice` option gives the user full control over which columns (years or quarters) will be displayed displayed. \n",
    "\n",
    "**Beware**, `timeslice` doesn't care if years are out of order. \n",
    "\n",
    "In the example below the years are out of order, and the resulting output reflects what was asked for. "
   ]
  },
  {
   "cell_type": "code",
   "execution_count": null,
   "metadata": {},
   "outputs": [],
   "source": [
    "tab_large.set_options(timeslice=[2026,2040,2028 ,2029,2050]).show"
   ]
  },
  {
   "cell_type": "markdown",
   "metadata": {},
   "source": [
    "In this example, a new table is generated with more conventional timeslices."
   ]
  },
  {
   "cell_type": "code",
   "execution_count": null,
   "metadata": {},
   "outputs": [],
   "source": [
    "with mpak.set_smpl(2026,2050): \n",
    "    tab2 = mpak.table(pat,title='GDP components',name='long_table_2',timeslice=[2026,2030,2035 ,2040, 2045, 2050]);\n",
    "    \n",
    "tab2.show"
   ]
  },
  {
   "cell_type": "markdown",
   "metadata": {},
   "source": [
    "### Other ´.table´ options\n",
    "\n",
    "The `table` object has two kinds of options:\n",
    "\n",
    "1) so-called **line options**  that can only be set when the basic table is created with the `.table()` call. \n",
    "2) so-called **table options** can be reset using the set_options method. \n",
    "\n",
    ":::{only} latex\n",
    "latexcommand \\newpage\n",
    ":::\n",
    "\n",
    "**Line Options**\n",
    "These options are set on table creation.\n",
    "| Argument            | Default Value             | Description                                               |\n",
    "|---------------------|---------------------------|-----------------------------------------------------------| \n",
    "| pat                 | '#Headline' (defined in the `ModelFlow` class)| variable names to be displayed, may include wildcard specifications                  |\n",
    "| datatype            | 'growth'                  | Defines the data transformation displays (cf. next table) |\n",
    "| mul                 | 1.0                       | Multiplier of values before display                       | \n",
    "| dec             | 2                     | set the decimal places to display      | line|\n",
    "| col_desc            | as shown below            | A centered Description of columns (non transposed table)  | \n",
    "| heading             | ''                        | A centered text above columns (non transposed table)      | \n",
    "| rename              | True                      | If True use descriptions else variable names              | \n",
    "\n",
    "\n",
    "**Table Options**\n",
    "These options can be revised after a table has been generated.\n",
    "\n",
    "| Argument            | Default Value             | Description                                               |\n",
    "|---------------------|---------------------------|-----------------------------------------------------------|\n",
    "| name                | ''                        | Name for this display.                                    |\n",
    "| custom_description  | {}                        | Custom description, override default descriptions.        |\n",
    "| title               | ''                        | Title.                                                    |\n",
    "| foot                | ''                        | Footer.                                                   |\n",
    "| transpose           | False                     | If True, transposes the table                             |\n",
    "| chunk_size          | 0                         | Specifies the number of columns per chunk in tables.      |\n",
    "| timeslice           | []                        | Specifies the time slice for data display.                |\n",
    "| max_cols            | 6                         | Maximum columns when displayed as string.                 |\n",
    "| last_cols           | 3                       | In Latex, the number of last columns in a display slice.  |\n",
    "| smpl             | ('','')                      | set or re-set the smpl for the table       | \n",
    "\n"
   ]
  },
  {
   "cell_type": "markdown",
   "metadata": {},
   "source": [
    "#### Some table examples\n",
    "\n",
    "Displaying data as the difference in levels.  The `datatype=diflevel` option causes the difference between the level of the selected variables in the `.lastdf` and `.basedf` databases to be displayed."
   ]
  },
  {
   "cell_type": "code",
   "execution_count": null,
   "metadata": {},
   "outputs": [],
   "source": [
    "mpak.table(pat,datatype = 'diflevel').show"
   ]
  },
  {
   "cell_type": "markdown",
   "metadata": {},
   "source": [
    "#### The  `col_desc` option causes the default descriptions of variables to be overwritten\n",
    "\n",
    "The user may change these default descriptors using by setting the `col_desc` option directly. In the example below, the default text displayed in the previous table is revised to something that is more accurate for this particular example."
   ]
  },
  {
   "cell_type": "code",
   "execution_count": null,
   "metadata": {},
   "outputs": [],
   "source": [
    "mpak.table(pat,datatype = 'diflevel',\n",
    "           col_desc     = 'Delta, LCU, base year 2000'\n",
    "        ).show"
   ]
  },
  {
   "cell_type": "markdown",
   "metadata": {},
   "source": [
    "If no description is requires set `col_desc=' '` That is a single blank. "
   ]
  },
  {
   "cell_type": "code",
   "execution_count": null,
   "metadata": {},
   "outputs": [],
   "source": [
    "mpak.table(pat,datatype = 'diflevel',\n",
    "           col_desc     = ' '\n",
    "                                   ).show"
   ]
  },
  {
   "cell_type": "markdown",
   "metadata": {},
   "source": [
    "## Complex tables\n",
    "\n",
    "In the real world more complex tables are often called for, either including a mixture of data display type (some series in levels, others as a percent of GDP) or ones that mix data and text in ways the simple table object does not deal with easily. \n",
    "\n",
    "A simple solution is to produce and then join two tables, which can be done with the `|` operator. More complex solutions  would involve the `report` object which allows different table, text and plot elements to be joined in a single report (see the discussion at the end of this chapter)."
   ]
  },
  {
   "cell_type": "markdown",
   "metadata": {},
   "source": [
    "### The **|** operator joins non-transposed tables\n",
    ":::{index} single: Reports; Tables, joining tables with  `|` \n",
    ":::\n",
    "\n",
    "\n",
    "The `|` operator allows two or more table objects (vertical not transposed) to be combined. \n",
    "\n",
    "This allows one table expressed in levels (or growth rates) to be combined with another table of data expressed as a percent of GDP.  The more complex conjoined table can therefore mix a number of different data representations. \n",
    "\n",
    "When constructing more complex tables, the heading parameter (`heading=some text`) can be used to delineate different sections within the combined table.  NB: The option heading is case sensitive, `Heading=` will do nothing.\n",
    "\n",
    ":::{admonition} Note\n",
    "Non-transposed tables can be joined with transposed tables and figures using the reports functionality described at the end of this chapter.\n",
    "\n",
    ":::\n",
    "\n",
    "Below a simple table with a header. \n"
   ]
  },
  {
   "cell_type": "code",
   "execution_count": null,
   "metadata": {
    "scrolled": true
   },
   "outputs": [],
   "source": [
    "test=mpak.table(heading=r'A test header',pat=\"PAKNYGDPMKTPKN PAKNYGDPPOTLKN\")\n",
    "test.show"
   ]
  },
  {
   "cell_type": "markdown",
   "metadata": {},
   "source": [
    "In this example, a more complex table is created as a combination of the earlier generated tables `tab` and `tab_gov`, each using different display types."
   ]
  },
  {
   "cell_type": "code",
   "execution_count": null,
   "metadata": {
    "scrolled": true
   },
   "outputs": [],
   "source": [
    "(tab | tab_gov).show\n"
   ]
  },
  {
   "cell_type": "markdown",
   "metadata": {},
   "source": [
    "Below several different tables are joined to create quite a complex table."
   ]
  },
  {
   "cell_type": "markdown",
   "metadata": {},
   "source": [
    ":::{index} single: Reports; Tables, A complex table using |  \n",
    ":::\n",
    "`tab_total` below is generated as the  of several sub tables and illustrates the use of the heading command and the display in a single object of a relatively complex table."
   ]
  },
  {
   "cell_type": "code",
   "execution_count": null,
   "metadata": {},
   "outputs": [],
   "source": [
    "pat=  '*NYGDPMKTPKN *NECONPRVTKN  *NEGDIFTOTKN *NEEXPGNFSKN *NEIMPGNFSKN'\n",
    "pat_gov = '*GGBALOVRLCN *GGDBTTOTLCN *BNCABFUNDCD'\n",
    "\n",
    "tab_na_base  = mpak.table(pat,    datatype='basegrowth',\n",
    "                        heading=r'Baseline')\n",
    "tab_gov_base = mpak.table(pat_gov,datatype='basegdppct')\n",
    "\n",
    "tab_na       = mpak.table(pat,    datatype='growth',\n",
    "                        heading=r'Alternative')\n",
    "tab_gov      = mpak.table(pat_gov,datatype='gdppct')\n",
    "\n",
    "tab_na_dif   = mpak.table(pat     ,datatype='difgrowth',\n",
    "                        heading=r'Impact')\n",
    "tab_gov_dif  = mpak.table(pat_gov ,datatype='difgdppct') \n",
    "\n",
    "# Use the | to concatenate the tabels\n",
    "tab_total = tab_na_base | tab_gov_base |  tab_na | tab_gov | tab_na_dif | tab_gov_dif"
   ]
  },
  {
   "cell_type": "markdown",
   "metadata": {},
   "source": [
    ":::{only} latex\n",
    "latexcommand \\newpage\n",
    ":::"
   ]
  },
  {
   "cell_type": "code",
   "execution_count": null,
   "metadata": {
    "scrolled": true
   },
   "outputs": [],
   "source": [
    "tab_total.show"
   ]
  },
  {
   "cell_type": "markdown",
   "metadata": {},
   "source": [
    ":::{only} latex\n",
    "latexcommand \\newpage\n",
    ":::"
   ]
  },
  {
   "cell_type": "markdown",
   "metadata": {},
   "source": [
    "Below the rendering of the same table is revised by using the `set_options(smpl=(2025,2026))` modifier on the command line."
   ]
  },
  {
   "cell_type": "code",
   "execution_count": null,
   "metadata": {
    "scrolled": false
   },
   "outputs": [],
   "source": [
    "# \n",
    "tab_total.set_options(smpl=(2026,2030)).show\n"
   ]
  },
  {
   "cell_type": "markdown",
   "metadata": {},
   "source": [
    "## The `.plot()` class \n",
    "\n",
    ":::{index} single: Reports; Plots\n",
    ":::\n",
    "\n",
    "The `.plot()` class can be used to display results graphically.\n",
    "\n",
    "The `ModelFlow` class `.plot` extends the standard python charting libraries, making them aware of the `ModelFlow` databases (including *kept* `DataFrames`) and provides functionality to display data and results in ways commonly used by macroeconomic modelers.\n",
    "\n",
    "The class's constructor is the `.plot` method which returns an object of type `DisplayVarFigDef`. \n",
    "\n"
   ]
  },
  {
   "cell_type": "markdown",
   "metadata": {},
   "source": [
    "The constructor for `.plot` takes four arguments:\n",
    "\n",
    "1. **pattern** (pat_plot in the example below) which represents a space delimited string containing the mnemonics of the variables (which must be part of the model object to be charted.  As with standard `ModelFlow` search specifications, either mnemonic names, or descriptions can be specified in wildcard specifications. \n",
    "2. **plot_name** an identifier for the plot object, used when storing charts that are part of a plot.\n",
    "3. **title** A title that will be displayed with any charts that are generated.\n",
    "4. **scenarios**, an optional string concatenating with the `|` symbol the text names of scenarios to be plotted. If left blank (the default) plot will display data from the `.lastdf` `DataFrame` or compare the `.lastdf` results with the data from the `.basedf` `DataFrame`. \n",
    "\n",
    "Below the sample period for the model object `mpak` is set, the pattern that will determine which variables are to be displayed is defined, and a plot object `fig` is instantiated using the variables in pat_plot, with the name 'My_first_plot' and with the displayed title \"Results from the most-recent simulation\"."
   ]
  },
  {
   "cell_type": "code",
   "execution_count": null,
   "metadata": {},
   "outputs": [],
   "source": [
    "mpak.smpl(2020,2040)\n",
    "pat_plot=  '*NYGDPMKTPKN *NECONPRVTKN  '\n",
    "fig = mpak.plot(pat_plot,name='My_first_plot',title=\"Results from the most-recent simulation\")\n"
   ]
  },
  {
   "cell_type": "markdown",
   "metadata": {},
   "source": [
    "The object is an instance of the class `DisplayVarFigDef`. Its construction does not cause the figure to be displayed. Unless the .show method is called explicitly as below."
   ]
  },
  {
   "cell_type": "code",
   "execution_count": null,
   "metadata": {},
   "outputs": [],
   "source": [
    "fig.show;"
   ]
  },
  {
   "cell_type": "markdown",
   "metadata": {},
   "source": [
    "### Rendering a plot object\n",
    "\n",
    "Like the table object, the plot object has several methods for rendering its figure(s).\n",
    "\n",
    "These include:\n",
    "* the name of the object -- displays an html widget of the object \n",
    "* display(object) will display a html widget of the object. \n",
    "* object.show will show all the charts sequentially\n",
    "* object.pdf() \n",
    "\n",
    "\n"
   ]
  },
  {
   "cell_type": "markdown",
   "metadata": {},
   "source": [
    "### The display (fig) / name of fig command \n",
    "\n",
    "The first two options: the name of the figure itself executed as a command; and display(nameoffigure) generate exactly the same results.\n",
    "\n",
    "Under `Jupyter Notebook`, these two methods generate an \"accordion \" widget that allows the user to flip through the various charts (possibly just one) that comprise the plot object. \n",
    "\n",
    "Different charts in the object can be visualized by selecting the triangle beside the variable name (found on the lefthand side of the screen). Each chart within the plot object has its own triangle beside its name.  Selecting one, will fold-up any other figures that may be open and unfold and display the chart associated with the selected variable. \n",
    "\n",
    "The below command generates the widget comprised of two charts (if more series had been indicated when the figure was instantiated, more widget items would be displayed), one for real GDP growth and the second for real household consumption growth.  By default the first is displayed, it can be minimized by clicking on the triangle beside its name. The second (household consumption) will appear under it (below the chart if its is displayed).  Click on the triangle beside its name will cause the widget to  change the displayed figure to the household consumption chart.  Directly clicking on household consumption would have had the same effect, first closing the GDP chart and then displaying the newly selected chart."
   ]
  },
  {
   "cell_type": "code",
   "execution_count": null,
   "metadata": {
    "scrolled": true,
    "tags": [
     "remove-output"
    ]
   },
   "outputs": [],
   "source": [
    "display(fig)"
   ]
  },
  {
   "cell_type": "markdown",
   "metadata": {},
   "source": [
    ":::{image} fig.png\n",
    "    :alt: Menu to start notebooks in subfolders\n",
    "    :class: bg-primary mb-1\n",
    "    :width: 70%\n",
    "    :align: center\n",
    ":::"
   ]
  },
  {
   "cell_type": "markdown",
   "metadata": {},
   "source": [
    "#### The `.show` method causes each chart in the figure to be displayed sequentially\n",
    "\n",
    "Here the `.set_options()` method is used to adjust the display size of the rendered charts."
   ]
  },
  {
   "cell_type": "code",
   "execution_count": null,
   "metadata": {},
   "outputs": [],
   "source": [
    "fig.set_options(size=(10,5)).show"
   ]
  },
  {
   "cell_type": "markdown",
   "metadata": {},
   "source": [
    "### `.pdf` Creates a .pdf version of the plots\n",
    "The `.pdf` method will generate a pdf of the chart(s) that form part of the figure. Each chart will appear sequentially in a single `pdf`. The generated `pdf` will be found in a sub-directory with the name that was given to the figure as the root of the `pdf` file that was generated."
   ]
  },
  {
   "cell_type": "code",
   "execution_count": null,
   "metadata": {
    "scrolled": false,
    "tags": [
     "remove-output"
    ]
   },
   "outputs": [],
   "source": [
    "fig.pdf() "
   ]
  },
  {
   "cell_type": "markdown",
   "metadata": {},
   "source": [
    ":::{image} fig-pdf.png\n",
    "    :alt: Menu to start notebooks in subfolders\n",
    "    :class: bg-primary mb-1\n",
    "    :width: 70%\n",
    "    :align: center\n",
    ":::"
   ]
  },
  {
   "cell_type": "markdown",
   "metadata": {},
   "source": [
    ":::{index} single: Reports; Plots, options  \n",
    ":::"
   ]
  },
  {
   "cell_type": "markdown",
   "metadata": {},
   "source": [
    "### ´.plot´ options\n",
    "\n",
    "The  `.plot()` object has many options. Like Table these can be split into those that can be set only when the figure is instantiated and those that can be revised later using the `.set_options()` method. Both types of options are listed below.\n",
    "\n",
    "**Line options** are set when the plot is created with the `.plot() `call and can only be set when the object is instantiated.\n",
    "\n",
    "| Argument           | Default Value             | Description   |\n",
    "|--------------------|---------------------------|----------------------------------------|\n",
    "| pat                | '#Headline'               | Pattern with wildcard for variable names |\n",
    "| datatype           | 'growth'                  | Defines the datatransformation displayes (cf. next table)     |\n",
    "| mul                | 1.0                       | Multiplier of values before display             | \n",
    "| ax_title_template | ''                        | Template for each chart title| \n",
    "\n",
    "\n",
    "**Plot options** can be revised after the plot has been created. \n",
    "\n",
    "| Argument           | Default Value             | Description   |\n",
    "|--------------------|---------------------------|----------------------------------------|\n",
    "| rename             | True                      | If True use descriptions else variable names    |\n",
    "| scenarios               | ''                        | Show for `.basedf/.lastdf` or selected scenarios                        | \n",
    "| name               | ''                        | Name for this display.                           | \n",
    "| custom_description | {}                        | Custom description, override default descriptions. |\n",
    "title              | ''                        | Title (used when samefig=True).                  | \n",
    "| samefig            | False                     | If True, displays all chart in the same plot area. |\n",
    "| ncol               | 2                         | Number of columns when samefig=True.            | \n",
    "| size               | (10, 6)                   | Specifies the size of each chart                | \n",
    "| legend             | True                      | If True, includes a legend in the display.       |\n",
    "| smpl             | ('','')                      | set smpl for this plot       | \n",
    "\n",
    "\n",
    "Like tables, the transformation of the data displayed is controlled by the datatype options, whose parameters are identified below."
   ]
  },
  {
   "cell_type": "markdown",
   "metadata": {},
   "source": [
    ":::{index} single: Reports; Plots, datatype= transformations of results\n",
    ":::\n"
   ]
  },
  {
   "cell_type": "markdown",
   "metadata": {},
   "source": [
    "### **Plot Data Types and Scenarios**\n",
    "\n",
    "Tables  display output based only on `.basedf` and `.lastdf`, the `.plot` function can also be used to visualize charts based on the scenarios stored in the `.keep_solutions` dictionary.\n",
    "\n",
    "- If `scenarios=''`, `.plot` will display lines corresponding to the data shown in tables, which is based on `.basedf` and `.lastdf`.\n",
    "- If `scenarios='<list of scenarios>'`, `.plot` will display lines for the data associated with the scenarios specified in the list. \n",
    "- If `scenarios='*'`, all available scenarios will be plotted.\n",
    "- If `scenarios='base_last'`, `.basedf` and `.lastdf` will be plotted as scenarios.\n",
    "   \n",
    "\n",
    "The table below summarizes how the combination of `datatype` and `scenarios` determines the data displayed in the chart.\n",
    "\n",
    "#### **Table: Datatype and Scenario Settings**\n",
    "\n",
    "| **Datatype**    | **scenarios=''** or omitted | **scenarios='\\<list of scenarios>'** (Multiple Scenarios) |\n",
    "|:-------------|:------------------------------------------------------------------|:-----------------------------|\n",
    "| **Value Views** | | |\n",
    "| **growth** (default) | Growth rate (%) in the most recent dataset (`.lastdf`). | Growth rates for all scenarios. |\n",
    "| **level**       | Values from `.lastdf`. | Values for all scenarios. |\n",
    "| **gdppct**      | Percentage of GDP in `.lastdf`. | Percentage of GDP for all scenarios. |\n",
    "| **qoq_ar**      | Quarterly growth (annualized) for quarterly models in `.lastdf`. | Quarterly growth (annualized) for all scenarios. |\n",
    "| | | |\n",
    "| **Difference Views** | | |\n",
    "| **difgrowth**   | Change ($\\Delta$) in growth rates between `.lastdf` and `.basedf`. | Change ($\\Delta$) in growth rates between the first and other scenarios. |\n",
    "| **diflevel**    | Change ($\\Delta$) in values between `.basedf` and `.lastdf`. | Change ($\\Delta$) in values between the first and other scenarios. |\n",
    "| **difgdppct**   | Change ($\\Delta$) in the percentage of GDP between `.basedf` and `.lastdf`. | Change ($\\Delta$) in the percentage of GDP between the first and other scenarios. |\n",
    "| **difqoq_ar**   | Change in quarterly growth (annualized) between `.basedf` and `.lastdf`. | Change ($\\Delta$) in quarterly growth (annualized) between the first and other scenarios. |\n",
    "| **difpctlevel** | Percentage change ($\\Delta$) in values between `.basedf` and `.lastdf`. | Percentage change ($\\Delta$) in values between the first and other scenarios. |\n",
    "| | | |\n",
    "| **`.basedf` Views** | | |\n",
    "| **basegrowth**  | Growth rate (%) in `.basedf`. | Growth rates for the first scenario. |\n",
    "| **baselevel**   | Values from `.basedf`. | Values for the first scenario. |\n",
    "| **basegdppct**  | Percentage of GDP in `.basedf`. | Percentage of GDP for the first scenario. |\n",
    "| **baseqoq_ar**  | Quarterly growth (annualized) in `.basedf`. | Quarterly growth (annualized) for the first scenario. |\n"
   ]
  },
  {
   "cell_type": "markdown",
   "metadata": {},
   "source": [
    "#### The  ´samefig=True´ option causes charts  to be rendered on a grid \n",
    "\n",
    "Often a single call to `.plot()` will result in many charts being produced.  The `samefig=True` option will cause them to be displayed in a grid (rather than the alternative where each chart occupies the full width of the screen or page).  This approach both saves real-estate but actually facilitates the comparison of results  -- across variables, as in the case below; or when used in combination with the by_vars option, across scenarios."
   ]
  },
  {
   "cell_type": "code",
   "execution_count": null,
   "metadata": {},
   "outputs": [],
   "source": [
    "fig.set_options(samefig=True,title='An Example plot').show"
   ]
  },
  {
   "cell_type": "markdown",
   "metadata": {},
   "source": [
    ":::{index} single: Reports; Plots, by_var= , plots by scenario or by variable \n",
    ":::"
   ]
  },
  {
   "cell_type": "markdown",
   "metadata": {},
   "source": [
    "###  The `by_var` option determines  whether to show results by variable (False) or scenario (True)\n",
    "\n",
    "By default, `by_var` is set to `True` and a separate chart is created for each variable in the `pat` pattern. If multiple scenarios are being inspected, each chart will have a separate line for each scenario. \n",
    "\n",
    "Setting `by_var` to `False` causes plot to generate the charts in the figure by scenario.  Each chart shows the value for all specified variables in one scenario, with following charts showing the results for different scenarios. \n",
    "\n",
    "\n",
    "\n",
    "| **by_var** | **a plot for each** | **a line in each plot for each** |\n",
    "|------------------|---------------------|---------------------|\n",
    "| **True** (default) | Variable            | Scenario            |\n",
    "| False             | Scenario            | Variable            |\n",
    "\n",
    "The example below sets both the `by_var` and `samefig` options to True.  As a result, the charts are displayed in a grid and data for GDP and household consumption (the variables) from one scenario are shown on each graph, with results for one scenario on each graph."
   ]
  },
  {
   "cell_type": "code",
   "execution_count": null,
   "metadata": {
    "cell_style": "center"
   },
   "outputs": [],
   "source": [
    "mpak.plot(pat_plot,name='fig_by_scenario',\n",
    "                       scenarios='Baseline|$25 increase in oil prices 2025-27',\n",
    "                       datatype='level',samefig=True,\n",
    "                       by_var=False,legend=False,mul=1/1_000_000).show"
   ]
  },
  {
   "cell_type": "markdown",
   "metadata": {},
   "source": [
    "The example also illustrates the use of the **legend** and **mul** options. The option `legend=False` suppresses the legend (as a box with all series description in one place) and instead causes the series labels to be placed to the right of the line of each rendered series.\n",
    "\n",
    "The `mul=1/1_000_000` option causes the axis to be rendered in millions.  Notice python allows large numbers to be split by `_` which makes them more readable.  It is not necessary to do this.\n",
    "\n",
    "Below the same two results are shown but organized by variable with the `by_var` option set to `True`."
   ]
  },
  {
   "cell_type": "code",
   "execution_count": null,
   "metadata": {},
   "outputs": [],
   "source": [
    "mpak.plot(pat_plot,name='fig_by_scenario',\n",
    "                       scenarios='Baseline|$25 increase in oil prices 2025-27',\n",
    "                       datatype='level',samefig=True,\n",
    "                       by_var=True,legend=False,mul=1/1_000_000).show"
   ]
  },
  {
   "cell_type": "markdown",
   "metadata": {},
   "source": [
    "### The `scenarios=` option selects the scenarios to be displayed \n",
    "\n",
    "The `scenarios=` option allows the user to specify which scenarios (from the kept scenarios in the model object)  to use in generating the plots.  Scenarios names must be the exact match to the text used when the keep command was executed, and must be separated by the | symbol.\n",
    "\n",
    "\n",
    "\n",
    ":::{admonition} Recall\n",
    ":class: tip\n",
    "To find all names of the stored scenarios use:\n",
    ":::"
   ]
  },
  {
   "cell_type": "code",
   "execution_count": null,
   "metadata": {},
   "outputs": [],
   "source": [
    "for key  in mpak.keep_solutions:\n",
    "    print(key);"
   ]
  },
  {
   "cell_type": "markdown",
   "metadata": {},
   "source": [
    "In the example below, the same pattern as before is utilized (real GDP and real household expenditure), but the scenarios option indicates that the charts should be generated from three scenarios: \n",
    "1. Baseline\n",
    "2. \"$25 increase in oil prices 2025-27\";   \n",
    "3. \"1\\% of GDP increase in FDI and private investment (AF shock)\".  \n",
    "\n",
    "In this use-case the datatype='growth' causes the growth rate from each scenario to be rendered. "
   ]
  },
  {
   "cell_type": "code",
   "execution_count": null,
   "metadata": {
    "cell_style": "center"
   },
   "outputs": [],
   "source": [
    "mpak.plot(pat_plot,name='fig_select',datatype='growth',samefig=True,\n",
    "         scenarios='Baseline|$25 increase in oil prices 2025-27|1% of GDP increase in FDI and private investment (AF shock)').show\n"
   ]
  },
  {
   "cell_type": "markdown",
   "metadata": {},
   "source": [
    "\n",
    "#### The special scenario `base_last` \n",
    "The scenario option `base_last` will use the `.basedf` and  `.lastdf` as scenarios dataframes as the scenarios. "
   ]
  },
  {
   "cell_type": "markdown",
   "metadata": {
    "cell_style": "center"
   },
   "source": [
    ":::{index} single: Reports; Plots, Special scenario: 'base_last' \n",
    ":::"
   ]
  },
  {
   "cell_type": "code",
   "execution_count": null,
   "metadata": {
    "cell_style": "center"
   },
   "outputs": [],
   "source": [
    "mpak.plot(pat_plot,name='fig_select',datatype='growth',samefig=True,\n",
    "         scenarios='base_last').show\n"
   ]
  },
  {
   "cell_type": "markdown",
   "metadata": {},
   "source": [
    "#####  `.basename` `.lastname` can be used to rename the scenarios "
   ]
  },
  {
   "cell_type": "code",
   "execution_count": null,
   "metadata": {
    "cell_style": "center"
   },
   "outputs": [],
   "source": [
    "mpak.basename = 'Unchanged policy'\n",
    "mpak.lastname = 'AF shock '\n",
    "mpak.plot(pat_plot,name='fig_select',datatype='growth',samefig=True,\n",
    "         scenarios='base_last').show\n"
   ]
  },
  {
   "cell_type": "markdown",
   "metadata": {},
   "source": [
    "### Template for each chart title: `ax_title_template`"
   ]
  },
  {
   "cell_type": "markdown",
   "metadata": {},
   "source": [
    "The text associated with each graph can be customized by using the `ax_title_template` option. \n",
    "\n",
    "`ax_title_template` can be sent to any arbitrary string.  If the string contains the special characters {var_name}, and/ or {var_description} or {compare} then the name of the variable being displayed (or its description) or the name of the baseline scenario will be substituted for the expression in the figure.\n",
    "\n",
    "| Placeholder       | Replaced by                                     |\n",
    "|-------------------|--------------------------------------------|\n",
    "| `{var_name}`      | Variable Mnemonic                              |\n",
    "| `{var_description}` | Variable description                      |\n",
    "| `{compare}`       | First scenario used for comparison         |\n"
   ]
  },
  {
   "cell_type": "markdown",
   "metadata": {},
   "source": [
    "In the example below, all three placeholders are utilized, and the text includes a LaTeX expression (the sub-string ```$\\Delta\\$```) bordered by `$` signs, which renders in the chart as the Greek symbol $\\Delta$."
   ]
  },
  {
   "cell_type": "code",
   "execution_count": null,
   "metadata": {},
   "outputs": [],
   "source": [
    "mpak.plot(pat_plot,datatype='difgrowth',\n",
    "          scenarios='Baseline|$25 increase in oil prices 2025-27|1% of GDP increase in FDI and private investment (AF shock)',\n",
    "          samefig=True,\n",
    "        ax_title_template= r'{var_name}:{var_description} \\n %$\\Delta$ vs {compare}' ).show"
   ]
  },
  {
   "cell_type": "markdown",
   "metadata": {},
   "source": [
    "### Joing plots with  `|` \n",
    ":::{index} single: Reports; Plots, Joing plots with  `|` \n",
    ":::\n",
    "\n",
    "Like Tables, Plots can be concatenated together using the `|`  operator. This allows plots with different  datatypes to be displayed together. \n",
    "\n",
    "In the example below, results for GDP in each scenario and household consumption for each scenario are displayed first as growth rates, secondly as levels, and finally as changes in the growth rates.\n",
    "\n",
    "The three separate figures are then joined in the figure called fig_, with the samefig=True flag set so that the six separate charts are arranged in a grid to facilitate reading and comparison."
   ]
  },
  {
   "cell_type": "code",
   "execution_count": null,
   "metadata": {},
   "outputs": [],
   "source": [
    "fig1 = mpak.plot(pat_plot,name='growth',scenarios='*',ax_title_template= r'Growth rates\\n {var_name}:{var_description}')\n",
    "fig2 = mpak.plot(pat_plot,datatype='level',scenarios='*',ax_title_template= r'Levels\\n {var_name}:{var_description}')\n",
    "fig3 = mpak.plot(pat_plot,datatype='difgrowth',name= 'dif',\n",
    "                 ax_title_template= r'%$\\Delta$ from {compare}\\n {var_name}:{var_description}',\n",
    "                 scenarios='*')\n",
    "fig_ = (fig1 | fig2 | fig3).set_options(samefig=True,name='fig_')\n",
    "fig_.show"
   ]
  },
  {
   "cell_type": "markdown",
   "metadata": {},
   "source": [
    "### `.savefigs()` Saving plots in other formats. \n",
    "\n",
    "Plots are created using the `matplotlib` library. If charts are going to be used further downstream they can be saved to file using a wide range of formats. \n",
    "\n",
    "**`.savefigs()` options**\n",
    "\n",
    "| **Parameter**      | **Type**  | **Description**                                                                                        | **Default**       |\n",
    "|--------------------|-----------|--------------------------------------------------------------------------------------------------------|-------------------|\n",
    "| `location`         | `str`     | The  folder in which to save the charts.                                                           | `'./graph'`       |\n",
    "| `experimentname`   | `str`     | A subfolder under `location` where charts are saved.                                                   | `'experiment1'`   |\n",
    "| `addname`          | `str`     | An additional name added to each figure filename.                                                      | `''` (empty string) |\n",
    "| `extensions`       | `list`    | A list of  file extensions for saving the figures.                                               | `['svg']`         |\n",
    "| `xopen`            | `bool`    | If `True`, open the saved figure locations in a web browser.                                           |                   |\n",
    "\n",
    "\n",
    "Charts can be saved using the following formats: \n",
    "\n",
    "| **Extension**     | **Description**                             |\n",
    "|-------------------|---------------------------------------------|\n",
    "| `.png`            | Portable Network Graphics                   |\n",
    "| `.jpg` or `.jpeg` | t Photographic Experts Group            |\n",
    "| `.tif` or `.tiff` | Tagged Image File Format                    |\n",
    "| `.bmp`            | Bitmap                                      |\n",
    "| `.gif`            | Graphics Interchange Format                 |\n",
    "| `.svg`            | Scalable Vector Graphics                    |\n",
    "| `.pdf`            | Portable Document Format                    |\n",
    "| `.eps`            | Encapsulated PostScript                     |\n",
    "| `.ps`             | PostScript                                  |\n",
    "| `.raw`            | Raw image data                              |\n",
    "| `.rgba`           | Raw RGBA bitmap                             |\n",
    "| `.pgf`            | Portable Graphics Format                    |\n",
    "\n",
    "\n",
    "An example: "
   ]
  },
  {
   "cell_type": "code",
   "execution_count": null,
   "metadata": {},
   "outputs": [],
   "source": [
    "fig_for_saving = mpak.plot(pat_plot,name='for_saving')\n",
    "fig_for_saving.savefigs() "
   ]
  },
  {
   "cell_type": "markdown",
   "metadata": {},
   "source": [
    "In this example the sub-directory name where the files will be saved is changed to Scenario1 and two copies of the each chart is saved, once as an SVG file the other as a PDF, by setting the extensions option to a list `extensions=['svg','pdf']`."
   ]
  },
  {
   "cell_type": "code",
   "execution_count": null,
   "metadata": {},
   "outputs": [],
   "source": [
    "fig_for_saving = mpak.plot(pat_plot,name='for_saving',experimentname=\"Scenario1\");\n",
    "fig_for_saving.savefigs(extensions=['svg','pdf']) "
   ]
  },
  {
   "cell_type": "markdown",
   "metadata": {},
   "source": [
    ":::{index} single: Reports; Text  \n",
    ":::\n",
    "## The `.text()` class\n",
    "\n",
    "The `.text()` class is less complex than the `.plot()` and `.table()` procedures. It is mainly used implicitly in Reports, but can be declared as an object and used either in a report or on its own.\n",
    "\n",
    "The text class allows the user to define three different types of text: `.text_text` `.html_text` and `.latex_text`.  These properties are optional and can be declared explicitly or implicitly. \n",
    "\n",
    "\n",
    " |object|delimited by |contains|\n",
    " |------|---------|---|\n",
    " |.text_text| nothing |Plain text |\n",
    " |.html_text|\\<html> \\</html> |html text  |\n",
    " |.latex_text|\\<latex> \\</latex> |latex text |\n",
    "\n",
    "\n",
    "A text object can be declared in the same way as the .plot or table(), called in conjunction with a model object. In the example below we create an object mytext, and implicitly set the `.text_text` property to \"Some text\".  The html and latex properties are undeclared."
   ]
  },
  {
   "cell_type": "code",
   "execution_count": null,
   "metadata": {},
   "outputs": [],
   "source": [
    "mytext=mpak.text(\"Some text\")\n",
    "mytext.show"
   ]
  },
  {
   "cell_type": "markdown",
   "metadata": {},
   "source": [
    "In the example below a more complicated object is declared.\n",
    "\n",
    "Note this is a multiline text object, and that the plain text, html and latex properties are all declared implicitly with the html text demarcated by the `<html></html>` tokens and the latex text similarly demarcated by the <latex></latex> tokens.\n",
    "\n"
   ]
  },
  {
   "cell_type": "code",
   "execution_count": null,
   "metadata": {},
   "outputs": [],
   "source": [
    "multimodeText=mpak.text(r'''\n",
    "Example of plain output\n",
    "This is the plain contents of a multiline text \n",
    "object.\n",
    "<html><h1> Example of html output</h1>\n",
    "This is the <b>html content</b> of a multiline text<b>\n",
    "object.</b>\n",
    "</html>\n",
    "<latex>\n",
    "\\section*{Example of latex output}\n",
    "This is the \\textbf{latex content} of a  multiline text\n",
    "\\textbf{object} \n",
    "</latex>\n",
    "''')\n",
    "\n"
   ]
  },
  {
   "cell_type": "markdown",
   "metadata": {},
   "source": [
    "The three different kinds of text that can be included in a text object can be  extracted from the text object.\n"
   ]
  },
  {
   "cell_type": "code",
   "execution_count": null,
   "metadata": {},
   "outputs": [],
   "source": [
    "print(multimodeText.text_text)\n",
    "print(multimodeText.html_text)\n",
    "print(multimodeText.latex_text)"
   ]
  },
  {
   "cell_type": "markdown",
   "metadata": {},
   "source": [
    "### Renderings\n",
    "\n",
    "When rendered as text, the text object will ignore the html and latex portions. When rendered as html it will ignore the text and latex. The pdf rendering ignores text and html.\n",
    "\n",
    ":::{Admonition} Warning\n",
    "Because the text of the three internal components of the text object (plain text, html and latex} are independent of one another they can hold completely unrelated text.  While this might be useful in some contexts, in most, the three formulations should contain the same message even if the embellishments may differ somewhat given the capabilities of the rendering engine.\n",
    ":::\n",
    "\n",
    "### Html renderings\n",
    "\n",
    "Executing the text object directly from the command line will cause it to render as html. By the same token, the function `Display()` when called on a text object will render it as text.  NB: if there is no html object, the plain text version will be rendered."
   ]
  },
  {
   "cell_type": "code",
   "execution_count": null,
   "metadata": {
    "tags": [
     "remove-output"
    ]
   },
   "outputs": [],
   "source": [
    "multimodeText"
   ]
  },
  {
   "cell_type": "markdown",
   "metadata": {},
   "source": [
    ":::{image} multimodetext_html.png\n",
    "    :alt: Menu to start notebooks in subfolders\n",
    "    :class: bg-primary mb-1\n",
    "    :width: 70%\n",
    "    :align: center\n",
    "\n",
    ":::    "
   ]
  },
  {
   "cell_type": "code",
   "execution_count": null,
   "metadata": {
    "tags": [
     "remove-output"
    ]
   },
   "outputs": [],
   "source": [
    "display(multimodeText)"
   ]
  },
  {
   "cell_type": "markdown",
   "metadata": {},
   "source": [
    ":::{image} multimodetext_html.png\n",
    "    :alt: Menu to start notebooks in subfolders\n",
    "    :class: bg-primary mb-1\n",
    "    :width: 70%\n",
    "    :align: center\n",
    "\n",
    ":::    "
   ]
  },
  {
   "cell_type": "markdown",
   "metadata": {},
   "source": [
    "### Simple text rendering\n",
    "\n",
    "The `.show` method will render the object as plain text."
   ]
  },
  {
   "cell_type": "code",
   "execution_count": null,
   "metadata": {},
   "outputs": [],
   "source": [
    "multimodeText.show"
   ]
  },
  {
   "cell_type": "markdown",
   "metadata": {
    "tags": [
     "remove-output"
    ]
   },
   "source": [
    "### Pdf rendering\n",
    "\n",
    "Finally the `.pdf()` method will r4edner the object's latex contents rendered to a pdf file."
   ]
  },
  {
   "cell_type": "code",
   "execution_count": null,
   "metadata": {
    "tags": [
     "remove-output"
    ]
   },
   "outputs": [],
   "source": [
    "multimodeText.pdf()"
   ]
  },
  {
   "cell_type": "markdown",
   "metadata": {},
   "source": [
    ":::{image} multimodetext_pdf.png\n",
    "    :alt: Menu to start notebooks in subfolders\n",
    "    :class: bg-primary mb-1\n",
    "    :width: 80%\n",
    "    :align: center\n",
    "\n",
    ":::    "
   ]
  },
  {
   "cell_type": "markdown",
   "metadata": {},
   "source": [
    ":::{index} single: Reports; joining tables, plots and text by the + operator \n",
    ":::"
   ]
  },
  {
   "cell_type": "markdown",
   "metadata": {},
   "source": [
    "## Reports\n",
    "\n",
    "Joined tables and plots offer significant flexibility, but have limitations. In particular, joined tables must cover the same time-period, and tables cannot be joined with plots, while transposed tables cannot be joined with other tables.\n",
    "\n",
    "`Report`s in `ModelFlow` are containers that can contains figures, plots, tables of different dimension and text. Moreover, `Report` objects can be saved in a model object and regenerated on new data without requiring any additional effort by the user.\n",
    "\n",
    "### Creating a report\n",
    "\n",
    "A `report` can be generated by combining tables, plots, text and even other `report`s with the `+` operator. \n",
    "\n",
    "Below a small report is generated from two tables generated earlier in this chapter (`tab` and its transpose `tab_t` and a the plot object `fig`.\n"
   ]
  },
  {
   "cell_type": "code",
   "execution_count": null,
   "metadata": {},
   "outputs": [],
   "source": [
    "mpak.smpl(2020,2040)\n",
    "smallreport = (fig.set_options(samefig=True,name='fig_df',scenarios='base_last')+tab+tab_t).set_name('small report')\n"
   ]
  },
  {
   "cell_type": "markdown",
   "metadata": {},
   "source": [
    "The code instantiates a new report object called `smallreport`.  The objects included in the report are brought together by the `+` operator.  \n",
    "\n",
    "These include the previously defined object `fig`, whose options are adjusted with the `fig.set_options(samefig=True)` command.  This alters the resulting output such that the charts in the original fig are organized in a grid (`samefig=True`). The Report is completed by adding the previously defined  tables: ```tab``` with years as columns and, ```tab_t```with years as rows.\n",
    "\n",
    "The method `.set_name('small report')` gives the `report` a name, which identifies the container (and determines where its file outputs will be saved if a pdf version is generated). \n",
    "\n",
    ":::{admonition} Warning\n",
    "The report name will be used in a dictionary of reports to identify the report. As a result, users should ensure that each report has a unique name.  \n",
    ":::\n"
   ]
  },
  {
   "cell_type": "markdown",
   "metadata": {},
   "source": [
    "### Rendering a report\n",
    "\n",
    "Reports can be displayed using the same mechanisms as tables and plot.  Either by executing the name of the report itself, or with the command display(reportname), or with reportname.show or reportname.pdf.\n",
    "\n",
    "Below is the output from the `.show` method"
   ]
  },
  {
   "cell_type": "code",
   "execution_count": null,
   "metadata": {},
   "outputs": [],
   "source": [
    "smallreport.show "
   ]
  },
  {
   "cell_type": "markdown",
   "metadata": {},
   "source": [
    "The reportname alone or display(report) will render the report as html (suitable for Jupyter Notebooks or a computer screen.  The figure is rendered as an interactive widget the same as a normal figure."
   ]
  },
  {
   "cell_type": "code",
   "execution_count": null,
   "metadata": {
    "tags": [
     "remove-output"
    ]
   },
   "outputs": [],
   "source": [
    "display(smallreport)"
   ]
  },
  {
   "cell_type": "markdown",
   "metadata": {},
   "source": [
    ":::{image} smallreport_display.png\n",
    "    :alt: Menu to start notebooks in subfolders\n",
    "    :class: bg-primary mb-1\n",
    "    :width: 70%\n",
    "    :align: center\n",
    "\n",
    ":::    "
   ]
  },
  {
   "cell_type": "markdown",
   "metadata": {},
   "source": [
    "The PDF rendering will show each chart separately (like the .show command) or if the `samefig=True` option is selected (as is the case here) the charts will be organized in a grid."
   ]
  },
  {
   "cell_type": "code",
   "execution_count": null,
   "metadata": {
    "scrolled": true,
    "tags": [
     "remove-output"
    ]
   },
   "outputs": [],
   "source": [
    "smallreport.pdf()"
   ]
  },
  {
   "cell_type": "markdown",
   "metadata": {},
   "source": [
    ":::{image} smallreport_pdf.png\n",
    "    :alt: Menu to start notebooks in subfolders\n",
    "    :class: bg-primary mb-1\n",
    "    :width: 80%\n",
    "    :align: center\n",
    "\n",
    ":::    "
   ]
  },
  {
   "cell_type": "markdown",
   "metadata": {},
   "source": [
    "### A report with different text \n",
    "\n",
    "Unlike a table or a plot, a report can be customized by adding unlimited amounts of text.\n",
    "\n",
    "In the example below text is entered using three formats -- plain text, Latex, and html.\n",
    "\n",
    "Doing so in this way allows each rendering engine to do its best.  \n",
    "\n",
    "If separate text is not entered between the \\<html> and \\</html> tags or between \\<latex\\>\\</latex\\> tags then the html and pdf outputs will use the plain text inputs.\n",
    "\n",
    "If the text under html or latex tags differs from the plain text, the latex text will be used for pdfs and the html for html outputs.\n",
    "\n",
    "\n",
    "Below the same content as in the small report but with annotated with text.\n",
    "\n"
   ]
  },
  {
   "cell_type": "code",
   "execution_count": null,
   "metadata": {},
   "outputs": [],
   "source": [
    "textreport=(r'''\n",
    "Text version: Real GDP and household consumption growth under alternative Carbon taxation regimes.\n",
    "<latex>\n",
    "\\textbf{Latex version:} Real GDP and household consumption growth under alternative Carbon taxation regimes.\n",
    "</latex>\n",
    "<html>\n",
    "<h1>Html version:</h1>\n",
    "<h2> Real GDP and household consumption growth under alternative Carbon taxation regimes.</h2>\n",
    "</html>\n",
    "''' + \n",
    "fig.set_options(samefig=True)+\n",
    "r'''Real GDP and Expenditure components growth rates following a 1% of GDP injection of foreign investment in 2027\n",
    "<latex>\n",
    "\\textbf{Real GDP and Expenditure components growth rates following a 1\\% of GDP injection of foreign investment in 2027}\n",
    "</latex>\n",
    "<html>\n",
    "<h1>Real GDP and Expenditure components growth rates following a 1% of GDP injection of foreign investment in 2027</h1>\n",
    "</html>''' +        \n",
    "tab_t).set_name('report_with_text')"
   ]
  },
  {
   "cell_type": "markdown",
   "metadata": {},
   "source": [
    "When rendered as text, no special formatting of the text is done."
   ]
  },
  {
   "cell_type": "code",
   "execution_count": null,
   "metadata": {},
   "outputs": [],
   "source": [
    "textreport.show   "
   ]
  },
  {
   "cell_type": "markdown",
   "metadata": {},
   "source": [
    "When rendered as html, the html text is used and html formatting is rendered."
   ]
  },
  {
   "cell_type": "code",
   "execution_count": null,
   "metadata": {
    "scrolled": true,
    "tags": [
     "remove-output"
    ]
   },
   "outputs": [],
   "source": [
    "textreport"
   ]
  },
  {
   "cell_type": "markdown",
   "metadata": {},
   "source": [
    ":::{image} textreport_html.png\n",
    "    :alt: Menu to start notebooks in subfolders\n",
    "    :class: bg-primary mb-1\n",
    "    :width: 70%\n",
    "    :align: center\n",
    ":::"
   ]
  },
  {
   "cell_type": "markdown",
   "metadata": {},
   "source": [
    "Finally when rendered as a pdf, the pdf specific text and formatting is used."
   ]
  },
  {
   "cell_type": "code",
   "execution_count": null,
   "metadata": {
    "scrolled": true,
    "tags": [
     "remove-output"
    ]
   },
   "outputs": [],
   "source": [
    "textreport.pdf()   "
   ]
  },
  {
   "cell_type": "markdown",
   "metadata": {},
   "source": [
    ":::{image} textreport_pdf.png\n",
    "    :alt: Menu to start notebooks in subfolders\n",
    "    :class: bg-primary mb-1\n",
    "    :width: 80%\n",
    "    :align: center\n",
    ":::"
   ]
  },
  {
   "cell_type": "markdown",
   "metadata": {},
   "source": [
    "## Storing `.reports` definitions for later use\n",
    "\n",
    "The definitions of the different reports can be stored in the `.reports` dictionary that is part of the model object so they can be retrieved and used later. \n",
    "\n",
    "Notice it is the definition not the content of the table which is stored. So when applied later it is the values of the variables of that model object (notably the `.lastdf` and `.basedf` dataframes of the model object at that point in time that will be rendered.  \n",
    "\n",
    "The `.reports` dictionary is saved when the model is dumped with `.modeldump` and restored when the function `model.modelload()` is used to load a model. \n",
    "\n",
    ":::{admonition} Note\n",
    "A `table`, `plot` and `text` objects are each special cases of a `report` and can be stored as well.\n",
    ":::"
   ]
  },
  {
   "cell_type": "markdown",
   "metadata": {},
   "source": [
    "### The method `.add_report` adds a report  to the `.reports` dictionary. "
   ]
  },
  {
   "cell_type": "code",
   "execution_count": null,
   "metadata": {},
   "outputs": [],
   "source": [
    "mpak.add_report([tab_large,smallreport,textreport])"
   ]
  },
  {
   "cell_type": "code",
   "execution_count": null,
   "metadata": {},
   "outputs": [],
   "source": [
    "for key in mpak.reports:\n",
    "    print(key);"
   ]
  },
  {
   "cell_type": "markdown",
   "metadata": {},
   "source": [
    "### The `.get_report` method creates a report from a stored specification. \n",
    "\n",
    "A report can be retrieved from the model object and assigned to a variable.  Changes to that new report will not be stored unless explicitly saved."
   ]
  },
  {
   "cell_type": "code",
   "execution_count": null,
   "metadata": {},
   "outputs": [],
   "source": [
    "newreport=mpak.get_report('small_report').show  "
   ]
  },
  {
   "cell_type": "markdown",
   "metadata": {},
   "source": [
    "### Re-using a report on multiple simulation results\n",
    "\n",
    "In this example the small_report is populated with results from three different simulations and the results displayed (see the above listing for names of scenarios in the kept_scenarios dictionary).\n",
    "\n"
   ]
  },
  {
   "cell_type": "code",
   "execution_count": null,
   "metadata": {},
   "outputs": [],
   "source": [
    "mpak.basedf = mpak.keep_solutions['Baseline']\n",
    "mpak.lastdf = mpak.keep_solutions['1% of GDP increase in FDI and private investment (AF shock)']\n",
    "mpak.smpl(2025,2029);\n",
    "\n",
    "\n",
    "firstreport=mpak.get_report('small_report').set_name('firstreport').show\n"
   ]
  },
  {
   "cell_type": "code",
   "execution_count": null,
   "metadata": {},
   "outputs": [],
   "source": [
    "mpak.basedf = mpak.keep_solutions['Baseline']\n",
    "mpak.lastdf = mpak.keep_solutions['$25 increase in oil prices 2025-27']\n",
    "mpak.smpl(2025,2029);\n",
    "secondreport=mpak.get_report('small_report').set_name('secondreport').show  "
   ]
  },
  {
   "cell_type": "code",
   "execution_count": null,
   "metadata": {},
   "outputs": [],
   "source": [
    "mpak.basedf = mpak.keep_solutions['Baseline']\n",
    "mpak.lastdf = mpak.keep_solutions['2.5% increase in C 2025-27 -- exog whole period --KG=True']\n",
    "mpak.smpl(2025,2029);\n",
    "thirdreport=mpak.get_report('small_report').set_name('thirdreport').show  "
   ]
  },
  {
   "cell_type": "markdown",
   "metadata": {},
   "source": [
    "### Reports are stored in `.pcim` files, and restored when a model is loaded\n",
    "\n",
    "Once a report has been added to the model object it will be saved with the model object. \n",
    "\n",
    "Below we save the current state of `mpak`, inclusive of the reports that were added to the model object.\n",
    "So first dump the model and data: "
   ]
  },
  {
   "cell_type": "code",
   "execution_count": null,
   "metadata": {},
   "outputs": [],
   "source": [
    "mpak.modeldump('testpak',keep=True)"
   ]
  },
  {
   "cell_type": "markdown",
   "metadata": {},
   "source": [
    "Next a new model object is declared tempmodel, and the state and data from the saved mpak are read into that object.  "
   ]
  },
  {
   "cell_type": "code",
   "execution_count": null,
   "metadata": {},
   "outputs": [],
   "source": [
    "xpak,baseline = model.modelload('testpak',run=True  )"
   ]
  },
  {
   "cell_type": "markdown",
   "metadata": {},
   "source": [
    "Next the `.basedf` and `.lastdf` dataframes are set equal to the data frames from the kept Baseline and investment shock scenarios."
   ]
  },
  {
   "cell_type": "code",
   "execution_count": null,
   "metadata": {},
   "outputs": [],
   "source": [
    "xpak.basedf = xpak.keep_solutions['Baseline']\n",
    "xpak.lastdf = xpak.keep_solutions['1% of GDP increase in FDI and private investment (AF shock)']"
   ]
  },
  {
   "cell_type": "markdown",
   "metadata": {},
   "source": [
    "With that, the reports can be run (and should show precisely the same results)."
   ]
  },
  {
   "cell_type": "code",
   "execution_count": null,
   "metadata": {
    "scrolled": false
   },
   "outputs": [],
   "source": [
    "trep=xpak.get_report('report_with_text')\n",
    "trep.show"
   ]
  },
  {
   "cell_type": "markdown",
   "metadata": {},
   "source": [
    ":::{index} model instance[]; rtable, Report table from selection\n",
    ":::\n",
    "\n",
    ":::{index} model instance[]; rplot, Report plots from selection\n",
    ":::\n",
    "\n",
    ":::{index} single: Reports; Table from selection\n",
    ":::\n",
    "\n",
    ":::{index} single: Reports; Plots from selection\n",
    ":::\n",
    "\n",
    "## [].rtable and [].rplot - reports from []\n",
    "Report tables and plots can also be created directly from the variable selector `[]`. The purpose is to enable easy reuse of variable selection like this. "
   ]
  },
  {
   "cell_type": "code",
   "execution_count": null,
   "metadata": {},
   "outputs": [],
   "source": [
    "mpak['PAKNYGDPMKTPKN PAKNECONPRVTKN'].growth.rename().plot();"
   ]
  },
  {
   "cell_type": "markdown",
   "metadata": {},
   "source": [
    "To a plot like this: "
   ]
  },
  {
   "cell_type": "code",
   "execution_count": null,
   "metadata": {},
   "outputs": [],
   "source": [
    "mpak['PAKNYGDPMKTPKN PAKNECONPRVTKN'].rplot(samefig=1).show "
   ]
  },
  {
   "cell_type": "markdown",
   "metadata": {},
   "source": [
    "Or a table like this: "
   ]
  },
  {
   "cell_type": "code",
   "execution_count": null,
   "metadata": {},
   "outputs": [],
   "source": [
    "mpak['PAKNYGDPMKTPKN PAKNECONPRVTKN'].rtable(samefig=1).show "
   ]
  },
  {
   "cell_type": "markdown",
   "metadata": {},
   "source": [
    "The  [].rtable and [].rplot are just wrappers around the `model instance.plot` and \n",
    "`model instance.table` so the arguments - except the variable selection - are the same, \n",
    "and the returne values can be used just the returned values of `model instance.plot` and \n",
    "`model instance.table`. So `+` and `|` can also be used. "
   ]
  },
  {
   "cell_type": "code",
   "execution_count": null,
   "metadata": {},
   "outputs": [],
   "source": [
    "(mpak.text('Growth in {cty_name}') + \n",
    "mpak['PAKNYGDPMKTPKN PAKNECONPRVTKN'].rplot(samefig=1) + \n",
    "mpak['PAKNYGDPMKTPKN PAKNECONPRVTKN'].rtable()).show"
   ]
  },
  {
   "cell_type": "markdown",
   "metadata": {},
   "source": [
    "## Some other supported outputs\n",
    "\n",
    "Below are an illustration of some charts and table features not discussed above, which  may be of interest in some contexts:\n",
    "\n"
   ]
  },
  {
   "cell_type": "markdown",
   "metadata": {},
   "source": [
    "###  Heatmaps\n",
    "\n",
    "For some model types heatmaps can be helpful, and they come out of the box. "
   ]
  },
  {
   "cell_type": "code",
   "execution_count": null,
   "metadata": {
    "scrolled": true
   },
   "outputs": [],
   "source": [
    "with mpak.set_smpl(2020,2030):\n",
    "    mpak['PAKNYGDPMKTPKN PAKNECONPRVTKN'].pct.rename().heat(title='Growth rates',annot=True,dec=1,size=(10,3))  "
   ]
  }
 ],
 "metadata": {
  "celltoolbar": "Tags",
  "hide_input": false,
  "kernelspec": {
   "display_name": "Python 3 (ipykernel)",
   "language": "python",
   "name": "python3"
  },
  "language_info": {
   "codemirror_mode": {
    "name": "ipython",
    "version": 3
   },
   "file_extension": ".py",
   "mimetype": "text/x-python",
   "name": "python",
   "nbconvert_exporter": "python",
   "pygments_lexer": "ipython3",
   "version": "3.12.8"
  },
  "nbTranslate": {
   "displayLangs": [
    "*"
   ],
   "hotkey": "alt-t",
   "langInMainMenu": true,
   "sourceLang": "en",
   "targetLang": "fr",
   "useGoogleTranslate": true
  },
  "toc": {
   "base_numbering": 1,
   "nav_menu": {},
   "number_sections": true,
   "sideBar": true,
   "skip_h1_title": false,
   "title_cell": "Table of Contents",
   "title_sidebar": "Contents",
   "toc_cell": false,
   "toc_position": {
    "height": "968.75px",
    "left": "1875px",
    "top": "111px",
    "width": "249.631px"
   },
   "toc_section_display": true,
   "toc_window_display": true
  },
  "varInspector": {
   "cols": {
    "lenName": 16,
    "lenType": 16,
    "lenVar": 40
   },
   "kernels_config": {
    "python": {
     "delete_cmd_postfix": "",
     "delete_cmd_prefix": "del ",
     "library": "var_list.py",
     "varRefreshCmd": "print(var_dic_list())"
    },
    "r": {
     "delete_cmd_postfix": ") ",
     "delete_cmd_prefix": "rm(",
     "library": "var_list.r",
     "varRefreshCmd": "cat(var_dic_list()) "
    }
   },
   "oldHeight": 332.844,
   "position": {
    "height": "40px",
    "left": "1425.78px",
    "right": "20px",
    "top": "127px",
    "width": "800px"
   },
   "types_to_exclude": [
    "module",
    "function",
    "builtin_function_or_method",
    "instance",
    "_Feature"
   ],
   "varInspector_section_display": "none",
   "window_display": false
  }
 },
 "nbformat": 4,
 "nbformat_minor": 4
}
