{
 "cells": [
  {
   "cell_type": "markdown",
   "metadata": {},
   "source": [
    ":::{index} ModelFlow Prepare your workspace\n",
    ":::\n",
    "\n",
    ":::{index} Preparing your workspace\n",
    ":::"
   ]
  },
  {
   "cell_type": "code",
   "execution_count": null,
   "metadata": {
    "tags": [
     "remove_cell"
    ]
   },
   "outputs": [],
   "source": [
    "#This is code to manage dependencies if the notebook is executed in the google colab cloud service\n",
    "if 'google.colab' in str(get_ipython()):\n",
    "  import os\n",
    "  os.system('apt -qqq install graphviz')\n",
    "  os.system('pip -qqq install ModelFlowIb   ')\n"
   ]
  },
  {
   "cell_type": "markdown",
   "metadata": {},
   "source": [
    "# Working with a World Bank Model under ModelFlow\n",
    "\n",
    "\n",
    "The basic method for working with any model is the same. Indeed the initial steps followed here are the same as were followed during the preceding discussions of `ModelFlow` features.\n",
    "\n",
    "Process:\n",
    "1. Prepare the workspace\n",
    "1. Load the model ModelFlow\n",
    "2. Design some scenarios  \n",
    "3. Simulate the model\n",
    "4. Visualize the results \n",
    "\n",
    "## Prepare the work space\n",
    "\n",
    "To use `ModelFlow` it must be installed as per the instructions in Chapter 3 (a one-time operation). The  the python environment into which `ModelFlow` was installed must be activated.  For users that installed `ModelFlow` according to the earlier instructions this can be achieved by executing `conda activate ModelFlow` in line with earlier instructions.\n",
    "\n",
    "Once the python environment is activated, the `ModelFlow` and `pandas` packages must be imported into your workspace. Once this is done (accomplished by the code below), the user is ready to work with `ModelFlow`. "
   ]
  },
  {
   "cell_type": "markdown",
   "metadata": {},
   "source": [
    ":::{admonition} In this chapter - Working with a World Bank Model under ModelFlow\n",
    ":class: tip\n",
    "\n",
    "This chapter provides practical guidance on using World Bank models within the ModelFlow framework. \n",
    "\n",
    "Key points include:\n",
    "\n",
    "- **Setup and Preparation**:\n",
    "  - Prepare the workspace by setting up the Python environment.\n",
    "  - Load the model, associated data, and variable descriptions.\n",
    "\n",
    "- **Model Exploration**:\n",
    "  - Extract information about the model, including:\n",
    "      - its equations\n",
    "      - its variables\n",
    "      - its structure\n",
    "      - its data\n",
    "  - Organize variables into groups for streamlined exploration and analysis.\n",
    "\n",
    "- **Key Methods**:\n",
    "  - Use ModelFlow’s built-in functions to query, modify, and analyze data.\n",
    "  - Explore relationships between variables and their role in the model.\n",
    "\n",
    "\n",
    "\n",
    "\n",
    ":::\n"
   ]
  },
  {
   "cell_type": "code",
   "execution_count": null,
   "metadata": {
    "tags": [
     "remove-output"
    ]
   },
   "outputs": [],
   "source": [
    "# Prepare the notebook for use of ModelFlow \n",
    "\n",
    "# Jupyter magic command to improve the display of charts in the Notebook\n",
    "%matplotlib inline\n",
    "\n",
    "# Import pandas \n",
    "import pandas as pd\n",
    "\n",
    "# Import the model class from the modelclass module \n",
    "from modelclass import model \n",
    "\n",
    "# functions that improve rendering of ModelFlow outputs\n",
    "model.widescreen()\n",
    "model.scroll_off();"
   ]
  },
  {
   "cell_type": "markdown",
   "metadata": {},
   "source": [
    ":::{index} ModelFlow; Load model from file\n",
    ":::"
   ]
  },
  {
   "cell_type": "markdown",
   "metadata": {},
   "source": [
    "## Load the model: Load a pre-existing model, data and descriptions \n",
    "\n",
    "To load a model use the ```model.modelload()``` method of ```ModelFlow```. In the example below, the model has been saved to the models folder located one level above the directory from which the `Jupyter Notebook` has been executed (but within the scope of `Jupyter` itself, i.e. below the directory from which the `Jupyter` system was launched.\n",
    "\n",
    "\n",
    "### The `.modelload()` method\n",
    "\n",
    "The command below\n",
    "\n",
    "```\n",
    "mpak,bline = model.modelload('../models/pak.pcim', alfa=0.7,run=1,keep= 'Baseline')\n",
    "```\n",
    " \n",
    "instantiates (creates an instance of) a `ModelFlow model` object using the model object (equiations and data) contained in the file `pak.pcim` and assigns it to the variable name `mpak`.\n",
    "\n",
    "The ```run=1``` option executes the model and assigns the result of the model execution to the `DataFrame` ```bline```.  \n",
    "\n",
    "The model is solved with the parameter alfa set to 0.7.  The $alfa \\in (0,1)$ parameter determines the step size of the solution engine. The larger alfa the larger the step size. Larger step sizes solve faster, but may have trouble finding a unique solution.  Smaller step sizes take longer to solve but are more likely to find a unique solution.  Values of alfa=.7 work well for World Bank models.\n",
    "\n",
    "The ```keep``` option instructs ```ModelFlow``` to maintain in the model object (```mpak```) the results of the initial scenario, assigning it the text name ```Baseline```.   As written, `modelload` returns both the model object `mpak`, but also a `DataFrame` ```bline``` that is assigned the results of the simulation.  This `DataFrame` is distinct from the one that is stored inside the `mpak` model object by the ```keep=``` command, although the data inside each of these `DataFrame`s will have the same numerical values. The `keep` option is described in more detail in the following chapter on scenarios.\n",
    "\n",
    ":::{warning}\n",
    "If `ModelFlow` cannot find the file at the position indicated it will look for it in the global Model repository on line.\n",
    "\n",
    "Upon return, the `modelload` command indicates the location from which the model was retrieved.  In this case, from the requested local file store.\n",
    ":::\n"
   ]
  },
  {
   "cell_type": "code",
   "execution_count": null,
   "metadata": {},
   "outputs": [],
   "source": [
    "#Replace the path below with the location of the pak.pcim file (or some other world bank model file) on your computer\n",
    "mpak,bline = model.modelload('../models/pak.pcim', \\\n",
    "                                alfa=0.7,run=1,keep= 'Baseline')\n",
    "\n"
   ]
  },
  {
   "cell_type": "raw",
   "metadata": {},
   "source": [
    ":::{index} model instance;  Extract information about the model\n",
    ":::"
   ]
  },
  {
   "cell_type": "markdown",
   "metadata": {},
   "source": [
    "### Extracting information about the model\n",
    "\n",
    "The newly loaded python object  `mpak` is an instance of the model class and as such inherits the `methods` (functions) and `properties` (data) of that class. To learn about the model there are a variety of methods that can be used to extract information about the model and its data.\n",
    "\n",
    "A World Bank model in `ModelFlow` contains a wide range of objects.\n",
    "\n",
    "* variables  -- time series variables comprised of mnemonics and data\n",
    "* dataframes -- data for each variable generated in  different simulations \n",
    "* groups     -- lists of variables\n",
    "* equations  -- identities and behaviorals\n",
    "* model      -- the model object itself\n",
    "\n",
    "Extracting information about each of these objects is central to working with WBG models in `ModelFlow`."
   ]
  },
  {
   "cell_type": "markdown",
   "metadata": {},
   "source": [
    "\n",
    "The model object contains information about the model itself, its name, its structure (does it contain simultaneous equations or is it recursive), the number of variables it contains and the number that are exogenous and endogenous (have associated equations). Executing the unadorned name of a model object, i.e. `mpak` displays summary information about the model object.\n",
    "\n"
   ]
  },
  {
   "cell_type": "code",
   "execution_count": null,
   "metadata": {
    "scrolled": true
   },
   "outputs": [],
   "source": [
    "mpak"
   ]
  },
  {
   "cell_type": "markdown",
   "metadata": {},
   "source": [
    "The model work space also has a time dimension, its sample period.  This can be retrieved and changed.\n"
   ]
  },
  {
   "cell_type": "code",
   "execution_count": null,
   "metadata": {},
   "outputs": [],
   "source": [
    "mpak.current_per\n"
   ]
  },
  {
   "cell_type": "markdown",
   "metadata": {
    "tags": [
     "hide-cell"
    ]
   },
   "source": [
    ":::{index} double: model instance; Information about model variables\n",
    ":::\n",
    "\n",
    ":::{index} Variable selection; Wildcards  \n",
    ":::"
   ]
  },
  {
   "cell_type": "markdown",
   "metadata": {},
   "source": [
    "Here the model is currently set up to solve over the period 2016 through 2030.  That period can be changed assuming, as is the case with the Pakistan model, that additional data are available.\n",
    "\n",
    "### Information about variables \n",
    "\n",
    "The model object `mpak` contains lists of all the variables that form part of the model, and these lists can be interrogated to garner information about the model.  The Table below indicates some of the most important of these queries.  The variables for which information is sought can be specified directly or through a wildcard specification (see note).  \n",
    "\n",
    "\n",
    "|Method | Example|Information returned |\n",
    "|:--|:--|:--|\n",
    "|`.names`|`mpak ['PAKNECON*XN] .name`| A python list of the mnemonics of all the variables defined and contained in the model object that match the search paremers in the `[]`|\n",
    "|`.des`|`mpak ['PAKNECONPRVT?N'] .des` | A dictionary of mnemonics and their variable descriptions |\n",
    "|`.<var name>.show`|`mpak.PAKNECONPRVTXN.show` | Lists the equation (formula), variable descriptions and data  values of a specific variable |\n",
    "\n",
    "\n",
    ":::{index} double: Wildcard; variable names\n",
    "::: \n",
    "    \n",
    ":::{note}\n",
    "**Wildcards**\n",
    "\n",
    "Most of the variable and equation information commands accept wildcard specifications in the search parameter.\n",
    "\n",
    "The `*` character in the command ```mpak['PAKNECON*XN'].names``` example is a `wildcard` character and the expression will return all variables that begin PAKNECON and end XN.  \n",
    "\n",
    "The `?` in the `.des` example is another wildcard expression. It will match only single characters.  Thus ```mpak['PAKNECONPRVT?N'].names```  would return three variables: ```PAKNECONPRVTKN```, ```PAKNECONPRVTXN```, and ```PAKNECONPRVTXN```.  The real, current value, and deflators for household consumption expenditure.\n",
    "\n",
    "Note the final show example uses a slightly different syntax where the variable to be operated upon is specified directly: `modelname.PAKNECONPRVTXN.show`. \n",
    "\n",
    ":::\n",
    "\n",
    "The example below returns the mnemonics and descriptions of all variables matching the pattern `PAKNYGDP*KN`, i.e. Pakistani variables (PAK) from the National Income Accounts (NY) from the main sub-category GDP that are also real (K) expressed in local currency units (N) variables."
   ]
  },
  {
   "cell_type": "code",
   "execution_count": null,
   "metadata": {
    "tags": [
     "remove-cell"
    ]
   },
   "outputs": [],
   "source": [
    "%%html\n",
    "<style>\n",
    "#varinfotable + table {\n",
    "    color:#000000;\n",
    "    width:90%; \n",
    "    border-collapse: collapse;\n",
    "        \n",
    "        \n",
    "        \n",
    "    font-family: Geneva, sans-serif;\n",
    "}\n",
    "#varinfotable + table th:nth-child(1) {\n",
    "  width: 10%;\n",
    "}\n",
    "#varinfotable + table th:nth-child(2) {\n",
    "  width: 30%\n",
    "}\n",
    "#varinfotable + table th:nth-child(3) {\n",
    "  width: 60%\n",
    "}  \n",
    "</style>"
   ]
  },
  {
   "cell_type": "markdown",
   "metadata": {},
   "source": [
    ":::{only} latex\n",
    "latexcommand \\newpage\n",
    ":::\n",
    "\n",
    ":::{index} single: Boxes; Box   3.  World Bank Mnemonics\n",
    ":::\n",
    "\n",
    ":::{admonition} Box 3.  World Bank Mnemonics\n",
    "\n",
    "A typical World Bank model will have in excess of 300 variables.  Each has a mnemonic typically comprised of 14 characters that is structured in a specific way, The root for almost all variables is the three letters of the ISO code for the country to which the variable pertains.   Other letters describe the variable in ever finer detail (see below).\n",
    "  \n",
    "  \n",
    "$$\\texttt{12345678901234}$$\n",
    "$$\\color{green}{\\texttt{CCC}}\\color{red}{\\texttt{AA}}\\color{lime}{\\texttt{MMM}}\\color{blue}{\\texttt{NNNN}}\\color{magenta}{\\texttt{U}}\\color{black}{\\texttt{C}}$$\n",
    "    \n",
    "where:\n",
    "\n",
    "| Letters| Meaning |\n",
    "|:---:|:---|\n",
    "| $\\color{green}{\\texttt{CCC}}$ | The three-leter ISO code for a country -- i.e. IDN for Indonesia, RUS for Russia | \n",
    "| $\\color{red}{\\texttt{AA}}$ | The two-letter major accounting system to which the variable attaches (see following Table for more info) | \n",
    "| $\\color{lime}{\\texttt{MMM}}$ |The three-letter major sub-category of the data -  i.e. GDP, EXP - expenditure | \n",
    "|$\\color{blue}{\\texttt{NNNN}}$ | The four-letter minor sub-category  MKTP for market prices |\n",
    "| $\\color{magenta}{\\texttt{U}}$ | The measure  (K: real variable;C: Current Values; X: Prices)|\n",
    "|$\\color{black}{\\texttt{C}}$ | denotes the Currency (N: National currency; D: USD; P: PPP)|\n",
    "\n",
    "Common major accounting systems mnemonics: \n",
    "\n",
    "The, $\\color{red}{\\texttt{AA}}$s from above include:\n",
    "\n",
    "| Code | Meaning |\n",
    "|:--:|:--|\n",
    "| NY | National income |\n",
    "| NE | National expenditure Accounts|\n",
    "| NV | Value added accounts |\n",
    "| GG | General Government Accounts|\n",
    "| BX | Balance of Payments: Exports |\n",
    "| BM | Balance of Payments: Imports |\n",
    "| BN | Balance of Payments: Net |\n",
    "| BF | Balance of Payments: Financial Account |\n",
    "\n",
    "**Less common terminations:**\n",
    "Occasionally you will see variables with and '\\_' appended to the name.  This indicates that the variable is being expressed as a percent of something (usually GDP).  Thus PAKBNCABFUNDCD_ means Pakistan (PAK) Balance of Payments, net  (BN) of the Current Account (CAB) IMF definition (FUND) in Current (C) Dollars (D) expressed as a percent of GDP.\n",
    "\n",
    "Others less common terminations include ER (Effective rate) and (SR) Statutory rate used to denote the average tax rate (ER) of a tax versus the legal rate (SR).\n",
    "\n",
    "Thus:\n",
    "\n",
    "| Mnemonic | Meaning |\n",
    "|:--:|:---|\n",
    "|IDNNYGDPMKTPKN| Indonesia GDP at market prices, real in Indonesian Rupiah|\n",
    "|KENNECPNPRVTXN| Kenya Private (household) consumption expenditure schillings deflator |\n",
    "|BOLGGEXPGNFSCN| Bolivia Government Expenditure on Goods and services (GNFS) in current Bolivars|\n",
    "|HRVGGREVDCITCN| Croatia Government Revenues Direct Corporate Income Taxes in current Euros|\n",
    "|NPLBXGSRNFSVCD| Nepal BOP Exports of non-factor services (goods and services) in current USD|\n",
    ":::\n",
    "\n"
   ]
  },
  {
   "cell_type": "markdown",
   "metadata": {},
   "source": [
    "If executed, the command `mpak['*'].des` would return a dictionary of all the mnemonics and descriptions of all the variables in the `mpak` model object.\n",
    "\n",
    "The below command is more restrictive and returns only the variables that start `PAKNYGDP` and `KN`."
   ]
  },
  {
   "cell_type": "code",
   "execution_count": null,
   "metadata": {},
   "outputs": [],
   "source": [
    "mpak['PAKNYGDP*KN'].des"
   ]
  },
  {
   "cell_type": "markdown",
   "metadata": {},
   "source": [
    ":::{index} Variable selection; ! Variable descriptions  \n",
    ":::"
   ]
  },
  {
   "cell_type": "markdown",
   "metadata": {},
   "source": [
    "#### The `!` operator -- searching on the variable description\n",
    "\n",
    "The `!` operator allows the same methods to be used to retrieve information about variables, but based on their descriptions. Pre-pending the search string with the  `!` operator, tells it to try and match (and display) information about variables based on their descriptions not their mnemonics.\n",
    "\n",
    ":::{note}\n",
    "**The ! operator**\n",
    "If a wildcard is preceded by an exclamation mark **!** the search will be done over the description of variables instead of the mnemonic\n",
    ":::\n",
    "\n",
    "The below expression returns the mnemonics of all variables whose description includes the word Carbon. "
   ]
  },
  {
   "cell_type": "code",
   "execution_count": null,
   "metadata": {},
   "outputs": [],
   "source": [
    "mpak['!*Carbon*'].names"
   ]
  },
  {
   "cell_type": "markdown",
   "metadata": {},
   "source": [
    "The following expression returns the mnemonics and descriptions of the same variables."
   ]
  },
  {
   "cell_type": "code",
   "execution_count": null,
   "metadata": {},
   "outputs": [],
   "source": [
    "mpak['!*Carbon*'].des"
   ]
  },
  {
   "cell_type": "markdown",
   "metadata": {},
   "source": [
    "The following expression returns the descriptions of a specific variable."
   ]
  },
  {
   "cell_type": "code",
   "execution_count": null,
   "metadata": {},
   "outputs": [],
   "source": [
    "mpak.var_description['PAKGGREVCO2OER']"
   ]
  },
  {
   "cell_type": "markdown",
   "metadata": {},
   "source": [
    ":::{index} model instance; Groups\n",
    ":::"
   ]
  },
  {
   "cell_type": "markdown",
   "metadata": {},
   "source": [
    "## Groups\n",
    "\n",
    "`ModelFlow` incorporates a variant of the idea of groups from `EViews`.  In `ModelFlow` the groups defined in an imported `EViews` workfile are converted into entries in a dictionary called `var_groups` which can be interrogated, added to and amended like any dictionary in `python`.\n",
    "\n",
    "The command\n",
    "`mpak.var_groups` will return all of the groups already defined in mpak.\n"
   ]
  },
  {
   "cell_type": "code",
   "execution_count": null,
   "metadata": {
    "scrolled": true
   },
   "outputs": [],
   "source": [
    "mpak.var_groups"
   ]
  },
  {
   "cell_type": "markdown",
   "metadata": {},
   "source": [
    ":::{index} model instance; Add a group\n",
    ":::\n",
    ":::{index} Add a group\n",
    ":::\n",
    ":::{index} Groups; Add a group of variables \n",
    ":::"
   ]
  },
  {
   "cell_type": "markdown",
   "metadata": {},
   "source": [
    "A group can be added to the dictionary by giving it a unique identifier (key) and associating with it a string defining the group, using a wildcard specification or just a space de-limited list of mnemonics.\n",
    "\n",
    "Thus the first command below will generate a new group called 'MyGroup' that contains all variables beginning PAKGGREV and ending CN, plus the variable PAKGGBALOVRLCN to the dictionary var_groups that is part of the model object `mpak`. The second creates a group called LaborMarket which contains the variables for Employment and the Unemployment rate.\n",
    "\n"
   ]
  },
  {
   "cell_type": "code",
   "execution_count": null,
   "metadata": {},
   "outputs": [],
   "source": [
    "mpak.var_groups['MyGroup']='PAKGGREV*CN PAKGGBALOVRLCN'\n",
    "mpak.var_groups['LaborMarket']='PAKLMEMPTOTLCN PAKLMUNRTOTLCN'\n"
   ]
  },
  {
   "cell_type": "markdown",
   "metadata": {},
   "source": [
    ":::{index} # operator; Instructs the search algorthim to restrict itself to groups\n",
    ":::\n",
    ":::{index} Groups; The # operator instructs search to restrict itself to groups \n",
    ":::\n",
    "### The `#` operator -- searching on the variable description\n",
    "\n",
    "The `#` operator allows the same methods to be used to retrieve information about groups. Pre-pending the search string with the  `#` operator, tells it to try and match (and display) information about the variables in groups that match the search expression following the #.\n",
    "\n",
    ":::{note}\n",
    "**The # operator**\n",
    "If a wildcard is preceded by an exclamation mark **#** the search will be done over the groups in the model object and will return information about the members of the returned groups \n",
    ":::\n",
    "\n",
    "The below expression returns the mnemonics of all variables that are a member of the MyGroup Group. "
   ]
  },
  {
   "cell_type": "markdown",
   "metadata": {},
   "source": [
    ":::{index} model instance; Groups - list variables in group\n",
    ":::\n",
    ":::{index} Groups; List variables in group\n",
    ":::\n",
    ":::{index} List variables in group\n",
    ":::"
   ]
  },
  {
   "cell_type": "code",
   "execution_count": null,
   "metadata": {
    "scrolled": true
   },
   "outputs": [],
   "source": [
    "mpak['#MyGroup'].names"
   ]
  },
  {
   "cell_type": "markdown",
   "metadata": {},
   "source": [
    ":::{index} Wildcard selection of data\n",
    ":::\n",
    ":::{index} Variable selection; # Variable groups   \n",
    ":::"
   ]
  },
  {
   "cell_type": "markdown",
   "metadata": {},
   "source": [
    "### Information about the data of series in a group"
   ]
  },
  {
   "cell_type": "markdown",
   "metadata": {
    "slideshow": {
     "slide_type": "fragment"
    }
   },
   "source": [
    "The unadorned command `mpak[#MyGroups]` invokes a widget that shows all of the data in the group `MyGroup` and various representations (level and growth rates) both as tables and charts."
   ]
  },
  {
   "cell_type": "code",
   "execution_count": null,
   "metadata": {
    "slideshow": {
     "slide_type": "fragment"
    },
    "tags": [
     "remove-output"
    ]
   },
   "outputs": [],
   "source": [
    "mpak['#MyGroup']"
   ]
  },
  {
   "cell_type": "markdown",
   "metadata": {},
   "source": [
    ":::{image} LoadingWBModel_group_out.PNG\n",
    "    :alt: group output widget \n",
    "    :class: bg-primary mb-1\n",
    "    :width: 100%\n",
    "    :align: center\n",
    "\n",
    ":::    "
   ]
  },
  {
   "cell_type": "markdown",
   "metadata": {},
   "source": [
    "Alternatively just the graphs and or tables can be returned, by appending the `.df` method (tables) or `.plot()` methods (charts).  Modifying the command further by including the `.pct` command  would display the data as growth rates."
   ]
  },
  {
   "cell_type": "markdown",
   "metadata": {},
   "source": [
    ":::{index} ModelFlow - wildcard selection of data - return dataframe\n",
    ":::\n",
    ":::{index} Variable selection; ! Variable descriptions  \n",
    ":::"
   ]
  },
  {
   "cell_type": "code",
   "execution_count": null,
   "metadata": {},
   "outputs": [],
   "source": [
    "mpak['#MyGroup'].df\n"
   ]
  },
  {
   "cell_type": "markdown",
   "metadata": {},
   "source": [
    "Below the command has been placed inside a `with mpak.set_smpl()` clause to restrict the output to a shorter period.  If it was not used the output would cover the whole time period of the `.lastdf` DataFrame from which all of this data is drawn. In addition the round command is used to restrict the number of decimal places shown.  \n",
    "\n",
    ":::{note}\n",
    "When using a `with` clause, an explicit print statement is required. \n",
    ":::"
   ]
  },
  {
   "cell_type": "markdown",
   "metadata": {},
   "source": [
    ":::{index} with .set_smpl(); Restrict the time period\n",
    ":::\n",
    ":::{index} Restrict the time period of displayed output\n",
    ":::"
   ]
  },
  {
   "cell_type": "markdown",
   "metadata": {},
   "source": [
    ":::{index} Data display - format output\n",
    ":::\n",
    ":::{index} Data formatting, decimal points\n",
    ":::"
   ]
  },
  {
   "cell_type": "markdown",
   "metadata": {},
   "source": [
    "Below the same logic is used to display the data from variables matching a mnemonic search.  The results have been placed inside a `with mpak.set_smpl()` clause to restrict the output to a shorter period.  If it was not used the output would cover the whole time period of the `.lastdf  DataFrame` from which all of these data are drawn.  \n",
    "\n",
    ":::{note}\n",
    "When using a `with` clause, an explicit print statement is required. \n",
    ":::"
   ]
  },
  {
   "cell_type": "code",
   "execution_count": null,
   "metadata": {},
   "outputs": [],
   "source": [
    "with mpak.set_smpl(2020,2025):\n",
    "    print(round(mpak['#MyGroup'].pct.df,2)) # round restricts the display to 2 decimal points"
   ]
  },
  {
   "cell_type": "markdown",
   "metadata": {},
   "source": [
    "When displaying a dataframe or a manipulation of a dataframe in cases where the output might include very many lines of output, Jupyter will, by default, truncate the output by showing the first and last five observations of the active sample period when the same call is  made without the with clause."
   ]
  },
  {
   "cell_type": "code",
   "execution_count": null,
   "metadata": {},
   "outputs": [],
   "source": [
    "mpak.smpl(2000,2100)  # change the default view to cover 100 observations\n",
    "round(mpak['#MyGroup'].pct.df,2)  #Jupyter will truncate the output"
   ]
  },
  {
   "cell_type": "markdown",
   "metadata": {},
   "source": [
    ":::{index} model instance; wildcard selection of data - return plot \n",
    ":::\n",
    ":::{index} Plot data from  wildcard search of data\n",
    ":::"
   ]
  },
  {
   "cell_type": "markdown",
   "metadata": {},
   "source": [
    "### Display data from a group graphically"
   ]
  },
  {
   "cell_type": "code",
   "execution_count": null,
   "metadata": {},
   "outputs": [],
   "source": [
    "mpak['#MyGroup'].pct.plot(title=\"Plot of Mygroup\\ngrowth rates\");\n"
   ]
  },
  {
   "cell_type": "markdown",
   "metadata": {},
   "source": [
    ":::{index} single: model instance[]; .frml \n",
    ":::\n",
    ":::{index} single: Return normalized formula of equations\n",
    ":::"
   ]
  },
  {
   "cell_type": "markdown",
   "metadata": {},
   "source": [
    ":::{index} model instance; information about equations\n",
    ":::\n"
   ]
  },
  {
   "cell_type": "markdown",
   "metadata": {
    "cell_style": "center"
   },
   "source": [
    "## Information about equations\n",
    "\n",
    "Information about specific equations can also be extracted and displayed."
   ]
  },
  {
   "cell_type": "markdown",
   "metadata": {},
   "source": [
    ":::{index} single: model instance; .endogene property\n",
    ":::"
   ]
  },
  {
   "cell_type": "markdown",
   "metadata": {
    "cell_style": "center"
   },
   "source": [
    "###  The `endogene` property\n",
    "\n",
    "The  `endogene` property returns a list of all variables in the model that are endogenous (have an equation). It can also be used to test whether a specific mnemonic has an equation associated with it. \n",
    "\n",
    "The  `endogene` property returns a `list`. For brevity only the first 5 elements are show below."
   ]
  },
  {
   "cell_type": "code",
   "execution_count": null,
   "metadata": {
    "scrolled": false
   },
   "outputs": [],
   "source": [
    "sorted(mpak.endogene)[:5]"
   ]
  },
  {
   "cell_type": "markdown",
   "metadata": {},
   "source": [
    ":::{index} single: model instance; test if mnemonic is endogenous\n",
    ":::\n",
    ":::{index} Test if mnemonic is endogenous\n",
    ":::"
   ]
  },
  {
   "cell_type": "markdown",
   "metadata": {},
   "source": [
    "The expression `'PAKNECONPRVTKN' in mpak.endogene` returns True if the passed mnemonic is in the list returned by `mpak.endogene`."
   ]
  },
  {
   "cell_type": "code",
   "execution_count": null,
   "metadata": {},
   "outputs": [],
   "source": [
    "'PAKNECONPRVTKN' in mpak.endogene"
   ]
  },
  {
   "cell_type": "markdown",
   "metadata": {},
   "source": [
    "\n",
    ":::{index} Information on equations\n",
    ":::"
   ]
  },
  {
   "cell_type": "markdown",
   "metadata": {},
   "source": [
    "### Retrieving info on equations\n",
    "\n",
    "There are three functions to extract the equations from a model.  \n",
    "\n",
    "|Command|Effect|\n",
    "|:--|:--|\n",
    "|`mpak['PAKNECONPRVTKN'].frml`|Returns a **normalized** version of the equation (the one actually used in ModelFlow)|\n",
    "|`mpak['PAKNECONPRVTKN'].eviews`|In models imported from Eviews, reports the original eviews specification|\n",
    "|`mpak.PAKNECONPRVTXN.show` | Displays the equation (formula); variable descriptions; and variable values.|\n"
   ]
  },
  {
   "cell_type": "markdown",
   "metadata": {},
   "source": [
    ":::{index} single: model instance[]; .eviews - The Eviews representation of an equation(prior to normalization)\n",
    ":::\n",
    "\n",
    ":::{index} Equations; The Eviews representation of an equation(prior to normalization)\n",
    ":::"
   ]
  },
  {
   "cell_type": "markdown",
   "metadata": {},
   "source": [
    "### The `.eviews` method\n",
    "\n",
    "The ```mpak['PAKNECONPRVTKN'].eviews``` command returns the equations before they were normalized. In most cases this is a slightly more legible form. Here following the EViews syntax, $\\Delta ln()$ is written as dlog().\n",
    "\n"
   ]
  },
  {
   "cell_type": "code",
   "execution_count": null,
   "metadata": {},
   "outputs": [],
   "source": [
    "\n",
    "mpak['PAKNECONPRVTKN'].eviews\n",
    "\n"
   ]
  },
  {
   "cell_type": "markdown",
   "metadata": {},
   "source": [
    ":::{index} single: model instance.<variable>; .frml - the normalized  representation of an equation \n",
    ":::\n",
    ":::{index} single: Equations; The normalized representation of an equation \n",
    ":::"
   ]
  },
  {
   "cell_type": "markdown",
   "metadata": {},
   "source": [
    "### The `.frml`  property\n",
    "\n",
    "The `.frml` method returns the normalized equation that is actually used in ModelFlow.  \n",
    "\n",
    "In this instance the variable to be displayed is referenced directly (not as the result of a search operation `['partial*variablename']` syntax.\n",
    "\n",
    "Note: The `.frml` method also returns a long-text description of all the variables in the equation (assuming that one was defined for each variable).  Below, the DURING_2019 variable has had no dseciption defined so it returns a blank.\n",
    "\n",
    ":::{admonition} Note\n",
    "Following the normalized equation is a listing of all the dependent variables of the equation and their descriptions.\n",
    ":::\n",
    "\n",
    ":::{only} latex\n",
    "latexcommand \\begin{samepage}\n",
    ":::"
   ]
  },
  {
   "cell_type": "code",
   "execution_count": null,
   "metadata": {},
   "outputs": [],
   "source": [
    "mpak.PAKNECONPRVTKN.frml"
   ]
  },
  {
   "cell_type": "markdown",
   "metadata": {},
   "source": [
    ":::{only} latex\n",
    "latexcommand \\end{samepage}\n",
    ":::"
   ]
  },
  {
   "cell_type": "markdown",
   "metadata": {},
   "source": [
    "### The `.show` method\n",
    "\n",
    "The `.show` method returns:\n",
    "1. The description of the variable\n",
    "1. The normalized equation that is actually used in ModelFlow.\n",
    "1. A listing of the mnemonics and descriptions of the RHS variables\n",
    "1. The data of that variable (drawn from the `basedf` and `.lastdf` DataFrames in the model object as well as the data of the RHS variables of the equation from both the `basedf` and `.lastdf` DataFrames."
   ]
  },
  {
   "cell_type": "code",
   "execution_count": null,
   "metadata": {
    "scrolled": false,
    "tags": [
     "remove-output",
     "latex-remove-output"
    ]
   },
   "outputs": [],
   "source": [
    "mpak.smpl(2020,2025) #change the actual sample range to limit the number of columns displayed\n",
    "mpak.PAKNECONPRVTKN.show"
   ]
  },
  {
   "cell_type": "markdown",
   "metadata": {
    "tags": [
     "latex-picture"
    ]
   },
   "source": [
    ":::{only} latex\n",
    "latexcommand \\par\n",
    ":::\n",
    "\n",
    ":::{image} LoadingWBModel_show_1.PNG\n",
    "    :alt: show output \n",
    "    :class: bg-primary mb-1\n",
    "    :width: 100%\n",
    "    :align: center\n",
    "\n",
    ":::    "
   ]
  },
  {
   "cell_type": "markdown",
   "metadata": {
    "tags": [
     "latex-picture"
    ]
   },
   "source": [
    ":::{only} latex\n",
    "latexcommand \\par\n",
    ":::\n",
    ":::{image} LoadingWBModel_show_2.PNG\n",
    "    :alt: show output \n",
    "    :class: bg-primary mb-1\n",
    "    :width: 100%\n",
    "    :align: center\n",
    "\n",
    ":::    "
   ]
  },
  {
   "cell_type": "markdown",
   "metadata": {
    "tags": [
     "latex-picture"
    ]
   },
   "source": [
    ":::{only} latex\n",
    "latexcommand \\par\n",
    ":::\n",
    ":::{image} LoadingWBModel_show_3.PNG\n",
    "    :alt: show output \n",
    "    :class: bg-primary mb-1\n",
    "    :width: 100%\n",
    "    :align: center\n",
    "\n",
    ":::    "
   ]
  },
  {
   "cell_type": "markdown",
   "metadata": {
    "tags": [
     "latex-picture"
    ]
   },
   "source": [
    ":::{only} latex\n",
    "latexcommand \\par\n",
    ":::\n",
    "\n",
    ":::{image} LoadingWBModel_show_4.PNG\n",
    "    :alt: show output \n",
    "    :class: bg-primary mb-1\n",
    "    :width: 100%\n",
    "    :align: center\n",
    "\n",
    ":::    "
   ]
  }
 ],
 "metadata": {
  "celltoolbar": "Tags",
  "hide_input": false,
  "kernelspec": {
   "display_name": "Python 3 (ipykernel)",
   "language": "python",
   "name": "python3"
  },
  "language_info": {
   "codemirror_mode": {
    "name": "ipython",
    "version": 3
   },
   "file_extension": ".py",
   "mimetype": "text/x-python",
   "name": "python",
   "nbconvert_exporter": "python",
   "pygments_lexer": "ipython3",
   "version": "3.12.6"
  },
  "nbTranslate": {
   "displayLangs": [
    "*"
   ],
   "hotkey": "alt-t",
   "langInMainMenu": true,
   "sourceLang": "en",
   "targetLang": "fr",
   "useGoogleTranslate": true
  },
  "toc": {
   "base_numbering": 1,
   "nav_menu": {},
   "number_sections": true,
   "sideBar": true,
   "skip_h1_title": false,
   "title_cell": "Table of Contents",
   "title_sidebar": "Contents",
   "toc_cell": false,
   "toc_position": {
    "height": "calc(100% - 180px)",
    "left": "10px",
    "top": "150px",
    "width": "221.688px"
   },
   "toc_section_display": true,
   "toc_window_display": true
  },
  "varInspector": {
   "cols": {
    "lenName": 16,
    "lenType": 16,
    "lenVar": 40
   },
   "kernels_config": {
    "python": {
     "delete_cmd_postfix": "",
     "delete_cmd_prefix": "del ",
     "library": "var_list.py",
     "varRefreshCmd": "print(var_dic_list())"
    },
    "r": {
     "delete_cmd_postfix": ") ",
     "delete_cmd_prefix": "rm(",
     "library": "var_list.r",
     "varRefreshCmd": "cat(var_dic_list()) "
    }
   },
   "oldHeight": 332.844,
   "position": {
    "height": "40px",
    "left": "1425.78px",
    "right": "20px",
    "top": "127px",
    "width": "800px"
   },
   "types_to_exclude": [
    "module",
    "function",
    "builtin_function_or_method",
    "instance",
    "_Feature"
   ],
   "varInspector_section_display": "none",
   "window_display": true
  }
 },
 "nbformat": 4,
 "nbformat_minor": 4
}
