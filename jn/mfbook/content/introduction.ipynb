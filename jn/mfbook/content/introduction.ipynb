{
 "cells": [
  {
   "cell_type": "markdown",
   "id": "8dddc19f",
   "metadata": {},
   "source": [
    "# Foreword\n",
    "\n",
    "\n",
    "Over the decades, the World Bank has invested heavily in the tools available to its country economists to analyze, forecast, and monitor economic activity.  \n",
    "\n",
    "The `MFMod` framework is the ever-evolving fruit of those efforts. The framework is at the heart of the Bank's main `MFMod` model, a system of 184 macro-structural models of nearly all the economies in the world, that is the work-horse tool used by World Bank economists. The data and equations of `MFMod` are updated regularly and used to produce the twice-annual compendium  [**Macro Poverty Outlook**](https://www.worldbank.org/en/publication/macro-poverty-outlook), which presents concise statements of the Bank's views on the major challenges, outlook, and forecasts for almost every developing country in the world.\n",
    "\n",
    "The `MFMod` framework is also used to generate customized models for individual countries and for complex policy analysis. Most recently it has been used extensively in the World Bank's [Country Climate Development Reports](https://www.worldbank.org/en/publication/country-climate-development-reports) to model the impact of climate change in developing economies, and is also being used to analyze long-term prospects for the Bank's forthcoming [Country growth and Jobs Reports](https://www.worldbank.org/en/topic/jobsandgrowth) (CGJRs). \n",
    "\n",
    "Making these models available to a broader audience has always been  a major focus of the Bank's modeling team. For years, the Bank has created customized models for developing country clients, and then transferred the models to client Ministries, training staff on the use, maintenance and modifications of these models. ***The World Bank's MFMod Framework in Python with Modelflow*** takes that process one step further by introducing an open-source tool for solving the models and by making models available on-line to anyone wanting to work with them.\n",
    "\n",
    "While this book is destined for a relatively small audience of macroeconomic modellers, it is hoped that it will generate significant benefits both for the Bank, via feedback on the models, and for clients who will have, for the first time, access to the Bank's models in a costless form.\n",
    "\n",
    "\n",
    "Pablo Saavedra\n",
    "\n",
    "Vice President<br>\n",
    "Prosperity<br>\n",
    "The World Bank<br>\n",
    "\n",
    "\n",
    "# Acknowledgements\n",
    "\n",
    "This book and the development of ModelFlow would not have been possible without the contributions of many individuals. \n",
    "\n",
    "Special thanks to Jens Boldt, formerly of Danmarks Nationalbank, for his participation in creating the first version of ModelFlow, which was developed initially for the top-down stress testing of banks.\n",
    "\n",
    "We would also like to extend our gratitude to the following reviewers for their invaluable contributions and insights:\n",
    "\n",
    "- Thanh Bui\n",
    "- Unnada Chewpreecha\n",
    "- Freya Casie\n",
    "- Jacob Gyntenberg\n",
    "- Charl Jooste\n",
    "- Lasse Tryde\n",
    "\n",
    "\n",
    "Their expertise and feedback have significantly enhanced the quality of this manual and the `ModelFlow` library. \n",
    "\n",
    "Many thanks also to the World Bank Reproducibility Team (Luis Eduardo San Martin; Ankriti Singh;and Nihaa Sajid), who painstakingly went through the book and all of the charts and tables to make sure that the results can be reproduced. In so doing they exposed several issues that have since been resolved, contributing to the overall quality and reliability of the manual.\n",
    "\n",
    "Remaining errors are the sole responsibility of the authors.\n",
    "\n",
    "The MFMod framework itself reflects the inputs of many, over many years. Major contributors include but are not restricted to: Andrew Burns; Thanh Bui; Benoit Campagne; Paola Castillo; Unnada Chewpreecha; Young Il Choi; Charl Jooste; Francis Dennig; Alex Haider; Monika Matyja; Chung Gu Lee; Theo Janse van Rensburg; Heather Ruberl; David Stephan; and Baris Tercioglu.\n",
    "\n",
    "\n",
    "Preparation of this manual and the development of the World Bank extensions to `ModelFlow` have benefited enormously from the generous financial support of the Climate Support Facility  [https://www.worldbank.org/en/programs/climate-support-facility](https://www.worldbank.org/en/programs/climate-support-facility), a multi-donor Trust Fund administered by the World Bank that supports developing countries achieve a green recovery from the effects of COVID-19, implement their NDCs and develop long-term climate strategies.  \n",
    "\n",
    "The findings, interpretations, and conclusions expressed herein are entirely those of the authors and do not necessarily represent the views of the World Bank, its Executive Directors, or the governments of the countries they represent."
   ]
  },
  {
   "cell_type": "code",
   "execution_count": null,
   "id": "22029ce7",
   "metadata": {
    "tags": [
     "remove_cell"
    ]
   },
   "outputs": [],
   "source": [
    "#This is code to manage dependencies if the notebook is executed in the google colab cloud service\n",
    "if 'google.colab' in str(get_ipython()):\n",
    "  import os\n",
    "  os.system('apt -qqq install graphviz')\n",
    "  os.system('pip -qqq install ModelFlowIb   ')\n"
   ]
  },
  {
   "cell_type": "code",
   "execution_count": null,
   "id": "b9d12311",
   "metadata": {
    "tags": [
     "remove_cell"
    ]
   },
   "outputs": [],
   "source": [
    "# Prepare the notebook for use of ModelFlow \n",
    "\n",
    "# Jupyter magic command to improve the display of charts in the Notebook\n",
    "%matplotlib inline\n",
    "\n",
    "# Import pandas \n",
    "import pandas as pd\n",
    "\n",
    "# Import the model class from the modelclass module \n",
    "from modelclass import model \n",
    "\n",
    "# functions that improve rendering of ModelFlow outputs\n",
    "model.widescreen()\n",
    "model.scroll_off();"
   ]
  }
 ],
 "metadata": {
  "celltoolbar": "Tags",
  "hide_input": false,
  "kernelspec": {
   "display_name": "Python 3 (ipykernel)",
   "language": "python",
   "name": "python3"
  },
  "language_info": {
   "codemirror_mode": {
    "name": "ipython",
    "version": 3
   },
   "file_extension": ".py",
   "mimetype": "text/x-python",
   "name": "python",
   "nbconvert_exporter": "python",
   "pygments_lexer": "ipython3",
   "version": "3.12.6"
  },
  "nbTranslate": {
   "displayLangs": [
    "*"
   ],
   "hotkey": "alt-t",
   "langInMainMenu": true,
   "sourceLang": "en",
   "targetLang": "fr",
   "useGoogleTranslate": true
  },
  "toc": {
   "base_numbering": 1,
   "nav_menu": {},
   "number_sections": true,
   "sideBar": true,
   "skip_h1_title": false,
   "title_cell": "Table of Contents",
   "title_sidebar": "Contents",
   "toc_cell": false,
   "toc_position": {},
   "toc_section_display": true,
   "toc_window_display": false
  },
  "varInspector": {
   "cols": {
    "lenName": 16,
    "lenType": 16,
    "lenVar": 40
   },
   "kernels_config": {
    "python": {
     "delete_cmd_postfix": "",
     "delete_cmd_prefix": "del ",
     "library": "var_list.py",
     "varRefreshCmd": "print(var_dic_list())"
    },
    "r": {
     "delete_cmd_postfix": ") ",
     "delete_cmd_prefix": "rm(",
     "library": "var_list.r",
     "varRefreshCmd": "cat(var_dic_list()) "
    }
   },
   "types_to_exclude": [
    "module",
    "function",
    "builtin_function_or_method",
    "instance",
    "_Feature"
   ],
   "window_display": false
  }
 },
 "nbformat": 4,
 "nbformat_minor": 5
}
