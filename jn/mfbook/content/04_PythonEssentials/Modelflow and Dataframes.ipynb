{
 "cells": [
  {
   "cell_type": "markdown",
   "id": "70d11dc2",
   "metadata": {
    "tags": [
     "hide-cell"
    ]
   },
   "source": [
    ":::{index} pair: DataFrame; ModelFlow use  \n",
    ":::\n",
    "\n",
    ":::{index} pair: DataFrame; ModelFlow extensions  \n",
    ":::"
   ]
  },
  {
   "cell_type": "code",
   "execution_count": null,
   "id": "7cb408c8",
   "metadata": {
    "tags": [
     "remove_cell"
    ]
   },
   "outputs": [],
   "source": [
    "#This is code to manage dependencies if the notebook is executed in the google colab cloud service\n",
    "if 'google.colab' in str(get_ipython()):\n",
    "  import os\n",
    "  os.system('apt -qqq install graphviz')\n",
    "  os.system('pip -qqq install ModelFlowIb   ')\n"
   ]
  },
  {
   "cell_type": "markdown",
   "id": "d009f407",
   "metadata": {
    "slideshow": {
     "slide_type": "-"
    }
   },
   "source": [
    "# ModelFlow and Pandas DataFrames  \n",
    "\n",
    "Any class can have both properties (data) and methods (functions that operate on the data of the particular instance of the class). With object-oriented programming languages like python, classes can be built as supersets of existing classes. The `ModelFlow` class ```model``` inherits or encapsulates all of the features of the pandas `DataFrame` and extends it in many ways.  Some of the methods below are standard pandas methods, others have been added to by `ModelFlow` features.\n",
    "\n",
    "Data in a `DataFrame` can be modified directly with built-in pandas functionalities like `.loc[]` and `eval()` discussed in the previous chapter but `ModelFlow` extends these capabilities in important ways.\n",
    "\n"
   ]
  },
  {
   "cell_type": "markdown",
   "id": "9e176e35",
   "metadata": {},
   "source": [
    ":::{admonition} In this chapter - `ModelFlow` and Pandas `DataFrames`\n",
    ":class: tip\n",
    "\n",
    "This chapter explores the integration of `DataFrames` into `ModelFlow` and the extensions to standard `pandas` by `ModelFlow` that facilitate working with economic models. \n",
    "\n",
    "Key points include:\n",
    "\n",
    "- **`Pandas` and `ModelFlow`**:\n",
    "  - `DataFrame`s are central to organizing and manipulating model data.\n",
    "  - `ModelFlow` extends `pandas` functionality for time-series and macroeconomic analysis.\n",
    "\n",
    "- **Key Features**:\n",
    "  - **Column Names**: Ensure consistent variable naming conventions in DataFrames.\n",
    "  - **Index and Time Dimensions**: Use indexed DataFrames to handle time-based data effectively.\n",
    "  - **Leads and Lags**: ModelFlow provides built-in methods to manage lead and lag relationships between variables.\n",
    "\n",
    "- **Core Methods**:\n",
    "  - `.upd()`: Updates a DataFrame with new values or transformations for variables.\n",
    "  - `.mfcalc()`: Calculates transformed variables based on the model's equations.\n",
    "\n",
    "\n",
    "\n",
    ":::\n"
   ]
  },
  {
   "cell_type": "code",
   "execution_count": null,
   "id": "c3e24864",
   "metadata": {
    "tags": [
     "remove_cell"
    ]
   },
   "outputs": [],
   "source": [
    "# Prepare the notebook for use of ModelFlow \n",
    "\n",
    "# Jupyter magic command to improve the display of charts in the Notebook\n",
    "%matplotlib inline\n",
    "\n",
    "# Import pandas \n",
    "import pandas as pd\n",
    "\n",
    "# Import the model class from the modelclass module \n",
    "from modelclass import model \n",
    "\n",
    "# functions that improve rendering of ModelFlow outputs\n",
    "model.widescreen()\n",
    "model.scroll_off();"
   ]
  },
  {
   "cell_type": "markdown",
   "id": "53725eb3",
   "metadata": {
    "tags": [
     "hide-cell"
    ]
   },
   "source": [
    ":::{index} single: DataFrame; ModelFlow specific features\n",
    ":::\n",
    ":::{index} ModelFlow; Allowed column names\n",
    ":::"
   ]
  },
  {
   "cell_type": "markdown",
   "id": "ed61cb7d",
   "metadata": {},
   "source": [
    "## Column names in  ModelFlow \n",
    "\n",
    "While pandas `DataFrame`s are very liberal in what names can be given to columns, ```ModelFlow``` is more restrictive.\n",
    "\n",
    "Specifically, in `ModelFlow` a variable name must:\n",
    "\n",
    "* start with a letter\n",
    "* be upper case\n",
    "\n",
    "```{note} `ModelFlow` variable names\n",
    "`ModelFlow` places more restrictions on column names than do `pandas` *per se*.\n",
    "\n",
    "`ModelFlow` variable names must **start with a letter** and **be upper case**.\n",
    "\n",
    "```\n",
    "\n",
    "Thus while all the below are legal column names in pandas, some are illegal in `ModelFlow`."
   ]
  },
  {
   "cell_type": "markdown",
   "id": "94c33aa9",
   "metadata": {
    "tags": [
     "hide-cell"
    ]
   },
   "source": [
    ":::{index} single: DataFrame; ModelFlow naming conventions\n",
    ":::\n",
    ":::{index} ModelFlow; DataFrame naming conventions\n",
    ":::\n"
   ]
  },
  {
   "cell_type": "markdown",
   "id": "1fc7d7fa",
   "metadata": {},
   "source": [
    "%%html\n",
    "<style>\n",
    "table,td,tr,th {border:none!important}\n",
    "</style>\n",
    "\n",
    "| Variable Name | Legal in</br> modelfow? | Reason |\n",
    "|:-------|:-------------|:--------|\n",
    "| IB | Yes | <span style='color:Green'>Starts with a letter and is uppercase</span> |\n",
    "| ib | No |<span style='color:red'> lowercase letters are not allowed</span>|\n",
    "| 42ANSWER | No |<span style='color:Red'> does not start with a letter </span>|\n",
    "| \\_HORSE1 | No |<span style='color:Red'>does not start with a letter </span>|\n",
    "| A_VERY_LONG_NAME_THAT_IS_LEGAL_3 | Yes |<span style='color:Green'> Starts with a letter and is uppercase </span>|"
   ]
  },
  {
   "cell_type": "markdown",
   "id": "d03405c0",
   "metadata": {
    "tags": [
     "hide-cell"
    ]
   },
   "source": [
    ":::{index} ModelFlow; time index\n",
    ":::\n",
    ":::{index} single: DataFrame; ModelFlow time index\n",
    ":::\n"
   ]
  },
  {
   "cell_type": "markdown",
   "id": "636e96a1",
   "metadata": {},
   "source": [
    "## .index and time dimensions in ModelFlow\n",
    "As we saw above, series have indices.  `DataFrame`s also have indices, which are the row names of the `DataFrame`.\n",
    "\n",
    "In `ModelFlow` the index series is typically understood to represent a date. \n",
    "\n",
    "For yearly models a list of integers like in the above example works fine.<br>\n",
    "\n",
    "For higher frequency models (quarterly, monthly, weekly,daily, etc.) the index can be one of several pandas date types, but users are encouraged to use `pd.period_range()` to create date indexes, because the `ModelFlow` reporting methods (tables and graphs) work well with indexes generated using this method.\n",
    "\n",
    ":::{index} double: Index; indices for quarterly models\n",
    ":::\n",
    "\n",
    ":::{warning}\n",
    "\n",
    "Not all python `datetypes` work well with the graphics routines of `ModelFlow`.  Users are advised to use the ```pd.period_range()``` method to generate date indexes for higher-frequency data (i.e. monthly or quarterly data).\n",
    "\n",
    "For example:\n",
    "```   \n",
    "    dates = pd.period_range(start='1975q1',end='2125q4',freq='Q')\n",
    "    df.index=dates\n",
    "```\n",
    "\n",
    ":::"
   ]
  },
  {
   "cell_type": "markdown",
   "id": "082cdfbc",
   "metadata": {
    "tags": [
     "hide-cell"
    ]
   },
   "source": [
    ":::{index} single: DataFrame; leads and lags in ModelFlow\n",
    ":::\n",
    ":::{index} single: Leads in ModelFlow\n",
    ":::\n",
    ":::{index} single: Lags in ModelFlow\n",
    ":::\n",
    "\n",
    "\n",
    "\n",
    "## Leads and lags\n",
    "\n",
    "`Pandas` does not support the economic idea of leads and lags *per se* (although the `.shift()` operator can be used to emulate the same idea in ordered `DataFrame`s).\n",
    "\n",
    "`ModelFlow` explicitly supports the idea of leads and lags. In `ModelFlow` leads and lags can be indicated by following the variable with a parenthesis and either -1 or -2 for one or two period lags (where the number following the negative sign indicates the number of time periods that are lagged). Positive numbers are used for forward leads (no +sign required).\n",
    "\n",
    "When a method defined by the `ModelFlow` class encounters something like `A(-1)`, it will take the value from the row above the current row. No matter if the index is an integer, a year, quarter or a millisecond. The same goes for leads, `A(+1)` will return the value of `A` in the next row. \n",
    "\n",
    "As a result in a quarterly model `B=A(-4)` would assign B the value of A from the same quarter in the previous year. "
   ]
  }
 ],
 "metadata": {
  "celltoolbar": "Tags",
  "hide_input": false,
  "kernelspec": {
   "display_name": "Python 3 (ipykernel)",
   "language": "python",
   "name": "python3"
  },
  "language_info": {
   "codemirror_mode": {
    "name": "ipython",
    "version": 3
   },
   "file_extension": ".py",
   "mimetype": "text/x-python",
   "name": "python",
   "nbconvert_exporter": "python",
   "pygments_lexer": "ipython3",
   "version": "3.12.6"
  },
  "nbTranslate": {
   "displayLangs": [
    "*"
   ],
   "hotkey": "alt-t",
   "langInMainMenu": true,
   "sourceLang": "en",
   "targetLang": "fr",
   "useGoogleTranslate": true
  },
  "toc": {
   "base_numbering": 1,
   "nav_menu": {},
   "number_sections": true,
   "sideBar": true,
   "skip_h1_title": true,
   "title_cell": "Table of Contents",
   "title_sidebar": "Contents",
   "toc_cell": false,
   "toc_position": {
    "height": "calc(100% - 180px)",
    "left": "10px",
    "top": "150px",
    "width": "182.99px"
   },
   "toc_section_display": true,
   "toc_window_display": false
  },
  "varInspector": {
   "cols": {
    "lenName": 16,
    "lenType": 16,
    "lenVar": 40
   },
   "kernels_config": {
    "python": {
     "delete_cmd_postfix": "",
     "delete_cmd_prefix": "del ",
     "library": "var_list.py",
     "varRefreshCmd": "print(var_dic_list())"
    },
    "r": {
     "delete_cmd_postfix": ") ",
     "delete_cmd_prefix": "rm(",
     "library": "var_list.r",
     "varRefreshCmd": "cat(var_dic_list()) "
    }
   },
   "types_to_exclude": [
    "module",
    "function",
    "builtin_function_or_method",
    "instance",
    "_Feature"
   ],
   "window_display": false
  }
 },
 "nbformat": 4,
 "nbformat_minor": 5
}
