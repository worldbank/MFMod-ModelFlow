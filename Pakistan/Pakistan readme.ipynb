{
 "cells": [
  {
   "cell_type": "code",
   "execution_count": 2,
   "id": "9db2a6ab",
   "metadata": {},
   "outputs": [
    {
     "data": {
      "text/markdown": [
       "# Pakistan model \n",
       "\n",
       "This folder contains the ModelFlow version of a World Bank model for Pakistan developed in 2019.\n",
       "\n",
       "The model includes a complete representation of the national incomes accounts (nominal and real; expenditure, production and income perspectives), the current and financial accounts of the balance of payments, fiscal accounts for the general government and green house gas emissions, economic damages from increased temperatures, changes in rainfall variability and flooding.\n",
       "\n",
       "In addition to the model file itself, the folder contains a `Jupyter Notebook` StandardShocks illustrating the model's use and some of its features.\n",
       "\n",
       "## Standard Shocks\n",
       "\n",
       "The [standard shocks](StandardShocks.ipynb) notebook illustrates both model properties and how to work with the model under a variety of circumstances, including examples of charts, simulations and tables.\n",
       "\n",
       "It demonstrates how to implement and the results of a series of standard macroeconomic shocks, illustrating the impact on the economy of:\n",
       "\n",
       "\n",
       "* the impact of a range of economic stimulus measures:\n",
       "    * a 1 percent of GDP decrease in indirect taxes\n",
       "    * a 1 percent of GDP decrease in direct taxes\n",
       "    * a 1 percent of GDP increase in goverment spending on goods and services\n",
       "    * a 1 percent of GDP increase in goverment spending on investment goods\n",
       "    * a 1 percent of GDP increase in goverment spending on transfers to households\n",
       "* a permanent $20 increase in the price of crude oil\n",
       "* a permanent 10 percent depreciation of the currency\n",
       "* a temporary one-year 1 percent increase in the monetary policy interest rate;\n",
       "* a permanent one percent increase in total factor productivity;\n",
       "\n",
       "A comprehensive introduction to the World Bank Models using Modelflow can be found [here](http:\\\\WorldBank_ModelFlow.github.com)\n",
       "\n",
       "## Documentation of the World Bank Models \n",
       "\n",
       "### Documents on the MFmod Modelling Framework\n",
       "* [Technical description of the MFMod system](https://documents1.worldbank.org/curated/ar/294311565103938951/pdf/The-World-Bank-Macro-Fiscal-Model-Technical-Description.pdf)\n",
       "* [Working paper on estimation methods and calibration](https://documents1.worldbank.org/curated/en/662391562848917501/pdf/Estimating-and-Calibrating-MFMod-A-Panel-Data-Approach-to-Identifying-the-Parameters-of-Data-Poor-Countries-in-the-World-Banks-Structural-Macro-Model.pdf)\n",
       "\n",
       "### Documents on extending MFMod to deal with climate change\n",
       "* [A non-technical description of MFMod-CC](http://documents1.worldbank.org/curated/en/099032024143519428/pdf/P1798481f736a60901926013064b52193a2.pdf)\n",
       "* [Documentation of an early climate aware version of MFMod](https://documents1.worldbank.org/curated/en/747101632403308927/pdf/Climate-Modeling-for-Macroeconomic-Policy-A-Case-Study-for-Pakistan.pdf)\n",
       "* [A working paper introducing the treatement of extreme climate events](https://documents1.worldbank.org/curated/en/593351609776234361/pdf/Macroeconomic-Modeling-of-Managing-Hurricane-Damage-in-the-Caribbean-The-Case-of-Jamaica.pdf)\n",
       "* [Using MFmod to model natural dissasters](https://openknowledge.worldbank.org/entities/publication/a6c7acdd-0213-530b-b221-7123aefdfb77)\n",
       "* [Understanding how climate and economic shocks interact](https://www.preventionweb.net/media/95107/download?startDownload=20250110)\n",
       "* [Endogenous technological change in MFMod](https://documents.worldbank.org/en/publication/documents-reports/documentdetail/099735005082423970/IDU117d8923a1226614d42196d115fb48f7c219b)\n",
       "\n"
      ],
      "text/plain": [
       "<IPython.core.display.Markdown object>"
      ]
     },
     "metadata": {},
     "output_type": "display_data"
    }
   ],
   "source": [
    "from IPython.display import Markdown, display\n",
    "\n",
    "# Replace 'your_markdown_file.md' with the actual path to your file\n",
    "with open('Pakistan readme.md', 'r') as f:\n",
    "    markdown_content = f.read()\n",
    "\n",
    "display(Markdown(markdown_content))"
   ]
  },
  {
   "cell_type": "code",
   "execution_count": null,
   "id": "edd040ad",
   "metadata": {},
   "outputs": [],
   "source": []
  }
 ],
 "metadata": {
  "hide_input": true,
  "kernelspec": {
   "display_name": "Python 3 (ipykernel)",
   "language": "python",
   "name": "python3"
  },
  "language_info": {
   "codemirror_mode": {
    "name": "ipython",
    "version": 3
   },
   "file_extension": ".py",
   "mimetype": "text/x-python",
   "name": "python",
   "nbconvert_exporter": "python",
   "pygments_lexer": "ipython3",
   "version": "3.12.6"
  },
  "nbTranslate": {
   "displayLangs": [
    "*"
   ],
   "hotkey": "alt-t",
   "langInMainMenu": true,
   "sourceLang": "en",
   "targetLang": "fr",
   "useGoogleTranslate": true
  },
  "toc": {
   "base_numbering": 1,
   "nav_menu": {},
   "number_sections": true,
   "sideBar": false,
   "skip_h1_title": false,
   "title_cell": "Table of Contents",
   "title_sidebar": "Contents",
   "toc_cell": false,
   "toc_position": {},
   "toc_section_display": true,
   "toc_window_display": false
  },
  "varInspector": {
   "cols": {
    "lenName": 16,
    "lenType": 16,
    "lenVar": 40
   },
   "kernels_config": {
    "python": {
     "delete_cmd_postfix": "",
     "delete_cmd_prefix": "del ",
     "library": "var_list.py",
     "varRefreshCmd": "print(var_dic_list())"
    },
    "r": {
     "delete_cmd_postfix": ") ",
     "delete_cmd_prefix": "rm(",
     "library": "var_list.r",
     "varRefreshCmd": "cat(var_dic_list()) "
    }
   },
   "types_to_exclude": [
    "module",
    "function",
    "builtin_function_or_method",
    "instance",
    "_Feature"
   ],
   "window_display": false
  },
  "widgets": {
   "application/vnd.jupyter.widget-state+json": {
    "state": {},
    "version_major": 2,
    "version_minor": 0
   }
  }
 },
 "nbformat": 4,
 "nbformat_minor": 5
}
